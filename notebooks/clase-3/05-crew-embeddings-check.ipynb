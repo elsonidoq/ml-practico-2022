{
  "cells": [
    {
      "cell_type": "code",
      "execution_count": 1,
      "metadata": {
        "colab": {
          "base_uri": "https://localhost:8080/"
        },
        "id": "t7H6hB6tbqsY",
        "outputId": "f678926b-2234-4914-e932-993799cacb0e"
      },
      "outputs": [
        {
          "output_type": "stream",
          "name": "stdout",
          "text": [
            "Looking in indexes: https://pypi.org/simple, https://us-python.pkg.dev/colab-wheels/public/simple/\n",
            "Requirement already satisfied: beautifulsoup4 in /usr/local/lib/python3.7/dist-packages (4.6.3)\n"
          ]
        }
      ],
      "source": [
        "!pip install beautifulsoup4\n",
        "!pip install requests_cache"
      ]
    },
    {
      "cell_type": "code",
      "source": [
        "# Montamos nuestro google drive en el colab\n",
        "\n",
        "from google.colab import drive\n",
        "\n",
        "drive.mount('/content/gdrive')"
      ],
      "metadata": {
        "colab": {
          "base_uri": "https://localhost:8080/"
        },
        "id": "Sn4sDWUCbuPE",
        "outputId": "dad431b6-389f-4f26-a717-4900c359d659"
      },
      "execution_count": 1,
      "outputs": [
        {
          "output_type": "stream",
          "name": "stdout",
          "text": [
            "Drive already mounted at /content/gdrive; to attempt to forcibly remount, call drive.mount(\"/content/gdrive\", force_remount=True).\n"
          ]
        }
      ]
    },
    {
      "cell_type": "code",
      "execution_count": 2,
      "metadata": {
        "id": "WoOwBdAAbqsb"
      },
      "outputs": [],
      "source": [
        "from gensim.models import Word2Vec"
      ]
    },
    {
      "cell_type": "code",
      "execution_count": 3,
      "metadata": {
        "id": "pwKV-j5Vbqsb"
      },
      "outputs": [],
      "source": [
        "class EpochSaver: pass"
      ]
    },
    {
      "cell_type": "code",
      "execution_count": 4,
      "metadata": {
        "id": "fDOVnkF5bqsb"
      },
      "outputs": [],
      "source": [
        "from pathlib import Path\n",
        "DATA_HOME = Path(\"/content/gdrive/My Drive/ml-practico-data\")"
      ]
    },
    {
      "cell_type": "code",
      "execution_count": 5,
      "metadata": {
        "id": "PBVizhNsbqsc"
      },
      "outputs": [],
      "source": [
        "model = Word2Vec.load(str(DATA_HOME / 'w2v/epoch_10'))"
      ]
    },
    {
      "cell_type": "code",
      "execution_count": 46,
      "metadata": {
        "id": "2_2Ta_KWbqsc"
      },
      "outputs": [],
      "source": [
        "from IPython.display import HTML, display\n",
        "from bs4 import BeautifulSoup\n",
        "import requests\n",
        "import requests_cache\n",
        "\n",
        "requests_cache.install_cache()\n",
        "\n",
        "def get_name(id):\n",
        "    response = requests.get(f'https://www.imdb.com/name/{id}/')\n",
        "    soup = BeautifulSoup(response.content)\n",
        "    return soup.select('.header .itemprop')[0].text\n",
        "\n",
        "def get_image(id):\n",
        "    response = requests.get(f'https://www.imdb.com/name/{id}/')\n",
        "    soup = BeautifulSoup(response.content)\n",
        "    candidates = soup.select('#name-poster')\n",
        "    return candidates[0].attrs['src'] if candidates else 'https://m.media-amazon.com/images/G/01/imdb/images/nopicture/medium/name-2135195744._CB466677935_.png'\n",
        "\n",
        "def render_person(id):\n",
        "    name = get_name(id)\n",
        "    picture = get_image(id)\n",
        "    return f\"\"\"\n",
        "    <div style=\"width: 150px; text-align: center\">\n",
        "        <h4 style='margin-top: -5px'>{name}</h4>\n",
        "        <div style='font-size:75%; margin-bottom: 5px'>{id}</div>\n",
        "        <a href=\"https://www.imdb.com/name/{id}\" target=\"_blank\">\n",
        "            <img style=\"width: 100px; display: block; margin-left: auto; margin-right: auto;\" src=\"{picture}\"/>\n",
        "        </a>\n",
        "    </div>\n",
        "    \"\"\""
      ]
    },
    {
      "cell_type": "code",
      "execution_count": 34,
      "metadata": {
        "id": "LpF1T4uobqsd"
      },
      "outputs": [],
      "source": [
        "def show_similars(id, n=10):\n",
        "    display(HTML(render_person(id)))\n",
        "    renders = []\n",
        "    for similar_id, score in model.wv.most_similar(id, topn=n):\n",
        "        renders.append(render_person(similar_id))\n",
        "        \n",
        "    carousel = ''.join(\n",
        "        [\n",
        "            f'<div style=\"margin-left: 10px; float: left\">{p}</div>' \n",
        "            for p in renders\n",
        "        ]\n",
        "    )\n",
        "    display(HTML(f'<div style=\"width: 1800px\">{carousel}</div>'))"
      ]
    },
    {
      "cell_type": "code",
      "execution_count": 35,
      "metadata": {
        "colab": {
          "base_uri": "https://localhost:8080/",
          "height": 427
        },
        "id": "Hvj-0jgGbqsd",
        "outputId": "b37ad6d1-4f1b-45cf-93d7-e05e72ac0555"
      },
      "outputs": [
        {
          "output_type": "display_data",
          "data": {
            "text/plain": [
              "<IPython.core.display.HTML object>"
            ],
            "text/html": [
              "\n",
              "    <div style=\"width: 150px; text-align: center; height: 200px\">\n",
              "        <h4 style='margin-top: -5px'>Angelina Jolie</h4>\n",
              "        <div style='font-size:75%; margin-bottom: 5px'>nm0001401</div>\n",
              "        <a href=\"https://www.imdb.com/name/nm0001401\" target=\"_blank\">\n",
              "            <img style=\"width: 100px; display: block; margin-left: auto; margin-right: auto;\" src=\"https://m.media-amazon.com/images/M/MV5BODg3MzYwMjE4N15BMl5BanBnXkFtZTcwMjU5NzAzNw@@._V1_UY317_CR22,0,214,317_AL_.jpg\"/>\n",
              "        </a>\n",
              "    </div>\n",
              "    "
            ]
          },
          "metadata": {}
        },
        {
          "output_type": "display_data",
          "data": {
            "text/plain": [
              "<IPython.core.display.HTML object>"
            ],
            "text/html": [
              "<div style=\"width: 1800px\"><div style=\"margin-left: 10px; float: left\">\n",
              "    <div style=\"width: 150px; text-align: center; height: 200px\">\n",
              "        <h4 style='margin-top: -5px'>Brad Pitt</h4>\n",
              "        <div style='font-size:75%; margin-bottom: 5px'>nm0000093</div>\n",
              "        <a href=\"https://www.imdb.com/name/nm0000093\" target=\"_blank\">\n",
              "            <img style=\"width: 100px; display: block; margin-left: auto; margin-right: auto;\" src=\"https://m.media-amazon.com/images/M/MV5BMjA1MjE2MTQ2MV5BMl5BanBnXkFtZTcwMjE5MDY0Nw@@._V1_UX214_CR0,0,214,317_AL_.jpg\"/>\n",
              "        </a>\n",
              "    </div>\n",
              "    </div><div style=\"margin-left: 10px; float: left\">\n",
              "    <div style=\"width: 150px; text-align: center; height: 200px\">\n",
              "        <h4 style='margin-top: -5px'>Leonardo DiCaprio</h4>\n",
              "        <div style='font-size:75%; margin-bottom: 5px'>nm0000138</div>\n",
              "        <a href=\"https://www.imdb.com/name/nm0000138\" target=\"_blank\">\n",
              "            <img style=\"width: 100px; display: block; margin-left: auto; margin-right: auto;\" src=\"https://m.media-amazon.com/images/M/MV5BMjI0MTg3MzI0M15BMl5BanBnXkFtZTcwMzQyODU2Mw@@._V1_UY317_CR10,0,214,317_AL_.jpg\"/>\n",
              "        </a>\n",
              "    </div>\n",
              "    </div><div style=\"margin-left: 10px; float: left\">\n",
              "    <div style=\"width: 150px; text-align: center; height: 200px\">\n",
              "        <h4 style='margin-top: -5px'>Scarlett Johansson</h4>\n",
              "        <div style='font-size:75%; margin-bottom: 5px'>nm0424060</div>\n",
              "        <a href=\"https://www.imdb.com/name/nm0424060\" target=\"_blank\">\n",
              "            <img style=\"width: 100px; display: block; margin-left: auto; margin-right: auto;\" src=\"https://m.media-amazon.com/images/M/MV5BMTM3OTUwMDYwNl5BMl5BanBnXkFtZTcwNTUyNzc3Nw@@._V1_UY317_CR23,0,214,317_AL_.jpg\"/>\n",
              "        </a>\n",
              "    </div>\n",
              "    </div><div style=\"margin-left: 10px; float: left\">\n",
              "    <div style=\"width: 150px; text-align: center; height: 200px\">\n",
              "        <h4 style='margin-top: -5px'>Jennifer Connelly</h4>\n",
              "        <div style='font-size:75%; margin-bottom: 5px'>nm0000124</div>\n",
              "        <a href=\"https://www.imdb.com/name/nm0000124\" target=\"_blank\">\n",
              "            <img style=\"width: 100px; display: block; margin-left: auto; margin-right: auto;\" src=\"https://m.media-amazon.com/images/M/MV5BNWM0OTlhYmQtZWI0NS00NzM0LWE5YjItMWZmYzkzY2FmNTc2XkEyXkFqcGdeQXVyMTEyMjM2NDc2._V1_UX214_CR0,0,214,317_AL_.jpg\"/>\n",
              "        </a>\n",
              "    </div>\n",
              "    </div><div style=\"margin-left: 10px; float: left\">\n",
              "    <div style=\"width: 150px; text-align: center; height: 200px\">\n",
              "        <h4 style='margin-top: -5px'>Robert Downey Jr.</h4>\n",
              "        <div style='font-size:75%; margin-bottom: 5px'>nm0000375</div>\n",
              "        <a href=\"https://www.imdb.com/name/nm0000375\" target=\"_blank\">\n",
              "            <img style=\"width: 100px; display: block; margin-left: auto; margin-right: auto;\" src=\"https://m.media-amazon.com/images/M/MV5BNzg1MTUyNDYxOF5BMl5BanBnXkFtZTgwNTQ4MTE2MjE@._V1_UX214_CR0,0,214,317_AL_.jpg\"/>\n",
              "        </a>\n",
              "    </div>\n",
              "    </div><div style=\"margin-left: 10px; float: left\">\n",
              "    <div style=\"width: 150px; text-align: center; height: 200px\">\n",
              "        <h4 style='margin-top: -5px'>Nicolas Cage</h4>\n",
              "        <div style='font-size:75%; margin-bottom: 5px'>nm0000115</div>\n",
              "        <a href=\"https://www.imdb.com/name/nm0000115\" target=\"_blank\">\n",
              "            <img style=\"width: 100px; display: block; margin-left: auto; margin-right: auto;\" src=\"https://m.media-amazon.com/images/M/MV5BMjUxMjE4MTQxMF5BMl5BanBnXkFtZTcwNzc2MDM1NA@@._V1_UY317_CR9,0,214,317_AL_.jpg\"/>\n",
              "        </a>\n",
              "    </div>\n",
              "    </div><div style=\"margin-left: 10px; float: left\">\n",
              "    <div style=\"width: 150px; text-align: center; height: 200px\">\n",
              "        <h4 style='margin-top: -5px'>Christian Bale</h4>\n",
              "        <div style='font-size:75%; margin-bottom: 5px'>nm0000288</div>\n",
              "        <a href=\"https://www.imdb.com/name/nm0000288\" target=\"_blank\">\n",
              "            <img style=\"width: 100px; display: block; margin-left: auto; margin-right: auto;\" src=\"https://m.media-amazon.com/images/M/MV5BMTkxMzk4MjQ4MF5BMl5BanBnXkFtZTcwMzExODQxOA@@._V1_UX214_CR0,0,214,317_AL_.jpg\"/>\n",
              "        </a>\n",
              "    </div>\n",
              "    </div><div style=\"margin-left: 10px; float: left\">\n",
              "    <div style=\"width: 150px; text-align: center; height: 200px\">\n",
              "        <h4 style='margin-top: -5px'>Matt Damon</h4>\n",
              "        <div style='font-size:75%; margin-bottom: 5px'>nm0000354</div>\n",
              "        <a href=\"https://www.imdb.com/name/nm0000354\" target=\"_blank\">\n",
              "            <img style=\"width: 100px; display: block; margin-left: auto; margin-right: auto;\" src=\"https://m.media-amazon.com/images/M/MV5BMTM0NzYzNDgxMl5BMl5BanBnXkFtZTcwMDg2MTMyMw@@._V1_UY317_CR11,0,214,317_AL_.jpg\"/>\n",
              "        </a>\n",
              "    </div>\n",
              "    </div><div style=\"margin-left: 10px; float: left\">\n",
              "    <div style=\"width: 150px; text-align: center; height: 200px\">\n",
              "        <h4 style='margin-top: -5px'>Joaquin Phoenix</h4>\n",
              "        <div style='font-size:75%; margin-bottom: 5px'>nm0001618</div>\n",
              "        <a href=\"https://www.imdb.com/name/nm0001618\" target=\"_blank\">\n",
              "            <img style=\"width: 100px; display: block; margin-left: auto; margin-right: auto;\" src=\"https://m.media-amazon.com/images/M/MV5BZGMyY2Q4NTEtMWVkZS00NzcwLTkzNmQtYzBlMWZhZGNhMDhkXkEyXkFqcGdeQXVyNjk1MjYyNTA@._V1_UX214_CR0,0,214,317_AL_.jpg\"/>\n",
              "        </a>\n",
              "    </div>\n",
              "    </div><div style=\"margin-left: 10px; float: left\">\n",
              "    <div style=\"width: 150px; text-align: center; height: 200px\">\n",
              "        <h4 style='margin-top: -5px'>Natalie Portman</h4>\n",
              "        <div style='font-size:75%; margin-bottom: 5px'>nm0000204</div>\n",
              "        <a href=\"https://www.imdb.com/name/nm0000204\" target=\"_blank\">\n",
              "            <img style=\"width: 100px; display: block; margin-left: auto; margin-right: auto;\" src=\"https://m.media-amazon.com/images/M/MV5BYzU0ZGRhZWItMGJlNy00YzlkLWIzOWYtNDA2NzlhMDg3YjMwXkEyXkFqcGdeQXVyMDM2NDM2MQ@@._V1_UX214_CR0,0,214,317_AL_.jpg\"/>\n",
              "        </a>\n",
              "    </div>\n",
              "    </div></div>"
            ]
          },
          "metadata": {}
        }
      ],
      "source": [
        "show_similars('nm0001401')"
      ]
    },
    {
      "cell_type": "code",
      "execution_count": 36,
      "metadata": {
        "colab": {
          "base_uri": "https://localhost:8080/",
          "height": 427
        },
        "id": "zSu_7nMpbqse",
        "outputId": "d89e3c1e-008e-4820-d8a1-53c0c0414e5b"
      },
      "outputs": [
        {
          "output_type": "display_data",
          "data": {
            "text/plain": [
              "<IPython.core.display.HTML object>"
            ],
            "text/html": [
              "\n",
              "    <div style=\"width: 150px; text-align: center; height: 200px\">\n",
              "        <h4 style='margin-top: -5px'>Ricardo Darín</h4>\n",
              "        <div style='font-size:75%; margin-bottom: 5px'>nm0201857</div>\n",
              "        <a href=\"https://www.imdb.com/name/nm0201857\" target=\"_blank\">\n",
              "            <img style=\"width: 100px; display: block; margin-left: auto; margin-right: auto;\" src=\"https://m.media-amazon.com/images/M/MV5BMTgxOTAyMTAzNV5BMl5BanBnXkFtZTcwODE2MTUzOA@@._V1_UX214_CR0,0,214,317_AL_.jpg\"/>\n",
              "        </a>\n",
              "    </div>\n",
              "    "
            ]
          },
          "metadata": {}
        },
        {
          "output_type": "display_data",
          "data": {
            "text/plain": [
              "<IPython.core.display.HTML object>"
            ],
            "text/html": [
              "<div style=\"width: 1800px\"><div style=\"margin-left: 10px; float: left\">\n",
              "    <div style=\"width: 150px; text-align: center; height: 200px\">\n",
              "        <h4 style='margin-top: -5px'>Fabián Bielinsky</h4>\n",
              "        <div style='font-size:75%; margin-bottom: 5px'>nm0081433</div>\n",
              "        <a href=\"https://www.imdb.com/name/nm0081433\" target=\"_blank\">\n",
              "            <img style=\"width: 100px; display: block; margin-left: auto; margin-right: auto;\" src=\"https://m.media-amazon.com/images/M/MV5BMTQ2NjcwNTAyNF5BMl5BanBnXkFtZTYwMTEzMDYz._V1_UX214_CR0,0,214,317_AL_.jpg\"/>\n",
              "        </a>\n",
              "    </div>\n",
              "    </div><div style=\"margin-left: 10px; float: left\">\n",
              "    <div style=\"width: 150px; text-align: center; height: 200px\">\n",
              "        <h4 style='margin-top: -5px'>Federico Luppi</h4>\n",
              "        <div style='font-size:75%; margin-bottom: 5px'>nm0527002</div>\n",
              "        <a href=\"https://www.imdb.com/name/nm0527002\" target=\"_blank\">\n",
              "            <img style=\"width: 100px; display: block; margin-left: auto; margin-right: auto;\" src=\"https://m.media-amazon.com/images/M/MV5BMTk4MzUzNTI4MV5BMl5BanBnXkFtZTcwOTI2Nzg0NA@@._V1_UY317_CR2,0,214,317_AL_.jpg\"/>\n",
              "        </a>\n",
              "    </div>\n",
              "    </div><div style=\"margin-left: 10px; float: left\">\n",
              "    <div style=\"width: 150px; text-align: center; height: 200px\">\n",
              "        <h4 style='margin-top: -5px'>Chino Darín</h4>\n",
              "        <div style='font-size:75%; margin-bottom: 5px'>nm3779182</div>\n",
              "        <a href=\"https://www.imdb.com/name/nm3779182\" target=\"_blank\">\n",
              "            <img style=\"width: 100px; display: block; margin-left: auto; margin-right: auto;\" src=\"https://m.media-amazon.com/images/M/MV5BYjMyY2VhMjAtOWRmOC00NjE5LTlmZWYtNmExMDc0MWY1NTFjXkEyXkFqcGdeQXVyMDM2NDM2MQ@@._V1_UX214_CR0,0,214,317_AL_.jpg\"/>\n",
              "        </a>\n",
              "    </div>\n",
              "    </div><div style=\"margin-left: 10px; float: left\">\n",
              "    <div style=\"width: 150px; text-align: center; height: 200px\">\n",
              "        <h4 style='margin-top: -5px'>Carlos Sorin</h4>\n",
              "        <div style='font-size:75%; margin-bottom: 5px'>nm0815044</div>\n",
              "        <a href=\"https://www.imdb.com/name/nm0815044\" target=\"_blank\">\n",
              "            <img style=\"width: 100px; display: block; margin-left: auto; margin-right: auto;\" src=\"https://m.media-amazon.com/images/M/MV5BOGJiNWI0YzQtYzMzMS00MWU1LTgwNDMtNGIzZTlmMGU4ZTE0XkEyXkFqcGdeQXVyMTc4MzI2NQ@@._V1_UY317_CR131,0,214,317_AL_.jpg\"/>\n",
              "        </a>\n",
              "    </div>\n",
              "    </div><div style=\"margin-left: 10px; float: left\">\n",
              "    <div style=\"width: 150px; text-align: center; height: 200px\">\n",
              "        <h4 style='margin-top: -5px'>Luis Puenzo</h4>\n",
              "        <div style='font-size:75%; margin-bottom: 5px'>nm0699933</div>\n",
              "        <a href=\"https://www.imdb.com/name/nm0699933\" target=\"_blank\">\n",
              "            <img style=\"width: 100px; display: block; margin-left: auto; margin-right: auto;\" src=\"https://m.media-amazon.com/images/M/MV5BYzk0ODkzZjctNmQ3Ni00ZGQyLTkwMzgtOGIxZjFmMzdkOTcxXkEyXkFqcGdeQXVyMTc4MzI2NQ@@._V1_UX214_CR0,0,214,317_AL_.jpg\"/>\n",
              "        </a>\n",
              "    </div>\n",
              "    </div><div style=\"margin-left: 10px; float: left\">\n",
              "    <div style=\"width: 150px; text-align: center; height: 200px\">\n",
              "        <h4 style='margin-top: -5px'>Matias Baridon</h4>\n",
              "        <div style='font-size:75%; margin-bottom: 5px'>nm2450279</div>\n",
              "        <a href=\"https://www.imdb.com/name/nm2450279\" target=\"_blank\">\n",
              "            <img style=\"width: 100px; display: block; margin-left: auto; margin-right: auto;\" src=\"https://m.media-amazon.com/images/G/01/imdb/images/nopicture/medium/name-2135195744._CB466677935_.png\"/>\n",
              "        </a>\n",
              "    </div>\n",
              "    </div><div style=\"margin-left: 10px; float: left\">\n",
              "    <div style=\"width: 150px; text-align: center; height: 200px\">\n",
              "        <h4 style='margin-top: -5px'>Adolfo Aristarain</h4>\n",
              "        <div style='font-size:75%; margin-bottom: 5px'>nm0034899</div>\n",
              "        <a href=\"https://www.imdb.com/name/nm0034899\" target=\"_blank\">\n",
              "            <img style=\"width: 100px; display: block; margin-left: auto; margin-right: auto;\" src=\"https://m.media-amazon.com/images/M/MV5BMGU5NzY2NGYtNGY4Zi00ZWFmLTg2ZjMtMzQ3OWZjMDJkYjBjXkEyXkFqcGdeQXVyMTc4MzI2NQ@@._V1_UX214_CR0,0,214,317_AL_.jpg\"/>\n",
              "        </a>\n",
              "    </div>\n",
              "    </div><div style=\"margin-left: 10px; float: left\">\n",
              "    <div style=\"width: 150px; text-align: center; height: 200px\">\n",
              "        <h4 style='margin-top: -5px'>Eduardo Mignogna</h4>\n",
              "        <div style='font-size:75%; margin-bottom: 5px'>nm0586002</div>\n",
              "        <a href=\"https://www.imdb.com/name/nm0586002\" target=\"_blank\">\n",
              "            <img style=\"width: 100px; display: block; margin-left: auto; margin-right: auto;\" src=\"https://m.media-amazon.com/images/M/MV5BMGY2NjMzNWEtNDc4OS00NWY4LTk1YzUtODAxZjZmMDc1ZDk0XkEyXkFqcGdeQXVyNjU0ODkwMTU@._V1_UY317_CR179,0,214,317_AL_.jpg\"/>\n",
              "        </a>\n",
              "    </div>\n",
              "    </div><div style=\"margin-left: 10px; float: left\">\n",
              "    <div style=\"width: 150px; text-align: center; height: 200px\">\n",
              "        <h4 style='margin-top: -5px'>Pablo Trapero</h4>\n",
              "        <div style='font-size:75%; margin-bottom: 5px'>nm0871086</div>\n",
              "        <a href=\"https://www.imdb.com/name/nm0871086\" target=\"_blank\">\n",
              "            <img style=\"width: 100px; display: block; margin-left: auto; margin-right: auto;\" src=\"https://m.media-amazon.com/images/M/MV5BMTA2MTA0NDIxODBeQTJeQWpwZ15BbWU3MDI0OTM0ODc@._V1_UX214_CR0,0,214,317_AL_.jpg\"/>\n",
              "        </a>\n",
              "    </div>\n",
              "    </div><div style=\"margin-left: 10px; float: left\">\n",
              "    <div style=\"width: 150px; text-align: center; height: 200px\">\n",
              "        <h4 style='margin-top: -5px'>Ernesto Sábato</h4>\n",
              "        <div style='font-size:75%; margin-bottom: 5px'>nm0844531</div>\n",
              "        <a href=\"https://www.imdb.com/name/nm0844531\" target=\"_blank\">\n",
              "            <img style=\"width: 100px; display: block; margin-left: auto; margin-right: auto;\" src=\"https://m.media-amazon.com/images/G/01/imdb/images/nopicture/medium/name-2135195744._CB466677935_.png\"/>\n",
              "        </a>\n",
              "    </div>\n",
              "    </div></div>"
            ]
          },
          "metadata": {}
        }
      ],
      "source": [
        "show_similars('nm0201857')"
      ]
    },
    {
      "cell_type": "code",
      "source": [
        "show_similars('nm0006168')"
      ],
      "metadata": {
        "colab": {
          "base_uri": "https://localhost:8080/",
          "height": 427
        },
        "id": "YiHQVqJbeCZ_",
        "outputId": "39a6fa81-25d9-465b-eb60-e400cd89e590"
      },
      "execution_count": 37,
      "outputs": [
        {
          "output_type": "display_data",
          "data": {
            "text/plain": [
              "<IPython.core.display.HTML object>"
            ],
            "text/html": [
              "\n",
              "    <div style=\"width: 150px; text-align: center; height: 200px\">\n",
              "        <h4 style='margin-top: -5px'>John Lennon</h4>\n",
              "        <div style='font-size:75%; margin-bottom: 5px'>nm0006168</div>\n",
              "        <a href=\"https://www.imdb.com/name/nm0006168\" target=\"_blank\">\n",
              "            <img style=\"width: 100px; display: block; margin-left: auto; margin-right: auto;\" src=\"https://m.media-amazon.com/images/M/MV5BMTYwMDE4MzgzMF5BMl5BanBnXkFtZTYwMDQzMzU3._V1_UY317_CR48,0,214,317_AL_.jpg\"/>\n",
              "        </a>\n",
              "    </div>\n",
              "    "
            ]
          },
          "metadata": {}
        },
        {
          "output_type": "display_data",
          "data": {
            "text/plain": [
              "<IPython.core.display.HTML object>"
            ],
            "text/html": [
              "<div style=\"width: 1800px\"><div style=\"margin-left: 10px; float: left\">\n",
              "    <div style=\"width: 150px; text-align: center; height: 200px\">\n",
              "        <h4 style='margin-top: -5px'>George Harrison</h4>\n",
              "        <div style='font-size:75%; margin-bottom: 5px'>nm0365600</div>\n",
              "        <a href=\"https://www.imdb.com/name/nm0365600\" target=\"_blank\">\n",
              "            <img style=\"width: 100px; display: block; margin-left: auto; margin-right: auto;\" src=\"https://m.media-amazon.com/images/M/MV5BMTUyNjE0NzAzMl5BMl5BanBnXkFtZTYwMjQzMzU3._V1_UY317_CR34,0,214,317_AL_.jpg\"/>\n",
              "        </a>\n",
              "    </div>\n",
              "    </div><div style=\"margin-left: 10px; float: left\">\n",
              "    <div style=\"width: 150px; text-align: center; height: 200px\">\n",
              "        <h4 style='margin-top: -5px'>Paul McCartney</h4>\n",
              "        <div style='font-size:75%; margin-bottom: 5px'>nm0005200</div>\n",
              "        <a href=\"https://www.imdb.com/name/nm0005200\" target=\"_blank\">\n",
              "            <img style=\"width: 100px; display: block; margin-left: auto; margin-right: auto;\" src=\"https://m.media-amazon.com/images/M/MV5BMTk1MjE1NzM0NV5BMl5BanBnXkFtZTcwMTI5NzIxMw@@._V1_UY317_CR1,0,214,317_AL_.jpg\"/>\n",
              "        </a>\n",
              "    </div>\n",
              "    </div><div style=\"margin-left: 10px; float: left\">\n",
              "    <div style=\"width: 150px; text-align: center; height: 200px\">\n",
              "        <h4 style='margin-top: -5px'>Yoko Ono</h4>\n",
              "        <div style='font-size:75%; margin-bottom: 5px'>nm0648780</div>\n",
              "        <a href=\"https://www.imdb.com/name/nm0648780\" target=\"_blank\">\n",
              "            <img style=\"width: 100px; display: block; margin-left: auto; margin-right: auto;\" src=\"https://m.media-amazon.com/images/M/MV5BMTUzMzY1MzA4MF5BMl5BanBnXkFtZTcwMDY3NzQ3Mg@@._V1_UY317_CR15,0,214,317_AL_.jpg\"/>\n",
              "        </a>\n",
              "    </div>\n",
              "    </div><div style=\"margin-left: 10px; float: left\">\n",
              "    <div style=\"width: 150px; text-align: center; height: 200px\">\n",
              "        <h4 style='margin-top: -5px'>The Beatles</h4>\n",
              "        <div style='font-size:75%; margin-bottom: 5px'>nm1397313</div>\n",
              "        <a href=\"https://www.imdb.com/name/nm1397313\" target=\"_blank\">\n",
              "            <img style=\"width: 100px; display: block; margin-left: auto; margin-right: auto;\" src=\"https://m.media-amazon.com/images/M/MV5BMjA2ODY1MDA5MV5BMl5BanBnXkFtZTcwNjU1MzIyOA@@._V1_UY317_CR19,0,214,317_AL_.jpg\"/>\n",
              "        </a>\n",
              "    </div>\n",
              "    </div><div style=\"margin-left: 10px; float: left\">\n",
              "    <div style=\"width: 150px; text-align: center; height: 200px\">\n",
              "        <h4 style='margin-top: -5px'>Jimi Hendrix</h4>\n",
              "        <div style='font-size:75%; margin-bottom: 5px'>nm0001342</div>\n",
              "        <a href=\"https://www.imdb.com/name/nm0001342\" target=\"_blank\">\n",
              "            <img style=\"width: 100px; display: block; margin-left: auto; margin-right: auto;\" src=\"https://m.media-amazon.com/images/M/MV5BMTc5MDA1MjM2Nl5BMl5BanBnXkFtZTcwNTExNjkxNA@@._V1_UX214_CR0,0,214,317_AL_.jpg\"/>\n",
              "        </a>\n",
              "    </div>\n",
              "    </div><div style=\"margin-left: 10px; float: left\">\n",
              "    <div style=\"width: 150px; text-align: center; height: 200px\">\n",
              "        <h4 style='margin-top: -5px'>Pink Floyd</h4>\n",
              "        <div style='font-size:75%; margin-bottom: 5px'>nm0969139</div>\n",
              "        <a href=\"https://www.imdb.com/name/nm0969139\" target=\"_blank\">\n",
              "            <img style=\"width: 100px; display: block; margin-left: auto; margin-right: auto;\" src=\"https://m.media-amazon.com/images/M/MV5BZmMwNThmODAtY2UwMy00MTk0LTkwNGQtNGU2NjM5YTRkYWJjXkEyXkFqcGdeQXVyNDUzOTQ5MjY@._V1_UY317_CR65,0,214,317_AL_.jpg\"/>\n",
              "        </a>\n",
              "    </div>\n",
              "    </div><div style=\"margin-left: 10px; float: left\">\n",
              "    <div style=\"width: 150px; text-align: center; height: 200px\">\n",
              "        <h4 style='margin-top: -5px'>Bob Dylan</h4>\n",
              "        <div style='font-size:75%; margin-bottom: 5px'>nm0001168</div>\n",
              "        <a href=\"https://www.imdb.com/name/nm0001168\" target=\"_blank\">\n",
              "            <img style=\"width: 100px; display: block; margin-left: auto; margin-right: auto;\" src=\"https://m.media-amazon.com/images/M/MV5BMTg5NTA3Mjc4Nl5BMl5BanBnXkFtZTcwMzU3ODM1Mw@@._V1_UX214_CR0,0,214,317_AL_.jpg\"/>\n",
              "        </a>\n",
              "    </div>\n",
              "    </div><div style=\"margin-left: 10px; float: left\">\n",
              "    <div style=\"width: 150px; text-align: center; height: 200px\">\n",
              "        <h4 style='margin-top: -5px'>Ginger Baker</h4>\n",
              "        <div style='font-size:75%; margin-bottom: 5px'>nm0048486</div>\n",
              "        <a href=\"https://www.imdb.com/name/nm0048486\" target=\"_blank\">\n",
              "            <img style=\"width: 100px; display: block; margin-left: auto; margin-right: auto;\" src=\"https://m.media-amazon.com/images/M/MV5BMTQyOTY0ODExMF5BMl5BanBnXkFtZTcwNDQ4NzQ3OA@@._V1_UX214_CR0,0,214,317_AL_.jpg\"/>\n",
              "        </a>\n",
              "    </div>\n",
              "    </div><div style=\"margin-left: 10px; float: left\">\n",
              "    <div style=\"width: 150px; text-align: center; height: 200px\">\n",
              "        <h4 style='margin-top: -5px'>The Rolling Stones</h4>\n",
              "        <div style='font-size:75%; margin-bottom: 5px'>nm1213869</div>\n",
              "        <a href=\"https://www.imdb.com/name/nm1213869\" target=\"_blank\">\n",
              "            <img style=\"width: 100px; display: block; margin-left: auto; margin-right: auto;\" src=\"https://m.media-amazon.com/images/M/MV5BMTg3MTY3NDQxOF5BMl5BanBnXkFtZTcwNjAwMDU4Mg@@._V1_UY317_CR74,0,214,317_AL_.jpg\"/>\n",
              "        </a>\n",
              "    </div>\n",
              "    </div><div style=\"margin-left: 10px; float: left\">\n",
              "    <div style=\"width: 150px; text-align: center; height: 200px\">\n",
              "        <h4 style='margin-top: -5px'>Linda McCartney</h4>\n",
              "        <div style='font-size:75%; margin-bottom: 5px'>nm0565371</div>\n",
              "        <a href=\"https://www.imdb.com/name/nm0565371\" target=\"_blank\">\n",
              "            <img style=\"width: 100px; display: block; margin-left: auto; margin-right: auto;\" src=\"https://m.media-amazon.com/images/M/MV5BMTU2NjY4MDE3Nl5BMl5BanBnXkFtZTYwMDU1MDY1._V1_UY317_CR3,0,214,317_AL_.jpg\"/>\n",
              "        </a>\n",
              "    </div>\n",
              "    </div></div>"
            ]
          },
          "metadata": {}
        }
      ]
    },
    {
      "cell_type": "code",
      "execution_count": 38,
      "metadata": {
        "colab": {
          "base_uri": "https://localhost:8080/",
          "height": 427
        },
        "id": "H0b9CaN-bqsf",
        "outputId": "77177f45-5220-4e91-af17-3046060a9408"
      },
      "outputs": [
        {
          "output_type": "display_data",
          "data": {
            "text/plain": [
              "<IPython.core.display.HTML object>"
            ],
            "text/html": [
              "\n",
              "    <div style=\"width: 150px; text-align: center; height: 200px\">\n",
              "        <h4 style='margin-top: -5px'>Jared Padalecki</h4>\n",
              "        <div style='font-size:75%; margin-bottom: 5px'>nm0655585</div>\n",
              "        <a href=\"https://www.imdb.com/name/nm0655585\" target=\"_blank\">\n",
              "            <img style=\"width: 100px; display: block; margin-left: auto; margin-right: auto;\" src=\"https://m.media-amazon.com/images/M/MV5BMjA2ODMyMDgxMl5BMl5BanBnXkFtZTcwNjAwMjA3NA@@._V1_UY317_CR1,0,214,317_AL_.jpg\"/>\n",
              "        </a>\n",
              "    </div>\n",
              "    "
            ]
          },
          "metadata": {}
        },
        {
          "output_type": "display_data",
          "data": {
            "text/plain": [
              "<IPython.core.display.HTML object>"
            ],
            "text/html": [
              "<div style=\"width: 1800px\"><div style=\"margin-left: 10px; float: left\">\n",
              "    <div style=\"width: 150px; text-align: center; height: 200px\">\n",
              "        <h4 style='margin-top: -5px'>Eric Kripke</h4>\n",
              "        <div style='font-size:75%; margin-bottom: 5px'>nm0471392</div>\n",
              "        <a href=\"https://www.imdb.com/name/nm0471392\" target=\"_blank\">\n",
              "            <img style=\"width: 100px; display: block; margin-left: auto; margin-right: auto;\" src=\"https://m.media-amazon.com/images/M/MV5BMjEzOTYzNTEzOV5BMl5BanBnXkFtZTcwMDcwNTE4Ng@@._V1_UX214_CR0,0,214,317_AL_.jpg\"/>\n",
              "        </a>\n",
              "    </div>\n",
              "    </div><div style=\"margin-left: 10px; float: left\">\n",
              "    <div style=\"width: 150px; text-align: center; height: 200px\">\n",
              "        <h4 style='margin-top: -5px'>Todd Aronauer</h4>\n",
              "        <div style='font-size:75%; margin-bottom: 5px'>nm0036896</div>\n",
              "        <a href=\"https://www.imdb.com/name/nm0036896\" target=\"_blank\">\n",
              "            <img style=\"width: 100px; display: block; margin-left: auto; margin-right: auto;\" src=\"https://m.media-amazon.com/images/G/01/imdb/images/nopicture/medium/name-2135195744._CB466677935_.png\"/>\n",
              "        </a>\n",
              "    </div>\n",
              "    </div><div style=\"margin-left: 10px; float: left\">\n",
              "    <div style=\"width: 150px; text-align: center; height: 200px\">\n",
              "        <h4 style='margin-top: -5px'>Jensen Ackles</h4>\n",
              "        <div style='font-size:75%; margin-bottom: 5px'>nm0010075</div>\n",
              "        <a href=\"https://www.imdb.com/name/nm0010075\" target=\"_blank\">\n",
              "            <img style=\"width: 100px; display: block; margin-left: auto; margin-right: auto;\" src=\"https://m.media-amazon.com/images/M/MV5BMTcxMDk3NTgzNl5BMl5BanBnXkFtZTcwMTUzNzY3OQ@@._V1_UY317_CR12,0,214,317_AL_.jpg\"/>\n",
              "        </a>\n",
              "    </div>\n",
              "    </div><div style=\"margin-left: 10px; float: left\">\n",
              "    <div style=\"width: 150px; text-align: center; height: 200px\">\n",
              "        <h4 style='margin-top: -5px'>Alexander Calvert</h4>\n",
              "        <div style='font-size:75%; margin-bottom: 5px'>nm1947611</div>\n",
              "        <a href=\"https://www.imdb.com/name/nm1947611\" target=\"_blank\">\n",
              "            <img style=\"width: 100px; display: block; margin-left: auto; margin-right: auto;\" src=\"https://m.media-amazon.com/images/M/MV5BOGRlZDZlYzEtNjQ5MC00MmZjLThhZjMtZjhiOTUxYmFhYzBlXkEyXkFqcGdeQXVyMTIxMjcxMjY@._V1_UX214_CR0,0,214,317_AL_.jpg\"/>\n",
              "        </a>\n",
              "    </div>\n",
              "    </div><div style=\"margin-left: 10px; float: left\">\n",
              "    <div style=\"width: 150px; text-align: center; height: 200px\">\n",
              "        <h4 style='margin-top: -5px'>Pablito Tancinco</h4>\n",
              "        <div style='font-size:75%; margin-bottom: 5px'>nm1567958</div>\n",
              "        <a href=\"https://www.imdb.com/name/nm1567958\" target=\"_blank\">\n",
              "            <img style=\"width: 100px; display: block; margin-left: auto; margin-right: auto;\" src=\"https://m.media-amazon.com/images/G/01/imdb/images/nopicture/medium/name-2135195744._CB466677935_.png\"/>\n",
              "        </a>\n",
              "    </div>\n",
              "    </div><div style=\"margin-left: 10px; float: left\">\n",
              "    <div style=\"width: 150px; text-align: center; height: 200px\">\n",
              "        <h4 style='margin-top: -5px'>Davy Perez</h4>\n",
              "        <div style='font-size:75%; margin-bottom: 5px'>nm3053945</div>\n",
              "        <a href=\"https://www.imdb.com/name/nm3053945\" target=\"_blank\">\n",
              "            <img style=\"width: 100px; display: block; margin-left: auto; margin-right: auto;\" src=\"https://m.media-amazon.com/images/M/MV5BNzhmMzUyZTAtZGM2Yy00YmNiLTgwYTktNzM0ZmYwZmM2NzExXkEyXkFqcGdeQXVyMjQwMDg0Ng@@._V1_UY317_CR51,0,214,317_AL_.jpg\"/>\n",
              "        </a>\n",
              "    </div>\n",
              "    </div><div style=\"margin-left: 10px; float: left\">\n",
              "    <div style=\"width: 150px; text-align: center; height: 200px\">\n",
              "        <h4 style='margin-top: -5px'>Daniel Loflin</h4>\n",
              "        <div style='font-size:75%; margin-bottom: 5px'>nm0517418</div>\n",
              "        <a href=\"https://www.imdb.com/name/nm0517418\" target=\"_blank\">\n",
              "            <img style=\"width: 100px; display: block; margin-left: auto; margin-right: auto;\" src=\"https://m.media-amazon.com/images/G/01/imdb/images/nopicture/medium/name-2135195744._CB466677935_.png\"/>\n",
              "        </a>\n",
              "    </div>\n",
              "    </div><div style=\"margin-left: 10px; float: left\">\n",
              "    <div style=\"width: 150px; text-align: center; height: 200px\">\n",
              "        <h4 style='margin-top: -5px'>Robert Berens</h4>\n",
              "        <div style='font-size:75%; margin-bottom: 5px'>nm2749064</div>\n",
              "        <a href=\"https://www.imdb.com/name/nm2749064\" target=\"_blank\">\n",
              "            <img style=\"width: 100px; display: block; margin-left: auto; margin-right: auto;\" src=\"https://m.media-amazon.com/images/M/MV5BN2M1NzBiN2YtZTg2ZC00YTIyLWEzODEtYzVhMTU0ODllOWE4XkEyXkFqcGdeQXVyNDcwODIxNg@@._V1_UY317_CR130,0,214,317_AL_.jpg\"/>\n",
              "        </a>\n",
              "    </div>\n",
              "    </div><div style=\"margin-left: 10px; float: left\">\n",
              "    <div style=\"width: 150px; text-align: center; height: 200px\">\n",
              "        <h4 style='margin-top: -5px'>Jenny Klein</h4>\n",
              "        <div style='font-size:75%; margin-bottom: 5px'>nm3160583</div>\n",
              "        <a href=\"https://www.imdb.com/name/nm3160583\" target=\"_blank\">\n",
              "            <img style=\"width: 100px; display: block; margin-left: auto; margin-right: auto;\" src=\"https://m.media-amazon.com/images/M/MV5BNjE5N2YzMTctZTYwNC00YzViLWI3ZTgtYWU4NWRhNGYwZDMwXkEyXkFqcGdeQXVyMTU1ODk4ODI@._V1_UX214_CR0,0,214,317_AL_.jpg\"/>\n",
              "        </a>\n",
              "    </div>\n",
              "    </div><div style=\"margin-left: 10px; float: left\">\n",
              "    <div style=\"width: 150px; text-align: center; height: 200px\">\n",
              "        <h4 style='margin-top: -5px'>Andrew Dabb</h4>\n",
              "        <div style='font-size:75%; margin-bottom: 5px'>nm1877263</div>\n",
              "        <a href=\"https://www.imdb.com/name/nm1877263\" target=\"_blank\">\n",
              "            <img style=\"width: 100px; display: block; margin-left: auto; margin-right: auto;\" src=\"https://m.media-amazon.com/images/G/01/imdb/images/nopicture/medium/name-2135195744._CB466677935_.png\"/>\n",
              "        </a>\n",
              "    </div>\n",
              "    </div></div>"
            ]
          },
          "metadata": {}
        }
      ],
      "source": [
        "show_similars('nm0655585')"
      ]
    },
    {
      "cell_type": "code",
      "execution_count": 39,
      "metadata": {
        "colab": {
          "base_uri": "https://localhost:8080/",
          "height": 427
        },
        "id": "GgJP6nJcbqsf",
        "outputId": "d3a4d8b9-ae56-4fec-c3b5-bf82051bcd8c"
      },
      "outputs": [
        {
          "output_type": "display_data",
          "data": {
            "text/plain": [
              "<IPython.core.display.HTML object>"
            ],
            "text/html": [
              "\n",
              "    <div style=\"width: 150px; text-align: center; height: 200px\">\n",
              "        <h4 style='margin-top: -5px'>Robert Downey Jr.</h4>\n",
              "        <div style='font-size:75%; margin-bottom: 5px'>nm0000375</div>\n",
              "        <a href=\"https://www.imdb.com/name/nm0000375\" target=\"_blank\">\n",
              "            <img style=\"width: 100px; display: block; margin-left: auto; margin-right: auto;\" src=\"https://m.media-amazon.com/images/M/MV5BNzg1MTUyNDYxOF5BMl5BanBnXkFtZTgwNTQ4MTE2MjE@._V1_UX214_CR0,0,214,317_AL_.jpg\"/>\n",
              "        </a>\n",
              "    </div>\n",
              "    "
            ]
          },
          "metadata": {}
        },
        {
          "output_type": "display_data",
          "data": {
            "text/plain": [
              "<IPython.core.display.HTML object>"
            ],
            "text/html": [
              "<div style=\"width: 1800px\"><div style=\"margin-left: 10px; float: left\">\n",
              "    <div style=\"width: 150px; text-align: center; height: 200px\">\n",
              "        <h4 style='margin-top: -5px'>Nicolas Cage</h4>\n",
              "        <div style='font-size:75%; margin-bottom: 5px'>nm0000115</div>\n",
              "        <a href=\"https://www.imdb.com/name/nm0000115\" target=\"_blank\">\n",
              "            <img style=\"width: 100px; display: block; margin-left: auto; margin-right: auto;\" src=\"https://m.media-amazon.com/images/M/MV5BMjUxMjE4MTQxMF5BMl5BanBnXkFtZTcwNzc2MDM1NA@@._V1_UY317_CR9,0,214,317_AL_.jpg\"/>\n",
              "        </a>\n",
              "    </div>\n",
              "    </div><div style=\"margin-left: 10px; float: left\">\n",
              "    <div style=\"width: 150px; text-align: center; height: 200px\">\n",
              "        <h4 style='margin-top: -5px'>Kevin Costner</h4>\n",
              "        <div style='font-size:75%; margin-bottom: 5px'>nm0000126</div>\n",
              "        <a href=\"https://www.imdb.com/name/nm0000126\" target=\"_blank\">\n",
              "            <img style=\"width: 100px; display: block; margin-left: auto; margin-right: auto;\" src=\"https://m.media-amazon.com/images/M/MV5BMTY1ODkwMTQxOF5BMl5BanBnXkFtZTcwNzkwNDcyMw@@._V1_UX214_CR0,0,214,317_AL_.jpg\"/>\n",
              "        </a>\n",
              "    </div>\n",
              "    </div><div style=\"margin-left: 10px; float: left\">\n",
              "    <div style=\"width: 150px; text-align: center; height: 200px\">\n",
              "        <h4 style='margin-top: -5px'>Susan Downey</h4>\n",
              "        <div style='font-size:75%; margin-bottom: 5px'>nm1206265</div>\n",
              "        <a href=\"https://www.imdb.com/name/nm1206265\" target=\"_blank\">\n",
              "            <img style=\"width: 100px; display: block; margin-left: auto; margin-right: auto;\" src=\"https://m.media-amazon.com/images/M/MV5BMTYwNDYxODAyNF5BMl5BanBnXkFtZTcwNDk2OTI3Mg@@._V1_UY317_CR14,0,214,317_AL_.jpg\"/>\n",
              "        </a>\n",
              "    </div>\n",
              "    </div><div style=\"margin-left: 10px; float: left\">\n",
              "    <div style=\"width: 150px; text-align: center; height: 200px\">\n",
              "        <h4 style='margin-top: -5px'>Joaquin Phoenix</h4>\n",
              "        <div style='font-size:75%; margin-bottom: 5px'>nm0001618</div>\n",
              "        <a href=\"https://www.imdb.com/name/nm0001618\" target=\"_blank\">\n",
              "            <img style=\"width: 100px; display: block; margin-left: auto; margin-right: auto;\" src=\"https://m.media-amazon.com/images/M/MV5BZGMyY2Q4NTEtMWVkZS00NzcwLTkzNmQtYzBlMWZhZGNhMDhkXkEyXkFqcGdeQXVyNjk1MjYyNTA@._V1_UX214_CR0,0,214,317_AL_.jpg\"/>\n",
              "        </a>\n",
              "    </div>\n",
              "    </div><div style=\"margin-left: 10px; float: left\">\n",
              "    <div style=\"width: 150px; text-align: center; height: 200px\">\n",
              "        <h4 style='margin-top: -5px'>Jerry Bruckheimer</h4>\n",
              "        <div style='font-size:75%; margin-bottom: 5px'>nm0000988</div>\n",
              "        <a href=\"https://www.imdb.com/name/nm0000988\" target=\"_blank\">\n",
              "            <img style=\"width: 100px; display: block; margin-left: auto; margin-right: auto;\" src=\"https://m.media-amazon.com/images/M/MV5BMjExNDIwNTA5M15BMl5BanBnXkFtZTcwMDg3NTU2Mw@@._V1_UY317_CR12,0,214,317_AL_.jpg\"/>\n",
              "        </a>\n",
              "    </div>\n",
              "    </div><div style=\"margin-left: 10px; float: left\">\n",
              "    <div style=\"width: 150px; text-align: center; height: 200px\">\n",
              "        <h4 style='margin-top: -5px'>Colleen Atwood</h4>\n",
              "        <div style='font-size:75%; margin-bottom: 5px'>nm0041181</div>\n",
              "        <a href=\"https://www.imdb.com/name/nm0041181\" target=\"_blank\">\n",
              "            <img style=\"width: 100px; display: block; margin-left: auto; margin-right: auto;\" src=\"https://m.media-amazon.com/images/M/MV5BMTM3OTM1MzMxOV5BMl5BanBnXkFtZTYwOTQ0MzE1._V1_UX214_CR0,0,214,317_AL_.jpg\"/>\n",
              "        </a>\n",
              "    </div>\n",
              "    </div><div style=\"margin-left: 10px; float: left\">\n",
              "    <div style=\"width: 150px; text-align: center; height: 200px\">\n",
              "        <h4 style='margin-top: -5px'>Samuel L. Jackson</h4>\n",
              "        <div style='font-size:75%; margin-bottom: 5px'>nm0000168</div>\n",
              "        <a href=\"https://www.imdb.com/name/nm0000168\" target=\"_blank\">\n",
              "            <img style=\"width: 100px; display: block; margin-left: auto; margin-right: auto;\" src=\"https://m.media-amazon.com/images/M/MV5BMTQ1NTQwMTYxNl5BMl5BanBnXkFtZTYwMjA1MzY1._V1_UX214_CR0,0,214,317_AL_.jpg\"/>\n",
              "        </a>\n",
              "    </div>\n",
              "    </div><div style=\"margin-left: 10px; float: left\">\n",
              "    <div style=\"width: 150px; text-align: center; height: 200px\">\n",
              "        <h4 style='margin-top: -5px'>Angelina Jolie</h4>\n",
              "        <div style='font-size:75%; margin-bottom: 5px'>nm0001401</div>\n",
              "        <a href=\"https://www.imdb.com/name/nm0001401\" target=\"_blank\">\n",
              "            <img style=\"width: 100px; display: block; margin-left: auto; margin-right: auto;\" src=\"https://m.media-amazon.com/images/M/MV5BODg3MzYwMjE4N15BMl5BanBnXkFtZTcwMjU5NzAzNw@@._V1_UY317_CR22,0,214,317_AL_.jpg\"/>\n",
              "        </a>\n",
              "    </div>\n",
              "    </div><div style=\"margin-left: 10px; float: left\">\n",
              "    <div style=\"width: 150px; text-align: center; height: 200px\">\n",
              "        <h4 style='margin-top: -5px'>Keanu Reeves</h4>\n",
              "        <div style='font-size:75%; margin-bottom: 5px'>nm0000206</div>\n",
              "        <a href=\"https://www.imdb.com/name/nm0000206\" target=\"_blank\">\n",
              "            <img style=\"width: 100px; display: block; margin-left: auto; margin-right: auto;\" src=\"https://m.media-amazon.com/images/M/MV5BNGJmMWEzOGQtMWZkNS00MGNiLTk5NGEtYzg1YzAyZTgzZTZmXkEyXkFqcGdeQXVyMTE1MTYxNDAw._V1_UX214_CR0,0,214,317_AL_.jpg\"/>\n",
              "        </a>\n",
              "    </div>\n",
              "    </div><div style=\"margin-left: 10px; float: left\">\n",
              "    <div style=\"width: 150px; text-align: center; height: 200px\">\n",
              "        <h4 style='margin-top: -5px'>Woody Harrelson</h4>\n",
              "        <div style='font-size:75%; margin-bottom: 5px'>nm0000437</div>\n",
              "        <a href=\"https://www.imdb.com/name/nm0000437\" target=\"_blank\">\n",
              "            <img style=\"width: 100px; display: block; margin-left: auto; margin-right: auto;\" src=\"https://m.media-amazon.com/images/M/MV5BMTU3NDc2ODc4MF5BMl5BanBnXkFtZTcwODk2MzAyMg@@._V1_UY317_CR1,0,214,317_AL_.jpg\"/>\n",
              "        </a>\n",
              "    </div>\n",
              "    </div></div>"
            ]
          },
          "metadata": {}
        }
      ],
      "source": [
        "show_similars('nm0000375')"
      ]
    },
    {
      "cell_type": "code",
      "execution_count": 40,
      "metadata": {
        "colab": {
          "base_uri": "https://localhost:8080/",
          "height": 427
        },
        "id": "4xwHlDicbqsf",
        "outputId": "f9afb70f-ca44-4f4b-8f2c-15569bba7241"
      },
      "outputs": [
        {
          "output_type": "display_data",
          "data": {
            "text/plain": [
              "<IPython.core.display.HTML object>"
            ],
            "text/html": [
              "\n",
              "    <div style=\"width: 150px; text-align: center; height: 200px\">\n",
              "        <h4 style='margin-top: -5px'>Andrew Lincoln</h4>\n",
              "        <div style='font-size:75%; margin-bottom: 5px'>nm0511088</div>\n",
              "        <a href=\"https://www.imdb.com/name/nm0511088\" target=\"_blank\">\n",
              "            <img style=\"width: 100px; display: block; margin-left: auto; margin-right: auto;\" src=\"https://m.media-amazon.com/images/M/MV5BMjI2NDYyNjg4NF5BMl5BanBnXkFtZTcwMjI5OTMwNA@@._V1_UY317_CR9,0,214,317_AL_.jpg\"/>\n",
              "        </a>\n",
              "    </div>\n",
              "    "
            ]
          },
          "metadata": {}
        },
        {
          "output_type": "display_data",
          "data": {
            "text/plain": [
              "<IPython.core.display.HTML object>"
            ],
            "text/html": [
              "<div style=\"width: 1800px\"><div style=\"margin-left: 10px; float: left\">\n",
              "    <div style=\"width: 150px; text-align: center; height: 200px\">\n",
              "        <h4 style='margin-top: -5px'>Lennie James</h4>\n",
              "        <div style='font-size:75%; margin-bottom: 5px'>nm0416694</div>\n",
              "        <a href=\"https://www.imdb.com/name/nm0416694\" target=\"_blank\">\n",
              "            <img style=\"width: 100px; display: block; margin-left: auto; margin-right: auto;\" src=\"https://m.media-amazon.com/images/M/MV5BMjRiNzI3ZTItOWEzMi00ZDE2LTkyZjktMzQ4YjlmYjRhZGJiXkEyXkFqcGdeQXVyMTExNzQ3MzAw._V1_UY317_CR35,0,214,317_AL_.jpg\"/>\n",
              "        </a>\n",
              "    </div>\n",
              "    </div><div style=\"margin-left: 10px; float: left\">\n",
              "    <div style=\"width: 150px; text-align: center; height: 200px\">\n",
              "        <h4 style='margin-top: -5px'>Iddo Goldberg</h4>\n",
              "        <div style='font-size:75%; margin-bottom: 5px'>nm0325221</div>\n",
              "        <a href=\"https://www.imdb.com/name/nm0325221\" target=\"_blank\">\n",
              "            <img style=\"width: 100px; display: block; margin-left: auto; margin-right: auto;\" src=\"https://m.media-amazon.com/images/M/MV5BMjI3MDE3NzUxOF5BMl5BanBnXkFtZTgwNDEwOTgzNDM@._V1_UX214_CR0,0,214,317_AL_.jpg\"/>\n",
              "        </a>\n",
              "    </div>\n",
              "    </div><div style=\"margin-left: 10px; float: left\">\n",
              "    <div style=\"width: 150px; text-align: center; height: 200px\">\n",
              "        <h4 style='margin-top: -5px'>Adeel Akhtar</h4>\n",
              "        <div style='font-size:75%; margin-bottom: 5px'>nm2253821</div>\n",
              "        <a href=\"https://www.imdb.com/name/nm2253821\" target=\"_blank\">\n",
              "            <img style=\"width: 100px; display: block; margin-left: auto; margin-right: auto;\" src=\"https://m.media-amazon.com/images/M/MV5BMTk2NTMwMjE2Ml5BMl5BanBnXkFtZTgwNDI5MDA1MzI@._V1_UY317_CR5,0,214,317_AL_.jpg\"/>\n",
              "        </a>\n",
              "    </div>\n",
              "    </div><div style=\"margin-left: 10px; float: left\">\n",
              "    <div style=\"width: 150px; text-align: center; height: 200px\">\n",
              "        <h4 style='margin-top: -5px'>Nathan Stewart-Jarrett</h4>\n",
              "        <div style='font-size:75%; margin-bottom: 5px'>nm2805533</div>\n",
              "        <a href=\"https://www.imdb.com/name/nm2805533\" target=\"_blank\">\n",
              "            <img style=\"width: 100px; display: block; margin-left: auto; margin-right: auto;\" src=\"https://m.media-amazon.com/images/M/MV5BNjZjMzJkOTMtZjc5NC00OWU4LTgzNmUtZjhhY2JjNzRkMDhmXkEyXkFqcGdeQXVyMjE4OTcyMzI@._V1_UY317_CR51,0,214,317_AL_.jpg\"/>\n",
              "        </a>\n",
              "    </div>\n",
              "    </div><div style=\"margin-left: 10px; float: left\">\n",
              "    <div style=\"width: 150px; text-align: center; height: 200px\">\n",
              "        <h4 style='margin-top: -5px'>Ronan Raftery</h4>\n",
              "        <div style='font-size:75%; margin-bottom: 5px'>nm3995719</div>\n",
              "        <a href=\"https://www.imdb.com/name/nm3995719\" target=\"_blank\">\n",
              "            <img style=\"width: 100px; display: block; margin-left: auto; margin-right: auto;\" src=\"https://m.media-amazon.com/images/M/MV5BY2M2YTFiN2YtNjM5OC00YzdmLTkyM2ItNWFjMGE0M2JkODYwXkEyXkFqcGdeQXVyMjM5NDI4MTE@._V1_UX214_CR0,0,214,317_AL_.jpg\"/>\n",
              "        </a>\n",
              "    </div>\n",
              "    </div><div style=\"margin-left: 10px; float: left\">\n",
              "    <div style=\"width: 150px; text-align: center; height: 200px\">\n",
              "        <h4 style='margin-top: -5px'>Lucy Tcherniak</h4>\n",
              "        <div style='font-size:75%; margin-bottom: 5px'>nm3370884</div>\n",
              "        <a href=\"https://www.imdb.com/name/nm3370884\" target=\"_blank\">\n",
              "            <img style=\"width: 100px; display: block; margin-left: auto; margin-right: auto;\" src=\"https://m.media-amazon.com/images/M/MV5BMTI1MWFhYmYtOTk1Ny00NTgzLWEzY2UtNmM5YmMyZWZiN2YwXkEyXkFqcGdeQXVyMjQ5ODk4NjE@._V1_UY317_CR41,0,214,317_AL_.jpg\"/>\n",
              "        </a>\n",
              "    </div>\n",
              "    </div><div style=\"margin-left: 10px; float: left\">\n",
              "    <div style=\"width: 150px; text-align: center; height: 200px\">\n",
              "        <h4 style='margin-top: -5px'>Ashley Madekwe</h4>\n",
              "        <div style='font-size:75%; margin-bottom: 5px'>nm0534772</div>\n",
              "        <a href=\"https://www.imdb.com/name/nm0534772\" target=\"_blank\">\n",
              "            <img style=\"width: 100px; display: block; margin-left: auto; margin-right: auto;\" src=\"https://m.media-amazon.com/images/M/MV5BYmFlN2Q1YTEtYzQ1YS00NjA1LWE0ZjUtNDFmNDc3N2MyM2M1XkEyXkFqcGdeQXVyMjc3NDYyOTM@._V1_UY317_CR73,0,214,317_AL_.jpg\"/>\n",
              "        </a>\n",
              "    </div>\n",
              "    </div><div style=\"margin-left: 10px; float: left\">\n",
              "    <div style=\"width: 150px; text-align: center; height: 200px\">\n",
              "        <h4 style='margin-top: -5px'>Hannah Murray</h4>\n",
              "        <div style='font-size:75%; margin-bottom: 5px'>nm2356940</div>\n",
              "        <a href=\"https://www.imdb.com/name/nm2356940\" target=\"_blank\">\n",
              "            <img style=\"width: 100px; display: block; margin-left: auto; margin-right: auto;\" src=\"https://m.media-amazon.com/images/M/MV5BMjQ0NDM3ODY1MV5BMl5BanBnXkFtZTcwNTIyMTg2OA@@._V1_UX214_CR0,0,214,317_AL_.jpg\"/>\n",
              "        </a>\n",
              "    </div>\n",
              "    </div><div style=\"margin-left: 10px; float: left\">\n",
              "    <div style=\"width: 150px; text-align: center; height: 200px\">\n",
              "        <h4 style='margin-top: -5px'>Otto Bathurst</h4>\n",
              "        <div style='font-size:75%; margin-bottom: 5px'>nm1163264</div>\n",
              "        <a href=\"https://www.imdb.com/name/nm1163264\" target=\"_blank\">\n",
              "            <img style=\"width: 100px; display: block; margin-left: auto; margin-right: auto;\" src=\"https://m.media-amazon.com/images/G/01/imdb/images/nopicture/medium/name-2135195744._CB466677935_.png\"/>\n",
              "        </a>\n",
              "    </div>\n",
              "    </div><div style=\"margin-left: 10px; float: left\">\n",
              "    <div style=\"width: 150px; text-align: center; height: 200px\">\n",
              "        <h4 style='margin-top: -5px'>Tom Jarvis</h4>\n",
              "        <div style='font-size:75%; margin-bottom: 5px'>nm6306534</div>\n",
              "        <a href=\"https://www.imdb.com/name/nm6306534\" target=\"_blank\">\n",
              "            <img style=\"width: 100px; display: block; margin-left: auto; margin-right: auto;\" src=\"https://m.media-amazon.com/images/G/01/imdb/images/nopicture/medium/name-2135195744._CB466677935_.png\"/>\n",
              "        </a>\n",
              "    </div>\n",
              "    </div></div>"
            ]
          },
          "metadata": {}
        }
      ],
      "source": [
        "show_similars('nm0511088')"
      ]
    },
    {
      "cell_type": "code",
      "execution_count": 41,
      "metadata": {
        "colab": {
          "base_uri": "https://localhost:8080/",
          "height": 427
        },
        "id": "wrt-wBp2bqsf",
        "outputId": "7b3f9373-f3db-4f88-adac-3f0cc437ff20"
      },
      "outputs": [
        {
          "output_type": "display_data",
          "data": {
            "text/plain": [
              "<IPython.core.display.HTML object>"
            ],
            "text/html": [
              "\n",
              "    <div style=\"width: 150px; text-align: center; height: 200px\">\n",
              "        <h4 style='margin-top: -5px'>Michael J. Fox</h4>\n",
              "        <div style='font-size:75%; margin-bottom: 5px'>nm0000150</div>\n",
              "        <a href=\"https://www.imdb.com/name/nm0000150\" target=\"_blank\">\n",
              "            <img style=\"width: 100px; display: block; margin-left: auto; margin-right: auto;\" src=\"https://m.media-amazon.com/images/M/MV5BMTcwNzM0MjE4NF5BMl5BanBnXkFtZTcwMDkxMzEwMw@@._V1_UY317_CR1,0,214,317_AL_.jpg\"/>\n",
              "        </a>\n",
              "    </div>\n",
              "    "
            ]
          },
          "metadata": {}
        },
        {
          "output_type": "display_data",
          "data": {
            "text/plain": [
              "<IPython.core.display.HTML object>"
            ],
            "text/html": [
              "<div style=\"width: 1800px\"><div style=\"margin-left: 10px; float: left\">\n",
              "    <div style=\"width: 150px; text-align: center; height: 200px\">\n",
              "        <h4 style='margin-top: -5px'>Justine Bateman</h4>\n",
              "        <div style='font-size:75%; margin-bottom: 5px'>nm0000868</div>\n",
              "        <a href=\"https://www.imdb.com/name/nm0000868\" target=\"_blank\">\n",
              "            <img style=\"width: 100px; display: block; margin-left: auto; margin-right: auto;\" src=\"https://m.media-amazon.com/images/M/MV5BMjg4NDVmMzUtOWU4OC00ZDNmLWFjMWYtYmMwYjI0NzZjNGE2XkEyXkFqcGdeQXVyMzMwMDIwMA@@._V1_UY317_CR32,0,214,317_AL_.jpg\"/>\n",
              "        </a>\n",
              "    </div>\n",
              "    </div><div style=\"margin-left: 10px; float: left\">\n",
              "    <div style=\"width: 150px; text-align: center; height: 200px\">\n",
              "        <h4 style='margin-top: -5px'>Garry Shandling</h4>\n",
              "        <div style='font-size:75%; margin-bottom: 5px'>nm0788009</div>\n",
              "        <a href=\"https://www.imdb.com/name/nm0788009\" target=\"_blank\">\n",
              "            <img style=\"width: 100px; display: block; margin-left: auto; margin-right: auto;\" src=\"https://m.media-amazon.com/images/M/MV5BODkzMzAxMDMzOV5BMl5BanBnXkFtZTgwNzE2NDM0ODE@._V1_UY317_CR116,0,214,317_AL_.jpg\"/>\n",
              "        </a>\n",
              "    </div>\n",
              "    </div><div style=\"margin-left: 10px; float: left\">\n",
              "    <div style=\"width: 150px; text-align: center; height: 200px\">\n",
              "        <h4 style='margin-top: -5px'>Levon Helm</h4>\n",
              "        <div style='font-size:75%; margin-bottom: 5px'>nm0375629</div>\n",
              "        <a href=\"https://www.imdb.com/name/nm0375629\" target=\"_blank\">\n",
              "            <img style=\"width: 100px; display: block; margin-left: auto; margin-right: auto;\" src=\"https://m.media-amazon.com/images/M/MV5BYzIzODQ1MzEtMTY3Yy00ZGUzLWI0MGMtYWRmMWVjOGMwYzZkXkEyXkFqcGdeQXVyNjUxMjc1OTM@._V1_UY317_CR13,0,214,317_AL_.jpg\"/>\n",
              "        </a>\n",
              "    </div>\n",
              "    </div><div style=\"margin-left: 10px; float: left\">\n",
              "    <div style=\"width: 150px; text-align: center; height: 200px\">\n",
              "        <h4 style='margin-top: -5px'>Marc Lawrence</h4>\n",
              "        <div style='font-size:75%; margin-bottom: 5px'>nm0492909</div>\n",
              "        <a href=\"https://www.imdb.com/name/nm0492909\" target=\"_blank\">\n",
              "            <img style=\"width: 100px; display: block; margin-left: auto; margin-right: auto;\" src=\"https://m.media-amazon.com/images/M/MV5BMjc3NzMwNDUyNF5BMl5BanBnXkFtZTcwNDk5MTYwMw@@._V1_UY317_CR24,0,214,317_AL_.jpg\"/>\n",
              "        </a>\n",
              "    </div>\n",
              "    </div><div style=\"margin-left: 10px; float: left\">\n",
              "    <div style=\"width: 150px; text-align: center; height: 200px\">\n",
              "        <h4 style='margin-top: -5px'>Chevy Chase</h4>\n",
              "        <div style='font-size:75%; margin-bottom: 5px'>nm0000331</div>\n",
              "        <a href=\"https://www.imdb.com/name/nm0000331\" target=\"_blank\">\n",
              "            <img style=\"width: 100px; display: block; margin-left: auto; margin-right: auto;\" src=\"https://m.media-amazon.com/images/M/MV5BMTMwNTY2ODA4OV5BMl5BanBnXkFtZTcwOTE1NjAxMw@@._V1_UY317_CR15,0,214,317_AL_.jpg\"/>\n",
              "        </a>\n",
              "    </div>\n",
              "    </div><div style=\"margin-left: 10px; float: left\">\n",
              "    <div style=\"width: 150px; text-align: center; height: 200px\">\n",
              "        <h4 style='margin-top: -5px'>Danitra Vance</h4>\n",
              "        <div style='font-size:75%; margin-bottom: 5px'>nm0888503</div>\n",
              "        <a href=\"https://www.imdb.com/name/nm0888503\" target=\"_blank\">\n",
              "            <img style=\"width: 100px; display: block; margin-left: auto; margin-right: auto;\" src=\"https://m.media-amazon.com/images/M/MV5BNTU3OTY0MDA2MF5BMl5BanBnXkFtZTgwOTM5ODY2NDM@._V1_UY317_CR18,0,214,317_AL_.jpg\"/>\n",
              "        </a>\n",
              "    </div>\n",
              "    </div><div style=\"margin-left: 10px; float: left\">\n",
              "    <div style=\"width: 150px; text-align: center; height: 200px\">\n",
              "        <h4 style='margin-top: -5px'>Tina Yothers</h4>\n",
              "        <div style='font-size:75%; margin-bottom: 5px'>nm0001869</div>\n",
              "        <a href=\"https://www.imdb.com/name/nm0001869\" target=\"_blank\">\n",
              "            <img style=\"width: 100px; display: block; margin-left: auto; margin-right: auto;\" src=\"https://m.media-amazon.com/images/M/MV5BMTg1NzYwODU2OF5BMl5BanBnXkFtZTcwMjk5NTE5NA@@._V1_UX214_CR0,0,214,317_AL_.jpg\"/>\n",
              "        </a>\n",
              "    </div>\n",
              "    </div><div style=\"margin-left: 10px; float: left\">\n",
              "    <div style=\"width: 150px; text-align: center; height: 200px\">\n",
              "        <h4 style='margin-top: -5px'>Anne Beatts</h4>\n",
              "        <div style='font-size:75%; margin-bottom: 5px'>nm0064186</div>\n",
              "        <a href=\"https://www.imdb.com/name/nm0064186\" target=\"_blank\">\n",
              "            <img style=\"width: 100px; display: block; margin-left: auto; margin-right: auto;\" src=\"https://m.media-amazon.com/images/G/01/imdb/images/nopicture/medium/name-2135195744._CB466677935_.png\"/>\n",
              "        </a>\n",
              "    </div>\n",
              "    </div><div style=\"margin-left: 10px; float: left\">\n",
              "    <div style=\"width: 150px; text-align: center; height: 200px\">\n",
              "        <h4 style='margin-top: -5px'>Andrew Scheinman</h4>\n",
              "        <div style='font-size:75%; margin-bottom: 5px'>nm0770650</div>\n",
              "        <a href=\"https://www.imdb.com/name/nm0770650\" target=\"_blank\">\n",
              "            <img style=\"width: 100px; display: block; margin-left: auto; margin-right: auto;\" src=\"https://m.media-amazon.com/images/G/01/imdb/images/nopicture/medium/name-2135195744._CB466677935_.png\"/>\n",
              "        </a>\n",
              "    </div>\n",
              "    </div><div style=\"margin-left: 10px; float: left\">\n",
              "    <div style=\"width: 150px; text-align: center; height: 200px\">\n",
              "        <h4 style='margin-top: -5px'>Garrison Keillor</h4>\n",
              "        <div style='font-size:75%; margin-bottom: 5px'>nm0445087</div>\n",
              "        <a href=\"https://www.imdb.com/name/nm0445087\" target=\"_blank\">\n",
              "            <img style=\"width: 100px; display: block; margin-left: auto; margin-right: auto;\" src=\"https://m.media-amazon.com/images/M/MV5BMTY0NDE2NzQ1OF5BMl5BanBnXkFtZTYwMDkyOTQ0._V1_UX214_CR0,0,214,317_AL_.jpg\"/>\n",
              "        </a>\n",
              "    </div>\n",
              "    </div></div>"
            ]
          },
          "metadata": {}
        }
      ],
      "source": [
        "show_similars('nm0000150')"
      ]
    },
    {
      "cell_type": "markdown",
      "metadata": {
        "id": "2NE6zrnsbqsf"
      },
      "source": [
        "# Algunos random"
      ]
    },
    {
      "cell_type": "code",
      "source": [
        "# Clonamos el repo para usar el codigo de la lib\n",
        "!git clone https://github.com/elsonidoq/ml-practico-2022.git\n",
        "!cd ml-practico-2022; git pull"
      ],
      "metadata": {
        "colab": {
          "base_uri": "https://localhost:8080/"
        },
        "id": "yMxRZsuPcdX4",
        "outputId": "c8f2c0af-e6a2-42a3-e5c0-4623819565c9"
      },
      "execution_count": 42,
      "outputs": [
        {
          "output_type": "stream",
          "name": "stdout",
          "text": [
            "fatal: destination path 'ml-practico-2022' already exists and is not an empty directory.\n",
            "remote: Enumerating objects: 9, done.\u001b[K\n",
            "remote: Counting objects: 100% (9/9), done.\u001b[K\n",
            "remote: Compressing objects: 100% (1/1), done.\u001b[K\n",
            "remote: Total 5 (delta 4), reused 5 (delta 4), pack-reused 0\u001b[K\n",
            "Unpacking objects: 100% (5/5), done.\n",
            "From https://github.com/elsonidoq/ml-practico-2022\n",
            "   7c90893..5edad55  main       -> origin/main\n",
            "Updating 7c90893..5edad55\n",
            "Fast-forward\n",
            " notebooks/clase-3/05-crew-embeddings-check.ipynb | 4419 \u001b[32m+++++++++++\u001b[m\u001b[31m-----------\u001b[m\n",
            " 1 file changed, 2283 insertions(+), 2136 deletions(-)\n"
          ]
        }
      ]
    },
    {
      "cell_type": "code",
      "execution_count": 43,
      "metadata": {
        "id": "0fl0Atvmbqsg"
      },
      "outputs": [],
      "source": [
        "import sys\n",
        "sys.path.append('ml-practico-2022')\n",
        "\n",
        "from lib import data"
      ]
    },
    {
      "cell_type": "code",
      "source": [
        "import pandas as pd\n",
        "\n",
        "title_basics = data.load_title_basics(DATA_HOME)\n",
        "principals_df = pd.read_csv(DATA_HOME / 'title.principals.tsv.gz', compression='gzip', sep='\\t')\n",
        "ratings_df = pd.read_csv(DATA_HOME / 'title.ratings.tsv.gz', compression='gzip', sep='\\t')"
      ],
      "metadata": {
        "id": "QZTqnS2UwKqd"
      },
      "execution_count": null,
      "outputs": []
    },
    {
      "cell_type": "code",
      "execution_count": 19,
      "metadata": {
        "colab": {
          "base_uri": "https://localhost:8080/"
        },
        "id": "JuDbYE6ubqsh",
        "outputId": "7844e502-4ed2-4959-dff8-f95432f449e6"
      },
      "outputs": [
        {
          "output_type": "execute_result",
          "data": {
            "text/plain": [
              "3788"
            ]
          },
          "metadata": {},
          "execution_count": 19
        }
      ],
      "source": [
        "candidates = (\n",
        "    principals_df[\n",
        "        principals_df.category.isin(['actress', 'actor', 'director']) &\n",
        "        principals_df.tconst.isin(set(title_basics[title_basics.startYear >= 1980].tconst)) &\n",
        "        principals_df.tconst.isin(set(ratings_df[ratings_df.numVotes > 100000].tconst))\n",
        "    ].nconst.unique()\n",
        ")\n",
        "\n",
        "candidates = [c for c in candidates if c in model.wv.vocab]\n",
        "len(candidates)"
      ]
    },
    {
      "cell_type": "code",
      "execution_count": 47,
      "metadata": {
        "scrolled": false,
        "colab": {
          "base_uri": "https://localhost:8080/",
          "height": 1000
        },
        "id": "CrYRWbpjbqsh",
        "outputId": "eeb9b854-2e56-46a9-ec31-a9f0805141f0"
      },
      "outputs": [
        {
          "output_type": "display_data",
          "data": {
            "text/plain": [
              "<IPython.core.display.HTML object>"
            ],
            "text/html": [
              "\n",
              "    <div style=\"width: 150px; text-align: center\">\n",
              "        <h4 style='margin-top: -5px'>Jay Chou</h4>\n",
              "        <div style='font-size:75%; margin-bottom: 5px'>nm1727100</div>\n",
              "        <a href=\"https://www.imdb.com/name/nm1727100\" target=\"_blank\">\n",
              "            <img style=\"width: 100px; display: block; margin-left: auto; margin-right: auto;\" src=\"https://m.media-amazon.com/images/M/MV5BMTgwNTEyMzUzMV5BMl5BanBnXkFtZTcwOTY2MDIzNA@@._V1_UY317_CR10,0,214,317_AL_.jpg\"/>\n",
              "        </a>\n",
              "    </div>\n",
              "    "
            ]
          },
          "metadata": {}
        },
        {
          "output_type": "display_data",
          "data": {
            "text/plain": [
              "<IPython.core.display.HTML object>"
            ],
            "text/html": [
              "<div style=\"width: 1800px\"><div style=\"margin-left: 10px; float: left\">\n",
              "    <div style=\"width: 150px; text-align: center\">\n",
              "        <h4 style='margin-top: -5px'>Gong Li</h4>\n",
              "        <div style='font-size:75%; margin-bottom: 5px'>nm0000084</div>\n",
              "        <a href=\"https://www.imdb.com/name/nm0000084\" target=\"_blank\">\n",
              "            <img style=\"width: 100px; display: block; margin-left: auto; margin-right: auto;\" src=\"https://m.media-amazon.com/images/M/MV5BMTk4MzMwMjc5NF5BMl5BanBnXkFtZTYwMDMyNzQz._V1_UX214_CR0,0,214,317_AL_.jpg\"/>\n",
              "        </a>\n",
              "    </div>\n",
              "    </div><div style=\"margin-left: 10px; float: left\">\n",
              "    <div style=\"width: 150px; text-align: center\">\n",
              "        <h4 style='margin-top: -5px'>Yimou Zhang</h4>\n",
              "        <div style='font-size:75%; margin-bottom: 5px'>nm0955443</div>\n",
              "        <a href=\"https://www.imdb.com/name/nm0955443\" target=\"_blank\">\n",
              "            <img style=\"width: 100px; display: block; margin-left: auto; margin-right: auto;\" src=\"https://m.media-amazon.com/images/M/MV5BMTY0MTQ4NDI3N15BMl5BanBnXkFtZTYwODg3NTE2._V1_UX214_CR0,0,214,317_AL_.jpg\"/>\n",
              "        </a>\n",
              "    </div>\n",
              "    </div><div style=\"margin-left: 10px; float: left\">\n",
              "    <div style=\"width: 150px; text-align: center\">\n",
              "        <h4 style='margin-top: -5px'>Donnie Yen</h4>\n",
              "        <div style='font-size:75%; margin-bottom: 5px'>nm0947447</div>\n",
              "        <a href=\"https://www.imdb.com/name/nm0947447\" target=\"_blank\">\n",
              "            <img style=\"width: 100px; display: block; margin-left: auto; margin-right: auto;\" src=\"https://m.media-amazon.com/images/M/MV5BZGU0ZjFjZGMtZGU4My00ZmRmLTk2Y2EtOWNlZjhhZmE2MjIwXkEyXkFqcGdeQXVyMTA2MDIzMDE5._V1_UY317_CR5,0,214,317_AL_.jpg\"/>\n",
              "        </a>\n",
              "    </div>\n",
              "    </div><div style=\"margin-left: 10px; float: left\">\n",
              "    <div style=\"width: 150px; text-align: center\">\n",
              "        <h4 style='margin-top: -5px'>Leehom Wang</h4>\n",
              "        <div style='font-size:75%; margin-bottom: 5px'>nm0910966</div>\n",
              "        <a href=\"https://www.imdb.com/name/nm0910966\" target=\"_blank\">\n",
              "            <img style=\"width: 100px; display: block; margin-left: auto; margin-right: auto;\" src=\"https://m.media-amazon.com/images/M/MV5BMjExNzA1NjIyN15BMl5BanBnXkFtZTgwMTQwMjEwODM@._V1_UY317_CR51,0,214,317_AL_.jpg\"/>\n",
              "        </a>\n",
              "    </div>\n",
              "    </div><div style=\"margin-left: 10px; float: left\">\n",
              "    <div style=\"width: 150px; text-align: center\">\n",
              "        <h4 style='margin-top: -5px'>Kaige Chen</h4>\n",
              "        <div style='font-size:75%; margin-bottom: 5px'>nm0155280</div>\n",
              "        <a href=\"https://www.imdb.com/name/nm0155280\" target=\"_blank\">\n",
              "            <img style=\"width: 100px; display: block; margin-left: auto; margin-right: auto;\" src=\"https://m.media-amazon.com/images/M/MV5BMTI0MjM4NzQ2MF5BMl5BanBnXkFtZTYwMzQ2MDA0._V1_UX214_CR0,0,214,317_AL_.jpg\"/>\n",
              "        </a>\n",
              "    </div>\n",
              "    </div><div style=\"margin-left: 10px; float: left\">\n",
              "    <div style=\"width: 150px; text-align: center\">\n",
              "        <h4 style='margin-top: -5px'>Ziyi Zhang</h4>\n",
              "        <div style='font-size:75%; margin-bottom: 5px'>nm0955471</div>\n",
              "        <a href=\"https://www.imdb.com/name/nm0955471\" target=\"_blank\">\n",
              "            <img style=\"width: 100px; display: block; margin-left: auto; margin-right: auto;\" src=\"https://m.media-amazon.com/images/M/MV5BNjk1NzY2ODAyOF5BMl5BanBnXkFtZTgwNTE2NjExMDI@._V1_UY317_CR6,0,214,317_AL_.jpg\"/>\n",
              "        </a>\n",
              "    </div>\n",
              "    </div><div style=\"margin-left: 10px; float: left\">\n",
              "    <div style=\"width: 150px; text-align: center\">\n",
              "        <h4 style='margin-top: -5px'>Christopher Doyle</h4>\n",
              "        <div style='font-size:75%; margin-bottom: 5px'>nm0236313</div>\n",
              "        <a href=\"https://www.imdb.com/name/nm0236313\" target=\"_blank\">\n",
              "            <img style=\"width: 100px; display: block; margin-left: auto; margin-right: auto;\" src=\"https://m.media-amazon.com/images/M/MV5BYzA2YjIxZmUtNzNiOC00Y2M5LTgyYzAtOTQ0ODliOWFhYjRmXkEyXkFqcGdeQXVyNjUxMjc1OTM@._V1_UY317_CR17,0,214,317_AL_.jpg\"/>\n",
              "        </a>\n",
              "    </div>\n",
              "    </div><div style=\"margin-left: 10px; float: left\">\n",
              "    <div style=\"width: 150px; text-align: center\">\n",
              "        <h4 style='margin-top: -5px'>Hui-Ling Wang</h4>\n",
              "        <div style='font-size:75%; margin-bottom: 5px'>nm0910924</div>\n",
              "        <a href=\"https://www.imdb.com/name/nm0910924\" target=\"_blank\">\n",
              "            <img style=\"width: 100px; display: block; margin-left: auto; margin-right: auto;\" src=\"https://m.media-amazon.com/images/G/01/imdb/images/nopicture/medium/name-2135195744._CB466677935_.png\"/>\n",
              "        </a>\n",
              "    </div>\n",
              "    </div><div style=\"margin-left: 10px; float: left\">\n",
              "    <div style=\"width: 150px; text-align: center\">\n",
              "        <h4 style='margin-top: -5px'>Tang Wei</h4>\n",
              "        <div style='font-size:75%; margin-bottom: 5px'>nm2325018</div>\n",
              "        <a href=\"https://www.imdb.com/name/nm2325018\" target=\"_blank\">\n",
              "            <img style=\"width: 100px; display: block; margin-left: auto; margin-right: auto;\" src=\"https://m.media-amazon.com/images/M/MV5BMTY0MDc0NTU3M15BMl5BanBnXkFtZTYwMzU4ODI4._V1_UX214_CR0,0,214,317_AL_.jpg\"/>\n",
              "        </a>\n",
              "    </div>\n",
              "    </div><div style=\"margin-left: 10px; float: left\">\n",
              "    <div style=\"width: 150px; text-align: center\">\n",
              "        <h4 style='margin-top: -5px'>Bingbing Fan</h4>\n",
              "        <div style='font-size:75%; margin-bottom: 5px'>nm1549063</div>\n",
              "        <a href=\"https://www.imdb.com/name/nm1549063\" target=\"_blank\">\n",
              "            <img style=\"width: 100px; display: block; margin-left: auto; margin-right: auto;\" src=\"https://m.media-amazon.com/images/M/MV5BMTQzMjcyNjk5NF5BMl5BanBnXkFtZTcwNDIzOTc0OQ@@._V1_UY317_CR2,0,214,317_AL_.jpg\"/>\n",
              "        </a>\n",
              "    </div>\n",
              "    </div></div>"
            ]
          },
          "metadata": {}
        },
        {
          "output_type": "display_data",
          "data": {
            "text/plain": [
              "<IPython.core.display.HTML object>"
            ],
            "text/html": [
              "\n",
              "    <div style=\"width: 150px; text-align: center\">\n",
              "        <h4 style='margin-top: -5px'>Elisabeth Shue</h4>\n",
              "        <div style='font-size:75%; margin-bottom: 5px'>nm0000223</div>\n",
              "        <a href=\"https://www.imdb.com/name/nm0000223\" target=\"_blank\">\n",
              "            <img style=\"width: 100px; display: block; margin-left: auto; margin-right: auto;\" src=\"https://m.media-amazon.com/images/M/MV5BOWFkZTIxN2ItODhlOC00MDMwLWEyYTEtZWMxNWQ2MzU3ZjZmXkEyXkFqcGdeQXVyNjk1MjYyNTA@._V1_UY317_CR51,0,214,317_AL_.jpg\"/>\n",
              "        </a>\n",
              "    </div>\n",
              "    "
            ]
          },
          "metadata": {}
        },
        {
          "output_type": "display_data",
          "data": {
            "text/plain": [
              "<IPython.core.display.HTML object>"
            ],
            "text/html": [
              "<div style=\"width: 1800px\"><div style=\"margin-left: 10px; float: left\">\n",
              "    <div style=\"width: 150px; text-align: center\">\n",
              "        <h4 style='margin-top: -5px'>Keith Gordon</h4>\n",
              "        <div style='font-size:75%; margin-bottom: 5px'>nm0330360</div>\n",
              "        <a href=\"https://www.imdb.com/name/nm0330360\" target=\"_blank\">\n",
              "            <img style=\"width: 100px; display: block; margin-left: auto; margin-right: auto;\" src=\"https://m.media-amazon.com/images/M/MV5BMTc3NzI5MDE4OF5BMl5BanBnXkFtZTcwNjAzMDA4NQ@@._V1_UY317_CR104,0,214,317_AL_.jpg\"/>\n",
              "        </a>\n",
              "    </div>\n",
              "    </div><div style=\"margin-left: 10px; float: left\">\n",
              "    <div style=\"width: 150px; text-align: center\">\n",
              "        <h4 style='margin-top: -5px'>Steve Perry</h4>\n",
              "        <div style='font-size:75%; margin-bottom: 5px'>nm0675305</div>\n",
              "        <a href=\"https://www.imdb.com/name/nm0675305\" target=\"_blank\">\n",
              "            <img style=\"width: 100px; display: block; margin-left: auto; margin-right: auto;\" src=\"https://m.media-amazon.com/images/M/MV5BYTliYzNhMWMtMzI5MS00Zjc5LWI3ODgtZmMyMTgzODNmYzg0XkEyXkFqcGdeQXVyMTI3MjA4NTc@._V1_UY317_CR13,0,214,317_AL_.jpg\"/>\n",
              "        </a>\n",
              "    </div>\n",
              "    </div><div style=\"margin-left: 10px; float: left\">\n",
              "    <div style=\"width: 150px; text-align: center\">\n",
              "        <h4 style='margin-top: -5px'>Sela Ward</h4>\n",
              "        <div style='font-size:75%; margin-bottom: 5px'>nm0000688</div>\n",
              "        <a href=\"https://www.imdb.com/name/nm0000688\" target=\"_blank\">\n",
              "            <img style=\"width: 100px; display: block; margin-left: auto; margin-right: auto;\" src=\"https://m.media-amazon.com/images/M/MV5BMTZlZDE3YzAtNGZiMi00YTA4LTk0MGUtZDkxNTY0MzQ0YzEwXkEyXkFqcGdeQXVyMTExNzQzMDE0._V1_UY317_CR130,0,214,317_AL_.jpg\"/>\n",
              "        </a>\n",
              "    </div>\n",
              "    </div><div style=\"margin-left: 10px; float: left\">\n",
              "    <div style=\"width: 150px; text-align: center\">\n",
              "        <h4 style='margin-top: -5px'>Eric Stoltz</h4>\n",
              "        <div style='font-size:75%; margin-bottom: 5px'>nm0000655</div>\n",
              "        <a href=\"https://www.imdb.com/name/nm0000655\" target=\"_blank\">\n",
              "            <img style=\"width: 100px; display: block; margin-left: auto; margin-right: auto;\" src=\"https://m.media-amazon.com/images/M/MV5BMTc1Njc5MjQyOF5BMl5BanBnXkFtZTYwNzQzNzgz._V1_UY317_CR6,0,214,317_AL_.jpg\"/>\n",
              "        </a>\n",
              "    </div>\n",
              "    </div><div style=\"margin-left: 10px; float: left\">\n",
              "    <div style=\"width: 150px; text-align: center\">\n",
              "        <h4 style='margin-top: -5px'>Leelee Sobieski</h4>\n",
              "        <div style='font-size:75%; margin-bottom: 5px'>nm0005447</div>\n",
              "        <a href=\"https://www.imdb.com/name/nm0005447\" target=\"_blank\">\n",
              "            <img style=\"width: 100px; display: block; margin-left: auto; margin-right: auto;\" src=\"https://m.media-amazon.com/images/M/MV5BMTI4NDc0MzMzMV5BMl5BanBnXkFtZTYwOTc3Mjk2._V1_UY317_CR12,0,214,317_AL_.jpg\"/>\n",
              "        </a>\n",
              "    </div>\n",
              "    </div><div style=\"margin-left: 10px; float: left\">\n",
              "    <div style=\"width: 150px; text-align: center\">\n",
              "        <h4 style='margin-top: -5px'>Conrad M. Gonzalez</h4>\n",
              "        <div style='font-size:75%; margin-bottom: 5px'>nm0327649</div>\n",
              "        <a href=\"https://www.imdb.com/name/nm0327649\" target=\"_blank\">\n",
              "            <img style=\"width: 100px; display: block; margin-left: auto; margin-right: auto;\" src=\"https://m.media-amazon.com/images/G/01/imdb/images/nopicture/medium/name-2135195744._CB466677935_.png\"/>\n",
              "        </a>\n",
              "    </div>\n",
              "    </div><div style=\"margin-left: 10px; float: left\">\n",
              "    <div style=\"width: 150px; text-align: center\">\n",
              "        <h4 style='margin-top: -5px'>William Petersen</h4>\n",
              "        <div style='font-size:75%; margin-bottom: 5px'>nm0676973</div>\n",
              "        <a href=\"https://www.imdb.com/name/nm0676973\" target=\"_blank\">\n",
              "            <img style=\"width: 100px; display: block; margin-left: auto; margin-right: auto;\" src=\"https://m.media-amazon.com/images/M/MV5BMTUyOTk0NDg2OF5BMl5BanBnXkFtZTYwOTUyMzk1._V1_UX214_CR0,0,214,317_AL_.jpg\"/>\n",
              "        </a>\n",
              "    </div>\n",
              "    </div><div style=\"margin-left: 10px; float: left\">\n",
              "    <div style=\"width: 150px; text-align: center\">\n",
              "        <h4 style='margin-top: -5px'>Ron Moler</h4>\n",
              "        <div style='font-size:75%; margin-bottom: 5px'>nm0596542</div>\n",
              "        <a href=\"https://www.imdb.com/name/nm0596542\" target=\"_blank\">\n",
              "            <img style=\"width: 100px; display: block; margin-left: auto; margin-right: auto;\" src=\"https://m.media-amazon.com/images/G/01/imdb/images/nopicture/medium/name-2135195744._CB466677935_.png\"/>\n",
              "        </a>\n",
              "    </div>\n",
              "    </div><div style=\"margin-left: 10px; float: left\">\n",
              "    <div style=\"width: 150px; text-align: center\">\n",
              "        <h4 style='margin-top: -5px'>Paul Guilfoyle</h4>\n",
              "        <div style='font-size:75%; margin-bottom: 5px'>nm0002117</div>\n",
              "        <a href=\"https://www.imdb.com/name/nm0002117\" target=\"_blank\">\n",
              "            <img style=\"width: 100px; display: block; margin-left: auto; margin-right: auto;\" src=\"https://m.media-amazon.com/images/M/MV5BMjAxNjY1NjkwNV5BMl5BanBnXkFtZTYwMTQ2MDg0._V1_UX214_CR0,0,214,317_AL_.jpg\"/>\n",
              "        </a>\n",
              "    </div>\n",
              "    </div><div style=\"margin-left: 10px; float: left\">\n",
              "    <div style=\"width: 150px; text-align: center\">\n",
              "        <h4 style='margin-top: -5px'>Timothy Hutton</h4>\n",
              "        <div style='font-size:75%; margin-bottom: 5px'>nm0000459</div>\n",
              "        <a href=\"https://www.imdb.com/name/nm0000459\" target=\"_blank\">\n",
              "            <img style=\"width: 100px; display: block; margin-left: auto; margin-right: auto;\" src=\"https://m.media-amazon.com/images/M/MV5BMTU4MjYxODUwNV5BMl5BanBnXkFtZTcwNTg5Nzg4Mg@@._V1_UY317_CR103,0,214,317_AL_.jpg\"/>\n",
              "        </a>\n",
              "    </div>\n",
              "    </div></div>"
            ]
          },
          "metadata": {}
        },
        {
          "output_type": "display_data",
          "data": {
            "text/plain": [
              "<IPython.core.display.HTML object>"
            ],
            "text/html": [
              "\n",
              "    <div style=\"width: 150px; text-align: center\">\n",
              "        <h4 style='margin-top: -5px'>Oren Peli</h4>\n",
              "        <div style='font-size:75%; margin-bottom: 5px'>nm2305431</div>\n",
              "        <a href=\"https://www.imdb.com/name/nm2305431\" target=\"_blank\">\n",
              "            <img style=\"width: 100px; display: block; margin-left: auto; margin-right: auto;\" src=\"https://m.media-amazon.com/images/M/MV5BMjA2MTI3NDIyOF5BMl5BanBnXkFtZTcwMDMxMjI0Nw@@._V1_UY317_CR17,0,214,317_AL_.jpg\"/>\n",
              "        </a>\n",
              "    </div>\n",
              "    "
            ]
          },
          "metadata": {}
        },
        {
          "output_type": "display_data",
          "data": {
            "text/plain": [
              "<IPython.core.display.HTML object>"
            ],
            "text/html": [
              "<div style=\"width: 1800px\"><div style=\"margin-left: 10px; float: left\">\n",
              "    <div style=\"width: 150px; text-align: center\">\n",
              "        <h4 style='margin-top: -5px'>Igby Rigney</h4>\n",
              "        <div style='font-size:75%; margin-bottom: 5px'>nm9723807</div>\n",
              "        <a href=\"https://www.imdb.com/name/nm9723807\" target=\"_blank\">\n",
              "            <img style=\"width: 100px; display: block; margin-left: auto; margin-right: auto;\" src=\"https://m.media-amazon.com/images/M/MV5BN2IwOWE2NjgtZDZhZS00NDU5LWEyM2YtODk5ZThiNjlmYzVjXkEyXkFqcGdeQXVyODY3NjkyMTk@._V1_UY317_CR91,0,214,317_AL_.jpg\"/>\n",
              "        </a>\n",
              "    </div>\n",
              "    </div><div style=\"margin-left: 10px; float: left\">\n",
              "    <div style=\"width: 150px; text-align: center\">\n",
              "        <h4 style='margin-top: -5px'>Shane Harper</h4>\n",
              "        <div style='font-size:75%; margin-bottom: 5px'>nm2436499</div>\n",
              "        <a href=\"https://www.imdb.com/name/nm2436499\" target=\"_blank\">\n",
              "            <img style=\"width: 100px; display: block; margin-left: auto; margin-right: auto;\" src=\"https://m.media-amazon.com/images/M/MV5BOWNmYjJiNWYtYTU2MS00YjE0LWI4Y2QtMmI5NDE1NWNkZTM3XkEyXkFqcGdeQXVyMTQ3NjcwMzU@._V1_UX214_CR0,0,214,317_AL_.jpg\"/>\n",
              "        </a>\n",
              "    </div>\n",
              "    </div><div style=\"margin-left: 10px; float: left\">\n",
              "    <div style=\"width: 150px; text-align: center\">\n",
              "        <h4 style='margin-top: -5px'>Abby Brammell</h4>\n",
              "        <div style='font-size:75%; margin-bottom: 5px'>nm1354503</div>\n",
              "        <a href=\"https://www.imdb.com/name/nm1354503\" target=\"_blank\">\n",
              "            <img style=\"width: 100px; display: block; margin-left: auto; margin-right: auto;\" src=\"https://m.media-amazon.com/images/M/MV5BOTY1YmM2ZDktN2JhZS00MDVjLTg1ZWUtMmZkNGEwMzZmNDM5XkEyXkFqcGdeQXVyMjQwMDg0Ng@@._V1_UY317_CR20,0,214,317_AL_.jpg\"/>\n",
              "        </a>\n",
              "    </div>\n",
              "    </div><div style=\"margin-left: 10px; float: left\">\n",
              "    <div style=\"width: 150px; text-align: center\">\n",
              "        <h4 style='margin-top: -5px'>Zach Gilford</h4>\n",
              "        <div style='font-size:75%; margin-bottom: 5px'>nm1472917</div>\n",
              "        <a href=\"https://www.imdb.com/name/nm1472917\" target=\"_blank\">\n",
              "            <img style=\"width: 100px; display: block; margin-left: auto; margin-right: auto;\" src=\"https://m.media-amazon.com/images/M/MV5BMTg1MDc0NjQyMV5BMl5BanBnXkFtZTgwNTkyMTIzMDE@._V1_UY317_CR41,0,214,317_AL_.jpg\"/>\n",
              "        </a>\n",
              "    </div>\n",
              "    </div><div style=\"margin-left: 10px; float: left\">\n",
              "    <div style=\"width: 150px; text-align: center\">\n",
              "        <h4 style='margin-top: -5px'>Travis Sentell</h4>\n",
              "        <div style='font-size:75%; margin-bottom: 5px'>nm1996621</div>\n",
              "        <a href=\"https://www.imdb.com/name/nm1996621\" target=\"_blank\">\n",
              "            <img style=\"width: 100px; display: block; margin-left: auto; margin-right: auto;\" src=\"https://m.media-amazon.com/images/G/01/imdb/images/nopicture/medium/name-2135195744._CB466677935_.png\"/>\n",
              "        </a>\n",
              "    </div>\n",
              "    </div><div style=\"margin-left: 10px; float: left\">\n",
              "    <div style=\"width: 150px; text-align: center\">\n",
              "        <h4 style='margin-top: -5px'>Tessa Blake</h4>\n",
              "        <div style='font-size:75%; margin-bottom: 5px'>nm0086745</div>\n",
              "        <a href=\"https://www.imdb.com/name/nm0086745\" target=\"_blank\">\n",
              "            <img style=\"width: 100px; display: block; margin-left: auto; margin-right: auto;\" src=\"https://m.media-amazon.com/images/M/MV5BYThjMzMyMmQtZTdjNi00NDE5LTk2YjUtNzNlMDFjZDc1OTY5XkEyXkFqcGdeQXVyMjc2NjA3Mg@@._V1_UY317_CR22,0,214,317_AL_.jpg\"/>\n",
              "        </a>\n",
              "    </div>\n",
              "    </div><div style=\"margin-left: 10px; float: left\">\n",
              "    <div style=\"width: 150px; text-align: center\">\n",
              "        <h4 style='margin-top: -5px'>Leon Chills</h4>\n",
              "        <div style='font-size:75%; margin-bottom: 5px'>nm6233868</div>\n",
              "        <a href=\"https://www.imdb.com/name/nm6233868\" target=\"_blank\">\n",
              "            <img style=\"width: 100px; display: block; margin-left: auto; margin-right: auto;\" src=\"https://m.media-amazon.com/images/M/MV5BOWQyN2I0YWMtNDYxNS00NzU2LTlhMmYtYTQwYTA2NjRhZGEyXkEyXkFqcGdeQXVyMjg5ODMwOTQ@._V1_UX214_CR0,0,214,317_AL_.jpg\"/>\n",
              "        </a>\n",
              "    </div>\n",
              "    </div><div style=\"margin-left: 10px; float: left\">\n",
              "    <div style=\"width: 150px; text-align: center\">\n",
              "        <h4 style='margin-top: -5px'>Patrick Rizzotti</h4>\n",
              "        <div style='font-size:75%; margin-bottom: 5px'>nm0729948</div>\n",
              "        <a href=\"https://www.imdb.com/name/nm0729948\" target=\"_blank\">\n",
              "            <img style=\"width: 100px; display: block; margin-left: auto; margin-right: auto;\" src=\"https://m.media-amazon.com/images/M/MV5BNmM4YmYyN2ItMzhlNy00ZGE1LThiODEtZDJiMGYxNjdlODVkXkEyXkFqcGdeQXVyMjU1NTM2NA@@._V1_UX214_CR0,0,214,317_AL_.jpg\"/>\n",
              "        </a>\n",
              "    </div>\n",
              "    </div><div style=\"margin-left: 10px; float: left\">\n",
              "    <div style=\"width: 150px; text-align: center\">\n",
              "        <h4 style='margin-top: -5px'>Todd McMullen</h4>\n",
              "        <div style='font-size:75%; margin-bottom: 5px'>nm0573347</div>\n",
              "        <a href=\"https://www.imdb.com/name/nm0573347\" target=\"_blank\">\n",
              "            <img style=\"width: 100px; display: block; margin-left: auto; margin-right: auto;\" src=\"https://m.media-amazon.com/images/M/MV5BMTkyYTgwN2MtOTdhMC00MmRlLWEyYjMtYmYwOThjNWRmOTgyXkEyXkFqcGdeQXVyMTMzMjI2Mg@@._V1_UY317_CR89,0,214,317_AL_.jpg\"/>\n",
              "        </a>\n",
              "    </div>\n",
              "    </div><div style=\"margin-left: 10px; float: left\">\n",
              "    <div style=\"width: 150px; text-align: center\">\n",
              "        <h4 style='margin-top: -5px'>Amy Forsyth</h4>\n",
              "        <div style='font-size:75%; margin-bottom: 5px'>nm5046593</div>\n",
              "        <a href=\"https://www.imdb.com/name/nm5046593\" target=\"_blank\">\n",
              "            <img style=\"width: 100px; display: block; margin-left: auto; margin-right: auto;\" src=\"https://m.media-amazon.com/images/M/MV5BZDFlM2U0NzEtZjdjNy00MWExLTg2MzQtM2Y3ZDEwY2YxYzM0XkEyXkFqcGdeQXVyMTM0MDYzMzg1._V1_UY317_CR20,0,214,317_AL_.jpg\"/>\n",
              "        </a>\n",
              "    </div>\n",
              "    </div></div>"
            ]
          },
          "metadata": {}
        },
        {
          "output_type": "display_data",
          "data": {
            "text/plain": [
              "<IPython.core.display.HTML object>"
            ],
            "text/html": [
              "\n",
              "    <div style=\"width: 150px; text-align: center\">\n",
              "        <h4 style='margin-top: -5px'>Clea DuVall</h4>\n",
              "        <div style='font-size:75%; margin-bottom: 5px'>nm0245112</div>\n",
              "        <a href=\"https://www.imdb.com/name/nm0245112\" target=\"_blank\">\n",
              "            <img style=\"width: 100px; display: block; margin-left: auto; margin-right: auto;\" src=\"https://m.media-amazon.com/images/M/MV5BMjU0NDc3MTM4NV5BMl5BanBnXkFtZTcwMjY4Mzc1OA@@._V1_UY317_CR1,0,214,317_AL_.jpg\"/>\n",
              "        </a>\n",
              "    </div>\n",
              "    "
            ]
          },
          "metadata": {}
        },
        {
          "output_type": "display_data",
          "data": {
            "text/plain": [
              "<IPython.core.display.HTML object>"
            ],
            "text/html": [
              "<div style=\"width: 1800px\"><div style=\"margin-left: 10px; float: left\">\n",
              "    <div style=\"width: 150px; text-align: center\">\n",
              "        <h4 style='margin-top: -5px'>Jessica Hecht</h4>\n",
              "        <div style='font-size:75%; margin-bottom: 5px'>nm0372961</div>\n",
              "        <a href=\"https://www.imdb.com/name/nm0372961\" target=\"_blank\">\n",
              "            <img style=\"width: 100px; display: block; margin-left: auto; margin-right: auto;\" src=\"https://m.media-amazon.com/images/M/MV5BMTUyNDA3MzUxM15BMl5BanBnXkFtZTcwOTM1NTQ0NA@@._V1_UX214_CR0,0,214,317_AL_.jpg\"/>\n",
              "        </a>\n",
              "    </div>\n",
              "    </div><div style=\"margin-left: 10px; float: left\">\n",
              "    <div style=\"width: 150px; text-align: center\">\n",
              "        <h4 style='margin-top: -5px'>Danny Leiner</h4>\n",
              "        <div style='font-size:75%; margin-bottom: 5px'>nm0500444</div>\n",
              "        <a href=\"https://www.imdb.com/name/nm0500444\" target=\"_blank\">\n",
              "            <img style=\"width: 100px; display: block; margin-left: auto; margin-right: auto;\" src=\"https://m.media-amazon.com/images/M/MV5BMTIwMTA5NTkyNV5BMl5BanBnXkFtZTYwOTIxOTIz._V1_UX214_CR0,0,214,317_AL_.jpg\"/>\n",
              "        </a>\n",
              "    </div>\n",
              "    </div><div style=\"margin-left: 10px; float: left\">\n",
              "    <div style=\"width: 150px; text-align: center\">\n",
              "        <h4 style='margin-top: -5px'>Lyle Workman</h4>\n",
              "        <div style='font-size:75%; margin-bottom: 5px'>nm1015867</div>\n",
              "        <a href=\"https://www.imdb.com/name/nm1015867\" target=\"_blank\">\n",
              "            <img style=\"width: 100px; display: block; margin-left: auto; margin-right: auto;\" src=\"https://m.media-amazon.com/images/M/MV5BMjI0ODAzMDgzMl5BMl5BanBnXkFtZTcwNzk3MTU1Mw@@._V1_UY317_CR3,0,214,317_AL_.jpg\"/>\n",
              "        </a>\n",
              "    </div>\n",
              "    </div><div style=\"margin-left: 10px; float: left\">\n",
              "    <div style=\"width: 150px; text-align: center\">\n",
              "        <h4 style='margin-top: -5px'>Daniel Dubiecki</h4>\n",
              "        <div style='font-size:75%; margin-bottom: 5px'>nm0239277</div>\n",
              "        <a href=\"https://www.imdb.com/name/nm0239277\" target=\"_blank\">\n",
              "            <img style=\"width: 100px; display: block; margin-left: auto; margin-right: auto;\" src=\"https://m.media-amazon.com/images/M/MV5BMTQzODQ2NTU4Nl5BMl5BanBnXkFyZXN1bWU@._V1_UX214_CR0,0,214,317_AL_.jpg\"/>\n",
              "        </a>\n",
              "    </div>\n",
              "    </div><div style=\"margin-left: 10px; float: left\">\n",
              "    <div style=\"width: 150px; text-align: center\">\n",
              "        <h4 style='margin-top: -5px'>Nicholas D'Agosto</h4>\n",
              "        <div style='font-size:75%; margin-bottom: 5px'>nm0194900</div>\n",
              "        <a href=\"https://www.imdb.com/name/nm0194900\" target=\"_blank\">\n",
              "            <img style=\"width: 100px; display: block; margin-left: auto; margin-right: auto;\" src=\"https://m.media-amazon.com/images/M/MV5BNjE4Y2MyZjYtYmJmMy00NmZhLWFkZGQtYmQ2ZGU2OGVkNWM3XkEyXkFqcGdeQXVyODk4ODA5Mg@@._V1_UX214_CR0,0,214,317_AL_.jpg\"/>\n",
              "        </a>\n",
              "    </div>\n",
              "    </div><div style=\"margin-left: 10px; float: left\">\n",
              "    <div style=\"width: 150px; text-align: center\">\n",
              "        <h4 style='margin-top: -5px'>Timm Sharp</h4>\n",
              "        <div style='font-size:75%; margin-bottom: 5px'>nm0789171</div>\n",
              "        <a href=\"https://www.imdb.com/name/nm0789171\" target=\"_blank\">\n",
              "            <img style=\"width: 100px; display: block; margin-left: auto; margin-right: auto;\" src=\"https://m.media-amazon.com/images/M/MV5BMTQ3NTAxNjU2N15BMl5BanBnXkFtZTcwOTQ1MTMzMQ@@._V1_UY317_CR14,0,214,317_AL_.jpg\"/>\n",
              "        </a>\n",
              "    </div>\n",
              "    </div><div style=\"margin-left: 10px; float: left\">\n",
              "    <div style=\"width: 150px; text-align: center\">\n",
              "        <h4 style='margin-top: -5px'>Jaz Sinclair</h4>\n",
              "        <div style='font-size:75%; margin-bottom: 5px'>nm3596959</div>\n",
              "        <a href=\"https://www.imdb.com/name/nm3596959\" target=\"_blank\">\n",
              "            <img style=\"width: 100px; display: block; margin-left: auto; margin-right: auto;\" src=\"https://m.media-amazon.com/images/M/MV5BNmY3OTRiNjEtZDRkMi00YzQwLWE3ZDctNjQ1M2ExM2ViY2FlXkEyXkFqcGdeQXVyMjI3MjY2ODQ@._V1_UY317_CR51,0,214,317_AL_.jpg\"/>\n",
              "        </a>\n",
              "    </div>\n",
              "    </div><div style=\"margin-left: 10px; float: left\">\n",
              "    <div style=\"width: 150px; text-align: center\">\n",
              "        <h4 style='margin-top: -5px'>Brian Van Holt</h4>\n",
              "        <div style='font-size:75%; margin-bottom: 5px'>nm0887144</div>\n",
              "        <a href=\"https://www.imdb.com/name/nm0887144\" target=\"_blank\">\n",
              "            <img style=\"width: 100px; display: block; margin-left: auto; margin-right: auto;\" src=\"https://m.media-amazon.com/images/M/MV5BMTM4MTI2ODc5Ml5BMl5BanBnXkFtZTYwMDE4MDA0._V1_UX214_CR0,0,214,317_AL_.jpg\"/>\n",
              "        </a>\n",
              "    </div>\n",
              "    </div><div style=\"margin-left: 10px; float: left\">\n",
              "    <div style=\"width: 150px; text-align: center\">\n",
              "        <h4 style='margin-top: -5px'>Schuyler Fisk</h4>\n",
              "        <div style='font-size:75%; margin-bottom: 5px'>nm0004922</div>\n",
              "        <a href=\"https://www.imdb.com/name/nm0004922\" target=\"_blank\">\n",
              "            <img style=\"width: 100px; display: block; margin-left: auto; margin-right: auto;\" src=\"https://m.media-amazon.com/images/M/MV5BODQxOTcwOTM0NV5BMl5BanBnXkFtZTgwNjIxMjU3MTE@._V1_UY317_CR6,0,214,317_AL_.jpg\"/>\n",
              "        </a>\n",
              "    </div>\n",
              "    </div><div style=\"margin-left: 10px; float: left\">\n",
              "    <div style=\"width: 150px; text-align: center\">\n",
              "        <h4 style='margin-top: -5px'>Tina Majorino</h4>\n",
              "        <div style='font-size:75%; margin-bottom: 5px'>nm0001499</div>\n",
              "        <a href=\"https://www.imdb.com/name/nm0001499\" target=\"_blank\">\n",
              "            <img style=\"width: 100px; display: block; margin-left: auto; margin-right: auto;\" src=\"https://m.media-amazon.com/images/M/MV5BNzA5ZDE5YzgtOTgwNC00ZmVhLWE4YmUtOGYzN2Q5MzhiOThjXkEyXkFqcGdeQXVyMTA5MzMyMTEx._V1_UX214_CR0,0,214,317_AL_.jpg\"/>\n",
              "        </a>\n",
              "    </div>\n",
              "    </div></div>"
            ]
          },
          "metadata": {}
        },
        {
          "output_type": "display_data",
          "data": {
            "text/plain": [
              "<IPython.core.display.HTML object>"
            ],
            "text/html": [
              "\n",
              "    <div style=\"width: 150px; text-align: center\">\n",
              "        <h4 style='margin-top: -5px'>Mitchell Ryan</h4>\n",
              "        <div style='font-size:75%; margin-bottom: 5px'>nm0752751</div>\n",
              "        <a href=\"https://www.imdb.com/name/nm0752751\" target=\"_blank\">\n",
              "            <img style=\"width: 100px; display: block; margin-left: auto; margin-right: auto;\" src=\"https://m.media-amazon.com/images/M/MV5BMjE3ODQ5OTUzM15BMl5BanBnXkFtZTYwOTAzNjcz._V1_UX214_CR0,0,214,317_AL_.jpg\"/>\n",
              "        </a>\n",
              "    </div>\n",
              "    "
            ]
          },
          "metadata": {}
        },
        {
          "output_type": "display_data",
          "data": {
            "text/plain": [
              "<IPython.core.display.HTML object>"
            ],
            "text/html": [
              "<div style=\"width: 1800px\"><div style=\"margin-left: 10px; float: left\">\n",
              "    <div style=\"width: 150px; text-align: center\">\n",
              "        <h4 style='margin-top: -5px'>James Sutorius</h4>\n",
              "        <div style='font-size:75%; margin-bottom: 5px'>nm0840211</div>\n",
              "        <a href=\"https://www.imdb.com/name/nm0840211\" target=\"_blank\">\n",
              "            <img style=\"width: 100px; display: block; margin-left: auto; margin-right: auto;\" src=\"https://m.media-amazon.com/images/M/MV5BNTg1NDk0NjMyNF5BMl5BanBnXkFtZTYwMTU1NjAz._V1_UX214_CR0,0,214,317_AL_.jpg\"/>\n",
              "        </a>\n",
              "    </div>\n",
              "    </div><div style=\"margin-left: 10px; float: left\">\n",
              "    <div style=\"width: 150px; text-align: center\">\n",
              "        <h4 style='margin-top: -5px'>Joanna Miles</h4>\n",
              "        <div style='font-size:75%; margin-bottom: 5px'>nm0587151</div>\n",
              "        <a href=\"https://www.imdb.com/name/nm0587151\" target=\"_blank\">\n",
              "            <img style=\"width: 100px; display: block; margin-left: auto; margin-right: auto;\" src=\"https://m.media-amazon.com/images/M/MV5BMTgyMzU5MjE5Nl5BMl5BanBnXkFtZTgwMDkzMjk4NjE@._V1_UX214_CR0,0,214,317_AL_.jpg\"/>\n",
              "        </a>\n",
              "    </div>\n",
              "    </div><div style=\"margin-left: 10px; float: left\">\n",
              "    <div style=\"width: 150px; text-align: center\">\n",
              "        <h4 style='margin-top: -5px'>Gary Frank</h4>\n",
              "        <div style='font-size:75%; margin-bottom: 5px'>nm0290933</div>\n",
              "        <a href=\"https://www.imdb.com/name/nm0290933\" target=\"_blank\">\n",
              "            <img style=\"width: 100px; display: block; margin-left: auto; margin-right: auto;\" src=\"https://m.media-amazon.com/images/M/MV5BMjEyOTM4NTA5Nl5BMl5BanBnXkFtZTgwMjA3MjU3MTE@._V1_UY317_CR136,0,214,317_AL_.jpg\"/>\n",
              "        </a>\n",
              "    </div>\n",
              "    </div><div style=\"margin-left: 10px; float: left\">\n",
              "    <div style=\"width: 150px; text-align: center\">\n",
              "        <h4 style='margin-top: -5px'>Alex Colon</h4>\n",
              "        <div style='font-size:75%; margin-bottom: 5px'>nm0173107</div>\n",
              "        <a href=\"https://www.imdb.com/name/nm0173107\" target=\"_blank\">\n",
              "            <img style=\"width: 100px; display: block; margin-left: auto; margin-right: auto;\" src=\"https://m.media-amazon.com/images/M/MV5BODNkZWFhNGYtYzg2Mi00ZTQ3LTgzOGEtM2RkZTUwMGRlNmZlXkEyXkFqcGdeQXVyNjUxMjc1OTM@._V1_UY317_CR6,0,214,317_AL_.jpg\"/>\n",
              "        </a>\n",
              "    </div>\n",
              "    </div><div style=\"margin-left: 10px; float: left\">\n",
              "    <div style=\"width: 150px; text-align: center\">\n",
              "        <h4 style='margin-top: -5px'>Jerry Jameson</h4>\n",
              "        <div style='font-size:75%; margin-bottom: 5px'>nm0417054</div>\n",
              "        <a href=\"https://www.imdb.com/name/nm0417054\" target=\"_blank\">\n",
              "            <img style=\"width: 100px; display: block; margin-left: auto; margin-right: auto;\" src=\"https://m.media-amazon.com/images/G/01/imdb/images/nopicture/medium/name-2135195744._CB466677935_.png\"/>\n",
              "        </a>\n",
              "    </div>\n",
              "    </div><div style=\"margin-left: 10px; float: left\">\n",
              "    <div style=\"width: 150px; text-align: center\">\n",
              "        <h4 style='margin-top: -5px'>Gary Allen</h4>\n",
              "        <div style='font-size:75%; margin-bottom: 5px'>nm0020530</div>\n",
              "        <a href=\"https://www.imdb.com/name/nm0020530\" target=\"_blank\">\n",
              "            <img style=\"width: 100px; display: block; margin-left: auto; margin-right: auto;\" src=\"https://m.media-amazon.com/images/G/01/imdb/images/nopicture/medium/name-2135195744._CB466677935_.png\"/>\n",
              "        </a>\n",
              "    </div>\n",
              "    </div><div style=\"margin-left: 10px; float: left\">\n",
              "    <div style=\"width: 150px; text-align: center\">\n",
              "        <h4 style='margin-top: -5px'>Edward Parone</h4>\n",
              "        <div style='font-size:75%; margin-bottom: 5px'>nm0663271</div>\n",
              "        <a href=\"https://www.imdb.com/name/nm0663271\" target=\"_blank\">\n",
              "            <img style=\"width: 100px; display: block; margin-left: auto; margin-right: auto;\" src=\"https://m.media-amazon.com/images/G/01/imdb/images/nopicture/medium/name-2135195744._CB466677935_.png\"/>\n",
              "        </a>\n",
              "    </div>\n",
              "    </div><div style=\"margin-left: 10px; float: left\">\n",
              "    <div style=\"width: 150px; text-align: center\">\n",
              "        <h4 style='margin-top: -5px'>Vincent Baggetta</h4>\n",
              "        <div style='font-size:75%; margin-bottom: 5px'>nm0046635</div>\n",
              "        <a href=\"https://www.imdb.com/name/nm0046635\" target=\"_blank\">\n",
              "            <img style=\"width: 100px; display: block; margin-left: auto; margin-right: auto;\" src=\"https://m.media-amazon.com/images/M/MV5BZjljODQ2MzItMjgxNC00N2FkLWFkNmYtZjYxNTEzNGU2MWIxXkEyXkFqcGdeQXVyMjM2ODYwMQ@@._V1_UY317_CR101,0,214,317_AL_.jpg\"/>\n",
              "        </a>\n",
              "    </div>\n",
              "    </div><div style=\"margin-left: 10px; float: left\">\n",
              "    <div style=\"width: 150px; text-align: center\">\n",
              "        <h4 style='margin-top: -5px'>Shel Willens</h4>\n",
              "        <div style='font-size:75%; margin-bottom: 5px'>nm0929769</div>\n",
              "        <a href=\"https://www.imdb.com/name/nm0929769\" target=\"_blank\">\n",
              "            <img style=\"width: 100px; display: block; margin-left: auto; margin-right: auto;\" src=\"https://m.media-amazon.com/images/G/01/imdb/images/nopicture/medium/name-2135195744._CB466677935_.png\"/>\n",
              "        </a>\n",
              "    </div>\n",
              "    </div><div style=\"margin-left: 10px; float: left\">\n",
              "    <div style=\"width: 150px; text-align: center\">\n",
              "        <h4 style='margin-top: -5px'>Mario DiLeo</h4>\n",
              "        <div style='font-size:75%; margin-bottom: 5px'>nm0226748</div>\n",
              "        <a href=\"https://www.imdb.com/name/nm0226748\" target=\"_blank\">\n",
              "            <img style=\"width: 100px; display: block; margin-left: auto; margin-right: auto;\" src=\"https://m.media-amazon.com/images/M/MV5BMmQ4NzQzYzctY2ZiOC00Yzc1LTg5NjctNDIxZWFhNzhlMWY5XkEyXkFqcGdeQXVyMjQ1NzA2NjM@._V1_UY317_CR11,0,214,317_AL_.jpg\"/>\n",
              "        </a>\n",
              "    </div>\n",
              "    </div></div>"
            ]
          },
          "metadata": {}
        },
        {
          "output_type": "display_data",
          "data": {
            "text/plain": [
              "<IPython.core.display.HTML object>"
            ],
            "text/html": [
              "\n",
              "    <div style=\"width: 150px; text-align: center\">\n",
              "        <h4 style='margin-top: -5px'>Anne Bancroft</h4>\n",
              "        <div style='font-size:75%; margin-bottom: 5px'>nm0000843</div>\n",
              "        <a href=\"https://www.imdb.com/name/nm0000843\" target=\"_blank\">\n",
              "            <img style=\"width: 100px; display: block; margin-left: auto; margin-right: auto;\" src=\"https://m.media-amazon.com/images/M/MV5BMTg2MzQ3MTk4OV5BMl5BanBnXkFtZTcwMzIzNzgzNA@@._V1_UY317_CR17,0,214,317_AL_.jpg\"/>\n",
              "        </a>\n",
              "    </div>\n",
              "    "
            ]
          },
          "metadata": {}
        },
        {
          "output_type": "display_data",
          "data": {
            "text/plain": [
              "<IPython.core.display.HTML object>"
            ],
            "text/html": [
              "<div style=\"width: 1800px\"><div style=\"margin-left: 10px; float: left\">\n",
              "    <div style=\"width: 150px; text-align: center\">\n",
              "        <h4 style='margin-top: -5px'>Lee Strasberg</h4>\n",
              "        <div style='font-size:75%; margin-bottom: 5px'>nm0833448</div>\n",
              "        <a href=\"https://www.imdb.com/name/nm0833448\" target=\"_blank\">\n",
              "            <img style=\"width: 100px; display: block; margin-left: auto; margin-right: auto;\" src=\"https://m.media-amazon.com/images/M/MV5BNTkzNDM2OTA4N15BMl5BanBnXkFtZTcwMDg2MzY2OQ@@._V1_UY317_CR23,0,214,317_AL_.jpg\"/>\n",
              "        </a>\n",
              "    </div>\n",
              "    </div><div style=\"margin-left: 10px; float: left\">\n",
              "    <div style=\"width: 150px; text-align: center\">\n",
              "        <h4 style='margin-top: -5px'>Jack Lemmon</h4>\n",
              "        <div style='font-size:75%; margin-bottom: 5px'>nm0000493</div>\n",
              "        <a href=\"https://www.imdb.com/name/nm0000493\" target=\"_blank\">\n",
              "            <img style=\"width: 100px; display: block; margin-left: auto; margin-right: auto;\" src=\"https://m.media-amazon.com/images/M/MV5BMTE5NTE3ODE1N15BMl5BanBnXkFtZTYwOTU1MTM2._V1_UY317_CR7,0,214,317_AL_.jpg\"/>\n",
              "        </a>\n",
              "    </div>\n",
              "    </div><div style=\"margin-left: 10px; float: left\">\n",
              "    <div style=\"width: 150px; text-align: center\">\n",
              "        <h4 style='margin-top: -5px'>Stephen Sondheim</h4>\n",
              "        <div style='font-size:75%; margin-bottom: 5px'>nm0814227</div>\n",
              "        <a href=\"https://www.imdb.com/name/nm0814227\" target=\"_blank\">\n",
              "            <img style=\"width: 100px; display: block; margin-left: auto; margin-right: auto;\" src=\"https://m.media-amazon.com/images/M/MV5BMjEyOTcyNjE3M15BMl5BanBnXkFtZTYwOTM3NTc4._V1_UY317_CR4,0,214,317_AL_.jpg\"/>\n",
              "        </a>\n",
              "    </div>\n",
              "    </div><div style=\"margin-left: 10px; float: left\">\n",
              "    <div style=\"width: 150px; text-align: center\">\n",
              "        <h4 style='margin-top: -5px'>Robert Towne</h4>\n",
              "        <div style='font-size:75%; margin-bottom: 5px'>nm0001801</div>\n",
              "        <a href=\"https://www.imdb.com/name/nm0001801\" target=\"_blank\">\n",
              "            <img style=\"width: 100px; display: block; margin-left: auto; margin-right: auto;\" src=\"https://m.media-amazon.com/images/M/MV5BMTY4NjA2ODA0Nl5BMl5BanBnXkFtZTYwNzM5Mjg1._V1_UX214_CR0,0,214,317_AL_.jpg\"/>\n",
              "        </a>\n",
              "    </div>\n",
              "    </div><div style=\"margin-left: 10px; float: left\">\n",
              "    <div style=\"width: 150px; text-align: center\">\n",
              "        <h4 style='margin-top: -5px'>Arthur Laurents</h4>\n",
              "        <div style='font-size:75%; margin-bottom: 5px'>nm0491306</div>\n",
              "        <a href=\"https://www.imdb.com/name/nm0491306\" target=\"_blank\">\n",
              "            <img style=\"width: 100px; display: block; margin-left: auto; margin-right: auto;\" src=\"https://m.media-amazon.com/images/M/MV5BMTEyMTkyMDY3MzReQTJeQWpwZ15BbWU3MDQ0NTc3MTU@._V1_UX214_CR0,0,214,317_AL_.jpg\"/>\n",
              "        </a>\n",
              "    </div>\n",
              "    </div><div style=\"margin-left: 10px; float: left\">\n",
              "    <div style=\"width: 150px; text-align: center\">\n",
              "        <h4 style='margin-top: -5px'>Peter Yates</h4>\n",
              "        <div style='font-size:75%; margin-bottom: 5px'>nm0946811</div>\n",
              "        <a href=\"https://www.imdb.com/name/nm0946811\" target=\"_blank\">\n",
              "            <img style=\"width: 100px; display: block; margin-left: auto; margin-right: auto;\" src=\"https://m.media-amazon.com/images/M/MV5BMTQ4ODUwMzQ3N15BMl5BanBnXkFtZTcwNjYyMDkwMw@@._V1_UY317_CR5,0,214,317_AL_.jpg\"/>\n",
              "        </a>\n",
              "    </div>\n",
              "    </div><div style=\"margin-left: 10px; float: left\">\n",
              "    <div style=\"width: 150px; text-align: center\">\n",
              "        <h4 style='margin-top: -5px'>Walter Bernstein</h4>\n",
              "        <div style='font-size:75%; margin-bottom: 5px'>nm0077159</div>\n",
              "        <a href=\"https://www.imdb.com/name/nm0077159\" target=\"_blank\">\n",
              "            <img style=\"width: 100px; display: block; margin-left: auto; margin-right: auto;\" src=\"https://m.media-amazon.com/images/M/MV5BMmU3YmMwZmQtNGMzMS00NmNhLTlkMjMtMzc3Y2ZiMGUxMDI3XkEyXkFqcGdeQXVyMDc2NTEzMw@@._V1_UY317_CR42,0,214,317_AL_.jpg\"/>\n",
              "        </a>\n",
              "    </div>\n",
              "    </div><div style=\"margin-left: 10px; float: left\">\n",
              "    <div style=\"width: 150px; text-align: center\">\n",
              "        <h4 style='margin-top: -5px'>Jessica Tandy</h4>\n",
              "        <div style='font-size:75%; margin-bottom: 5px'>nm0001788</div>\n",
              "        <a href=\"https://www.imdb.com/name/nm0001788\" target=\"_blank\">\n",
              "            <img style=\"width: 100px; display: block; margin-left: auto; margin-right: auto;\" src=\"https://m.media-amazon.com/images/M/MV5BMTg0NjUyODQzNV5BMl5BanBnXkFtZTcwNzA5ODgwMw@@._V1_UY317_CR28,0,214,317_AL_.jpg\"/>\n",
              "        </a>\n",
              "    </div>\n",
              "    </div><div style=\"margin-left: 10px; float: left\">\n",
              "    <div style=\"width: 150px; text-align: center\">\n",
              "        <h4 style='margin-top: -5px'>Truman Capote</h4>\n",
              "        <div style='font-size:75%; margin-bottom: 5px'>nm0001986</div>\n",
              "        <a href=\"https://www.imdb.com/name/nm0001986\" target=\"_blank\">\n",
              "            <img style=\"width: 100px; display: block; margin-left: auto; margin-right: auto;\" src=\"https://m.media-amazon.com/images/M/MV5BMjE1Mzc1Mzc2OF5BMl5BanBnXkFtZTYwMjM0ODM2._V1_UY317_CR4,0,214,317_AL_.jpg\"/>\n",
              "        </a>\n",
              "    </div>\n",
              "    </div><div style=\"margin-left: 10px; float: left\">\n",
              "    <div style=\"width: 150px; text-align: center\">\n",
              "        <h4 style='margin-top: -5px'>Herbert Ross</h4>\n",
              "        <div style='font-size:75%; margin-bottom: 5px'>nm0006889</div>\n",
              "        <a href=\"https://www.imdb.com/name/nm0006889\" target=\"_blank\">\n",
              "            <img style=\"width: 100px; display: block; margin-left: auto; margin-right: auto;\" src=\"https://m.media-amazon.com/images/M/MV5BMTMxMjEzNDQ1MV5BMl5BanBnXkFtZTcwNjczMDAxMw@@._V1_UY317_CR29,0,214,317_AL_.jpg\"/>\n",
              "        </a>\n",
              "    </div>\n",
              "    </div></div>"
            ]
          },
          "metadata": {}
        },
        {
          "output_type": "display_data",
          "data": {
            "text/plain": [
              "<IPython.core.display.HTML object>"
            ],
            "text/html": [
              "\n",
              "    <div style=\"width: 150px; text-align: center\">\n",
              "        <h4 style='margin-top: -5px'>Scott Glenn</h4>\n",
              "        <div style='font-size:75%; margin-bottom: 5px'>nm0001277</div>\n",
              "        <a href=\"https://www.imdb.com/name/nm0001277\" target=\"_blank\">\n",
              "            <img style=\"width: 100px; display: block; margin-left: auto; margin-right: auto;\" src=\"https://m.media-amazon.com/images/M/MV5BMTU3NzAwMzE1OF5BMl5BanBnXkFtZTYwMjkzOTY0._V1_UY317_CR13,0,214,317_AL_.jpg\"/>\n",
              "        </a>\n",
              "    </div>\n",
              "    "
            ]
          },
          "metadata": {}
        },
        {
          "output_type": "display_data",
          "data": {
            "text/plain": [
              "<IPython.core.display.HTML object>"
            ],
            "text/html": [
              "<div style=\"width: 1800px\"><div style=\"margin-left: 10px; float: left\">\n",
              "    <div style=\"width: 150px; text-align: center\">\n",
              "        <h4 style='margin-top: -5px'>Andrew Davis</h4>\n",
              "        <div style='font-size:75%; margin-bottom: 5px'>nm0001112</div>\n",
              "        <a href=\"https://www.imdb.com/name/nm0001112\" target=\"_blank\">\n",
              "            <img style=\"width: 100px; display: block; margin-left: auto; margin-right: auto;\" src=\"https://m.media-amazon.com/images/M/MV5BODI0MDUxNzgwNV5BMl5BanBnXkFtZTgwNjUyMDM2MTE@._V1_UY317_CR24,0,214,317_AL_.jpg\"/>\n",
              "        </a>\n",
              "    </div>\n",
              "    </div><div style=\"margin-left: 10px; float: left\">\n",
              "    <div style=\"width: 150px; text-align: center\">\n",
              "        <h4 style='margin-top: -5px'>Adam Holender</h4>\n",
              "        <div style='font-size:75%; margin-bottom: 5px'>nm0390435</div>\n",
              "        <a href=\"https://www.imdb.com/name/nm0390435\" target=\"_blank\">\n",
              "            <img style=\"width: 100px; display: block; margin-left: auto; margin-right: auto;\" src=\"https://m.media-amazon.com/images/M/MV5BN2JlZTg4MjUtNmFkYi00OTgxLWJmNjAtMWY3YTcwZGQ2OTIxL2ltYWdlXkEyXkFqcGdeQXVyMTc4MzI2NQ@@._V1_UY317_CR18,0,214,317_AL_.jpg\"/>\n",
              "        </a>\n",
              "    </div>\n",
              "    </div><div style=\"margin-left: 10px; float: left\">\n",
              "    <div style=\"width: 150px; text-align: center\">\n",
              "        <h4 style='margin-top: -5px'>Richard Pearce</h4>\n",
              "        <div style='font-size:75%; margin-bottom: 5px'>nm0669004</div>\n",
              "        <a href=\"https://www.imdb.com/name/nm0669004\" target=\"_blank\">\n",
              "            <img style=\"width: 100px; display: block; margin-left: auto; margin-right: auto;\" src=\"https://m.media-amazon.com/images/M/MV5BMTgzMjA2NjExNF5BMl5BanBnXkFtZTYwOTgyNTA0._V1_UX214_CR0,0,214,317_AL_.jpg\"/>\n",
              "        </a>\n",
              "    </div>\n",
              "    </div><div style=\"margin-left: 10px; float: left\">\n",
              "    <div style=\"width: 150px; text-align: center\">\n",
              "        <h4 style='margin-top: -5px'>Walter Hill</h4>\n",
              "        <div style='font-size:75%; margin-bottom: 5px'>nm0001353</div>\n",
              "        <a href=\"https://www.imdb.com/name/nm0001353\" target=\"_blank\">\n",
              "            <img style=\"width: 100px; display: block; margin-left: auto; margin-right: auto;\" src=\"https://m.media-amazon.com/images/M/MV5BMTM4NzE5NTU3Nl5BMl5BanBnXkFtZTcwMTkyODE2OQ@@._V1_UY317_CR131,0,214,317_AL_.jpg\"/>\n",
              "        </a>\n",
              "    </div>\n",
              "    </div><div style=\"margin-left: 10px; float: left\">\n",
              "    <div style=\"width: 150px; text-align: center\">\n",
              "        <h4 style='margin-top: -5px'>Thomas Michael Donnelly</h4>\n",
              "        <div style='font-size:75%; margin-bottom: 5px'>nm0232777</div>\n",
              "        <a href=\"https://www.imdb.com/name/nm0232777\" target=\"_blank\">\n",
              "            <img style=\"width: 100px; display: block; margin-left: auto; margin-right: auto;\" src=\"https://m.media-amazon.com/images/G/01/imdb/images/nopicture/medium/name-2135195744._CB466677935_.png\"/>\n",
              "        </a>\n",
              "    </div>\n",
              "    </div><div style=\"margin-left: 10px; float: left\">\n",
              "    <div style=\"width: 150px; text-align: center\">\n",
              "        <h4 style='margin-top: -5px'>Martin Bregman</h4>\n",
              "        <div style='font-size:75%; margin-bottom: 5px'>nm0106840</div>\n",
              "        <a href=\"https://www.imdb.com/name/nm0106840\" target=\"_blank\">\n",
              "            <img style=\"width: 100px; display: block; margin-left: auto; margin-right: auto;\" src=\"https://m.media-amazon.com/images/M/MV5BMjIyOTcyNzgxMF5BMl5BanBnXkFtZTcwMTM3OTI0Ng@@._V1_UX214_CR0,0,214,317_AL_.jpg\"/>\n",
              "        </a>\n",
              "    </div>\n",
              "    </div><div style=\"margin-left: 10px; float: left\">\n",
              "    <div style=\"width: 150px; text-align: center\">\n",
              "        <h4 style='margin-top: -5px'>Brooke Adams</h4>\n",
              "        <div style='font-size:75%; margin-bottom: 5px'>nm0000724</div>\n",
              "        <a href=\"https://www.imdb.com/name/nm0000724\" target=\"_blank\">\n",
              "            <img style=\"width: 100px; display: block; margin-left: auto; margin-right: auto;\" src=\"https://m.media-amazon.com/images/M/MV5BMTA1OTMzMjgzNTVeQTJeQWpwZ15BbWU2MDIyMjQ3Mw@@._V1_UY317_CR1,0,214,317_AL_.jpg\"/>\n",
              "        </a>\n",
              "    </div>\n",
              "    </div><div style=\"margin-left: 10px; float: left\">\n",
              "    <div style=\"width: 150px; text-align: center\">\n",
              "        <h4 style='margin-top: -5px'>James Horner</h4>\n",
              "        <div style='font-size:75%; margin-bottom: 5px'>nm0000035</div>\n",
              "        <a href=\"https://www.imdb.com/name/nm0000035\" target=\"_blank\">\n",
              "            <img style=\"width: 100px; display: block; margin-left: auto; margin-right: auto;\" src=\"https://m.media-amazon.com/images/M/MV5BNTI1MDI5MTM3Nl5BMl5BanBnXkFtZTgwOTk4OTUwNjE@._V1_UY317_CR11,0,214,317_AL_.jpg\"/>\n",
              "        </a>\n",
              "    </div>\n",
              "    </div><div style=\"margin-left: 10px; float: left\">\n",
              "    <div style=\"width: 150px; text-align: center\">\n",
              "        <h4 style='margin-top: -5px'>Tak Fujimoto</h4>\n",
              "        <div style='font-size:75%; margin-bottom: 5px'>nm0005714</div>\n",
              "        <a href=\"https://www.imdb.com/name/nm0005714\" target=\"_blank\">\n",
              "            <img style=\"width: 100px; display: block; margin-left: auto; margin-right: auto;\" src=\"https://m.media-amazon.com/images/M/MV5BMWRlMjg5MzAtMDU2ZS00Mjg4LWIwMGUtNTAzNzc1NjY4NjczXkEyXkFqcGdeQXVyMjE5MzM3MjA@._V1_UY317_CR127,0,214,317_AL_.jpg\"/>\n",
              "        </a>\n",
              "    </div>\n",
              "    </div><div style=\"margin-left: 10px; float: left\">\n",
              "    <div style=\"width: 150px; text-align: center\">\n",
              "        <h4 style='margin-top: -5px'>Irwin Winkler</h4>\n",
              "        <div style='font-size:75%; margin-bottom: 5px'>nm0005563</div>\n",
              "        <a href=\"https://www.imdb.com/name/nm0005563\" target=\"_blank\">\n",
              "            <img style=\"width: 100px; display: block; margin-left: auto; margin-right: auto;\" src=\"https://m.media-amazon.com/images/M/MV5BMTc0NDM0OTAzMF5BMl5BanBnXkFtZTgwODc4NzkyMTI@._V1_UY317_CR83,0,214,317_AL_.jpg\"/>\n",
              "        </a>\n",
              "    </div>\n",
              "    </div></div>"
            ]
          },
          "metadata": {}
        },
        {
          "output_type": "display_data",
          "data": {
            "text/plain": [
              "<IPython.core.display.HTML object>"
            ],
            "text/html": [
              "\n",
              "    <div style=\"width: 150px; text-align: center\">\n",
              "        <h4 style='margin-top: -5px'>Adam Scott</h4>\n",
              "        <div style='font-size:75%; margin-bottom: 5px'>nm0004395</div>\n",
              "        <a href=\"https://www.imdb.com/name/nm0004395\" target=\"_blank\">\n",
              "            <img style=\"width: 100px; display: block; margin-left: auto; margin-right: auto;\" src=\"https://m.media-amazon.com/images/M/MV5BOGUwZmFkODEtMWYwMi00NjE2LThhYzYtMmMxMTMyYTRhMzIxXkEyXkFqcGdeQXVyOTIyNzUwNjI@._V1_UY317_CR8,0,214,317_AL_.jpg\"/>\n",
              "        </a>\n",
              "    </div>\n",
              "    "
            ]
          },
          "metadata": {}
        },
        {
          "output_type": "display_data",
          "data": {
            "text/plain": [
              "<IPython.core.display.HTML object>"
            ],
            "text/html": [
              "<div style=\"width: 1800px\"><div style=\"margin-left: 10px; float: left\">\n",
              "    <div style=\"width: 150px; text-align: center\">\n",
              "        <h4 style='margin-top: -5px'>Lorene Scafaria</h4>\n",
              "        <div style='font-size:75%; margin-bottom: 5px'>nm1032521</div>\n",
              "        <a href=\"https://www.imdb.com/name/nm1032521\" target=\"_blank\">\n",
              "            <img style=\"width: 100px; display: block; margin-left: auto; margin-right: auto;\" src=\"https://m.media-amazon.com/images/M/MV5BNzE3NjkzMzE3M15BMl5BanBnXkFtZTcwNzE0MDIwNg@@._V1_UY317_CR23,0,214,317_AL_.jpg\"/>\n",
              "        </a>\n",
              "    </div>\n",
              "    </div><div style=\"margin-left: 10px; float: left\">\n",
              "    <div style=\"width: 150px; text-align: center\">\n",
              "        <h4 style='margin-top: -5px'>Matt Spicer</h4>\n",
              "        <div style='font-size:75%; margin-bottom: 5px'>nm0818485</div>\n",
              "        <a href=\"https://www.imdb.com/name/nm0818485\" target=\"_blank\">\n",
              "            <img style=\"width: 100px; display: block; margin-left: auto; margin-right: auto;\" src=\"https://m.media-amazon.com/images/M/MV5BMTU4NzY4MTIxMF5BMl5BanBnXkFtZTgwOTA5NDE5MDI@._V1_UX214_CR0,0,214,317_AL_.jpg\"/>\n",
              "        </a>\n",
              "    </div>\n",
              "    </div><div style=\"margin-left: 10px; float: left\">\n",
              "    <div style=\"width: 150px; text-align: center\">\n",
              "        <h4 style='margin-top: -5px'>Michael Andrews</h4>\n",
              "        <div style='font-size:75%; margin-bottom: 5px'>nm0028787</div>\n",
              "        <a href=\"https://www.imdb.com/name/nm0028787\" target=\"_blank\">\n",
              "            <img style=\"width: 100px; display: block; margin-left: auto; margin-right: auto;\" src=\"https://m.media-amazon.com/images/G/01/imdb/images/nopicture/medium/name-2135195744._CB466677935_.png\"/>\n",
              "        </a>\n",
              "    </div>\n",
              "    </div><div style=\"margin-left: 10px; float: left\">\n",
              "    <div style=\"width: 150px; text-align: center\">\n",
              "        <h4 style='margin-top: -5px'>Christina Kirk</h4>\n",
              "        <div style='font-size:75%; margin-bottom: 5px'>nm0456454</div>\n",
              "        <a href=\"https://www.imdb.com/name/nm0456454\" target=\"_blank\">\n",
              "            <img style=\"width: 100px; display: block; margin-left: auto; margin-right: auto;\" src=\"https://m.media-amazon.com/images/M/MV5BMTY3NjA1ODg0Ml5BMl5BanBnXkFtZTgwNTEwMDM5MTE@._V1_UY317_CR65,0,214,317_AL_.jpg\"/>\n",
              "        </a>\n",
              "    </div>\n",
              "    </div><div style=\"margin-left: 10px; float: left\">\n",
              "    <div style=\"width: 150px; text-align: center\">\n",
              "        <h4 style='margin-top: -5px'>Lee Eisenberg</h4>\n",
              "        <div style='font-size:75%; margin-bottom: 5px'>nm1072409</div>\n",
              "        <a href=\"https://www.imdb.com/name/nm1072409\" target=\"_blank\">\n",
              "            <img style=\"width: 100px; display: block; margin-left: auto; margin-right: auto;\" src=\"https://m.media-amazon.com/images/M/MV5BMTQ2MzU5ODU5NV5BMl5BanBnXkFtZTcwNDc1ODMxOA@@._V1_UX214_CR0,0,214,317_AL_.jpg\"/>\n",
              "        </a>\n",
              "    </div>\n",
              "    </div><div style=\"margin-left: 10px; float: left\">\n",
              "    <div style=\"width: 150px; text-align: center\">\n",
              "        <h4 style='margin-top: -5px'>James Ponsoldt</h4>\n",
              "        <div style='font-size:75%; margin-bottom: 5px'>nm1242054</div>\n",
              "        <a href=\"https://www.imdb.com/name/nm1242054\" target=\"_blank\">\n",
              "            <img style=\"width: 100px; display: block; margin-left: auto; margin-right: auto;\" src=\"https://m.media-amazon.com/images/M/MV5BMTkzNTQ2NzY4OF5BMl5BanBnXkFtZTcwMjAxNTMyNw@@._V1_UY317_CR97,0,214,317_AL_.jpg\"/>\n",
              "        </a>\n",
              "    </div>\n",
              "    </div><div style=\"margin-left: 10px; float: left\">\n",
              "    <div style=\"width: 150px; text-align: center\">\n",
              "        <h4 style='margin-top: -5px'>Eleanor Jean</h4>\n",
              "        <div style='font-size:75%; margin-bottom: 5px'>nm6833639</div>\n",
              "        <a href=\"https://www.imdb.com/name/nm6833639\" target=\"_blank\">\n",
              "            <img style=\"width: 100px; display: block; margin-left: auto; margin-right: auto;\" src=\"https://m.media-amazon.com/images/G/01/imdb/images/nopicture/medium/name-2135195744._CB466677935_.png\"/>\n",
              "        </a>\n",
              "    </div>\n",
              "    </div><div style=\"margin-left: 10px; float: left\">\n",
              "    <div style=\"width: 150px; text-align: center\">\n",
              "        <h4 style='margin-top: -5px'>Dana Fox</h4>\n",
              "        <div style='font-size:75%; margin-bottom: 5px'>nm1401416</div>\n",
              "        <a href=\"https://www.imdb.com/name/nm1401416\" target=\"_blank\">\n",
              "            <img style=\"width: 100px; display: block; margin-left: auto; margin-right: auto;\" src=\"https://m.media-amazon.com/images/M/MV5BMTI4NDQwMDA0N15BMl5BanBnXkFtZTcwNjY1NDg4Mg@@._V1_UY317_CR2,0,214,317_AL_.jpg\"/>\n",
              "        </a>\n",
              "    </div>\n",
              "    </div><div style=\"margin-left: 10px; float: left\">\n",
              "    <div style=\"width: 150px; text-align: center\">\n",
              "        <h4 style='margin-top: -5px'>Allan Mandelbaum</h4>\n",
              "        <div style='font-size:75%; margin-bottom: 5px'>nm4346498</div>\n",
              "        <a href=\"https://www.imdb.com/name/nm4346498\" target=\"_blank\">\n",
              "            <img style=\"width: 100px; display: block; margin-left: auto; margin-right: auto;\" src=\"https://m.media-amazon.com/images/G/01/imdb/images/nopicture/medium/name-2135195744._CB466677935_.png\"/>\n",
              "        </a>\n",
              "    </div>\n",
              "    </div><div style=\"margin-left: 10px; float: left\">\n",
              "    <div style=\"width: 150px; text-align: center\">\n",
              "        <h4 style='margin-top: -5px'>Noah Harpster</h4>\n",
              "        <div style='font-size:75%; margin-bottom: 5px'>nm1406764</div>\n",
              "        <a href=\"https://www.imdb.com/name/nm1406764\" target=\"_blank\">\n",
              "            <img style=\"width: 100px; display: block; margin-left: auto; margin-right: auto;\" src=\"https://m.media-amazon.com/images/M/MV5BMTYwNzM5MzU3MV5BMl5BanBnXkFtZTgwMzcxMzY2OTE@._V1_UY317_CR9,0,214,317_AL_.jpg\"/>\n",
              "        </a>\n",
              "    </div>\n",
              "    </div></div>"
            ]
          },
          "metadata": {}
        },
        {
          "output_type": "display_data",
          "data": {
            "text/plain": [
              "<IPython.core.display.HTML object>"
            ],
            "text/html": [
              "\n",
              "    <div style=\"width: 150px; text-align: center\">\n",
              "        <h4 style='margin-top: -5px'>Fran Kranz</h4>\n",
              "        <div style='font-size:75%; margin-bottom: 5px'>nm0469823</div>\n",
              "        <a href=\"https://www.imdb.com/name/nm0469823\" target=\"_blank\">\n",
              "            <img style=\"width: 100px; display: block; margin-left: auto; margin-right: auto;\" src=\"https://m.media-amazon.com/images/M/MV5BMjU1MTM4OTQzNV5BMl5BanBnXkFtZTcwODM0Mjc3Nw@@._V1_UY317_CR5,0,214,317_AL_.jpg\"/>\n",
              "        </a>\n",
              "    </div>\n",
              "    "
            ]
          },
          "metadata": {}
        },
        {
          "output_type": "display_data",
          "data": {
            "text/plain": [
              "<IPython.core.display.HTML object>"
            ],
            "text/html": [
              "<div style=\"width: 1800px\"><div style=\"margin-left: 10px; float: left\">\n",
              "    <div style=\"width: 150px; text-align: center\">\n",
              "        <h4 style='margin-top: -5px'>Todd Sandler</h4>\n",
              "        <div style='font-size:75%; margin-bottom: 5px'>nm0972102</div>\n",
              "        <a href=\"https://www.imdb.com/name/nm0972102\" target=\"_blank\">\n",
              "            <img style=\"width: 100px; display: block; margin-left: auto; margin-right: auto;\" src=\"https://m.media-amazon.com/images/G/01/imdb/images/nopicture/medium/name-2135195744._CB466677935_.png\"/>\n",
              "        </a>\n",
              "    </div>\n",
              "    </div><div style=\"margin-left: 10px; float: left\">\n",
              "    <div style=\"width: 150px; text-align: center\">\n",
              "        <h4 style='margin-top: -5px'>Eboni Booth</h4>\n",
              "        <div style='font-size:75%; margin-bottom: 5px'>nm2061635</div>\n",
              "        <a href=\"https://www.imdb.com/name/nm2061635\" target=\"_blank\">\n",
              "            <img style=\"width: 100px; display: block; margin-left: auto; margin-right: auto;\" src=\"https://m.media-amazon.com/images/M/MV5BY2VjNTcxM2MtNDUzZC00YzBmLTk2ODQtNzEyMWZhZmY2MGQ0XkEyXkFqcGdeQXVyMjM1MDE0ODk@._V1_UX214_CR0,0,214,317_AL_.jpg\"/>\n",
              "        </a>\n",
              "    </div>\n",
              "    </div><div style=\"margin-left: 10px; float: left\">\n",
              "    <div style=\"width: 150px; text-align: center\">\n",
              "        <h4 style='margin-top: -5px'>Dominic Burgess</h4>\n",
              "        <div style='font-size:75%; margin-bottom: 5px'>nm1941237</div>\n",
              "        <a href=\"https://www.imdb.com/name/nm1941237\" target=\"_blank\">\n",
              "            <img style=\"width: 100px; display: block; margin-left: auto; margin-right: auto;\" src=\"https://m.media-amazon.com/images/M/MV5BZjAzOWFhYjEtOTA1MC00Zjg1LTk1NWUtNzZiZDZkYjc5YWUxXkEyXkFqcGdeQXVyNzE2Mjk2Mw@@._V1_UY317_CR7,0,214,317_AL_.jpg\"/>\n",
              "        </a>\n",
              "    </div>\n",
              "    </div><div style=\"margin-left: 10px; float: left\">\n",
              "    <div style=\"width: 150px; text-align: center\">\n",
              "        <h4 style='margin-top: -5px'>Brandon Flynn</h4>\n",
              "        <div style='font-size:75%; margin-bottom: 5px'>nm8210730</div>\n",
              "        <a href=\"https://www.imdb.com/name/nm8210730\" target=\"_blank\">\n",
              "            <img style=\"width: 100px; display: block; margin-left: auto; margin-right: auto;\" src=\"https://m.media-amazon.com/images/M/MV5BNjhiZWRiYWEtYjc3ZS00NzZiLWE1YTYtYWE3NGFiMjc2NjE4XkEyXkFqcGdeQXVyODMzMTM1MDc@._V1_UX214_CR0,0,214,317_AL_.jpg\"/>\n",
              "        </a>\n",
              "    </div>\n",
              "    </div><div style=\"margin-left: 10px; float: left\">\n",
              "    <div style=\"width: 150px; text-align: center\">\n",
              "        <h4 style='margin-top: -5px'>Scott Haze</h4>\n",
              "        <div style='font-size:75%; margin-bottom: 5px'>nm2020278</div>\n",
              "        <a href=\"https://www.imdb.com/name/nm2020278\" target=\"_blank\">\n",
              "            <img style=\"width: 100px; display: block; margin-left: auto; margin-right: auto;\" src=\"https://m.media-amazon.com/images/M/MV5BNDg4ZWM1YTItZWFmMC00YjRiLWE3MmMtMWZkY2FhZDU3ZDJiXkEyXkFqcGdeQXVyNTY0NTUxOQ@@._V1_UY317_CR19,0,214,317_AL_.jpg\"/>\n",
              "        </a>\n",
              "    </div>\n",
              "    </div><div style=\"margin-left: 10px; float: left\">\n",
              "    <div style=\"width: 150px; text-align: center\">\n",
              "        <h4 style='margin-top: -5px'>Sean Sforza</h4>\n",
              "        <div style='font-size:75%; margin-bottom: 5px'>nm1236333</div>\n",
              "        <a href=\"https://www.imdb.com/name/nm1236333\" target=\"_blank\">\n",
              "            <img style=\"width: 100px; display: block; margin-left: auto; margin-right: auto;\" src=\"https://m.media-amazon.com/images/G/01/imdb/images/nopicture/medium/name-2135195744._CB466677935_.png\"/>\n",
              "        </a>\n",
              "    </div>\n",
              "    </div><div style=\"margin-left: 10px; float: left\">\n",
              "    <div style=\"width: 150px; text-align: center\">\n",
              "        <h4 style='margin-top: -5px'>Jeff Grace</h4>\n",
              "        <div style='font-size:75%; margin-bottom: 5px'>nm1404741</div>\n",
              "        <a href=\"https://www.imdb.com/name/nm1404741\" target=\"_blank\">\n",
              "            <img style=\"width: 100px; display: block; margin-left: auto; margin-right: auto;\" src=\"https://m.media-amazon.com/images/M/MV5BZTdmY2E0ODUtYTRkMi00YmI2LWE0YWMtNWM1OWRlZjA1NjcyXkEyXkFqcGdeQXVyNDg2MjkzNw@@._V1_UX214_CR0,0,214,317_AL_.jpg\"/>\n",
              "        </a>\n",
              "    </div>\n",
              "    </div><div style=\"margin-left: 10px; float: left\">\n",
              "    <div style=\"width: 150px; text-align: center\">\n",
              "        <h4 style='margin-top: -5px'>Natalia Temesgen</h4>\n",
              "        <div style='font-size:75%; margin-bottom: 5px'>nm10661573</div>\n",
              "        <a href=\"https://www.imdb.com/name/nm10661573\" target=\"_blank\">\n",
              "            <img style=\"width: 100px; display: block; margin-left: auto; margin-right: auto;\" src=\"https://m.media-amazon.com/images/M/MV5BZTMwZDRlNDItZTY4YS00YzRhLWI4MGItZjgxOTM3Y2Y4NWMwXkEyXkFqcGdeQXVyMTA4MzU2NTA5._V1_UX214_CR0,0,214,317_AL_.jpg\"/>\n",
              "        </a>\n",
              "    </div>\n",
              "    </div><div style=\"margin-left: 10px; float: left\">\n",
              "    <div style=\"width: 150px; text-align: center\">\n",
              "        <h4 style='margin-top: -5px'>Ross M. Dinerstein</h4>\n",
              "        <div style='font-size:75%; margin-bottom: 5px'>nm1895871</div>\n",
              "        <a href=\"https://www.imdb.com/name/nm1895871\" target=\"_blank\">\n",
              "            <img style=\"width: 100px; display: block; margin-left: auto; margin-right: auto;\" src=\"https://m.media-amazon.com/images/M/MV5BNDNmODE3ZGQtMmRlNi00MDg4LWIyODctYWZmOGIzODJlYjNhXkEyXkFqcGdeQXVyNjMxOTA4NDQ@._V1_UY317_CR51,0,214,317_AL_.jpg\"/>\n",
              "        </a>\n",
              "    </div>\n",
              "    </div><div style=\"margin-left: 10px; float: left\">\n",
              "    <div style=\"width: 150px; text-align: center\">\n",
              "        <h4 style='margin-top: -5px'>Caitlin Gerard</h4>\n",
              "        <div style='font-size:75%; margin-bottom: 5px'>nm3312826</div>\n",
              "        <a href=\"https://www.imdb.com/name/nm3312826\" target=\"_blank\">\n",
              "            <img style=\"width: 100px; display: block; margin-left: auto; margin-right: auto;\" src=\"https://m.media-amazon.com/images/M/MV5BYjU2MDMzNzktMWMzMS00NWVlLWE4YTktNWMyNzNiMzUxNDkyXkEyXkFqcGdeQXVyMjg4MjYyNjU@._V1_UY317_CR12,0,214,317_AL_.jpg\"/>\n",
              "        </a>\n",
              "    </div>\n",
              "    </div></div>"
            ]
          },
          "metadata": {}
        },
        {
          "output_type": "display_data",
          "data": {
            "text/plain": [
              "<IPython.core.display.HTML object>"
            ],
            "text/html": [
              "\n",
              "    <div style=\"width: 150px; text-align: center\">\n",
              "        <h4 style='margin-top: -5px'>Tatsuya Nakadai</h4>\n",
              "        <div style='font-size:75%; margin-bottom: 5px'>nm0619938</div>\n",
              "        <a href=\"https://www.imdb.com/name/nm0619938\" target=\"_blank\">\n",
              "            <img style=\"width: 100px; display: block; margin-left: auto; margin-right: auto;\" src=\"https://m.media-amazon.com/images/M/MV5BMTM5MzYwNDA3NV5BMl5BanBnXkFtZTcwNDExMTMwNw@@._V1_UY317_CR118,0,214,317_AL_.jpg\"/>\n",
              "        </a>\n",
              "    </div>\n",
              "    "
            ]
          },
          "metadata": {}
        },
        {
          "output_type": "display_data",
          "data": {
            "text/plain": [
              "<IPython.core.display.HTML object>"
            ],
            "text/html": [
              "<div style=\"width: 1800px\"><div style=\"margin-left: 10px; float: left\">\n",
              "    <div style=\"width: 150px; text-align: center\">\n",
              "        <h4 style='margin-top: -5px'>Katsuo Nakamura</h4>\n",
              "        <div style='font-size:75%; margin-bottom: 5px'>nm0620154</div>\n",
              "        <a href=\"https://www.imdb.com/name/nm0620154\" target=\"_blank\">\n",
              "            <img style=\"width: 100px; display: block; margin-left: auto; margin-right: auto;\" src=\"https://m.media-amazon.com/images/M/MV5BMTcwNTI4NzUxOF5BMl5BanBnXkFtZTgwMjk4MjMxNTM@._V1_UY317_CR91,0,214,317_AL_.jpg\"/>\n",
              "        </a>\n",
              "    </div>\n",
              "    </div><div style=\"margin-left: 10px; float: left\">\n",
              "    <div style=\"width: 150px; text-align: center\">\n",
              "        <h4 style='margin-top: -5px'>Takuzô Kawatani</h4>\n",
              "        <div style='font-size:75%; margin-bottom: 5px'>nm0442940</div>\n",
              "        <a href=\"https://www.imdb.com/name/nm0442940\" target=\"_blank\">\n",
              "            <img style=\"width: 100px; display: block; margin-left: auto; margin-right: auto;\" src=\"https://m.media-amazon.com/images/G/01/imdb/images/nopicture/medium/name-2135195744._CB466677935_.png\"/>\n",
              "        </a>\n",
              "    </div>\n",
              "    </div><div style=\"margin-left: 10px; float: left\">\n",
              "    <div style=\"width: 150px; text-align: center\">\n",
              "        <h4 style='margin-top: -5px'>Kin Sugai</h4>\n",
              "        <div style='font-size:75%; margin-bottom: 5px'>nm0837361</div>\n",
              "        <a href=\"https://www.imdb.com/name/nm0837361\" target=\"_blank\">\n",
              "            <img style=\"width: 100px; display: block; margin-left: auto; margin-right: auto;\" src=\"https://m.media-amazon.com/images/M/MV5BYmVkODZkMWYtYjdlYi00YzU1LThiZGQtNWEwN2UyZGUwYmU2XkEyXkFqcGdeQXVyMTI3MDk3MzQ@._V1_UY317_CR277,0,214,317_AL_.jpg\"/>\n",
              "        </a>\n",
              "    </div>\n",
              "    </div><div style=\"margin-left: 10px; float: left\">\n",
              "    <div style=\"width: 150px; text-align: center\">\n",
              "        <h4 style='margin-top: -5px'>Hideo Gosha</h4>\n",
              "        <div style='font-size:75%; margin-bottom: 5px'>nm0331471</div>\n",
              "        <a href=\"https://www.imdb.com/name/nm0331471\" target=\"_blank\">\n",
              "            <img style=\"width: 100px; display: block; margin-left: auto; margin-right: auto;\" src=\"https://m.media-amazon.com/images/M/MV5BOGIyYWQ3NWUtNTAwNi00MDg1LTljZDQtZjE2YmZhYmViN2QwXkEyXkFqcGdeQXVyMTc4MzI2NQ@@._V1_UY317_CR26,0,214,317_AL_.jpg\"/>\n",
              "        </a>\n",
              "    </div>\n",
              "    </div><div style=\"margin-left: 10px; float: left\">\n",
              "    <div style=\"width: 150px; text-align: center\">\n",
              "        <h4 style='margin-top: -5px'>Wakako Sakai</h4>\n",
              "        <div style='font-size:75%; margin-bottom: 5px'>nm0757033</div>\n",
              "        <a href=\"https://www.imdb.com/name/nm0757033\" target=\"_blank\">\n",
              "            <img style=\"width: 100px; display: block; margin-left: auto; margin-right: auto;\" src=\"https://m.media-amazon.com/images/G/01/imdb/images/nopicture/medium/name-2135195744._CB466677935_.png\"/>\n",
              "        </a>\n",
              "    </div>\n",
              "    </div><div style=\"margin-left: 10px; float: left\">\n",
              "    <div style=\"width: 150px; text-align: center\">\n",
              "        <h4 style='margin-top: -5px'>Masaya Oki</h4>\n",
              "        <div style='font-size:75%; margin-bottom: 5px'>nm0645625</div>\n",
              "        <a href=\"https://www.imdb.com/name/nm0645625\" target=\"_blank\">\n",
              "            <img style=\"width: 100px; display: block; margin-left: auto; margin-right: auto;\" src=\"https://m.media-amazon.com/images/G/01/imdb/images/nopicture/medium/name-2135195744._CB466677935_.png\"/>\n",
              "        </a>\n",
              "    </div>\n",
              "    </div><div style=\"margin-left: 10px; float: left\">\n",
              "    <div style=\"width: 150px; text-align: center\">\n",
              "        <h4 style='margin-top: -5px'>Asahi Kurizuka</h4>\n",
              "        <div style='font-size:75%; margin-bottom: 5px'>nm0475757</div>\n",
              "        <a href=\"https://www.imdb.com/name/nm0475757\" target=\"_blank\">\n",
              "            <img style=\"width: 100px; display: block; margin-left: auto; margin-right: auto;\" src=\"https://m.media-amazon.com/images/G/01/imdb/images/nopicture/medium/name-2135195744._CB466677935_.png\"/>\n",
              "        </a>\n",
              "    </div>\n",
              "    </div><div style=\"margin-left: 10px; float: left\">\n",
              "    <div style=\"width: 150px; text-align: center\">\n",
              "        <h4 style='margin-top: -5px'>Akira Hayasaka</h4>\n",
              "        <div style='font-size:75%; margin-bottom: 5px'>nm0370591</div>\n",
              "        <a href=\"https://www.imdb.com/name/nm0370591\" target=\"_blank\">\n",
              "            <img style=\"width: 100px; display: block; margin-left: auto; margin-right: auto;\" src=\"https://m.media-amazon.com/images/G/01/imdb/images/nopicture/medium/name-2135195744._CB466677935_.png\"/>\n",
              "        </a>\n",
              "    </div>\n",
              "    </div><div style=\"margin-left: 10px; float: left\">\n",
              "    <div style=\"width: 150px; text-align: center\">\n",
              "        <h4 style='margin-top: -5px'>Azuma Morisaki</h4>\n",
              "        <div style='font-size:75%; margin-bottom: 5px'>nm0605648</div>\n",
              "        <a href=\"https://www.imdb.com/name/nm0605648\" target=\"_blank\">\n",
              "            <img style=\"width: 100px; display: block; margin-left: auto; margin-right: auto;\" src=\"https://m.media-amazon.com/images/G/01/imdb/images/nopicture/medium/name-2135195744._CB466677935_.png\"/>\n",
              "        </a>\n",
              "    </div>\n",
              "    </div><div style=\"margin-left: 10px; float: left\">\n",
              "    <div style=\"width: 150px; text-align: center\">\n",
              "        <h4 style='margin-top: -5px'>Kazuo Kuroki</h4>\n",
              "        <div style='font-size:75%; margin-bottom: 5px'>nm0475879</div>\n",
              "        <a href=\"https://www.imdb.com/name/nm0475879\" target=\"_blank\">\n",
              "            <img style=\"width: 100px; display: block; margin-left: auto; margin-right: auto;\" src=\"https://m.media-amazon.com/images/G/01/imdb/images/nopicture/medium/name-2135195744._CB466677935_.png\"/>\n",
              "        </a>\n",
              "    </div>\n",
              "    </div></div>"
            ]
          },
          "metadata": {}
        }
      ],
      "source": [
        "from random import choice\n",
        "\n",
        "for _ in range(10):\n",
        "    id = choice(candidates)\n",
        "    show_similars(id)"
      ]
    },
    {
      "cell_type": "code",
      "execution_count": null,
      "metadata": {
        "id": "CHvdl037bqsh"
      },
      "outputs": [],
      "source": []
    }
  ],
  "metadata": {
    "kernelspec": {
      "display_name": "Python 3",
      "language": "python",
      "name": "python3"
    },
    "language_info": {
      "codemirror_mode": {
        "name": "ipython",
        "version": 3
      },
      "file_extension": ".py",
      "mimetype": "text/x-python",
      "name": "python",
      "nbconvert_exporter": "python",
      "pygments_lexer": "ipython3",
      "version": "3.8.3"
    },
    "colab": {
      "provenance": []
    }
  },
  "nbformat": 4,
  "nbformat_minor": 0
}