{
  "cells": [
    {
      "cell_type": "code",
      "execution_count": 1,
      "metadata": {
        "id": "t7H6hB6tbqsY",
        "outputId": "f678926b-2234-4914-e932-993799cacb0e",
        "colab": {
          "base_uri": "https://localhost:8080/"
        }
      },
      "outputs": [
        {
          "output_type": "stream",
          "name": "stdout",
          "text": [
            "Looking in indexes: https://pypi.org/simple, https://us-python.pkg.dev/colab-wheels/public/simple/\n",
            "Requirement already satisfied: beautifulsoup4 in /usr/local/lib/python3.7/dist-packages (4.6.3)\n"
          ]
        }
      ],
      "source": [
        "!pip install beautifulsoup4\n",
        "!pip install requests_cache"
      ]
    },
    {
      "cell_type": "code",
      "source": [
        "# Montamos nuestro google drive en el colab\n",
        "\n",
        "from google.colab import drive\n",
        "\n",
        "drive.mount('/content/gdrive')"
      ],
      "metadata": {
        "id": "Sn4sDWUCbuPE",
        "outputId": "dad431b6-389f-4f26-a717-4900c359d659",
        "colab": {
          "base_uri": "https://localhost:8080/"
        }
      },
      "execution_count": 1,
      "outputs": [
        {
          "output_type": "stream",
          "name": "stdout",
          "text": [
            "Drive already mounted at /content/gdrive; to attempt to forcibly remount, call drive.mount(\"/content/gdrive\", force_remount=True).\n"
          ]
        }
      ]
    },
    {
      "cell_type": "code",
      "execution_count": 2,
      "metadata": {
        "id": "WoOwBdAAbqsb"
      },
      "outputs": [],
      "source": [
        "from gensim.models import Word2Vec"
      ]
    },
    {
      "cell_type": "code",
      "execution_count": 3,
      "metadata": {
        "id": "pwKV-j5Vbqsb"
      },
      "outputs": [],
      "source": [
        "class EpochSaver: pass"
      ]
    },
    {
      "cell_type": "code",
      "execution_count": 4,
      "metadata": {
        "id": "fDOVnkF5bqsb"
      },
      "outputs": [],
      "source": [
        "from pathlib import Path\n",
        "DATA_HOME = Path(\"/content/gdrive/My Drive/ml-practico-data\")"
      ]
    },
    {
      "cell_type": "code",
      "execution_count": 5,
      "metadata": {
        "id": "PBVizhNsbqsc"
      },
      "outputs": [],
      "source": [
        "model = Word2Vec.load(str(DATA_HOME / 'w2v/epoch_10'))"
      ]
    },
    {
      "cell_type": "code",
      "execution_count": 6,
      "metadata": {
        "id": "2_2Ta_KWbqsc"
      },
      "outputs": [],
      "source": [
        "from IPython.display import HTML, display\n",
        "from bs4 import BeautifulSoup\n",
        "import requests\n",
        "import requests_cache\n",
        "\n",
        "requests_cache.install_cache()\n",
        "\n",
        "def get_name(id):\n",
        "    response = requests.get(f'https://www.imdb.com/name/{id}/')\n",
        "    soup = BeautifulSoup(response.content)\n",
        "    return soup.select('.header .itemprop')[0].text\n",
        "\n",
        "def get_image(id):\n",
        "    response = requests.get(f'https://www.imdb.com/name/{id}/')\n",
        "    soup = BeautifulSoup(response.content)\n",
        "    candidates = soup.select('#name-poster')\n",
        "    return candidates[0].attrs['src'] if candidates else 'https://m.media-amazon.com/images/G/01/imdb/images/nopicture/medium/name-2135195744._CB466677935_.png'\n",
        "\n",
        "def render_person(id):\n",
        "    name = get_name(id)\n",
        "    picture = get_image(id)\n",
        "    return f\"\"\"\n",
        "    <div style=\"width: 150px; text-align: center\">\n",
        "        <h4 style='margin-top: -5px'>{name}</h4>\n",
        "        <div style='font-size:75%; margin-bottom: 5px'>{id}</div>\n",
        "        <a href=\"https://www.imdb.com/name/{id}\" target=\"_blank\">\n",
        "            <img style=\"width: 100px; display: block; margin-left: auto; margin-right: auto;\" src=\"{picture}\"/>\n",
        "        </a>\n",
        "    </div>\n",
        "    \"\"\""
      ]
    },
    {
      "cell_type": "code",
      "execution_count": 7,
      "metadata": {
        "id": "LpF1T4uobqsd"
      },
      "outputs": [],
      "source": [
        "def show_similars(id, n=10):\n",
        "    display(HTML(render_person(id)))\n",
        "    renders = []\n",
        "    for similar_id, score in model.wv.most_similar(id, topn=n):\n",
        "        renders.append(render_person(similar_id))\n",
        "        \n",
        "    carousel = ''.join(\n",
        "        [\n",
        "            f'<div style=\"margin-left: 10px; float: left\">{p}</div>' \n",
        "            for p in renders\n",
        "        ]\n",
        "    )\n",
        "    display(HTML(f'<div style=\"width: 1800px\">{carousel}</div>'))"
      ]
    },
    {
      "cell_type": "code",
      "execution_count": 8,
      "metadata": {
        "id": "Hvj-0jgGbqsd",
        "outputId": "6b3dfc55-b977-4a6e-d35b-0a4f67813540",
        "colab": {
          "base_uri": "https://localhost:8080/",
          "height": 402
        }
      },
      "outputs": [
        {
          "output_type": "display_data",
          "data": {
            "text/plain": [
              "<IPython.core.display.HTML object>"
            ],
            "text/html": [
              "\n",
              "    <div style=\"width: 150px; text-align: center\">\n",
              "        <h4 style='margin-top: -5px'>Angelina Jolie</h4>\n",
              "        <div style='font-size:75%; margin-bottom: 5px'>nm0001401</div>\n",
              "        <a href=\"https://www.imdb.com/name/nm0001401\" target=\"_blank\">\n",
              "            <img style=\"width: 100px; display: block; margin-left: auto; margin-right: auto;\" src=\"https://m.media-amazon.com/images/M/MV5BODg3MzYwMjE4N15BMl5BanBnXkFtZTcwMjU5NzAzNw@@._V1_UY317_CR22,0,214,317_AL_.jpg\"/>\n",
              "        </a>\n",
              "    </div>\n",
              "    "
            ]
          },
          "metadata": {}
        },
        {
          "output_type": "display_data",
          "data": {
            "text/plain": [
              "<IPython.core.display.HTML object>"
            ],
            "text/html": [
              "<div style=\"width: 1800px\"><div style=\"margin-left: 10px; float: left\">\n",
              "    <div style=\"width: 150px; text-align: center\">\n",
              "        <h4 style='margin-top: -5px'>Brad Pitt</h4>\n",
              "        <div style='font-size:75%; margin-bottom: 5px'>nm0000093</div>\n",
              "        <a href=\"https://www.imdb.com/name/nm0000093\" target=\"_blank\">\n",
              "            <img style=\"width: 100px; display: block; margin-left: auto; margin-right: auto;\" src=\"https://m.media-amazon.com/images/M/MV5BMjA1MjE2MTQ2MV5BMl5BanBnXkFtZTcwMjE5MDY0Nw@@._V1_UX214_CR0,0,214,317_AL_.jpg\"/>\n",
              "        </a>\n",
              "    </div>\n",
              "    </div><div style=\"margin-left: 10px; float: left\">\n",
              "    <div style=\"width: 150px; text-align: center\">\n",
              "        <h4 style='margin-top: -5px'>Leonardo DiCaprio</h4>\n",
              "        <div style='font-size:75%; margin-bottom: 5px'>nm0000138</div>\n",
              "        <a href=\"https://www.imdb.com/name/nm0000138\" target=\"_blank\">\n",
              "            <img style=\"width: 100px; display: block; margin-left: auto; margin-right: auto;\" src=\"https://m.media-amazon.com/images/M/MV5BMjI0MTg3MzI0M15BMl5BanBnXkFtZTcwMzQyODU2Mw@@._V1_UY317_CR10,0,214,317_AL_.jpg\"/>\n",
              "        </a>\n",
              "    </div>\n",
              "    </div><div style=\"margin-left: 10px; float: left\">\n",
              "    <div style=\"width: 150px; text-align: center\">\n",
              "        <h4 style='margin-top: -5px'>Scarlett Johansson</h4>\n",
              "        <div style='font-size:75%; margin-bottom: 5px'>nm0424060</div>\n",
              "        <a href=\"https://www.imdb.com/name/nm0424060\" target=\"_blank\">\n",
              "            <img style=\"width: 100px; display: block; margin-left: auto; margin-right: auto;\" src=\"https://m.media-amazon.com/images/M/MV5BMTM3OTUwMDYwNl5BMl5BanBnXkFtZTcwNTUyNzc3Nw@@._V1_UY317_CR23,0,214,317_AL_.jpg\"/>\n",
              "        </a>\n",
              "    </div>\n",
              "    </div><div style=\"margin-left: 10px; float: left\">\n",
              "    <div style=\"width: 150px; text-align: center\">\n",
              "        <h4 style='margin-top: -5px'>Jennifer Connelly</h4>\n",
              "        <div style='font-size:75%; margin-bottom: 5px'>nm0000124</div>\n",
              "        <a href=\"https://www.imdb.com/name/nm0000124\" target=\"_blank\">\n",
              "            <img style=\"width: 100px; display: block; margin-left: auto; margin-right: auto;\" src=\"https://m.media-amazon.com/images/M/MV5BNWM0OTlhYmQtZWI0NS00NzM0LWE5YjItMWZmYzkzY2FmNTc2XkEyXkFqcGdeQXVyMTEyMjM2NDc2._V1_UX214_CR0,0,214,317_AL_.jpg\"/>\n",
              "        </a>\n",
              "    </div>\n",
              "    </div><div style=\"margin-left: 10px; float: left\">\n",
              "    <div style=\"width: 150px; text-align: center\">\n",
              "        <h4 style='margin-top: -5px'>Robert Downey Jr.</h4>\n",
              "        <div style='font-size:75%; margin-bottom: 5px'>nm0000375</div>\n",
              "        <a href=\"https://www.imdb.com/name/nm0000375\" target=\"_blank\">\n",
              "            <img style=\"width: 100px; display: block; margin-left: auto; margin-right: auto;\" src=\"https://m.media-amazon.com/images/M/MV5BNzg1MTUyNDYxOF5BMl5BanBnXkFtZTgwNTQ4MTE2MjE@._V1_UX214_CR0,0,214,317_AL_.jpg\"/>\n",
              "        </a>\n",
              "    </div>\n",
              "    </div><div style=\"margin-left: 10px; float: left\">\n",
              "    <div style=\"width: 150px; text-align: center\">\n",
              "        <h4 style='margin-top: -5px'>Nicolas Cage</h4>\n",
              "        <div style='font-size:75%; margin-bottom: 5px'>nm0000115</div>\n",
              "        <a href=\"https://www.imdb.com/name/nm0000115\" target=\"_blank\">\n",
              "            <img style=\"width: 100px; display: block; margin-left: auto; margin-right: auto;\" src=\"https://m.media-amazon.com/images/M/MV5BMjUxMjE4MTQxMF5BMl5BanBnXkFtZTcwNzc2MDM1NA@@._V1_UY317_CR9,0,214,317_AL_.jpg\"/>\n",
              "        </a>\n",
              "    </div>\n",
              "    </div><div style=\"margin-left: 10px; float: left\">\n",
              "    <div style=\"width: 150px; text-align: center\">\n",
              "        <h4 style='margin-top: -5px'>Christian Bale</h4>\n",
              "        <div style='font-size:75%; margin-bottom: 5px'>nm0000288</div>\n",
              "        <a href=\"https://www.imdb.com/name/nm0000288\" target=\"_blank\">\n",
              "            <img style=\"width: 100px; display: block; margin-left: auto; margin-right: auto;\" src=\"https://m.media-amazon.com/images/M/MV5BMTkxMzk4MjQ4MF5BMl5BanBnXkFtZTcwMzExODQxOA@@._V1_UX214_CR0,0,214,317_AL_.jpg\"/>\n",
              "        </a>\n",
              "    </div>\n",
              "    </div><div style=\"margin-left: 10px; float: left\">\n",
              "    <div style=\"width: 150px; text-align: center\">\n",
              "        <h4 style='margin-top: -5px'>Matt Damon</h4>\n",
              "        <div style='font-size:75%; margin-bottom: 5px'>nm0000354</div>\n",
              "        <a href=\"https://www.imdb.com/name/nm0000354\" target=\"_blank\">\n",
              "            <img style=\"width: 100px; display: block; margin-left: auto; margin-right: auto;\" src=\"https://m.media-amazon.com/images/M/MV5BMTM0NzYzNDgxMl5BMl5BanBnXkFtZTcwMDg2MTMyMw@@._V1_UY317_CR11,0,214,317_AL_.jpg\"/>\n",
              "        </a>\n",
              "    </div>\n",
              "    </div><div style=\"margin-left: 10px; float: left\">\n",
              "    <div style=\"width: 150px; text-align: center\">\n",
              "        <h4 style='margin-top: -5px'>Joaquin Phoenix</h4>\n",
              "        <div style='font-size:75%; margin-bottom: 5px'>nm0001618</div>\n",
              "        <a href=\"https://www.imdb.com/name/nm0001618\" target=\"_blank\">\n",
              "            <img style=\"width: 100px; display: block; margin-left: auto; margin-right: auto;\" src=\"https://m.media-amazon.com/images/M/MV5BZGMyY2Q4NTEtMWVkZS00NzcwLTkzNmQtYzBlMWZhZGNhMDhkXkEyXkFqcGdeQXVyNjk1MjYyNTA@._V1_UX214_CR0,0,214,317_AL_.jpg\"/>\n",
              "        </a>\n",
              "    </div>\n",
              "    </div><div style=\"margin-left: 10px; float: left\">\n",
              "    <div style=\"width: 150px; text-align: center\">\n",
              "        <h4 style='margin-top: -5px'>Natalie Portman</h4>\n",
              "        <div style='font-size:75%; margin-bottom: 5px'>nm0000204</div>\n",
              "        <a href=\"https://www.imdb.com/name/nm0000204\" target=\"_blank\">\n",
              "            <img style=\"width: 100px; display: block; margin-left: auto; margin-right: auto;\" src=\"https://m.media-amazon.com/images/M/MV5BYzU0ZGRhZWItMGJlNy00YzlkLWIzOWYtNDA2NzlhMDg3YjMwXkEyXkFqcGdeQXVyMDM2NDM2MQ@@._V1_UX214_CR0,0,214,317_AL_.jpg\"/>\n",
              "        </a>\n",
              "    </div>\n",
              "    </div></div>"
            ]
          },
          "metadata": {}
        }
      ],
      "source": [
        "show_similars('nm0001401')"
      ]
    },
    {
      "cell_type": "code",
      "execution_count": 9,
      "metadata": {
        "id": "zSu_7nMpbqse",
        "outputId": "4af1f3e9-e069-4a28-9521-d51841de64fc",
        "colab": {
          "base_uri": "https://localhost:8080/",
          "height": 402
        }
      },
      "outputs": [
        {
          "output_type": "display_data",
          "data": {
            "text/plain": [
              "<IPython.core.display.HTML object>"
            ],
            "text/html": [
              "\n",
              "    <div style=\"width: 150px; text-align: center\">\n",
              "        <h4 style='margin-top: -5px'>Ricardo Darín</h4>\n",
              "        <div style='font-size:75%; margin-bottom: 5px'>nm0201857</div>\n",
              "        <a href=\"https://www.imdb.com/name/nm0201857\" target=\"_blank\">\n",
              "            <img style=\"width: 100px; display: block; margin-left: auto; margin-right: auto;\" src=\"https://m.media-amazon.com/images/M/MV5BMTgxOTAyMTAzNV5BMl5BanBnXkFtZTcwODE2MTUzOA@@._V1_UX214_CR0,0,214,317_AL_.jpg\"/>\n",
              "        </a>\n",
              "    </div>\n",
              "    "
            ]
          },
          "metadata": {}
        },
        {
          "output_type": "display_data",
          "data": {
            "text/plain": [
              "<IPython.core.display.HTML object>"
            ],
            "text/html": [
              "<div style=\"width: 1800px\"><div style=\"margin-left: 10px; float: left\">\n",
              "    <div style=\"width: 150px; text-align: center\">\n",
              "        <h4 style='margin-top: -5px'>Fabián Bielinsky</h4>\n",
              "        <div style='font-size:75%; margin-bottom: 5px'>nm0081433</div>\n",
              "        <a href=\"https://www.imdb.com/name/nm0081433\" target=\"_blank\">\n",
              "            <img style=\"width: 100px; display: block; margin-left: auto; margin-right: auto;\" src=\"https://m.media-amazon.com/images/M/MV5BMTQ2NjcwNTAyNF5BMl5BanBnXkFtZTYwMTEzMDYz._V1_UX214_CR0,0,214,317_AL_.jpg\"/>\n",
              "        </a>\n",
              "    </div>\n",
              "    </div><div style=\"margin-left: 10px; float: left\">\n",
              "    <div style=\"width: 150px; text-align: center\">\n",
              "        <h4 style='margin-top: -5px'>Federico Luppi</h4>\n",
              "        <div style='font-size:75%; margin-bottom: 5px'>nm0527002</div>\n",
              "        <a href=\"https://www.imdb.com/name/nm0527002\" target=\"_blank\">\n",
              "            <img style=\"width: 100px; display: block; margin-left: auto; margin-right: auto;\" src=\"https://m.media-amazon.com/images/M/MV5BMTk4MzUzNTI4MV5BMl5BanBnXkFtZTcwOTI2Nzg0NA@@._V1_UY317_CR2,0,214,317_AL_.jpg\"/>\n",
              "        </a>\n",
              "    </div>\n",
              "    </div><div style=\"margin-left: 10px; float: left\">\n",
              "    <div style=\"width: 150px; text-align: center\">\n",
              "        <h4 style='margin-top: -5px'>Chino Darín</h4>\n",
              "        <div style='font-size:75%; margin-bottom: 5px'>nm3779182</div>\n",
              "        <a href=\"https://www.imdb.com/name/nm3779182\" target=\"_blank\">\n",
              "            <img style=\"width: 100px; display: block; margin-left: auto; margin-right: auto;\" src=\"https://m.media-amazon.com/images/M/MV5BYjMyY2VhMjAtOWRmOC00NjE5LTlmZWYtNmExMDc0MWY1NTFjXkEyXkFqcGdeQXVyMDM2NDM2MQ@@._V1_UX214_CR0,0,214,317_AL_.jpg\"/>\n",
              "        </a>\n",
              "    </div>\n",
              "    </div><div style=\"margin-left: 10px; float: left\">\n",
              "    <div style=\"width: 150px; text-align: center\">\n",
              "        <h4 style='margin-top: -5px'>Carlos Sorin</h4>\n",
              "        <div style='font-size:75%; margin-bottom: 5px'>nm0815044</div>\n",
              "        <a href=\"https://www.imdb.com/name/nm0815044\" target=\"_blank\">\n",
              "            <img style=\"width: 100px; display: block; margin-left: auto; margin-right: auto;\" src=\"https://m.media-amazon.com/images/M/MV5BOGJiNWI0YzQtYzMzMS00MWU1LTgwNDMtNGIzZTlmMGU4ZTE0XkEyXkFqcGdeQXVyMTc4MzI2NQ@@._V1_UY317_CR131,0,214,317_AL_.jpg\"/>\n",
              "        </a>\n",
              "    </div>\n",
              "    </div><div style=\"margin-left: 10px; float: left\">\n",
              "    <div style=\"width: 150px; text-align: center\">\n",
              "        <h4 style='margin-top: -5px'>Luis Puenzo</h4>\n",
              "        <div style='font-size:75%; margin-bottom: 5px'>nm0699933</div>\n",
              "        <a href=\"https://www.imdb.com/name/nm0699933\" target=\"_blank\">\n",
              "            <img style=\"width: 100px; display: block; margin-left: auto; margin-right: auto;\" src=\"https://m.media-amazon.com/images/M/MV5BYzk0ODkzZjctNmQ3Ni00ZGQyLTkwMzgtOGIxZjFmMzdkOTcxXkEyXkFqcGdeQXVyMTc4MzI2NQ@@._V1_UX214_CR0,0,214,317_AL_.jpg\"/>\n",
              "        </a>\n",
              "    </div>\n",
              "    </div><div style=\"margin-left: 10px; float: left\">\n",
              "    <div style=\"width: 150px; text-align: center\">\n",
              "        <h4 style='margin-top: -5px'>Matias Baridon</h4>\n",
              "        <div style='font-size:75%; margin-bottom: 5px'>nm2450279</div>\n",
              "        <a href=\"https://www.imdb.com/name/nm2450279\" target=\"_blank\">\n",
              "            <img style=\"width: 100px; display: block; margin-left: auto; margin-right: auto;\" src=\"https://m.media-amazon.com/images/G/01/imdb/images/nopicture/medium/name-2135195744._CB466677935_.png\"/>\n",
              "        </a>\n",
              "    </div>\n",
              "    </div><div style=\"margin-left: 10px; float: left\">\n",
              "    <div style=\"width: 150px; text-align: center\">\n",
              "        <h4 style='margin-top: -5px'>Adolfo Aristarain</h4>\n",
              "        <div style='font-size:75%; margin-bottom: 5px'>nm0034899</div>\n",
              "        <a href=\"https://www.imdb.com/name/nm0034899\" target=\"_blank\">\n",
              "            <img style=\"width: 100px; display: block; margin-left: auto; margin-right: auto;\" src=\"https://m.media-amazon.com/images/M/MV5BMGU5NzY2NGYtNGY4Zi00ZWFmLTg2ZjMtMzQ3OWZjMDJkYjBjXkEyXkFqcGdeQXVyMTc4MzI2NQ@@._V1_UX214_CR0,0,214,317_AL_.jpg\"/>\n",
              "        </a>\n",
              "    </div>\n",
              "    </div><div style=\"margin-left: 10px; float: left\">\n",
              "    <div style=\"width: 150px; text-align: center\">\n",
              "        <h4 style='margin-top: -5px'>Eduardo Mignogna</h4>\n",
              "        <div style='font-size:75%; margin-bottom: 5px'>nm0586002</div>\n",
              "        <a href=\"https://www.imdb.com/name/nm0586002\" target=\"_blank\">\n",
              "            <img style=\"width: 100px; display: block; margin-left: auto; margin-right: auto;\" src=\"https://m.media-amazon.com/images/M/MV5BMGY2NjMzNWEtNDc4OS00NWY4LTk1YzUtODAxZjZmMDc1ZDk0XkEyXkFqcGdeQXVyNjU0ODkwMTU@._V1_UY317_CR179,0,214,317_AL_.jpg\"/>\n",
              "        </a>\n",
              "    </div>\n",
              "    </div><div style=\"margin-left: 10px; float: left\">\n",
              "    <div style=\"width: 150px; text-align: center\">\n",
              "        <h4 style='margin-top: -5px'>Pablo Trapero</h4>\n",
              "        <div style='font-size:75%; margin-bottom: 5px'>nm0871086</div>\n",
              "        <a href=\"https://www.imdb.com/name/nm0871086\" target=\"_blank\">\n",
              "            <img style=\"width: 100px; display: block; margin-left: auto; margin-right: auto;\" src=\"https://m.media-amazon.com/images/M/MV5BMTA2MTA0NDIxODBeQTJeQWpwZ15BbWU3MDI0OTM0ODc@._V1_UX214_CR0,0,214,317_AL_.jpg\"/>\n",
              "        </a>\n",
              "    </div>\n",
              "    </div><div style=\"margin-left: 10px; float: left\">\n",
              "    <div style=\"width: 150px; text-align: center\">\n",
              "        <h4 style='margin-top: -5px'>Ernesto Sábato</h4>\n",
              "        <div style='font-size:75%; margin-bottom: 5px'>nm0844531</div>\n",
              "        <a href=\"https://www.imdb.com/name/nm0844531\" target=\"_blank\">\n",
              "            <img style=\"width: 100px; display: block; margin-left: auto; margin-right: auto;\" src=\"https://m.media-amazon.com/images/G/01/imdb/images/nopicture/medium/name-2135195744._CB466677935_.png\"/>\n",
              "        </a>\n",
              "    </div>\n",
              "    </div></div>"
            ]
          },
          "metadata": {}
        }
      ],
      "source": [
        "show_similars('nm0201857')"
      ]
    },
    {
      "cell_type": "code",
      "source": [
        "show_similars('nm0006168')"
      ],
      "metadata": {
        "id": "YiHQVqJbeCZ_",
        "outputId": "243d7552-1bd1-44ff-b9f5-d5896ef0dcf4",
        "colab": {
          "base_uri": "https://localhost:8080/",
          "height": 402
        }
      },
      "execution_count": 10,
      "outputs": [
        {
          "output_type": "display_data",
          "data": {
            "text/plain": [
              "<IPython.core.display.HTML object>"
            ],
            "text/html": [
              "\n",
              "    <div style=\"width: 150px; text-align: center\">\n",
              "        <h4 style='margin-top: -5px'>John Lennon</h4>\n",
              "        <div style='font-size:75%; margin-bottom: 5px'>nm0006168</div>\n",
              "        <a href=\"https://www.imdb.com/name/nm0006168\" target=\"_blank\">\n",
              "            <img style=\"width: 100px; display: block; margin-left: auto; margin-right: auto;\" src=\"https://m.media-amazon.com/images/M/MV5BMTYwMDE4MzgzMF5BMl5BanBnXkFtZTYwMDQzMzU3._V1_UY317_CR48,0,214,317_AL_.jpg\"/>\n",
              "        </a>\n",
              "    </div>\n",
              "    "
            ]
          },
          "metadata": {}
        },
        {
          "output_type": "display_data",
          "data": {
            "text/plain": [
              "<IPython.core.display.HTML object>"
            ],
            "text/html": [
              "<div style=\"width: 1800px\"><div style=\"margin-left: 10px; float: left\">\n",
              "    <div style=\"width: 150px; text-align: center\">\n",
              "        <h4 style='margin-top: -5px'>George Harrison</h4>\n",
              "        <div style='font-size:75%; margin-bottom: 5px'>nm0365600</div>\n",
              "        <a href=\"https://www.imdb.com/name/nm0365600\" target=\"_blank\">\n",
              "            <img style=\"width: 100px; display: block; margin-left: auto; margin-right: auto;\" src=\"https://m.media-amazon.com/images/M/MV5BMTUyNjE0NzAzMl5BMl5BanBnXkFtZTYwMjQzMzU3._V1_UY317_CR34,0,214,317_AL_.jpg\"/>\n",
              "        </a>\n",
              "    </div>\n",
              "    </div><div style=\"margin-left: 10px; float: left\">\n",
              "    <div style=\"width: 150px; text-align: center\">\n",
              "        <h4 style='margin-top: -5px'>Paul McCartney</h4>\n",
              "        <div style='font-size:75%; margin-bottom: 5px'>nm0005200</div>\n",
              "        <a href=\"https://www.imdb.com/name/nm0005200\" target=\"_blank\">\n",
              "            <img style=\"width: 100px; display: block; margin-left: auto; margin-right: auto;\" src=\"https://m.media-amazon.com/images/M/MV5BMTk1MjE1NzM0NV5BMl5BanBnXkFtZTcwMTI5NzIxMw@@._V1_UY317_CR1,0,214,317_AL_.jpg\"/>\n",
              "        </a>\n",
              "    </div>\n",
              "    </div><div style=\"margin-left: 10px; float: left\">\n",
              "    <div style=\"width: 150px; text-align: center\">\n",
              "        <h4 style='margin-top: -5px'>Yoko Ono</h4>\n",
              "        <div style='font-size:75%; margin-bottom: 5px'>nm0648780</div>\n",
              "        <a href=\"https://www.imdb.com/name/nm0648780\" target=\"_blank\">\n",
              "            <img style=\"width: 100px; display: block; margin-left: auto; margin-right: auto;\" src=\"https://m.media-amazon.com/images/M/MV5BMTUzMzY1MzA4MF5BMl5BanBnXkFtZTcwMDY3NzQ3Mg@@._V1_UY317_CR15,0,214,317_AL_.jpg\"/>\n",
              "        </a>\n",
              "    </div>\n",
              "    </div><div style=\"margin-left: 10px; float: left\">\n",
              "    <div style=\"width: 150px; text-align: center\">\n",
              "        <h4 style='margin-top: -5px'>The Beatles</h4>\n",
              "        <div style='font-size:75%; margin-bottom: 5px'>nm1397313</div>\n",
              "        <a href=\"https://www.imdb.com/name/nm1397313\" target=\"_blank\">\n",
              "            <img style=\"width: 100px; display: block; margin-left: auto; margin-right: auto;\" src=\"https://m.media-amazon.com/images/M/MV5BMjA2ODY1MDA5MV5BMl5BanBnXkFtZTcwNjU1MzIyOA@@._V1_UY317_CR19,0,214,317_AL_.jpg\"/>\n",
              "        </a>\n",
              "    </div>\n",
              "    </div><div style=\"margin-left: 10px; float: left\">\n",
              "    <div style=\"width: 150px; text-align: center\">\n",
              "        <h4 style='margin-top: -5px'>Jimi Hendrix</h4>\n",
              "        <div style='font-size:75%; margin-bottom: 5px'>nm0001342</div>\n",
              "        <a href=\"https://www.imdb.com/name/nm0001342\" target=\"_blank\">\n",
              "            <img style=\"width: 100px; display: block; margin-left: auto; margin-right: auto;\" src=\"https://m.media-amazon.com/images/M/MV5BMTc5MDA1MjM2Nl5BMl5BanBnXkFtZTcwNTExNjkxNA@@._V1_UX214_CR0,0,214,317_AL_.jpg\"/>\n",
              "        </a>\n",
              "    </div>\n",
              "    </div><div style=\"margin-left: 10px; float: left\">\n",
              "    <div style=\"width: 150px; text-align: center\">\n",
              "        <h4 style='margin-top: -5px'>Pink Floyd</h4>\n",
              "        <div style='font-size:75%; margin-bottom: 5px'>nm0969139</div>\n",
              "        <a href=\"https://www.imdb.com/name/nm0969139\" target=\"_blank\">\n",
              "            <img style=\"width: 100px; display: block; margin-left: auto; margin-right: auto;\" src=\"https://m.media-amazon.com/images/M/MV5BZmMwNThmODAtY2UwMy00MTk0LTkwNGQtNGU2NjM5YTRkYWJjXkEyXkFqcGdeQXVyNDUzOTQ5MjY@._V1_UY317_CR65,0,214,317_AL_.jpg\"/>\n",
              "        </a>\n",
              "    </div>\n",
              "    </div><div style=\"margin-left: 10px; float: left\">\n",
              "    <div style=\"width: 150px; text-align: center\">\n",
              "        <h4 style='margin-top: -5px'>Bob Dylan</h4>\n",
              "        <div style='font-size:75%; margin-bottom: 5px'>nm0001168</div>\n",
              "        <a href=\"https://www.imdb.com/name/nm0001168\" target=\"_blank\">\n",
              "            <img style=\"width: 100px; display: block; margin-left: auto; margin-right: auto;\" src=\"https://m.media-amazon.com/images/M/MV5BMTg5NTA3Mjc4Nl5BMl5BanBnXkFtZTcwMzU3ODM1Mw@@._V1_UX214_CR0,0,214,317_AL_.jpg\"/>\n",
              "        </a>\n",
              "    </div>\n",
              "    </div><div style=\"margin-left: 10px; float: left\">\n",
              "    <div style=\"width: 150px; text-align: center\">\n",
              "        <h4 style='margin-top: -5px'>Ginger Baker</h4>\n",
              "        <div style='font-size:75%; margin-bottom: 5px'>nm0048486</div>\n",
              "        <a href=\"https://www.imdb.com/name/nm0048486\" target=\"_blank\">\n",
              "            <img style=\"width: 100px; display: block; margin-left: auto; margin-right: auto;\" src=\"https://m.media-amazon.com/images/M/MV5BMTQyOTY0ODExMF5BMl5BanBnXkFtZTcwNDQ4NzQ3OA@@._V1_UX214_CR0,0,214,317_AL_.jpg\"/>\n",
              "        </a>\n",
              "    </div>\n",
              "    </div><div style=\"margin-left: 10px; float: left\">\n",
              "    <div style=\"width: 150px; text-align: center\">\n",
              "        <h4 style='margin-top: -5px'>The Rolling Stones</h4>\n",
              "        <div style='font-size:75%; margin-bottom: 5px'>nm1213869</div>\n",
              "        <a href=\"https://www.imdb.com/name/nm1213869\" target=\"_blank\">\n",
              "            <img style=\"width: 100px; display: block; margin-left: auto; margin-right: auto;\" src=\"https://m.media-amazon.com/images/M/MV5BMTg3MTY3NDQxOF5BMl5BanBnXkFtZTcwNjAwMDU4Mg@@._V1_UY317_CR74,0,214,317_AL_.jpg\"/>\n",
              "        </a>\n",
              "    </div>\n",
              "    </div><div style=\"margin-left: 10px; float: left\">\n",
              "    <div style=\"width: 150px; text-align: center\">\n",
              "        <h4 style='margin-top: -5px'>Linda McCartney</h4>\n",
              "        <div style='font-size:75%; margin-bottom: 5px'>nm0565371</div>\n",
              "        <a href=\"https://www.imdb.com/name/nm0565371\" target=\"_blank\">\n",
              "            <img style=\"width: 100px; display: block; margin-left: auto; margin-right: auto;\" src=\"https://m.media-amazon.com/images/M/MV5BMTU2NjY4MDE3Nl5BMl5BanBnXkFtZTYwMDU1MDY1._V1_UY317_CR3,0,214,317_AL_.jpg\"/>\n",
              "        </a>\n",
              "    </div>\n",
              "    </div></div>"
            ]
          },
          "metadata": {}
        }
      ]
    },
    {
      "cell_type": "code",
      "execution_count": 12,
      "metadata": {
        "id": "H0b9CaN-bqsf",
        "outputId": "e1f8cc07-2d9e-4a52-9b7d-0f801a6df123",
        "colab": {
          "base_uri": "https://localhost:8080/",
          "height": 402
        }
      },
      "outputs": [
        {
          "output_type": "display_data",
          "data": {
            "text/plain": [
              "<IPython.core.display.HTML object>"
            ],
            "text/html": [
              "\n",
              "    <div style=\"width: 150px; text-align: center\">\n",
              "        <h4 style='margin-top: -5px'>Jared Padalecki</h4>\n",
              "        <div style='font-size:75%; margin-bottom: 5px'>nm0655585</div>\n",
              "        <a href=\"https://www.imdb.com/name/nm0655585\" target=\"_blank\">\n",
              "            <img style=\"width: 100px; display: block; margin-left: auto; margin-right: auto;\" src=\"https://m.media-amazon.com/images/M/MV5BMjA2ODMyMDgxMl5BMl5BanBnXkFtZTcwNjAwMjA3NA@@._V1_UY317_CR1,0,214,317_AL_.jpg\"/>\n",
              "        </a>\n",
              "    </div>\n",
              "    "
            ]
          },
          "metadata": {}
        },
        {
          "output_type": "display_data",
          "data": {
            "text/plain": [
              "<IPython.core.display.HTML object>"
            ],
            "text/html": [
              "<div style=\"width: 1800px\"><div style=\"margin-left: 10px; float: left\">\n",
              "    <div style=\"width: 150px; text-align: center\">\n",
              "        <h4 style='margin-top: -5px'>Eric Kripke</h4>\n",
              "        <div style='font-size:75%; margin-bottom: 5px'>nm0471392</div>\n",
              "        <a href=\"https://www.imdb.com/name/nm0471392\" target=\"_blank\">\n",
              "            <img style=\"width: 100px; display: block; margin-left: auto; margin-right: auto;\" src=\"https://m.media-amazon.com/images/M/MV5BMjEzOTYzNTEzOV5BMl5BanBnXkFtZTcwMDcwNTE4Ng@@._V1_UX214_CR0,0,214,317_AL_.jpg\"/>\n",
              "        </a>\n",
              "    </div>\n",
              "    </div><div style=\"margin-left: 10px; float: left\">\n",
              "    <div style=\"width: 150px; text-align: center\">\n",
              "        <h4 style='margin-top: -5px'>Todd Aronauer</h4>\n",
              "        <div style='font-size:75%; margin-bottom: 5px'>nm0036896</div>\n",
              "        <a href=\"https://www.imdb.com/name/nm0036896\" target=\"_blank\">\n",
              "            <img style=\"width: 100px; display: block; margin-left: auto; margin-right: auto;\" src=\"https://m.media-amazon.com/images/G/01/imdb/images/nopicture/medium/name-2135195744._CB466677935_.png\"/>\n",
              "        </a>\n",
              "    </div>\n",
              "    </div><div style=\"margin-left: 10px; float: left\">\n",
              "    <div style=\"width: 150px; text-align: center\">\n",
              "        <h4 style='margin-top: -5px'>Jensen Ackles</h4>\n",
              "        <div style='font-size:75%; margin-bottom: 5px'>nm0010075</div>\n",
              "        <a href=\"https://www.imdb.com/name/nm0010075\" target=\"_blank\">\n",
              "            <img style=\"width: 100px; display: block; margin-left: auto; margin-right: auto;\" src=\"https://m.media-amazon.com/images/M/MV5BMTcxMDk3NTgzNl5BMl5BanBnXkFtZTcwMTUzNzY3OQ@@._V1_UY317_CR12,0,214,317_AL_.jpg\"/>\n",
              "        </a>\n",
              "    </div>\n",
              "    </div><div style=\"margin-left: 10px; float: left\">\n",
              "    <div style=\"width: 150px; text-align: center\">\n",
              "        <h4 style='margin-top: -5px'>Alexander Calvert</h4>\n",
              "        <div style='font-size:75%; margin-bottom: 5px'>nm1947611</div>\n",
              "        <a href=\"https://www.imdb.com/name/nm1947611\" target=\"_blank\">\n",
              "            <img style=\"width: 100px; display: block; margin-left: auto; margin-right: auto;\" src=\"https://m.media-amazon.com/images/M/MV5BOGRlZDZlYzEtNjQ5MC00MmZjLThhZjMtZjhiOTUxYmFhYzBlXkEyXkFqcGdeQXVyMTIxMjcxMjY@._V1_UX214_CR0,0,214,317_AL_.jpg\"/>\n",
              "        </a>\n",
              "    </div>\n",
              "    </div><div style=\"margin-left: 10px; float: left\">\n",
              "    <div style=\"width: 150px; text-align: center\">\n",
              "        <h4 style='margin-top: -5px'>Pablito Tancinco</h4>\n",
              "        <div style='font-size:75%; margin-bottom: 5px'>nm1567958</div>\n",
              "        <a href=\"https://www.imdb.com/name/nm1567958\" target=\"_blank\">\n",
              "            <img style=\"width: 100px; display: block; margin-left: auto; margin-right: auto;\" src=\"https://m.media-amazon.com/images/G/01/imdb/images/nopicture/medium/name-2135195744._CB466677935_.png\"/>\n",
              "        </a>\n",
              "    </div>\n",
              "    </div><div style=\"margin-left: 10px; float: left\">\n",
              "    <div style=\"width: 150px; text-align: center\">\n",
              "        <h4 style='margin-top: -5px'>Davy Perez</h4>\n",
              "        <div style='font-size:75%; margin-bottom: 5px'>nm3053945</div>\n",
              "        <a href=\"https://www.imdb.com/name/nm3053945\" target=\"_blank\">\n",
              "            <img style=\"width: 100px; display: block; margin-left: auto; margin-right: auto;\" src=\"https://m.media-amazon.com/images/M/MV5BNzhmMzUyZTAtZGM2Yy00YmNiLTgwYTktNzM0ZmYwZmM2NzExXkEyXkFqcGdeQXVyMjQwMDg0Ng@@._V1_UY317_CR51,0,214,317_AL_.jpg\"/>\n",
              "        </a>\n",
              "    </div>\n",
              "    </div><div style=\"margin-left: 10px; float: left\">\n",
              "    <div style=\"width: 150px; text-align: center\">\n",
              "        <h4 style='margin-top: -5px'>Daniel Loflin</h4>\n",
              "        <div style='font-size:75%; margin-bottom: 5px'>nm0517418</div>\n",
              "        <a href=\"https://www.imdb.com/name/nm0517418\" target=\"_blank\">\n",
              "            <img style=\"width: 100px; display: block; margin-left: auto; margin-right: auto;\" src=\"https://m.media-amazon.com/images/G/01/imdb/images/nopicture/medium/name-2135195744._CB466677935_.png\"/>\n",
              "        </a>\n",
              "    </div>\n",
              "    </div><div style=\"margin-left: 10px; float: left\">\n",
              "    <div style=\"width: 150px; text-align: center\">\n",
              "        <h4 style='margin-top: -5px'>Robert Berens</h4>\n",
              "        <div style='font-size:75%; margin-bottom: 5px'>nm2749064</div>\n",
              "        <a href=\"https://www.imdb.com/name/nm2749064\" target=\"_blank\">\n",
              "            <img style=\"width: 100px; display: block; margin-left: auto; margin-right: auto;\" src=\"https://m.media-amazon.com/images/M/MV5BN2M1NzBiN2YtZTg2ZC00YTIyLWEzODEtYzVhMTU0ODllOWE4XkEyXkFqcGdeQXVyNDcwODIxNg@@._V1_UY317_CR130,0,214,317_AL_.jpg\"/>\n",
              "        </a>\n",
              "    </div>\n",
              "    </div><div style=\"margin-left: 10px; float: left\">\n",
              "    <div style=\"width: 150px; text-align: center\">\n",
              "        <h4 style='margin-top: -5px'>Jenny Klein</h4>\n",
              "        <div style='font-size:75%; margin-bottom: 5px'>nm3160583</div>\n",
              "        <a href=\"https://www.imdb.com/name/nm3160583\" target=\"_blank\">\n",
              "            <img style=\"width: 100px; display: block; margin-left: auto; margin-right: auto;\" src=\"https://m.media-amazon.com/images/M/MV5BNjE5N2YzMTctZTYwNC00YzViLWI3ZTgtYWU4NWRhNGYwZDMwXkEyXkFqcGdeQXVyMTU1ODk4ODI@._V1_UX214_CR0,0,214,317_AL_.jpg\"/>\n",
              "        </a>\n",
              "    </div>\n",
              "    </div><div style=\"margin-left: 10px; float: left\">\n",
              "    <div style=\"width: 150px; text-align: center\">\n",
              "        <h4 style='margin-top: -5px'>Andrew Dabb</h4>\n",
              "        <div style='font-size:75%; margin-bottom: 5px'>nm1877263</div>\n",
              "        <a href=\"https://www.imdb.com/name/nm1877263\" target=\"_blank\">\n",
              "            <img style=\"width: 100px; display: block; margin-left: auto; margin-right: auto;\" src=\"https://m.media-amazon.com/images/G/01/imdb/images/nopicture/medium/name-2135195744._CB466677935_.png\"/>\n",
              "        </a>\n",
              "    </div>\n",
              "    </div></div>"
            ]
          },
          "metadata": {}
        }
      ],
      "source": [
        "show_similars('nm0655585')"
      ]
    },
    {
      "cell_type": "code",
      "execution_count": 13,
      "metadata": {
        "id": "GgJP6nJcbqsf",
        "outputId": "39a9967f-0637-4d91-ac7c-9e96c0a675ac",
        "colab": {
          "base_uri": "https://localhost:8080/",
          "height": 402
        }
      },
      "outputs": [
        {
          "output_type": "display_data",
          "data": {
            "text/plain": [
              "<IPython.core.display.HTML object>"
            ],
            "text/html": [
              "\n",
              "    <div style=\"width: 150px; text-align: center\">\n",
              "        <h4 style='margin-top: -5px'>Robert Downey Jr.</h4>\n",
              "        <div style='font-size:75%; margin-bottom: 5px'>nm0000375</div>\n",
              "        <a href=\"https://www.imdb.com/name/nm0000375\" target=\"_blank\">\n",
              "            <img style=\"width: 100px; display: block; margin-left: auto; margin-right: auto;\" src=\"https://m.media-amazon.com/images/M/MV5BNzg1MTUyNDYxOF5BMl5BanBnXkFtZTgwNTQ4MTE2MjE@._V1_UX214_CR0,0,214,317_AL_.jpg\"/>\n",
              "        </a>\n",
              "    </div>\n",
              "    "
            ]
          },
          "metadata": {}
        },
        {
          "output_type": "display_data",
          "data": {
            "text/plain": [
              "<IPython.core.display.HTML object>"
            ],
            "text/html": [
              "<div style=\"width: 1800px\"><div style=\"margin-left: 10px; float: left\">\n",
              "    <div style=\"width: 150px; text-align: center\">\n",
              "        <h4 style='margin-top: -5px'>Nicolas Cage</h4>\n",
              "        <div style='font-size:75%; margin-bottom: 5px'>nm0000115</div>\n",
              "        <a href=\"https://www.imdb.com/name/nm0000115\" target=\"_blank\">\n",
              "            <img style=\"width: 100px; display: block; margin-left: auto; margin-right: auto;\" src=\"https://m.media-amazon.com/images/M/MV5BMjUxMjE4MTQxMF5BMl5BanBnXkFtZTcwNzc2MDM1NA@@._V1_UY317_CR9,0,214,317_AL_.jpg\"/>\n",
              "        </a>\n",
              "    </div>\n",
              "    </div><div style=\"margin-left: 10px; float: left\">\n",
              "    <div style=\"width: 150px; text-align: center\">\n",
              "        <h4 style='margin-top: -5px'>Kevin Costner</h4>\n",
              "        <div style='font-size:75%; margin-bottom: 5px'>nm0000126</div>\n",
              "        <a href=\"https://www.imdb.com/name/nm0000126\" target=\"_blank\">\n",
              "            <img style=\"width: 100px; display: block; margin-left: auto; margin-right: auto;\" src=\"https://m.media-amazon.com/images/M/MV5BMTY1ODkwMTQxOF5BMl5BanBnXkFtZTcwNzkwNDcyMw@@._V1_UX214_CR0,0,214,317_AL_.jpg\"/>\n",
              "        </a>\n",
              "    </div>\n",
              "    </div><div style=\"margin-left: 10px; float: left\">\n",
              "    <div style=\"width: 150px; text-align: center\">\n",
              "        <h4 style='margin-top: -5px'>Susan Downey</h4>\n",
              "        <div style='font-size:75%; margin-bottom: 5px'>nm1206265</div>\n",
              "        <a href=\"https://www.imdb.com/name/nm1206265\" target=\"_blank\">\n",
              "            <img style=\"width: 100px; display: block; margin-left: auto; margin-right: auto;\" src=\"https://m.media-amazon.com/images/M/MV5BMTYwNDYxODAyNF5BMl5BanBnXkFtZTcwNDk2OTI3Mg@@._V1_UY317_CR14,0,214,317_AL_.jpg\"/>\n",
              "        </a>\n",
              "    </div>\n",
              "    </div><div style=\"margin-left: 10px; float: left\">\n",
              "    <div style=\"width: 150px; text-align: center\">\n",
              "        <h4 style='margin-top: -5px'>Joaquin Phoenix</h4>\n",
              "        <div style='font-size:75%; margin-bottom: 5px'>nm0001618</div>\n",
              "        <a href=\"https://www.imdb.com/name/nm0001618\" target=\"_blank\">\n",
              "            <img style=\"width: 100px; display: block; margin-left: auto; margin-right: auto;\" src=\"https://m.media-amazon.com/images/M/MV5BZGMyY2Q4NTEtMWVkZS00NzcwLTkzNmQtYzBlMWZhZGNhMDhkXkEyXkFqcGdeQXVyNjk1MjYyNTA@._V1_UX214_CR0,0,214,317_AL_.jpg\"/>\n",
              "        </a>\n",
              "    </div>\n",
              "    </div><div style=\"margin-left: 10px; float: left\">\n",
              "    <div style=\"width: 150px; text-align: center\">\n",
              "        <h4 style='margin-top: -5px'>Jerry Bruckheimer</h4>\n",
              "        <div style='font-size:75%; margin-bottom: 5px'>nm0000988</div>\n",
              "        <a href=\"https://www.imdb.com/name/nm0000988\" target=\"_blank\">\n",
              "            <img style=\"width: 100px; display: block; margin-left: auto; margin-right: auto;\" src=\"https://m.media-amazon.com/images/M/MV5BMjExNDIwNTA5M15BMl5BanBnXkFtZTcwMDg3NTU2Mw@@._V1_UY317_CR12,0,214,317_AL_.jpg\"/>\n",
              "        </a>\n",
              "    </div>\n",
              "    </div><div style=\"margin-left: 10px; float: left\">\n",
              "    <div style=\"width: 150px; text-align: center\">\n",
              "        <h4 style='margin-top: -5px'>Colleen Atwood</h4>\n",
              "        <div style='font-size:75%; margin-bottom: 5px'>nm0041181</div>\n",
              "        <a href=\"https://www.imdb.com/name/nm0041181\" target=\"_blank\">\n",
              "            <img style=\"width: 100px; display: block; margin-left: auto; margin-right: auto;\" src=\"https://m.media-amazon.com/images/M/MV5BMTM3OTM1MzMxOV5BMl5BanBnXkFtZTYwOTQ0MzE1._V1_UX214_CR0,0,214,317_AL_.jpg\"/>\n",
              "        </a>\n",
              "    </div>\n",
              "    </div><div style=\"margin-left: 10px; float: left\">\n",
              "    <div style=\"width: 150px; text-align: center\">\n",
              "        <h4 style='margin-top: -5px'>Samuel L. Jackson</h4>\n",
              "        <div style='font-size:75%; margin-bottom: 5px'>nm0000168</div>\n",
              "        <a href=\"https://www.imdb.com/name/nm0000168\" target=\"_blank\">\n",
              "            <img style=\"width: 100px; display: block; margin-left: auto; margin-right: auto;\" src=\"https://m.media-amazon.com/images/M/MV5BMTQ1NTQwMTYxNl5BMl5BanBnXkFtZTYwMjA1MzY1._V1_UX214_CR0,0,214,317_AL_.jpg\"/>\n",
              "        </a>\n",
              "    </div>\n",
              "    </div><div style=\"margin-left: 10px; float: left\">\n",
              "    <div style=\"width: 150px; text-align: center\">\n",
              "        <h4 style='margin-top: -5px'>Angelina Jolie</h4>\n",
              "        <div style='font-size:75%; margin-bottom: 5px'>nm0001401</div>\n",
              "        <a href=\"https://www.imdb.com/name/nm0001401\" target=\"_blank\">\n",
              "            <img style=\"width: 100px; display: block; margin-left: auto; margin-right: auto;\" src=\"https://m.media-amazon.com/images/M/MV5BODg3MzYwMjE4N15BMl5BanBnXkFtZTcwMjU5NzAzNw@@._V1_UY317_CR22,0,214,317_AL_.jpg\"/>\n",
              "        </a>\n",
              "    </div>\n",
              "    </div><div style=\"margin-left: 10px; float: left\">\n",
              "    <div style=\"width: 150px; text-align: center\">\n",
              "        <h4 style='margin-top: -5px'>Keanu Reeves</h4>\n",
              "        <div style='font-size:75%; margin-bottom: 5px'>nm0000206</div>\n",
              "        <a href=\"https://www.imdb.com/name/nm0000206\" target=\"_blank\">\n",
              "            <img style=\"width: 100px; display: block; margin-left: auto; margin-right: auto;\" src=\"https://m.media-amazon.com/images/M/MV5BNGJmMWEzOGQtMWZkNS00MGNiLTk5NGEtYzg1YzAyZTgzZTZmXkEyXkFqcGdeQXVyMTE1MTYxNDAw._V1_UX214_CR0,0,214,317_AL_.jpg\"/>\n",
              "        </a>\n",
              "    </div>\n",
              "    </div><div style=\"margin-left: 10px; float: left\">\n",
              "    <div style=\"width: 150px; text-align: center\">\n",
              "        <h4 style='margin-top: -5px'>Woody Harrelson</h4>\n",
              "        <div style='font-size:75%; margin-bottom: 5px'>nm0000437</div>\n",
              "        <a href=\"https://www.imdb.com/name/nm0000437\" target=\"_blank\">\n",
              "            <img style=\"width: 100px; display: block; margin-left: auto; margin-right: auto;\" src=\"https://m.media-amazon.com/images/M/MV5BMTU3NDc2ODc4MF5BMl5BanBnXkFtZTcwODk2MzAyMg@@._V1_UY317_CR1,0,214,317_AL_.jpg\"/>\n",
              "        </a>\n",
              "    </div>\n",
              "    </div></div>"
            ]
          },
          "metadata": {}
        }
      ],
      "source": [
        "show_similars('nm0000375')"
      ]
    },
    {
      "cell_type": "code",
      "execution_count": 14,
      "metadata": {
        "id": "4xwHlDicbqsf",
        "outputId": "498e4fad-3604-4b84-bcf9-4c950366216e",
        "colab": {
          "base_uri": "https://localhost:8080/",
          "height": 419
        }
      },
      "outputs": [
        {
          "output_type": "display_data",
          "data": {
            "text/plain": [
              "<IPython.core.display.HTML object>"
            ],
            "text/html": [
              "\n",
              "    <div style=\"width: 150px; text-align: center\">\n",
              "        <h4 style='margin-top: -5px'>Andrew Lincoln</h4>\n",
              "        <div style='font-size:75%; margin-bottom: 5px'>nm0511088</div>\n",
              "        <a href=\"https://www.imdb.com/name/nm0511088\" target=\"_blank\">\n",
              "            <img style=\"width: 100px; display: block; margin-left: auto; margin-right: auto;\" src=\"https://m.media-amazon.com/images/M/MV5BMjI2NDYyNjg4NF5BMl5BanBnXkFtZTcwMjI5OTMwNA@@._V1_UY317_CR9,0,214,317_AL_.jpg\"/>\n",
              "        </a>\n",
              "    </div>\n",
              "    "
            ]
          },
          "metadata": {}
        },
        {
          "output_type": "display_data",
          "data": {
            "text/plain": [
              "<IPython.core.display.HTML object>"
            ],
            "text/html": [
              "<div style=\"width: 1800px\"><div style=\"margin-left: 10px; float: left\">\n",
              "    <div style=\"width: 150px; text-align: center\">\n",
              "        <h4 style='margin-top: -5px'>Lennie James</h4>\n",
              "        <div style='font-size:75%; margin-bottom: 5px'>nm0416694</div>\n",
              "        <a href=\"https://www.imdb.com/name/nm0416694\" target=\"_blank\">\n",
              "            <img style=\"width: 100px; display: block; margin-left: auto; margin-right: auto;\" src=\"https://m.media-amazon.com/images/M/MV5BMjRiNzI3ZTItOWEzMi00ZDE2LTkyZjktMzQ4YjlmYjRhZGJiXkEyXkFqcGdeQXVyMTExNzQ3MzAw._V1_UY317_CR35,0,214,317_AL_.jpg\"/>\n",
              "        </a>\n",
              "    </div>\n",
              "    </div><div style=\"margin-left: 10px; float: left\">\n",
              "    <div style=\"width: 150px; text-align: center\">\n",
              "        <h4 style='margin-top: -5px'>Iddo Goldberg</h4>\n",
              "        <div style='font-size:75%; margin-bottom: 5px'>nm0325221</div>\n",
              "        <a href=\"https://www.imdb.com/name/nm0325221\" target=\"_blank\">\n",
              "            <img style=\"width: 100px; display: block; margin-left: auto; margin-right: auto;\" src=\"https://m.media-amazon.com/images/M/MV5BMjI3MDE3NzUxOF5BMl5BanBnXkFtZTgwNDEwOTgzNDM@._V1_UX214_CR0,0,214,317_AL_.jpg\"/>\n",
              "        </a>\n",
              "    </div>\n",
              "    </div><div style=\"margin-left: 10px; float: left\">\n",
              "    <div style=\"width: 150px; text-align: center\">\n",
              "        <h4 style='margin-top: -5px'>Adeel Akhtar</h4>\n",
              "        <div style='font-size:75%; margin-bottom: 5px'>nm2253821</div>\n",
              "        <a href=\"https://www.imdb.com/name/nm2253821\" target=\"_blank\">\n",
              "            <img style=\"width: 100px; display: block; margin-left: auto; margin-right: auto;\" src=\"https://m.media-amazon.com/images/M/MV5BMTk2NTMwMjE2Ml5BMl5BanBnXkFtZTgwNDI5MDA1MzI@._V1_UY317_CR5,0,214,317_AL_.jpg\"/>\n",
              "        </a>\n",
              "    </div>\n",
              "    </div><div style=\"margin-left: 10px; float: left\">\n",
              "    <div style=\"width: 150px; text-align: center\">\n",
              "        <h4 style='margin-top: -5px'>Nathan Stewart-Jarrett</h4>\n",
              "        <div style='font-size:75%; margin-bottom: 5px'>nm2805533</div>\n",
              "        <a href=\"https://www.imdb.com/name/nm2805533\" target=\"_blank\">\n",
              "            <img style=\"width: 100px; display: block; margin-left: auto; margin-right: auto;\" src=\"https://m.media-amazon.com/images/M/MV5BNjZjMzJkOTMtZjc5NC00OWU4LTgzNmUtZjhhY2JjNzRkMDhmXkEyXkFqcGdeQXVyMjE4OTcyMzI@._V1_UY317_CR51,0,214,317_AL_.jpg\"/>\n",
              "        </a>\n",
              "    </div>\n",
              "    </div><div style=\"margin-left: 10px; float: left\">\n",
              "    <div style=\"width: 150px; text-align: center\">\n",
              "        <h4 style='margin-top: -5px'>Ronan Raftery</h4>\n",
              "        <div style='font-size:75%; margin-bottom: 5px'>nm3995719</div>\n",
              "        <a href=\"https://www.imdb.com/name/nm3995719\" target=\"_blank\">\n",
              "            <img style=\"width: 100px; display: block; margin-left: auto; margin-right: auto;\" src=\"https://m.media-amazon.com/images/M/MV5BY2M2YTFiN2YtNjM5OC00YzdmLTkyM2ItNWFjMGE0M2JkODYwXkEyXkFqcGdeQXVyMjM5NDI4MTE@._V1_UX214_CR0,0,214,317_AL_.jpg\"/>\n",
              "        </a>\n",
              "    </div>\n",
              "    </div><div style=\"margin-left: 10px; float: left\">\n",
              "    <div style=\"width: 150px; text-align: center\">\n",
              "        <h4 style='margin-top: -5px'>Lucy Tcherniak</h4>\n",
              "        <div style='font-size:75%; margin-bottom: 5px'>nm3370884</div>\n",
              "        <a href=\"https://www.imdb.com/name/nm3370884\" target=\"_blank\">\n",
              "            <img style=\"width: 100px; display: block; margin-left: auto; margin-right: auto;\" src=\"https://m.media-amazon.com/images/M/MV5BMTI1MWFhYmYtOTk1Ny00NTgzLWEzY2UtNmM5YmMyZWZiN2YwXkEyXkFqcGdeQXVyMjQ5ODk4NjE@._V1_UY317_CR41,0,214,317_AL_.jpg\"/>\n",
              "        </a>\n",
              "    </div>\n",
              "    </div><div style=\"margin-left: 10px; float: left\">\n",
              "    <div style=\"width: 150px; text-align: center\">\n",
              "        <h4 style='margin-top: -5px'>Ashley Madekwe</h4>\n",
              "        <div style='font-size:75%; margin-bottom: 5px'>nm0534772</div>\n",
              "        <a href=\"https://www.imdb.com/name/nm0534772\" target=\"_blank\">\n",
              "            <img style=\"width: 100px; display: block; margin-left: auto; margin-right: auto;\" src=\"https://m.media-amazon.com/images/M/MV5BYmFlN2Q1YTEtYzQ1YS00NjA1LWE0ZjUtNDFmNDc3N2MyM2M1XkEyXkFqcGdeQXVyMjc3NDYyOTM@._V1_UY317_CR73,0,214,317_AL_.jpg\"/>\n",
              "        </a>\n",
              "    </div>\n",
              "    </div><div style=\"margin-left: 10px; float: left\">\n",
              "    <div style=\"width: 150px; text-align: center\">\n",
              "        <h4 style='margin-top: -5px'>Hannah Murray</h4>\n",
              "        <div style='font-size:75%; margin-bottom: 5px'>nm2356940</div>\n",
              "        <a href=\"https://www.imdb.com/name/nm2356940\" target=\"_blank\">\n",
              "            <img style=\"width: 100px; display: block; margin-left: auto; margin-right: auto;\" src=\"https://m.media-amazon.com/images/M/MV5BMjQ0NDM3ODY1MV5BMl5BanBnXkFtZTcwNTIyMTg2OA@@._V1_UX214_CR0,0,214,317_AL_.jpg\"/>\n",
              "        </a>\n",
              "    </div>\n",
              "    </div><div style=\"margin-left: 10px; float: left\">\n",
              "    <div style=\"width: 150px; text-align: center\">\n",
              "        <h4 style='margin-top: -5px'>Otto Bathurst</h4>\n",
              "        <div style='font-size:75%; margin-bottom: 5px'>nm1163264</div>\n",
              "        <a href=\"https://www.imdb.com/name/nm1163264\" target=\"_blank\">\n",
              "            <img style=\"width: 100px; display: block; margin-left: auto; margin-right: auto;\" src=\"https://m.media-amazon.com/images/G/01/imdb/images/nopicture/medium/name-2135195744._CB466677935_.png\"/>\n",
              "        </a>\n",
              "    </div>\n",
              "    </div><div style=\"margin-left: 10px; float: left\">\n",
              "    <div style=\"width: 150px; text-align: center\">\n",
              "        <h4 style='margin-top: -5px'>Tom Jarvis</h4>\n",
              "        <div style='font-size:75%; margin-bottom: 5px'>nm6306534</div>\n",
              "        <a href=\"https://www.imdb.com/name/nm6306534\" target=\"_blank\">\n",
              "            <img style=\"width: 100px; display: block; margin-left: auto; margin-right: auto;\" src=\"https://m.media-amazon.com/images/G/01/imdb/images/nopicture/medium/name-2135195744._CB466677935_.png\"/>\n",
              "        </a>\n",
              "    </div>\n",
              "    </div></div>"
            ]
          },
          "metadata": {}
        }
      ],
      "source": [
        "show_similars('nm0511088')"
      ]
    },
    {
      "cell_type": "code",
      "execution_count": 15,
      "metadata": {
        "id": "wrt-wBp2bqsf",
        "outputId": "edd5236b-0d5e-4f5b-bed7-4e71975b2a10",
        "colab": {
          "base_uri": "https://localhost:8080/",
          "height": 402
        }
      },
      "outputs": [
        {
          "output_type": "display_data",
          "data": {
            "text/plain": [
              "<IPython.core.display.HTML object>"
            ],
            "text/html": [
              "\n",
              "    <div style=\"width: 150px; text-align: center\">\n",
              "        <h4 style='margin-top: -5px'>Michael J. Fox</h4>\n",
              "        <div style='font-size:75%; margin-bottom: 5px'>nm0000150</div>\n",
              "        <a href=\"https://www.imdb.com/name/nm0000150\" target=\"_blank\">\n",
              "            <img style=\"width: 100px; display: block; margin-left: auto; margin-right: auto;\" src=\"https://m.media-amazon.com/images/M/MV5BMTcwNzM0MjE4NF5BMl5BanBnXkFtZTcwMDkxMzEwMw@@._V1_UY317_CR1,0,214,317_AL_.jpg\"/>\n",
              "        </a>\n",
              "    </div>\n",
              "    "
            ]
          },
          "metadata": {}
        },
        {
          "output_type": "display_data",
          "data": {
            "text/plain": [
              "<IPython.core.display.HTML object>"
            ],
            "text/html": [
              "<div style=\"width: 1800px\"><div style=\"margin-left: 10px; float: left\">\n",
              "    <div style=\"width: 150px; text-align: center\">\n",
              "        <h4 style='margin-top: -5px'>Justine Bateman</h4>\n",
              "        <div style='font-size:75%; margin-bottom: 5px'>nm0000868</div>\n",
              "        <a href=\"https://www.imdb.com/name/nm0000868\" target=\"_blank\">\n",
              "            <img style=\"width: 100px; display: block; margin-left: auto; margin-right: auto;\" src=\"https://m.media-amazon.com/images/M/MV5BMjg4NDVmMzUtOWU4OC00ZDNmLWFjMWYtYmMwYjI0NzZjNGE2XkEyXkFqcGdeQXVyMzMwMDIwMA@@._V1_UY317_CR32,0,214,317_AL_.jpg\"/>\n",
              "        </a>\n",
              "    </div>\n",
              "    </div><div style=\"margin-left: 10px; float: left\">\n",
              "    <div style=\"width: 150px; text-align: center\">\n",
              "        <h4 style='margin-top: -5px'>Garry Shandling</h4>\n",
              "        <div style='font-size:75%; margin-bottom: 5px'>nm0788009</div>\n",
              "        <a href=\"https://www.imdb.com/name/nm0788009\" target=\"_blank\">\n",
              "            <img style=\"width: 100px; display: block; margin-left: auto; margin-right: auto;\" src=\"https://m.media-amazon.com/images/M/MV5BODkzMzAxMDMzOV5BMl5BanBnXkFtZTgwNzE2NDM0ODE@._V1_UY317_CR116,0,214,317_AL_.jpg\"/>\n",
              "        </a>\n",
              "    </div>\n",
              "    </div><div style=\"margin-left: 10px; float: left\">\n",
              "    <div style=\"width: 150px; text-align: center\">\n",
              "        <h4 style='margin-top: -5px'>Levon Helm</h4>\n",
              "        <div style='font-size:75%; margin-bottom: 5px'>nm0375629</div>\n",
              "        <a href=\"https://www.imdb.com/name/nm0375629\" target=\"_blank\">\n",
              "            <img style=\"width: 100px; display: block; margin-left: auto; margin-right: auto;\" src=\"https://m.media-amazon.com/images/M/MV5BYzIzODQ1MzEtMTY3Yy00ZGUzLWI0MGMtYWRmMWVjOGMwYzZkXkEyXkFqcGdeQXVyNjUxMjc1OTM@._V1_UY317_CR13,0,214,317_AL_.jpg\"/>\n",
              "        </a>\n",
              "    </div>\n",
              "    </div><div style=\"margin-left: 10px; float: left\">\n",
              "    <div style=\"width: 150px; text-align: center\">\n",
              "        <h4 style='margin-top: -5px'>Marc Lawrence</h4>\n",
              "        <div style='font-size:75%; margin-bottom: 5px'>nm0492909</div>\n",
              "        <a href=\"https://www.imdb.com/name/nm0492909\" target=\"_blank\">\n",
              "            <img style=\"width: 100px; display: block; margin-left: auto; margin-right: auto;\" src=\"https://m.media-amazon.com/images/M/MV5BMjc3NzMwNDUyNF5BMl5BanBnXkFtZTcwNDk5MTYwMw@@._V1_UY317_CR24,0,214,317_AL_.jpg\"/>\n",
              "        </a>\n",
              "    </div>\n",
              "    </div><div style=\"margin-left: 10px; float: left\">\n",
              "    <div style=\"width: 150px; text-align: center\">\n",
              "        <h4 style='margin-top: -5px'>Chevy Chase</h4>\n",
              "        <div style='font-size:75%; margin-bottom: 5px'>nm0000331</div>\n",
              "        <a href=\"https://www.imdb.com/name/nm0000331\" target=\"_blank\">\n",
              "            <img style=\"width: 100px; display: block; margin-left: auto; margin-right: auto;\" src=\"https://m.media-amazon.com/images/M/MV5BMTMwNTY2ODA4OV5BMl5BanBnXkFtZTcwOTE1NjAxMw@@._V1_UY317_CR15,0,214,317_AL_.jpg\"/>\n",
              "        </a>\n",
              "    </div>\n",
              "    </div><div style=\"margin-left: 10px; float: left\">\n",
              "    <div style=\"width: 150px; text-align: center\">\n",
              "        <h4 style='margin-top: -5px'>Danitra Vance</h4>\n",
              "        <div style='font-size:75%; margin-bottom: 5px'>nm0888503</div>\n",
              "        <a href=\"https://www.imdb.com/name/nm0888503\" target=\"_blank\">\n",
              "            <img style=\"width: 100px; display: block; margin-left: auto; margin-right: auto;\" src=\"https://m.media-amazon.com/images/M/MV5BNTU3OTY0MDA2MF5BMl5BanBnXkFtZTgwOTM5ODY2NDM@._V1_UY317_CR18,0,214,317_AL_.jpg\"/>\n",
              "        </a>\n",
              "    </div>\n",
              "    </div><div style=\"margin-left: 10px; float: left\">\n",
              "    <div style=\"width: 150px; text-align: center\">\n",
              "        <h4 style='margin-top: -5px'>Tina Yothers</h4>\n",
              "        <div style='font-size:75%; margin-bottom: 5px'>nm0001869</div>\n",
              "        <a href=\"https://www.imdb.com/name/nm0001869\" target=\"_blank\">\n",
              "            <img style=\"width: 100px; display: block; margin-left: auto; margin-right: auto;\" src=\"https://m.media-amazon.com/images/M/MV5BMTg1NzYwODU2OF5BMl5BanBnXkFtZTcwMjk5NTE5NA@@._V1_UX214_CR0,0,214,317_AL_.jpg\"/>\n",
              "        </a>\n",
              "    </div>\n",
              "    </div><div style=\"margin-left: 10px; float: left\">\n",
              "    <div style=\"width: 150px; text-align: center\">\n",
              "        <h4 style='margin-top: -5px'>Anne Beatts</h4>\n",
              "        <div style='font-size:75%; margin-bottom: 5px'>nm0064186</div>\n",
              "        <a href=\"https://www.imdb.com/name/nm0064186\" target=\"_blank\">\n",
              "            <img style=\"width: 100px; display: block; margin-left: auto; margin-right: auto;\" src=\"https://m.media-amazon.com/images/G/01/imdb/images/nopicture/medium/name-2135195744._CB466677935_.png\"/>\n",
              "        </a>\n",
              "    </div>\n",
              "    </div><div style=\"margin-left: 10px; float: left\">\n",
              "    <div style=\"width: 150px; text-align: center\">\n",
              "        <h4 style='margin-top: -5px'>Andrew Scheinman</h4>\n",
              "        <div style='font-size:75%; margin-bottom: 5px'>nm0770650</div>\n",
              "        <a href=\"https://www.imdb.com/name/nm0770650\" target=\"_blank\">\n",
              "            <img style=\"width: 100px; display: block; margin-left: auto; margin-right: auto;\" src=\"https://m.media-amazon.com/images/G/01/imdb/images/nopicture/medium/name-2135195744._CB466677935_.png\"/>\n",
              "        </a>\n",
              "    </div>\n",
              "    </div><div style=\"margin-left: 10px; float: left\">\n",
              "    <div style=\"width: 150px; text-align: center\">\n",
              "        <h4 style='margin-top: -5px'>Garrison Keillor</h4>\n",
              "        <div style='font-size:75%; margin-bottom: 5px'>nm0445087</div>\n",
              "        <a href=\"https://www.imdb.com/name/nm0445087\" target=\"_blank\">\n",
              "            <img style=\"width: 100px; display: block; margin-left: auto; margin-right: auto;\" src=\"https://m.media-amazon.com/images/M/MV5BMTY0NDE2NzQ1OF5BMl5BanBnXkFtZTYwMDkyOTQ0._V1_UX214_CR0,0,214,317_AL_.jpg\"/>\n",
              "        </a>\n",
              "    </div>\n",
              "    </div></div>"
            ]
          },
          "metadata": {}
        }
      ],
      "source": [
        "show_similars('nm0000150')"
      ]
    },
    {
      "cell_type": "markdown",
      "metadata": {
        "id": "2NE6zrnsbqsf"
      },
      "source": [
        "# Algunos random"
      ]
    },
    {
      "cell_type": "code",
      "source": [
        "# Clonamos el repo para usar el codigo de la lib\n",
        "!git clone https://github.com/elsonidoq/ml-practico-2022.git\n",
        "!cd ml-practico-2022; git pull"
      ],
      "metadata": {
        "id": "yMxRZsuPcdX4",
        "outputId": "f50f14a1-e0dc-4b50-dcb6-b829ba1fb9e9",
        "colab": {
          "base_uri": "https://localhost:8080/"
        }
      },
      "execution_count": 16,
      "outputs": [
        {
          "output_type": "stream",
          "name": "stdout",
          "text": [
            "fatal: destination path 'ml-practico-2022' already exists and is not an empty directory.\n",
            "remote: Enumerating objects: 11, done.\u001b[K\n",
            "remote: Counting objects: 100% (11/11), done.\u001b[K\n",
            "remote: Compressing objects: 100% (3/3), done.\u001b[K\n",
            "remote: Total 6 (delta 3), reused 6 (delta 3), pack-reused 0\u001b[K\n",
            "Unpacking objects: 100% (6/6), done.\n",
            "From https://github.com/elsonidoq/ml-practico-2022\n",
            "   0c106cf..7c90893  main       -> origin/main\n",
            "Updating 0c106cf..7c90893\n",
            "Fast-forward\n",
            " notebooks/clase-3/01-rating-distribution.ipynb |  988 \u001b[32m++\u001b[m\u001b[31m---\u001b[m\n",
            " notebooks/clase-3/04-crew-embeddings.ipynb     | 4694 \u001b[32m++++++++++++++++++++++\u001b[m\u001b[31m--\u001b[m\n",
            " 2 files changed, 4880 insertions(+), 802 deletions(-)\n"
          ]
        }
      ]
    },
    {
      "cell_type": "code",
      "execution_count": 17,
      "metadata": {
        "id": "0fl0Atvmbqsg"
      },
      "outputs": [],
      "source": [
        "import sys\n",
        "sys.path.append('ml-practico-2022')\n",
        "\n",
        "from lib import data"
      ]
    },
    {
      "cell_type": "code",
      "execution_count": 18,
      "metadata": {
        "id": "7S_J81aLbqsh",
        "outputId": "f1c7ce03-527e-42dc-e0f8-7c864a69edb8",
        "colab": {
          "base_uri": "https://localhost:8080/"
        }
      },
      "outputs": [
        {
          "output_type": "stream",
          "name": "stderr",
          "text": [
            "/usr/local/lib/python3.7/dist-packages/ipykernel_launcher.py:3: DtypeWarning: Columns (4,5) have mixed types.Specify dtype option on import or set low_memory=False.\n",
            "  This is separate from the ipykernel package so we can avoid doing imports until\n"
          ]
        }
      ],
      "source": [
        "import pandas as pd\n",
        "\n",
        "title_basics = data.load_title_basics(DATA_HOME)\n",
        "principals_df = pd.read_csv(DATA_HOME / 'title.principals.tsv.gz', compression='gzip', sep='\\t')\n",
        "ratings_df = pd.read_csv(DATA_HOME / 'title.ratings.tsv.gz', compression='gzip', sep='\\t')"
      ]
    },
    {
      "cell_type": "code",
      "execution_count": 19,
      "metadata": {
        "id": "JuDbYE6ubqsh",
        "outputId": "7844e502-4ed2-4959-dff8-f95432f449e6",
        "colab": {
          "base_uri": "https://localhost:8080/"
        }
      },
      "outputs": [
        {
          "output_type": "execute_result",
          "data": {
            "text/plain": [
              "3788"
            ]
          },
          "metadata": {},
          "execution_count": 19
        }
      ],
      "source": [
        "candidates = (\n",
        "    principals_df[\n",
        "        principals_df.category.isin(['actress', 'actor', 'director']) &\n",
        "        principals_df.tconst.isin(set(title_basics[title_basics.startYear >= 1980].tconst)) &\n",
        "        principals_df.tconst.isin(set(ratings_df[ratings_df.numVotes > 100000].tconst))\n",
        "    ].nconst.unique()\n",
        ")\n",
        "\n",
        "candidates = [c for c in candidates if c in model.wv.vocab]\n",
        "len(candidates)"
      ]
    },
    {
      "cell_type": "code",
      "execution_count": 21,
      "metadata": {
        "scrolled": false,
        "id": "CrYRWbpjbqsh",
        "outputId": "512611e0-1d7d-47db-e0a4-69bc9e47ec5a",
        "colab": {
          "base_uri": "https://localhost:8080/",
          "height": 1000
        }
      },
      "outputs": [
        {
          "output_type": "display_data",
          "data": {
            "text/plain": [
              "<IPython.core.display.HTML object>"
            ],
            "text/html": [
              "\n",
              "    <div style=\"width: 150px; text-align: center\">\n",
              "        <h4 style='margin-top: -5px'>Jim Gillespie</h4>\n",
              "        <div style='font-size:75%; margin-bottom: 5px'>nm0318947</div>\n",
              "        <a href=\"https://www.imdb.com/name/nm0318947\" target=\"_blank\">\n",
              "            <img style=\"width: 100px; display: block; margin-left: auto; margin-right: auto;\" src=\"https://m.media-amazon.com/images/G/01/imdb/images/nopicture/medium/name-2135195744._CB466677935_.png\"/>\n",
              "        </a>\n",
              "    </div>\n",
              "    "
            ]
          },
          "metadata": {}
        },
        {
          "output_type": "display_data",
          "data": {
            "text/plain": [
              "<IPython.core.display.HTML object>"
            ],
            "text/html": [
              "<div style=\"width: 1800px\"><div style=\"margin-left: 10px; float: left\">\n",
              "    <div style=\"width: 150px; text-align: center\">\n",
              "        <h4 style='margin-top: -5px'>Rupert Penry-Jones</h4>\n",
              "        <div style='font-size:75%; margin-bottom: 5px'>nm0672303</div>\n",
              "        <a href=\"https://www.imdb.com/name/nm0672303\" target=\"_blank\">\n",
              "            <img style=\"width: 100px; display: block; margin-left: auto; margin-right: auto;\" src=\"https://m.media-amazon.com/images/M/MV5BMjE1ODc2MjEzMV5BMl5BanBnXkFtZTgwNDg1MzQxMDE@._V1_UY317_CR0,0,214,317_AL_.jpg\"/>\n",
              "        </a>\n",
              "    </div>\n",
              "    </div><div style=\"margin-left: 10px; float: left\">\n",
              "    <div style=\"width: 150px; text-align: center\">\n",
              "        <h4 style='margin-top: -5px'>Gwilym Lee</h4>\n",
              "        <div style='font-size:75%; margin-bottom: 5px'>nm3152605</div>\n",
              "        <a href=\"https://www.imdb.com/name/nm3152605\" target=\"_blank\">\n",
              "            <img style=\"width: 100px; display: block; margin-left: auto; margin-right: auto;\" src=\"https://m.media-amazon.com/images/M/MV5BOTJlODk4NzQtNDgzZS00ZGNiLWIwMzAtNzY0ZGJjMjVhNGQ5XkEyXkFqcGdeQXVyNjk4NjAzOTg@._V1_UY317_CR18,0,214,317_AL_.jpg\"/>\n",
              "        </a>\n",
              "    </div>\n",
              "    </div><div style=\"margin-left: 10px; float: left\">\n",
              "    <div style=\"width: 150px; text-align: center\">\n",
              "        <h4 style='margin-top: -5px'>Steve Toussaint</h4>\n",
              "        <div style='font-size:75%; margin-bottom: 5px'>nm0869750</div>\n",
              "        <a href=\"https://www.imdb.com/name/nm0869750\" target=\"_blank\">\n",
              "            <img style=\"width: 100px; display: block; margin-left: auto; margin-right: auto;\" src=\"https://m.media-amazon.com/images/M/MV5BMWJlNmFkOTItZTc5Ny00MTAyLWIzZTMtYTA2NTc3N2VmMzZkXkEyXkFqcGdeQXVyMzc2NDU0NQ@@._V1_UY317_CR20,0,214,317_AL_.jpg\"/>\n",
              "        </a>\n",
              "    </div>\n",
              "    </div><div style=\"margin-left: 10px; float: left\">\n",
              "    <div style=\"width: 150px; text-align: center\">\n",
              "        <h4 style='margin-top: -5px'>David Bamber</h4>\n",
              "        <div style='font-size:75%; margin-bottom: 5px'>nm0051394</div>\n",
              "        <a href=\"https://www.imdb.com/name/nm0051394\" target=\"_blank\">\n",
              "            <img style=\"width: 100px; display: block; margin-left: auto; margin-right: auto;\" src=\"https://m.media-amazon.com/images/M/MV5BMTc4NDUxNjc4OV5BMl5BanBnXkFtZTcwNDUyMzk5Nw@@._V1_UY317_CR7,0,214,317_AL_.jpg\"/>\n",
              "        </a>\n",
              "    </div>\n",
              "    </div><div style=\"margin-left: 10px; float: left\">\n",
              "    <div style=\"width: 150px; text-align: center\">\n",
              "        <h4 style='margin-top: -5px'>Harry Richardson</h4>\n",
              "        <div style='font-size:75%; margin-bottom: 5px'>nm2076758</div>\n",
              "        <a href=\"https://www.imdb.com/name/nm2076758\" target=\"_blank\">\n",
              "            <img style=\"width: 100px; display: block; margin-left: auto; margin-right: auto;\" src=\"https://m.media-amazon.com/images/M/MV5BYTMxN2FiZmYtODM5NC00NmM3LThlZGEtNzE3MjhhY2Y4ZjFkXkEyXkFqcGdeQXVyMDM2NDM2MQ@@._V1_UX214_CR0,0,214,317_AL_.jpg\"/>\n",
              "        </a>\n",
              "    </div>\n",
              "    </div><div style=\"margin-left: 10px; float: left\">\n",
              "    <div style=\"width: 150px; text-align: center\">\n",
              "        <h4 style='margin-top: -5px'>Natalie Mendoza</h4>\n",
              "        <div style='font-size:75%; margin-bottom: 5px'>nm0413238</div>\n",
              "        <a href=\"https://www.imdb.com/name/nm0413238\" target=\"_blank\">\n",
              "            <img style=\"width: 100px; display: block; margin-left: auto; margin-right: auto;\" src=\"https://m.media-amazon.com/images/M/MV5BNjUzMzY5NzE1OF5BMl5BanBnXkFtZTgwMTcyOTM2MjE@._V1_UY317_CR104,0,214,317_AL_.jpg\"/>\n",
              "        </a>\n",
              "    </div>\n",
              "    </div><div style=\"margin-left: 10px; float: left\">\n",
              "    <div style=\"width: 150px; text-align: center\">\n",
              "        <h4 style='margin-top: -5px'>Daniel Lapaine</h4>\n",
              "        <div style='font-size:75%; margin-bottom: 5px'>nm0487406</div>\n",
              "        <a href=\"https://www.imdb.com/name/nm0487406\" target=\"_blank\">\n",
              "            <img style=\"width: 100px; display: block; margin-left: auto; margin-right: auto;\" src=\"https://m.media-amazon.com/images/M/MV5BODcwNjkwNjE3NF5BMl5BanBnXkFtZTgwNjUyODgyNzE@._V1_UY317_CR20,0,214,317_AL_.jpg\"/>\n",
              "        </a>\n",
              "    </div>\n",
              "    </div><div style=\"margin-left: 10px; float: left\">\n",
              "    <div style=\"width: 150px; text-align: center\">\n",
              "        <h4 style='margin-top: -5px'>Suzan Crowley</h4>\n",
              "        <div style='font-size:75%; margin-bottom: 5px'>nm0189791</div>\n",
              "        <a href=\"https://www.imdb.com/name/nm0189791\" target=\"_blank\">\n",
              "            <img style=\"width: 100px; display: block; margin-left: auto; margin-right: auto;\" src=\"https://m.media-amazon.com/images/M/MV5BMTYxNjQwOTk0N15BMl5BanBnXkFtZTcwOTk0MzM1Nw@@._V1_UX214_CR0,0,214,317_AL_.jpg\"/>\n",
              "        </a>\n",
              "    </div>\n",
              "    </div><div style=\"margin-left: 10px; float: left\">\n",
              "    <div style=\"width: 150px; text-align: center\">\n",
              "        <h4 style='margin-top: -5px'>Lynda La Plante</h4>\n",
              "        <div style='font-size:75%; margin-bottom: 5px'>nm0478852</div>\n",
              "        <a href=\"https://www.imdb.com/name/nm0478852\" target=\"_blank\">\n",
              "            <img style=\"width: 100px; display: block; margin-left: auto; margin-right: auto;\" src=\"https://m.media-amazon.com/images/M/MV5BYTYyZTBiNDUtYWIwMC00MzQ4LWE3ZWEtYmUzYjQ3M2Q0MGVlXkEyXkFqcGdeQXVyNjc3NDgwNzU@._V1_UY317_CR98,0,214,317_AL_.jpg\"/>\n",
              "        </a>\n",
              "    </div>\n",
              "    </div><div style=\"margin-left: 10px; float: left\">\n",
              "    <div style=\"width: 150px; text-align: center\">\n",
              "        <h4 style='margin-top: -5px'>Sara Sugarman</h4>\n",
              "        <div style='font-size:75%; margin-bottom: 5px'>nm0837406</div>\n",
              "        <a href=\"https://www.imdb.com/name/nm0837406\" target=\"_blank\">\n",
              "            <img style=\"width: 100px; display: block; margin-left: auto; margin-right: auto;\" src=\"https://m.media-amazon.com/images/M/MV5BZjhiYTg5NDEtNDI0Yi00MWU2LTgwOTctM2Y1ZDE2NTNhODM4XkEyXkFqcGdeQXVyMzA2MTcxNA@@._V1_UY317_CR104,0,214,317_AL_.jpg\"/>\n",
              "        </a>\n",
              "    </div>\n",
              "    </div></div>"
            ]
          },
          "metadata": {}
        },
        {
          "output_type": "display_data",
          "data": {
            "text/plain": [
              "<IPython.core.display.HTML object>"
            ],
            "text/html": [
              "\n",
              "    <div style=\"width: 150px; text-align: center\">\n",
              "        <h4 style='margin-top: -5px'>Whitney Houston</h4>\n",
              "        <div style='font-size:75%; margin-bottom: 5px'>nm0001365</div>\n",
              "        <a href=\"https://www.imdb.com/name/nm0001365\" target=\"_blank\">\n",
              "            <img style=\"width: 100px; display: block; margin-left: auto; margin-right: auto;\" src=\"https://m.media-amazon.com/images/M/MV5BMTkyMzA1NTk1M15BMl5BanBnXkFtZTcwMTYxNTkzNw@@._V1_UY317_CR7,0,214,317_AL_.jpg\"/>\n",
              "        </a>\n",
              "    </div>\n",
              "    "
            ]
          },
          "metadata": {}
        },
        {
          "output_type": "display_data",
          "data": {
            "text/plain": [
              "<IPython.core.display.HTML object>"
            ],
            "text/html": [
              "<div style=\"width: 1800px\"><div style=\"margin-left: 10px; float: left\">\n",
              "    <div style=\"width: 150px; text-align: center\">\n",
              "        <h4 style='margin-top: -5px'>Prince</h4>\n",
              "        <div style='font-size:75%; margin-bottom: 5px'>nm0002239</div>\n",
              "        <a href=\"https://www.imdb.com/name/nm0002239\" target=\"_blank\">\n",
              "            <img style=\"width: 100px; display: block; margin-left: auto; margin-right: auto;\" src=\"https://m.media-amazon.com/images/M/MV5BOTMxMjEwNDk2NF5BMl5BanBnXkFtZTcwMDY1MjE2Mw@@._V1_UX214_CR0,0,214,317_AL_.jpg\"/>\n",
              "        </a>\n",
              "    </div>\n",
              "    </div><div style=\"margin-left: 10px; float: left\">\n",
              "    <div style=\"width: 150px; text-align: center\">\n",
              "        <h4 style='margin-top: -5px'>Janet Jackson</h4>\n",
              "        <div style='font-size:75%; margin-bottom: 5px'>nm0001390</div>\n",
              "        <a href=\"https://www.imdb.com/name/nm0001390\" target=\"_blank\">\n",
              "            <img style=\"width: 100px; display: block; margin-left: auto; margin-right: auto;\" src=\"https://m.media-amazon.com/images/M/MV5BNjQxNzQ2NzAyNV5BMl5BanBnXkFtZTcwNTczMTgxNw@@._V1_UX214_CR0,0,214,317_AL_.jpg\"/>\n",
              "        </a>\n",
              "    </div>\n",
              "    </div><div style=\"margin-left: 10px; float: left\">\n",
              "    <div style=\"width: 150px; text-align: center\">\n",
              "        <h4 style='margin-top: -5px'>Peabo Bryson</h4>\n",
              "        <div style='font-size:75%; margin-bottom: 5px'>nm0117469</div>\n",
              "        <a href=\"https://www.imdb.com/name/nm0117469\" target=\"_blank\">\n",
              "            <img style=\"width: 100px; display: block; margin-left: auto; margin-right: auto;\" src=\"https://m.media-amazon.com/images/M/MV5BMTg3MDI2NjMwMF5BMl5BanBnXkFtZTYwMzMwOTY1._V1_UY317_CR3,0,214,317_AL_.jpg\"/>\n",
              "        </a>\n",
              "    </div>\n",
              "    </div><div style=\"margin-left: 10px; float: left\">\n",
              "    <div style=\"width: 150px; text-align: center\">\n",
              "        <h4 style='margin-top: -5px'>Anita Baker</h4>\n",
              "        <div style='font-size:75%; margin-bottom: 5px'>nm1179722</div>\n",
              "        <a href=\"https://www.imdb.com/name/nm1179722\" target=\"_blank\">\n",
              "            <img style=\"width: 100px; display: block; margin-left: auto; margin-right: auto;\" src=\"https://m.media-amazon.com/images/M/MV5BMTY3MjAzMTQ3Ml5BMl5BanBnXkFtZTYwNDU2OTk0._V1_UX214_CR0,0,214,317_AL_.jpg\"/>\n",
              "        </a>\n",
              "    </div>\n",
              "    </div><div style=\"margin-left: 10px; float: left\">\n",
              "    <div style=\"width: 150px; text-align: center\">\n",
              "        <h4 style='margin-top: -5px'>New Kids on the Block</h4>\n",
              "        <div style='font-size:75%; margin-bottom: 5px'>nm1578753</div>\n",
              "        <a href=\"https://www.imdb.com/name/nm1578753\" target=\"_blank\">\n",
              "            <img style=\"width: 100px; display: block; margin-left: auto; margin-right: auto;\" src=\"https://m.media-amazon.com/images/M/MV5BMjE2OTc0ODc1NV5BMl5BanBnXkFtZTcwNDg2NzgwNQ@@._V1_UY317_CR144,0,214,317_AL_.jpg\"/>\n",
              "        </a>\n",
              "    </div>\n",
              "    </div><div style=\"margin-left: 10px; float: left\">\n",
              "    <div style=\"width: 150px; text-align: center\">\n",
              "        <h4 style='margin-top: -5px'>Def Leppard</h4>\n",
              "        <div style='font-size:75%; margin-bottom: 5px'>nm1655043</div>\n",
              "        <a href=\"https://www.imdb.com/name/nm1655043\" target=\"_blank\">\n",
              "            <img style=\"width: 100px; display: block; margin-left: auto; margin-right: auto;\" src=\"https://m.media-amazon.com/images/M/MV5BMTIyOTEzNTEyMl5BMl5BanBnXkFtZTYwOTg5NDQz._V1_UY317_CR135,0,214,317_AL_.jpg\"/>\n",
              "        </a>\n",
              "    </div>\n",
              "    </div><div style=\"margin-left: 10px; float: left\">\n",
              "    <div style=\"width: 150px; text-align: center\">\n",
              "        <h4 style='margin-top: -5px'>Sophie B. Hawkins</h4>\n",
              "        <div style='font-size:75%; margin-bottom: 5px'>nm0005001</div>\n",
              "        <a href=\"https://www.imdb.com/name/nm0005001\" target=\"_blank\">\n",
              "            <img style=\"width: 100px; display: block; margin-left: auto; margin-right: auto;\" src=\"https://m.media-amazon.com/images/M/MV5BMTY2NDIxODcwNl5BMl5BanBnXkFtZTYwMDUxMDU1._V1_UX214_CR0,0,214,317_AL_.jpg\"/>\n",
              "        </a>\n",
              "    </div>\n",
              "    </div><div style=\"margin-left: 10px; float: left\">\n",
              "    <div style=\"width: 150px; text-align: center\">\n",
              "        <h4 style='margin-top: -5px'>Boyz II Men</h4>\n",
              "        <div style='font-size:75%; margin-bottom: 5px'>nm1349841</div>\n",
              "        <a href=\"https://www.imdb.com/name/nm1349841\" target=\"_blank\">\n",
              "            <img style=\"width: 100px; display: block; margin-left: auto; margin-right: auto;\" src=\"https://m.media-amazon.com/images/M/MV5BMTQ5ODEyODkxNV5BMl5BanBnXkFtZTgwNDYyOTM1NTE@._V1_UY317_CR131,0,214,317_AL_.jpg\"/>\n",
              "        </a>\n",
              "    </div>\n",
              "    </div><div style=\"margin-left: 10px; float: left\">\n",
              "    <div style=\"width: 150px; text-align: center\">\n",
              "        <h4 style='margin-top: -5px'>Aerosmith</h4>\n",
              "        <div style='font-size:75%; margin-bottom: 5px'>nm0012613</div>\n",
              "        <a href=\"https://www.imdb.com/name/nm0012613\" target=\"_blank\">\n",
              "            <img style=\"width: 100px; display: block; margin-left: auto; margin-right: auto;\" src=\"https://m.media-amazon.com/images/M/MV5BOTI2ODk2MDYtMTBmMC00NmE5LTkxMGMtOTU4ZmVlZGMwOTdhXkEyXkFqcGdeQXVyMjUyNDk2ODc@._V1_UY317_CR175,0,214,317_AL_.jpg\"/>\n",
              "        </a>\n",
              "    </div>\n",
              "    </div><div style=\"margin-left: 10px; float: left\">\n",
              "    <div style=\"width: 150px; text-align: center\">\n",
              "        <h4 style='margin-top: -5px'>Michael Bolton</h4>\n",
              "        <div style='font-size:75%; margin-bottom: 5px'>nm0093428</div>\n",
              "        <a href=\"https://www.imdb.com/name/nm0093428\" target=\"_blank\">\n",
              "            <img style=\"width: 100px; display: block; margin-left: auto; margin-right: auto;\" src=\"https://m.media-amazon.com/images/M/MV5BMTkwMjg5MDQyN15BMl5BanBnXkFtZTcwODc4NDE5Mw@@._V1_UY317_CR2,0,214,317_AL_.jpg\"/>\n",
              "        </a>\n",
              "    </div>\n",
              "    </div></div>"
            ]
          },
          "metadata": {}
        },
        {
          "output_type": "display_data",
          "data": {
            "text/plain": [
              "<IPython.core.display.HTML object>"
            ],
            "text/html": [
              "\n",
              "    <div style=\"width: 150px; text-align: center\">\n",
              "        <h4 style='margin-top: -5px'>Achyuth Kumar</h4>\n",
              "        <div style='font-size:75%; margin-bottom: 5px'>nm5724719</div>\n",
              "        <a href=\"https://www.imdb.com/name/nm5724719\" target=\"_blank\">\n",
              "            <img style=\"width: 100px; display: block; margin-left: auto; margin-right: auto;\" src=\"https://m.media-amazon.com/images/M/MV5BMjllNzM2YjctZjYxMi00Y2NkLWIyYzQtZmQwN2NlNGQ0NzkyXkEyXkFqcGdeQXVyNzY3MTExNTA@._V1_UY317_CR12,0,214,317_AL_.jpg\"/>\n",
              "        </a>\n",
              "    </div>\n",
              "    "
            ]
          },
          "metadata": {}
        },
        {
          "output_type": "display_data",
          "data": {
            "text/plain": [
              "<IPython.core.display.HTML object>"
            ],
            "text/html": [
              "<div style=\"width: 1800px\"><div style=\"margin-left: 10px; float: left\">\n",
              "    <div style=\"width: 150px; text-align: center\">\n",
              "        <h4 style='margin-top: -5px'>Arjun Janya</h4>\n",
              "        <div style='font-size:75%; margin-bottom: 5px'>nm4507421</div>\n",
              "        <a href=\"https://www.imdb.com/name/nm4507421\" target=\"_blank\">\n",
              "            <img style=\"width: 100px; display: block; margin-left: auto; margin-right: auto;\" src=\"https://m.media-amazon.com/images/M/MV5BYjY3MWViMjAtMzgzYi00MzEwLWIzNmItM2ViOTBjOTRjNDY3XkEyXkFqcGdeQXVyNzY3MTExNTA@._V1_UX214_CR0,0,214,317_AL_.jpg\"/>\n",
              "        </a>\n",
              "    </div>\n",
              "    </div><div style=\"margin-left: 10px; float: left\">\n",
              "    <div style=\"width: 150px; text-align: center\">\n",
              "        <h4 style='margin-top: -5px'>Rangayana Raghu</h4>\n",
              "        <div style='font-size:75%; margin-bottom: 5px'>nm1679254</div>\n",
              "        <a href=\"https://www.imdb.com/name/nm1679254\" target=\"_blank\">\n",
              "            <img style=\"width: 100px; display: block; margin-left: auto; margin-right: auto;\" src=\"https://m.media-amazon.com/images/M/MV5BM2M3MDBkYjYtZThhMC00NDY2LWI3MDctNTY4MTAxMjAwNWY0XkEyXkFqcGdeQXVyNzY3MTExNTA@._V1_UY317_CR12,0,214,317_AL_.jpg\"/>\n",
              "        </a>\n",
              "    </div>\n",
              "    </div><div style=\"margin-left: 10px; float: left\">\n",
              "    <div style=\"width: 150px; text-align: center\">\n",
              "        <h4 style='margin-top: -5px'>Chikkanna</h4>\n",
              "        <div style='font-size:75%; margin-bottom: 5px'>nm6492899</div>\n",
              "        <a href=\"https://www.imdb.com/name/nm6492899\" target=\"_blank\">\n",
              "            <img style=\"width: 100px; display: block; margin-left: auto; margin-right: auto;\" src=\"https://m.media-amazon.com/images/M/MV5BZTM2NzZiMWQtYTY3Yy00YjgyLWJlMjQtMThhZDVmNjk3YjlmXkEyXkFqcGdeQXVyNzY3MTExNTA@._V1_UY317_CR51,0,214,317_AL_.jpg\"/>\n",
              "        </a>\n",
              "    </div>\n",
              "    </div><div style=\"margin-left: 10px; float: left\">\n",
              "    <div style=\"width: 150px; text-align: center\">\n",
              "        <h4 style='margin-top: -5px'>V. Harikrishna</h4>\n",
              "        <div style='font-size:75%; margin-bottom: 5px'>nm3132095</div>\n",
              "        <a href=\"https://www.imdb.com/name/nm3132095\" target=\"_blank\">\n",
              "            <img style=\"width: 100px; display: block; margin-left: auto; margin-right: auto;\" src=\"https://m.media-amazon.com/images/M/MV5BNzVkODc3OGQtZTA0YS00YTU5LTkyMjEtMjFjNWVkZGRmMDczXkEyXkFqcGdeQXVyNzY3MTExNTA@._V1_UY317_CR3,0,214,317_AL_.jpg\"/>\n",
              "        </a>\n",
              "    </div>\n",
              "    </div><div style=\"margin-left: 10px; float: left\">\n",
              "    <div style=\"width: 150px; text-align: center\">\n",
              "        <h4 style='margin-top: -5px'>Jai Jagdeesh</h4>\n",
              "        <div style='font-size:75%; margin-bottom: 5px'>nm2794672</div>\n",
              "        <a href=\"https://www.imdb.com/name/nm2794672\" target=\"_blank\">\n",
              "            <img style=\"width: 100px; display: block; margin-left: auto; margin-right: auto;\" src=\"https://m.media-amazon.com/images/M/MV5BYzQzYzA1NTMtZWYyYS00NmExLTliMTQtZTdkODIyNGUyZTc3XkEyXkFqcGdeQXVyNzY3MTExNTA@._V1_UY317_CR24,0,214,317_AL_.jpg\"/>\n",
              "        </a>\n",
              "    </div>\n",
              "    </div><div style=\"margin-left: 10px; float: left\">\n",
              "    <div style=\"width: 150px; text-align: center\">\n",
              "        <h4 style='margin-top: -5px'>H.G. Dattatreya</h4>\n",
              "        <div style='font-size:75%; margin-bottom: 5px'>nm1227718</div>\n",
              "        <a href=\"https://www.imdb.com/name/nm1227718\" target=\"_blank\">\n",
              "            <img style=\"width: 100px; display: block; margin-left: auto; margin-right: auto;\" src=\"https://m.media-amazon.com/images/M/MV5BZWExMDgxMmQtYjg4NS00NDI1LWE0MGEtMTdmNGQ5NDc5OWQxXkEyXkFqcGdeQXVyNzY3MTExNTA@._V1_UY317_CR12,0,214,317_AL_.jpg\"/>\n",
              "        </a>\n",
              "    </div>\n",
              "    </div><div style=\"margin-left: 10px; float: left\">\n",
              "    <div style=\"width: 150px; text-align: center\">\n",
              "        <h4 style='margin-top: -5px'>Tabla Nani</h4>\n",
              "        <div style='font-size:75%; margin-bottom: 5px'>nm5754203</div>\n",
              "        <a href=\"https://www.imdb.com/name/nm5754203\" target=\"_blank\">\n",
              "            <img style=\"width: 100px; display: block; margin-left: auto; margin-right: auto;\" src=\"https://m.media-amazon.com/images/M/MV5BZThlYjlkYTEtYzIxOS00Y2RiLTkyOGEtOTAyMDg4MzgzOWM3XkEyXkFqcGdeQXVyNzY3MTExNTA@._V1_UY317_CR11,0,214,317_AL_.jpg\"/>\n",
              "        </a>\n",
              "    </div>\n",
              "    </div><div style=\"margin-left: 10px; float: left\">\n",
              "    <div style=\"width: 150px; text-align: center\">\n",
              "        <h4 style='margin-top: -5px'>Avinash</h4>\n",
              "        <div style='font-size:75%; margin-bottom: 5px'>nm0043199</div>\n",
              "        <a href=\"https://www.imdb.com/name/nm0043199\" target=\"_blank\">\n",
              "            <img style=\"width: 100px; display: block; margin-left: auto; margin-right: auto;\" src=\"https://m.media-amazon.com/images/M/MV5BM2JjNzAxOWQtYzc3NC00YzVhLTg3ZWUtZTBkYmE0ZjJhOWFmXkEyXkFqcGdeQXVyNzY3MTExNTA@._V1_UY317_CR4,0,214,317_AL_.jpg\"/>\n",
              "        </a>\n",
              "    </div>\n",
              "    </div><div style=\"margin-left: 10px; float: left\">\n",
              "    <div style=\"width: 150px; text-align: center\">\n",
              "        <h4 style='margin-top: -5px'>Sharath Lohitashwa</h4>\n",
              "        <div style='font-size:75%; margin-bottom: 5px'>nm5701208</div>\n",
              "        <a href=\"https://www.imdb.com/name/nm5701208\" target=\"_blank\">\n",
              "            <img style=\"width: 100px; display: block; margin-left: auto; margin-right: auto;\" src=\"https://m.media-amazon.com/images/M/MV5BNDUzOWU1OTItZTkxMC00Y2U1LWFiNTktM2ZmMjhiMWUzMDYxL2ltYWdlL2ltYWdlXkEyXkFqcGdeQXVyMjYwMDk5NjE@._V1_UY317_CR25,0,214,317_AL_.jpg\"/>\n",
              "        </a>\n",
              "    </div>\n",
              "    </div><div style=\"margin-left: 10px; float: left\">\n",
              "    <div style=\"width: 150px; text-align: center\">\n",
              "        <h4 style='margin-top: -5px'>Shivarajkumar</h4>\n",
              "        <div style='font-size:75%; margin-bottom: 5px'>nm3462447</div>\n",
              "        <a href=\"https://www.imdb.com/name/nm3462447\" target=\"_blank\">\n",
              "            <img style=\"width: 100px; display: block; margin-left: auto; margin-right: auto;\" src=\"https://m.media-amazon.com/images/M/MV5BMDM2ZTE0MzgtOGY0Ny00YjljLWE3MzYtOTUzZDc2NDYyY2EzXkEyXkFqcGdeQXVyNzY3MTExNTA@._V1_UY317_CR6,0,214,317_AL_.jpg\"/>\n",
              "        </a>\n",
              "    </div>\n",
              "    </div></div>"
            ]
          },
          "metadata": {}
        },
        {
          "output_type": "display_data",
          "data": {
            "text/plain": [
              "<IPython.core.display.HTML object>"
            ],
            "text/html": [
              "\n",
              "    <div style=\"width: 150px; text-align: center\">\n",
              "        <h4 style='margin-top: -5px'>Kristine Sutherland</h4>\n",
              "        <div style='font-size:75%; margin-bottom: 5px'>nm0840133</div>\n",
              "        <a href=\"https://www.imdb.com/name/nm0840133\" target=\"_blank\">\n",
              "            <img style=\"width: 100px; display: block; margin-left: auto; margin-right: auto;\" src=\"https://m.media-amazon.com/images/M/MV5BMTMzNDcxMzAwMV5BMl5BanBnXkFtZTcwNzAyODcyNA@@._V1_UY317_CR66,0,214,317_AL_.jpg\"/>\n",
              "        </a>\n",
              "    </div>\n",
              "    "
            ]
          },
          "metadata": {}
        },
        {
          "output_type": "display_data",
          "data": {
            "text/plain": [
              "<IPython.core.display.HTML object>"
            ],
            "text/html": [
              "<div style=\"width: 1800px\"><div style=\"margin-left: 10px; float: left\">\n",
              "    <div style=\"width: 150px; text-align: center\">\n",
              "        <h4 style='margin-top: -5px'>Alan Schechter</h4>\n",
              "        <div style='font-size:75%; margin-bottom: 5px'>nm0770353</div>\n",
              "        <a href=\"https://www.imdb.com/name/nm0770353\" target=\"_blank\">\n",
              "            <img style=\"width: 100px; display: block; margin-left: auto; margin-right: auto;\" src=\"https://m.media-amazon.com/images/G/01/imdb/images/nopicture/medium/name-2135195744._CB466677935_.png\"/>\n",
              "        </a>\n",
              "    </div>\n",
              "    </div><div style=\"margin-left: 10px; float: left\">\n",
              "    <div style=\"width: 150px; text-align: center\">\n",
              "        <h4 style='margin-top: -5px'>Devin Oatway</h4>\n",
              "        <div style='font-size:75%; margin-bottom: 5px'>nm0643121</div>\n",
              "        <a href=\"https://www.imdb.com/name/nm0643121\" target=\"_blank\">\n",
              "            <img style=\"width: 100px; display: block; margin-left: auto; margin-right: auto;\" src=\"https://m.media-amazon.com/images/M/MV5BMTI5MDQ2MDU2M15BMl5BanBnXkFtZTcwNzk2MDEzMQ@@._V1_UY317_CR14,0,214,317_AL_.jpg\"/>\n",
              "        </a>\n",
              "    </div>\n",
              "    </div><div style=\"margin-left: 10px; float: left\">\n",
              "    <div style=\"width: 150px; text-align: center\">\n",
              "        <h4 style='margin-top: -5px'>Susan Chuang</h4>\n",
              "        <div style='font-size:75%; margin-bottom: 5px'>nm0160930</div>\n",
              "        <a href=\"https://www.imdb.com/name/nm0160930\" target=\"_blank\">\n",
              "            <img style=\"width: 100px; display: block; margin-left: auto; margin-right: auto;\" src=\"https://m.media-amazon.com/images/M/MV5BZDE1NzVhZjAtMTRiOC00ZmMwLWI0MGItNTQ0YzI4ZTVhMDlmXkEyXkFqcGdeQXVyMjkxMzYxNDg@._V1_UX214_CR0,0,214,317_AL_.jpg\"/>\n",
              "        </a>\n",
              "    </div>\n",
              "    </div><div style=\"margin-left: 10px; float: left\">\n",
              "    <div style=\"width: 150px; text-align: center\">\n",
              "        <h4 style='margin-top: -5px'>Alexander Janko</h4>\n",
              "        <div style='font-size:75%; margin-bottom: 5px'>nm0417724</div>\n",
              "        <a href=\"https://www.imdb.com/name/nm0417724\" target=\"_blank\">\n",
              "            <img style=\"width: 100px; display: block; margin-left: auto; margin-right: auto;\" src=\"https://m.media-amazon.com/images/M/MV5BMjAxMzY5NDQxMV5BMl5BanBnXkFtZTgwOTg2MTI1NjE@._V1_UY317_CR126,0,214,317_AL_.jpg\"/>\n",
              "        </a>\n",
              "    </div>\n",
              "    </div><div style=\"margin-left: 10px; float: left\">\n",
              "    <div style=\"width: 150px; text-align: center\">\n",
              "        <h4 style='margin-top: -5px'>Aaron Barnes</h4>\n",
              "        <div style='font-size:75%; margin-bottom: 5px'>nm2212372</div>\n",
              "        <a href=\"https://www.imdb.com/name/nm2212372\" target=\"_blank\">\n",
              "            <img style=\"width: 100px; display: block; margin-left: auto; margin-right: auto;\" src=\"https://m.media-amazon.com/images/G/01/imdb/images/nopicture/medium/name-2135195744._CB466677935_.png\"/>\n",
              "        </a>\n",
              "    </div>\n",
              "    </div><div style=\"margin-left: 10px; float: left\">\n",
              "    <div style=\"width: 150px; text-align: center\">\n",
              "        <h4 style='margin-top: -5px'>Matt Roshkow</h4>\n",
              "        <div style='font-size:75%; margin-bottom: 5px'>nm0742935</div>\n",
              "        <a href=\"https://www.imdb.com/name/nm0742935\" target=\"_blank\">\n",
              "            <img style=\"width: 100px; display: block; margin-left: auto; margin-right: auto;\" src=\"https://m.media-amazon.com/images/G/01/imdb/images/nopicture/medium/name-2135195744._CB466677935_.png\"/>\n",
              "        </a>\n",
              "    </div>\n",
              "    </div><div style=\"margin-left: 10px; float: left\">\n",
              "    <div style=\"width: 150px; text-align: center\">\n",
              "        <h4 style='margin-top: -5px'>Gavin Fink</h4>\n",
              "        <div style='font-size:75%; margin-bottom: 5px'>nm0277802</div>\n",
              "        <a href=\"https://www.imdb.com/name/nm0277802\" target=\"_blank\">\n",
              "            <img style=\"width: 100px; display: block; margin-left: auto; margin-right: auto;\" src=\"https://m.media-amazon.com/images/M/MV5BNmFkMjEyODMtYTg3Zi00MjRlLWE5OTAtZDdjZWQ1ZmNkNDdmXkEyXkFqcGdeQXVyMTE0MDE2Mg@@._V1_UX214_CR0,0,214,317_AL_.jpg\"/>\n",
              "        </a>\n",
              "    </div>\n",
              "    </div><div style=\"margin-left: 10px; float: left\">\n",
              "    <div style=\"width: 150px; text-align: center\">\n",
              "        <h4 style='margin-top: -5px'>Wayne Duvall</h4>\n",
              "        <div style='font-size:75%; margin-bottom: 5px'>nm0245145</div>\n",
              "        <a href=\"https://www.imdb.com/name/nm0245145\" target=\"_blank\">\n",
              "            <img style=\"width: 100px; display: block; margin-left: auto; margin-right: auto;\" src=\"https://m.media-amazon.com/images/M/MV5BMmU1NDAzOWMtNjc0OC00MzUxLWIzYWEtMTg0YjcyNTQxMTUwXkEyXkFqcGdeQXVyODA2NjI4MA@@._V1_UY317_CR14,0,214,317_AL_.jpg\"/>\n",
              "        </a>\n",
              "    </div>\n",
              "    </div><div style=\"margin-left: 10px; float: left\">\n",
              "    <div style=\"width: 150px; text-align: center\">\n",
              "        <h4 style='margin-top: -5px'>Tim Maculan</h4>\n",
              "        <div style='font-size:75%; margin-bottom: 5px'>nm0534380</div>\n",
              "        <a href=\"https://www.imdb.com/name/nm0534380\" target=\"_blank\">\n",
              "            <img style=\"width: 100px; display: block; margin-left: auto; margin-right: auto;\" src=\"https://m.media-amazon.com/images/M/MV5BN2EwMzkwNDUtMGY0ZS00MDA2LWE3OWMtODg0YzY1YWI0MDJkXkEyXkFqcGdeQXVyMjQwMDg0Ng@@._V1_UX214_CR0,0,214,317_AL_.jpg\"/>\n",
              "        </a>\n",
              "    </div>\n",
              "    </div><div style=\"margin-left: 10px; float: left\">\n",
              "    <div style=\"width: 150px; text-align: center\">\n",
              "        <h4 style='margin-top: -5px'>T.J. Beacom</h4>\n",
              "        <div style='font-size:75%; margin-bottom: 5px'>nm0063531</div>\n",
              "        <a href=\"https://www.imdb.com/name/nm0063531\" target=\"_blank\">\n",
              "            <img style=\"width: 100px; display: block; margin-left: auto; margin-right: auto;\" src=\"https://m.media-amazon.com/images/G/01/imdb/images/nopicture/medium/name-2135195744._CB466677935_.png\"/>\n",
              "        </a>\n",
              "    </div>\n",
              "    </div></div>"
            ]
          },
          "metadata": {}
        },
        {
          "output_type": "display_data",
          "data": {
            "text/plain": [
              "<IPython.core.display.HTML object>"
            ],
            "text/html": [
              "\n",
              "    <div style=\"width: 150px; text-align: center\">\n",
              "        <h4 style='margin-top: -5px'>Mami Koyama</h4>\n",
              "        <div style='font-size:75%; margin-bottom: 5px'>nm0468708</div>\n",
              "        <a href=\"https://www.imdb.com/name/nm0468708\" target=\"_blank\">\n",
              "            <img style=\"width: 100px; display: block; margin-left: auto; margin-right: auto;\" src=\"https://m.media-amazon.com/images/M/MV5BM2UxMTc1ZGMtMTFjNS00ODJmLThmYTgtYWZiNzkyNWM0YTM0XkEyXkFqcGdeQXVyNDQxNjcxNQ@@._V1_UX214_CR0,0,214,317_AL_.jpg\"/>\n",
              "        </a>\n",
              "    </div>\n",
              "    "
            ]
          },
          "metadata": {}
        },
        {
          "output_type": "display_data",
          "data": {
            "text/plain": [
              "<IPython.core.display.HTML object>"
            ],
            "text/html": [
              "<div style=\"width: 1800px\"><div style=\"margin-left: 10px; float: left\">\n",
              "    <div style=\"width: 150px; text-align: center\">\n",
              "        <h4 style='margin-top: -5px'>Masaaki Fusekawa</h4>\n",
              "        <div style='font-size:75%; margin-bottom: 5px'>nm1040052</div>\n",
              "        <a href=\"https://www.imdb.com/name/nm1040052\" target=\"_blank\">\n",
              "            <img style=\"width: 100px; display: block; margin-left: auto; margin-right: auto;\" src=\"https://m.media-amazon.com/images/G/01/imdb/images/nopicture/medium/name-2135195744._CB466677935_.png\"/>\n",
              "        </a>\n",
              "    </div>\n",
              "    </div><div style=\"margin-left: 10px; float: left\">\n",
              "    <div style=\"width: 150px; text-align: center\">\n",
              "        <h4 style='margin-top: -5px'>Osamu Saka</h4>\n",
              "        <div style='font-size:75%; margin-bottom: 5px'>nm0756964</div>\n",
              "        <a href=\"https://www.imdb.com/name/nm0756964\" target=\"_blank\">\n",
              "            <img style=\"width: 100px; display: block; margin-left: auto; margin-right: auto;\" src=\"https://m.media-amazon.com/images/G/01/imdb/images/nopicture/medium/name-2135195744._CB466677935_.png\"/>\n",
              "        </a>\n",
              "    </div>\n",
              "    </div><div style=\"margin-left: 10px; float: left\">\n",
              "    <div style=\"width: 150px; text-align: center\">\n",
              "        <h4 style='margin-top: -5px'>Hideyuki Hori</h4>\n",
              "        <div style='font-size:75%; margin-bottom: 5px'>nm0394649</div>\n",
              "        <a href=\"https://www.imdb.com/name/nm0394649\" target=\"_blank\">\n",
              "            <img style=\"width: 100px; display: block; margin-left: auto; margin-right: auto;\" src=\"https://m.media-amazon.com/images/G/01/imdb/images/nopicture/medium/name-2135195744._CB466677935_.png\"/>\n",
              "        </a>\n",
              "    </div>\n",
              "    </div><div style=\"margin-left: 10px; float: left\">\n",
              "    <div style=\"width: 150px; text-align: center\">\n",
              "        <h4 style='margin-top: -5px'>Jun Hazumi</h4>\n",
              "        <div style='font-size:75%; margin-bottom: 5px'>nm0368657</div>\n",
              "        <a href=\"https://www.imdb.com/name/nm0368657\" target=\"_blank\">\n",
              "            <img style=\"width: 100px; display: block; margin-left: auto; margin-right: auto;\" src=\"https://m.media-amazon.com/images/G/01/imdb/images/nopicture/medium/name-2135195744._CB466677935_.png\"/>\n",
              "        </a>\n",
              "    </div>\n",
              "    </div><div style=\"margin-left: 10px; float: left\">\n",
              "    <div style=\"width: 150px; text-align: center\">\n",
              "        <h4 style='margin-top: -5px'>Saburô Kamei</h4>\n",
              "        <div style='font-size:75%; margin-bottom: 5px'>nm0436516</div>\n",
              "        <a href=\"https://www.imdb.com/name/nm0436516\" target=\"_blank\">\n",
              "            <img style=\"width: 100px; display: block; margin-left: auto; margin-right: auto;\" src=\"https://m.media-amazon.com/images/G/01/imdb/images/nopicture/medium/name-2135195744._CB466677935_.png\"/>\n",
              "        </a>\n",
              "    </div>\n",
              "    </div><div style=\"margin-left: 10px; float: left\">\n",
              "    <div style=\"width: 150px; text-align: center\">\n",
              "        <h4 style='margin-top: -5px'>Hiroshi Toda</h4>\n",
              "        <div style='font-size:75%; margin-bottom: 5px'>nm1014208</div>\n",
              "        <a href=\"https://www.imdb.com/name/nm1014208\" target=\"_blank\">\n",
              "            <img style=\"width: 100px; display: block; margin-left: auto; margin-right: auto;\" src=\"https://m.media-amazon.com/images/G/01/imdb/images/nopicture/medium/name-2135195744._CB466677935_.png\"/>\n",
              "        </a>\n",
              "    </div>\n",
              "    </div><div style=\"margin-left: 10px; float: left\">\n",
              "    <div style=\"width: 150px; text-align: center\">\n",
              "        <h4 style='margin-top: -5px'>Shigeru Yanagawa</h4>\n",
              "        <div style='font-size:75%; margin-bottom: 5px'>nm0945832</div>\n",
              "        <a href=\"https://www.imdb.com/name/nm0945832\" target=\"_blank\">\n",
              "            <img style=\"width: 100px; display: block; margin-left: auto; margin-right: auto;\" src=\"https://m.media-amazon.com/images/G/01/imdb/images/nopicture/medium/name-2135195744._CB466677935_.png\"/>\n",
              "        </a>\n",
              "    </div>\n",
              "    </div><div style=\"margin-left: 10px; float: left\">\n",
              "    <div style=\"width: 150px; text-align: center\">\n",
              "        <h4 style='margin-top: -5px'>Yûji Endô</h4>\n",
              "        <div style='font-size:75%; margin-bottom: 5px'>nm1081138</div>\n",
              "        <a href=\"https://www.imdb.com/name/nm1081138\" target=\"_blank\">\n",
              "            <img style=\"width: 100px; display: block; margin-left: auto; margin-right: auto;\" src=\"https://m.media-amazon.com/images/G/01/imdb/images/nopicture/medium/name-2135195744._CB466677935_.png\"/>\n",
              "        </a>\n",
              "    </div>\n",
              "    </div><div style=\"margin-left: 10px; float: left\">\n",
              "    <div style=\"width: 150px; text-align: center\">\n",
              "        <h4 style='margin-top: -5px'>Hitoshi Chiaki</h4>\n",
              "        <div style='font-size:75%; margin-bottom: 5px'>nm7710563</div>\n",
              "        <a href=\"https://www.imdb.com/name/nm7710563\" target=\"_blank\">\n",
              "            <img style=\"width: 100px; display: block; margin-left: auto; margin-right: auto;\" src=\"https://m.media-amazon.com/images/G/01/imdb/images/nopicture/medium/name-2135195744._CB466677935_.png\"/>\n",
              "        </a>\n",
              "    </div>\n",
              "    </div><div style=\"margin-left: 10px; float: left\">\n",
              "    <div style=\"width: 150px; text-align: center\">\n",
              "        <h4 style='margin-top: -5px'>Ken'ichi Matsuzaki</h4>\n",
              "        <div style='font-size:75%; margin-bottom: 5px'>nm0559701</div>\n",
              "        <a href=\"https://www.imdb.com/name/nm0559701\" target=\"_blank\">\n",
              "            <img style=\"width: 100px; display: block; margin-left: auto; margin-right: auto;\" src=\"https://m.media-amazon.com/images/G/01/imdb/images/nopicture/medium/name-2135195744._CB466677935_.png\"/>\n",
              "        </a>\n",
              "    </div>\n",
              "    </div></div>"
            ]
          },
          "metadata": {}
        },
        {
          "output_type": "display_data",
          "data": {
            "text/plain": [
              "<IPython.core.display.HTML object>"
            ],
            "text/html": [
              "\n",
              "    <div style=\"width: 150px; text-align: center\">\n",
              "        <h4 style='margin-top: -5px'>Phoebe Cates</h4>\n",
              "        <div style='font-size:75%; margin-bottom: 5px'>nm0000121</div>\n",
              "        <a href=\"https://www.imdb.com/name/nm0000121\" target=\"_blank\">\n",
              "            <img style=\"width: 100px; display: block; margin-left: auto; margin-right: auto;\" src=\"https://m.media-amazon.com/images/M/MV5BMTc4NjA1NDI4NF5BMl5BanBnXkFtZTcwMzIwNjQzMg@@._V1_UX214_CR0,0,214,317_AL_.jpg\"/>\n",
              "        </a>\n",
              "    </div>\n",
              "    "
            ]
          },
          "metadata": {}
        },
        {
          "output_type": "display_data",
          "data": {
            "text/plain": [
              "<IPython.core.display.HTML object>"
            ],
            "text/html": [
              "<div style=\"width: 1800px\"><div style=\"margin-left: 10px; float: left\">\n",
              "    <div style=\"width: 150px; text-align: center\">\n",
              "        <h4 style='margin-top: -5px'>Aaron Russo</h4>\n",
              "        <div style='font-size:75%; margin-bottom: 5px'>nm0751567</div>\n",
              "        <a href=\"https://www.imdb.com/name/nm0751567\" target=\"_blank\">\n",
              "            <img style=\"width: 100px; display: block; margin-left: auto; margin-right: auto;\" src=\"https://m.media-amazon.com/images/M/MV5BMTU1MjczNDI0NV5BMl5BanBnXkFtZTYwNzMzMjUz._V1_UY317_CR16,0,214,317_AL_.jpg\"/>\n",
              "        </a>\n",
              "    </div>\n",
              "    </div><div style=\"margin-left: 10px; float: left\">\n",
              "    <div style=\"width: 150px; text-align: center\">\n",
              "        <h4 style='margin-top: -5px'>William Hjortsberg</h4>\n",
              "        <div style='font-size:75%; margin-bottom: 5px'>nm0387132</div>\n",
              "        <a href=\"https://www.imdb.com/name/nm0387132\" target=\"_blank\">\n",
              "            <img style=\"width: 100px; display: block; margin-left: auto; margin-right: auto;\" src=\"https://m.media-amazon.com/images/G/01/imdb/images/nopicture/medium/name-2135195744._CB466677935_.png\"/>\n",
              "        </a>\n",
              "    </div>\n",
              "    </div><div style=\"margin-left: 10px; float: left\">\n",
              "    <div style=\"width: 150px; text-align: center\">\n",
              "        <h4 style='margin-top: -5px'>Bruce A. Evans</h4>\n",
              "        <div style='font-size:75%; margin-bottom: 5px'>nm0262595</div>\n",
              "        <a href=\"https://www.imdb.com/name/nm0262595\" target=\"_blank\">\n",
              "            <img style=\"width: 100px; display: block; margin-left: auto; margin-right: auto;\" src=\"https://m.media-amazon.com/images/M/MV5BMTIyMTM1MzkwNF5BMl5BanBnXkFtZTYwMDI5NDQz._V1_UX214_CR0,0,214,317_AL_.jpg\"/>\n",
              "        </a>\n",
              "    </div>\n",
              "    </div><div style=\"margin-left: 10px; float: left\">\n",
              "    <div style=\"width: 150px; text-align: center\">\n",
              "        <h4 style='margin-top: -5px'>Alan Heim</h4>\n",
              "        <div style='font-size:75%; margin-bottom: 5px'>nm0374189</div>\n",
              "        <a href=\"https://www.imdb.com/name/nm0374189\" target=\"_blank\">\n",
              "            <img style=\"width: 100px; display: block; margin-left: auto; margin-right: auto;\" src=\"https://m.media-amazon.com/images/M/MV5BMTQxMTYyNTI2N15BMl5BanBnXkFtZTYwNzIwMzYz._V1_UY317_CR15,0,214,317_AL_.jpg\"/>\n",
              "        </a>\n",
              "    </div>\n",
              "    </div><div style=\"margin-left: 10px; float: left\">\n",
              "    <div style=\"width: 150px; text-align: center\">\n",
              "        <h4 style='margin-top: -5px'>Lois Chiles</h4>\n",
              "        <div style='font-size:75%; margin-bottom: 5px'>nm0001042</div>\n",
              "        <a href=\"https://www.imdb.com/name/nm0001042\" target=\"_blank\">\n",
              "            <img style=\"width: 100px; display: block; margin-left: auto; margin-right: auto;\" src=\"https://m.media-amazon.com/images/M/MV5BMTcyMTMyMjczNF5BMl5BanBnXkFtZTcwMjQyMzY0NA@@._V1_UY317_CR4,0,214,317_AL_.jpg\"/>\n",
              "        </a>\n",
              "    </div>\n",
              "    </div><div style=\"margin-left: 10px; float: left\">\n",
              "    <div style=\"width: 150px; text-align: center\">\n",
              "        <h4 style='margin-top: -5px'>Claire Simpson</h4>\n",
              "        <div style='font-size:75%; margin-bottom: 5px'>nm0800943</div>\n",
              "        <a href=\"https://www.imdb.com/name/nm0800943\" target=\"_blank\">\n",
              "            <img style=\"width: 100px; display: block; margin-left: auto; margin-right: auto;\" src=\"https://m.media-amazon.com/images/M/MV5BMzJjYWI4ZjgtZGJkMy00NDVlLWFkOTktZWNjNzAzMTU2MDI4XkEyXkFqcGdeQXVyMTc4MzI2NQ@@._V1_UX214_CR0,0,214,317_AL_.jpg\"/>\n",
              "        </a>\n",
              "    </div>\n",
              "    </div><div style=\"margin-left: 10px; float: left\">\n",
              "    <div style=\"width: 150px; text-align: center\">\n",
              "        <h4 style='margin-top: -5px'>James Carabatsos</h4>\n",
              "        <div style='font-size:75%; margin-bottom: 5px'>nm0135829</div>\n",
              "        <a href=\"https://www.imdb.com/name/nm0135829\" target=\"_blank\">\n",
              "            <img style=\"width: 100px; display: block; margin-left: auto; margin-right: auto;\" src=\"https://m.media-amazon.com/images/G/01/imdb/images/nopicture/medium/name-2135195744._CB466677935_.png\"/>\n",
              "        </a>\n",
              "    </div>\n",
              "    </div><div style=\"margin-left: 10px; float: left\">\n",
              "    <div style=\"width: 150px; text-align: center\">\n",
              "        <h4 style='margin-top: -5px'>Joe Eszterhas</h4>\n",
              "        <div style='font-size:75%; margin-bottom: 5px'>nm0000390</div>\n",
              "        <a href=\"https://www.imdb.com/name/nm0000390\" target=\"_blank\">\n",
              "            <img style=\"width: 100px; display: block; margin-left: auto; margin-right: auto;\" src=\"https://m.media-amazon.com/images/M/MV5BMTA2NjA2NjkzMTBeQTJeQWpwZ15BbWU2MDE3MzY3NA@@._V1_UY317_CR2,0,214,317_AL_.jpg\"/>\n",
              "        </a>\n",
              "    </div>\n",
              "    </div><div style=\"margin-left: 10px; float: left\">\n",
              "    <div style=\"width: 150px; text-align: center\">\n",
              "        <h4 style='margin-top: -5px'>Israel Horovitz</h4>\n",
              "        <div style='font-size:75%; margin-bottom: 5px'>nm0395262</div>\n",
              "        <a href=\"https://www.imdb.com/name/nm0395262\" target=\"_blank\">\n",
              "            <img style=\"width: 100px; display: block; margin-left: auto; margin-right: auto;\" src=\"https://m.media-amazon.com/images/G/01/imdb/images/nopicture/medium/name-2135195744._CB466677935_.png\"/>\n",
              "        </a>\n",
              "    </div>\n",
              "    </div><div style=\"margin-left: 10px; float: left\">\n",
              "    <div style=\"width: 150px; text-align: center\">\n",
              "        <h4 style='margin-top: -5px'>Arlene Sellers</h4>\n",
              "        <div style='font-size:75%; margin-bottom: 5px'>nm0783333</div>\n",
              "        <a href=\"https://www.imdb.com/name/nm0783333\" target=\"_blank\">\n",
              "            <img style=\"width: 100px; display: block; margin-left: auto; margin-right: auto;\" src=\"https://m.media-amazon.com/images/G/01/imdb/images/nopicture/medium/name-2135195744._CB466677935_.png\"/>\n",
              "        </a>\n",
              "    </div>\n",
              "    </div></div>"
            ]
          },
          "metadata": {}
        },
        {
          "output_type": "display_data",
          "data": {
            "text/plain": [
              "<IPython.core.display.HTML object>"
            ],
            "text/html": [
              "\n",
              "    <div style=\"width: 150px; text-align: center\">\n",
              "        <h4 style='margin-top: -5px'>Christopher Daniel Barnes</h4>\n",
              "        <div style='font-size:75%; margin-bottom: 5px'>nm0055549</div>\n",
              "        <a href=\"https://www.imdb.com/name/nm0055549\" target=\"_blank\">\n",
              "            <img style=\"width: 100px; display: block; margin-left: auto; margin-right: auto;\" src=\"https://m.media-amazon.com/images/M/MV5BZTBiZmFkZDUtOWRiOC00ZTk5LWI5ZDctYzMyZDQ5MTMxYjJkXkEyXkFqcGdeQXVyMTEwODg2MDY@._V1_UY317_CR107,0,214,317_AL_.jpg\"/>\n",
              "        </a>\n",
              "    </div>\n",
              "    "
            ]
          },
          "metadata": {}
        },
        {
          "output_type": "display_data",
          "data": {
            "text/plain": [
              "<IPython.core.display.HTML object>"
            ],
            "text/html": [
              "<div style=\"width: 1800px\"><div style=\"margin-left: 10px; float: left\">\n",
              "    <div style=\"width: 150px; text-align: center\">\n",
              "        <h4 style='margin-top: -5px'>Bruce Babcock</h4>\n",
              "        <div style='font-size:75%; margin-bottom: 5px'>nm0003618</div>\n",
              "        <a href=\"https://www.imdb.com/name/nm0003618\" target=\"_blank\">\n",
              "            <img style=\"width: 100px; display: block; margin-left: auto; margin-right: auto;\" src=\"https://m.media-amazon.com/images/M/MV5BNzg4MzE5OTY1OF5BMl5BanBnXkFtZTcwMjg0MDAzMQ@@._V1_UY317_CR35,0,214,317_AL_.jpg\"/>\n",
              "        </a>\n",
              "    </div>\n",
              "    </div><div style=\"margin-left: 10px; float: left\">\n",
              "    <div style=\"width: 150px; text-align: center\">\n",
              "        <h4 style='margin-top: -5px'>Gary Imhoff</h4>\n",
              "        <div style='font-size:75%; margin-bottom: 5px'>nm0408189</div>\n",
              "        <a href=\"https://www.imdb.com/name/nm0408189\" target=\"_blank\">\n",
              "            <img style=\"width: 100px; display: block; margin-left: auto; margin-right: auto;\" src=\"https://m.media-amazon.com/images/M/MV5BMTQxOTkxNjg3OV5BMl5BanBnXkFtZTcwMjQ5MjExOA@@._V1_UX214_CR0,0,214,317_AL_.jpg\"/>\n",
              "        </a>\n",
              "    </div>\n",
              "    </div><div style=\"margin-left: 10px; float: left\">\n",
              "    <div style=\"width: 150px; text-align: center\">\n",
              "        <h4 style='margin-top: -5px'>Todd Hayen</h4>\n",
              "        <div style='font-size:75%; margin-bottom: 5px'>nm0370861</div>\n",
              "        <a href=\"https://www.imdb.com/name/nm0370861\" target=\"_blank\">\n",
              "            <img style=\"width: 100px; display: block; margin-left: auto; margin-right: auto;\" src=\"https://m.media-amazon.com/images/M/MV5BMTQ3NTc3NTE5M15BMl5BanBnXkFtZTcwNTkzMjUzNA@@._V1_UY317_CR19,0,214,317_AL_.jpg\"/>\n",
              "        </a>\n",
              "    </div>\n",
              "    </div><div style=\"margin-left: 10px; float: left\">\n",
              "    <div style=\"width: 150px; text-align: center\">\n",
              "        <h4 style='margin-top: -5px'>Edward Winter</h4>\n",
              "        <div style='font-size:75%; margin-bottom: 5px'>nm0935719</div>\n",
              "        <a href=\"https://www.imdb.com/name/nm0935719\" target=\"_blank\">\n",
              "            <img style=\"width: 100px; display: block; margin-left: auto; margin-right: auto;\" src=\"https://m.media-amazon.com/images/M/MV5BMjMwMTkxMTQyM15BMl5BanBnXkFtZTgwMTYwMTY1MjE@._V1_UY317_CR104,0,214,317_AL_.jpg\"/>\n",
              "        </a>\n",
              "    </div>\n",
              "    </div><div style=\"margin-left: 10px; float: left\">\n",
              "    <div style=\"width: 150px; text-align: center\">\n",
              "        <h4 style='margin-top: -5px'>Ron Grant</h4>\n",
              "        <div style='font-size:75%; margin-bottom: 5px'>nm0335629</div>\n",
              "        <a href=\"https://www.imdb.com/name/nm0335629\" target=\"_blank\">\n",
              "            <img style=\"width: 100px; display: block; margin-left: auto; margin-right: auto;\" src=\"https://m.media-amazon.com/images/G/01/imdb/images/nopicture/medium/name-2135195744._CB466677935_.png\"/>\n",
              "        </a>\n",
              "    </div>\n",
              "    </div><div style=\"margin-left: 10px; float: left\">\n",
              "    <div style=\"width: 150px; text-align: center\">\n",
              "        <h4 style='margin-top: -5px'>Greg Schorer</h4>\n",
              "        <div style='font-size:75%; margin-bottom: 5px'>nm0774868</div>\n",
              "        <a href=\"https://www.imdb.com/name/nm0774868\" target=\"_blank\">\n",
              "            <img style=\"width: 100px; display: block; margin-left: auto; margin-right: auto;\" src=\"https://m.media-amazon.com/images/G/01/imdb/images/nopicture/medium/name-2135195744._CB466677935_.png\"/>\n",
              "        </a>\n",
              "    </div>\n",
              "    </div><div style=\"margin-left: 10px; float: left\">\n",
              "    <div style=\"width: 150px; text-align: center\">\n",
              "        <h4 style='margin-top: -5px'>Dorian Harewood</h4>\n",
              "        <div style='font-size:75%; margin-bottom: 5px'>nm0002126</div>\n",
              "        <a href=\"https://www.imdb.com/name/nm0002126\" target=\"_blank\">\n",
              "            <img style=\"width: 100px; display: block; margin-left: auto; margin-right: auto;\" src=\"https://m.media-amazon.com/images/M/MV5BMjI2MjQzNzcxNV5BMl5BanBnXkFtZTcwMTU1NDg5Nw@@._V1_UY317_CR3,0,214,317_AL_.jpg\"/>\n",
              "        </a>\n",
              "    </div>\n",
              "    </div><div style=\"margin-left: 10px; float: left\">\n",
              "    <div style=\"width: 150px; text-align: center\">\n",
              "        <h4 style='margin-top: -5px'>Stephen Cohn</h4>\n",
              "        <div style='font-size:75%; margin-bottom: 5px'>nm0169952</div>\n",
              "        <a href=\"https://www.imdb.com/name/nm0169952\" target=\"_blank\">\n",
              "            <img style=\"width: 100px; display: block; margin-left: auto; margin-right: auto;\" src=\"https://m.media-amazon.com/images/G/01/imdb/images/nopicture/medium/name-2135195744._CB466677935_.png\"/>\n",
              "        </a>\n",
              "    </div>\n",
              "    </div><div style=\"margin-left: 10px; float: left\">\n",
              "    <div style=\"width: 150px; text-align: center\">\n",
              "        <h4 style='margin-top: -5px'>Candy Ann Brown</h4>\n",
              "        <div style='font-size:75%; margin-bottom: 5px'>nm0113194</div>\n",
              "        <a href=\"https://www.imdb.com/name/nm0113194\" target=\"_blank\">\n",
              "            <img style=\"width: 100px; display: block; margin-left: auto; margin-right: auto;\" src=\"https://m.media-amazon.com/images/M/MV5BMTQxODgzNzY3MF5BMl5BanBnXkFtZTcwNTc4NjcyMQ@@._V1_UY317_CR21,0,214,317_AL_.jpg\"/>\n",
              "        </a>\n",
              "    </div>\n",
              "    </div><div style=\"margin-left: 10px; float: left\">\n",
              "    <div style=\"width: 150px; text-align: center\">\n",
              "        <h4 style='margin-top: -5px'>Chick Vennera</h4>\n",
              "        <div style='font-size:75%; margin-bottom: 5px'>nm0893181</div>\n",
              "        <a href=\"https://www.imdb.com/name/nm0893181\" target=\"_blank\">\n",
              "            <img style=\"width: 100px; display: block; margin-left: auto; margin-right: auto;\" src=\"https://m.media-amazon.com/images/M/MV5BZWVkNjY1OWMtYjM0OS00YzI3LWJiZjQtMGY3NTYzMDUwMmFhXkEyXkFqcGdeQXVyMjQwMDg0Ng@@._V1_UX214_CR0,0,214,317_AL_.jpg\"/>\n",
              "        </a>\n",
              "    </div>\n",
              "    </div></div>"
            ]
          },
          "metadata": {}
        },
        {
          "output_type": "display_data",
          "data": {
            "text/plain": [
              "<IPython.core.display.HTML object>"
            ],
            "text/html": [
              "\n",
              "    <div style=\"width: 150px; text-align: center\">\n",
              "        <h4 style='margin-top: -5px'>Heather Graham</h4>\n",
              "        <div style='font-size:75%; margin-bottom: 5px'>nm0001287</div>\n",
              "        <a href=\"https://www.imdb.com/name/nm0001287\" target=\"_blank\">\n",
              "            <img style=\"width: 100px; display: block; margin-left: auto; margin-right: auto;\" src=\"https://m.media-amazon.com/images/M/MV5BMjAwMzk5MTM4NV5BMl5BanBnXkFtZTcwNTMxOTkwNA@@._V1_UY317_CR6,0,214,317_AL_.jpg\"/>\n",
              "        </a>\n",
              "    </div>\n",
              "    "
            ]
          },
          "metadata": {}
        },
        {
          "output_type": "display_data",
          "data": {
            "text/plain": [
              "<IPython.core.display.HTML object>"
            ],
            "text/html": [
              "<div style=\"width: 1800px\"><div style=\"margin-left: 10px; float: left\">\n",
              "    <div style=\"width: 150px; text-align: center\">\n",
              "        <h4 style='margin-top: -5px'>Mark Canton</h4>\n",
              "        <div style='font-size:75%; margin-bottom: 5px'>nm0004799</div>\n",
              "        <a href=\"https://www.imdb.com/name/nm0004799\" target=\"_blank\">\n",
              "            <img style=\"width: 100px; display: block; margin-left: auto; margin-right: auto;\" src=\"https://m.media-amazon.com/images/M/MV5BMTI5ODIwNTgyOV5BMl5BanBnXkFtZTYwMTA0MTcy._V1_UX214_CR0,0,214,317_AL_.jpg\"/>\n",
              "        </a>\n",
              "    </div>\n",
              "    </div><div style=\"margin-left: 10px; float: left\">\n",
              "    <div style=\"width: 150px; text-align: center\">\n",
              "        <h4 style='margin-top: -5px'>Allan Loeb</h4>\n",
              "        <div style='font-size:75%; margin-bottom: 5px'>nm1615610</div>\n",
              "        <a href=\"https://www.imdb.com/name/nm1615610\" target=\"_blank\">\n",
              "            <img style=\"width: 100px; display: block; margin-left: auto; margin-right: auto;\" src=\"https://m.media-amazon.com/images/M/MV5BNjE5OTQzNjY2M15BMl5BanBnXkFtZTgwOTMxMTM2MjI@._V1_UY317_CR12,0,214,317_AL_.jpg\"/>\n",
              "        </a>\n",
              "    </div>\n",
              "    </div><div style=\"margin-left: 10px; float: left\">\n",
              "    <div style=\"width: 150px; text-align: center\">\n",
              "        <h4 style='margin-top: -5px'>Mark Vahradian</h4>\n",
              "        <div style='font-size:75%; margin-bottom: 5px'>nm1680607</div>\n",
              "        <a href=\"https://www.imdb.com/name/nm1680607\" target=\"_blank\">\n",
              "            <img style=\"width: 100px; display: block; margin-left: auto; margin-right: auto;\" src=\"https://m.media-amazon.com/images/G/01/imdb/images/nopicture/medium/name-2135195744._CB466677935_.png\"/>\n",
              "        </a>\n",
              "    </div>\n",
              "    </div><div style=\"margin-left: 10px; float: left\">\n",
              "    <div style=\"width: 150px; text-align: center\">\n",
              "        <h4 style='margin-top: -5px'>Julie Yorn</h4>\n",
              "        <div style='font-size:75%; margin-bottom: 5px'>nm0798930</div>\n",
              "        <a href=\"https://www.imdb.com/name/nm0798930\" target=\"_blank\">\n",
              "            <img style=\"width: 100px; display: block; margin-left: auto; margin-right: auto;\" src=\"https://m.media-amazon.com/images/M/MV5BNzFlMDI5M2QtNjBhNy00OTUwLWE5NjYtYmRiMmU3YjY0Yjg2L2ltYWdlXkEyXkFqcGdeQXVyNDkzNTM2ODg@._V1_UX214_CR0,0,214,317_AL_.jpg\"/>\n",
              "        </a>\n",
              "    </div>\n",
              "    </div><div style=\"margin-left: 10px; float: left\">\n",
              "    <div style=\"width: 150px; text-align: center\">\n",
              "        <h4 style='margin-top: -5px'>Ric Roman Waugh</h4>\n",
              "        <div style='font-size:75%; margin-bottom: 5px'>nm0006846</div>\n",
              "        <a href=\"https://www.imdb.com/name/nm0006846\" target=\"_blank\">\n",
              "            <img style=\"width: 100px; display: block; margin-left: auto; margin-right: auto;\" src=\"https://m.media-amazon.com/images/M/MV5BMTc3M2E0NjYtYzljOS00ZTBmLTgzMjQtZTMyMGM5YTUyNzNmXkEyXkFqcGdeQXVyMzE5ODM4Ng@@._V1_UY317_CR37,0,214,317_AL_.jpg\"/>\n",
              "        </a>\n",
              "    </div>\n",
              "    </div><div style=\"margin-left: 10px; float: left\">\n",
              "    <div style=\"width: 150px; text-align: center\">\n",
              "        <h4 style='margin-top: -5px'>Audrey Wells</h4>\n",
              "        <div style='font-size:75%; margin-bottom: 5px'>nm0920108</div>\n",
              "        <a href=\"https://www.imdb.com/name/nm0920108\" target=\"_blank\">\n",
              "            <img style=\"width: 100px; display: block; margin-left: auto; margin-right: auto;\" src=\"https://m.media-amazon.com/images/M/MV5BMTIzNjMxNDkzNl5BMl5BanBnXkFtZTYwMjU3ODA1._V1_UY317_CR13,0,214,317_AL_.jpg\"/>\n",
              "        </a>\n",
              "    </div>\n",
              "    </div><div style=\"margin-left: 10px; float: left\">\n",
              "    <div style=\"width: 150px; text-align: center\">\n",
              "        <h4 style='margin-top: -5px'>Jules Daly</h4>\n",
              "        <div style='font-size:75%; margin-bottom: 5px'>nm0198467</div>\n",
              "        <a href=\"https://www.imdb.com/name/nm0198467\" target=\"_blank\">\n",
              "            <img style=\"width: 100px; display: block; margin-left: auto; margin-right: auto;\" src=\"https://m.media-amazon.com/images/G/01/imdb/images/nopicture/medium/name-2135195744._CB466677935_.png\"/>\n",
              "        </a>\n",
              "    </div>\n",
              "    </div><div style=\"margin-left: 10px; float: left\">\n",
              "    <div style=\"width: 150px; text-align: center\">\n",
              "        <h4 style='margin-top: -5px'>Matthew Aldrich</h4>\n",
              "        <div style='font-size:75%; margin-bottom: 5px'>nm0017690</div>\n",
              "        <a href=\"https://www.imdb.com/name/nm0017690\" target=\"_blank\">\n",
              "            <img style=\"width: 100px; display: block; margin-left: auto; margin-right: auto;\" src=\"https://m.media-amazon.com/images/G/01/imdb/images/nopicture/medium/name-2135195744._CB466677935_.png\"/>\n",
              "        </a>\n",
              "    </div>\n",
              "    </div><div style=\"margin-left: 10px; float: left\">\n",
              "    <div style=\"width: 150px; text-align: center\">\n",
              "        <h4 style='margin-top: -5px'>Emile Hirsch</h4>\n",
              "        <div style='font-size:75%; margin-bottom: 5px'>nm0386472</div>\n",
              "        <a href=\"https://www.imdb.com/name/nm0386472\" target=\"_blank\">\n",
              "            <img style=\"width: 100px; display: block; margin-left: auto; margin-right: auto;\" src=\"https://m.media-amazon.com/images/M/MV5BZjM4OTg0NTMtN2NmNS00ZGVjLWFmNWEtZDZiY2Y1ZDFjYWYzXkEyXkFqcGdeQXVyNjk1MjYyNTA@._V1_UY317_CR16,0,214,317_AL_.jpg\"/>\n",
              "        </a>\n",
              "    </div>\n",
              "    </div><div style=\"margin-left: 10px; float: left\">\n",
              "    <div style=\"width: 150px; text-align: center\">\n",
              "        <h4 style='margin-top: -5px'>Albert Hughes</h4>\n",
              "        <div style='font-size:75%; margin-bottom: 5px'>nm0400436</div>\n",
              "        <a href=\"https://www.imdb.com/name/nm0400436\" target=\"_blank\">\n",
              "            <img style=\"width: 100px; display: block; margin-left: auto; margin-right: auto;\" src=\"https://m.media-amazon.com/images/M/MV5BOTk4OTI4OTA0Nl5BMl5BanBnXkFtZTgwNDU1NTE4NjE@._V1_UX214_CR0,0,214,317_AL_.jpg\"/>\n",
              "        </a>\n",
              "    </div>\n",
              "    </div></div>"
            ]
          },
          "metadata": {}
        },
        {
          "output_type": "display_data",
          "data": {
            "text/plain": [
              "<IPython.core.display.HTML object>"
            ],
            "text/html": [
              "\n",
              "    <div style=\"width: 150px; text-align: center\">\n",
              "        <h4 style='margin-top: -5px'>Geena Davis</h4>\n",
              "        <div style='font-size:75%; margin-bottom: 5px'>nm0000133</div>\n",
              "        <a href=\"https://www.imdb.com/name/nm0000133\" target=\"_blank\">\n",
              "            <img style=\"width: 100px; display: block; margin-left: auto; margin-right: auto;\" src=\"https://m.media-amazon.com/images/M/MV5BOWU5MGMzMWYtYWQ1Ny00Njk0LTg3NTctZDgxOGUyNDhjNDJhXkEyXkFqcGdeQXVyMDM2NDM2MQ@@._V1_UX214_CR0,0,214,317_AL_.jpg\"/>\n",
              "        </a>\n",
              "    </div>\n",
              "    "
            ]
          },
          "metadata": {}
        },
        {
          "output_type": "display_data",
          "data": {
            "text/plain": [
              "<IPython.core.display.HTML object>"
            ],
            "text/html": [
              "<div style=\"width: 1800px\"><div style=\"margin-left: 10px; float: left\">\n",
              "    <div style=\"width: 150px; text-align: center\">\n",
              "        <h4 style='margin-top: -5px'>Phil Joanou</h4>\n",
              "        <div style='font-size:75%; margin-bottom: 5px'>nm0423333</div>\n",
              "        <a href=\"https://www.imdb.com/name/nm0423333\" target=\"_blank\">\n",
              "            <img style=\"width: 100px; display: block; margin-left: auto; margin-right: auto;\" src=\"https://m.media-amazon.com/images/M/MV5BMTU0MDA1NDUxMl5BMl5BanBnXkFtZTgwOTAxMzg5ODE@._V1_UY317_CR6,0,214,317_AL_.jpg\"/>\n",
              "        </a>\n",
              "    </div>\n",
              "    </div><div style=\"margin-left: 10px; float: left\">\n",
              "    <div style=\"width: 150px; text-align: center\">\n",
              "        <h4 style='margin-top: -5px'>Carol Baum</h4>\n",
              "        <div style='font-size:75%; margin-bottom: 5px'>nm0062071</div>\n",
              "        <a href=\"https://www.imdb.com/name/nm0062071\" target=\"_blank\">\n",
              "            <img style=\"width: 100px; display: block; margin-left: auto; margin-right: auto;\" src=\"https://m.media-amazon.com/images/G/01/imdb/images/nopicture/medium/name-2135195744._CB466677935_.png\"/>\n",
              "        </a>\n",
              "    </div>\n",
              "    </div><div style=\"margin-left: 10px; float: left\">\n",
              "    <div style=\"width: 150px; text-align: center\">\n",
              "        <h4 style='margin-top: -5px'>Gary Foster</h4>\n",
              "        <div style='font-size:75%; margin-bottom: 5px'>nm0287811</div>\n",
              "        <a href=\"https://www.imdb.com/name/nm0287811\" target=\"_blank\">\n",
              "            <img style=\"width: 100px; display: block; margin-left: auto; margin-right: auto;\" src=\"https://m.media-amazon.com/images/M/MV5BMjMyNTk5NzAwMV5BMl5BanBnXkFtZTgwNjY0NjczOTE@._V1_UY317_CR130,0,214,317_AL_.jpg\"/>\n",
              "        </a>\n",
              "    </div>\n",
              "    </div><div style=\"margin-left: 10px; float: left\">\n",
              "    <div style=\"width: 150px; text-align: center\">\n",
              "        <h4 style='margin-top: -5px'>Caldecot Chubb</h4>\n",
              "        <div style='font-size:75%; margin-bottom: 5px'>nm0160941</div>\n",
              "        <a href=\"https://www.imdb.com/name/nm0160941\" target=\"_blank\">\n",
              "            <img style=\"width: 100px; display: block; margin-left: auto; margin-right: auto;\" src=\"https://m.media-amazon.com/images/M/MV5BMTg2MzcyODc4OF5BMl5BanBnXkFtZTgwMDkwMDEzMDE@._V1_UY317_CR33,0,214,317_AL_.jpg\"/>\n",
              "        </a>\n",
              "    </div>\n",
              "    </div><div style=\"margin-left: 10px; float: left\">\n",
              "    <div style=\"width: 150px; text-align: center\">\n",
              "        <h4 style='margin-top: -5px'>Roderick Thorp</h4>\n",
              "        <div style='font-size:75%; margin-bottom: 5px'>nm0861636</div>\n",
              "        <a href=\"https://www.imdb.com/name/nm0861636\" target=\"_blank\">\n",
              "            <img style=\"width: 100px; display: block; margin-left: auto; margin-right: auto;\" src=\"https://m.media-amazon.com/images/M/MV5BYzJmMDYxYTEtZjIxOC00NTkyLTkwNDQtZDIwYjY3ODlmNWNhXkEyXkFqcGdeQXVyNjUxMjc1OTM@._V1_UY317_CR4,0,214,317_AL_.jpg\"/>\n",
              "        </a>\n",
              "    </div>\n",
              "    </div><div style=\"margin-left: 10px; float: left\">\n",
              "    <div style=\"width: 150px; text-align: center\">\n",
              "        <h4 style='margin-top: -5px'>Hawk Koch</h4>\n",
              "        <div style='font-size:75%; margin-bottom: 5px'>nm0462242</div>\n",
              "        <a href=\"https://www.imdb.com/name/nm0462242\" target=\"_blank\">\n",
              "            <img style=\"width: 100px; display: block; margin-left: auto; margin-right: auto;\" src=\"https://m.media-amazon.com/images/M/MV5BMTk0MTczODM2MV5BMl5BanBnXkFtZTcwOTI0MDYwOQ@@._V1_UY317_CR3,0,214,317_AL_.jpg\"/>\n",
              "        </a>\n",
              "    </div>\n",
              "    </div><div style=\"margin-left: 10px; float: left\">\n",
              "    <div style=\"width: 150px; text-align: center\">\n",
              "        <h4 style='margin-top: -5px'>Kevin McCormick</h4>\n",
              "        <div style='font-size:75%; margin-bottom: 5px'>nm0566557</div>\n",
              "        <a href=\"https://www.imdb.com/name/nm0566557\" target=\"_blank\">\n",
              "            <img style=\"width: 100px; display: block; margin-left: auto; margin-right: auto;\" src=\"https://m.media-amazon.com/images/M/MV5BMTc3NDIyNjQzNl5BMl5BanBnXkFtZTcwMzY0MTM5OA@@._V1_UY317_CR5,0,214,317_AL_.jpg\"/>\n",
              "        </a>\n",
              "    </div>\n",
              "    </div><div style=\"margin-left: 10px; float: left\">\n",
              "    <div style=\"width: 150px; text-align: center\">\n",
              "        <h4 style='margin-top: -5px'>Wendy Greene Bricmont</h4>\n",
              "        <div style='font-size:75%; margin-bottom: 5px'>nm0108629</div>\n",
              "        <a href=\"https://www.imdb.com/name/nm0108629\" target=\"_blank\">\n",
              "            <img style=\"width: 100px; display: block; margin-left: auto; margin-right: auto;\" src=\"https://m.media-amazon.com/images/M/MV5BMTAzZjE5ZWItNDhlMi00Mzk1LWI5MTAtYmZlOWQ1ODFlNjg0XkEyXkFqcGdeQXVyMDU2NzYwNg@@._V1_UY317_CR106,0,214,317_AL_.jpg\"/>\n",
              "        </a>\n",
              "    </div>\n",
              "    </div><div style=\"margin-left: 10px; float: left\">\n",
              "    <div style=\"width: 150px; text-align: center\">\n",
              "        <h4 style='margin-top: -5px'>Wes Rubinstein</h4>\n",
              "        <div style='font-size:75%; margin-bottom: 5px'>nm0748288</div>\n",
              "        <a href=\"https://www.imdb.com/name/nm0748288\" target=\"_blank\">\n",
              "            <img style=\"width: 100px; display: block; margin-left: auto; margin-right: auto;\" src=\"https://m.media-amazon.com/images/G/01/imdb/images/nopicture/medium/name-2135195744._CB466677935_.png\"/>\n",
              "        </a>\n",
              "    </div>\n",
              "    </div><div style=\"margin-left: 10px; float: left\">\n",
              "    <div style=\"width: 150px; text-align: center\">\n",
              "        <h4 style='margin-top: -5px'>Andrew S. Karsch</h4>\n",
              "        <div style='font-size:75%; margin-bottom: 5px'>nm0440140</div>\n",
              "        <a href=\"https://www.imdb.com/name/nm0440140\" target=\"_blank\">\n",
              "            <img style=\"width: 100px; display: block; margin-left: auto; margin-right: auto;\" src=\"https://m.media-amazon.com/images/G/01/imdb/images/nopicture/medium/name-2135195744._CB466677935_.png\"/>\n",
              "        </a>\n",
              "    </div>\n",
              "    </div></div>"
            ]
          },
          "metadata": {}
        },
        {
          "output_type": "display_data",
          "data": {
            "text/plain": [
              "<IPython.core.display.HTML object>"
            ],
            "text/html": [
              "\n",
              "    <div style=\"width: 150px; text-align: center\">\n",
              "        <h4 style='margin-top: -5px'>Tian Jing</h4>\n",
              "        <div style='font-size:75%; margin-bottom: 5px'>nm1320897</div>\n",
              "        <a href=\"https://www.imdb.com/name/nm1320897\" target=\"_blank\">\n",
              "            <img style=\"width: 100px; display: block; margin-left: auto; margin-right: auto;\" src=\"https://m.media-amazon.com/images/M/MV5BMTc1MDMzMjg1OV5BMl5BanBnXkFtZTgwODcxMzM0MzE@._V1_UX214_CR0,0,214,317_AL_.jpg\"/>\n",
              "        </a>\n",
              "    </div>\n",
              "    "
            ]
          },
          "metadata": {}
        },
        {
          "output_type": "display_data",
          "data": {
            "text/plain": [
              "<IPython.core.display.HTML object>"
            ],
            "text/html": [
              "<div style=\"width: 1800px\"><div style=\"margin-left: 10px; float: left\">\n",
              "    <div style=\"width: 150px; text-align: center\">\n",
              "        <h4 style='margin-top: -5px'>Zhong Lu</h4>\n",
              "        <div style='font-size:75%; margin-bottom: 5px'>nm0523784</div>\n",
              "        <a href=\"https://www.imdb.com/name/nm0523784\" target=\"_blank\">\n",
              "            <img style=\"width: 100px; display: block; margin-left: auto; margin-right: auto;\" src=\"https://m.media-amazon.com/images/M/MV5BOTc2ZGJjMzktYmZmNi00N2RhLTk4OGEtNzRiY2Y3YWY1NDU5XkEyXkFqcGdeQXVyMjg0MTI5NzQ@._V1_UY317_CR7,0,214,317_AL_.jpg\"/>\n",
              "        </a>\n",
              "    </div>\n",
              "    </div><div style=\"margin-left: 10px; float: left\">\n",
              "    <div style=\"width: 150px; text-align: center\">\n",
              "        <h4 style='margin-top: -5px'>Xiaoli Fang</h4>\n",
              "        <div style='font-size:75%; margin-bottom: 5px'>nm6840621</div>\n",
              "        <a href=\"https://www.imdb.com/name/nm6840621\" target=\"_blank\">\n",
              "            <img style=\"width: 100px; display: block; margin-left: auto; margin-right: auto;\" src=\"https://m.media-amazon.com/images/M/MV5BZWQ2Zjc3ZWQtOTU3Yy00ZTAxLWE1M2UtOGE0NDY1MmM4OGQwXkEyXkFqcGdeQXVyMjg0MTI5NzQ@._V1_UX214_CR0,0,214,317_AL_.jpg\"/>\n",
              "        </a>\n",
              "    </div>\n",
              "    </div><div style=\"margin-left: 10px; float: left\">\n",
              "    <div style=\"width: 150px; text-align: center\">\n",
              "        <h4 style='margin-top: -5px'>Daisy Li</h4>\n",
              "        <div style='font-size:75%; margin-bottom: 5px'>nm9340841</div>\n",
              "        <a href=\"https://www.imdb.com/name/nm9340841\" target=\"_blank\">\n",
              "            <img style=\"width: 100px; display: block; margin-left: auto; margin-right: auto;\" src=\"https://m.media-amazon.com/images/G/01/imdb/images/nopicture/medium/name-2135195744._CB466677935_.png\"/>\n",
              "        </a>\n",
              "    </div>\n",
              "    </div><div style=\"margin-left: 10px; float: left\">\n",
              "    <div style=\"width: 150px; text-align: center\">\n",
              "        <h4 style='margin-top: -5px'>Jialun Ren</h4>\n",
              "        <div style='font-size:75%; margin-bottom: 5px'>nm8784654</div>\n",
              "        <a href=\"https://www.imdb.com/name/nm8784654\" target=\"_blank\">\n",
              "            <img style=\"width: 100px; display: block; margin-left: auto; margin-right: auto;\" src=\"https://m.media-amazon.com/images/M/MV5BNjc5ZjI4NDUtZjQ0ZC00NGE4LWFkYTAtYTJmMTUzMjU4MzdkXkEyXkFqcGdeQXVyMjg0MTI5NzQ@._V1_UX214_CR0,0,214,317_AL_.jpg\"/>\n",
              "        </a>\n",
              "    </div>\n",
              "    </div><div style=\"margin-left: 10px; float: left\">\n",
              "    <div style=\"width: 150px; text-align: center\">\n",
              "        <h4 style='margin-top: -5px'>Yu Xia</h4>\n",
              "        <div style='font-size:75%; margin-bottom: 5px'>nm0944464</div>\n",
              "        <a href=\"https://www.imdb.com/name/nm0944464\" target=\"_blank\">\n",
              "            <img style=\"width: 100px; display: block; margin-left: auto; margin-right: auto;\" src=\"https://m.media-amazon.com/images/M/MV5BYTdlZDIxZmMtNDQ1NC00YjY0LTk5MjAtMzY1NzVlZWRmMGE3XkEyXkFqcGdeQXVyMTc4MzI2NQ@@._V1_UY317_CR104,0,214,317_AL_.jpg\"/>\n",
              "        </a>\n",
              "    </div>\n",
              "    </div><div style=\"margin-left: 10px; float: left\">\n",
              "    <div style=\"width: 150px; text-align: center\">\n",
              "        <h4 style='margin-top: -5px'>Feng Shao</h4>\n",
              "        <div style='font-size:75%; margin-bottom: 5px'>nm6875566</div>\n",
              "        <a href=\"https://www.imdb.com/name/nm6875566\" target=\"_blank\">\n",
              "            <img style=\"width: 100px; display: block; margin-left: auto; margin-right: auto;\" src=\"https://m.media-amazon.com/images/G/01/imdb/images/nopicture/medium/name-2135195744._CB466677935_.png\"/>\n",
              "        </a>\n",
              "    </div>\n",
              "    </div><div style=\"margin-left: 10px; float: left\">\n",
              "    <div style=\"width: 150px; text-align: center\">\n",
              "        <h4 style='margin-top: -5px'>Zehao Jin</h4>\n",
              "        <div style='font-size:75%; margin-bottom: 5px'>nm7535849</div>\n",
              "        <a href=\"https://www.imdb.com/name/nm7535849\" target=\"_blank\">\n",
              "            <img style=\"width: 100px; display: block; margin-left: auto; margin-right: auto;\" src=\"https://m.media-amazon.com/images/M/MV5BYzgzNzM4OWYtNmNhZS00ODlkLTk1OTEtZmM1MzRlMjA2MGNiXkEyXkFqcGdeQXVyMjg0MTI5NzQ@._V1_UY317_CR21,0,214,317_AL_.jpg\"/>\n",
              "        </a>\n",
              "    </div>\n",
              "    </div><div style=\"margin-left: 10px; float: left\">\n",
              "    <div style=\"width: 150px; text-align: center\">\n",
              "        <h4 style='margin-top: -5px'>Leon Lee</h4>\n",
              "        <div style='font-size:75%; margin-bottom: 5px'>nm6092181</div>\n",
              "        <a href=\"https://www.imdb.com/name/nm6092181\" target=\"_blank\">\n",
              "            <img style=\"width: 100px; display: block; margin-left: auto; margin-right: auto;\" src=\"https://m.media-amazon.com/images/G/01/imdb/images/nopicture/medium/name-2135195744._CB466677935_.png\"/>\n",
              "        </a>\n",
              "    </div>\n",
              "    </div><div style=\"margin-left: 10px; float: left\">\n",
              "    <div style=\"width: 150px; text-align: center\">\n",
              "        <h4 style='margin-top: -5px'>Junyu Wu</h4>\n",
              "        <div style='font-size:75%; margin-bottom: 5px'>nm5888152</div>\n",
              "        <a href=\"https://www.imdb.com/name/nm5888152\" target=\"_blank\">\n",
              "            <img style=\"width: 100px; display: block; margin-left: auto; margin-right: auto;\" src=\"https://m.media-amazon.com/images/G/01/imdb/images/nopicture/medium/name-2135195744._CB466677935_.png\"/>\n",
              "        </a>\n",
              "    </div>\n",
              "    </div><div style=\"margin-left: 10px; float: left\">\n",
              "    <div style=\"width: 150px; text-align: center\">\n",
              "        <h4 style='margin-top: -5px'>Shengwen Ruan</h4>\n",
              "        <div style='font-size:75%; margin-bottom: 5px'>nm7645543</div>\n",
              "        <a href=\"https://www.imdb.com/name/nm7645543\" target=\"_blank\">\n",
              "            <img style=\"width: 100px; display: block; margin-left: auto; margin-right: auto;\" src=\"https://m.media-amazon.com/images/M/MV5BNmMyMWQ2MTAtYWI2NC00ZjAzLTlkZjEtZTRmM2I1ODFkMjUyXkEyXkFqcGdeQXVyMjg0MTI5NzQ@._V1_UX214_CR0,0,214,317_AL_.jpg\"/>\n",
              "        </a>\n",
              "    </div>\n",
              "    </div></div>"
            ]
          },
          "metadata": {}
        }
      ],
      "source": [
        "from random import choice\n",
        "\n",
        "for _ in range(10):\n",
        "    id = choice(candidates)\n",
        "    show_similars(id)"
      ]
    },
    {
      "cell_type": "code",
      "execution_count": null,
      "metadata": {
        "id": "CHvdl037bqsh"
      },
      "outputs": [],
      "source": []
    }
  ],
  "metadata": {
    "kernelspec": {
      "display_name": "Python 3",
      "language": "python",
      "name": "python3"
    },
    "language_info": {
      "codemirror_mode": {
        "name": "ipython",
        "version": 3
      },
      "file_extension": ".py",
      "mimetype": "text/x-python",
      "name": "python",
      "nbconvert_exporter": "python",
      "pygments_lexer": "ipython3",
      "version": "3.8.3"
    },
    "colab": {
      "provenance": []
    }
  },
  "nbformat": 4,
  "nbformat_minor": 0
}