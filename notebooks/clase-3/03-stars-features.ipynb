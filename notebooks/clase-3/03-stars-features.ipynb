{
  "cells": [
    {
      "cell_type": "code",
      "execution_count": 1,
      "metadata": {
        "id": "7GbypDqhrFA5"
      },
      "outputs": [],
      "source": [
        "from sklearn.pipeline import make_pipeline, make_union\n",
        "from sklearn.feature_extraction import DictVectorizer\n",
        "from sklearn.linear_model import LogisticRegression\n",
        "from sklearn.preprocessing import StandardScaler\n",
        "from sklearn.metrics import roc_auc_score\n",
        "from pathlib import Path\n",
        "\n",
        "import pandas as pd"
      ]
    },
    {
      "cell_type": "code",
      "execution_count": 2,
      "metadata": {
        "id": "DAi_xmulrFA7",
        "outputId": "2859edd4-da0f-42a6-9515-e8d23d68bf11",
        "colab": {
          "base_uri": "https://localhost:8080/"
        }
      },
      "outputs": [
        {
          "output_type": "stream",
          "name": "stdout",
          "text": [
            "Mounted at /content/gdrive\n"
          ]
        }
      ],
      "source": [
        "# Montamos nuestro google drive en el colab\n",
        "\n",
        "from google.colab import drive\n",
        "\n",
        "drive.mount('/content/gdrive')"
      ]
    },
    {
      "cell_type": "code",
      "source": [
        "# Clonamos el repo para usar el codigo de la lib\n",
        "!git clone https://github.com/elsonidoq/ml-practico-2022.git\n",
        "!cd ml-practico-2022; git pull"
      ],
      "metadata": {
        "id": "dBb25K_osqOB",
        "outputId": "a027bfa8-1205-408f-bd8e-939fcde8e636",
        "colab": {
          "base_uri": "https://localhost:8080/"
        }
      },
      "execution_count": 3,
      "outputs": [
        {
          "output_type": "stream",
          "name": "stdout",
          "text": [
            "Cloning into 'ml-practico-2022'...\n",
            "remote: Enumerating objects: 421, done.\u001b[K\n",
            "remote: Counting objects: 100% (108/108), done.\u001b[K\n",
            "remote: Compressing objects: 100% (77/77), done.\u001b[K\n",
            "remote: Total 421 (delta 71), reused 66 (delta 31), pack-reused 313\u001b[K\n",
            "Receiving objects: 100% (421/421), 5.11 MiB | 12.79 MiB/s, done.\n",
            "Resolving deltas: 100% (262/262), done.\n",
            "Already up to date.\n"
          ]
        }
      ]
    },
    {
      "cell_type": "code",
      "source": [
        "import sys\n",
        "sys.path.append('ml-practico-2022')"
      ],
      "metadata": {
        "id": "erbNQZzlss4Y"
      },
      "execution_count": 4,
      "outputs": []
    },
    {
      "cell_type": "code",
      "execution_count": 5,
      "metadata": {
        "id": "vBM0TfFLrFA7"
      },
      "outputs": [],
      "source": [
        "from lib import data, transformers\n",
        "from lib.model import get_features_pipe, get_model_pipe"
      ]
    },
    {
      "cell_type": "code",
      "execution_count": 6,
      "metadata": {
        "id": "sg6t6EGbrFA7",
        "outputId": "1333a015-232e-4318-abc5-fd19d7d91033",
        "colab": {
          "base_uri": "https://localhost:8080/"
        }
      },
      "outputs": [
        {
          "output_type": "stream",
          "name": "stdout",
          "text": [
            "Loading title basics...\n"
          ]
        },
        {
          "output_type": "stream",
          "name": "stderr",
          "text": [
            "ml-practico-2022/lib/data.py:70: DtypeWarning: Columns (4,5) have mixed types.Specify dtype option on import or set low_memory=False.\n",
            "  title_basics = load_title_basics(path)\n"
          ]
        },
        {
          "output_type": "stream",
          "name": "stdout",
          "text": [
            "Loading title ratings...\n",
            "Loading movie directors...\n",
            "Merging everything...\n"
          ]
        }
      ],
      "source": [
        "from pathlib import Path\n",
        "\n",
        "# Para trabajar en colab\n",
        "PATH = Path('/content/gdrive/My Drive/ml-practico-data/')\n",
        "movies_df = data.load_data(PATH)"
      ]
    },
    {
      "cell_type": "code",
      "execution_count": 7,
      "metadata": {
        "id": "DCLzTBJbrFA8"
      },
      "outputs": [],
      "source": [
        "principals_df = pd.read_csv(PATH / 'title.principals.tsv.gz', sep='\\t')"
      ]
    },
    {
      "cell_type": "code",
      "execution_count": 8,
      "metadata": {
        "id": "3u7gKlG_rFA8",
        "outputId": "89d71a93-b595-45fa-a19d-742f84d33f39",
        "colab": {
          "base_uri": "https://localhost:8080/",
          "height": 206
        }
      },
      "outputs": [
        {
          "output_type": "execute_result",
          "data": {
            "text/plain": [
              "      tconst  ordering     nconst         category                      job  \\\n",
              "0  tt0000001         1  nm1588970             self                       \\N   \n",
              "1  tt0000001         2  nm0005690         director                       \\N   \n",
              "2  tt0000001         3  nm0374658  cinematographer  director of photography   \n",
              "3  tt0000002         1  nm0721526         director                       \\N   \n",
              "4  tt0000002         2  nm1335271         composer                       \\N   \n",
              "\n",
              "  characters  \n",
              "0   [\"Self\"]  \n",
              "1         \\N  \n",
              "2         \\N  \n",
              "3         \\N  \n",
              "4         \\N  "
            ],
            "text/html": [
              "\n",
              "  <div id=\"df-a514c3aa-9b0c-412e-9bd6-c2e14931e5d4\">\n",
              "    <div class=\"colab-df-container\">\n",
              "      <div>\n",
              "<style scoped>\n",
              "    .dataframe tbody tr th:only-of-type {\n",
              "        vertical-align: middle;\n",
              "    }\n",
              "\n",
              "    .dataframe tbody tr th {\n",
              "        vertical-align: top;\n",
              "    }\n",
              "\n",
              "    .dataframe thead th {\n",
              "        text-align: right;\n",
              "    }\n",
              "</style>\n",
              "<table border=\"1\" class=\"dataframe\">\n",
              "  <thead>\n",
              "    <tr style=\"text-align: right;\">\n",
              "      <th></th>\n",
              "      <th>tconst</th>\n",
              "      <th>ordering</th>\n",
              "      <th>nconst</th>\n",
              "      <th>category</th>\n",
              "      <th>job</th>\n",
              "      <th>characters</th>\n",
              "    </tr>\n",
              "  </thead>\n",
              "  <tbody>\n",
              "    <tr>\n",
              "      <th>0</th>\n",
              "      <td>tt0000001</td>\n",
              "      <td>1</td>\n",
              "      <td>nm1588970</td>\n",
              "      <td>self</td>\n",
              "      <td>\\N</td>\n",
              "      <td>[\"Self\"]</td>\n",
              "    </tr>\n",
              "    <tr>\n",
              "      <th>1</th>\n",
              "      <td>tt0000001</td>\n",
              "      <td>2</td>\n",
              "      <td>nm0005690</td>\n",
              "      <td>director</td>\n",
              "      <td>\\N</td>\n",
              "      <td>\\N</td>\n",
              "    </tr>\n",
              "    <tr>\n",
              "      <th>2</th>\n",
              "      <td>tt0000001</td>\n",
              "      <td>3</td>\n",
              "      <td>nm0374658</td>\n",
              "      <td>cinematographer</td>\n",
              "      <td>director of photography</td>\n",
              "      <td>\\N</td>\n",
              "    </tr>\n",
              "    <tr>\n",
              "      <th>3</th>\n",
              "      <td>tt0000002</td>\n",
              "      <td>1</td>\n",
              "      <td>nm0721526</td>\n",
              "      <td>director</td>\n",
              "      <td>\\N</td>\n",
              "      <td>\\N</td>\n",
              "    </tr>\n",
              "    <tr>\n",
              "      <th>4</th>\n",
              "      <td>tt0000002</td>\n",
              "      <td>2</td>\n",
              "      <td>nm1335271</td>\n",
              "      <td>composer</td>\n",
              "      <td>\\N</td>\n",
              "      <td>\\N</td>\n",
              "    </tr>\n",
              "  </tbody>\n",
              "</table>\n",
              "</div>\n",
              "      <button class=\"colab-df-convert\" onclick=\"convertToInteractive('df-a514c3aa-9b0c-412e-9bd6-c2e14931e5d4')\"\n",
              "              title=\"Convert this dataframe to an interactive table.\"\n",
              "              style=\"display:none;\">\n",
              "        \n",
              "  <svg xmlns=\"http://www.w3.org/2000/svg\" height=\"24px\"viewBox=\"0 0 24 24\"\n",
              "       width=\"24px\">\n",
              "    <path d=\"M0 0h24v24H0V0z\" fill=\"none\"/>\n",
              "    <path d=\"M18.56 5.44l.94 2.06.94-2.06 2.06-.94-2.06-.94-.94-2.06-.94 2.06-2.06.94zm-11 1L8.5 8.5l.94-2.06 2.06-.94-2.06-.94L8.5 2.5l-.94 2.06-2.06.94zm10 10l.94 2.06.94-2.06 2.06-.94-2.06-.94-.94-2.06-.94 2.06-2.06.94z\"/><path d=\"M17.41 7.96l-1.37-1.37c-.4-.4-.92-.59-1.43-.59-.52 0-1.04.2-1.43.59L10.3 9.45l-7.72 7.72c-.78.78-.78 2.05 0 2.83L4 21.41c.39.39.9.59 1.41.59.51 0 1.02-.2 1.41-.59l7.78-7.78 2.81-2.81c.8-.78.8-2.07 0-2.86zM5.41 20L4 18.59l7.72-7.72 1.47 1.35L5.41 20z\"/>\n",
              "  </svg>\n",
              "      </button>\n",
              "      \n",
              "  <style>\n",
              "    .colab-df-container {\n",
              "      display:flex;\n",
              "      flex-wrap:wrap;\n",
              "      gap: 12px;\n",
              "    }\n",
              "\n",
              "    .colab-df-convert {\n",
              "      background-color: #E8F0FE;\n",
              "      border: none;\n",
              "      border-radius: 50%;\n",
              "      cursor: pointer;\n",
              "      display: none;\n",
              "      fill: #1967D2;\n",
              "      height: 32px;\n",
              "      padding: 0 0 0 0;\n",
              "      width: 32px;\n",
              "    }\n",
              "\n",
              "    .colab-df-convert:hover {\n",
              "      background-color: #E2EBFA;\n",
              "      box-shadow: 0px 1px 2px rgba(60, 64, 67, 0.3), 0px 1px 3px 1px rgba(60, 64, 67, 0.15);\n",
              "      fill: #174EA6;\n",
              "    }\n",
              "\n",
              "    [theme=dark] .colab-df-convert {\n",
              "      background-color: #3B4455;\n",
              "      fill: #D2E3FC;\n",
              "    }\n",
              "\n",
              "    [theme=dark] .colab-df-convert:hover {\n",
              "      background-color: #434B5C;\n",
              "      box-shadow: 0px 1px 3px 1px rgba(0, 0, 0, 0.15);\n",
              "      filter: drop-shadow(0px 1px 2px rgba(0, 0, 0, 0.3));\n",
              "      fill: #FFFFFF;\n",
              "    }\n",
              "  </style>\n",
              "\n",
              "      <script>\n",
              "        const buttonEl =\n",
              "          document.querySelector('#df-a514c3aa-9b0c-412e-9bd6-c2e14931e5d4 button.colab-df-convert');\n",
              "        buttonEl.style.display =\n",
              "          google.colab.kernel.accessAllowed ? 'block' : 'none';\n",
              "\n",
              "        async function convertToInteractive(key) {\n",
              "          const element = document.querySelector('#df-a514c3aa-9b0c-412e-9bd6-c2e14931e5d4');\n",
              "          const dataTable =\n",
              "            await google.colab.kernel.invokeFunction('convertToInteractive',\n",
              "                                                     [key], {});\n",
              "          if (!dataTable) return;\n",
              "\n",
              "          const docLinkHtml = 'Like what you see? Visit the ' +\n",
              "            '<a target=\"_blank\" href=https://colab.research.google.com/notebooks/data_table.ipynb>data table notebook</a>'\n",
              "            + ' to learn more about interactive tables.';\n",
              "          element.innerHTML = '';\n",
              "          dataTable['output_type'] = 'display_data';\n",
              "          await google.colab.output.renderOutput(dataTable, element);\n",
              "          const docLink = document.createElement('div');\n",
              "          docLink.innerHTML = docLinkHtml;\n",
              "          element.appendChild(docLink);\n",
              "        }\n",
              "      </script>\n",
              "    </div>\n",
              "  </div>\n",
              "  "
            ]
          },
          "metadata": {},
          "execution_count": 8
        }
      ],
      "source": [
        "principals_df.head()"
      ]
    },
    {
      "cell_type": "code",
      "execution_count": 9,
      "metadata": {
        "id": "ilpniNzYrFA8",
        "outputId": "675a17ed-dcb1-4470-c96e-cf42aac624a2",
        "colab": {
          "base_uri": "https://localhost:8080/"
        }
      },
      "outputs": [
        {
          "output_type": "execute_result",
          "data": {
            "text/plain": [
              "actor                  11279111\n",
              "self                    8849657\n",
              "actress                 8658481\n",
              "writer                  7029439\n",
              "director                5860057\n",
              "producer                3274623\n",
              "cinematographer         1766674\n",
              "composer                1745098\n",
              "editor                  1689718\n",
              "production_designer      344620\n",
              "archive_footage          324176\n",
              "archive_sound              3253\n",
              "Name: category, dtype: int64"
            ]
          },
          "metadata": {},
          "execution_count": 9
        }
      ],
      "source": [
        "principals_df.category.value_counts()"
      ]
    },
    {
      "cell_type": "code",
      "execution_count": 10,
      "metadata": {
        "id": "Dq2QBnSnrFA8"
      },
      "outputs": [],
      "source": [
        "# Sacado del codigo de directores\n",
        "\n",
        "movies_stars = principals_df[principals_df.category.isin(['actress', 'actor'])].copy()\n",
        "\n",
        "# Calculo un ranking por pelicula segun el ordering\n",
        "movies_stars['star_rank'] = (\n",
        "    movies_stars.sort_values('ordering')\n",
        "        .groupby('tconst')\n",
        "        .cumcount()\n",
        ")\n",
        "\n",
        "first_star = movies_stars[movies_stars.star_rank == 0][['nconst', 'tconst']].rename(columns={'nconst': '1st_star'})\n",
        "second_star = movies_stars[movies_stars.star_rank == 1][['nconst', 'tconst']].rename(columns={'nconst': '2nd_star'})\n",
        "third_star = movies_stars[movies_stars.star_rank == 2][['nconst', 'tconst']].rename(columns={'nconst': '3rd_star'})"
      ]
    },
    {
      "cell_type": "code",
      "execution_count": 11,
      "metadata": {
        "id": "JoaPsMG_rFA9"
      },
      "outputs": [],
      "source": [
        "stars_df = (\n",
        "    first_star.merge(second_star, how='left', on='tconst')\n",
        "              .merge(third_star, how='left', on='tconst')\n",
        ")"
      ]
    },
    {
      "cell_type": "code",
      "execution_count": 12,
      "metadata": {
        "id": "ZZd5egfhrFA9",
        "outputId": "a41d4f91-a172-4629-af76-02dc282c460b",
        "colab": {
          "base_uri": "https://localhost:8080/",
          "height": 206
        }
      },
      "outputs": [
        {
          "output_type": "execute_result",
          "data": {
            "text/plain": [
              "    1st_star     tconst   2nd_star   3rd_star\n",
              "0  nm0443482  tt0000005  nm0653042        NaN\n",
              "1  nm0179163  tt0000007  nm0183947        NaN\n",
              "2  nm0653028  tt0000008        NaN        NaN\n",
              "3  nm0063086  tt0000009  nm0183823  nm1309758\n",
              "4  nm3692297  tt0000011        NaN        NaN"
            ],
            "text/html": [
              "\n",
              "  <div id=\"df-be784085-8dee-4c44-bbe8-edc7ef8e32bc\">\n",
              "    <div class=\"colab-df-container\">\n",
              "      <div>\n",
              "<style scoped>\n",
              "    .dataframe tbody tr th:only-of-type {\n",
              "        vertical-align: middle;\n",
              "    }\n",
              "\n",
              "    .dataframe tbody tr th {\n",
              "        vertical-align: top;\n",
              "    }\n",
              "\n",
              "    .dataframe thead th {\n",
              "        text-align: right;\n",
              "    }\n",
              "</style>\n",
              "<table border=\"1\" class=\"dataframe\">\n",
              "  <thead>\n",
              "    <tr style=\"text-align: right;\">\n",
              "      <th></th>\n",
              "      <th>1st_star</th>\n",
              "      <th>tconst</th>\n",
              "      <th>2nd_star</th>\n",
              "      <th>3rd_star</th>\n",
              "    </tr>\n",
              "  </thead>\n",
              "  <tbody>\n",
              "    <tr>\n",
              "      <th>0</th>\n",
              "      <td>nm0443482</td>\n",
              "      <td>tt0000005</td>\n",
              "      <td>nm0653042</td>\n",
              "      <td>NaN</td>\n",
              "    </tr>\n",
              "    <tr>\n",
              "      <th>1</th>\n",
              "      <td>nm0179163</td>\n",
              "      <td>tt0000007</td>\n",
              "      <td>nm0183947</td>\n",
              "      <td>NaN</td>\n",
              "    </tr>\n",
              "    <tr>\n",
              "      <th>2</th>\n",
              "      <td>nm0653028</td>\n",
              "      <td>tt0000008</td>\n",
              "      <td>NaN</td>\n",
              "      <td>NaN</td>\n",
              "    </tr>\n",
              "    <tr>\n",
              "      <th>3</th>\n",
              "      <td>nm0063086</td>\n",
              "      <td>tt0000009</td>\n",
              "      <td>nm0183823</td>\n",
              "      <td>nm1309758</td>\n",
              "    </tr>\n",
              "    <tr>\n",
              "      <th>4</th>\n",
              "      <td>nm3692297</td>\n",
              "      <td>tt0000011</td>\n",
              "      <td>NaN</td>\n",
              "      <td>NaN</td>\n",
              "    </tr>\n",
              "  </tbody>\n",
              "</table>\n",
              "</div>\n",
              "      <button class=\"colab-df-convert\" onclick=\"convertToInteractive('df-be784085-8dee-4c44-bbe8-edc7ef8e32bc')\"\n",
              "              title=\"Convert this dataframe to an interactive table.\"\n",
              "              style=\"display:none;\">\n",
              "        \n",
              "  <svg xmlns=\"http://www.w3.org/2000/svg\" height=\"24px\"viewBox=\"0 0 24 24\"\n",
              "       width=\"24px\">\n",
              "    <path d=\"M0 0h24v24H0V0z\" fill=\"none\"/>\n",
              "    <path d=\"M18.56 5.44l.94 2.06.94-2.06 2.06-.94-2.06-.94-.94-2.06-.94 2.06-2.06.94zm-11 1L8.5 8.5l.94-2.06 2.06-.94-2.06-.94L8.5 2.5l-.94 2.06-2.06.94zm10 10l.94 2.06.94-2.06 2.06-.94-2.06-.94-.94-2.06-.94 2.06-2.06.94z\"/><path d=\"M17.41 7.96l-1.37-1.37c-.4-.4-.92-.59-1.43-.59-.52 0-1.04.2-1.43.59L10.3 9.45l-7.72 7.72c-.78.78-.78 2.05 0 2.83L4 21.41c.39.39.9.59 1.41.59.51 0 1.02-.2 1.41-.59l7.78-7.78 2.81-2.81c.8-.78.8-2.07 0-2.86zM5.41 20L4 18.59l7.72-7.72 1.47 1.35L5.41 20z\"/>\n",
              "  </svg>\n",
              "      </button>\n",
              "      \n",
              "  <style>\n",
              "    .colab-df-container {\n",
              "      display:flex;\n",
              "      flex-wrap:wrap;\n",
              "      gap: 12px;\n",
              "    }\n",
              "\n",
              "    .colab-df-convert {\n",
              "      background-color: #E8F0FE;\n",
              "      border: none;\n",
              "      border-radius: 50%;\n",
              "      cursor: pointer;\n",
              "      display: none;\n",
              "      fill: #1967D2;\n",
              "      height: 32px;\n",
              "      padding: 0 0 0 0;\n",
              "      width: 32px;\n",
              "    }\n",
              "\n",
              "    .colab-df-convert:hover {\n",
              "      background-color: #E2EBFA;\n",
              "      box-shadow: 0px 1px 2px rgba(60, 64, 67, 0.3), 0px 1px 3px 1px rgba(60, 64, 67, 0.15);\n",
              "      fill: #174EA6;\n",
              "    }\n",
              "\n",
              "    [theme=dark] .colab-df-convert {\n",
              "      background-color: #3B4455;\n",
              "      fill: #D2E3FC;\n",
              "    }\n",
              "\n",
              "    [theme=dark] .colab-df-convert:hover {\n",
              "      background-color: #434B5C;\n",
              "      box-shadow: 0px 1px 3px 1px rgba(0, 0, 0, 0.15);\n",
              "      filter: drop-shadow(0px 1px 2px rgba(0, 0, 0, 0.3));\n",
              "      fill: #FFFFFF;\n",
              "    }\n",
              "  </style>\n",
              "\n",
              "      <script>\n",
              "        const buttonEl =\n",
              "          document.querySelector('#df-be784085-8dee-4c44-bbe8-edc7ef8e32bc button.colab-df-convert');\n",
              "        buttonEl.style.display =\n",
              "          google.colab.kernel.accessAllowed ? 'block' : 'none';\n",
              "\n",
              "        async function convertToInteractive(key) {\n",
              "          const element = document.querySelector('#df-be784085-8dee-4c44-bbe8-edc7ef8e32bc');\n",
              "          const dataTable =\n",
              "            await google.colab.kernel.invokeFunction('convertToInteractive',\n",
              "                                                     [key], {});\n",
              "          if (!dataTable) return;\n",
              "\n",
              "          const docLinkHtml = 'Like what you see? Visit the ' +\n",
              "            '<a target=\"_blank\" href=https://colab.research.google.com/notebooks/data_table.ipynb>data table notebook</a>'\n",
              "            + ' to learn more about interactive tables.';\n",
              "          element.innerHTML = '';\n",
              "          dataTable['output_type'] = 'display_data';\n",
              "          await google.colab.output.renderOutput(dataTable, element);\n",
              "          const docLink = document.createElement('div');\n",
              "          docLink.innerHTML = docLinkHtml;\n",
              "          element.appendChild(docLink);\n",
              "        }\n",
              "      </script>\n",
              "    </div>\n",
              "  </div>\n",
              "  "
            ]
          },
          "metadata": {},
          "execution_count": 12
        }
      ],
      "source": [
        "stars_df.head()"
      ]
    },
    {
      "cell_type": "code",
      "execution_count": 13,
      "metadata": {
        "id": "p7cCuwEWrFA9",
        "outputId": "312d0bb1-5197-4541-ad62-15fe2a2b7c47",
        "colab": {
          "base_uri": "https://localhost:8080/",
          "height": 81
        }
      },
      "outputs": [
        {
          "output_type": "execute_result",
          "data": {
            "text/plain": [
              "         1st_star     tconst   2nd_star   3rd_star\n",
              "107543  nm0000138  tt0120338  nm0000701  nm0000708"
            ],
            "text/html": [
              "\n",
              "  <div id=\"df-6f556042-f066-4a0d-bad7-d8ecfd257d5e\">\n",
              "    <div class=\"colab-df-container\">\n",
              "      <div>\n",
              "<style scoped>\n",
              "    .dataframe tbody tr th:only-of-type {\n",
              "        vertical-align: middle;\n",
              "    }\n",
              "\n",
              "    .dataframe tbody tr th {\n",
              "        vertical-align: top;\n",
              "    }\n",
              "\n",
              "    .dataframe thead th {\n",
              "        text-align: right;\n",
              "    }\n",
              "</style>\n",
              "<table border=\"1\" class=\"dataframe\">\n",
              "  <thead>\n",
              "    <tr style=\"text-align: right;\">\n",
              "      <th></th>\n",
              "      <th>1st_star</th>\n",
              "      <th>tconst</th>\n",
              "      <th>2nd_star</th>\n",
              "      <th>3rd_star</th>\n",
              "    </tr>\n",
              "  </thead>\n",
              "  <tbody>\n",
              "    <tr>\n",
              "      <th>107543</th>\n",
              "      <td>nm0000138</td>\n",
              "      <td>tt0120338</td>\n",
              "      <td>nm0000701</td>\n",
              "      <td>nm0000708</td>\n",
              "    </tr>\n",
              "  </tbody>\n",
              "</table>\n",
              "</div>\n",
              "      <button class=\"colab-df-convert\" onclick=\"convertToInteractive('df-6f556042-f066-4a0d-bad7-d8ecfd257d5e')\"\n",
              "              title=\"Convert this dataframe to an interactive table.\"\n",
              "              style=\"display:none;\">\n",
              "        \n",
              "  <svg xmlns=\"http://www.w3.org/2000/svg\" height=\"24px\"viewBox=\"0 0 24 24\"\n",
              "       width=\"24px\">\n",
              "    <path d=\"M0 0h24v24H0V0z\" fill=\"none\"/>\n",
              "    <path d=\"M18.56 5.44l.94 2.06.94-2.06 2.06-.94-2.06-.94-.94-2.06-.94 2.06-2.06.94zm-11 1L8.5 8.5l.94-2.06 2.06-.94-2.06-.94L8.5 2.5l-.94 2.06-2.06.94zm10 10l.94 2.06.94-2.06 2.06-.94-2.06-.94-.94-2.06-.94 2.06-2.06.94z\"/><path d=\"M17.41 7.96l-1.37-1.37c-.4-.4-.92-.59-1.43-.59-.52 0-1.04.2-1.43.59L10.3 9.45l-7.72 7.72c-.78.78-.78 2.05 0 2.83L4 21.41c.39.39.9.59 1.41.59.51 0 1.02-.2 1.41-.59l7.78-7.78 2.81-2.81c.8-.78.8-2.07 0-2.86zM5.41 20L4 18.59l7.72-7.72 1.47 1.35L5.41 20z\"/>\n",
              "  </svg>\n",
              "      </button>\n",
              "      \n",
              "  <style>\n",
              "    .colab-df-container {\n",
              "      display:flex;\n",
              "      flex-wrap:wrap;\n",
              "      gap: 12px;\n",
              "    }\n",
              "\n",
              "    .colab-df-convert {\n",
              "      background-color: #E8F0FE;\n",
              "      border: none;\n",
              "      border-radius: 50%;\n",
              "      cursor: pointer;\n",
              "      display: none;\n",
              "      fill: #1967D2;\n",
              "      height: 32px;\n",
              "      padding: 0 0 0 0;\n",
              "      width: 32px;\n",
              "    }\n",
              "\n",
              "    .colab-df-convert:hover {\n",
              "      background-color: #E2EBFA;\n",
              "      box-shadow: 0px 1px 2px rgba(60, 64, 67, 0.3), 0px 1px 3px 1px rgba(60, 64, 67, 0.15);\n",
              "      fill: #174EA6;\n",
              "    }\n",
              "\n",
              "    [theme=dark] .colab-df-convert {\n",
              "      background-color: #3B4455;\n",
              "      fill: #D2E3FC;\n",
              "    }\n",
              "\n",
              "    [theme=dark] .colab-df-convert:hover {\n",
              "      background-color: #434B5C;\n",
              "      box-shadow: 0px 1px 3px 1px rgba(0, 0, 0, 0.15);\n",
              "      filter: drop-shadow(0px 1px 2px rgba(0, 0, 0, 0.3));\n",
              "      fill: #FFFFFF;\n",
              "    }\n",
              "  </style>\n",
              "\n",
              "      <script>\n",
              "        const buttonEl =\n",
              "          document.querySelector('#df-6f556042-f066-4a0d-bad7-d8ecfd257d5e button.colab-df-convert');\n",
              "        buttonEl.style.display =\n",
              "          google.colab.kernel.accessAllowed ? 'block' : 'none';\n",
              "\n",
              "        async function convertToInteractive(key) {\n",
              "          const element = document.querySelector('#df-6f556042-f066-4a0d-bad7-d8ecfd257d5e');\n",
              "          const dataTable =\n",
              "            await google.colab.kernel.invokeFunction('convertToInteractive',\n",
              "                                                     [key], {});\n",
              "          if (!dataTable) return;\n",
              "\n",
              "          const docLinkHtml = 'Like what you see? Visit the ' +\n",
              "            '<a target=\"_blank\" href=https://colab.research.google.com/notebooks/data_table.ipynb>data table notebook</a>'\n",
              "            + ' to learn more about interactive tables.';\n",
              "          element.innerHTML = '';\n",
              "          dataTable['output_type'] = 'display_data';\n",
              "          await google.colab.output.renderOutput(dataTable, element);\n",
              "          const docLink = document.createElement('div');\n",
              "          docLink.innerHTML = docLinkHtml;\n",
              "          element.appendChild(docLink);\n",
              "        }\n",
              "      </script>\n",
              "    </div>\n",
              "  </div>\n",
              "  "
            ]
          },
          "metadata": {},
          "execution_count": 13
        }
      ],
      "source": [
        "stars_df[stars_df.tconst == 'tt0120338']"
      ]
    },
    {
      "cell_type": "code",
      "execution_count": 14,
      "metadata": {
        "id": "1mGjlsl1rFA9"
      },
      "outputs": [],
      "source": [
        "movies_df = movies_df.merge(stars_df, on='tconst', how='left')"
      ]
    },
    {
      "cell_type": "code",
      "execution_count": 15,
      "metadata": {
        "id": "eq3j2SeTrFA9",
        "outputId": "279d7854-6d02-4e05-9769-a85b0bc76c97",
        "colab": {
          "base_uri": "https://localhost:8080/",
          "height": 374
        }
      },
      "outputs": [
        {
          "output_type": "execute_result",
          "data": {
            "text/plain": [
              "      tconst titleType                    primaryTitle  \\\n",
              "0  tt0000502     movie                        Bohemios   \n",
              "1  tt0000574     movie     The Story of the Kelly Gang   \n",
              "2  tt0000591     movie                The Prodigal Son   \n",
              "3  tt0000679     movie  The Fairylogue and Radio-Plays   \n",
              "4  tt0001184     movie         Don Juan de Serrallonga   \n",
              "\n",
              "                    originalTitle isAdult  startYear endYear  runtimeMinutes  \\\n",
              "0                        Bohemios       0     1905.0      \\N           100.0   \n",
              "1     The Story of the Kelly Gang       0     1906.0      \\N            70.0   \n",
              "2               L'enfant prodigue       0     1907.0      \\N            90.0   \n",
              "3  The Fairylogue and Radio-Plays       0     1908.0      \\N           120.0   \n",
              "4         Don Juan de Serrallonga       0     1910.0      \\N            58.0   \n",
              "\n",
              "                           genres  averageRating  numVotes   director  \\\n",
              "0                      [no-genre]            4.5        14  nm0063413   \n",
              "1  [Action, Adventure, Biography]            6.0       772  nm0846879   \n",
              "2                         [Drama]            4.5        18  nm0141150   \n",
              "3            [Adventure, Fantasy]            5.3        66  nm0091767   \n",
              "4              [Adventure, Drama]            3.9        20  nm0063413   \n",
              "\n",
              "    1st_star   2nd_star   3rd_star  \n",
              "0  nm0215752  nm0252720        NaN  \n",
              "1  nm0846887  nm0846894  nm1431224  \n",
              "2  nm0906197  nm0332182  nm1323543  \n",
              "3  nm0000875  nm0122665  nm0933446  \n",
              "4  nm0699807  nm0735618        NaN  "
            ],
            "text/html": [
              "\n",
              "  <div id=\"df-5f0f0982-c4fc-42e9-9049-f72954e82153\">\n",
              "    <div class=\"colab-df-container\">\n",
              "      <div>\n",
              "<style scoped>\n",
              "    .dataframe tbody tr th:only-of-type {\n",
              "        vertical-align: middle;\n",
              "    }\n",
              "\n",
              "    .dataframe tbody tr th {\n",
              "        vertical-align: top;\n",
              "    }\n",
              "\n",
              "    .dataframe thead th {\n",
              "        text-align: right;\n",
              "    }\n",
              "</style>\n",
              "<table border=\"1\" class=\"dataframe\">\n",
              "  <thead>\n",
              "    <tr style=\"text-align: right;\">\n",
              "      <th></th>\n",
              "      <th>tconst</th>\n",
              "      <th>titleType</th>\n",
              "      <th>primaryTitle</th>\n",
              "      <th>originalTitle</th>\n",
              "      <th>isAdult</th>\n",
              "      <th>startYear</th>\n",
              "      <th>endYear</th>\n",
              "      <th>runtimeMinutes</th>\n",
              "      <th>genres</th>\n",
              "      <th>averageRating</th>\n",
              "      <th>numVotes</th>\n",
              "      <th>director</th>\n",
              "      <th>1st_star</th>\n",
              "      <th>2nd_star</th>\n",
              "      <th>3rd_star</th>\n",
              "    </tr>\n",
              "  </thead>\n",
              "  <tbody>\n",
              "    <tr>\n",
              "      <th>0</th>\n",
              "      <td>tt0000502</td>\n",
              "      <td>movie</td>\n",
              "      <td>Bohemios</td>\n",
              "      <td>Bohemios</td>\n",
              "      <td>0</td>\n",
              "      <td>1905.0</td>\n",
              "      <td>\\N</td>\n",
              "      <td>100.0</td>\n",
              "      <td>[no-genre]</td>\n",
              "      <td>4.5</td>\n",
              "      <td>14</td>\n",
              "      <td>nm0063413</td>\n",
              "      <td>nm0215752</td>\n",
              "      <td>nm0252720</td>\n",
              "      <td>NaN</td>\n",
              "    </tr>\n",
              "    <tr>\n",
              "      <th>1</th>\n",
              "      <td>tt0000574</td>\n",
              "      <td>movie</td>\n",
              "      <td>The Story of the Kelly Gang</td>\n",
              "      <td>The Story of the Kelly Gang</td>\n",
              "      <td>0</td>\n",
              "      <td>1906.0</td>\n",
              "      <td>\\N</td>\n",
              "      <td>70.0</td>\n",
              "      <td>[Action, Adventure, Biography]</td>\n",
              "      <td>6.0</td>\n",
              "      <td>772</td>\n",
              "      <td>nm0846879</td>\n",
              "      <td>nm0846887</td>\n",
              "      <td>nm0846894</td>\n",
              "      <td>nm1431224</td>\n",
              "    </tr>\n",
              "    <tr>\n",
              "      <th>2</th>\n",
              "      <td>tt0000591</td>\n",
              "      <td>movie</td>\n",
              "      <td>The Prodigal Son</td>\n",
              "      <td>L'enfant prodigue</td>\n",
              "      <td>0</td>\n",
              "      <td>1907.0</td>\n",
              "      <td>\\N</td>\n",
              "      <td>90.0</td>\n",
              "      <td>[Drama]</td>\n",
              "      <td>4.5</td>\n",
              "      <td>18</td>\n",
              "      <td>nm0141150</td>\n",
              "      <td>nm0906197</td>\n",
              "      <td>nm0332182</td>\n",
              "      <td>nm1323543</td>\n",
              "    </tr>\n",
              "    <tr>\n",
              "      <th>3</th>\n",
              "      <td>tt0000679</td>\n",
              "      <td>movie</td>\n",
              "      <td>The Fairylogue and Radio-Plays</td>\n",
              "      <td>The Fairylogue and Radio-Plays</td>\n",
              "      <td>0</td>\n",
              "      <td>1908.0</td>\n",
              "      <td>\\N</td>\n",
              "      <td>120.0</td>\n",
              "      <td>[Adventure, Fantasy]</td>\n",
              "      <td>5.3</td>\n",
              "      <td>66</td>\n",
              "      <td>nm0091767</td>\n",
              "      <td>nm0000875</td>\n",
              "      <td>nm0122665</td>\n",
              "      <td>nm0933446</td>\n",
              "    </tr>\n",
              "    <tr>\n",
              "      <th>4</th>\n",
              "      <td>tt0001184</td>\n",
              "      <td>movie</td>\n",
              "      <td>Don Juan de Serrallonga</td>\n",
              "      <td>Don Juan de Serrallonga</td>\n",
              "      <td>0</td>\n",
              "      <td>1910.0</td>\n",
              "      <td>\\N</td>\n",
              "      <td>58.0</td>\n",
              "      <td>[Adventure, Drama]</td>\n",
              "      <td>3.9</td>\n",
              "      <td>20</td>\n",
              "      <td>nm0063413</td>\n",
              "      <td>nm0699807</td>\n",
              "      <td>nm0735618</td>\n",
              "      <td>NaN</td>\n",
              "    </tr>\n",
              "  </tbody>\n",
              "</table>\n",
              "</div>\n",
              "      <button class=\"colab-df-convert\" onclick=\"convertToInteractive('df-5f0f0982-c4fc-42e9-9049-f72954e82153')\"\n",
              "              title=\"Convert this dataframe to an interactive table.\"\n",
              "              style=\"display:none;\">\n",
              "        \n",
              "  <svg xmlns=\"http://www.w3.org/2000/svg\" height=\"24px\"viewBox=\"0 0 24 24\"\n",
              "       width=\"24px\">\n",
              "    <path d=\"M0 0h24v24H0V0z\" fill=\"none\"/>\n",
              "    <path d=\"M18.56 5.44l.94 2.06.94-2.06 2.06-.94-2.06-.94-.94-2.06-.94 2.06-2.06.94zm-11 1L8.5 8.5l.94-2.06 2.06-.94-2.06-.94L8.5 2.5l-.94 2.06-2.06.94zm10 10l.94 2.06.94-2.06 2.06-.94-2.06-.94-.94-2.06-.94 2.06-2.06.94z\"/><path d=\"M17.41 7.96l-1.37-1.37c-.4-.4-.92-.59-1.43-.59-.52 0-1.04.2-1.43.59L10.3 9.45l-7.72 7.72c-.78.78-.78 2.05 0 2.83L4 21.41c.39.39.9.59 1.41.59.51 0 1.02-.2 1.41-.59l7.78-7.78 2.81-2.81c.8-.78.8-2.07 0-2.86zM5.41 20L4 18.59l7.72-7.72 1.47 1.35L5.41 20z\"/>\n",
              "  </svg>\n",
              "      </button>\n",
              "      \n",
              "  <style>\n",
              "    .colab-df-container {\n",
              "      display:flex;\n",
              "      flex-wrap:wrap;\n",
              "      gap: 12px;\n",
              "    }\n",
              "\n",
              "    .colab-df-convert {\n",
              "      background-color: #E8F0FE;\n",
              "      border: none;\n",
              "      border-radius: 50%;\n",
              "      cursor: pointer;\n",
              "      display: none;\n",
              "      fill: #1967D2;\n",
              "      height: 32px;\n",
              "      padding: 0 0 0 0;\n",
              "      width: 32px;\n",
              "    }\n",
              "\n",
              "    .colab-df-convert:hover {\n",
              "      background-color: #E2EBFA;\n",
              "      box-shadow: 0px 1px 2px rgba(60, 64, 67, 0.3), 0px 1px 3px 1px rgba(60, 64, 67, 0.15);\n",
              "      fill: #174EA6;\n",
              "    }\n",
              "\n",
              "    [theme=dark] .colab-df-convert {\n",
              "      background-color: #3B4455;\n",
              "      fill: #D2E3FC;\n",
              "    }\n",
              "\n",
              "    [theme=dark] .colab-df-convert:hover {\n",
              "      background-color: #434B5C;\n",
              "      box-shadow: 0px 1px 3px 1px rgba(0, 0, 0, 0.15);\n",
              "      filter: drop-shadow(0px 1px 2px rgba(0, 0, 0, 0.3));\n",
              "      fill: #FFFFFF;\n",
              "    }\n",
              "  </style>\n",
              "\n",
              "      <script>\n",
              "        const buttonEl =\n",
              "          document.querySelector('#df-5f0f0982-c4fc-42e9-9049-f72954e82153 button.colab-df-convert');\n",
              "        buttonEl.style.display =\n",
              "          google.colab.kernel.accessAllowed ? 'block' : 'none';\n",
              "\n",
              "        async function convertToInteractive(key) {\n",
              "          const element = document.querySelector('#df-5f0f0982-c4fc-42e9-9049-f72954e82153');\n",
              "          const dataTable =\n",
              "            await google.colab.kernel.invokeFunction('convertToInteractive',\n",
              "                                                     [key], {});\n",
              "          if (!dataTable) return;\n",
              "\n",
              "          const docLinkHtml = 'Like what you see? Visit the ' +\n",
              "            '<a target=\"_blank\" href=https://colab.research.google.com/notebooks/data_table.ipynb>data table notebook</a>'\n",
              "            + ' to learn more about interactive tables.';\n",
              "          element.innerHTML = '';\n",
              "          dataTable['output_type'] = 'display_data';\n",
              "          await google.colab.output.renderOutput(dataTable, element);\n",
              "          const docLink = document.createElement('div');\n",
              "          docLink.innerHTML = docLinkHtml;\n",
              "          element.appendChild(docLink);\n",
              "        }\n",
              "      </script>\n",
              "    </div>\n",
              "  </div>\n",
              "  "
            ]
          },
          "metadata": {},
          "execution_count": 15
        }
      ],
      "source": [
        "movies_df.head()"
      ]
    },
    {
      "cell_type": "markdown",
      "metadata": {
        "id": "6pRwONvqrFA9"
      },
      "source": [
        "# Ahora  vamos a experimentar!\n",
        "\n",
        "Vamos a usar el transformer `CrewFeatures` definido en https://github.com/elsonidoq/ml-practico-2022/blob/main/lib/transformers/director_features.py#L5"
      ]
    },
    {
      "cell_type": "code",
      "execution_count": 16,
      "metadata": {
        "id": "jjmyCs_NrFBF"
      },
      "outputs": [],
      "source": [
        "rating_data = data.load_rating_train_dev_test(movies_df)"
      ]
    },
    {
      "cell_type": "code",
      "source": [
        "rating_data.keys()"
      ],
      "metadata": {
        "id": "KBs21X_wtWnC",
        "outputId": "19b748fe-d03e-460a-8e56-bdd2b149d3d8",
        "colab": {
          "base_uri": "https://localhost:8080/"
        }
      },
      "execution_count": 17,
      "outputs": [
        {
          "output_type": "execute_result",
          "data": {
            "text/plain": [
              "dict_keys(['X_train', 'y_train', 'X_dev', 'y_dev', 'X_test', 'y_test'])"
            ]
          },
          "metadata": {},
          "execution_count": 17
        }
      ]
    },
    {
      "cell_type": "code",
      "execution_count": 18,
      "metadata": {
        "id": "X8DNznhnrFBF"
      },
      "outputs": [],
      "source": [
        "pipe = make_pipeline(\n",
        "    transformers.CrewFeatures('1st_star', min_cnt_movies=3),\n",
        "    DictVectorizer(sparse=False),\n",
        "    StandardScaler(),\n",
        "    LogisticRegression()\n",
        ")"
      ]
    },
    {
      "cell_type": "code",
      "execution_count": 19,
      "metadata": {
        "id": "i74GVDlfrFBG",
        "outputId": "b79fceb6-ec5a-4921-a2ae-edd94e9c8c2e",
        "colab": {
          "base_uri": "https://localhost:8080/"
        }
      },
      "outputs": [
        {
          "output_type": "execute_result",
          "data": {
            "text/plain": [
              "(0.6746784815771065, 0.5521969734682844)"
            ]
          },
          "metadata": {},
          "execution_count": 19
        }
      ],
      "source": [
        "pipe.fit(rating_data['X_train'], rating_data['y_train'] > 7.5)\n",
        "\n",
        "tr_auc = roc_auc_score(rating_data['y_train'] > 7.5, pipe.predict_proba(rating_data['X_train'])[:, 1])\n",
        "dev_auc = roc_auc_score(rating_data['y_dev'] > 7.5, pipe.predict_proba(rating_data['X_dev'])[:, 1])\n",
        "\n",
        "tr_auc, dev_auc"
      ]
    },
    {
      "cell_type": "code",
      "execution_count": 20,
      "metadata": {
        "id": "atp3g1cFrFBG"
      },
      "outputs": [],
      "source": [
        "pipe = make_pipeline(\n",
        "    make_union(\n",
        "        make_pipeline(transformers.CrewFeatures('1st_star', min_cnt_movies=3), DictVectorizer(sparse=False)),\n",
        "        make_pipeline(transformers.CrewFeatures('2nd_star', min_cnt_movies=3), DictVectorizer(sparse=False)),\n",
        "        make_pipeline(transformers.CrewFeatures('3rd_star', min_cnt_movies=3), DictVectorizer(sparse=False)),\n",
        "    ),\n",
        "    StandardScaler(),\n",
        "    LogisticRegression()\n",
        ")"
      ]
    },
    {
      "cell_type": "code",
      "execution_count": 21,
      "metadata": {
        "id": "3WbvqkCvrFBG",
        "outputId": "3d4bed20-6e8f-47f5-b5ea-caff5c5db7a1",
        "colab": {
          "base_uri": "https://localhost:8080/"
        }
      },
      "outputs": [
        {
          "output_type": "execute_result",
          "data": {
            "text/plain": [
              "(0.7314802118434764, 0.5824416066160876)"
            ]
          },
          "metadata": {},
          "execution_count": 21
        }
      ],
      "source": [
        "pipe.fit(rating_data['X_train'], rating_data['y_train'] > 7.5)\n",
        "\n",
        "tr_auc = roc_auc_score(rating_data['y_train'] > 7.5, pipe.predict_proba(rating_data['X_train'])[:, 1])\n",
        "dev_auc = roc_auc_score(rating_data['y_dev'] > 7.5, pipe.predict_proba(rating_data['X_dev'])[:, 1])\n",
        "\n",
        "tr_auc, dev_auc"
      ]
    },
    {
      "cell_type": "markdown",
      "metadata": {
        "id": "iNz64z3NrFBG"
      },
      "source": [
        "# Probando todo junto"
      ]
    },
    {
      "cell_type": "code",
      "execution_count": 22,
      "metadata": {
        "id": "qtqJSNRorFBG"
      },
      "outputs": [],
      "source": [
        "pipe = make_pipeline(\n",
        "    make_union(\n",
        "        make_pipeline(transformers.CrewFeatures('1st_star', min_cnt_movies=3), DictVectorizer(sparse=False)),\n",
        "        make_pipeline(transformers.CrewFeatures('2nd_star', min_cnt_movies=3), DictVectorizer(sparse=False)),\n",
        "        make_pipeline(transformers.CrewFeatures('3rd_star', min_cnt_movies=3), DictVectorizer(sparse=False)),\n",
        "        make_pipeline(transformers.CrewFeatures('director', min_cnt_movies=3), DictVectorizer(sparse=False)),\n",
        "        make_pipeline(transformers.YearsAgo(), DictVectorizer(sparse=False)),\n",
        "        make_pipeline(transformers.GenreDummies(), DictVectorizer(sparse=False)),\n",
        "    ),\n",
        "    StandardScaler(),\n",
        "    LogisticRegression()\n",
        ")"
      ]
    },
    {
      "cell_type": "code",
      "execution_count": 23,
      "metadata": {
        "id": "lD-03ONArFBH",
        "outputId": "c1816ac5-8102-4f25-a7ed-6ae202e7eda1",
        "colab": {
          "base_uri": "https://localhost:8080/"
        }
      },
      "outputs": [
        {
          "output_type": "execute_result",
          "data": {
            "text/plain": [
              "(0.8439064798577167, 0.7364522007289038)"
            ]
          },
          "metadata": {},
          "execution_count": 23
        }
      ],
      "source": [
        "pipe.fit(rating_data['X_train'], rating_data['y_train'] > 7.5)\n",
        "\n",
        "tr_auc = roc_auc_score(rating_data['y_train'] > 7.5, pipe.predict_proba(rating_data['X_train'])[:, 1])\n",
        "dev_auc = roc_auc_score(rating_data['y_dev'] > 7.5, pipe.predict_proba(rating_data['X_dev'])[:, 1])\n",
        "\n",
        "tr_auc, dev_auc"
      ]
    },
    {
      "cell_type": "code",
      "execution_count": 24,
      "metadata": {
        "id": "KYCjayqSrFBH"
      },
      "outputs": [],
      "source": [
        "pipe = make_pipeline(\n",
        "    make_union(\n",
        "        make_pipeline(transformers.CrewFeatures('director', min_cnt_movies=3), DictVectorizer(sparse=False)),\n",
        "        make_pipeline(transformers.YearsAgo(), DictVectorizer(sparse=False)),\n",
        "        make_pipeline(transformers.GenreDummies(), DictVectorizer(sparse=False)),\n",
        "    ),\n",
        "    StandardScaler(),\n",
        "    LogisticRegression()\n",
        ")"
      ]
    },
    {
      "cell_type": "code",
      "execution_count": 25,
      "metadata": {
        "id": "7Bsf4NMBrFBH",
        "outputId": "32468ef6-145a-47a4-d3e3-e2b5270f129c",
        "colab": {
          "base_uri": "https://localhost:8080/"
        }
      },
      "outputs": [
        {
          "output_type": "execute_result",
          "data": {
            "text/plain": [
              "(0.8191894647150124, 0.7306138375864368)"
            ]
          },
          "metadata": {},
          "execution_count": 25
        }
      ],
      "source": [
        "pipe.fit(rating_data['X_train'], rating_data['y_train'] > 7.5)\n",
        "\n",
        "tr_auc = roc_auc_score(rating_data['y_train'] > 7.5, pipe.predict_proba(rating_data['X_train'])[:, 1])\n",
        "dev_auc = roc_auc_score(rating_data['y_dev'] > 7.5, pipe.predict_proba(rating_data['X_dev'])[:, 1])\n",
        "\n",
        "tr_auc, dev_auc"
      ]
    },
    {
      "cell_type": "code",
      "execution_count": 26,
      "metadata": {
        "id": "3Jt5mvJwrFBH"
      },
      "outputs": [],
      "source": [
        "pipe = make_pipeline(\n",
        "    make_union(\n",
        "        make_pipeline(transformers.YearsAgo(), DictVectorizer(sparse=False)),\n",
        "        make_pipeline(transformers.GenreDummies(), DictVectorizer(sparse=False)),\n",
        "    ),\n",
        "    StandardScaler(),\n",
        "    LogisticRegression()\n",
        ")"
      ]
    },
    {
      "cell_type": "code",
      "execution_count": 27,
      "metadata": {
        "id": "tPrvZV6ZrFBH",
        "outputId": "19ca1509-69af-4ed9-a2ee-9ad413d9016f",
        "colab": {
          "base_uri": "https://localhost:8080/"
        }
      },
      "outputs": [
        {
          "output_type": "execute_result",
          "data": {
            "text/plain": [
              "(0.7430610117914456, 0.724399428708005)"
            ]
          },
          "metadata": {},
          "execution_count": 27
        }
      ],
      "source": [
        "pipe.fit(rating_data['X_train'], rating_data['y_train'] > 7.5)\n",
        "\n",
        "tr_auc = roc_auc_score(rating_data['y_train'] > 7.5, pipe.predict_proba(rating_data['X_train'])[:, 1])\n",
        "dev_auc = roc_auc_score(rating_data['y_dev'] > 7.5, pipe.predict_proba(rating_data['X_dev'])[:, 1])\n",
        "\n",
        "tr_auc, dev_auc"
      ]
    },
    {
      "cell_type": "code",
      "execution_count": 44,
      "metadata": {
        "id": "M1cdg0PurFBH"
      },
      "outputs": [],
      "source": [
        "from lightgbm import LGBMClassifier\n",
        "\n",
        "pipe = make_pipeline(\n",
        "    make_union(\n",
        "        make_pipeline(transformers.CrewFeatures('1st_star', min_cnt_movies=3), DictVectorizer(sparse=False)),\n",
        "        make_pipeline(transformers.CrewFeatures('2nd_star', min_cnt_movies=3), DictVectorizer(sparse=False)),\n",
        "        make_pipeline(transformers.CrewFeatures('3rd_star', min_cnt_movies=3), DictVectorizer(sparse=False)),\n",
        "        make_pipeline(transformers.CrewFeatures('director', min_cnt_movies=3), DictVectorizer(sparse=False)),\n",
        "        make_pipeline(transformers.YearsAgo(), DictVectorizer(sparse=False)),\n",
        "        make_pipeline(transformers.GenreDummies(), DictVectorizer(sparse=False)),\n",
        "    ),\n",
        "    LGBMClassifier(),\n",
        ")"
      ]
    },
    {
      "cell_type": "code",
      "execution_count": 45,
      "metadata": {
        "id": "33yqA4JYrFBI",
        "outputId": "8a81d24c-7d2f-4ae0-e7e4-34547ecf9a5d",
        "colab": {
          "base_uri": "https://localhost:8080/"
        }
      },
      "outputs": [
        {
          "output_type": "execute_result",
          "data": {
            "text/plain": [
              "(0.9277334615494219, 0.7425097037252466)"
            ]
          },
          "metadata": {},
          "execution_count": 45
        }
      ],
      "source": [
        "pipe.fit(rating_data['X_train'], rating_data['y_train'] > 7.5)\n",
        "\n",
        "tr_auc = roc_auc_score(rating_data['y_train'] > 7.5, pipe.predict_proba(rating_data['X_train'])[:, 1])\n",
        "dev_auc = roc_auc_score(rating_data['y_dev'] > 7.5, pipe.predict_proba(rating_data['X_dev'])[:, 1])\n",
        "\n",
        "tr_auc, dev_auc"
      ]
    },
    {
      "cell_type": "markdown",
      "metadata": {
        "id": "iT_V3kwLrFBI"
      },
      "source": [
        "# Word2Vec features"
      ]
    },
    {
      "cell_type": "code",
      "execution_count": 32,
      "metadata": {
        "id": "CIIHE7OJrFBI"
      },
      "outputs": [],
      "source": [
        "class EpochSaver: pass\n",
        "\n",
        "from gensim.models import Word2Vec\n",
        "\n",
        "w2v = Word2Vec.load(str(PATH / 'w2v/epoch_10'))"
      ]
    },
    {
      "cell_type": "code",
      "execution_count": 33,
      "metadata": {
        "id": "A2g8mM0TrFBI"
      },
      "outputs": [],
      "source": [
        "import numpy as np\n",
        "\n",
        "default_vector = np.mean(w2v.wv.vectors, axis=0)"
      ]
    },
    {
      "cell_type": "markdown",
      "metadata": {
        "id": "sN5AJZmTrFBI"
      },
      "source": [
        "### TODO: revisar a quien se parece este default_vector\n",
        "\n",
        "Seria mejor un vector se 0s? alguna otra agregacion sobre los datos?"
      ]
    },
    {
      "cell_type": "code",
      "execution_count": 34,
      "metadata": {
        "id": "hwzaHPiZrFBI"
      },
      "outputs": [],
      "source": [
        "import numpy as np\n",
        "from sklearn.base import BaseEstimator, TransformerMixin\n",
        "\n",
        "class W2VCrewFeatures(BaseEstimator, TransformerMixin):\n",
        "    def __init__(self, w2v, fields, min_cnt_movies=2):\n",
        "        self.fields = fields\n",
        "        self.min_cnt_movies = min_cnt_movies\n",
        "        self.w2v = w2v\n",
        "\n",
        "    def fit(self, X, y):\n",
        "        self.default_vector_ = np.mean(w2v.wv.vectors, axis=0)\n",
        "        return self\n",
        "    \n",
        "    def _get_movie_vector(self, x_i):\n",
        "        vectors = []\n",
        "        for field in self.fields:\n",
        "            person_id = x_i[field]\n",
        "            if person_id not in self.w2v.wv or self.w2v.wv.vocab[person_id].count < self.min_cnt_movies: continue\n",
        "\n",
        "            vectors.append(self.w2v.wv[person_id])\n",
        "\n",
        "        if len(vectors) == 0:\n",
        "            return self.default_vector_\n",
        "        else:\n",
        "            return np.mean(vectors, axis=0)\n",
        "            \n",
        "    def transform(self, X):\n",
        "        return np.asarray([self._get_movie_vector(x_i) for x_i in X])"
      ]
    },
    {
      "cell_type": "code",
      "execution_count": 35,
      "metadata": {
        "id": "8CDmDBSyrFBI"
      },
      "outputs": [],
      "source": [
        "pipe = make_pipeline(\n",
        "    W2VCrewFeatures(w2v, ['1st_star', '2nd_star', '3rd_star']),\n",
        "    StandardScaler(),\n",
        "    LogisticRegression()\n",
        ")"
      ]
    },
    {
      "cell_type": "code",
      "execution_count": 36,
      "metadata": {
        "id": "34U13GPprFBI",
        "outputId": "8968f2f4-815c-41a0-ef36-7828a79016f0",
        "colab": {
          "base_uri": "https://localhost:8080/"
        }
      },
      "outputs": [
        {
          "output_type": "stream",
          "name": "stderr",
          "text": [
            "/usr/local/lib/python3.7/dist-packages/sklearn/linear_model/_logistic.py:818: ConvergenceWarning: lbfgs failed to converge (status=1):\n",
            "STOP: TOTAL NO. of ITERATIONS REACHED LIMIT.\n",
            "\n",
            "Increase the number of iterations (max_iter) or scale the data as shown in:\n",
            "    https://scikit-learn.org/stable/modules/preprocessing.html\n",
            "Please also refer to the documentation for alternative solver options:\n",
            "    https://scikit-learn.org/stable/modules/linear_model.html#logistic-regression\n",
            "  extra_warning_msg=_LOGISTIC_SOLVER_CONVERGENCE_MSG,\n"
          ]
        },
        {
          "output_type": "execute_result",
          "data": {
            "text/plain": [
              "(0.7106231305624312, 0.6450264787318621)"
            ]
          },
          "metadata": {},
          "execution_count": 36
        }
      ],
      "source": [
        "pipe.fit(rating_data['X_train'], rating_data['y_train'] > 7.5)\n",
        "\n",
        "tr_auc = roc_auc_score(rating_data['y_train'] > 7.5, pipe.predict_proba(rating_data['X_train'])[:, 1])\n",
        "dev_auc = roc_auc_score(rating_data['y_dev'] > 7.5, pipe.predict_proba(rating_data['X_dev'])[:, 1])\n",
        "\n",
        "tr_auc, dev_auc"
      ]
    },
    {
      "cell_type": "code",
      "execution_count": 37,
      "metadata": {
        "id": "lw7SNGs7rFBI"
      },
      "outputs": [],
      "source": [
        "pipe = make_pipeline(\n",
        "    W2VCrewFeatures(w2v, ['1st_star', '2nd_star', '3rd_star', 'director']),\n",
        "    StandardScaler(),\n",
        "    LogisticRegression()\n",
        ")"
      ]
    },
    {
      "cell_type": "code",
      "execution_count": 38,
      "metadata": {
        "id": "N5daPxYirFBJ",
        "outputId": "798ba521-8dab-49c0-8258-6ec9a8a32e96",
        "colab": {
          "base_uri": "https://localhost:8080/"
        }
      },
      "outputs": [
        {
          "output_type": "stream",
          "name": "stderr",
          "text": [
            "/usr/local/lib/python3.7/dist-packages/sklearn/linear_model/_logistic.py:818: ConvergenceWarning: lbfgs failed to converge (status=1):\n",
            "STOP: TOTAL NO. of ITERATIONS REACHED LIMIT.\n",
            "\n",
            "Increase the number of iterations (max_iter) or scale the data as shown in:\n",
            "    https://scikit-learn.org/stable/modules/preprocessing.html\n",
            "Please also refer to the documentation for alternative solver options:\n",
            "    https://scikit-learn.org/stable/modules/linear_model.html#logistic-regression\n",
            "  extra_warning_msg=_LOGISTIC_SOLVER_CONVERGENCE_MSG,\n"
          ]
        },
        {
          "output_type": "execute_result",
          "data": {
            "text/plain": [
              "(0.7270682277492554, 0.6633249840393988)"
            ]
          },
          "metadata": {},
          "execution_count": 38
        }
      ],
      "source": [
        "pipe.fit(rating_data['X_train'], rating_data['y_train'] > 7.5)\n",
        "\n",
        "tr_auc = roc_auc_score(rating_data['y_train'] > 7.5, pipe.predict_proba(rating_data['X_train'])[:, 1])\n",
        "dev_auc = roc_auc_score(rating_data['y_dev'] > 7.5, pipe.predict_proba(rating_data['X_dev'])[:, 1])\n",
        "\n",
        "tr_auc, dev_auc"
      ]
    },
    {
      "cell_type": "code",
      "execution_count": 39,
      "metadata": {
        "id": "9VI5NCNgrFBJ"
      },
      "outputs": [],
      "source": [
        "pipe = make_pipeline(\n",
        "    make_union(\n",
        "        W2VCrewFeatures(w2v, ['1st_star', '2nd_star', '3rd_star']),\n",
        "        W2VCrewFeatures(w2v, ['director'])\n",
        "    ),\n",
        "    StandardScaler(),\n",
        "    LogisticRegression()\n",
        ")"
      ]
    },
    {
      "cell_type": "code",
      "execution_count": 40,
      "metadata": {
        "id": "0IaI62q7rFBJ",
        "outputId": "b49dcbe9-1a09-4287-9735-590ad2e1d438",
        "colab": {
          "base_uri": "https://localhost:8080/"
        }
      },
      "outputs": [
        {
          "output_type": "stream",
          "name": "stderr",
          "text": [
            "/usr/local/lib/python3.7/dist-packages/sklearn/linear_model/_logistic.py:818: ConvergenceWarning: lbfgs failed to converge (status=1):\n",
            "STOP: TOTAL NO. of ITERATIONS REACHED LIMIT.\n",
            "\n",
            "Increase the number of iterations (max_iter) or scale the data as shown in:\n",
            "    https://scikit-learn.org/stable/modules/preprocessing.html\n",
            "Please also refer to the documentation for alternative solver options:\n",
            "    https://scikit-learn.org/stable/modules/linear_model.html#logistic-regression\n",
            "  extra_warning_msg=_LOGISTIC_SOLVER_CONVERGENCE_MSG,\n"
          ]
        },
        {
          "output_type": "execute_result",
          "data": {
            "text/plain": [
              "(0.7368388318666648, 0.6650243113506439)"
            ]
          },
          "metadata": {},
          "execution_count": 40
        }
      ],
      "source": [
        "pipe.fit(rating_data['X_train'], rating_data['y_train'] > 7.5)\n",
        "\n",
        "tr_auc = roc_auc_score(rating_data['y_train'] > 7.5, pipe.predict_proba(rating_data['X_train'])[:, 1])\n",
        "dev_auc = roc_auc_score(rating_data['y_dev'] > 7.5, pipe.predict_proba(rating_data['X_dev'])[:, 1])\n",
        "\n",
        "tr_auc, dev_auc"
      ]
    },
    {
      "cell_type": "code",
      "execution_count": 48,
      "metadata": {
        "id": "fGz6jRjorFBJ"
      },
      "outputs": [],
      "source": [
        "pipe = make_pipeline(\n",
        "    make_union(\n",
        "        W2VCrewFeatures(w2v, ['1st_star', '2nd_star', '3rd_star']),\n",
        "        make_pipeline(transformers.CrewFeatures('1st_star', min_cnt_movies=3), DictVectorizer(sparse=False)),\n",
        "        make_pipeline(transformers.CrewFeatures('2nd_star', min_cnt_movies=3), DictVectorizer(sparse=False)),\n",
        "        make_pipeline(transformers.CrewFeatures('3rd_star', min_cnt_movies=3), DictVectorizer(sparse=False)),\n",
        "        make_pipeline(transformers.CrewFeatures('director', min_cnt_movies=3), DictVectorizer(sparse=False)),\n",
        "        make_pipeline(transformers.YearsAgo(), DictVectorizer(sparse=False)),\n",
        "        make_pipeline(transformers.GenreDummies(), DictVectorizer(sparse=False)),\n",
        "    ),\n",
        "    LGBMClassifier()\n",
        ")"
      ]
    },
    {
      "cell_type": "code",
      "execution_count": 49,
      "metadata": {
        "id": "lXOSzSvirFBJ",
        "outputId": "6be4fef9-de29-4b7c-d4cf-fc2b85be2d15",
        "colab": {
          "base_uri": "https://localhost:8080/"
        }
      },
      "outputs": [
        {
          "output_type": "execute_result",
          "data": {
            "text/plain": [
              "(0.9305648897598409, 0.7522210999583409)"
            ]
          },
          "metadata": {},
          "execution_count": 49
        }
      ],
      "source": [
        "pipe.fit(rating_data['X_train'], rating_data['y_train'] > 7.5)\n",
        "\n",
        "tr_auc = roc_auc_score(rating_data['y_train'] > 7.5, pipe.predict_proba(rating_data['X_train'])[:, 1])\n",
        "dev_auc = roc_auc_score(rating_data['y_dev'] > 7.5, pipe.predict_proba(rating_data['X_dev'])[:, 1])\n",
        "\n",
        "tr_auc, dev_auc"
      ]
    },
    {
      "cell_type": "code",
      "source": [],
      "metadata": {
        "id": "re9GyA9qv2cH"
      },
      "execution_count": null,
      "outputs": []
    }
  ],
  "metadata": {
    "kernelspec": {
      "display_name": "Python 3",
      "language": "python",
      "name": "python3"
    },
    "language_info": {
      "codemirror_mode": {
        "name": "ipython",
        "version": 3
      },
      "file_extension": ".py",
      "mimetype": "text/x-python",
      "name": "python",
      "nbconvert_exporter": "python",
      "pygments_lexer": "ipython3",
      "version": "3.8.3"
    },
    "colab": {
      "provenance": []
    }
  },
  "nbformat": 4,
  "nbformat_minor": 0
}