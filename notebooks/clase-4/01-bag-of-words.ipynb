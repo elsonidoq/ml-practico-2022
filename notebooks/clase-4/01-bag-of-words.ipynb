{
 "cells": [
  {
   "cell_type": "markdown",
   "metadata": {},
   "source": [
    "# Get kaggle data"
   ]
  },
  {
   "cell_type": "code",
   "execution_count": null,
   "metadata": {},
   "outputs": [],
   "source": [
    "from google.colab import drive\n",
    "\n",
    "drive.mount('/content/gdrive')"
   ]
  },
  {
   "cell_type": "code",
   "execution_count": null,
   "metadata": {},
   "outputs": [],
   "source": [
    "DATA_HOME=r\"/content/gdrive/My\\ Drive/ml-practico/data\""
   ]
  },
  {
   "cell_type": "code",
   "execution_count": null,
   "metadata": {},
   "outputs": [],
   "source": [
    "!ls $DATA_HOME # revisamos que NO este vacio"
   ]
  },
  {
   "cell_type": "code",
   "execution_count": null,
   "metadata": {},
   "outputs": [],
   "source": [
    "!wget https://machine-learning-practico.s3.amazonaws.com/kaggle_dataset.tgz -O $DATA_HOME/kaggle_dataset.tgz\n",
    "!tar -C $DATA_HOME -xf $DATA_HOME/kaggle_dataset.tar.gz"
   ]
  },
  {
   "cell_type": "markdown",
   "metadata": {},
   "source": [
    "# Simple count vectorizer"
   ]
  },
  {
   "cell_type": "code",
   "execution_count": 1,
   "metadata": {},
   "outputs": [],
   "source": [
    "import sys\n",
    "sys.path.append('/Users/przivic/prog/machine_learning_practico')"
   ]
  },
  {
   "cell_type": "code",
   "execution_count": 19,
   "metadata": {},
   "outputs": [
    {
     "name": "stderr",
     "output_type": "stream",
     "text": [
      "/Users/przivic/anaconda3/lib/python3.8/site-packages/IPython/core/interactiveshell.py:3071: DtypeWarning: Columns (7) have mixed types. Specify dtype option on import or set low_memory=False.\n",
      "  has_raised = await self.run_ast_nodes(code_ast.body, cell_name,\n"
     ]
    }
   ],
   "source": [
    "import pandas as pd\n",
    "df = pd.read_csv('/Users/przivic/Downloads/kaggle_dataset/AllMoviesDetailsCleaned.csv', delimiter=';')"
   ]
  },
  {
   "cell_type": "code",
   "execution_count": 3,
   "metadata": {},
   "outputs": [
    {
     "data": {
      "text/plain": [
       "{'original_title': 'Titanic',\n",
       " 'overview': '84 years later, a 101-year-old woman named Rose DeWitt Bukater tells the story to her granddaughter Lizzy Calvert, Brock Lovett, Lewis Bodine, Bobby Buell and Anatoly Mikailavich on the Keldysh about her life set in April 10th 1912, on a ship called Titanic when young Rose boards the departing ship with the upper-class passengers and her mother, Ruth DeWitt Bukater, and her fiancé, Caledon Hockley. Meanwhile, a drifter and artist named Jack Dawson and his best friend Fabrizio De Rossi win third-class tickets to the ship in a game. And she explains the whole story from departure until the death of Titanic on its first and last voyage April 15th, 1912 at 2:20 in the morning.'}"
      ]
     },
     "execution_count": 3,
     "metadata": {},
     "output_type": "execute_result"
    }
   ],
   "source": [
    "df[df.imdb_id == 'tt0120338'][['original_title', 'overview']].iloc[0].to_dict()"
   ]
  },
  {
   "cell_type": "code",
   "execution_count": 4,
   "metadata": {},
   "outputs": [],
   "source": [
    "from collections import Counter\n",
    "import re\n",
    "wp = re.compile('\\w+')\n",
    "s = Counter()"
   ]
  },
  {
   "cell_type": "code",
   "execution_count": 5,
   "metadata": {},
   "outputs": [],
   "source": [
    "for t in df.overview.dropna():\n",
    "    for tt in wp.findall(t.lower()):\n",
    "        s[tt] += 1"
   ]
  },
  {
   "cell_type": "code",
   "execution_count": 6,
   "metadata": {},
   "outputs": [
    {
     "data": {
      "text/plain": [
       "[('the', 831347),\n",
       " ('a', 517532),\n",
       " ('and', 441625),\n",
       " ('of', 423157),\n",
       " ('to', 369825),\n",
       " ('in', 284461),\n",
       " ('is', 195049),\n",
       " ('his', 167710),\n",
       " ('s', 144823),\n",
       " ('with', 129446)]"
      ]
     },
     "execution_count": 6,
     "metadata": {},
     "output_type": "execute_result"
    }
   ],
   "source": [
    "sorted(s.items(), key=lambda x: -x[1])[:10]"
   ]
  },
  {
   "cell_type": "code",
   "execution_count": 7,
   "metadata": {},
   "outputs": [
    {
     "data": {
      "text/plain": [
       "[('taisto', 1),\n",
       " ('kasurinen', 1),\n",
       " ('nikander', 1),\n",
       " ('2257', 1),\n",
       " ('hynson', 1),\n",
       " ('swafford', 1),\n",
       " ('earger', 1),\n",
       " ('himmelman', 1),\n",
       " ('icebound', 1),\n",
       " ('immensities', 1)]"
      ]
     },
     "execution_count": 7,
     "metadata": {},
     "output_type": "execute_result"
    }
   ],
   "source": [
    "sorted(s.items(), key=lambda x: x[1])[:10]"
   ]
  },
  {
   "cell_type": "code",
   "execution_count": 8,
   "metadata": {},
   "outputs": [
    {
     "data": {
      "text/plain": [
       "244391"
      ]
     },
     "execution_count": 8,
     "metadata": {},
     "output_type": "execute_result"
    }
   ],
   "source": [
    "len(s)"
   ]
  },
  {
   "cell_type": "code",
   "execution_count": 67,
   "metadata": {},
   "outputs": [
    {
     "data": {
      "text/plain": [
       "93787"
      ]
     },
     "execution_count": 67,
     "metadata": {},
     "output_type": "execute_result"
    }
   ],
   "source": [
    "from dateutil.parser import parse\n",
    "\n",
    "df = df[~df.release_date.isna()].copy()\n",
    "df['release_year'] = df.release_date.apply(lambda x: parse(x).year)\n",
    "df = df[df.release_year > 1970].copy()\n",
    "df = df[df.vote_average > 0].copy()\n",
    "df = df[~df.overview.isna()].copy()\n",
    "\n",
    "len(df)"
   ]
  },
  {
   "cell_type": "code",
   "execution_count": 51,
   "metadata": {},
   "outputs": [
    {
     "data": {
      "text/plain": [
       "(0.06719237158917639, 5905)"
      ]
     },
     "execution_count": 51,
     "metadata": {},
     "output_type": "execute_result"
    }
   ],
   "source": [
    "train = df[df.release_year <= 2015]\n",
    "test = df[df.release_year > 2015]\n",
    "\n",
    "len(test) / len(train), len(test)"
   ]
  },
  {
   "cell_type": "code",
   "execution_count": 52,
   "metadata": {},
   "outputs": [],
   "source": [
    "X_train = train.overview.tolist()\n",
    "X_test = test.overview.tolist()\n",
    "\n",
    "y_train = train.vote_average > 7.5\n",
    "y_test = test.vote_average > 7.5"
   ]
  },
  {
   "cell_type": "code",
   "execution_count": 53,
   "metadata": {},
   "outputs": [],
   "source": [
    "from sklearn.feature_extraction.text import TfidfVectorizer, CountVectorizer\n",
    "from sklearn.linear_model import LogisticRegression\n",
    "from sklearn.pipeline import make_pipeline\n",
    "from sklearn.metrics import roc_auc_score"
   ]
  },
  {
   "cell_type": "code",
   "execution_count": 58,
   "metadata": {},
   "outputs": [
    {
     "name": "stderr",
     "output_type": "stream",
     "text": [
      "/Users/przivic/anaconda3/lib/python3.8/site-packages/sklearn/linear_model/_logistic.py:760: ConvergenceWarning: lbfgs failed to converge (status=1):\n",
      "STOP: TOTAL NO. of ITERATIONS REACHED LIMIT.\n",
      "\n",
      "Increase the number of iterations (max_iter) or scale the data as shown in:\n",
      "    https://scikit-learn.org/stable/modules/preprocessing.html\n",
      "Please also refer to the documentation for alternative solver options:\n",
      "    https://scikit-learn.org/stable/modules/linear_model.html#logistic-regression\n",
      "  n_iter_i = _check_optimize_result(\n"
     ]
    },
    {
     "name": "stdout",
     "output_type": "stream",
     "text": [
      "train 0.9073028834189234\n",
      "test 0.593222697392902\n"
     ]
    }
   ],
   "source": [
    "pipe = make_pipeline(CountVectorizer(), LogisticRegression())\n",
    "pipe.fit(X_train, y_train)\n",
    "\n",
    "print('train', roc_auc_score(y_train, pipe.predict_proba(X_train)[:, 1]))\n",
    "print('test', roc_auc_score(y_test, pipe.predict_proba(X_test)[:, 1]))"
   ]
  },
  {
   "cell_type": "code",
   "execution_count": null,
   "metadata": {},
   "outputs": [],
   "source": [
    "pipe = make_pipeline(TfidfVectorizer(), LogisticRegression())\n",
    "pipe.fit(X_train, y_train)\n",
    "\n",
    "print('train', roc_auc_score(y_train, pipe.predict_proba(X_train)[:, 1]))\n",
    "print('test', roc_auc_score(y_test, pipe.predict_proba(X_test)[:, 1]))"
   ]
  },
  {
   "cell_type": "code",
   "execution_count": 62,
   "metadata": {},
   "outputs": [
    {
     "name": "stderr",
     "output_type": "stream",
     "text": [
      "/Users/przivic/anaconda3/lib/python3.8/site-packages/sklearn/linear_model/_logistic.py:760: ConvergenceWarning: lbfgs failed to converge (status=1):\n",
      "STOP: TOTAL NO. of ITERATIONS REACHED LIMIT.\n",
      "\n",
      "Increase the number of iterations (max_iter) or scale the data as shown in:\n",
      "    https://scikit-learn.org/stable/modules/preprocessing.html\n",
      "Please also refer to the documentation for alternative solver options:\n",
      "    https://scikit-learn.org/stable/modules/linear_model.html#logistic-regression\n",
      "  n_iter_i = _check_optimize_result(\n"
     ]
    },
    {
     "name": "stdout",
     "output_type": "stream",
     "text": [
      "train 0.8245471339506503\n",
      "test 0.6066093214867277\n"
     ]
    }
   ],
   "source": [
    "pipe = make_pipeline(CountVectorizer(min_df=20), LogisticRegression())\n",
    "pipe.fit(X_train, y_train)\n",
    "\n",
    "print('train', roc_auc_score(y_train, pipe.predict_proba(X_train)[:, 1]))\n",
    "print('test', roc_auc_score(y_test, pipe.predict_proba(X_test)[:, 1]))"
   ]
  },
  {
   "cell_type": "code",
   "execution_count": 63,
   "metadata": {},
   "outputs": [
    {
     "name": "stderr",
     "output_type": "stream",
     "text": [
      "/Users/przivic/anaconda3/lib/python3.8/site-packages/sklearn/linear_model/_logistic.py:760: ConvergenceWarning: lbfgs failed to converge (status=1):\n",
      "STOP: TOTAL NO. of ITERATIONS REACHED LIMIT.\n",
      "\n",
      "Increase the number of iterations (max_iter) or scale the data as shown in:\n",
      "    https://scikit-learn.org/stable/modules/preprocessing.html\n",
      "Please also refer to the documentation for alternative solver options:\n",
      "    https://scikit-learn.org/stable/modules/linear_model.html#logistic-regression\n",
      "  n_iter_i = _check_optimize_result(\n"
     ]
    },
    {
     "name": "stdout",
     "output_type": "stream",
     "text": [
      "train 0.9333554357385985\n",
      "test 0.5940832917403344\n"
     ]
    }
   ],
   "source": [
    "pipe = make_pipeline(CountVectorizer(min_df=20, ngram_range=(1, 3)), LogisticRegression())\n",
    "pipe.fit(X_train, y_train)\n",
    "\n",
    "print('train', roc_auc_score(y_train, pipe.predict_proba(X_train)[:, 1]))\n",
    "print('test', roc_auc_score(y_test, pipe.predict_proba(X_test)[:, 1]))"
   ]
  },
  {
   "cell_type": "code",
   "execution_count": 65,
   "metadata": {},
   "outputs": [
    {
     "name": "stderr",
     "output_type": "stream",
     "text": [
      "/Users/przivic/anaconda3/lib/python3.8/site-packages/sklearn/linear_model/_logistic.py:760: ConvergenceWarning: lbfgs failed to converge (status=1):\n",
      "STOP: TOTAL NO. of ITERATIONS REACHED LIMIT.\n",
      "\n",
      "Increase the number of iterations (max_iter) or scale the data as shown in:\n",
      "    https://scikit-learn.org/stable/modules/preprocessing.html\n",
      "Please also refer to the documentation for alternative solver options:\n",
      "    https://scikit-learn.org/stable/modules/linear_model.html#logistic-regression\n",
      "  n_iter_i = _check_optimize_result(\n"
     ]
    },
    {
     "name": "stdout",
     "output_type": "stream",
     "text": [
      "train 0.8501446935200785\n",
      "test 0.6478523358024775\n"
     ]
    }
   ],
   "source": [
    "pipe = make_pipeline(TfidfVectorizer(), LogisticRegression())\n",
    "pipe.fit(X_train, y_train)\n",
    "\n",
    "print('train', roc_auc_score(y_train, pipe.predict_proba(X_train)[:, 1]))\n",
    "print('test', roc_auc_score(y_test, pipe.predict_proba(X_test)[:, 1]))"
   ]
  },
  {
   "cell_type": "code",
   "execution_count": 66,
   "metadata": {},
   "outputs": [
    {
     "name": "stdout",
     "output_type": "stream",
     "text": [
      "train 0.9647089264333337\n",
      "test 0.6566005144026713\n"
     ]
    }
   ],
   "source": [
    "pipe = make_pipeline(TfidfVectorizer(ngram_range=(1,3)), LogisticRegression())\n",
    "pipe.fit(X_train, y_train)\n",
    "\n",
    "print('train', roc_auc_score(y_train, pipe.predict_proba(X_train)[:, 1]))\n",
    "print('test', roc_auc_score(y_test, pipe.predict_proba(X_test)[:, 1]))"
   ]
  }
 ],
 "metadata": {
  "kernelspec": {
   "display_name": "Python 3",
   "language": "python",
   "name": "python3"
  },
  "language_info": {
   "codemirror_mode": {
    "name": "ipython",
    "version": 3
   },
   "file_extension": ".py",
   "mimetype": "text/x-python",
   "name": "python",
   "nbconvert_exporter": "python",
   "pygments_lexer": "ipython3",
   "version": "3.8.3"
  }
 },
 "nbformat": 4,
 "nbformat_minor": 4
}
