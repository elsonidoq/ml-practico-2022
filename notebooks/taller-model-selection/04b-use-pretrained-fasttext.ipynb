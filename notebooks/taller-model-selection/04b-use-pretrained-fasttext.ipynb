{
 "cells": [
  {
   "cell_type": "code",
   "execution_count": 1,
   "id": "77e76995",
   "metadata": {},
   "outputs": [],
   "source": [
    "import pandas as pd\n",
    "\n",
    "import sys\n",
    "sys.path.append('../../lib')"
   ]
  },
  {
   "cell_type": "code",
   "execution_count": 2,
   "id": "7578047a",
   "metadata": {},
   "outputs": [
    {
     "name": "stdout",
     "output_type": "stream",
     "text": [
      "{'pct(train)': 0.7837289649483001, 'pct(dev)': 0.11952685477518159, 'pct(test)': 0.09674418027651828}\n"
     ]
    }
   ],
   "source": [
    "from taller_model_selection.evaluate import load_train_dev_test\n",
    "\n",
    "(X_train, y_train), (X_dev, y_dev), test = load_train_dev_test('.')"
   ]
  },
  {
   "cell_type": "code",
   "execution_count": 3,
   "id": "0648e6a5",
   "metadata": {},
   "outputs": [],
   "source": [
    "from taller_model_selection.transformers import FeatureProjection, PretrainedFastTextTransformer\n",
    "from sklearn.pipeline import make_pipeline, make_union\n",
    "from sklearn.preprocessing import OneHotEncoder\n",
    "from sklearn.impute import SimpleImputer\n",
    "from sklearn.linear_model import LinearRegression\n",
    "from sklearn.ensemble import RandomForestRegressor\n",
    "\n",
    "features_pipe =  make_union(\n",
    "    PretrainedFastTextTransformer('title_fasttext.bin', 'title'),\n",
    "    make_pipeline(\n",
    "        FeatureProjection(['rooms', 'bedrooms', 'bathrooms', 'surface_total', 'surface_covered']),\n",
    "        SimpleImputer()\n",
    "    ),\n",
    "    make_pipeline(\n",
    "        FeatureProjection(['l3']), \n",
    "        SimpleImputer(strategy='most_frequent'),\n",
    "        OneHotEncoder(sparse=False, drop='first')\n",
    "    ), \n",
    "    make_pipeline(\n",
    "        FeatureProjection(['l4']), \n",
    "        SimpleImputer(strategy='constant'),\n",
    "        OneHotEncoder(sparse=False, drop='first')\n",
    "    ), \n",
    ")\n",
    "\n",
    "lr_pipe = make_pipeline(\n",
    "    features_pipe,\n",
    "    LinearRegression()\n",
    ")\n"
   ]
  },
  {
   "cell_type": "code",
   "execution_count": 5,
   "id": "a34c7221",
   "metadata": {},
   "outputs": [],
   "source": [
    "rf_pipe = make_pipeline(\n",
    "    features_pipe,\n",
    "    RandomForestRegressor(n_estimators=20)\n",
    ")"
   ]
  },
  {
   "cell_type": "code",
   "execution_count": 7,
   "id": "2c9726a2",
   "metadata": {},
   "outputs": [
    {
     "name": "stderr",
     "output_type": "stream",
     "text": [
      "Warning : `load_model` does not return WordVectorModel or SupervisedModel any more, but a `FastText` object which is very similar.\n"
     ]
    },
    {
     "data": {
      "text/plain": [
       "Pipeline(steps=[('featureunion',\n",
       "                 FeatureUnion(transformer_list=[('pretrainedfasttexttransformer',\n",
       "                                                 PretrainedFastTextTransformer(field='title',\n",
       "                                                                               fname='title_fasttext.bin')),\n",
       "                                                ('pipeline-1',\n",
       "                                                 Pipeline(steps=[('featureprojection',\n",
       "                                                                  FeatureProjection(fields=['rooms',\n",
       "                                                                                            'bedrooms',\n",
       "                                                                                            'bathrooms',\n",
       "                                                                                            'surface_total',\n",
       "                                                                                            'surface_covered'])),\n",
       "                                                                 ('simpleimputer',\n",
       "                                                                  SimpleImputer())]))...\n",
       "                                                                  SimpleImputer(strategy='most_frequent')),\n",
       "                                                                 ('onehotencoder',\n",
       "                                                                  OneHotEncoder(drop='first',\n",
       "                                                                                sparse=False))])),\n",
       "                                                ('pipeline-3',\n",
       "                                                 Pipeline(steps=[('featureprojection',\n",
       "                                                                  FeatureProjection(fields=['l4'])),\n",
       "                                                                 ('simpleimputer',\n",
       "                                                                  SimpleImputer(strategy='constant')),\n",
       "                                                                 ('onehotencoder',\n",
       "                                                                  OneHotEncoder(drop='first',\n",
       "                                                                                sparse=False))]))])),\n",
       "                ('randomforestregressor',\n",
       "                 RandomForestRegressor(n_estimators=20))])"
      ]
     },
     "execution_count": 7,
     "metadata": {},
     "output_type": "execute_result"
    }
   ],
   "source": [
    "lr_pipe.fit(X_train, y_train)\n",
    "rf_pipe.fit(X_train, y_train);"
   ]
  },
  {
   "cell_type": "code",
   "execution_count": 9,
   "id": "af432cc9",
   "metadata": {},
   "outputs": [],
   "source": [
    "from taller_model_selection.metrics import rmse\n",
    "\n",
    "def eval_pipe(model_name, pipe):\n",
    "    return dict(\n",
    "        name=model_name,\n",
    "        train=rmse(y_train, pipe.predict(X_train)),\n",
    "        dev=rmse(y_dev, pipe.predict(X_dev))\n",
    "    )"
   ]
  },
  {
   "cell_type": "code",
   "execution_count": 8,
   "id": "ebc50edf",
   "metadata": {},
   "outputs": [
    {
     "data": {
      "text/html": [
       "<div>\n",
       "<style scoped>\n",
       "    .dataframe tbody tr th:only-of-type {\n",
       "        vertical-align: middle;\n",
       "    }\n",
       "\n",
       "    .dataframe tbody tr th {\n",
       "        vertical-align: top;\n",
       "    }\n",
       "\n",
       "    .dataframe thead th {\n",
       "        text-align: right;\n",
       "    }\n",
       "</style>\n",
       "<table border=\"1\" class=\"dataframe\">\n",
       "  <thead>\n",
       "    <tr style=\"text-align: right;\">\n",
       "      <th></th>\n",
       "      <th>name</th>\n",
       "      <th>train</th>\n",
       "      <th>dev</th>\n",
       "    </tr>\n",
       "  </thead>\n",
       "  <tbody>\n",
       "    <tr>\n",
       "      <th>0</th>\n",
       "      <td>lr</td>\n",
       "      <td>392472.789838</td>\n",
       "      <td>358645.591731</td>\n",
       "    </tr>\n",
       "    <tr>\n",
       "      <th>1</th>\n",
       "      <td>rf</td>\n",
       "      <td>127622.563339</td>\n",
       "      <td>271146.933040</td>\n",
       "    </tr>\n",
       "  </tbody>\n",
       "</table>\n",
       "</div>"
      ],
      "text/plain": [
       "  name          train            dev\n",
       "0   lr  392472.789838  358645.591731\n",
       "1   rf  127622.563339  271146.933040"
      ]
     },
     "execution_count": 8,
     "metadata": {},
     "output_type": "execute_result"
    }
   ],
   "source": [
    "df = pd.DataFrame([eval_pipe('lr', lr_pipe), eval_pipe('rf', rf_pipe)])\n",
    "df"
   ]
  },
  {
   "cell_type": "code",
   "execution_count": null,
   "id": "2543cc6d",
   "metadata": {},
   "outputs": [],
   "source": []
  }
 ],
 "metadata": {
  "kernelspec": {
   "display_name": "Python 3 (ipykernel)",
   "language": "python",
   "name": "python3"
  },
  "language_info": {
   "codemirror_mode": {
    "name": "ipython",
    "version": 3
   },
   "file_extension": ".py",
   "mimetype": "text/x-python",
   "name": "python",
   "nbconvert_exporter": "python",
   "pygments_lexer": "ipython3",
   "version": "3.9.12"
  }
 },
 "nbformat": 4,
 "nbformat_minor": 5
}
