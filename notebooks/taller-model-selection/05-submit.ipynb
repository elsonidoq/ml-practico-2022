{
  "cells": [
    {
      "cell_type": "code",
      "execution_count": 1,
      "id": "7ba2f29e",
      "metadata": {
        "id": "7ba2f29e",
        "outputId": "e6c6b830-c894-4d41-83d9-71027b837dd2",
        "colab": {
          "base_uri": "https://localhost:8080/"
        }
      },
      "outputs": [
        {
          "output_type": "stream",
          "name": "stdout",
          "text": [
            "Looking in indexes: https://pypi.org/simple, https://us-python.pkg.dev/colab-wheels/public/simple/\n",
            "Collecting fasttext\n",
            "  Downloading fasttext-0.9.2.tar.gz (68 kB)\n",
            "\u001b[K     |████████████████████████████████| 68 kB 4.7 MB/s \n",
            "\u001b[?25hCollecting pybind11>=2.2\n",
            "  Using cached pybind11-2.10.0-py3-none-any.whl (213 kB)\n",
            "Requirement already satisfied: setuptools>=0.7.0 in /usr/local/lib/python3.7/dist-packages (from fasttext) (57.4.0)\n",
            "Requirement already satisfied: numpy in /usr/local/lib/python3.7/dist-packages (from fasttext) (1.21.6)\n",
            "Building wheels for collected packages: fasttext\n",
            "  Building wheel for fasttext (setup.py) ... \u001b[?25l\u001b[?25hdone\n",
            "  Created wheel for fasttext: filename=fasttext-0.9.2-cp37-cp37m-linux_x86_64.whl size=3165353 sha256=1a421edd13bed761eecc02b49e4b04fac8cb9e24db6a76fa289840fbac0a4327\n",
            "  Stored in directory: /root/.cache/pip/wheels/4e/ca/bf/b020d2be95f7641801a6597a29c8f4f19e38f9c02a345bab9b\n",
            "Successfully built fasttext\n",
            "Installing collected packages: pybind11, fasttext\n",
            "Successfully installed fasttext-0.9.2 pybind11-2.10.0\n",
            "Cloning into 'ml-practico-2022'...\n",
            "remote: Enumerating objects: 202, done.\u001b[K\n",
            "remote: Counting objects: 100% (202/202), done.\u001b[K\n",
            "remote: Compressing objects: 100% (141/141), done.\u001b[K\n",
            "remote: Total 202 (delta 108), reused 148 (delta 58), pack-reused 0\u001b[K\n",
            "Receiving objects: 100% (202/202), 2.99 MiB | 27.36 MiB/s, done.\n",
            "Resolving deltas: 100% (108/108), done.\n"
          ]
        }
      ],
      "source": [
        "!pip install fasttext # necesario para importar los modulos\n",
        "!git clone https://github.com/elsonidoq/ml-practico-2022.git "
      ]
    },
    {
      "cell_type": "code",
      "source": [
        "!wget -O title_fasttext.bin https://www.dropbox.com/s/9iltaakdc0pe0ma/title_fasttext.bin?dl=0\n",
        "!wget -O desc_fasttext.bin https://www.dropbox.com/s/d2zh0u0knqjcvtl/desc_fasttext.bin?dl=0"
      ],
      "metadata": {
        "id": "se6EsAezChWY",
        "outputId": "c3d8c68e-e15e-4d34-c655-4555266e7c67",
        "colab": {
          "base_uri": "https://localhost:8080/"
        }
      },
      "id": "se6EsAezChWY",
      "execution_count": 2,
      "outputs": [
        {
          "output_type": "stream",
          "name": "stdout",
          "text": [
            "--2022-10-07 20:02:36--  https://www.dropbox.com/s/9iltaakdc0pe0ma/title_fasttext.bin?dl=0\n",
            "Resolving www.dropbox.com (www.dropbox.com)... 162.125.6.18, 2620:100:6019:18::a27d:412\n",
            "Connecting to www.dropbox.com (www.dropbox.com)|162.125.6.18|:443... connected.\n",
            "HTTP request sent, awaiting response... 302 Found\n",
            "Location: /s/raw/9iltaakdc0pe0ma/title_fasttext.bin [following]\n",
            "--2022-10-07 20:02:36--  https://www.dropbox.com/s/raw/9iltaakdc0pe0ma/title_fasttext.bin\n",
            "Reusing existing connection to www.dropbox.com:443.\n",
            "HTTP request sent, awaiting response... 302 Found\n",
            "Location: https://uc55118dc5b99b9edb74924440e1.dl.dropboxusercontent.com/cd/0/inline/BuaMpS8Jqw8WF5eh9o-BdhqnYIogldLRi73f8yBliwVNYwXlHVSZAqW_4FKcpJO2K6q3-HhgtEM5H5Q03YBeQe-MiKr_EjRmNglOorxbjHEpnEjrF3JpKJIInXlW3xdIb0ylyC5X8cWLYzQVTF8ct8ScCW4SclbGozQ8haRaPOrZRQ/file# [following]\n",
            "--2022-10-07 20:02:36--  https://uc55118dc5b99b9edb74924440e1.dl.dropboxusercontent.com/cd/0/inline/BuaMpS8Jqw8WF5eh9o-BdhqnYIogldLRi73f8yBliwVNYwXlHVSZAqW_4FKcpJO2K6q3-HhgtEM5H5Q03YBeQe-MiKr_EjRmNglOorxbjHEpnEjrF3JpKJIInXlW3xdIb0ylyC5X8cWLYzQVTF8ct8ScCW4SclbGozQ8haRaPOrZRQ/file\n",
            "Resolving uc55118dc5b99b9edb74924440e1.dl.dropboxusercontent.com (uc55118dc5b99b9edb74924440e1.dl.dropboxusercontent.com)... 162.125.6.15, 2620:100:601d:15::a27d:50f\n",
            "Connecting to uc55118dc5b99b9edb74924440e1.dl.dropboxusercontent.com (uc55118dc5b99b9edb74924440e1.dl.dropboxusercontent.com)|162.125.6.15|:443... connected.\n",
            "HTTP request sent, awaiting response... 302 Found\n",
            "Location: /cd/0/inline2/BuY9Bby9KDm1vvUSBATfpkd-tQTtAt80oGgOBjvKMfEsznvdbmMk6GnjdE9ArluWx3z84-8uG-nGinlmywi5F4zewlwwbaLbHxHtvtbijYi4Is9fAsS8JylQcfceipRhzjdok0UB8JN6t5_NqOVqIura7S2JiEBjle4xdhyqPE13b868ojGzpjOXE8NRFZan6fGMDz7veIsuz_M77fQ80mc19CB3lzRMRbz9ifZtRH4w0H3qJ_62-14gZeLlbeDkfTViwXSWzw1cWwKTWw5GYjLcRQUSVwtXhu8IaHZ4JuQ2wnkRrSgMfOv3iaLXHlVY0pzjWsiyrF9p_oCp9CS2HVixkqyro_ZP7qtUQ0CxGDZD0z6F_K-xj2A5WR-nT8KaCxvxhcCApexwTFrs0XQvFzIZ5XxTGC_Y0QJ9A5F3fFu_tA/file [following]\n",
            "--2022-10-07 20:02:36--  https://uc55118dc5b99b9edb74924440e1.dl.dropboxusercontent.com/cd/0/inline2/BuY9Bby9KDm1vvUSBATfpkd-tQTtAt80oGgOBjvKMfEsznvdbmMk6GnjdE9ArluWx3z84-8uG-nGinlmywi5F4zewlwwbaLbHxHtvtbijYi4Is9fAsS8JylQcfceipRhzjdok0UB8JN6t5_NqOVqIura7S2JiEBjle4xdhyqPE13b868ojGzpjOXE8NRFZan6fGMDz7veIsuz_M77fQ80mc19CB3lzRMRbz9ifZtRH4w0H3qJ_62-14gZeLlbeDkfTViwXSWzw1cWwKTWw5GYjLcRQUSVwtXhu8IaHZ4JuQ2wnkRrSgMfOv3iaLXHlVY0pzjWsiyrF9p_oCp9CS2HVixkqyro_ZP7qtUQ0CxGDZD0z6F_K-xj2A5WR-nT8KaCxvxhcCApexwTFrs0XQvFzIZ5XxTGC_Y0QJ9A5F3fFu_tA/file\n",
            "Reusing existing connection to uc55118dc5b99b9edb74924440e1.dl.dropboxusercontent.com:443.\n",
            "HTTP request sent, awaiting response... 200 OK\n",
            "Length: 839406420 (801M) [application/octet-stream]\n",
            "Saving to: ‘title_fasttext.bin’\n",
            "\n",
            "title_fasttext.bin  100%[===================>] 800.52M  86.0MB/s    in 7.9s    \n",
            "\n",
            "2022-10-07 20:02:45 (101 MB/s) - ‘title_fasttext.bin’ saved [839406420/839406420]\n",
            "\n"
          ]
        }
      ]
    },
    {
      "cell_type": "code",
      "source": [
        "import sys\n",
        "from google.colab import drive\n",
        "\n",
        "sys.path.append('ml-practico-2022/lib')\n",
        "drive.mount('/content/gdrive')"
      ],
      "metadata": {
        "id": "cEv8Z69KlhSJ",
        "outputId": "f09ac220-3931-457a-e124-caf3d7aaf2de",
        "colab": {
          "base_uri": "https://localhost:8080/"
        }
      },
      "id": "cEv8Z69KlhSJ",
      "execution_count": 3,
      "outputs": [
        {
          "output_type": "stream",
          "name": "stdout",
          "text": [
            "Mounted at /content/gdrive\n"
          ]
        }
      ]
    },
    {
      "cell_type": "code",
      "source": [
        "data_path = '/content/gdrive/MyDrive/taller-model-selection-data'"
      ],
      "metadata": {
        "id": "DxcYVM5yCmeN"
      },
      "id": "DxcYVM5yCmeN",
      "execution_count": 10,
      "outputs": []
    },
    {
      "cell_type": "code",
      "execution_count": 4,
      "id": "7578047a",
      "metadata": {
        "id": "7578047a",
        "outputId": "28a539f8-b4ad-458e-fe60-7918cb264cc1",
        "colab": {
          "base_uri": "https://localhost:8080/"
        }
      },
      "outputs": [
        {
          "output_type": "stream",
          "name": "stdout",
          "text": [
            "{'pct(train)': 0.7837289649483001, 'pct(dev)': 0.11952685477518159, 'pct(test)': 0.09674418027651828}\n"
          ]
        }
      ],
      "source": [
        "import pandas as pd\n",
        "from taller_model_selection.evaluate import load_train_dev_test\n",
        "\n",
        "(X_train, y_train), (X_dev, y_dev), test = load_train_dev_test(data_path)"
      ]
    },
    {
      "cell_type": "code",
      "execution_count": 5,
      "id": "0648e6a5",
      "metadata": {
        "id": "0648e6a5"
      },
      "outputs": [],
      "source": [
        "from taller_model_selection.transformers import FeatureProjection, PretrainedFastTextTransformer\n",
        "from sklearn.pipeline import make_pipeline, make_union\n",
        "from sklearn.preprocessing import OneHotEncoder\n",
        "from sklearn.impute import SimpleImputer\n",
        "from sklearn.linear_model import LinearRegression\n",
        "from sklearn.ensemble import RandomForestRegressor\n",
        "\n",
        "\n",
        "features_pipe = make_union(\n",
        "    PretrainedFastTextTransformer('title_fasttext.bin', 'title'),\n",
        "    make_pipeline(\n",
        "        FeatureProjection(['rooms', 'bedrooms', 'bathrooms', 'surface_total', 'surface_covered']),\n",
        "        SimpleImputer()\n",
        "    ),\n",
        "    make_pipeline(\n",
        "        FeatureProjection(['l3']), \n",
        "        SimpleImputer(strategy='most_frequent'),\n",
        "        OneHotEncoder(sparse=False, drop='first')\n",
        "    ), \n",
        "    make_pipeline(\n",
        "        FeatureProjection(['l4']), \n",
        "        SimpleImputer(strategy='constant'),\n",
        "        OneHotEncoder(sparse=False, drop='first')\n",
        "    ), \n",
        ")\n",
        "\n",
        "lr_pipe = make_pipeline(\n",
        "    features_pipe,\n",
        "    LinearRegression()\n",
        ")\n"
      ]
    },
    {
      "cell_type": "code",
      "execution_count": 6,
      "id": "a34c7221",
      "metadata": {
        "id": "a34c7221"
      },
      "outputs": [],
      "source": [
        "import lightgbm as lgb\n",
        "\n",
        "lgb_pipe = make_pipeline(\n",
        "    features_pipe,\n",
        "    lgb.LGBMRegressor(n_estimators=100)\n",
        ")"
      ]
    },
    {
      "cell_type": "markdown",
      "id": "efcb27cb",
      "metadata": {
        "id": "efcb27cb"
      },
      "source": [
        "Si estas usando el encoder de la descripccion, el codigo de abajo toma 5 minutos en correr approx"
      ]
    },
    {
      "cell_type": "code",
      "execution_count": 7,
      "id": "2c9726a2",
      "metadata": {
        "id": "2c9726a2",
        "outputId": "cd77a8dc-f661-48e3-ff6d-b086ed645677",
        "colab": {
          "base_uri": "https://localhost:8080/"
        }
      },
      "outputs": [
        {
          "output_type": "stream",
          "name": "stderr",
          "text": [
            "Warning : `load_model` does not return WordVectorModel or SupervisedModel any more, but a `FastText` object which is very similar.\n",
            "Warning : `load_model` does not return WordVectorModel or SupervisedModel any more, but a `FastText` object which is very similar.\n"
          ]
        }
      ],
      "source": [
        "lr_pipe.fit(X_train, y_train)\n",
        "lgb_pipe.fit(X_train, y_train);"
      ]
    },
    {
      "cell_type": "code",
      "source": [
        "from taller_model_selection.evaluate import Evaluator\n",
        "\n",
        "ev = Evaluator(X_train, y_train, X_dev, y_dev)\n",
        "\n",
        "# Hay que asegurarse que el pipeline de arriba tenga el titulo y no la descripccion\n",
        "ev.eval_pipe('lr', lr_pipe)\n",
        "ev.eval_pipe('rf', lgb_pipe)\n",
        "\n",
        "pd.DataFrame(ev.evaluations)"
      ],
      "metadata": {
        "id": "seNwgnO1kwbY",
        "outputId": "2a5402f6-fde9-4bfe-9a39-1ed09dd54d66",
        "colab": {
          "base_uri": "https://localhost:8080/",
          "height": 112
        }
      },
      "id": "seNwgnO1kwbY",
      "execution_count": 8,
      "outputs": [
        {
          "output_type": "execute_result",
          "data": {
            "text/plain": [
              "  name          train            dev\n",
              "0   lr  392472.789838  358645.591731\n",
              "1   rf  239389.032664  267253.768555"
            ],
            "text/html": [
              "\n",
              "  <div id=\"df-77bf534c-96de-4fbd-8f09-d7af80924601\">\n",
              "    <div class=\"colab-df-container\">\n",
              "      <div>\n",
              "<style scoped>\n",
              "    .dataframe tbody tr th:only-of-type {\n",
              "        vertical-align: middle;\n",
              "    }\n",
              "\n",
              "    .dataframe tbody tr th {\n",
              "        vertical-align: top;\n",
              "    }\n",
              "\n",
              "    .dataframe thead th {\n",
              "        text-align: right;\n",
              "    }\n",
              "</style>\n",
              "<table border=\"1\" class=\"dataframe\">\n",
              "  <thead>\n",
              "    <tr style=\"text-align: right;\">\n",
              "      <th></th>\n",
              "      <th>name</th>\n",
              "      <th>train</th>\n",
              "      <th>dev</th>\n",
              "    </tr>\n",
              "  </thead>\n",
              "  <tbody>\n",
              "    <tr>\n",
              "      <th>0</th>\n",
              "      <td>lr</td>\n",
              "      <td>392472.789838</td>\n",
              "      <td>358645.591731</td>\n",
              "    </tr>\n",
              "    <tr>\n",
              "      <th>1</th>\n",
              "      <td>rf</td>\n",
              "      <td>239389.032664</td>\n",
              "      <td>267253.768555</td>\n",
              "    </tr>\n",
              "  </tbody>\n",
              "</table>\n",
              "</div>\n",
              "      <button class=\"colab-df-convert\" onclick=\"convertToInteractive('df-77bf534c-96de-4fbd-8f09-d7af80924601')\"\n",
              "              title=\"Convert this dataframe to an interactive table.\"\n",
              "              style=\"display:none;\">\n",
              "        \n",
              "  <svg xmlns=\"http://www.w3.org/2000/svg\" height=\"24px\"viewBox=\"0 0 24 24\"\n",
              "       width=\"24px\">\n",
              "    <path d=\"M0 0h24v24H0V0z\" fill=\"none\"/>\n",
              "    <path d=\"M18.56 5.44l.94 2.06.94-2.06 2.06-.94-2.06-.94-.94-2.06-.94 2.06-2.06.94zm-11 1L8.5 8.5l.94-2.06 2.06-.94-2.06-.94L8.5 2.5l-.94 2.06-2.06.94zm10 10l.94 2.06.94-2.06 2.06-.94-2.06-.94-.94-2.06-.94 2.06-2.06.94z\"/><path d=\"M17.41 7.96l-1.37-1.37c-.4-.4-.92-.59-1.43-.59-.52 0-1.04.2-1.43.59L10.3 9.45l-7.72 7.72c-.78.78-.78 2.05 0 2.83L4 21.41c.39.39.9.59 1.41.59.51 0 1.02-.2 1.41-.59l7.78-7.78 2.81-2.81c.8-.78.8-2.07 0-2.86zM5.41 20L4 18.59l7.72-7.72 1.47 1.35L5.41 20z\"/>\n",
              "  </svg>\n",
              "      </button>\n",
              "      \n",
              "  <style>\n",
              "    .colab-df-container {\n",
              "      display:flex;\n",
              "      flex-wrap:wrap;\n",
              "      gap: 12px;\n",
              "    }\n",
              "\n",
              "    .colab-df-convert {\n",
              "      background-color: #E8F0FE;\n",
              "      border: none;\n",
              "      border-radius: 50%;\n",
              "      cursor: pointer;\n",
              "      display: none;\n",
              "      fill: #1967D2;\n",
              "      height: 32px;\n",
              "      padding: 0 0 0 0;\n",
              "      width: 32px;\n",
              "    }\n",
              "\n",
              "    .colab-df-convert:hover {\n",
              "      background-color: #E2EBFA;\n",
              "      box-shadow: 0px 1px 2px rgba(60, 64, 67, 0.3), 0px 1px 3px 1px rgba(60, 64, 67, 0.15);\n",
              "      fill: #174EA6;\n",
              "    }\n",
              "\n",
              "    [theme=dark] .colab-df-convert {\n",
              "      background-color: #3B4455;\n",
              "      fill: #D2E3FC;\n",
              "    }\n",
              "\n",
              "    [theme=dark] .colab-df-convert:hover {\n",
              "      background-color: #434B5C;\n",
              "      box-shadow: 0px 1px 3px 1px rgba(0, 0, 0, 0.15);\n",
              "      filter: drop-shadow(0px 1px 2px rgba(0, 0, 0, 0.3));\n",
              "      fill: #FFFFFF;\n",
              "    }\n",
              "  </style>\n",
              "\n",
              "      <script>\n",
              "        const buttonEl =\n",
              "          document.querySelector('#df-77bf534c-96de-4fbd-8f09-d7af80924601 button.colab-df-convert');\n",
              "        buttonEl.style.display =\n",
              "          google.colab.kernel.accessAllowed ? 'block' : 'none';\n",
              "\n",
              "        async function convertToInteractive(key) {\n",
              "          const element = document.querySelector('#df-77bf534c-96de-4fbd-8f09-d7af80924601');\n",
              "          const dataTable =\n",
              "            await google.colab.kernel.invokeFunction('convertToInteractive',\n",
              "                                                     [key], {});\n",
              "          if (!dataTable) return;\n",
              "\n",
              "          const docLinkHtml = 'Like what you see? Visit the ' +\n",
              "            '<a target=\"_blank\" href=https://colab.research.google.com/notebooks/data_table.ipynb>data table notebook</a>'\n",
              "            + ' to learn more about interactive tables.';\n",
              "          element.innerHTML = '';\n",
              "          dataTable['output_type'] = 'display_data';\n",
              "          await google.colab.output.renderOutput(dataTable, element);\n",
              "          const docLink = document.createElement('div');\n",
              "          docLink.innerHTML = docLinkHtml;\n",
              "          element.appendChild(docLink);\n",
              "        }\n",
              "      </script>\n",
              "    </div>\n",
              "  </div>\n",
              "  "
            ]
          },
          "metadata": {},
          "execution_count": 8
        }
      ]
    },
    {
      "cell_type": "code",
      "execution_count": 16,
      "id": "9061ca62",
      "metadata": {
        "id": "9061ca62"
      },
      "outputs": [],
      "source": [
        "from taller_model_selection.serialize import iter_jl, write_jl\n",
        "from os import path\n",
        "\n",
        "def load_submission_data(data_path):\n",
        "    return list(iter_jl(path.join(data_path, 'X_test.jl')))\n",
        "\n",
        "X_submit = load_submission_data(data_path)"
      ]
    },
    {
      "cell_type": "code",
      "source": [
        "write_jl(lr_pipe.predict(X_submit), 'lr_pred.jl')"
      ],
      "metadata": {
        "id": "tdLYPvwFECo2"
      },
      "id": "tdLYPvwFECo2",
      "execution_count": 19,
      "outputs": []
    },
    {
      "cell_type": "code",
      "source": [
        "write_jl(lgb_pipe.predict(X_submit), 'lg_pred.jl')"
      ],
      "metadata": {
        "id": "6tevukjjEN6C"
      },
      "id": "6tevukjjEN6C",
      "execution_count": 22,
      "outputs": []
    },
    {
      "cell_type": "markdown",
      "source": [
        "#Ahora podes descargar los submissions!"
      ],
      "metadata": {
        "id": "sbILDJ7ZEZh_"
      },
      "id": "sbILDJ7ZEZh_"
    },
    {
      "cell_type": "markdown",
      "source": [
        "![image.png](data:image/png;base64,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)"
      ],
      "metadata": {
        "id": "vE5K_CJ9EWKc"
      },
      "id": "vE5K_CJ9EWKc"
    },
    {
      "cell_type": "markdown",
      "source": [
        "# Subilos al form\n",
        "\n",
        "https://forms.gle/VtZ9t8nFWkEGFgbE6"
      ],
      "metadata": {
        "id": "tTEJSCJHEmQ5"
      },
      "id": "tTEJSCJHEmQ5"
    },
    {
      "cell_type": "code",
      "source": [],
      "metadata": {
        "id": "IFoRQuxvEW9v"
      },
      "id": "IFoRQuxvEW9v",
      "execution_count": null,
      "outputs": []
    }
  ],
  "metadata": {
    "kernelspec": {
      "display_name": "Python 3 (ipykernel)",
      "language": "python",
      "name": "python3"
    },
    "language_info": {
      "codemirror_mode": {
        "name": "ipython",
        "version": 3
      },
      "file_extension": ".py",
      "mimetype": "text/x-python",
      "name": "python",
      "nbconvert_exporter": "python",
      "pygments_lexer": "ipython3",
      "version": "3.9.12"
    },
    "colab": {
      "provenance": []
    }
  },
  "nbformat": 4,
  "nbformat_minor": 5
}