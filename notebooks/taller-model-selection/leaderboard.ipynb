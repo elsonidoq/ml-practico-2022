{
  "nbformat": 4,
  "nbformat_minor": 0,
  "metadata": {
    "colab": {
      "provenance": [],
      "collapsed_sections": []
    },
    "kernelspec": {
      "name": "python3",
      "display_name": "Python 3"
    },
    "language_info": {
      "name": "python"
    }
  },
  "cells": [
    {
      "cell_type": "code",
      "execution_count": 1,
      "metadata": {
        "id": "lvBl9k9Ms29L"
      },
      "outputs": [],
      "source": [
        "!pip install --upgrade -q gspread\n",
        "!pip install -U -q PyDrive\n",
        "\n",
        "\n",
        "import gspread\n",
        "import pandas as pd\n",
        "from google.colab import auth\n",
        "auth.authenticate_user()\n",
        "from google.auth import default\n",
        "\n",
        "creds, _ = default()\n",
        "gc = gspread.authorize(creds)"
      ]
    },
    {
      "cell_type": "code",
      "source": [
        "from pydrive.auth import GoogleAuth\n",
        "from pydrive.drive import GoogleDrive\n",
        "from google.colab import auth\n",
        "from oauth2client.client import GoogleCredentials\n",
        "\n",
        "gauth = GoogleAuth()\n",
        "gauth.credentials = GoogleCredentials.get_application_default()\n",
        "drive = GoogleDrive(gauth)"
      ],
      "metadata": {
        "id": "SYvZV3vKtsH1"
      },
      "execution_count": 2,
      "outputs": []
    },
    {
      "cell_type": "code",
      "source": [
        "from google.colab import drive as gdrive\n",
        "\n",
        "gdrive.mount('/content/gdrive')"
      ],
      "metadata": {
        "colab": {
          "base_uri": "https://localhost:8080/"
        },
        "id": "3AvYA_4GwgkE",
        "outputId": "46faad9f-30e4-4936-a3f5-e05f80cdbfbe"
      },
      "execution_count": 3,
      "outputs": [
        {
          "output_type": "stream",
          "name": "stdout",
          "text": [
            "Mounted at /content/gdrive\n"
          ]
        }
      ]
    },
    {
      "cell_type": "code",
      "source": [
        "y_test_fname = '/content/gdrive/MyDrive/ML práctico 2022/2022-2C/y_test.jl'\n",
        "\n",
        "with open(y_test_fname) as f:\n",
        "  y_test = list(map(float, f.read().split('\\n')))"
      ],
      "metadata": {
        "id": "g1h-Zqm7uvd4"
      },
      "execution_count": 4,
      "outputs": []
    },
    {
      "cell_type": "code",
      "source": [
        "import numpy as np\n",
        "from collections import Counter\n",
        "from time import sleep\n",
        "from sklearn.metrics import mean_squared_error, mean_absolute_error, \\\n",
        "      mean_absolute_percentage_error\n",
        "from IPython.display import clear_output, display\n",
        "import pytz\n",
        "\n",
        "tz = pytz.timezone('America/Buenos_Aires')\n",
        "\n",
        "class Evaluator:\n",
        "  _cached_scores = {}\n",
        "\n",
        "  def get_submissions(self):\n",
        "    worksheet = gc.open('Taller de model selection (Responses)')\n",
        "    rows = worksheet.worksheets()[0].get_all_values()\n",
        "    header = rows[0]\n",
        "    rows = [dict(zip(header, row)) for row in rows[1:]]\n",
        "    return rows\n",
        "    \n",
        "  def get_competition_table(self):\n",
        "    rows = self.get_submissions()\n",
        "\n",
        "    team_submissions = Counter()\n",
        "    team_best = {}\n",
        "\n",
        "    for row in rows:\n",
        "      team_name = row['Nombre equipo']\n",
        "      team_submissions[team_name] += 1\n",
        "      \n",
        "      id = row['Submission'].split('=')[-1]\n",
        "      result = self.score_solution(id)\n",
        "      if result is None: continue\n",
        "\n",
        "      result.update(row)\n",
        "\n",
        "      if team_name not in team_best:\n",
        "        team_best[team_name] = result\n",
        "      elif result['log(rmse)'] < team_best[team_name]['log(rmse)']:\n",
        "        team_best[team_name] = result\n",
        "\n",
        "    docs = []\n",
        "    for team_name, best_result in team_best.items():\n",
        "      doc = {}\n",
        "      doc.update(best_result)\n",
        "      doc['team_name'] = team_name\n",
        "      doc['submissions'] = team_submissions[team_name]\n",
        "      docs.append(doc)\n",
        "\n",
        "    df = pd.DataFrame(docs).sort_values('log(rmse)')\n",
        "\n",
        "    now = datetime.now(tz=tz)\n",
        "\n",
        "    secs_ago = lambda t: pd.Timedelta(\n",
        "        now - tz.localize(datetime.strptime(t, '%m/%d/%Y %H:%M:%S'))\n",
        "        ).round('S')\n",
        "\n",
        "    df['secs ago'] = df.Timestamp.apply(secs_ago)\n",
        "    return df[['team_name', 'log(rmse)', 'secs ago', 'submissions', \n",
        "              'log(mae)', 'mape', 'Comment']]\n",
        "\n",
        "  def score_solution(self, id):\n",
        "      if id not in self._cached_scores:\n",
        "        downloaded = drive.CreateFile({'id':id})   # replace the id with id of file you want to access\n",
        "        downloaded.GetContentFile('tmp_submission.csv') \n",
        "        with open('tmp_submission.csv') as f:\n",
        "          y_pred = list(map(float, f.read().split()))\n",
        "          \n",
        "        if len(y_pred) != y_test: \n",
        "          # v1 data submission\n",
        "          self._cached_scores[id] = None\n",
        "        else:\n",
        "          self._cached_scores[id] = {\n",
        "              'log(rmse)': np.log10(mean_squared_error(y_test, y_pred) ** 0.5),\n",
        "              'log(mae)': np.log10(mean_absolute_error(y_test, y_pred)),\n",
        "              'mape': mean_absolute_percentage_error(y_test, y_pred),\n",
        "          }\n",
        "\n",
        "      return self._cached_scores[id]\n"
      ],
      "metadata": {
        "id": "jIw5CY2f1OxW"
      },
      "execution_count": 9,
      "outputs": []
    },
    {
      "cell_type": "code",
      "source": [
        "ev = Evaluator()"
      ],
      "metadata": {
        "id": "2zz3_fvDGS0O"
      },
      "execution_count": 10,
      "outputs": []
    },
    {
      "cell_type": "code",
      "source": [
        "from datetime import datetime\n",
        "from collections import Counter\n",
        "from time import sleep, time\n",
        "from sklearn.metrics import mean_squared_error\n",
        "from IPython.display import clear_output, display, display_markdown\n",
        "\n",
        "pd.options.display.float_format = lambda x :f'{x:.02f}'\n",
        "\n",
        "df = None\n",
        "last_print = 0\n",
        "while True:\n",
        "  prev_df = df\n",
        "  df = ev.get_competition_table()\n",
        "  changed = (\n",
        "      prev_df is None or \n",
        "      len(df) != len(prev_df) or \n",
        "      (df['log(rmse)'] != prev_df['log(rmse)']).any()\n",
        "  )\n",
        "  if changed or time() - last_print > 60: \n",
        "    clear_output()\n",
        "    display_markdown(f'**Hora**: {datetime.now(tz).strftime(\"%H:%M:%S\")}', raw=True)\n",
        "    display(df)\n",
        "    last_print = time()\n",
        "  sleep(10)"
      ],
      "metadata": {
        "colab": {
          "base_uri": "https://localhost:8080/",
          "height": 389
        },
        "id": "98ueF5lvv1Vn",
        "outputId": "79e40251-03ab-4191-cf64-77800e8894f7"
      },
      "execution_count": 11,
      "outputs": [
        {
          "output_type": "error",
          "ename": "KeyError",
          "evalue": "ignored",
          "traceback": [
            "\u001b[0;31m---------------------------------------------------------------------------\u001b[0m",
            "\u001b[0;31mKeyError\u001b[0m                                  Traceback (most recent call last)",
            "\u001b[0;32m<ipython-input-11-138228c7eeeb>\u001b[0m in \u001b[0;36m<module>\u001b[0;34m\u001b[0m\n\u001b[1;32m     11\u001b[0m \u001b[0;32mwhile\u001b[0m \u001b[0;32mTrue\u001b[0m\u001b[0;34m:\u001b[0m\u001b[0;34m\u001b[0m\u001b[0;34m\u001b[0m\u001b[0m\n\u001b[1;32m     12\u001b[0m   \u001b[0mprev_df\u001b[0m \u001b[0;34m=\u001b[0m \u001b[0mdf\u001b[0m\u001b[0;34m\u001b[0m\u001b[0;34m\u001b[0m\u001b[0m\n\u001b[0;32m---> 13\u001b[0;31m   \u001b[0mdf\u001b[0m \u001b[0;34m=\u001b[0m \u001b[0mev\u001b[0m\u001b[0;34m.\u001b[0m\u001b[0mget_competition_table\u001b[0m\u001b[0;34m(\u001b[0m\u001b[0;34m)\u001b[0m\u001b[0;34m\u001b[0m\u001b[0;34m\u001b[0m\u001b[0m\n\u001b[0m\u001b[1;32m     14\u001b[0m   changed = (\n\u001b[1;32m     15\u001b[0m       \u001b[0mprev_df\u001b[0m \u001b[0;32mis\u001b[0m \u001b[0;32mNone\u001b[0m \u001b[0;32mor\u001b[0m\u001b[0;34m\u001b[0m\u001b[0;34m\u001b[0m\u001b[0m\n",
            "\u001b[0;32m<ipython-input-9-89945bf4690f>\u001b[0m in \u001b[0;36mget_competition_table\u001b[0;34m(self)\u001b[0m\n\u001b[1;32m     48\u001b[0m       \u001b[0mdocs\u001b[0m\u001b[0;34m.\u001b[0m\u001b[0mappend\u001b[0m\u001b[0;34m(\u001b[0m\u001b[0mdoc\u001b[0m\u001b[0;34m)\u001b[0m\u001b[0;34m\u001b[0m\u001b[0;34m\u001b[0m\u001b[0m\n\u001b[1;32m     49\u001b[0m \u001b[0;34m\u001b[0m\u001b[0m\n\u001b[0;32m---> 50\u001b[0;31m     \u001b[0mdf\u001b[0m \u001b[0;34m=\u001b[0m \u001b[0mpd\u001b[0m\u001b[0;34m.\u001b[0m\u001b[0mDataFrame\u001b[0m\u001b[0;34m(\u001b[0m\u001b[0mdocs\u001b[0m\u001b[0;34m)\u001b[0m\u001b[0;34m.\u001b[0m\u001b[0msort_values\u001b[0m\u001b[0;34m(\u001b[0m\u001b[0;34m'log(rmse)'\u001b[0m\u001b[0;34m)\u001b[0m\u001b[0;34m\u001b[0m\u001b[0;34m\u001b[0m\u001b[0m\n\u001b[0m\u001b[1;32m     51\u001b[0m \u001b[0;34m\u001b[0m\u001b[0m\n\u001b[1;32m     52\u001b[0m     \u001b[0mnow\u001b[0m \u001b[0;34m=\u001b[0m \u001b[0mdatetime\u001b[0m\u001b[0;34m.\u001b[0m\u001b[0mnow\u001b[0m\u001b[0;34m(\u001b[0m\u001b[0mtz\u001b[0m\u001b[0;34m=\u001b[0m\u001b[0mtz\u001b[0m\u001b[0;34m)\u001b[0m\u001b[0;34m\u001b[0m\u001b[0;34m\u001b[0m\u001b[0m\n",
            "\u001b[0;32m/usr/local/lib/python3.7/dist-packages/pandas/util/_decorators.py\u001b[0m in \u001b[0;36mwrapper\u001b[0;34m(*args, **kwargs)\u001b[0m\n\u001b[1;32m    309\u001b[0m                     \u001b[0mstacklevel\u001b[0m\u001b[0;34m=\u001b[0m\u001b[0mstacklevel\u001b[0m\u001b[0;34m,\u001b[0m\u001b[0;34m\u001b[0m\u001b[0;34m\u001b[0m\u001b[0m\n\u001b[1;32m    310\u001b[0m                 )\n\u001b[0;32m--> 311\u001b[0;31m             \u001b[0;32mreturn\u001b[0m \u001b[0mfunc\u001b[0m\u001b[0;34m(\u001b[0m\u001b[0;34m*\u001b[0m\u001b[0margs\u001b[0m\u001b[0;34m,\u001b[0m \u001b[0;34m**\u001b[0m\u001b[0mkwargs\u001b[0m\u001b[0;34m)\u001b[0m\u001b[0;34m\u001b[0m\u001b[0;34m\u001b[0m\u001b[0m\n\u001b[0m\u001b[1;32m    312\u001b[0m \u001b[0;34m\u001b[0m\u001b[0m\n\u001b[1;32m    313\u001b[0m         \u001b[0;32mreturn\u001b[0m \u001b[0mwrapper\u001b[0m\u001b[0;34m\u001b[0m\u001b[0;34m\u001b[0m\u001b[0m\n",
            "\u001b[0;32m/usr/local/lib/python3.7/dist-packages/pandas/core/frame.py\u001b[0m in \u001b[0;36msort_values\u001b[0;34m(self, by, axis, ascending, inplace, kind, na_position, ignore_index, key)\u001b[0m\n\u001b[1;32m   6257\u001b[0m \u001b[0;34m\u001b[0m\u001b[0m\n\u001b[1;32m   6258\u001b[0m             \u001b[0mby\u001b[0m \u001b[0;34m=\u001b[0m \u001b[0mby\u001b[0m\u001b[0;34m[\u001b[0m\u001b[0;36m0\u001b[0m\u001b[0;34m]\u001b[0m\u001b[0;34m\u001b[0m\u001b[0;34m\u001b[0m\u001b[0m\n\u001b[0;32m-> 6259\u001b[0;31m             \u001b[0mk\u001b[0m \u001b[0;34m=\u001b[0m \u001b[0mself\u001b[0m\u001b[0;34m.\u001b[0m\u001b[0m_get_label_or_level_values\u001b[0m\u001b[0;34m(\u001b[0m\u001b[0mby\u001b[0m\u001b[0;34m,\u001b[0m \u001b[0maxis\u001b[0m\u001b[0;34m=\u001b[0m\u001b[0maxis\u001b[0m\u001b[0;34m)\u001b[0m\u001b[0;34m\u001b[0m\u001b[0;34m\u001b[0m\u001b[0m\n\u001b[0m\u001b[1;32m   6260\u001b[0m \u001b[0;34m\u001b[0m\u001b[0m\n\u001b[1;32m   6261\u001b[0m             \u001b[0;31m# need to rewrap column in Series to apply key function\u001b[0m\u001b[0;34m\u001b[0m\u001b[0;34m\u001b[0m\u001b[0;34m\u001b[0m\u001b[0m\n",
            "\u001b[0;32m/usr/local/lib/python3.7/dist-packages/pandas/core/generic.py\u001b[0m in \u001b[0;36m_get_label_or_level_values\u001b[0;34m(self, key, axis)\u001b[0m\n\u001b[1;32m   1777\u001b[0m             \u001b[0mvalues\u001b[0m \u001b[0;34m=\u001b[0m \u001b[0mself\u001b[0m\u001b[0;34m.\u001b[0m\u001b[0maxes\u001b[0m\u001b[0;34m[\u001b[0m\u001b[0maxis\u001b[0m\u001b[0;34m]\u001b[0m\u001b[0;34m.\u001b[0m\u001b[0mget_level_values\u001b[0m\u001b[0;34m(\u001b[0m\u001b[0mkey\u001b[0m\u001b[0;34m)\u001b[0m\u001b[0;34m.\u001b[0m\u001b[0m_values\u001b[0m\u001b[0;34m\u001b[0m\u001b[0;34m\u001b[0m\u001b[0m\n\u001b[1;32m   1778\u001b[0m         \u001b[0;32melse\u001b[0m\u001b[0;34m:\u001b[0m\u001b[0;34m\u001b[0m\u001b[0;34m\u001b[0m\u001b[0m\n\u001b[0;32m-> 1779\u001b[0;31m             \u001b[0;32mraise\u001b[0m \u001b[0mKeyError\u001b[0m\u001b[0;34m(\u001b[0m\u001b[0mkey\u001b[0m\u001b[0;34m)\u001b[0m\u001b[0;34m\u001b[0m\u001b[0;34m\u001b[0m\u001b[0m\n\u001b[0m\u001b[1;32m   1780\u001b[0m \u001b[0;34m\u001b[0m\u001b[0m\n\u001b[1;32m   1781\u001b[0m         \u001b[0;31m# Check for duplicates\u001b[0m\u001b[0;34m\u001b[0m\u001b[0;34m\u001b[0m\u001b[0;34m\u001b[0m\u001b[0m\n",
            "\u001b[0;31mKeyError\u001b[0m: 'log(rmse)'"
          ]
        }
      ]
    },
    {
      "cell_type": "code",
      "source": [],
      "metadata": {
        "id": "Ga3iDFFDLXIT"
      },
      "execution_count": null,
      "outputs": []
    }
  ]
}