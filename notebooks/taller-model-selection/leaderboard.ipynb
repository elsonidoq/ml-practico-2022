{
  "nbformat": 4,
  "nbformat_minor": 0,
  "metadata": {
    "colab": {
      "provenance": [],
      "collapsed_sections": []
    },
    "kernelspec": {
      "name": "python3",
      "display_name": "Python 3"
    },
    "language_info": {
      "name": "python"
    }
  },
  "cells": [
    {
      "cell_type": "code",
      "execution_count": 1,
      "metadata": {
        "id": "lvBl9k9Ms29L"
      },
      "outputs": [],
      "source": [
        "!pip install --upgrade -q gspread\n",
        "!pip install -U -q PyDrive\n",
        "\n",
        "\n",
        "import gspread\n",
        "import pandas as pd\n",
        "from google.colab import auth\n",
        "auth.authenticate_user()\n",
        "from google.auth import default\n",
        "\n",
        "creds, _ = default()\n",
        "gc = gspread.authorize(creds)"
      ]
    },
    {
      "cell_type": "code",
      "source": [
        "from pydrive.auth import GoogleAuth\n",
        "from pydrive.drive import GoogleDrive\n",
        "from google.colab import auth\n",
        "from oauth2client.client import GoogleCredentials\n",
        "\n",
        "gauth = GoogleAuth()\n",
        "gauth.credentials = GoogleCredentials.get_application_default()\n",
        "drive = GoogleDrive(gauth)"
      ],
      "metadata": {
        "id": "SYvZV3vKtsH1"
      },
      "execution_count": 2,
      "outputs": []
    },
    {
      "cell_type": "code",
      "source": [
        "from google.colab import drive as gdrive\n",
        "\n",
        "gdrive.mount('/content/gdrive')"
      ],
      "metadata": {
        "colab": {
          "base_uri": "https://localhost:8080/"
        },
        "id": "3AvYA_4GwgkE",
        "outputId": "16a963de-ab89-409b-d464-c048d055c3e5"
      },
      "execution_count": 3,
      "outputs": [
        {
          "output_type": "stream",
          "name": "stdout",
          "text": [
            "Mounted at /content/gdrive\n"
          ]
        }
      ]
    },
    {
      "cell_type": "code",
      "source": [
        "y_test_fname = '/content/gdrive/MyDrive/ML práctico 2022/2022-2C/y_test.jl'\n",
        "\n",
        "with open(y_test_fname) as f:\n",
        "  y_test = list(map(float, f.read().split('\\n')))"
      ],
      "metadata": {
        "id": "g1h-Zqm7uvd4"
      },
      "execution_count": 5,
      "outputs": []
    },
    {
      "cell_type": "code",
      "source": [],
      "metadata": {
        "id": "MYhhIqNLNbpI"
      },
      "execution_count": null,
      "outputs": []
    },
    {
      "cell_type": "code",
      "source": [
        "tz.localize(datetime.now())"
      ],
      "metadata": {
        "colab": {
          "base_uri": "https://localhost:8080/"
        },
        "id": "bleTC4EOPZbx",
        "outputId": "ce13d100-73c5-45ec-ab09-935ae9239679"
      },
      "execution_count": 131,
      "outputs": [
        {
          "output_type": "execute_result",
          "data": {
            "text/plain": [
              "datetime.datetime(2022, 10, 7, 20, 59, 15, 510778, tzinfo=<DstTzInfo 'America/Buenos_Aires' -03-1 day, 21:00:00 STD>)"
            ]
          },
          "metadata": {},
          "execution_count": 131
        }
      ]
    },
    {
      "cell_type": "code",
      "source": [
        "import numpy as np\n",
        "from collections import Counter\n",
        "from time import sleep\n",
        "from sklearn.metrics import mean_squared_error, mean_absolute_error, \\\n",
        "      mean_absolute_percentage_error\n",
        "from IPython.display import clear_output, display\n",
        "import pytz\n",
        "\n",
        "tz = pytz.timezone('America/Buenos_Aires')\n",
        "\n",
        "class Evaluator:\n",
        "  _cached_scores = {}\n",
        "\n",
        "  def get_submissions(self):\n",
        "    worksheet = gc.open('Taller de model selection (Responses)')\n",
        "    rows = worksheet.worksheets()[0].get_all_values()\n",
        "    header = rows[0]\n",
        "    rows = [dict(zip(header, row)) for row in rows[1:]]\n",
        "    return rows\n",
        "    \n",
        "  def get_competition_table(self):\n",
        "    rows = self.get_submissions()\n",
        "\n",
        "    team_submissions = Counter()\n",
        "    team_best = {}\n",
        "\n",
        "    for row in rows:\n",
        "      team_name = row['Nombre equipo']\n",
        "      team_submissions[team_name] += 1\n",
        "      \n",
        "      id = row['Submission'].split('=')[-1]\n",
        "      result = self.score_solution(id)\n",
        "\n",
        "      result.update(row)\n",
        "\n",
        "      if team_name not in team_best:\n",
        "        team_best[team_name] = result\n",
        "      elif result['log(rmse)'] < team_best[team_name]['log(rmse)']:\n",
        "        team_best[team_name] = result\n",
        "\n",
        "    docs = []\n",
        "    for team_name, best_result in team_best.items():\n",
        "      doc = {}\n",
        "      doc.update(best_result)\n",
        "      doc['team_name'] = team_name\n",
        "      doc['submissions'] = team_submissions[team_name]\n",
        "      docs.append(doc)\n",
        "\n",
        "    df = pd.DataFrame(docs).sort_values('log(rmse)')\n",
        "\n",
        "    now = datetime.now(tz=tz)\n",
        "\n",
        "    secs_ago = lambda t: pd.Timedelta(\n",
        "        now - tz.localize(datetime.strptime(t, '%m/%d/%Y %H:%M:%S'))\n",
        "        ).round('S')\n",
        "\n",
        "    df['secs ago'] = df.Timestamp.apply(secs_ago)\n",
        "    return df[['team_name', 'log(rmse)', 'secs ago', 'submissions', \n",
        "              'log(mae)', 'mape', 'Comment']]\n",
        "\n",
        "  def score_solution(self, id):\n",
        "      if id not in self._cached_scores:\n",
        "        downloaded = drive.CreateFile({'id':id})   # replace the id with id of file you want to access\n",
        "        downloaded.GetContentFile('tmp_submission.csv') \n",
        "        with open('tmp_submission.csv') as f:\n",
        "          y_pred = list(map(float, f.read().split()))\n",
        "          \n",
        "        self._cached_scores[id] = {\n",
        "            'log(rmse)': np.log10(mean_squared_error(y_test, y_pred) ** 0.5),\n",
        "            'log(mae)': np.log10(mean_absolute_error(y_test, y_pred)),\n",
        "            'mape': mean_absolute_percentage_error(y_test, y_pred),\n",
        "        }\n",
        "\n",
        "      return self._cached_scores[id]\n"
      ],
      "metadata": {
        "id": "jIw5CY2f1OxW"
      },
      "execution_count": 135,
      "outputs": []
    },
    {
      "cell_type": "code",
      "source": [
        "ev = Evaluator()"
      ],
      "metadata": {
        "id": "2zz3_fvDGS0O"
      },
      "execution_count": 133,
      "outputs": []
    },
    {
      "cell_type": "code",
      "source": [
        "from datetime import datetime\n",
        "from collections import Counter\n",
        "from time import sleep\n",
        "from sklearn.metrics import mean_squared_error\n",
        "from IPython.display import clear_output, display, display_markdown\n",
        "\n",
        "pd.options.display.float_format = lambda x :f'{x:.02f}'\n",
        "\n",
        "df = None\n",
        "while True:\n",
        "  prev_df = df\n",
        "  df = ev.get_competition_table()\n",
        "  if prev_df is None or len(df) != len(prev_df) or (df['log(rmse)'] != prev_df['log(rmse)']).any(): \n",
        "    clear_output()\n",
        "    display_markdown(f'**Hora**: {datetime.now(tz).strftime(\"%H:%M:%S\")}', raw=True)\n",
        "    display(df)\n",
        "  sleep(10)"
      ],
      "metadata": {
        "colab": {
          "base_uri": "https://localhost:8080/",
          "height": 141
        },
        "id": "98ueF5lvv1Vn",
        "outputId": "425e1a39-e71c-4bb9-b5fd-714e08ca9a72"
      },
      "execution_count": null,
      "outputs": [
        {
          "output_type": "display_data",
          "data": {
            "text/markdown": "**Hora**: 18:10:37"
          },
          "metadata": {}
        },
        {
          "output_type": "display_data",
          "data": {
            "text/plain": [
              "                        team_name  log(rmse)        secs ago  submissions  \\\n",
              "1  LGBM title + numeric + l2 + l3       5.42 0 days 00:44:58            1   \n",
              "0    LR title + numeric + l2 + l3       5.53 0 days 00:57:24            1   \n",
              "\n",
              "   log(mae)  mape                                            Comment  \n",
              "1      4.97  0.64          mismas features que el anterior, con lgbm  \n",
              "0      5.18  1.04  Regresion logistica con title fasttext + numer...  "
            ],
            "text/html": [
              "\n",
              "  <div id=\"df-574f15fb-5065-45dc-bbbe-4ef7739f556a\">\n",
              "    <div class=\"colab-df-container\">\n",
              "      <div>\n",
              "<style scoped>\n",
              "    .dataframe tbody tr th:only-of-type {\n",
              "        vertical-align: middle;\n",
              "    }\n",
              "\n",
              "    .dataframe tbody tr th {\n",
              "        vertical-align: top;\n",
              "    }\n",
              "\n",
              "    .dataframe thead th {\n",
              "        text-align: right;\n",
              "    }\n",
              "</style>\n",
              "<table border=\"1\" class=\"dataframe\">\n",
              "  <thead>\n",
              "    <tr style=\"text-align: right;\">\n",
              "      <th></th>\n",
              "      <th>team_name</th>\n",
              "      <th>log(rmse)</th>\n",
              "      <th>secs ago</th>\n",
              "      <th>submissions</th>\n",
              "      <th>log(mae)</th>\n",
              "      <th>mape</th>\n",
              "      <th>Comment</th>\n",
              "    </tr>\n",
              "  </thead>\n",
              "  <tbody>\n",
              "    <tr>\n",
              "      <th>1</th>\n",
              "      <td>LGBM title + numeric + l2 + l3</td>\n",
              "      <td>5.42</td>\n",
              "      <td>0 days 00:44:58</td>\n",
              "      <td>1</td>\n",
              "      <td>4.97</td>\n",
              "      <td>0.64</td>\n",
              "      <td>mismas features que el anterior, con lgbm</td>\n",
              "    </tr>\n",
              "    <tr>\n",
              "      <th>0</th>\n",
              "      <td>LR title + numeric + l2 + l3</td>\n",
              "      <td>5.53</td>\n",
              "      <td>0 days 00:57:24</td>\n",
              "      <td>1</td>\n",
              "      <td>5.18</td>\n",
              "      <td>1.04</td>\n",
              "      <td>Regresion logistica con title fasttext + numer...</td>\n",
              "    </tr>\n",
              "  </tbody>\n",
              "</table>\n",
              "</div>\n",
              "      <button class=\"colab-df-convert\" onclick=\"convertToInteractive('df-574f15fb-5065-45dc-bbbe-4ef7739f556a')\"\n",
              "              title=\"Convert this dataframe to an interactive table.\"\n",
              "              style=\"display:none;\">\n",
              "        \n",
              "  <svg xmlns=\"http://www.w3.org/2000/svg\" height=\"24px\"viewBox=\"0 0 24 24\"\n",
              "       width=\"24px\">\n",
              "    <path d=\"M0 0h24v24H0V0z\" fill=\"none\"/>\n",
              "    <path d=\"M18.56 5.44l.94 2.06.94-2.06 2.06-.94-2.06-.94-.94-2.06-.94 2.06-2.06.94zm-11 1L8.5 8.5l.94-2.06 2.06-.94-2.06-.94L8.5 2.5l-.94 2.06-2.06.94zm10 10l.94 2.06.94-2.06 2.06-.94-2.06-.94-.94-2.06-.94 2.06-2.06.94z\"/><path d=\"M17.41 7.96l-1.37-1.37c-.4-.4-.92-.59-1.43-.59-.52 0-1.04.2-1.43.59L10.3 9.45l-7.72 7.72c-.78.78-.78 2.05 0 2.83L4 21.41c.39.39.9.59 1.41.59.51 0 1.02-.2 1.41-.59l7.78-7.78 2.81-2.81c.8-.78.8-2.07 0-2.86zM5.41 20L4 18.59l7.72-7.72 1.47 1.35L5.41 20z\"/>\n",
              "  </svg>\n",
              "      </button>\n",
              "      \n",
              "  <style>\n",
              "    .colab-df-container {\n",
              "      display:flex;\n",
              "      flex-wrap:wrap;\n",
              "      gap: 12px;\n",
              "    }\n",
              "\n",
              "    .colab-df-convert {\n",
              "      background-color: #E8F0FE;\n",
              "      border: none;\n",
              "      border-radius: 50%;\n",
              "      cursor: pointer;\n",
              "      display: none;\n",
              "      fill: #1967D2;\n",
              "      height: 32px;\n",
              "      padding: 0 0 0 0;\n",
              "      width: 32px;\n",
              "    }\n",
              "\n",
              "    .colab-df-convert:hover {\n",
              "      background-color: #E2EBFA;\n",
              "      box-shadow: 0px 1px 2px rgba(60, 64, 67, 0.3), 0px 1px 3px 1px rgba(60, 64, 67, 0.15);\n",
              "      fill: #174EA6;\n",
              "    }\n",
              "\n",
              "    [theme=dark] .colab-df-convert {\n",
              "      background-color: #3B4455;\n",
              "      fill: #D2E3FC;\n",
              "    }\n",
              "\n",
              "    [theme=dark] .colab-df-convert:hover {\n",
              "      background-color: #434B5C;\n",
              "      box-shadow: 0px 1px 3px 1px rgba(0, 0, 0, 0.15);\n",
              "      filter: drop-shadow(0px 1px 2px rgba(0, 0, 0, 0.3));\n",
              "      fill: #FFFFFF;\n",
              "    }\n",
              "  </style>\n",
              "\n",
              "      <script>\n",
              "        const buttonEl =\n",
              "          document.querySelector('#df-574f15fb-5065-45dc-bbbe-4ef7739f556a button.colab-df-convert');\n",
              "        buttonEl.style.display =\n",
              "          google.colab.kernel.accessAllowed ? 'block' : 'none';\n",
              "\n",
              "        async function convertToInteractive(key) {\n",
              "          const element = document.querySelector('#df-574f15fb-5065-45dc-bbbe-4ef7739f556a');\n",
              "          const dataTable =\n",
              "            await google.colab.kernel.invokeFunction('convertToInteractive',\n",
              "                                                     [key], {});\n",
              "          if (!dataTable) return;\n",
              "\n",
              "          const docLinkHtml = 'Like what you see? Visit the ' +\n",
              "            '<a target=\"_blank\" href=https://colab.research.google.com/notebooks/data_table.ipynb>data table notebook</a>'\n",
              "            + ' to learn more about interactive tables.';\n",
              "          element.innerHTML = '';\n",
              "          dataTable['output_type'] = 'display_data';\n",
              "          await google.colab.output.renderOutput(dataTable, element);\n",
              "          const docLink = document.createElement('div');\n",
              "          docLink.innerHTML = docLinkHtml;\n",
              "          element.appendChild(docLink);\n",
              "        }\n",
              "      </script>\n",
              "    </div>\n",
              "  </div>\n",
              "  "
            ]
          },
          "metadata": {}
        }
      ]
    },
    {
      "cell_type": "code",
      "source": [],
      "metadata": {
        "id": "Ga3iDFFDLXIT"
      },
      "execution_count": null,
      "outputs": []
    }
  ]
}