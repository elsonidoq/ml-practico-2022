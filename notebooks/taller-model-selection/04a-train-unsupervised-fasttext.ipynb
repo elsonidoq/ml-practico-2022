{
 "cells": [
  {
   "cell_type": "code",
   "execution_count": 6,
   "id": "cd5a0116",
   "metadata": {},
   "outputs": [
    {
     "name": "stdout",
     "output_type": "stream",
     "text": [
      "Collecting fasttext\n",
      "  Downloading fasttext-0.9.2.tar.gz (68 kB)\n",
      "\u001b[K     |████████████████████████████████| 68 kB 968 kB/s eta 0:00:01\n",
      "\u001b[?25hCollecting pybind11>=2.2\n",
      "  Using cached pybind11-2.9.2-py2.py3-none-any.whl (213 kB)\n",
      "Requirement already satisfied: setuptools>=0.7.0 in /Users/przivic/miniconda3/envs/mlp2022/lib/python3.9/site-packages (from fasttext) (61.2.0)\n",
      "Requirement already satisfied: numpy in /Users/przivic/miniconda3/envs/mlp2022/lib/python3.9/site-packages (from fasttext) (1.23.0)\n",
      "Building wheels for collected packages: fasttext\n",
      "  Building wheel for fasttext (setup.py) ... \u001b[?25ldone\n",
      "\u001b[?25h  Created wheel for fasttext: filename=fasttext-0.9.2-cp39-cp39-macosx_10_16_x86_64.whl size=305024 sha256=3970d8f97611b165570bd0de216c80e6efcfaa9ae1ac7f5dc53ba485e96439b0\n",
      "  Stored in directory: /Users/przivic/Library/Caches/pip/wheels/64/57/bc/1741406019061d5664914b070bd3e71f6244648732bc96109e\n",
      "Successfully built fasttext\n",
      "Installing collected packages: pybind11, fasttext\n",
      "Successfully installed fasttext-0.9.2 pybind11-2.9.2\n"
     ]
    }
   ],
   "source": [
    "!pip install fasttext"
   ]
  },
  {
   "cell_type": "code",
   "execution_count": 9,
   "id": "4b71166a",
   "metadata": {},
   "outputs": [],
   "source": [
    "from taller_model_selection.serialize import iter_jl\n",
    "X_test = list(iter_jl('X_test.jl'))"
   ]
  },
  {
   "cell_type": "code",
   "execution_count": 11,
   "id": "8ece681b",
   "metadata": {},
   "outputs": [],
   "source": [
    "test_ids = set(d['id'] for d in X_test)"
   ]
  },
  {
   "cell_type": "code",
   "execution_count": 12,
   "id": "d71c6843",
   "metadata": {},
   "outputs": [],
   "source": [
    "import csv\n",
    "\n",
    "with open('ar_properties.csv') as f:\n",
    "    it = csv.DictReader(f)\n",
    "    titles = [doc['title'] for doc in it if doc['id'] not in test_ids]"
   ]
  },
  {
   "cell_type": "code",
   "execution_count": null,
   "id": "759f7799",
   "metadata": {},
   "outputs": [],
   "source": [
    "# maybe some preprocessing?"
   ]
  },
  {
   "cell_type": "code",
   "execution_count": 16,
   "id": "20427d0f",
   "metadata": {},
   "outputs": [],
   "source": [
    "with open('data.txt', 'w') as f:\n",
    "    f.writelines(titles)"
   ]
  },
  {
   "cell_type": "code",
   "execution_count": 17,
   "id": "d0784d0c",
   "metadata": {},
   "outputs": [
    {
     "name": "stderr",
     "output_type": "stream",
     "text": [
      "Read 6M words\n",
      "Number of words:  48060\n",
      "Number of labels: 0\n",
      "Progress: 100.0% words/sec/thread:   74778 lr:  0.000000 avg.loss:  1.619877 ETA:   0h 0m 0s 22.2% words/sec/thread:   76928 lr:  0.038911 avg.loss:  1.747737 ETA:   0h 0m48s 47.8% words/sec/thread:   78908 lr:  0.026084 avg.loss:  1.678311 ETA:   0h 0m31s 75.8% words/sec/thread:   73968 lr:  0.012120 avg.loss:  1.648272 ETA:   0h 0m15s  73935 lr:  0.007201 avg.loss:  1.634734 ETA:   0h 0m 9s\n"
     ]
    }
   ],
   "source": [
    "import fasttext\n",
    "model = fasttext.train_unsupervised('data.txt', model='skipgram')\n"
   ]
  },
  {
   "cell_type": "code",
   "execution_count": 18,
   "id": "7d53774c",
   "metadata": {},
   "outputs": [],
   "source": [
    "model.save_model(\"title_fasttext.bin\")"
   ]
  }
 ],
 "metadata": {
  "kernelspec": {
   "display_name": "Python 3 (ipykernel)",
   "language": "python",
   "name": "python3"
  },
  "language_info": {
   "codemirror_mode": {
    "name": "ipython",
    "version": 3
   },
   "file_extension": ".py",
   "mimetype": "text/x-python",
   "name": "python",
   "nbconvert_exporter": "python",
   "pygments_lexer": "ipython3",
   "version": "3.9.12"
  }
 },
 "nbformat": 4,
 "nbformat_minor": 5
}
