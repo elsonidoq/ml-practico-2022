{
  "cells": [
    {
      "cell_type": "markdown",
      "id": "805313b2",
      "metadata": {
        "id": "805313b2"
      },
      "source": [
        "# Setup en colab\n",
        "\n",
        "Crea un shortcut en tu drive de los [datos](https://drive.google.com/drive/folders/1djjceNkO42vrB10PubYTzQydfccPbzdB?usp=sharing)\n",
        "\n"
      ]
    },
    {
      "cell_type": "code",
      "source": [
        "!pip install fasttext # necesario si vas a usar los embeddings de titulo/descripcion"
      ],
      "metadata": {
        "id": "XjTyVwaRIaPT",
        "outputId": "b2f1965f-a7db-47e6-cdbb-6f8fff78710f",
        "colab": {
          "base_uri": "https://localhost:8080/"
        }
      },
      "id": "XjTyVwaRIaPT",
      "execution_count": null,
      "outputs": [
        {
          "output_type": "stream",
          "name": "stdout",
          "text": [
            "Looking in indexes: https://pypi.org/simple, https://us-python.pkg.dev/colab-wheels/public/simple/\n",
            "Collecting fasttext\n",
            "  Downloading fasttext-0.9.2.tar.gz (68 kB)\n",
            "\u001b[K     |████████████████████████████████| 68 kB 3.9 MB/s \n",
            "\u001b[?25hCollecting pybind11>=2.2\n",
            "  Using cached pybind11-2.10.0-py3-none-any.whl (213 kB)\n",
            "Requirement already satisfied: setuptools>=0.7.0 in /usr/local/lib/python3.7/dist-packages (from fasttext) (57.4.0)\n",
            "Requirement already satisfied: numpy in /usr/local/lib/python3.7/dist-packages (from fasttext) (1.21.6)\n",
            "Building wheels for collected packages: fasttext\n",
            "  Building wheel for fasttext (setup.py) ... \u001b[?25l\u001b[?25hdone\n",
            "  Created wheel for fasttext: filename=fasttext-0.9.2-cp37-cp37m-linux_x86_64.whl size=3163457 sha256=781f6dd1b5e09017a5706b00777746d425cfe6be6171712e754eedef19adc9bb\n",
            "  Stored in directory: /root/.cache/pip/wheels/4e/ca/bf/b020d2be95f7641801a6597a29c8f4f19e38f9c02a345bab9b\n",
            "Successfully built fasttext\n",
            "Installing collected packages: pybind11, fasttext\n",
            "Successfully installed fasttext-0.9.2 pybind11-2.10.0\n"
          ]
        }
      ]
    },
    {
      "cell_type": "code",
      "source": [
        "# Clonamos el repo para usar el codigo de la lib\n",
        "!git clone https://github.com/elsonidoq/ml-practico-2022.git "
      ],
      "metadata": {
        "id": "_6FOvrRfHjki",
        "outputId": "0e482fa4-5cbe-4949-dd85-90c51009d373",
        "colab": {
          "base_uri": "https://localhost:8080/"
        }
      },
      "id": "_6FOvrRfHjki",
      "execution_count": 1,
      "outputs": [
        {
          "output_type": "stream",
          "name": "stdout",
          "text": [
            "Cloning into 'ml-practico-2022'...\n",
            "remote: Enumerating objects: 303, done.\u001b[K\n",
            "remote: Counting objects: 100% (303/303), done.\u001b[K\n",
            "remote: Compressing objects: 100% (208/208), done.\u001b[K\n",
            "remote: Total 303 (delta 183), reused 208 (delta 92), pack-reused 0\u001b[K\n",
            "Receiving objects: 100% (303/303), 4.20 MiB | 11.33 MiB/s, done.\n",
            "Resolving deltas: 100% (183/183), done.\n"
          ]
        }
      ]
    },
    {
      "cell_type": "code",
      "source": [
        "import sys\n",
        "sys.path.append('ml-practico-2022/lib')"
      ],
      "metadata": {
        "id": "xy08vpEPHnhU"
      },
      "id": "xy08vpEPHnhU",
      "execution_count": 3,
      "outputs": []
    },
    {
      "cell_type": "code",
      "source": [
        "from google.colab import drive\n",
        "\n",
        "drive.mount('/content/gdrive')"
      ],
      "metadata": {
        "id": "U-qkODQTHv2G",
        "outputId": "e18bfd3b-49c9-4df8-888b-10abbc2dca36",
        "colab": {
          "base_uri": "https://localhost:8080/"
        }
      },
      "id": "U-qkODQTHv2G",
      "execution_count": 4,
      "outputs": [
        {
          "output_type": "stream",
          "name": "stdout",
          "text": [
            "Drive already mounted at /content/gdrive; to attempt to forcibly remount, call drive.mount(\"/content/gdrive\", force_remount=True).\n"
          ]
        }
      ]
    },
    {
      "cell_type": "markdown",
      "source": [
        "# Entrenamos un modelo"
      ],
      "metadata": {
        "id": "izNfwkcdMfDx"
      },
      "id": "izNfwkcdMfDx"
    },
    {
      "cell_type": "code",
      "execution_count": 5,
      "id": "2ce12c43",
      "metadata": {
        "id": "2ce12c43",
        "outputId": "c1ca305d-a868-405d-9404-08a0b1a74e44",
        "colab": {
          "base_uri": "https://localhost:8080/"
        }
      },
      "outputs": [
        {
          "output_type": "stream",
          "name": "stdout",
          "text": [
            "{'pct(train)': 0.7837289649483001, 'pct(dev)': 0.11952685477518159, 'pct(test)': 0.09674418027651828}\n"
          ]
        }
      ],
      "source": [
        "from taller_model_selection.evaluate import load_train_dev_test\n",
        "\n",
        "(X_train, y_train), (X_dev, y_dev), test = load_train_dev_test('/content/gdrive/MyDrive/taller-model-selection-data')"
      ]
    },
    {
      "cell_type": "code",
      "execution_count": 6,
      "id": "922d3f80",
      "metadata": {
        "id": "922d3f80",
        "outputId": "e205336c-5e09-4d96-d1ea-fc433c9f6280",
        "colab": {
          "base_uri": "https://localhost:8080/"
        }
      },
      "outputs": [
        {
          "output_type": "execute_result",
          "data": {
            "text/plain": [
              "('2021-03-01', '2021-04-15', '2021-05-01')"
            ]
          },
          "metadata": {},
          "execution_count": 6
        }
      ],
      "source": [
        "(\n",
        "    max([e['created_on'] for e in X_train]), \n",
        "    max([e['created_on'] for e in X_dev]), \n",
        "    max([e['created_on'] for e in test[0]])\n",
        ")"
      ]
    },
    {
      "cell_type": "code",
      "execution_count": 7,
      "id": "74754e47",
      "metadata": {
        "id": "74754e47"
      },
      "outputs": [],
      "source": [
        "import numpy as np\n",
        "\n",
        "mean_price = np.mean(y_train)\n",
        "median_price = np.median(y_train)"
      ]
    },
    {
      "cell_type": "code",
      "source": [
        "from taller_model_selection.evaluate import Evaluator\n",
        "\n",
        "evaluator = Evaluator(X_train, y_train, X_dev, y_dev)"
      ],
      "metadata": {
        "id": "jMdqjRaxKouj"
      },
      "id": "jMdqjRaxKouj",
      "execution_count": 8,
      "outputs": []
    },
    {
      "cell_type": "code",
      "source": [
        "evaluator.eval_prediction('mean_price', y_hat_train=[mean_price] * len(y_train), y_hat_dev=[mean_price] * len(y_dev))"
      ],
      "metadata": {
        "id": "vWNLpnZJKwp1",
        "outputId": "e4d21586-eb84-465b-bb9c-7985cc4aac0a",
        "colab": {
          "base_uri": "https://localhost:8080/"
        }
      },
      "id": "vWNLpnZJKwp1",
      "execution_count": 9,
      "outputs": [
        {
          "output_type": "execute_result",
          "data": {
            "text/plain": [
              "{'name': 'mean_price', 'train': 480141.3676039339, 'dev': 466108.16479362577}"
            ]
          },
          "metadata": {},
          "execution_count": 9
        }
      ]
    },
    {
      "cell_type": "code",
      "source": [
        "evaluator.eval_prediction('median_price', y_hat_train=[median_price] * len(y_train), y_hat_dev=[median_price] * len(y_dev))"
      ],
      "metadata": {
        "id": "giL6nvItLpXX",
        "outputId": "a230540c-2553-4a87-9ab7-1388216f47a1",
        "colab": {
          "base_uri": "https://localhost:8080/"
        }
      },
      "id": "giL6nvItLpXX",
      "execution_count": 10,
      "outputs": [
        {
          "output_type": "execute_result",
          "data": {
            "text/plain": [
              "{'name': 'median_price', 'train': 497116.9988004173, 'dev': 479062.4340803305}"
            ]
          },
          "metadata": {},
          "execution_count": 10
        }
      ]
    },
    {
      "cell_type": "code",
      "execution_count": 11,
      "id": "30b07210",
      "metadata": {
        "id": "30b07210",
        "outputId": "f858e657-82fd-47df-c6c7-b988d828f33b",
        "colab": {
          "base_uri": "https://localhost:8080/",
          "height": 112
        }
      },
      "outputs": [
        {
          "output_type": "execute_result",
          "data": {
            "text/plain": [
              "           name          train            dev\n",
              "0    mean_price  480141.367604  466108.164794\n",
              "1  median_price  497116.998800  479062.434080"
            ],
            "text/html": [
              "\n",
              "  <div id=\"df-925750cb-7e4b-4361-9581-6d5e6cb1456c\">\n",
              "    <div class=\"colab-df-container\">\n",
              "      <div>\n",
              "<style scoped>\n",
              "    .dataframe tbody tr th:only-of-type {\n",
              "        vertical-align: middle;\n",
              "    }\n",
              "\n",
              "    .dataframe tbody tr th {\n",
              "        vertical-align: top;\n",
              "    }\n",
              "\n",
              "    .dataframe thead th {\n",
              "        text-align: right;\n",
              "    }\n",
              "</style>\n",
              "<table border=\"1\" class=\"dataframe\">\n",
              "  <thead>\n",
              "    <tr style=\"text-align: right;\">\n",
              "      <th></th>\n",
              "      <th>name</th>\n",
              "      <th>train</th>\n",
              "      <th>dev</th>\n",
              "    </tr>\n",
              "  </thead>\n",
              "  <tbody>\n",
              "    <tr>\n",
              "      <th>0</th>\n",
              "      <td>mean_price</td>\n",
              "      <td>480141.367604</td>\n",
              "      <td>466108.164794</td>\n",
              "    </tr>\n",
              "    <tr>\n",
              "      <th>1</th>\n",
              "      <td>median_price</td>\n",
              "      <td>497116.998800</td>\n",
              "      <td>479062.434080</td>\n",
              "    </tr>\n",
              "  </tbody>\n",
              "</table>\n",
              "</div>\n",
              "      <button class=\"colab-df-convert\" onclick=\"convertToInteractive('df-925750cb-7e4b-4361-9581-6d5e6cb1456c')\"\n",
              "              title=\"Convert this dataframe to an interactive table.\"\n",
              "              style=\"display:none;\">\n",
              "        \n",
              "  <svg xmlns=\"http://www.w3.org/2000/svg\" height=\"24px\"viewBox=\"0 0 24 24\"\n",
              "       width=\"24px\">\n",
              "    <path d=\"M0 0h24v24H0V0z\" fill=\"none\"/>\n",
              "    <path d=\"M18.56 5.44l.94 2.06.94-2.06 2.06-.94-2.06-.94-.94-2.06-.94 2.06-2.06.94zm-11 1L8.5 8.5l.94-2.06 2.06-.94-2.06-.94L8.5 2.5l-.94 2.06-2.06.94zm10 10l.94 2.06.94-2.06 2.06-.94-2.06-.94-.94-2.06-.94 2.06-2.06.94z\"/><path d=\"M17.41 7.96l-1.37-1.37c-.4-.4-.92-.59-1.43-.59-.52 0-1.04.2-1.43.59L10.3 9.45l-7.72 7.72c-.78.78-.78 2.05 0 2.83L4 21.41c.39.39.9.59 1.41.59.51 0 1.02-.2 1.41-.59l7.78-7.78 2.81-2.81c.8-.78.8-2.07 0-2.86zM5.41 20L4 18.59l7.72-7.72 1.47 1.35L5.41 20z\"/>\n",
              "  </svg>\n",
              "      </button>\n",
              "      \n",
              "  <style>\n",
              "    .colab-df-container {\n",
              "      display:flex;\n",
              "      flex-wrap:wrap;\n",
              "      gap: 12px;\n",
              "    }\n",
              "\n",
              "    .colab-df-convert {\n",
              "      background-color: #E8F0FE;\n",
              "      border: none;\n",
              "      border-radius: 50%;\n",
              "      cursor: pointer;\n",
              "      display: none;\n",
              "      fill: #1967D2;\n",
              "      height: 32px;\n",
              "      padding: 0 0 0 0;\n",
              "      width: 32px;\n",
              "    }\n",
              "\n",
              "    .colab-df-convert:hover {\n",
              "      background-color: #E2EBFA;\n",
              "      box-shadow: 0px 1px 2px rgba(60, 64, 67, 0.3), 0px 1px 3px 1px rgba(60, 64, 67, 0.15);\n",
              "      fill: #174EA6;\n",
              "    }\n",
              "\n",
              "    [theme=dark] .colab-df-convert {\n",
              "      background-color: #3B4455;\n",
              "      fill: #D2E3FC;\n",
              "    }\n",
              "\n",
              "    [theme=dark] .colab-df-convert:hover {\n",
              "      background-color: #434B5C;\n",
              "      box-shadow: 0px 1px 3px 1px rgba(0, 0, 0, 0.15);\n",
              "      filter: drop-shadow(0px 1px 2px rgba(0, 0, 0, 0.3));\n",
              "      fill: #FFFFFF;\n",
              "    }\n",
              "  </style>\n",
              "\n",
              "      <script>\n",
              "        const buttonEl =\n",
              "          document.querySelector('#df-925750cb-7e4b-4361-9581-6d5e6cb1456c button.colab-df-convert');\n",
              "        buttonEl.style.display =\n",
              "          google.colab.kernel.accessAllowed ? 'block' : 'none';\n",
              "\n",
              "        async function convertToInteractive(key) {\n",
              "          const element = document.querySelector('#df-925750cb-7e4b-4361-9581-6d5e6cb1456c');\n",
              "          const dataTable =\n",
              "            await google.colab.kernel.invokeFunction('convertToInteractive',\n",
              "                                                     [key], {});\n",
              "          if (!dataTable) return;\n",
              "\n",
              "          const docLinkHtml = 'Like what you see? Visit the ' +\n",
              "            '<a target=\"_blank\" href=https://colab.research.google.com/notebooks/data_table.ipynb>data table notebook</a>'\n",
              "            + ' to learn more about interactive tables.';\n",
              "          element.innerHTML = '';\n",
              "          dataTable['output_type'] = 'display_data';\n",
              "          await google.colab.output.renderOutput(dataTable, element);\n",
              "          const docLink = document.createElement('div');\n",
              "          docLink.innerHTML = docLinkHtml;\n",
              "          element.appendChild(docLink);\n",
              "        }\n",
              "      </script>\n",
              "    </div>\n",
              "  </div>\n",
              "  "
            ]
          },
          "metadata": {},
          "execution_count": 11
        }
      ],
      "source": [
        "import pandas as pd\n",
        "\n",
        "pd.DataFrame(evaluator.evaluations)"
      ]
    },
    {
      "cell_type": "markdown",
      "id": "ba67f109",
      "metadata": {
        "id": "ba67f109"
      },
      "source": [
        "# Fit the model"
      ]
    },
    {
      "cell_type": "code",
      "execution_count": 12,
      "id": "aede4c7f",
      "metadata": {
        "id": "aede4c7f"
      },
      "outputs": [],
      "source": [
        "from taller_model_selection.transformers import FeatureProjection, TargetEncoder, ZonePriceM2\n",
        "from sklearn.pipeline import make_pipeline, make_union\n",
        "from sklearn.preprocessing import OneHotEncoder\n",
        "from sklearn.impute import SimpleImputer\n",
        "from sklearn.linear_model import LinearRegression\n",
        "from sklearn.ensemble import RandomForestRegressor\n",
        "\n",
        "features_pipe =  make_union(\n",
        "    make_pipeline(\n",
        "        FeatureProjection(['rooms', 'bedrooms', 'bathrooms', 'surface_total', 'surface_covered']),\n",
        "        SimpleImputer()\n",
        "    ),\n",
        "    # make_pipeline(\n",
        "    #     FeatureProjection(['l3']), \n",
        "    #     SimpleImputer(strategy='most_frequent'),\n",
        "    #     OneHotEncoder(sparse=False, drop='first')\n",
        "    # ), \n",
        "    # Podes probar usar target encoder, one hot, o ambos\n",
        "    TargetEncoder('l3'),\n",
        "    ZonePriceM2(n_neighbours=30),\n",
        "    make_pipeline(\n",
        "        FeatureProjection(['l4']), \n",
        "        SimpleImputer(strategy='constant'),\n",
        "        OneHotEncoder(sparse=False, drop='first')\n",
        "    ), \n",
        ")\n",
        "\n",
        "lr_pipe = make_pipeline(\n",
        "    features_pipe,\n",
        "    LinearRegression()\n",
        ")\n",
        "\n",
        "rf_pipe = make_pipeline(\n",
        "    features_pipe,\n",
        "    RandomForestRegressor(n_estimators=20)\n",
        ")"
      ]
    },
    {
      "cell_type": "code",
      "execution_count": 13,
      "id": "e9347763",
      "metadata": {
        "id": "e9347763",
        "outputId": "195724a4-bfe8-4f75-b811-d328bd11e3e0",
        "colab": {
          "base_uri": "https://localhost:8080/"
        }
      },
      "outputs": [
        {
          "output_type": "execute_result",
          "data": {
            "text/plain": [
              "Pipeline(steps=[('featureunion',\n",
              "                 FeatureUnion(transformer_list=[('pipeline-1',\n",
              "                                                 Pipeline(steps=[('featureprojection',\n",
              "                                                                  FeatureProjection(fields=['rooms',\n",
              "                                                                                            'bedrooms',\n",
              "                                                                                            'bathrooms',\n",
              "                                                                                            'surface_total',\n",
              "                                                                                            'surface_covered'])),\n",
              "                                                                 ('simpleimputer',\n",
              "                                                                  SimpleImputer())])),\n",
              "                                                ('targetencoder',\n",
              "                                                 TargetEncoder(categorical_field='l3')),\n",
              "                                                ('zonepricem2',\n",
              "                                                 ZonePriceM2(n_neighbours=30)),\n",
              "                                                ('pipeline-2',\n",
              "                                                 Pipeline(steps=[('featureprojection',\n",
              "                                                                  FeatureProjection(fields=['l4'])),\n",
              "                                                                 ('simpleimputer',\n",
              "                                                                  SimpleImputer(strategy='constant')),\n",
              "                                                                 ('onehotencoder',\n",
              "                                                                  OneHotEncoder(drop='first',\n",
              "                                                                                sparse=False))]))])),\n",
              "                ('linearregression', LinearRegression())])"
            ]
          },
          "metadata": {},
          "execution_count": 13
        }
      ],
      "source": [
        "lr_pipe.fit(X_train, y_train)"
      ]
    },
    {
      "cell_type": "code",
      "execution_count": 14,
      "id": "5dc1a16c",
      "metadata": {
        "id": "5dc1a16c",
        "outputId": "c88a884c-6394-4e40-a078-e92a2a613252",
        "colab": {
          "base_uri": "https://localhost:8080/"
        }
      },
      "outputs": [
        {
          "output_type": "execute_result",
          "data": {
            "text/plain": [
              "Pipeline(steps=[('featureunion',\n",
              "                 FeatureUnion(transformer_list=[('pipeline-1',\n",
              "                                                 Pipeline(steps=[('featureprojection',\n",
              "                                                                  FeatureProjection(fields=['rooms',\n",
              "                                                                                            'bedrooms',\n",
              "                                                                                            'bathrooms',\n",
              "                                                                                            'surface_total',\n",
              "                                                                                            'surface_covered'])),\n",
              "                                                                 ('simpleimputer',\n",
              "                                                                  SimpleImputer())])),\n",
              "                                                ('targetencoder',\n",
              "                                                 TargetEncoder(categorical_field='l3')),\n",
              "                                                ('zonepricem2',\n",
              "                                                 ZonePriceM2(n_neighbours=30)),\n",
              "                                                ('pipeline-2',\n",
              "                                                 Pipeline(steps=[('featureprojection',\n",
              "                                                                  FeatureProjection(fields=['l4'])),\n",
              "                                                                 ('simpleimputer',\n",
              "                                                                  SimpleImputer(strategy='constant')),\n",
              "                                                                 ('onehotencoder',\n",
              "                                                                  OneHotEncoder(drop='first',\n",
              "                                                                                sparse=False))]))])),\n",
              "                ('randomforestregressor',\n",
              "                 RandomForestRegressor(n_estimators=20))])"
            ]
          },
          "metadata": {},
          "execution_count": 14
        }
      ],
      "source": [
        "rf_pipe.fit(X_train, y_train)"
      ]
    },
    {
      "cell_type": "code",
      "source": [
        "evaluator.eval_pipe('lr', lr_pipe)"
      ],
      "metadata": {
        "id": "0N9-kQthLgq4",
        "outputId": "bc042455-1de2-4718-a13c-f8afff605c18",
        "colab": {
          "base_uri": "https://localhost:8080/"
        }
      },
      "id": "0N9-kQthLgq4",
      "execution_count": 15,
      "outputs": [
        {
          "output_type": "execute_result",
          "data": {
            "text/plain": [
              "{'name': 'lr', 'train': 412717.99760629795, 'dev': 383277.0329103061}"
            ]
          },
          "metadata": {},
          "execution_count": 15
        }
      ]
    },
    {
      "cell_type": "code",
      "source": [
        "evaluator.eval_pipe('rf', rf_pipe)"
      ],
      "metadata": {
        "id": "nVSQC5VOLjnS",
        "outputId": "391de3d0-171c-4efc-e676-a7db3c30c8e9",
        "colab": {
          "base_uri": "https://localhost:8080/"
        }
      },
      "id": "nVSQC5VOLjnS",
      "execution_count": 16,
      "outputs": [
        {
          "output_type": "execute_result",
          "data": {
            "text/plain": [
              "{'name': 'rf', 'train': 125194.33868734422, 'dev': 281033.71568531956}"
            ]
          },
          "metadata": {},
          "execution_count": 16
        }
      ]
    },
    {
      "cell_type": "code",
      "execution_count": 17,
      "id": "5f1b1151",
      "metadata": {
        "id": "5f1b1151",
        "outputId": "1fd0d765-aab0-4806-e4ca-2ab5a3daa1e0",
        "colab": {
          "base_uri": "https://localhost:8080/",
          "height": 175
        }
      },
      "outputs": [
        {
          "output_type": "execute_result",
          "data": {
            "text/plain": [
              "           name          train            dev\n",
              "0    mean_price  480141.367604  466108.164794\n",
              "1  median_price  497116.998800  479062.434080\n",
              "2            lr  412717.997606  383277.032910\n",
              "3            rf  125194.338687  281033.715685"
            ],
            "text/html": [
              "\n",
              "  <div id=\"df-ea968f3a-7a9a-4da8-93fc-404ce9d2e8bc\">\n",
              "    <div class=\"colab-df-container\">\n",
              "      <div>\n",
              "<style scoped>\n",
              "    .dataframe tbody tr th:only-of-type {\n",
              "        vertical-align: middle;\n",
              "    }\n",
              "\n",
              "    .dataframe tbody tr th {\n",
              "        vertical-align: top;\n",
              "    }\n",
              "\n",
              "    .dataframe thead th {\n",
              "        text-align: right;\n",
              "    }\n",
              "</style>\n",
              "<table border=\"1\" class=\"dataframe\">\n",
              "  <thead>\n",
              "    <tr style=\"text-align: right;\">\n",
              "      <th></th>\n",
              "      <th>name</th>\n",
              "      <th>train</th>\n",
              "      <th>dev</th>\n",
              "    </tr>\n",
              "  </thead>\n",
              "  <tbody>\n",
              "    <tr>\n",
              "      <th>0</th>\n",
              "      <td>mean_price</td>\n",
              "      <td>480141.367604</td>\n",
              "      <td>466108.164794</td>\n",
              "    </tr>\n",
              "    <tr>\n",
              "      <th>1</th>\n",
              "      <td>median_price</td>\n",
              "      <td>497116.998800</td>\n",
              "      <td>479062.434080</td>\n",
              "    </tr>\n",
              "    <tr>\n",
              "      <th>2</th>\n",
              "      <td>lr</td>\n",
              "      <td>412717.997606</td>\n",
              "      <td>383277.032910</td>\n",
              "    </tr>\n",
              "    <tr>\n",
              "      <th>3</th>\n",
              "      <td>rf</td>\n",
              "      <td>125194.338687</td>\n",
              "      <td>281033.715685</td>\n",
              "    </tr>\n",
              "  </tbody>\n",
              "</table>\n",
              "</div>\n",
              "      <button class=\"colab-df-convert\" onclick=\"convertToInteractive('df-ea968f3a-7a9a-4da8-93fc-404ce9d2e8bc')\"\n",
              "              title=\"Convert this dataframe to an interactive table.\"\n",
              "              style=\"display:none;\">\n",
              "        \n",
              "  <svg xmlns=\"http://www.w3.org/2000/svg\" height=\"24px\"viewBox=\"0 0 24 24\"\n",
              "       width=\"24px\">\n",
              "    <path d=\"M0 0h24v24H0V0z\" fill=\"none\"/>\n",
              "    <path d=\"M18.56 5.44l.94 2.06.94-2.06 2.06-.94-2.06-.94-.94-2.06-.94 2.06-2.06.94zm-11 1L8.5 8.5l.94-2.06 2.06-.94-2.06-.94L8.5 2.5l-.94 2.06-2.06.94zm10 10l.94 2.06.94-2.06 2.06-.94-2.06-.94-.94-2.06-.94 2.06-2.06.94z\"/><path d=\"M17.41 7.96l-1.37-1.37c-.4-.4-.92-.59-1.43-.59-.52 0-1.04.2-1.43.59L10.3 9.45l-7.72 7.72c-.78.78-.78 2.05 0 2.83L4 21.41c.39.39.9.59 1.41.59.51 0 1.02-.2 1.41-.59l7.78-7.78 2.81-2.81c.8-.78.8-2.07 0-2.86zM5.41 20L4 18.59l7.72-7.72 1.47 1.35L5.41 20z\"/>\n",
              "  </svg>\n",
              "      </button>\n",
              "      \n",
              "  <style>\n",
              "    .colab-df-container {\n",
              "      display:flex;\n",
              "      flex-wrap:wrap;\n",
              "      gap: 12px;\n",
              "    }\n",
              "\n",
              "    .colab-df-convert {\n",
              "      background-color: #E8F0FE;\n",
              "      border: none;\n",
              "      border-radius: 50%;\n",
              "      cursor: pointer;\n",
              "      display: none;\n",
              "      fill: #1967D2;\n",
              "      height: 32px;\n",
              "      padding: 0 0 0 0;\n",
              "      width: 32px;\n",
              "    }\n",
              "\n",
              "    .colab-df-convert:hover {\n",
              "      background-color: #E2EBFA;\n",
              "      box-shadow: 0px 1px 2px rgba(60, 64, 67, 0.3), 0px 1px 3px 1px rgba(60, 64, 67, 0.15);\n",
              "      fill: #174EA6;\n",
              "    }\n",
              "\n",
              "    [theme=dark] .colab-df-convert {\n",
              "      background-color: #3B4455;\n",
              "      fill: #D2E3FC;\n",
              "    }\n",
              "\n",
              "    [theme=dark] .colab-df-convert:hover {\n",
              "      background-color: #434B5C;\n",
              "      box-shadow: 0px 1px 3px 1px rgba(0, 0, 0, 0.15);\n",
              "      filter: drop-shadow(0px 1px 2px rgba(0, 0, 0, 0.3));\n",
              "      fill: #FFFFFF;\n",
              "    }\n",
              "  </style>\n",
              "\n",
              "      <script>\n",
              "        const buttonEl =\n",
              "          document.querySelector('#df-ea968f3a-7a9a-4da8-93fc-404ce9d2e8bc button.colab-df-convert');\n",
              "        buttonEl.style.display =\n",
              "          google.colab.kernel.accessAllowed ? 'block' : 'none';\n",
              "\n",
              "        async function convertToInteractive(key) {\n",
              "          const element = document.querySelector('#df-ea968f3a-7a9a-4da8-93fc-404ce9d2e8bc');\n",
              "          const dataTable =\n",
              "            await google.colab.kernel.invokeFunction('convertToInteractive',\n",
              "                                                     [key], {});\n",
              "          if (!dataTable) return;\n",
              "\n",
              "          const docLinkHtml = 'Like what you see? Visit the ' +\n",
              "            '<a target=\"_blank\" href=https://colab.research.google.com/notebooks/data_table.ipynb>data table notebook</a>'\n",
              "            + ' to learn more about interactive tables.';\n",
              "          element.innerHTML = '';\n",
              "          dataTable['output_type'] = 'display_data';\n",
              "          await google.colab.output.renderOutput(dataTable, element);\n",
              "          const docLink = document.createElement('div');\n",
              "          docLink.innerHTML = docLinkHtml;\n",
              "          element.appendChild(docLink);\n",
              "        }\n",
              "      </script>\n",
              "    </div>\n",
              "  </div>\n",
              "  "
            ]
          },
          "metadata": {},
          "execution_count": 17
        }
      ],
      "source": [
        "df = pd.DataFrame(evaluator.evaluations)\n",
        "df"
      ]
    },
    {
      "cell_type": "code",
      "execution_count": 18,
      "id": "7c75a54b",
      "metadata": {
        "id": "7c75a54b",
        "outputId": "a4ebdd1f-e887-4933-b53c-011813ed0a37",
        "colab": {
          "base_uri": "https://localhost:8080/",
          "height": 175
        }
      },
      "outputs": [
        {
          "output_type": "execute_result",
          "data": {
            "text/plain": [
              "           name          train            dev  pct_lift\n",
              "3            rf  125194.338687  281033.715685  0.586633\n",
              "2            lr  412717.997606  383277.032910  0.800057\n",
              "0    mean_price  480141.367604  466108.164794  0.972959\n",
              "1  median_price  497116.998800  479062.434080  1.000000"
            ],
            "text/html": [
              "\n",
              "  <div id=\"df-3568397c-9718-495e-bb3d-15fe5516415e\">\n",
              "    <div class=\"colab-df-container\">\n",
              "      <div>\n",
              "<style scoped>\n",
              "    .dataframe tbody tr th:only-of-type {\n",
              "        vertical-align: middle;\n",
              "    }\n",
              "\n",
              "    .dataframe tbody tr th {\n",
              "        vertical-align: top;\n",
              "    }\n",
              "\n",
              "    .dataframe thead th {\n",
              "        text-align: right;\n",
              "    }\n",
              "</style>\n",
              "<table border=\"1\" class=\"dataframe\">\n",
              "  <thead>\n",
              "    <tr style=\"text-align: right;\">\n",
              "      <th></th>\n",
              "      <th>name</th>\n",
              "      <th>train</th>\n",
              "      <th>dev</th>\n",
              "      <th>pct_lift</th>\n",
              "    </tr>\n",
              "  </thead>\n",
              "  <tbody>\n",
              "    <tr>\n",
              "      <th>3</th>\n",
              "      <td>rf</td>\n",
              "      <td>125194.338687</td>\n",
              "      <td>281033.715685</td>\n",
              "      <td>0.586633</td>\n",
              "    </tr>\n",
              "    <tr>\n",
              "      <th>2</th>\n",
              "      <td>lr</td>\n",
              "      <td>412717.997606</td>\n",
              "      <td>383277.032910</td>\n",
              "      <td>0.800057</td>\n",
              "    </tr>\n",
              "    <tr>\n",
              "      <th>0</th>\n",
              "      <td>mean_price</td>\n",
              "      <td>480141.367604</td>\n",
              "      <td>466108.164794</td>\n",
              "      <td>0.972959</td>\n",
              "    </tr>\n",
              "    <tr>\n",
              "      <th>1</th>\n",
              "      <td>median_price</td>\n",
              "      <td>497116.998800</td>\n",
              "      <td>479062.434080</td>\n",
              "      <td>1.000000</td>\n",
              "    </tr>\n",
              "  </tbody>\n",
              "</table>\n",
              "</div>\n",
              "      <button class=\"colab-df-convert\" onclick=\"convertToInteractive('df-3568397c-9718-495e-bb3d-15fe5516415e')\"\n",
              "              title=\"Convert this dataframe to an interactive table.\"\n",
              "              style=\"display:none;\">\n",
              "        \n",
              "  <svg xmlns=\"http://www.w3.org/2000/svg\" height=\"24px\"viewBox=\"0 0 24 24\"\n",
              "       width=\"24px\">\n",
              "    <path d=\"M0 0h24v24H0V0z\" fill=\"none\"/>\n",
              "    <path d=\"M18.56 5.44l.94 2.06.94-2.06 2.06-.94-2.06-.94-.94-2.06-.94 2.06-2.06.94zm-11 1L8.5 8.5l.94-2.06 2.06-.94-2.06-.94L8.5 2.5l-.94 2.06-2.06.94zm10 10l.94 2.06.94-2.06 2.06-.94-2.06-.94-.94-2.06-.94 2.06-2.06.94z\"/><path d=\"M17.41 7.96l-1.37-1.37c-.4-.4-.92-.59-1.43-.59-.52 0-1.04.2-1.43.59L10.3 9.45l-7.72 7.72c-.78.78-.78 2.05 0 2.83L4 21.41c.39.39.9.59 1.41.59.51 0 1.02-.2 1.41-.59l7.78-7.78 2.81-2.81c.8-.78.8-2.07 0-2.86zM5.41 20L4 18.59l7.72-7.72 1.47 1.35L5.41 20z\"/>\n",
              "  </svg>\n",
              "      </button>\n",
              "      \n",
              "  <style>\n",
              "    .colab-df-container {\n",
              "      display:flex;\n",
              "      flex-wrap:wrap;\n",
              "      gap: 12px;\n",
              "    }\n",
              "\n",
              "    .colab-df-convert {\n",
              "      background-color: #E8F0FE;\n",
              "      border: none;\n",
              "      border-radius: 50%;\n",
              "      cursor: pointer;\n",
              "      display: none;\n",
              "      fill: #1967D2;\n",
              "      height: 32px;\n",
              "      padding: 0 0 0 0;\n",
              "      width: 32px;\n",
              "    }\n",
              "\n",
              "    .colab-df-convert:hover {\n",
              "      background-color: #E2EBFA;\n",
              "      box-shadow: 0px 1px 2px rgba(60, 64, 67, 0.3), 0px 1px 3px 1px rgba(60, 64, 67, 0.15);\n",
              "      fill: #174EA6;\n",
              "    }\n",
              "\n",
              "    [theme=dark] .colab-df-convert {\n",
              "      background-color: #3B4455;\n",
              "      fill: #D2E3FC;\n",
              "    }\n",
              "\n",
              "    [theme=dark] .colab-df-convert:hover {\n",
              "      background-color: #434B5C;\n",
              "      box-shadow: 0px 1px 3px 1px rgba(0, 0, 0, 0.15);\n",
              "      filter: drop-shadow(0px 1px 2px rgba(0, 0, 0, 0.3));\n",
              "      fill: #FFFFFF;\n",
              "    }\n",
              "  </style>\n",
              "\n",
              "      <script>\n",
              "        const buttonEl =\n",
              "          document.querySelector('#df-3568397c-9718-495e-bb3d-15fe5516415e button.colab-df-convert');\n",
              "        buttonEl.style.display =\n",
              "          google.colab.kernel.accessAllowed ? 'block' : 'none';\n",
              "\n",
              "        async function convertToInteractive(key) {\n",
              "          const element = document.querySelector('#df-3568397c-9718-495e-bb3d-15fe5516415e');\n",
              "          const dataTable =\n",
              "            await google.colab.kernel.invokeFunction('convertToInteractive',\n",
              "                                                     [key], {});\n",
              "          if (!dataTable) return;\n",
              "\n",
              "          const docLinkHtml = 'Like what you see? Visit the ' +\n",
              "            '<a target=\"_blank\" href=https://colab.research.google.com/notebooks/data_table.ipynb>data table notebook</a>'\n",
              "            + ' to learn more about interactive tables.';\n",
              "          element.innerHTML = '';\n",
              "          dataTable['output_type'] = 'display_data';\n",
              "          await google.colab.output.renderOutput(dataTable, element);\n",
              "          const docLink = document.createElement('div');\n",
              "          docLink.innerHTML = docLinkHtml;\n",
              "          element.appendChild(docLink);\n",
              "        }\n",
              "      </script>\n",
              "    </div>\n",
              "  </div>\n",
              "  "
            ]
          },
          "metadata": {},
          "execution_count": 18
        }
      ],
      "source": [
        "df['pct_lift'] = df.dev / df.dev.max()\n",
        "df.sort_values('dev')"
      ]
    }
  ],
  "metadata": {
    "kernelspec": {
      "display_name": "Python 3 (ipykernel)",
      "language": "python",
      "name": "python3"
    },
    "language_info": {
      "codemirror_mode": {
        "name": "ipython",
        "version": 3
      },
      "file_extension": ".py",
      "mimetype": "text/x-python",
      "name": "python",
      "nbconvert_exporter": "python",
      "pygments_lexer": "ipython3",
      "version": "3.9.12"
    },
    "colab": {
      "provenance": []
    }
  },
  "nbformat": 4,
  "nbformat_minor": 5
}