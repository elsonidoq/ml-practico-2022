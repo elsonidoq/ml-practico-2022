{
  "cells": [
    {
      "cell_type": "markdown",
      "id": "805313b2",
      "metadata": {
        "id": "805313b2"
      },
      "source": [
        "# Setup en colab\n",
        "\n",
        "Crea un shortcut en tu drive de los [datos](https://drive.google.com/drive/folders/1djjceNkO42vrB10PubYTzQydfccPbzdB?usp=sharing)\n",
        "\n"
      ]
    },
    {
      "cell_type": "code",
      "source": [
        "!pip install fasttext # necesario para importar los modulos"
      ],
      "metadata": {
        "id": "XjTyVwaRIaPT",
        "outputId": "b2f1965f-a7db-47e6-cdbb-6f8fff78710f",
        "colab": {
          "base_uri": "https://localhost:8080/"
        }
      },
      "id": "XjTyVwaRIaPT",
      "execution_count": 12,
      "outputs": [
        {
          "output_type": "stream",
          "name": "stdout",
          "text": [
            "Looking in indexes: https://pypi.org/simple, https://us-python.pkg.dev/colab-wheels/public/simple/\n",
            "Collecting fasttext\n",
            "  Downloading fasttext-0.9.2.tar.gz (68 kB)\n",
            "\u001b[K     |████████████████████████████████| 68 kB 3.9 MB/s \n",
            "\u001b[?25hCollecting pybind11>=2.2\n",
            "  Using cached pybind11-2.10.0-py3-none-any.whl (213 kB)\n",
            "Requirement already satisfied: setuptools>=0.7.0 in /usr/local/lib/python3.7/dist-packages (from fasttext) (57.4.0)\n",
            "Requirement already satisfied: numpy in /usr/local/lib/python3.7/dist-packages (from fasttext) (1.21.6)\n",
            "Building wheels for collected packages: fasttext\n",
            "  Building wheel for fasttext (setup.py) ... \u001b[?25l\u001b[?25hdone\n",
            "  Created wheel for fasttext: filename=fasttext-0.9.2-cp37-cp37m-linux_x86_64.whl size=3163457 sha256=781f6dd1b5e09017a5706b00777746d425cfe6be6171712e754eedef19adc9bb\n",
            "  Stored in directory: /root/.cache/pip/wheels/4e/ca/bf/b020d2be95f7641801a6597a29c8f4f19e38f9c02a345bab9b\n",
            "Successfully built fasttext\n",
            "Installing collected packages: pybind11, fasttext\n",
            "Successfully installed fasttext-0.9.2 pybind11-2.10.0\n"
          ]
        }
      ]
    },
    {
      "cell_type": "code",
      "source": [
        "# Clonamos el repo para usar el codigo de la lib\n",
        "!git clone https://github.com/elsonidoq/ml-practico-2022.git "
      ],
      "metadata": {
        "id": "_6FOvrRfHjki",
        "outputId": "6968f00a-2472-4dc3-b3a7-f001abcf1449",
        "colab": {
          "base_uri": "https://localhost:8080/"
        }
      },
      "id": "_6FOvrRfHjki",
      "execution_count": 1,
      "outputs": [
        {
          "output_type": "stream",
          "name": "stdout",
          "text": [
            "Cloning into 'ml-practico-2022'...\n",
            "remote: Enumerating objects: 139, done.\u001b[K\n",
            "remote: Counting objects: 100% (139/139), done.\u001b[K\n",
            "remote: Compressing objects: 100% (100/100), done.\u001b[K\n",
            "remote: Total 139 (delta 60), reused 111 (delta 36), pack-reused 0\u001b[K\n",
            "Receiving objects: 100% (139/139), 2.78 MiB | 7.30 MiB/s, done.\n",
            "Resolving deltas: 100% (60/60), done.\n"
          ]
        }
      ]
    },
    {
      "cell_type": "code",
      "source": [
        "import sys\n",
        "sys.path.append('ml-practico-2022/lib')"
      ],
      "metadata": {
        "id": "xy08vpEPHnhU"
      },
      "id": "xy08vpEPHnhU",
      "execution_count": 2,
      "outputs": []
    },
    {
      "cell_type": "code",
      "source": [
        "from google.colab import drive\n",
        "\n",
        "drive.mount('/content/gdrive')"
      ],
      "metadata": {
        "id": "U-qkODQTHv2G",
        "outputId": "c9d4baa2-0940-4980-a257-d31afa515de6",
        "colab": {
          "base_uri": "https://localhost:8080/"
        }
      },
      "id": "U-qkODQTHv2G",
      "execution_count": 3,
      "outputs": [
        {
          "output_type": "stream",
          "name": "stdout",
          "text": [
            "Drive already mounted at /content/gdrive; to attempt to forcibly remount, call drive.mount(\"/content/gdrive\", force_remount=True).\n"
          ]
        }
      ]
    },
    {
      "cell_type": "markdown",
      "source": [
        "# Entrenamos un modelo"
      ],
      "metadata": {
        "id": "izNfwkcdMfDx"
      },
      "id": "izNfwkcdMfDx"
    },
    {
      "cell_type": "code",
      "execution_count": 4,
      "id": "2ce12c43",
      "metadata": {
        "id": "2ce12c43",
        "outputId": "c804f212-7e0a-4060-d20d-9e67239c7669",
        "colab": {
          "base_uri": "https://localhost:8080/"
        }
      },
      "outputs": [
        {
          "output_type": "stream",
          "name": "stdout",
          "text": [
            "{'pct(train)': 0.7837289649483001, 'pct(dev)': 0.11952685477518159, 'pct(test)': 0.09674418027651828}\n"
          ]
        }
      ],
      "source": [
        "from taller_model_selection.evaluate import load_train_dev_test\n",
        "\n",
        "(X_train, y_train), (X_dev, y_dev), test = load_train_dev_test('/content/gdrive/MyDrive/taller-model-selection-data')"
      ]
    },
    {
      "cell_type": "code",
      "execution_count": 5,
      "id": "922d3f80",
      "metadata": {
        "id": "922d3f80",
        "outputId": "fe0c6dea-0c09-4051-a43a-897162e580d4",
        "colab": {
          "base_uri": "https://localhost:8080/"
        }
      },
      "outputs": [
        {
          "output_type": "execute_result",
          "data": {
            "text/plain": [
              "('2021-03-01', '2021-04-15', '2021-05-01')"
            ]
          },
          "metadata": {},
          "execution_count": 5
        }
      ],
      "source": [
        "(\n",
        "    max([e['created_on'] for e in X_train]), \n",
        "    max([e['created_on'] for e in X_dev]), \n",
        "    max([e['created_on'] for e in test[0]])\n",
        ")"
      ]
    },
    {
      "cell_type": "code",
      "execution_count": 6,
      "id": "74754e47",
      "metadata": {
        "id": "74754e47"
      },
      "outputs": [],
      "source": [
        "import numpy as np\n",
        "\n",
        "mean_price = np.mean(y_train)\n",
        "median_price = np.median(y_train)"
      ]
    },
    {
      "cell_type": "code",
      "source": [
        "\n",
        "Evaluator??"
      ],
      "metadata": {
        "id": "eaxCBxX6Lc2v"
      },
      "id": "eaxCBxX6Lc2v",
      "execution_count": 9,
      "outputs": []
    },
    {
      "cell_type": "code",
      "source": [
        "from taller_model_selection.evaluate import Evaluator\n",
        "\n",
        "evaluator = Evaluator(X_train, y_train, X_dev, y_dev)"
      ],
      "metadata": {
        "id": "jMdqjRaxKouj"
      },
      "id": "jMdqjRaxKouj",
      "execution_count": 7,
      "outputs": []
    },
    {
      "cell_type": "code",
      "source": [
        "evaluator.eval_prediction('mean_price', y_hat_train=[mean_price] * len(y_train), y_hat_dev=[mean_price] * len(y_dev))"
      ],
      "metadata": {
        "id": "vWNLpnZJKwp1",
        "outputId": "4c4b8f14-aafa-42c7-ad31-36b871fa0894",
        "colab": {
          "base_uri": "https://localhost:8080/"
        }
      },
      "id": "vWNLpnZJKwp1",
      "execution_count": 11,
      "outputs": [
        {
          "output_type": "execute_result",
          "data": {
            "text/plain": [
              "{'name': 'mean_price', 'train': 480141.3676039339, 'dev': 466108.16479362577}"
            ]
          },
          "metadata": {},
          "execution_count": 11
        }
      ]
    },
    {
      "cell_type": "code",
      "source": [
        "evaluator.eval_prediction('median_price', y_hat_train=[median_price] * len(y_train), y_hat_dev=[median_price] * len(y_dev))"
      ],
      "metadata": {
        "id": "giL6nvItLpXX",
        "outputId": "6e59efea-943c-4016-c695-947d61907093",
        "colab": {
          "base_uri": "https://localhost:8080/"
        }
      },
      "id": "giL6nvItLpXX",
      "execution_count": 12,
      "outputs": [
        {
          "output_type": "execute_result",
          "data": {
            "text/plain": [
              "{'name': 'median_price', 'train': 497116.9988004173, 'dev': 479062.4340803305}"
            ]
          },
          "metadata": {},
          "execution_count": 12
        }
      ]
    },
    {
      "cell_type": "code",
      "execution_count": 13,
      "id": "30b07210",
      "metadata": {
        "id": "30b07210",
        "outputId": "616ea8d0-34b6-41d6-d3f0-fe703d2009b8",
        "colab": {
          "base_uri": "https://localhost:8080/",
          "height": 112
        }
      },
      "outputs": [
        {
          "output_type": "execute_result",
          "data": {
            "text/plain": [
              "           name          train            dev\n",
              "0    mean_price  480141.367604  466108.164794\n",
              "1  median_price  497116.998800  479062.434080"
            ],
            "text/html": [
              "\n",
              "  <div id=\"df-9df480ea-ed49-40c0-8743-a3998dfa8486\">\n",
              "    <div class=\"colab-df-container\">\n",
              "      <div>\n",
              "<style scoped>\n",
              "    .dataframe tbody tr th:only-of-type {\n",
              "        vertical-align: middle;\n",
              "    }\n",
              "\n",
              "    .dataframe tbody tr th {\n",
              "        vertical-align: top;\n",
              "    }\n",
              "\n",
              "    .dataframe thead th {\n",
              "        text-align: right;\n",
              "    }\n",
              "</style>\n",
              "<table border=\"1\" class=\"dataframe\">\n",
              "  <thead>\n",
              "    <tr style=\"text-align: right;\">\n",
              "      <th></th>\n",
              "      <th>name</th>\n",
              "      <th>train</th>\n",
              "      <th>dev</th>\n",
              "    </tr>\n",
              "  </thead>\n",
              "  <tbody>\n",
              "    <tr>\n",
              "      <th>0</th>\n",
              "      <td>mean_price</td>\n",
              "      <td>480141.367604</td>\n",
              "      <td>466108.164794</td>\n",
              "    </tr>\n",
              "    <tr>\n",
              "      <th>1</th>\n",
              "      <td>median_price</td>\n",
              "      <td>497116.998800</td>\n",
              "      <td>479062.434080</td>\n",
              "    </tr>\n",
              "  </tbody>\n",
              "</table>\n",
              "</div>\n",
              "      <button class=\"colab-df-convert\" onclick=\"convertToInteractive('df-9df480ea-ed49-40c0-8743-a3998dfa8486')\"\n",
              "              title=\"Convert this dataframe to an interactive table.\"\n",
              "              style=\"display:none;\">\n",
              "        \n",
              "  <svg xmlns=\"http://www.w3.org/2000/svg\" height=\"24px\"viewBox=\"0 0 24 24\"\n",
              "       width=\"24px\">\n",
              "    <path d=\"M0 0h24v24H0V0z\" fill=\"none\"/>\n",
              "    <path d=\"M18.56 5.44l.94 2.06.94-2.06 2.06-.94-2.06-.94-.94-2.06-.94 2.06-2.06.94zm-11 1L8.5 8.5l.94-2.06 2.06-.94-2.06-.94L8.5 2.5l-.94 2.06-2.06.94zm10 10l.94 2.06.94-2.06 2.06-.94-2.06-.94-.94-2.06-.94 2.06-2.06.94z\"/><path d=\"M17.41 7.96l-1.37-1.37c-.4-.4-.92-.59-1.43-.59-.52 0-1.04.2-1.43.59L10.3 9.45l-7.72 7.72c-.78.78-.78 2.05 0 2.83L4 21.41c.39.39.9.59 1.41.59.51 0 1.02-.2 1.41-.59l7.78-7.78 2.81-2.81c.8-.78.8-2.07 0-2.86zM5.41 20L4 18.59l7.72-7.72 1.47 1.35L5.41 20z\"/>\n",
              "  </svg>\n",
              "      </button>\n",
              "      \n",
              "  <style>\n",
              "    .colab-df-container {\n",
              "      display:flex;\n",
              "      flex-wrap:wrap;\n",
              "      gap: 12px;\n",
              "    }\n",
              "\n",
              "    .colab-df-convert {\n",
              "      background-color: #E8F0FE;\n",
              "      border: none;\n",
              "      border-radius: 50%;\n",
              "      cursor: pointer;\n",
              "      display: none;\n",
              "      fill: #1967D2;\n",
              "      height: 32px;\n",
              "      padding: 0 0 0 0;\n",
              "      width: 32px;\n",
              "    }\n",
              "\n",
              "    .colab-df-convert:hover {\n",
              "      background-color: #E2EBFA;\n",
              "      box-shadow: 0px 1px 2px rgba(60, 64, 67, 0.3), 0px 1px 3px 1px rgba(60, 64, 67, 0.15);\n",
              "      fill: #174EA6;\n",
              "    }\n",
              "\n",
              "    [theme=dark] .colab-df-convert {\n",
              "      background-color: #3B4455;\n",
              "      fill: #D2E3FC;\n",
              "    }\n",
              "\n",
              "    [theme=dark] .colab-df-convert:hover {\n",
              "      background-color: #434B5C;\n",
              "      box-shadow: 0px 1px 3px 1px rgba(0, 0, 0, 0.15);\n",
              "      filter: drop-shadow(0px 1px 2px rgba(0, 0, 0, 0.3));\n",
              "      fill: #FFFFFF;\n",
              "    }\n",
              "  </style>\n",
              "\n",
              "      <script>\n",
              "        const buttonEl =\n",
              "          document.querySelector('#df-9df480ea-ed49-40c0-8743-a3998dfa8486 button.colab-df-convert');\n",
              "        buttonEl.style.display =\n",
              "          google.colab.kernel.accessAllowed ? 'block' : 'none';\n",
              "\n",
              "        async function convertToInteractive(key) {\n",
              "          const element = document.querySelector('#df-9df480ea-ed49-40c0-8743-a3998dfa8486');\n",
              "          const dataTable =\n",
              "            await google.colab.kernel.invokeFunction('convertToInteractive',\n",
              "                                                     [key], {});\n",
              "          if (!dataTable) return;\n",
              "\n",
              "          const docLinkHtml = 'Like what you see? Visit the ' +\n",
              "            '<a target=\"_blank\" href=https://colab.research.google.com/notebooks/data_table.ipynb>data table notebook</a>'\n",
              "            + ' to learn more about interactive tables.';\n",
              "          element.innerHTML = '';\n",
              "          dataTable['output_type'] = 'display_data';\n",
              "          await google.colab.output.renderOutput(dataTable, element);\n",
              "          const docLink = document.createElement('div');\n",
              "          docLink.innerHTML = docLinkHtml;\n",
              "          element.appendChild(docLink);\n",
              "        }\n",
              "      </script>\n",
              "    </div>\n",
              "  </div>\n",
              "  "
            ]
          },
          "metadata": {},
          "execution_count": 13
        }
      ],
      "source": [
        "import pandas as pd\n",
        "\n",
        "pd.DataFrame(evaluator.evaluations)"
      ]
    },
    {
      "cell_type": "markdown",
      "id": "ba67f109",
      "metadata": {
        "id": "ba67f109"
      },
      "source": [
        "# Fit the model"
      ]
    },
    {
      "cell_type": "code",
      "execution_count": 14,
      "id": "aede4c7f",
      "metadata": {
        "id": "aede4c7f"
      },
      "outputs": [],
      "source": [
        "from taller_model_selection.transformers import FeatureProjection\n",
        "from sklearn.pipeline import make_pipeline, make_union\n",
        "from sklearn.preprocessing import OneHotEncoder\n",
        "from sklearn.impute import SimpleImputer\n",
        "from sklearn.linear_model import LinearRegression\n",
        "from sklearn.ensemble import RandomForestRegressor\n",
        "\n",
        "features_pipe =  make_union(\n",
        "    make_pipeline(\n",
        "        FeatureProjection(['rooms', 'bedrooms', 'bathrooms', 'surface_total', 'surface_covered']),\n",
        "        SimpleImputer()\n",
        "    ),\n",
        "    make_pipeline(\n",
        "        FeatureProjection(['l3']), \n",
        "        SimpleImputer(strategy='most_frequent'),\n",
        "        OneHotEncoder(sparse=False, drop='first')\n",
        "    ), \n",
        "    make_pipeline(\n",
        "        FeatureProjection(['l4']), \n",
        "        SimpleImputer(strategy='constant'),\n",
        "        OneHotEncoder(sparse=False, drop='first')\n",
        "    ), \n",
        ")\n",
        "\n",
        "lr_pipe = make_pipeline(\n",
        "    features_pipe,\n",
        "    LinearRegression()\n",
        ")\n",
        "\n",
        "rf_pipe = make_pipeline(\n",
        "    features_pipe,\n",
        "    RandomForestRegressor(n_estimators=20)\n",
        ")"
      ]
    },
    {
      "cell_type": "code",
      "execution_count": 15,
      "id": "e9347763",
      "metadata": {
        "id": "e9347763",
        "outputId": "fcb67ecf-1be4-4bbf-8990-7e7405395a2f",
        "colab": {
          "base_uri": "https://localhost:8080/"
        }
      },
      "outputs": [
        {
          "output_type": "execute_result",
          "data": {
            "text/plain": [
              "Pipeline(steps=[('featureunion',\n",
              "                 FeatureUnion(transformer_list=[('pipeline-1',\n",
              "                                                 Pipeline(steps=[('featureprojection',\n",
              "                                                                  FeatureProjection(fields=['rooms',\n",
              "                                                                                            'bedrooms',\n",
              "                                                                                            'bathrooms',\n",
              "                                                                                            'surface_total',\n",
              "                                                                                            'surface_covered'])),\n",
              "                                                                 ('simpleimputer',\n",
              "                                                                  SimpleImputer())])),\n",
              "                                                ('pipeline-2',\n",
              "                                                 Pipeline(steps=[('featureprojection',\n",
              "                                                                  FeatureProjection(fields=['l3'])),\n",
              "                                                                 ('simpleimputer',\n",
              "                                                                  SimpleImputer(strategy='most_frequent')),\n",
              "                                                                 ('onehotencoder',\n",
              "                                                                  OneHotEncoder(drop='first',\n",
              "                                                                                sparse=False))])),\n",
              "                                                ('pipeline-3',\n",
              "                                                 Pipeline(steps=[('featureprojection',\n",
              "                                                                  FeatureProjection(fields=['l4'])),\n",
              "                                                                 ('simpleimputer',\n",
              "                                                                  SimpleImputer(strategy='constant')),\n",
              "                                                                 ('onehotencoder',\n",
              "                                                                  OneHotEncoder(drop='first',\n",
              "                                                                                sparse=False))]))])),\n",
              "                ('linearregression', LinearRegression())])"
            ]
          },
          "metadata": {},
          "execution_count": 15
        }
      ],
      "source": [
        "lr_pipe.fit(X_train, y_train)"
      ]
    },
    {
      "cell_type": "code",
      "execution_count": 16,
      "id": "5dc1a16c",
      "metadata": {
        "id": "5dc1a16c",
        "outputId": "80582aad-adfb-4eb4-cb99-5642d895fce0",
        "colab": {
          "base_uri": "https://localhost:8080/"
        }
      },
      "outputs": [
        {
          "output_type": "execute_result",
          "data": {
            "text/plain": [
              "Pipeline(steps=[('featureunion',\n",
              "                 FeatureUnion(transformer_list=[('pipeline-1',\n",
              "                                                 Pipeline(steps=[('featureprojection',\n",
              "                                                                  FeatureProjection(fields=['rooms',\n",
              "                                                                                            'bedrooms',\n",
              "                                                                                            'bathrooms',\n",
              "                                                                                            'surface_total',\n",
              "                                                                                            'surface_covered'])),\n",
              "                                                                 ('simpleimputer',\n",
              "                                                                  SimpleImputer())])),\n",
              "                                                ('pipeline-2',\n",
              "                                                 Pipeline(steps=[('featureprojection',\n",
              "                                                                  FeatureProjection(fields=['l3'])),\n",
              "                                                                 ('simpleimputer',\n",
              "                                                                  Sim...='most_frequent')),\n",
              "                                                                 ('onehotencoder',\n",
              "                                                                  OneHotEncoder(drop='first',\n",
              "                                                                                sparse=False))])),\n",
              "                                                ('pipeline-3',\n",
              "                                                 Pipeline(steps=[('featureprojection',\n",
              "                                                                  FeatureProjection(fields=['l4'])),\n",
              "                                                                 ('simpleimputer',\n",
              "                                                                  SimpleImputer(strategy='constant')),\n",
              "                                                                 ('onehotencoder',\n",
              "                                                                  OneHotEncoder(drop='first',\n",
              "                                                                                sparse=False))]))])),\n",
              "                ('randomforestregressor',\n",
              "                 RandomForestRegressor(n_estimators=20))])"
            ]
          },
          "metadata": {},
          "execution_count": 16
        }
      ],
      "source": [
        "rf_pipe.fit(X_train, y_train)"
      ]
    },
    {
      "cell_type": "code",
      "source": [
        "evaluator.eval_pipe('lr', lr_pipe)"
      ],
      "metadata": {
        "id": "Kb183cIFL18D",
        "outputId": "b0e16ba5-96d1-4bd8-fb6d-a50254bce6fb",
        "colab": {
          "base_uri": "https://localhost:8080/"
        }
      },
      "id": "Kb183cIFL18D",
      "execution_count": 17,
      "outputs": [
        {
          "output_type": "execute_result",
          "data": {
            "text/plain": [
              "{'name': 'lr', 'train': 416289.6002032503, 'dev': 385109.65029061685}"
            ]
          },
          "metadata": {},
          "execution_count": 17
        }
      ]
    },
    {
      "cell_type": "code",
      "source": [
        "evaluator.eval_pipe('rf', rf_pipe)"
      ],
      "metadata": {
        "id": "0_cC8KBRL4pu",
        "outputId": "7138a0b9-681e-4a3f-b8d6-2c0564a8041d",
        "colab": {
          "base_uri": "https://localhost:8080/"
        }
      },
      "id": "0_cC8KBRL4pu",
      "execution_count": 18,
      "outputs": [
        {
          "output_type": "execute_result",
          "data": {
            "text/plain": [
              "{'name': 'rf', 'train': 204918.84335527036, 'dev': 313492.0282028164}"
            ]
          },
          "metadata": {},
          "execution_count": 18
        }
      ]
    },
    {
      "cell_type": "code",
      "execution_count": 19,
      "id": "5f1b1151",
      "metadata": {
        "id": "5f1b1151",
        "outputId": "2e7733e7-db95-4fb9-dde1-1b498ce4915f",
        "colab": {
          "base_uri": "https://localhost:8080/",
          "height": 175
        }
      },
      "outputs": [
        {
          "output_type": "execute_result",
          "data": {
            "text/plain": [
              "           name          train            dev\n",
              "0    mean_price  480141.367604  466108.164794\n",
              "1  median_price  497116.998800  479062.434080\n",
              "2            lr  416289.600203  385109.650291\n",
              "3            rf  204918.843355  313492.028203"
            ],
            "text/html": [
              "\n",
              "  <div id=\"df-85a74af4-2549-4ef0-ac83-01b706e1a311\">\n",
              "    <div class=\"colab-df-container\">\n",
              "      <div>\n",
              "<style scoped>\n",
              "    .dataframe tbody tr th:only-of-type {\n",
              "        vertical-align: middle;\n",
              "    }\n",
              "\n",
              "    .dataframe tbody tr th {\n",
              "        vertical-align: top;\n",
              "    }\n",
              "\n",
              "    .dataframe thead th {\n",
              "        text-align: right;\n",
              "    }\n",
              "</style>\n",
              "<table border=\"1\" class=\"dataframe\">\n",
              "  <thead>\n",
              "    <tr style=\"text-align: right;\">\n",
              "      <th></th>\n",
              "      <th>name</th>\n",
              "      <th>train</th>\n",
              "      <th>dev</th>\n",
              "    </tr>\n",
              "  </thead>\n",
              "  <tbody>\n",
              "    <tr>\n",
              "      <th>0</th>\n",
              "      <td>mean_price</td>\n",
              "      <td>480141.367604</td>\n",
              "      <td>466108.164794</td>\n",
              "    </tr>\n",
              "    <tr>\n",
              "      <th>1</th>\n",
              "      <td>median_price</td>\n",
              "      <td>497116.998800</td>\n",
              "      <td>479062.434080</td>\n",
              "    </tr>\n",
              "    <tr>\n",
              "      <th>2</th>\n",
              "      <td>lr</td>\n",
              "      <td>416289.600203</td>\n",
              "      <td>385109.650291</td>\n",
              "    </tr>\n",
              "    <tr>\n",
              "      <th>3</th>\n",
              "      <td>rf</td>\n",
              "      <td>204918.843355</td>\n",
              "      <td>313492.028203</td>\n",
              "    </tr>\n",
              "  </tbody>\n",
              "</table>\n",
              "</div>\n",
              "      <button class=\"colab-df-convert\" onclick=\"convertToInteractive('df-85a74af4-2549-4ef0-ac83-01b706e1a311')\"\n",
              "              title=\"Convert this dataframe to an interactive table.\"\n",
              "              style=\"display:none;\">\n",
              "        \n",
              "  <svg xmlns=\"http://www.w3.org/2000/svg\" height=\"24px\"viewBox=\"0 0 24 24\"\n",
              "       width=\"24px\">\n",
              "    <path d=\"M0 0h24v24H0V0z\" fill=\"none\"/>\n",
              "    <path d=\"M18.56 5.44l.94 2.06.94-2.06 2.06-.94-2.06-.94-.94-2.06-.94 2.06-2.06.94zm-11 1L8.5 8.5l.94-2.06 2.06-.94-2.06-.94L8.5 2.5l-.94 2.06-2.06.94zm10 10l.94 2.06.94-2.06 2.06-.94-2.06-.94-.94-2.06-.94 2.06-2.06.94z\"/><path d=\"M17.41 7.96l-1.37-1.37c-.4-.4-.92-.59-1.43-.59-.52 0-1.04.2-1.43.59L10.3 9.45l-7.72 7.72c-.78.78-.78 2.05 0 2.83L4 21.41c.39.39.9.59 1.41.59.51 0 1.02-.2 1.41-.59l7.78-7.78 2.81-2.81c.8-.78.8-2.07 0-2.86zM5.41 20L4 18.59l7.72-7.72 1.47 1.35L5.41 20z\"/>\n",
              "  </svg>\n",
              "      </button>\n",
              "      \n",
              "  <style>\n",
              "    .colab-df-container {\n",
              "      display:flex;\n",
              "      flex-wrap:wrap;\n",
              "      gap: 12px;\n",
              "    }\n",
              "\n",
              "    .colab-df-convert {\n",
              "      background-color: #E8F0FE;\n",
              "      border: none;\n",
              "      border-radius: 50%;\n",
              "      cursor: pointer;\n",
              "      display: none;\n",
              "      fill: #1967D2;\n",
              "      height: 32px;\n",
              "      padding: 0 0 0 0;\n",
              "      width: 32px;\n",
              "    }\n",
              "\n",
              "    .colab-df-convert:hover {\n",
              "      background-color: #E2EBFA;\n",
              "      box-shadow: 0px 1px 2px rgba(60, 64, 67, 0.3), 0px 1px 3px 1px rgba(60, 64, 67, 0.15);\n",
              "      fill: #174EA6;\n",
              "    }\n",
              "\n",
              "    [theme=dark] .colab-df-convert {\n",
              "      background-color: #3B4455;\n",
              "      fill: #D2E3FC;\n",
              "    }\n",
              "\n",
              "    [theme=dark] .colab-df-convert:hover {\n",
              "      background-color: #434B5C;\n",
              "      box-shadow: 0px 1px 3px 1px rgba(0, 0, 0, 0.15);\n",
              "      filter: drop-shadow(0px 1px 2px rgba(0, 0, 0, 0.3));\n",
              "      fill: #FFFFFF;\n",
              "    }\n",
              "  </style>\n",
              "\n",
              "      <script>\n",
              "        const buttonEl =\n",
              "          document.querySelector('#df-85a74af4-2549-4ef0-ac83-01b706e1a311 button.colab-df-convert');\n",
              "        buttonEl.style.display =\n",
              "          google.colab.kernel.accessAllowed ? 'block' : 'none';\n",
              "\n",
              "        async function convertToInteractive(key) {\n",
              "          const element = document.querySelector('#df-85a74af4-2549-4ef0-ac83-01b706e1a311');\n",
              "          const dataTable =\n",
              "            await google.colab.kernel.invokeFunction('convertToInteractive',\n",
              "                                                     [key], {});\n",
              "          if (!dataTable) return;\n",
              "\n",
              "          const docLinkHtml = 'Like what you see? Visit the ' +\n",
              "            '<a target=\"_blank\" href=https://colab.research.google.com/notebooks/data_table.ipynb>data table notebook</a>'\n",
              "            + ' to learn more about interactive tables.';\n",
              "          element.innerHTML = '';\n",
              "          dataTable['output_type'] = 'display_data';\n",
              "          await google.colab.output.renderOutput(dataTable, element);\n",
              "          const docLink = document.createElement('div');\n",
              "          docLink.innerHTML = docLinkHtml;\n",
              "          element.appendChild(docLink);\n",
              "        }\n",
              "      </script>\n",
              "    </div>\n",
              "  </div>\n",
              "  "
            ]
          },
          "metadata": {},
          "execution_count": 19
        }
      ],
      "source": [
        "df = pd.DataFrame(evaluator.evaluations)\n",
        "df"
      ]
    },
    {
      "cell_type": "code",
      "execution_count": 20,
      "id": "7c75a54b",
      "metadata": {
        "id": "7c75a54b",
        "outputId": "e99ab419-7b5b-4545-8f0b-750940f0d6b8",
        "colab": {
          "base_uri": "https://localhost:8080/",
          "height": 175
        }
      },
      "outputs": [
        {
          "output_type": "execute_result",
          "data": {
            "text/plain": [
              "           name          train            dev  pct_lift\n",
              "3            rf  204918.843355  313492.028203  0.654387\n",
              "2            lr  416289.600203  385109.650291  0.803882\n",
              "0    mean_price  480141.367604  466108.164794  0.972959\n",
              "1  median_price  497116.998800  479062.434080  1.000000"
            ],
            "text/html": [
              "\n",
              "  <div id=\"df-56e93180-ade1-4c1f-a288-23d225c360e7\">\n",
              "    <div class=\"colab-df-container\">\n",
              "      <div>\n",
              "<style scoped>\n",
              "    .dataframe tbody tr th:only-of-type {\n",
              "        vertical-align: middle;\n",
              "    }\n",
              "\n",
              "    .dataframe tbody tr th {\n",
              "        vertical-align: top;\n",
              "    }\n",
              "\n",
              "    .dataframe thead th {\n",
              "        text-align: right;\n",
              "    }\n",
              "</style>\n",
              "<table border=\"1\" class=\"dataframe\">\n",
              "  <thead>\n",
              "    <tr style=\"text-align: right;\">\n",
              "      <th></th>\n",
              "      <th>name</th>\n",
              "      <th>train</th>\n",
              "      <th>dev</th>\n",
              "      <th>pct_lift</th>\n",
              "    </tr>\n",
              "  </thead>\n",
              "  <tbody>\n",
              "    <tr>\n",
              "      <th>3</th>\n",
              "      <td>rf</td>\n",
              "      <td>204918.843355</td>\n",
              "      <td>313492.028203</td>\n",
              "      <td>0.654387</td>\n",
              "    </tr>\n",
              "    <tr>\n",
              "      <th>2</th>\n",
              "      <td>lr</td>\n",
              "      <td>416289.600203</td>\n",
              "      <td>385109.650291</td>\n",
              "      <td>0.803882</td>\n",
              "    </tr>\n",
              "    <tr>\n",
              "      <th>0</th>\n",
              "      <td>mean_price</td>\n",
              "      <td>480141.367604</td>\n",
              "      <td>466108.164794</td>\n",
              "      <td>0.972959</td>\n",
              "    </tr>\n",
              "    <tr>\n",
              "      <th>1</th>\n",
              "      <td>median_price</td>\n",
              "      <td>497116.998800</td>\n",
              "      <td>479062.434080</td>\n",
              "      <td>1.000000</td>\n",
              "    </tr>\n",
              "  </tbody>\n",
              "</table>\n",
              "</div>\n",
              "      <button class=\"colab-df-convert\" onclick=\"convertToInteractive('df-56e93180-ade1-4c1f-a288-23d225c360e7')\"\n",
              "              title=\"Convert this dataframe to an interactive table.\"\n",
              "              style=\"display:none;\">\n",
              "        \n",
              "  <svg xmlns=\"http://www.w3.org/2000/svg\" height=\"24px\"viewBox=\"0 0 24 24\"\n",
              "       width=\"24px\">\n",
              "    <path d=\"M0 0h24v24H0V0z\" fill=\"none\"/>\n",
              "    <path d=\"M18.56 5.44l.94 2.06.94-2.06 2.06-.94-2.06-.94-.94-2.06-.94 2.06-2.06.94zm-11 1L8.5 8.5l.94-2.06 2.06-.94-2.06-.94L8.5 2.5l-.94 2.06-2.06.94zm10 10l.94 2.06.94-2.06 2.06-.94-2.06-.94-.94-2.06-.94 2.06-2.06.94z\"/><path d=\"M17.41 7.96l-1.37-1.37c-.4-.4-.92-.59-1.43-.59-.52 0-1.04.2-1.43.59L10.3 9.45l-7.72 7.72c-.78.78-.78 2.05 0 2.83L4 21.41c.39.39.9.59 1.41.59.51 0 1.02-.2 1.41-.59l7.78-7.78 2.81-2.81c.8-.78.8-2.07 0-2.86zM5.41 20L4 18.59l7.72-7.72 1.47 1.35L5.41 20z\"/>\n",
              "  </svg>\n",
              "      </button>\n",
              "      \n",
              "  <style>\n",
              "    .colab-df-container {\n",
              "      display:flex;\n",
              "      flex-wrap:wrap;\n",
              "      gap: 12px;\n",
              "    }\n",
              "\n",
              "    .colab-df-convert {\n",
              "      background-color: #E8F0FE;\n",
              "      border: none;\n",
              "      border-radius: 50%;\n",
              "      cursor: pointer;\n",
              "      display: none;\n",
              "      fill: #1967D2;\n",
              "      height: 32px;\n",
              "      padding: 0 0 0 0;\n",
              "      width: 32px;\n",
              "    }\n",
              "\n",
              "    .colab-df-convert:hover {\n",
              "      background-color: #E2EBFA;\n",
              "      box-shadow: 0px 1px 2px rgba(60, 64, 67, 0.3), 0px 1px 3px 1px rgba(60, 64, 67, 0.15);\n",
              "      fill: #174EA6;\n",
              "    }\n",
              "\n",
              "    [theme=dark] .colab-df-convert {\n",
              "      background-color: #3B4455;\n",
              "      fill: #D2E3FC;\n",
              "    }\n",
              "\n",
              "    [theme=dark] .colab-df-convert:hover {\n",
              "      background-color: #434B5C;\n",
              "      box-shadow: 0px 1px 3px 1px rgba(0, 0, 0, 0.15);\n",
              "      filter: drop-shadow(0px 1px 2px rgba(0, 0, 0, 0.3));\n",
              "      fill: #FFFFFF;\n",
              "    }\n",
              "  </style>\n",
              "\n",
              "      <script>\n",
              "        const buttonEl =\n",
              "          document.querySelector('#df-56e93180-ade1-4c1f-a288-23d225c360e7 button.colab-df-convert');\n",
              "        buttonEl.style.display =\n",
              "          google.colab.kernel.accessAllowed ? 'block' : 'none';\n",
              "\n",
              "        async function convertToInteractive(key) {\n",
              "          const element = document.querySelector('#df-56e93180-ade1-4c1f-a288-23d225c360e7');\n",
              "          const dataTable =\n",
              "            await google.colab.kernel.invokeFunction('convertToInteractive',\n",
              "                                                     [key], {});\n",
              "          if (!dataTable) return;\n",
              "\n",
              "          const docLinkHtml = 'Like what you see? Visit the ' +\n",
              "            '<a target=\"_blank\" href=https://colab.research.google.com/notebooks/data_table.ipynb>data table notebook</a>'\n",
              "            + ' to learn more about interactive tables.';\n",
              "          element.innerHTML = '';\n",
              "          dataTable['output_type'] = 'display_data';\n",
              "          await google.colab.output.renderOutput(dataTable, element);\n",
              "          const docLink = document.createElement('div');\n",
              "          docLink.innerHTML = docLinkHtml;\n",
              "          element.appendChild(docLink);\n",
              "        }\n",
              "      </script>\n",
              "    </div>\n",
              "  </div>\n",
              "  "
            ]
          },
          "metadata": {},
          "execution_count": 20
        }
      ],
      "source": [
        "df['pct_lift'] = df.dev / df.dev.max()\n",
        "df.sort_values('dev')"
      ]
    }
  ],
  "metadata": {
    "kernelspec": {
      "display_name": "Python 3 (ipykernel)",
      "language": "python",
      "name": "python3"
    },
    "language_info": {
      "codemirror_mode": {
        "name": "ipython",
        "version": 3
      },
      "file_extension": ".py",
      "mimetype": "text/x-python",
      "name": "python",
      "nbconvert_exporter": "python",
      "pygments_lexer": "ipython3",
      "version": "3.9.12"
    },
    "colab": {
      "provenance": []
    }
  },
  "nbformat": 4,
  "nbformat_minor": 5
}