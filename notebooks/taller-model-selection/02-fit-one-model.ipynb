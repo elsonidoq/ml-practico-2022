{
 "cells": [
  {
   "cell_type": "code",
   "execution_count": 2,
   "id": "a7e59d10",
   "metadata": {},
   "outputs": [],
   "source": [
    "import sys\n",
    "sys.path.append('../../lib')"
   ]
  },
  {
   "cell_type": "code",
   "execution_count": 3,
   "id": "2ce12c43",
   "metadata": {},
   "outputs": [
    {
     "name": "stdout",
     "output_type": "stream",
     "text": [
      "{'pct(train)': 0.7837289649483001, 'pct(dev)': 0.11952685477518159, 'pct(test)': 0.09674418027651828}\n"
     ]
    }
   ],
   "source": [
    "from taller_model_selection.evaluate import load_train_dev_test\n",
    "\n",
    "(X_train, y_train), (X_dev, y_dev), test = load_train_dev_test('.')"
   ]
  },
  {
   "cell_type": "code",
   "execution_count": 5,
   "id": "922d3f80",
   "metadata": {},
   "outputs": [
    {
     "data": {
      "text/plain": [
       "('2021-03-01', '2021-04-15', '2021-05-01')"
      ]
     },
     "execution_count": 5,
     "metadata": {},
     "output_type": "execute_result"
    }
   ],
   "source": [
    "(\n",
    "    max([e['created_on'] for e in X_train]), \n",
    "    max([e['created_on'] for e in X_dev]), \n",
    "    max([e['created_on'] for e in test[0]])\n",
    ")"
   ]
  },
  {
   "cell_type": "code",
   "execution_count": 6,
   "id": "74754e47",
   "metadata": {},
   "outputs": [],
   "source": [
    "from taller_model_selection.metrics import rmse\n",
    "\n",
    "import numpy as np\n",
    "\n",
    "mean_price = np.mean(y_train)\n",
    "median_price = np.median(y_train)"
   ]
  },
  {
   "cell_type": "code",
   "execution_count": 7,
   "id": "30b07210",
   "metadata": {},
   "outputs": [
    {
     "data": {
      "text/html": [
       "<div>\n",
       "<style scoped>\n",
       "    .dataframe tbody tr th:only-of-type {\n",
       "        vertical-align: middle;\n",
       "    }\n",
       "\n",
       "    .dataframe tbody tr th {\n",
       "        vertical-align: top;\n",
       "    }\n",
       "\n",
       "    .dataframe thead th {\n",
       "        text-align: right;\n",
       "    }\n",
       "</style>\n",
       "<table border=\"1\" class=\"dataframe\">\n",
       "  <thead>\n",
       "    <tr style=\"text-align: right;\">\n",
       "      <th></th>\n",
       "      <th>name</th>\n",
       "      <th>train</th>\n",
       "      <th>dev</th>\n",
       "    </tr>\n",
       "  </thead>\n",
       "  <tbody>\n",
       "    <tr>\n",
       "      <th>0</th>\n",
       "      <td>mean_price</td>\n",
       "      <td>480141.367604</td>\n",
       "      <td>466108.164794</td>\n",
       "    </tr>\n",
       "    <tr>\n",
       "      <th>1</th>\n",
       "      <td>median_price</td>\n",
       "      <td>497116.998800</td>\n",
       "      <td>479062.434080</td>\n",
       "    </tr>\n",
       "  </tbody>\n",
       "</table>\n",
       "</div>"
      ],
      "text/plain": [
       "           name          train            dev\n",
       "0    mean_price  480141.367604  466108.164794\n",
       "1  median_price  497116.998800  479062.434080"
      ]
     },
     "execution_count": 7,
     "metadata": {},
     "output_type": "execute_result"
    }
   ],
   "source": [
    "import pandas as pd\n",
    "\n",
    "baselines = [\n",
    "    dict(\n",
    "        name='mean_price',\n",
    "        train=rmse(y_train, [mean_price] * len(y_train)),\n",
    "        dev=rmse(y_dev, [mean_price] * len(y_dev))\n",
    "    ),\n",
    "    dict(\n",
    "        name='median_price',\n",
    "        train=rmse(y_train, [median_price] * len(y_train)),\n",
    "        dev=rmse(y_dev, [median_price] * len(y_dev))\n",
    "    )\n",
    "]\n",
    "\n",
    "pd.DataFrame(baselines)"
   ]
  },
  {
   "cell_type": "markdown",
   "id": "ba67f109",
   "metadata": {},
   "source": [
    "# Fit the model"
   ]
  },
  {
   "cell_type": "code",
   "execution_count": 8,
   "id": "aede4c7f",
   "metadata": {},
   "outputs": [],
   "source": [
    "from taller_model_selection.transformers import FeatureProjection\n",
    "from sklearn.pipeline import make_pipeline, make_union\n",
    "from sklearn.preprocessing import OneHotEncoder\n",
    "from sklearn.impute import SimpleImputer\n",
    "from sklearn.linear_model import LinearRegression\n",
    "from sklearn.ensemble import RandomForestRegressor\n",
    "\n",
    "features_pipe =  make_union(\n",
    "    make_pipeline(\n",
    "        FeatureProjection(['rooms', 'bedrooms', 'bathrooms', 'surface_total', 'surface_covered']),\n",
    "        SimpleImputer()\n",
    "    ),\n",
    "    make_pipeline(\n",
    "        FeatureProjection(['l3']), \n",
    "        SimpleImputer(strategy='most_frequent'),\n",
    "        OneHotEncoder(sparse=False, drop='first')\n",
    "    ), \n",
    "    make_pipeline(\n",
    "        FeatureProjection(['l4']), \n",
    "        SimpleImputer(strategy='constant'),\n",
    "        OneHotEncoder(sparse=False, drop='first')\n",
    "    ), \n",
    ")\n",
    "\n",
    "lr_pipe = make_pipeline(\n",
    "    features_pipe,\n",
    "    LinearRegression()\n",
    ")\n",
    "\n",
    "rf_pipe = make_pipeline(\n",
    "    features_pipe,\n",
    "    RandomForestRegressor(n_estimators=20)\n",
    ")"
   ]
  },
  {
   "cell_type": "code",
   "execution_count": 9,
   "id": "e9347763",
   "metadata": {},
   "outputs": [
    {
     "data": {
      "text/plain": [
       "Pipeline(steps=[('featureunion',\n",
       "                 FeatureUnion(transformer_list=[('pipeline-1',\n",
       "                                                 Pipeline(steps=[('featureprojection',\n",
       "                                                                  FeatureProjection(fields=['rooms',\n",
       "                                                                                            'bedrooms',\n",
       "                                                                                            'bathrooms',\n",
       "                                                                                            'surface_total',\n",
       "                                                                                            'surface_covered'])),\n",
       "                                                                 ('simpleimputer',\n",
       "                                                                  SimpleImputer())])),\n",
       "                                                ('pipeline-2',\n",
       "                                                 Pipeline(steps=[('featureprojection',\n",
       "                                                                  FeatureProjection(fields=['l3'])),\n",
       "                                                                 ('simpleimputer',\n",
       "                                                                  SimpleImputer(strategy='most_frequent')),\n",
       "                                                                 ('onehotencoder',\n",
       "                                                                  OneHotEncoder(drop='first',\n",
       "                                                                                sparse=False))])),\n",
       "                                                ('pipeline-3',\n",
       "                                                 Pipeline(steps=[('featureprojection',\n",
       "                                                                  FeatureProjection(fields=['l4'])),\n",
       "                                                                 ('simpleimputer',\n",
       "                                                                  SimpleImputer(strategy='constant')),\n",
       "                                                                 ('onehotencoder',\n",
       "                                                                  OneHotEncoder(drop='first',\n",
       "                                                                                sparse=False))]))])),\n",
       "                ('linearregression', LinearRegression())])"
      ]
     },
     "execution_count": 9,
     "metadata": {},
     "output_type": "execute_result"
    }
   ],
   "source": [
    "lr_pipe.fit(X_train, y_train)"
   ]
  },
  {
   "cell_type": "code",
   "execution_count": 10,
   "id": "5dc1a16c",
   "metadata": {},
   "outputs": [
    {
     "data": {
      "text/plain": [
       "Pipeline(steps=[('featureunion',\n",
       "                 FeatureUnion(transformer_list=[('pipeline-1',\n",
       "                                                 Pipeline(steps=[('featureprojection',\n",
       "                                                                  FeatureProjection(fields=['rooms',\n",
       "                                                                                            'bedrooms',\n",
       "                                                                                            'bathrooms',\n",
       "                                                                                            'surface_total',\n",
       "                                                                                            'surface_covered'])),\n",
       "                                                                 ('simpleimputer',\n",
       "                                                                  SimpleImputer())])),\n",
       "                                                ('pipeline-2',\n",
       "                                                 Pipeline(steps=[('featureprojection',\n",
       "                                                                  FeatureProjection(fields=['l3'])),\n",
       "                                                                 ('simpleimputer',\n",
       "                                                                  Sim...='most_frequent')),\n",
       "                                                                 ('onehotencoder',\n",
       "                                                                  OneHotEncoder(drop='first',\n",
       "                                                                                sparse=False))])),\n",
       "                                                ('pipeline-3',\n",
       "                                                 Pipeline(steps=[('featureprojection',\n",
       "                                                                  FeatureProjection(fields=['l4'])),\n",
       "                                                                 ('simpleimputer',\n",
       "                                                                  SimpleImputer(strategy='constant')),\n",
       "                                                                 ('onehotencoder',\n",
       "                                                                  OneHotEncoder(drop='first',\n",
       "                                                                                sparse=False))]))])),\n",
       "                ('randomforestregressor',\n",
       "                 RandomForestRegressor(n_estimators=20))])"
      ]
     },
     "execution_count": 10,
     "metadata": {},
     "output_type": "execute_result"
    }
   ],
   "source": [
    "rf_pipe.fit(X_train, y_train)"
   ]
  },
  {
   "cell_type": "code",
   "execution_count": 11,
   "id": "6494c052",
   "metadata": {},
   "outputs": [],
   "source": [
    "def eval_pipe(model_name, pipe):\n",
    "    return dict(\n",
    "        name=model_name,\n",
    "        train=rmse(y_train, pipe.predict(X_train)),\n",
    "        dev=rmse(y_dev, pipe.predict(X_dev))\n",
    "    )"
   ]
  },
  {
   "cell_type": "code",
   "execution_count": 12,
   "id": "5f1b1151",
   "metadata": {},
   "outputs": [
    {
     "data": {
      "text/html": [
       "<div>\n",
       "<style scoped>\n",
       "    .dataframe tbody tr th:only-of-type {\n",
       "        vertical-align: middle;\n",
       "    }\n",
       "\n",
       "    .dataframe tbody tr th {\n",
       "        vertical-align: top;\n",
       "    }\n",
       "\n",
       "    .dataframe thead th {\n",
       "        text-align: right;\n",
       "    }\n",
       "</style>\n",
       "<table border=\"1\" class=\"dataframe\">\n",
       "  <thead>\n",
       "    <tr style=\"text-align: right;\">\n",
       "      <th></th>\n",
       "      <th>name</th>\n",
       "      <th>train</th>\n",
       "      <th>dev</th>\n",
       "    </tr>\n",
       "  </thead>\n",
       "  <tbody>\n",
       "    <tr>\n",
       "      <th>0</th>\n",
       "      <td>mean_price</td>\n",
       "      <td>480141.367604</td>\n",
       "      <td>466108.164794</td>\n",
       "    </tr>\n",
       "    <tr>\n",
       "      <th>1</th>\n",
       "      <td>median_price</td>\n",
       "      <td>497116.998800</td>\n",
       "      <td>479062.434080</td>\n",
       "    </tr>\n",
       "    <tr>\n",
       "      <th>2</th>\n",
       "      <td>lr</td>\n",
       "      <td>416289.600203</td>\n",
       "      <td>385109.650291</td>\n",
       "    </tr>\n",
       "    <tr>\n",
       "      <th>3</th>\n",
       "      <td>rf</td>\n",
       "      <td>205356.160365</td>\n",
       "      <td>317820.194874</td>\n",
       "    </tr>\n",
       "  </tbody>\n",
       "</table>\n",
       "</div>"
      ],
      "text/plain": [
       "           name          train            dev\n",
       "0    mean_price  480141.367604  466108.164794\n",
       "1  median_price  497116.998800  479062.434080\n",
       "2            lr  416289.600203  385109.650291\n",
       "3            rf  205356.160365  317820.194874"
      ]
     },
     "execution_count": 12,
     "metadata": {},
     "output_type": "execute_result"
    }
   ],
   "source": [
    "df = pd.DataFrame(baselines + [eval_pipe('lr', lr_pipe), eval_pipe('rf', rf_pipe)])\n",
    "df"
   ]
  },
  {
   "cell_type": "code",
   "execution_count": 13,
   "id": "7c75a54b",
   "metadata": {},
   "outputs": [
    {
     "data": {
      "text/html": [
       "<div>\n",
       "<style scoped>\n",
       "    .dataframe tbody tr th:only-of-type {\n",
       "        vertical-align: middle;\n",
       "    }\n",
       "\n",
       "    .dataframe tbody tr th {\n",
       "        vertical-align: top;\n",
       "    }\n",
       "\n",
       "    .dataframe thead th {\n",
       "        text-align: right;\n",
       "    }\n",
       "</style>\n",
       "<table border=\"1\" class=\"dataframe\">\n",
       "  <thead>\n",
       "    <tr style=\"text-align: right;\">\n",
       "      <th></th>\n",
       "      <th>name</th>\n",
       "      <th>train</th>\n",
       "      <th>dev</th>\n",
       "      <th>pct_lift</th>\n",
       "    </tr>\n",
       "  </thead>\n",
       "  <tbody>\n",
       "    <tr>\n",
       "      <th>3</th>\n",
       "      <td>rf</td>\n",
       "      <td>205356.160365</td>\n",
       "      <td>317820.194874</td>\n",
       "      <td>0.663421</td>\n",
       "    </tr>\n",
       "    <tr>\n",
       "      <th>2</th>\n",
       "      <td>lr</td>\n",
       "      <td>416289.600203</td>\n",
       "      <td>385109.650291</td>\n",
       "      <td>0.803882</td>\n",
       "    </tr>\n",
       "    <tr>\n",
       "      <th>0</th>\n",
       "      <td>mean_price</td>\n",
       "      <td>480141.367604</td>\n",
       "      <td>466108.164794</td>\n",
       "      <td>0.972959</td>\n",
       "    </tr>\n",
       "    <tr>\n",
       "      <th>1</th>\n",
       "      <td>median_price</td>\n",
       "      <td>497116.998800</td>\n",
       "      <td>479062.434080</td>\n",
       "      <td>1.000000</td>\n",
       "    </tr>\n",
       "  </tbody>\n",
       "</table>\n",
       "</div>"
      ],
      "text/plain": [
       "           name          train            dev  pct_lift\n",
       "3            rf  205356.160365  317820.194874  0.663421\n",
       "2            lr  416289.600203  385109.650291  0.803882\n",
       "0    mean_price  480141.367604  466108.164794  0.972959\n",
       "1  median_price  497116.998800  479062.434080  1.000000"
      ]
     },
     "execution_count": 13,
     "metadata": {},
     "output_type": "execute_result"
    }
   ],
   "source": [
    "df['pct_lift'] = df.dev / df.dev.max()\n",
    "df.sort_values('dev')"
   ]
  },
  {
   "cell_type": "code",
   "execution_count": null,
   "id": "c54f9857",
   "metadata": {},
   "outputs": [],
   "source": []
  }
 ],
 "metadata": {
  "kernelspec": {
   "display_name": "Python 3 (ipykernel)",
   "language": "python",
   "name": "python3"
  },
  "language_info": {
   "codemirror_mode": {
    "name": "ipython",
    "version": 3
   },
   "file_extension": ".py",
   "mimetype": "text/x-python",
   "name": "python",
   "nbconvert_exporter": "python",
   "pygments_lexer": "ipython3",
   "version": "3.9.12"
  }
 },
 "nbformat": 4,
 "nbformat_minor": 5
}
