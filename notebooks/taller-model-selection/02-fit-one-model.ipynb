{
  "cells": [
    {
      "cell_type": "markdown",
      "id": "805313b2",
      "metadata": {
        "id": "805313b2"
      },
      "source": [
        "# Setup en colab\n",
        "\n",
        "Crea un shortcut en tu drive de los [datos](https://drive.google.com/drive/folders/1djjceNkO42vrB10PubYTzQydfccPbzdB?usp=sharing)\n",
        "\n"
      ]
    },
    {
      "cell_type": "code",
      "source": [
        "!pip install fasttext # necesario si vas a usar los embeddings de titulo/descripcion"
      ],
      "metadata": {
        "id": "XjTyVwaRIaPT",
        "outputId": "b2f1965f-a7db-47e6-cdbb-6f8fff78710f",
        "colab": {
          "base_uri": "https://localhost:8080/"
        }
      },
      "id": "XjTyVwaRIaPT",
      "execution_count": null,
      "outputs": [
        {
          "output_type": "stream",
          "name": "stdout",
          "text": [
            "Looking in indexes: https://pypi.org/simple, https://us-python.pkg.dev/colab-wheels/public/simple/\n",
            "Collecting fasttext\n",
            "  Downloading fasttext-0.9.2.tar.gz (68 kB)\n",
            "\u001b[K     |████████████████████████████████| 68 kB 3.9 MB/s \n",
            "\u001b[?25hCollecting pybind11>=2.2\n",
            "  Using cached pybind11-2.10.0-py3-none-any.whl (213 kB)\n",
            "Requirement already satisfied: setuptools>=0.7.0 in /usr/local/lib/python3.7/dist-packages (from fasttext) (57.4.0)\n",
            "Requirement already satisfied: numpy in /usr/local/lib/python3.7/dist-packages (from fasttext) (1.21.6)\n",
            "Building wheels for collected packages: fasttext\n",
            "  Building wheel for fasttext (setup.py) ... \u001b[?25l\u001b[?25hdone\n",
            "  Created wheel for fasttext: filename=fasttext-0.9.2-cp37-cp37m-linux_x86_64.whl size=3163457 sha256=781f6dd1b5e09017a5706b00777746d425cfe6be6171712e754eedef19adc9bb\n",
            "  Stored in directory: /root/.cache/pip/wheels/4e/ca/bf/b020d2be95f7641801a6597a29c8f4f19e38f9c02a345bab9b\n",
            "Successfully built fasttext\n",
            "Installing collected packages: pybind11, fasttext\n",
            "Successfully installed fasttext-0.9.2 pybind11-2.10.0\n"
          ]
        }
      ]
    },
    {
      "cell_type": "code",
      "source": [
        "# Clonamos el repo para usar el codigo de la lib\n",
        "!git clone https://github.com/elsonidoq/ml-practico-2022.git "
      ],
      "metadata": {
        "id": "_6FOvrRfHjki",
        "outputId": "f8d24a4c-763c-44de-9559-9b8e1f9aeaee",
        "colab": {
          "base_uri": "https://localhost:8080/"
        }
      },
      "id": "_6FOvrRfHjki",
      "execution_count": 1,
      "outputs": [
        {
          "output_type": "stream",
          "name": "stdout",
          "text": [
            "Cloning into 'ml-practico-2022'...\n",
            "remote: Enumerating objects: 288, done.\u001b[K\n",
            "remote: Counting objects: 100% (288/288), done.\u001b[K\n",
            "remote: Compressing objects: 100% (200/200), done.\u001b[K\n",
            "remote: Total 288 (delta 172), reused 197 (delta 85), pack-reused 0\u001b[K\n",
            "Receiving objects: 100% (288/288), 3.63 MiB | 14.81 MiB/s, done.\n",
            "Resolving deltas: 100% (172/172), done.\n"
          ]
        }
      ]
    },
    {
      "cell_type": "code",
      "source": [
        "import sys\n",
        "sys.path.append('ml-practico-2022/lib')"
      ],
      "metadata": {
        "id": "xy08vpEPHnhU"
      },
      "id": "xy08vpEPHnhU",
      "execution_count": 2,
      "outputs": []
    },
    {
      "cell_type": "code",
      "source": [
        "from google.colab import drive\n",
        "\n",
        "drive.mount('/content/gdrive')"
      ],
      "metadata": {
        "id": "U-qkODQTHv2G",
        "outputId": "b7c38dba-467c-4b89-c11b-43f669dd32ad",
        "colab": {
          "base_uri": "https://localhost:8080/"
        }
      },
      "id": "U-qkODQTHv2G",
      "execution_count": 3,
      "outputs": [
        {
          "output_type": "stream",
          "name": "stdout",
          "text": [
            "Mounted at /content/gdrive\n"
          ]
        }
      ]
    },
    {
      "cell_type": "markdown",
      "source": [
        "# Entrenamos un modelo"
      ],
      "metadata": {
        "id": "izNfwkcdMfDx"
      },
      "id": "izNfwkcdMfDx"
    },
    {
      "cell_type": "code",
      "execution_count": 4,
      "id": "2ce12c43",
      "metadata": {
        "id": "2ce12c43",
        "outputId": "0588d47a-8f72-4c70-9962-76d86028fcb0",
        "colab": {
          "base_uri": "https://localhost:8080/"
        }
      },
      "outputs": [
        {
          "output_type": "stream",
          "name": "stdout",
          "text": [
            "{'pct(train)': 0.7837289649483001, 'pct(dev)': 0.11952685477518159, 'pct(test)': 0.09674418027651828}\n"
          ]
        }
      ],
      "source": [
        "from taller_model_selection.evaluate import load_train_dev_test\n",
        "\n",
        "(X_train, y_train), (X_dev, y_dev), test = load_train_dev_test('/content/gdrive/MyDrive/taller-model-selection-data')"
      ]
    },
    {
      "cell_type": "code",
      "execution_count": null,
      "id": "922d3f80",
      "metadata": {
        "id": "922d3f80",
        "outputId": "fe0c6dea-0c09-4051-a43a-897162e580d4",
        "colab": {
          "base_uri": "https://localhost:8080/"
        }
      },
      "outputs": [
        {
          "output_type": "execute_result",
          "data": {
            "text/plain": [
              "('2021-03-01', '2021-04-15', '2021-05-01')"
            ]
          },
          "metadata": {},
          "execution_count": 5
        }
      ],
      "source": [
        "(\n",
        "    max([e['created_on'] for e in X_train]), \n",
        "    max([e['created_on'] for e in X_dev]), \n",
        "    max([e['created_on'] for e in test[0]])\n",
        ")"
      ]
    },
    {
      "cell_type": "code",
      "execution_count": 5,
      "id": "74754e47",
      "metadata": {
        "id": "74754e47"
      },
      "outputs": [],
      "source": [
        "import numpy as np\n",
        "\n",
        "mean_price = np.mean(y_train)\n",
        "median_price = np.median(y_train)"
      ]
    },
    {
      "cell_type": "code",
      "source": [
        "from taller_model_selection.evaluate import Evaluator\n",
        "\n",
        "evaluator = Evaluator(X_train, y_train, X_dev, y_dev)"
      ],
      "metadata": {
        "id": "jMdqjRaxKouj"
      },
      "id": "jMdqjRaxKouj",
      "execution_count": 6,
      "outputs": []
    },
    {
      "cell_type": "code",
      "source": [
        "evaluator.eval_prediction('mean_price', y_hat_train=[mean_price] * len(y_train), y_hat_dev=[mean_price] * len(y_dev))"
      ],
      "metadata": {
        "id": "vWNLpnZJKwp1",
        "outputId": "3325538b-e093-4302-d028-c1a6d9b675db",
        "colab": {
          "base_uri": "https://localhost:8080/"
        }
      },
      "id": "vWNLpnZJKwp1",
      "execution_count": 7,
      "outputs": [
        {
          "output_type": "execute_result",
          "data": {
            "text/plain": [
              "{'name': 'mean_price', 'train': 480141.3676039339, 'dev': 466108.16479362577}"
            ]
          },
          "metadata": {},
          "execution_count": 7
        }
      ]
    },
    {
      "cell_type": "code",
      "source": [
        "evaluator.eval_prediction('median_price', y_hat_train=[median_price] * len(y_train), y_hat_dev=[median_price] * len(y_dev))"
      ],
      "metadata": {
        "id": "giL6nvItLpXX",
        "outputId": "d22681cd-abb6-4190-aa35-acf3e2db103b",
        "colab": {
          "base_uri": "https://localhost:8080/"
        }
      },
      "id": "giL6nvItLpXX",
      "execution_count": 8,
      "outputs": [
        {
          "output_type": "execute_result",
          "data": {
            "text/plain": [
              "{'name': 'median_price', 'train': 497116.9988004173, 'dev': 479062.4340803305}"
            ]
          },
          "metadata": {},
          "execution_count": 8
        }
      ]
    },
    {
      "cell_type": "code",
      "execution_count": 9,
      "id": "30b07210",
      "metadata": {
        "id": "30b07210",
        "outputId": "df3d437d-ad1e-4288-fc87-9717a50dd6c0",
        "colab": {
          "base_uri": "https://localhost:8080/",
          "height": 112
        }
      },
      "outputs": [
        {
          "output_type": "execute_result",
          "data": {
            "text/plain": [
              "           name          train            dev\n",
              "0    mean_price  480141.367604  466108.164794\n",
              "1  median_price  497116.998800  479062.434080"
            ],
            "text/html": [
              "\n",
              "  <div id=\"df-26a77937-84fa-4570-916f-e3833da56baf\">\n",
              "    <div class=\"colab-df-container\">\n",
              "      <div>\n",
              "<style scoped>\n",
              "    .dataframe tbody tr th:only-of-type {\n",
              "        vertical-align: middle;\n",
              "    }\n",
              "\n",
              "    .dataframe tbody tr th {\n",
              "        vertical-align: top;\n",
              "    }\n",
              "\n",
              "    .dataframe thead th {\n",
              "        text-align: right;\n",
              "    }\n",
              "</style>\n",
              "<table border=\"1\" class=\"dataframe\">\n",
              "  <thead>\n",
              "    <tr style=\"text-align: right;\">\n",
              "      <th></th>\n",
              "      <th>name</th>\n",
              "      <th>train</th>\n",
              "      <th>dev</th>\n",
              "    </tr>\n",
              "  </thead>\n",
              "  <tbody>\n",
              "    <tr>\n",
              "      <th>0</th>\n",
              "      <td>mean_price</td>\n",
              "      <td>480141.367604</td>\n",
              "      <td>466108.164794</td>\n",
              "    </tr>\n",
              "    <tr>\n",
              "      <th>1</th>\n",
              "      <td>median_price</td>\n",
              "      <td>497116.998800</td>\n",
              "      <td>479062.434080</td>\n",
              "    </tr>\n",
              "  </tbody>\n",
              "</table>\n",
              "</div>\n",
              "      <button class=\"colab-df-convert\" onclick=\"convertToInteractive('df-26a77937-84fa-4570-916f-e3833da56baf')\"\n",
              "              title=\"Convert this dataframe to an interactive table.\"\n",
              "              style=\"display:none;\">\n",
              "        \n",
              "  <svg xmlns=\"http://www.w3.org/2000/svg\" height=\"24px\"viewBox=\"0 0 24 24\"\n",
              "       width=\"24px\">\n",
              "    <path d=\"M0 0h24v24H0V0z\" fill=\"none\"/>\n",
              "    <path d=\"M18.56 5.44l.94 2.06.94-2.06 2.06-.94-2.06-.94-.94-2.06-.94 2.06-2.06.94zm-11 1L8.5 8.5l.94-2.06 2.06-.94-2.06-.94L8.5 2.5l-.94 2.06-2.06.94zm10 10l.94 2.06.94-2.06 2.06-.94-2.06-.94-.94-2.06-.94 2.06-2.06.94z\"/><path d=\"M17.41 7.96l-1.37-1.37c-.4-.4-.92-.59-1.43-.59-.52 0-1.04.2-1.43.59L10.3 9.45l-7.72 7.72c-.78.78-.78 2.05 0 2.83L4 21.41c.39.39.9.59 1.41.59.51 0 1.02-.2 1.41-.59l7.78-7.78 2.81-2.81c.8-.78.8-2.07 0-2.86zM5.41 20L4 18.59l7.72-7.72 1.47 1.35L5.41 20z\"/>\n",
              "  </svg>\n",
              "      </button>\n",
              "      \n",
              "  <style>\n",
              "    .colab-df-container {\n",
              "      display:flex;\n",
              "      flex-wrap:wrap;\n",
              "      gap: 12px;\n",
              "    }\n",
              "\n",
              "    .colab-df-convert {\n",
              "      background-color: #E8F0FE;\n",
              "      border: none;\n",
              "      border-radius: 50%;\n",
              "      cursor: pointer;\n",
              "      display: none;\n",
              "      fill: #1967D2;\n",
              "      height: 32px;\n",
              "      padding: 0 0 0 0;\n",
              "      width: 32px;\n",
              "    }\n",
              "\n",
              "    .colab-df-convert:hover {\n",
              "      background-color: #E2EBFA;\n",
              "      box-shadow: 0px 1px 2px rgba(60, 64, 67, 0.3), 0px 1px 3px 1px rgba(60, 64, 67, 0.15);\n",
              "      fill: #174EA6;\n",
              "    }\n",
              "\n",
              "    [theme=dark] .colab-df-convert {\n",
              "      background-color: #3B4455;\n",
              "      fill: #D2E3FC;\n",
              "    }\n",
              "\n",
              "    [theme=dark] .colab-df-convert:hover {\n",
              "      background-color: #434B5C;\n",
              "      box-shadow: 0px 1px 3px 1px rgba(0, 0, 0, 0.15);\n",
              "      filter: drop-shadow(0px 1px 2px rgba(0, 0, 0, 0.3));\n",
              "      fill: #FFFFFF;\n",
              "    }\n",
              "  </style>\n",
              "\n",
              "      <script>\n",
              "        const buttonEl =\n",
              "          document.querySelector('#df-26a77937-84fa-4570-916f-e3833da56baf button.colab-df-convert');\n",
              "        buttonEl.style.display =\n",
              "          google.colab.kernel.accessAllowed ? 'block' : 'none';\n",
              "\n",
              "        async function convertToInteractive(key) {\n",
              "          const element = document.querySelector('#df-26a77937-84fa-4570-916f-e3833da56baf');\n",
              "          const dataTable =\n",
              "            await google.colab.kernel.invokeFunction('convertToInteractive',\n",
              "                                                     [key], {});\n",
              "          if (!dataTable) return;\n",
              "\n",
              "          const docLinkHtml = 'Like what you see? Visit the ' +\n",
              "            '<a target=\"_blank\" href=https://colab.research.google.com/notebooks/data_table.ipynb>data table notebook</a>'\n",
              "            + ' to learn more about interactive tables.';\n",
              "          element.innerHTML = '';\n",
              "          dataTable['output_type'] = 'display_data';\n",
              "          await google.colab.output.renderOutput(dataTable, element);\n",
              "          const docLink = document.createElement('div');\n",
              "          docLink.innerHTML = docLinkHtml;\n",
              "          element.appendChild(docLink);\n",
              "        }\n",
              "      </script>\n",
              "    </div>\n",
              "  </div>\n",
              "  "
            ]
          },
          "metadata": {},
          "execution_count": 9
        }
      ],
      "source": [
        "import pandas as pd\n",
        "\n",
        "pd.DataFrame(evaluator.evaluations)"
      ]
    },
    {
      "cell_type": "markdown",
      "id": "ba67f109",
      "metadata": {
        "id": "ba67f109"
      },
      "source": [
        "# Fit the model"
      ]
    },
    {
      "cell_type": "code",
      "execution_count": 12,
      "id": "aede4c7f",
      "metadata": {
        "id": "aede4c7f"
      },
      "outputs": [],
      "source": [
        "from taller_model_selection.transformers import FeatureProjection, TargetEncoder\n",
        "from sklearn.pipeline import make_pipeline, make_union\n",
        "from sklearn.preprocessing import OneHotEncoder\n",
        "from sklearn.impute import SimpleImputer\n",
        "from sklearn.linear_model import LinearRegression\n",
        "from sklearn.ensemble import RandomForestRegressor\n",
        "\n",
        "features_pipe =  make_union(\n",
        "    make_pipeline(\n",
        "        FeatureProjection(['rooms', 'bedrooms', 'bathrooms', 'surface_total', 'surface_covered']),\n",
        "        SimpleImputer()\n",
        "    ),\n",
        "    # make_pipeline(\n",
        "    #     FeatureProjection(['l3']), \n",
        "    #     SimpleImputer(strategy='most_frequent'),\n",
        "    #     OneHotEncoder(sparse=False, drop='first')\n",
        "    # ), \n",
        "    # Podes probar usar target encoder, one hot, o ambos\n",
        "    TargetEncoder('l3'),\n",
        "    make_pipeline(\n",
        "        FeatureProjection(['l4']), \n",
        "        SimpleImputer(strategy='constant'),\n",
        "        OneHotEncoder(sparse=False, drop='first')\n",
        "    ), \n",
        ")\n",
        "\n",
        "lr_pipe = make_pipeline(\n",
        "    features_pipe,\n",
        "    LinearRegression()\n",
        ")\n",
        "\n",
        "rf_pipe = make_pipeline(\n",
        "    features_pipe,\n",
        "    RandomForestRegressor(n_estimators=20)\n",
        ")"
      ]
    },
    {
      "cell_type": "code",
      "execution_count": 13,
      "id": "e9347763",
      "metadata": {
        "id": "e9347763",
        "outputId": "a9abc4fa-b175-407c-e01a-b8537923b6ce",
        "colab": {
          "base_uri": "https://localhost:8080/"
        }
      },
      "outputs": [
        {
          "output_type": "execute_result",
          "data": {
            "text/plain": [
              "Pipeline(steps=[('featureunion',\n",
              "                 FeatureUnion(transformer_list=[('pipeline-1',\n",
              "                                                 Pipeline(steps=[('featureprojection',\n",
              "                                                                  FeatureProjection(fields=['rooms',\n",
              "                                                                                            'bedrooms',\n",
              "                                                                                            'bathrooms',\n",
              "                                                                                            'surface_total',\n",
              "                                                                                            'surface_covered'])),\n",
              "                                                                 ('simpleimputer',\n",
              "                                                                  SimpleImputer())])),\n",
              "                                                ('targetencoder',\n",
              "                                                 TargetEncoder(categorical_field='l3')),\n",
              "                                                ('pipeline-2',\n",
              "                                                 Pipeline(steps=[('featureprojection',\n",
              "                                                                  FeatureProjection(fields=['l4'])),\n",
              "                                                                 ('simpleimputer',\n",
              "                                                                  SimpleImputer(strategy='constant')),\n",
              "                                                                 ('onehotencoder',\n",
              "                                                                  OneHotEncoder(drop='first',\n",
              "                                                                                sparse=False))]))])),\n",
              "                ('linearregression', LinearRegression())])"
            ]
          },
          "metadata": {},
          "execution_count": 13
        }
      ],
      "source": [
        "lr_pipe.fit(X_train, y_train)"
      ]
    },
    {
      "cell_type": "code",
      "execution_count": 14,
      "id": "5dc1a16c",
      "metadata": {
        "id": "5dc1a16c",
        "outputId": "4e007017-898d-4e8e-bbb8-898db6d675c3",
        "colab": {
          "base_uri": "https://localhost:8080/"
        }
      },
      "outputs": [
        {
          "output_type": "execute_result",
          "data": {
            "text/plain": [
              "Pipeline(steps=[('featureunion',\n",
              "                 FeatureUnion(transformer_list=[('pipeline-1',\n",
              "                                                 Pipeline(steps=[('featureprojection',\n",
              "                                                                  FeatureProjection(fields=['rooms',\n",
              "                                                                                            'bedrooms',\n",
              "                                                                                            'bathrooms',\n",
              "                                                                                            'surface_total',\n",
              "                                                                                            'surface_covered'])),\n",
              "                                                                 ('simpleimputer',\n",
              "                                                                  SimpleImputer())])),\n",
              "                                                ('targetencoder',\n",
              "                                                 TargetEncoder(categorical_field='l3')),\n",
              "                                                ('pipeline-2',\n",
              "                                                 Pipeline(steps=[('featureprojection',\n",
              "                                                                  FeatureProjection(fields=['l4'])),\n",
              "                                                                 ('simpleimputer',\n",
              "                                                                  SimpleImputer(strategy='constant')),\n",
              "                                                                 ('onehotencoder',\n",
              "                                                                  OneHotEncoder(drop='first',\n",
              "                                                                                sparse=False))]))])),\n",
              "                ('randomforestregressor',\n",
              "                 RandomForestRegressor(n_estimators=20))])"
            ]
          },
          "metadata": {},
          "execution_count": 14
        }
      ],
      "source": [
        "rf_pipe.fit(X_train, y_train)"
      ]
    },
    {
      "cell_type": "code",
      "source": [
        "evaluator.eval_pipe('lr', lr_pipe)"
      ],
      "metadata": {
        "id": "0N9-kQthLgq4",
        "outputId": "3b8a6204-7f0b-496f-dfa3-3f4fc8425006",
        "colab": {
          "base_uri": "https://localhost:8080/"
        }
      },
      "id": "0N9-kQthLgq4",
      "execution_count": 15,
      "outputs": [
        {
          "output_type": "execute_result",
          "data": {
            "text/plain": [
              "{'name': 'lr', 'train': 416657.1951026198, 'dev': 386008.88681383367}"
            ]
          },
          "metadata": {},
          "execution_count": 15
        }
      ]
    },
    {
      "cell_type": "code",
      "source": [
        "evaluator.eval_pipe('rf', rf_pipe)"
      ],
      "metadata": {
        "id": "nVSQC5VOLjnS",
        "outputId": "26044b1e-f916-4837-bb14-b179c76b203a",
        "colab": {
          "base_uri": "https://localhost:8080/"
        }
      },
      "id": "nVSQC5VOLjnS",
      "execution_count": 16,
      "outputs": [
        {
          "output_type": "execute_result",
          "data": {
            "text/plain": [
              "{'name': 'rf', 'train': 198646.09369999726, 'dev': 287474.7091955039}"
            ]
          },
          "metadata": {},
          "execution_count": 16
        }
      ]
    },
    {
      "cell_type": "code",
      "execution_count": 17,
      "id": "5f1b1151",
      "metadata": {
        "id": "5f1b1151",
        "outputId": "bebd2aeb-abf6-4d39-9e35-3596dbdff0e7",
        "colab": {
          "base_uri": "https://localhost:8080/",
          "height": 175
        }
      },
      "outputs": [
        {
          "output_type": "execute_result",
          "data": {
            "text/plain": [
              "           name          train            dev\n",
              "0    mean_price  480141.367604  466108.164794\n",
              "1  median_price  497116.998800  479062.434080\n",
              "2            lr  416657.195103  386008.886814\n",
              "3            rf  198646.093700  287474.709196"
            ],
            "text/html": [
              "\n",
              "  <div id=\"df-8f9fbf92-e14f-48cb-8cff-53f5b46c5f8f\">\n",
              "    <div class=\"colab-df-container\">\n",
              "      <div>\n",
              "<style scoped>\n",
              "    .dataframe tbody tr th:only-of-type {\n",
              "        vertical-align: middle;\n",
              "    }\n",
              "\n",
              "    .dataframe tbody tr th {\n",
              "        vertical-align: top;\n",
              "    }\n",
              "\n",
              "    .dataframe thead th {\n",
              "        text-align: right;\n",
              "    }\n",
              "</style>\n",
              "<table border=\"1\" class=\"dataframe\">\n",
              "  <thead>\n",
              "    <tr style=\"text-align: right;\">\n",
              "      <th></th>\n",
              "      <th>name</th>\n",
              "      <th>train</th>\n",
              "      <th>dev</th>\n",
              "    </tr>\n",
              "  </thead>\n",
              "  <tbody>\n",
              "    <tr>\n",
              "      <th>0</th>\n",
              "      <td>mean_price</td>\n",
              "      <td>480141.367604</td>\n",
              "      <td>466108.164794</td>\n",
              "    </tr>\n",
              "    <tr>\n",
              "      <th>1</th>\n",
              "      <td>median_price</td>\n",
              "      <td>497116.998800</td>\n",
              "      <td>479062.434080</td>\n",
              "    </tr>\n",
              "    <tr>\n",
              "      <th>2</th>\n",
              "      <td>lr</td>\n",
              "      <td>416657.195103</td>\n",
              "      <td>386008.886814</td>\n",
              "    </tr>\n",
              "    <tr>\n",
              "      <th>3</th>\n",
              "      <td>rf</td>\n",
              "      <td>198646.093700</td>\n",
              "      <td>287474.709196</td>\n",
              "    </tr>\n",
              "  </tbody>\n",
              "</table>\n",
              "</div>\n",
              "      <button class=\"colab-df-convert\" onclick=\"convertToInteractive('df-8f9fbf92-e14f-48cb-8cff-53f5b46c5f8f')\"\n",
              "              title=\"Convert this dataframe to an interactive table.\"\n",
              "              style=\"display:none;\">\n",
              "        \n",
              "  <svg xmlns=\"http://www.w3.org/2000/svg\" height=\"24px\"viewBox=\"0 0 24 24\"\n",
              "       width=\"24px\">\n",
              "    <path d=\"M0 0h24v24H0V0z\" fill=\"none\"/>\n",
              "    <path d=\"M18.56 5.44l.94 2.06.94-2.06 2.06-.94-2.06-.94-.94-2.06-.94 2.06-2.06.94zm-11 1L8.5 8.5l.94-2.06 2.06-.94-2.06-.94L8.5 2.5l-.94 2.06-2.06.94zm10 10l.94 2.06.94-2.06 2.06-.94-2.06-.94-.94-2.06-.94 2.06-2.06.94z\"/><path d=\"M17.41 7.96l-1.37-1.37c-.4-.4-.92-.59-1.43-.59-.52 0-1.04.2-1.43.59L10.3 9.45l-7.72 7.72c-.78.78-.78 2.05 0 2.83L4 21.41c.39.39.9.59 1.41.59.51 0 1.02-.2 1.41-.59l7.78-7.78 2.81-2.81c.8-.78.8-2.07 0-2.86zM5.41 20L4 18.59l7.72-7.72 1.47 1.35L5.41 20z\"/>\n",
              "  </svg>\n",
              "      </button>\n",
              "      \n",
              "  <style>\n",
              "    .colab-df-container {\n",
              "      display:flex;\n",
              "      flex-wrap:wrap;\n",
              "      gap: 12px;\n",
              "    }\n",
              "\n",
              "    .colab-df-convert {\n",
              "      background-color: #E8F0FE;\n",
              "      border: none;\n",
              "      border-radius: 50%;\n",
              "      cursor: pointer;\n",
              "      display: none;\n",
              "      fill: #1967D2;\n",
              "      height: 32px;\n",
              "      padding: 0 0 0 0;\n",
              "      width: 32px;\n",
              "    }\n",
              "\n",
              "    .colab-df-convert:hover {\n",
              "      background-color: #E2EBFA;\n",
              "      box-shadow: 0px 1px 2px rgba(60, 64, 67, 0.3), 0px 1px 3px 1px rgba(60, 64, 67, 0.15);\n",
              "      fill: #174EA6;\n",
              "    }\n",
              "\n",
              "    [theme=dark] .colab-df-convert {\n",
              "      background-color: #3B4455;\n",
              "      fill: #D2E3FC;\n",
              "    }\n",
              "\n",
              "    [theme=dark] .colab-df-convert:hover {\n",
              "      background-color: #434B5C;\n",
              "      box-shadow: 0px 1px 3px 1px rgba(0, 0, 0, 0.15);\n",
              "      filter: drop-shadow(0px 1px 2px rgba(0, 0, 0, 0.3));\n",
              "      fill: #FFFFFF;\n",
              "    }\n",
              "  </style>\n",
              "\n",
              "      <script>\n",
              "        const buttonEl =\n",
              "          document.querySelector('#df-8f9fbf92-e14f-48cb-8cff-53f5b46c5f8f button.colab-df-convert');\n",
              "        buttonEl.style.display =\n",
              "          google.colab.kernel.accessAllowed ? 'block' : 'none';\n",
              "\n",
              "        async function convertToInteractive(key) {\n",
              "          const element = document.querySelector('#df-8f9fbf92-e14f-48cb-8cff-53f5b46c5f8f');\n",
              "          const dataTable =\n",
              "            await google.colab.kernel.invokeFunction('convertToInteractive',\n",
              "                                                     [key], {});\n",
              "          if (!dataTable) return;\n",
              "\n",
              "          const docLinkHtml = 'Like what you see? Visit the ' +\n",
              "            '<a target=\"_blank\" href=https://colab.research.google.com/notebooks/data_table.ipynb>data table notebook</a>'\n",
              "            + ' to learn more about interactive tables.';\n",
              "          element.innerHTML = '';\n",
              "          dataTable['output_type'] = 'display_data';\n",
              "          await google.colab.output.renderOutput(dataTable, element);\n",
              "          const docLink = document.createElement('div');\n",
              "          docLink.innerHTML = docLinkHtml;\n",
              "          element.appendChild(docLink);\n",
              "        }\n",
              "      </script>\n",
              "    </div>\n",
              "  </div>\n",
              "  "
            ]
          },
          "metadata": {},
          "execution_count": 17
        }
      ],
      "source": [
        "df = pd.DataFrame(evaluator.evaluations)\n",
        "df"
      ]
    },
    {
      "cell_type": "code",
      "execution_count": 18,
      "id": "7c75a54b",
      "metadata": {
        "id": "7c75a54b",
        "outputId": "1289d58a-3019-462b-865b-28e9324db166",
        "colab": {
          "base_uri": "https://localhost:8080/",
          "height": 175
        }
      },
      "outputs": [
        {
          "output_type": "execute_result",
          "data": {
            "text/plain": [
              "           name          train            dev  pct_lift\n",
              "3            rf  198646.093700  287474.709196  0.600078\n",
              "2            lr  416657.195103  386008.886814  0.805759\n",
              "0    mean_price  480141.367604  466108.164794  0.972959\n",
              "1  median_price  497116.998800  479062.434080  1.000000"
            ],
            "text/html": [
              "\n",
              "  <div id=\"df-7a834135-be87-4af2-af43-a522e55f24e1\">\n",
              "    <div class=\"colab-df-container\">\n",
              "      <div>\n",
              "<style scoped>\n",
              "    .dataframe tbody tr th:only-of-type {\n",
              "        vertical-align: middle;\n",
              "    }\n",
              "\n",
              "    .dataframe tbody tr th {\n",
              "        vertical-align: top;\n",
              "    }\n",
              "\n",
              "    .dataframe thead th {\n",
              "        text-align: right;\n",
              "    }\n",
              "</style>\n",
              "<table border=\"1\" class=\"dataframe\">\n",
              "  <thead>\n",
              "    <tr style=\"text-align: right;\">\n",
              "      <th></th>\n",
              "      <th>name</th>\n",
              "      <th>train</th>\n",
              "      <th>dev</th>\n",
              "      <th>pct_lift</th>\n",
              "    </tr>\n",
              "  </thead>\n",
              "  <tbody>\n",
              "    <tr>\n",
              "      <th>3</th>\n",
              "      <td>rf</td>\n",
              "      <td>198646.093700</td>\n",
              "      <td>287474.709196</td>\n",
              "      <td>0.600078</td>\n",
              "    </tr>\n",
              "    <tr>\n",
              "      <th>2</th>\n",
              "      <td>lr</td>\n",
              "      <td>416657.195103</td>\n",
              "      <td>386008.886814</td>\n",
              "      <td>0.805759</td>\n",
              "    </tr>\n",
              "    <tr>\n",
              "      <th>0</th>\n",
              "      <td>mean_price</td>\n",
              "      <td>480141.367604</td>\n",
              "      <td>466108.164794</td>\n",
              "      <td>0.972959</td>\n",
              "    </tr>\n",
              "    <tr>\n",
              "      <th>1</th>\n",
              "      <td>median_price</td>\n",
              "      <td>497116.998800</td>\n",
              "      <td>479062.434080</td>\n",
              "      <td>1.000000</td>\n",
              "    </tr>\n",
              "  </tbody>\n",
              "</table>\n",
              "</div>\n",
              "      <button class=\"colab-df-convert\" onclick=\"convertToInteractive('df-7a834135-be87-4af2-af43-a522e55f24e1')\"\n",
              "              title=\"Convert this dataframe to an interactive table.\"\n",
              "              style=\"display:none;\">\n",
              "        \n",
              "  <svg xmlns=\"http://www.w3.org/2000/svg\" height=\"24px\"viewBox=\"0 0 24 24\"\n",
              "       width=\"24px\">\n",
              "    <path d=\"M0 0h24v24H0V0z\" fill=\"none\"/>\n",
              "    <path d=\"M18.56 5.44l.94 2.06.94-2.06 2.06-.94-2.06-.94-.94-2.06-.94 2.06-2.06.94zm-11 1L8.5 8.5l.94-2.06 2.06-.94-2.06-.94L8.5 2.5l-.94 2.06-2.06.94zm10 10l.94 2.06.94-2.06 2.06-.94-2.06-.94-.94-2.06-.94 2.06-2.06.94z\"/><path d=\"M17.41 7.96l-1.37-1.37c-.4-.4-.92-.59-1.43-.59-.52 0-1.04.2-1.43.59L10.3 9.45l-7.72 7.72c-.78.78-.78 2.05 0 2.83L4 21.41c.39.39.9.59 1.41.59.51 0 1.02-.2 1.41-.59l7.78-7.78 2.81-2.81c.8-.78.8-2.07 0-2.86zM5.41 20L4 18.59l7.72-7.72 1.47 1.35L5.41 20z\"/>\n",
              "  </svg>\n",
              "      </button>\n",
              "      \n",
              "  <style>\n",
              "    .colab-df-container {\n",
              "      display:flex;\n",
              "      flex-wrap:wrap;\n",
              "      gap: 12px;\n",
              "    }\n",
              "\n",
              "    .colab-df-convert {\n",
              "      background-color: #E8F0FE;\n",
              "      border: none;\n",
              "      border-radius: 50%;\n",
              "      cursor: pointer;\n",
              "      display: none;\n",
              "      fill: #1967D2;\n",
              "      height: 32px;\n",
              "      padding: 0 0 0 0;\n",
              "      width: 32px;\n",
              "    }\n",
              "\n",
              "    .colab-df-convert:hover {\n",
              "      background-color: #E2EBFA;\n",
              "      box-shadow: 0px 1px 2px rgba(60, 64, 67, 0.3), 0px 1px 3px 1px rgba(60, 64, 67, 0.15);\n",
              "      fill: #174EA6;\n",
              "    }\n",
              "\n",
              "    [theme=dark] .colab-df-convert {\n",
              "      background-color: #3B4455;\n",
              "      fill: #D2E3FC;\n",
              "    }\n",
              "\n",
              "    [theme=dark] .colab-df-convert:hover {\n",
              "      background-color: #434B5C;\n",
              "      box-shadow: 0px 1px 3px 1px rgba(0, 0, 0, 0.15);\n",
              "      filter: drop-shadow(0px 1px 2px rgba(0, 0, 0, 0.3));\n",
              "      fill: #FFFFFF;\n",
              "    }\n",
              "  </style>\n",
              "\n",
              "      <script>\n",
              "        const buttonEl =\n",
              "          document.querySelector('#df-7a834135-be87-4af2-af43-a522e55f24e1 button.colab-df-convert');\n",
              "        buttonEl.style.display =\n",
              "          google.colab.kernel.accessAllowed ? 'block' : 'none';\n",
              "\n",
              "        async function convertToInteractive(key) {\n",
              "          const element = document.querySelector('#df-7a834135-be87-4af2-af43-a522e55f24e1');\n",
              "          const dataTable =\n",
              "            await google.colab.kernel.invokeFunction('convertToInteractive',\n",
              "                                                     [key], {});\n",
              "          if (!dataTable) return;\n",
              "\n",
              "          const docLinkHtml = 'Like what you see? Visit the ' +\n",
              "            '<a target=\"_blank\" href=https://colab.research.google.com/notebooks/data_table.ipynb>data table notebook</a>'\n",
              "            + ' to learn more about interactive tables.';\n",
              "          element.innerHTML = '';\n",
              "          dataTable['output_type'] = 'display_data';\n",
              "          await google.colab.output.renderOutput(dataTable, element);\n",
              "          const docLink = document.createElement('div');\n",
              "          docLink.innerHTML = docLinkHtml;\n",
              "          element.appendChild(docLink);\n",
              "        }\n",
              "      </script>\n",
              "    </div>\n",
              "  </div>\n",
              "  "
            ]
          },
          "metadata": {},
          "execution_count": 18
        }
      ],
      "source": [
        "df['pct_lift'] = df.dev / df.dev.max()\n",
        "df.sort_values('dev')"
      ]
    }
  ],
  "metadata": {
    "kernelspec": {
      "display_name": "Python 3 (ipykernel)",
      "language": "python",
      "name": "python3"
    },
    "language_info": {
      "codemirror_mode": {
        "name": "ipython",
        "version": 3
      },
      "file_extension": ".py",
      "mimetype": "text/x-python",
      "name": "python",
      "nbconvert_exporter": "python",
      "pygments_lexer": "ipython3",
      "version": "3.9.12"
    },
    "colab": {
      "provenance": []
    }
  },
  "nbformat": 4,
  "nbformat_minor": 5
}