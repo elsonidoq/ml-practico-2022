{
 "cells": [
  {
   "cell_type": "markdown",
   "id": "805313b2",
   "metadata": {
    "id": "805313b2"
   },
   "source": [
    "# Setup en colab\n",
    "\n",
    "Crea un shortcut en tu drive de los [datos](https://drive.google.com/drive/folders/1djjceNkO42vrB10PubYTzQydfccPbzdB?usp=sharing)\n",
    "\n"
   ]
  },
  {
   "cell_type": "code",
   "execution_count": 1,
   "id": "XjTyVwaRIaPT",
   "metadata": {
    "colab": {
     "base_uri": "https://localhost:8080/"
    },
    "id": "XjTyVwaRIaPT",
    "outputId": "80105193-3b34-45a1-e819-6825c95d6abd"
   },
   "outputs": [
    {
     "name": "stdout",
     "output_type": "stream",
     "text": [
      "Looking in indexes: https://pypi.org/simple, https://us-python.pkg.dev/colab-wheels/public/simple/\n",
      "Collecting fasttext\n",
      "  Downloading fasttext-0.9.2.tar.gz (68 kB)\n",
      "\u001b[K     |████████████████████████████████| 68 kB 3.0 MB/s \n",
      "\u001b[?25hCollecting pybind11>=2.2\n",
      "  Using cached pybind11-2.10.0-py3-none-any.whl (213 kB)\n",
      "Requirement already satisfied: setuptools>=0.7.0 in /usr/local/lib/python3.7/dist-packages (from fasttext) (57.4.0)\n",
      "Requirement already satisfied: numpy in /usr/local/lib/python3.7/dist-packages (from fasttext) (1.21.6)\n",
      "Building wheels for collected packages: fasttext\n",
      "  Building wheel for fasttext (setup.py) ... \u001b[?25l\u001b[?25hdone\n",
      "  Created wheel for fasttext: filename=fasttext-0.9.2-cp37-cp37m-linux_x86_64.whl size=3163642 sha256=a77018376da3a6ff6a8331dfaea5c95ad568c3a7bc06da71f2c035bfb3a6a0c2\n",
      "  Stored in directory: /root/.cache/pip/wheels/4e/ca/bf/b020d2be95f7641801a6597a29c8f4f19e38f9c02a345bab9b\n",
      "Successfully built fasttext\n",
      "Installing collected packages: pybind11, fasttext\n",
      "Successfully installed fasttext-0.9.2 pybind11-2.10.0\n"
     ]
    }
   ],
   "source": [
    "# necesario si vas a usar los embeddings de titulo\n",
    "!wget -O title_fasttext.bin https://drive.google.com/file/d/1eB9X-9XmDMP1Hv_892JKLCpk8JePzhG3/view?usp=sharing\n",
    "!pip install fasttext "
   ]
  },
  {
   "cell_type": "code",
   "execution_count": 2,
   "id": "_6FOvrRfHjki",
   "metadata": {
    "colab": {
     "base_uri": "https://localhost:8080/"
    },
    "id": "_6FOvrRfHjki",
    "outputId": "7541bd3d-f1f9-40f1-ba1c-5a2e32b35298"
   },
   "outputs": [
    {
     "name": "stdout",
     "output_type": "stream",
     "text": [
      "fatal: destination path 'ml-practico-2022' already exists and is not an empty directory.\n"
     ]
    }
   ],
   "source": [
    "# Clonamos el repo para usar el codigo de la lib\n",
    "!git clone https://github.com/elsonidoq/ml-practico-2022.git\n",
    "!cd ml-practico-2022; git pull"
   ]
  },
  {
   "cell_type": "code",
   "execution_count": 4,
   "id": "xy08vpEPHnhU",
   "metadata": {
    "id": "xy08vpEPHnhU"
   },
   "outputs": [],
   "source": [
    "import sys\n",
    "sys.path.append('ml-practico-2022/lib')"
   ]
  },
  {
   "cell_type": "code",
   "execution_count": 5,
   "id": "U-qkODQTHv2G",
   "metadata": {
    "colab": {
     "base_uri": "https://localhost:8080/"
    },
    "id": "U-qkODQTHv2G",
    "outputId": "6e8f8af2-d0df-4fc7-f354-f0820aa82283"
   },
   "outputs": [
    {
     "name": "stdout",
     "output_type": "stream",
     "text": [
      "Drive already mounted at /content/gdrive; to attempt to forcibly remount, call drive.mount(\"/content/gdrive\", force_remount=True).\n"
     ]
    }
   ],
   "source": [
    "from google.colab import drive\n",
    "\n",
    "drive.mount('/content/gdrive')"
   ]
  },
  {
   "cell_type": "markdown",
   "id": "izNfwkcdMfDx",
   "metadata": {
    "id": "izNfwkcdMfDx"
   },
   "source": [
    "# Entrenamos un modelo"
   ]
  },
  {
   "cell_type": "code",
   "execution_count": 6,
   "id": "2ce12c43",
   "metadata": {
    "colab": {
     "base_uri": "https://localhost:8080/"
    },
    "id": "2ce12c43",
    "outputId": "2ad195e6-43e2-4c97-efdd-d381009d901d"
   },
   "outputs": [
    {
     "name": "stdout",
     "output_type": "stream",
     "text": [
      "{'pct(train)': 0.809998757918271, 'pct(dev)': 0.09000124208172898, 'pct(test)': 0.1}\n"
     ]
    }
   ],
   "source": [
    "from taller_model_selection.evaluate import load_train_dev_test\n",
    "\n",
    "(X_train, y_train), (X_dev, y_dev), test = load_train_dev_test('/content/gdrive/MyDrive/taller-model-selection-data')"
   ]
  },
  {
   "cell_type": "code",
   "execution_count": 7,
   "id": "922d3f80",
   "metadata": {
    "colab": {
     "base_uri": "https://localhost:8080/"
    },
    "id": "922d3f80",
    "outputId": "6fbc6a7e-1740-4da3-aa81-6f2c97764e11"
   },
   "outputs": [
    {
     "data": {
      "text/plain": [
       "('2021-05-01', '2021-05-01', '2021-05-01')"
      ]
     },
     "execution_count": 7,
     "metadata": {},
     "output_type": "execute_result"
    }
   ],
   "source": [
    "(\n",
    "    max([e['created_on'] for e in X_train]), \n",
    "    max([e['created_on'] for e in X_dev]), \n",
    "    max([e['created_on'] for e in test[0]])\n",
    ")"
   ]
  },
  {
   "cell_type": "code",
   "execution_count": 8,
   "id": "74754e47",
   "metadata": {
    "id": "74754e47"
   },
   "outputs": [],
   "source": [
    "import numpy as np\n",
    "\n",
    "mean_price = np.mean(y_train)\n",
    "median_price = np.median(y_train)"
   ]
  },
  {
   "cell_type": "code",
   "execution_count": 9,
   "id": "jMdqjRaxKouj",
   "metadata": {
    "id": "jMdqjRaxKouj"
   },
   "outputs": [],
   "source": [
    "from taller_model_selection.evaluate import Evaluator\n",
    "\n",
    "evaluator = Evaluator(X_train, y_train, X_dev, y_dev)"
   ]
  },
  {
   "cell_type": "code",
   "execution_count": 10,
   "id": "vWNLpnZJKwp1",
   "metadata": {
    "colab": {
     "base_uri": "https://localhost:8080/"
    },
    "id": "vWNLpnZJKwp1",
    "outputId": "53df127c-9d61-4fc7-f5bf-5b649c281e2a"
   },
   "outputs": [
    {
     "data": {
      "text/plain": [
       "{'name': 'mean_price', 'train': 448215.69625457143, 'dev': 457302.60238727595}"
      ]
     },
     "execution_count": 10,
     "metadata": {},
     "output_type": "execute_result"
    }
   ],
   "source": [
    "evaluator.eval_prediction('mean_price', y_hat_train=[mean_price] * len(y_train), y_hat_dev=[mean_price] * len(y_dev))"
   ]
  },
  {
   "cell_type": "code",
   "execution_count": 11,
   "id": "giL6nvItLpXX",
   "metadata": {
    "colab": {
     "base_uri": "https://localhost:8080/"
    },
    "id": "giL6nvItLpXX",
    "outputId": "9aae7f4a-bfbb-49b9-80cc-aa7a5d44f460"
   },
   "outputs": [
    {
     "data": {
      "text/plain": [
       "{'name': 'median_price',\n",
       " 'train': 463830.09217220347,\n",
       " 'dev': 472424.57116989064}"
      ]
     },
     "execution_count": 11,
     "metadata": {},
     "output_type": "execute_result"
    }
   ],
   "source": [
    "evaluator.eval_prediction('median_price', y_hat_train=[median_price] * len(y_train), y_hat_dev=[median_price] * len(y_dev))"
   ]
  },
  {
   "cell_type": "code",
   "execution_count": 12,
   "id": "30b07210",
   "metadata": {
    "colab": {
     "base_uri": "https://localhost:8080/",
     "height": 112
    },
    "id": "30b07210",
    "outputId": "948ec3e2-6575-4a37-eec1-388cffff1770"
   },
   "outputs": [
    {
     "data": {
      "text/html": [
       "\n",
       "  <div id=\"df-ef0d779d-d0f2-49ca-a7f8-16e6831c2e56\">\n",
       "    <div class=\"colab-df-container\">\n",
       "      <div>\n",
       "<style scoped>\n",
       "    .dataframe tbody tr th:only-of-type {\n",
       "        vertical-align: middle;\n",
       "    }\n",
       "\n",
       "    .dataframe tbody tr th {\n",
       "        vertical-align: top;\n",
       "    }\n",
       "\n",
       "    .dataframe thead th {\n",
       "        text-align: right;\n",
       "    }\n",
       "</style>\n",
       "<table border=\"1\" class=\"dataframe\">\n",
       "  <thead>\n",
       "    <tr style=\"text-align: right;\">\n",
       "      <th></th>\n",
       "      <th>name</th>\n",
       "      <th>train</th>\n",
       "      <th>dev</th>\n",
       "    </tr>\n",
       "  </thead>\n",
       "  <tbody>\n",
       "    <tr>\n",
       "      <th>0</th>\n",
       "      <td>mean_price</td>\n",
       "      <td>448215.696255</td>\n",
       "      <td>457302.602387</td>\n",
       "    </tr>\n",
       "    <tr>\n",
       "      <th>1</th>\n",
       "      <td>median_price</td>\n",
       "      <td>463830.092172</td>\n",
       "      <td>472424.571170</td>\n",
       "    </tr>\n",
       "  </tbody>\n",
       "</table>\n",
       "</div>\n",
       "      <button class=\"colab-df-convert\" onclick=\"convertToInteractive('df-ef0d779d-d0f2-49ca-a7f8-16e6831c2e56')\"\n",
       "              title=\"Convert this dataframe to an interactive table.\"\n",
       "              style=\"display:none;\">\n",
       "        \n",
       "  <svg xmlns=\"http://www.w3.org/2000/svg\" height=\"24px\"viewBox=\"0 0 24 24\"\n",
       "       width=\"24px\">\n",
       "    <path d=\"M0 0h24v24H0V0z\" fill=\"none\"/>\n",
       "    <path d=\"M18.56 5.44l.94 2.06.94-2.06 2.06-.94-2.06-.94-.94-2.06-.94 2.06-2.06.94zm-11 1L8.5 8.5l.94-2.06 2.06-.94-2.06-.94L8.5 2.5l-.94 2.06-2.06.94zm10 10l.94 2.06.94-2.06 2.06-.94-2.06-.94-.94-2.06-.94 2.06-2.06.94z\"/><path d=\"M17.41 7.96l-1.37-1.37c-.4-.4-.92-.59-1.43-.59-.52 0-1.04.2-1.43.59L10.3 9.45l-7.72 7.72c-.78.78-.78 2.05 0 2.83L4 21.41c.39.39.9.59 1.41.59.51 0 1.02-.2 1.41-.59l7.78-7.78 2.81-2.81c.8-.78.8-2.07 0-2.86zM5.41 20L4 18.59l7.72-7.72 1.47 1.35L5.41 20z\"/>\n",
       "  </svg>\n",
       "      </button>\n",
       "      \n",
       "  <style>\n",
       "    .colab-df-container {\n",
       "      display:flex;\n",
       "      flex-wrap:wrap;\n",
       "      gap: 12px;\n",
       "    }\n",
       "\n",
       "    .colab-df-convert {\n",
       "      background-color: #E8F0FE;\n",
       "      border: none;\n",
       "      border-radius: 50%;\n",
       "      cursor: pointer;\n",
       "      display: none;\n",
       "      fill: #1967D2;\n",
       "      height: 32px;\n",
       "      padding: 0 0 0 0;\n",
       "      width: 32px;\n",
       "    }\n",
       "\n",
       "    .colab-df-convert:hover {\n",
       "      background-color: #E2EBFA;\n",
       "      box-shadow: 0px 1px 2px rgba(60, 64, 67, 0.3), 0px 1px 3px 1px rgba(60, 64, 67, 0.15);\n",
       "      fill: #174EA6;\n",
       "    }\n",
       "\n",
       "    [theme=dark] .colab-df-convert {\n",
       "      background-color: #3B4455;\n",
       "      fill: #D2E3FC;\n",
       "    }\n",
       "\n",
       "    [theme=dark] .colab-df-convert:hover {\n",
       "      background-color: #434B5C;\n",
       "      box-shadow: 0px 1px 3px 1px rgba(0, 0, 0, 0.15);\n",
       "      filter: drop-shadow(0px 1px 2px rgba(0, 0, 0, 0.3));\n",
       "      fill: #FFFFFF;\n",
       "    }\n",
       "  </style>\n",
       "\n",
       "      <script>\n",
       "        const buttonEl =\n",
       "          document.querySelector('#df-ef0d779d-d0f2-49ca-a7f8-16e6831c2e56 button.colab-df-convert');\n",
       "        buttonEl.style.display =\n",
       "          google.colab.kernel.accessAllowed ? 'block' : 'none';\n",
       "\n",
       "        async function convertToInteractive(key) {\n",
       "          const element = document.querySelector('#df-ef0d779d-d0f2-49ca-a7f8-16e6831c2e56');\n",
       "          const dataTable =\n",
       "            await google.colab.kernel.invokeFunction('convertToInteractive',\n",
       "                                                     [key], {});\n",
       "          if (!dataTable) return;\n",
       "\n",
       "          const docLinkHtml = 'Like what you see? Visit the ' +\n",
       "            '<a target=\"_blank\" href=https://colab.research.google.com/notebooks/data_table.ipynb>data table notebook</a>'\n",
       "            + ' to learn more about interactive tables.';\n",
       "          element.innerHTML = '';\n",
       "          dataTable['output_type'] = 'display_data';\n",
       "          await google.colab.output.renderOutput(dataTable, element);\n",
       "          const docLink = document.createElement('div');\n",
       "          docLink.innerHTML = docLinkHtml;\n",
       "          element.appendChild(docLink);\n",
       "        }\n",
       "      </script>\n",
       "    </div>\n",
       "  </div>\n",
       "  "
      ],
      "text/plain": [
       "           name          train            dev\n",
       "0    mean_price  448215.696255  457302.602387\n",
       "1  median_price  463830.092172  472424.571170"
      ]
     },
     "execution_count": 12,
     "metadata": {},
     "output_type": "execute_result"
    }
   ],
   "source": [
    "import pandas as pd\n",
    "\n",
    "pd.DataFrame(evaluator.evaluations)"
   ]
  },
  {
   "cell_type": "markdown",
   "id": "ba67f109",
   "metadata": {
    "id": "ba67f109"
   },
   "source": [
    "# Fit the model"
   ]
  },
  {
   "cell_type": "code",
   "execution_count": 13,
   "id": "aede4c7f",
   "metadata": {
    "id": "aede4c7f"
   },
   "outputs": [],
   "source": [
    "from taller_model_selection.transformers import FeatureProjection, TargetEncoder, ZonePriceM2, PretrainedFastTextTransformer\n",
    "from sklearn.pipeline import make_pipeline, make_union\n",
    "from sklearn.preprocessing import OneHotEncoder\n",
    "from sklearn.impute import SimpleImputer\n",
    "from sklearn.linear_model import LinearRegression\n",
    "from sklearn.ensemble import RandomForestRegressor\n",
    "\n",
    "features_pipe =  make_union(\n",
    "    PretrainedFastTextTransformer('title_fasttext.bin', 'title'),\n",
    "\n",
    "    make_pipeline(\n",
    "        FeatureProjection(['rooms', 'bedrooms', 'bathrooms', 'surface_total', 'surface_covered']),\n",
    "        SimpleImputer()\n",
    "    ),\n",
    "    # make_pipeline(\n",
    "    #     FeatureProjection(['l3']), \n",
    "    #     SimpleImputer(strategy='most_frequent'),\n",
    "    #     OneHotEncoder(sparse=False, drop='first')\n",
    "    # ), \n",
    "    # Podes probar usar target encoder, one hot, o ambos\n",
    "    TargetEncoder('l3'),\n",
    "    ZonePriceM2(n_neighbours=30),\n",
    "    make_pipeline(\n",
    "        FeatureProjection(['l4']), \n",
    "        SimpleImputer(strategy='constant'),\n",
    "        OneHotEncoder(sparse=False, drop='first')\n",
    "    ), \n",
    ")\n",
    "\n",
    "lr_pipe = make_pipeline(\n",
    "    features_pipe,\n",
    "    LinearRegression()\n",
    ")\n",
    "\n",
    "rf_pipe = make_pipeline(\n",
    "    features_pipe,\n",
    "    RandomForestRegressor(n_estimators=20)\n",
    ")"
   ]
  },
  {
   "cell_type": "code",
   "execution_count": 14,
   "id": "e9347763",
   "metadata": {
    "colab": {
     "base_uri": "https://localhost:8080/"
    },
    "id": "e9347763",
    "outputId": "e00253bb-5eac-46b4-f830-4ac6b07fc195"
   },
   "outputs": [
    {
     "name": "stderr",
     "output_type": "stream",
     "text": [
      "Warning : `load_model` does not return WordVectorModel or SupervisedModel any more, but a `FastText` object which is very similar.\n"
     ]
    },
    {
     "data": {
      "text/plain": [
       "Pipeline(steps=[('featureunion',\n",
       "                 FeatureUnion(transformer_list=[('pretrainedfasttexttransformer',\n",
       "                                                 PretrainedFastTextTransformer(field='title',\n",
       "                                                                               fname='title_fasttext.bin')),\n",
       "                                                ('pipeline-1',\n",
       "                                                 Pipeline(steps=[('featureprojection',\n",
       "                                                                  FeatureProjection(fields=['rooms',\n",
       "                                                                                            'bedrooms',\n",
       "                                                                                            'bathrooms',\n",
       "                                                                                            'surface_total',\n",
       "                                                                                            'surface_covered'])),\n",
       "                                                                 ('simpleimputer',\n",
       "                                                                  SimpleImputer())])),\n",
       "                                                ('targetencoder',\n",
       "                                                 TargetEncoder(categorical_field='l3')),\n",
       "                                                ('zonepricem2',\n",
       "                                                 ZonePriceM2(n_neighbours=30)),\n",
       "                                                ('pipeline-2',\n",
       "                                                 Pipeline(steps=[('featureprojection',\n",
       "                                                                  FeatureProjection(fields=['l4'])),\n",
       "                                                                 ('simpleimputer',\n",
       "                                                                  SimpleImputer(strategy='constant')),\n",
       "                                                                 ('onehotencoder',\n",
       "                                                                  OneHotEncoder(drop='first',\n",
       "                                                                                sparse=False))]))])),\n",
       "                ('linearregression', LinearRegression())])"
      ]
     },
     "execution_count": 14,
     "metadata": {},
     "output_type": "execute_result"
    }
   ],
   "source": [
    "lr_pipe.fit(X_train, y_train)"
   ]
  },
  {
   "cell_type": "code",
   "execution_count": 15,
   "id": "5dc1a16c",
   "metadata": {
    "colab": {
     "base_uri": "https://localhost:8080/"
    },
    "id": "5dc1a16c",
    "outputId": "0f2b9e68-8544-4f95-bf27-956a543b5809"
   },
   "outputs": [
    {
     "data": {
      "text/plain": [
       "Pipeline(steps=[('featureunion',\n",
       "                 FeatureUnion(transformer_list=[('pretrainedfasttexttransformer',\n",
       "                                                 PretrainedFastTextTransformer(field='title',\n",
       "                                                                               fname='title_fasttext.bin')),\n",
       "                                                ('pipeline-1',\n",
       "                                                 Pipeline(steps=[('featureprojection',\n",
       "                                                                  FeatureProjection(fields=['rooms',\n",
       "                                                                                            'bedrooms',\n",
       "                                                                                            'bathrooms',\n",
       "                                                                                            'surface_total',\n",
       "                                                                                            'surface_covered'])),\n",
       "                                                                 ('simpleimputer',\n",
       "                                                                  SimpleImputer())]))...\n",
       "                                                 TargetEncoder(categorical_field='l3')),\n",
       "                                                ('zonepricem2',\n",
       "                                                 ZonePriceM2(n_neighbours=30)),\n",
       "                                                ('pipeline-2',\n",
       "                                                 Pipeline(steps=[('featureprojection',\n",
       "                                                                  FeatureProjection(fields=['l4'])),\n",
       "                                                                 ('simpleimputer',\n",
       "                                                                  SimpleImputer(strategy='constant')),\n",
       "                                                                 ('onehotencoder',\n",
       "                                                                  OneHotEncoder(drop='first',\n",
       "                                                                                sparse=False))]))])),\n",
       "                ('randomforestregressor',\n",
       "                 RandomForestRegressor(n_estimators=20))])"
      ]
     },
     "execution_count": 15,
     "metadata": {},
     "output_type": "execute_result"
    }
   ],
   "source": [
    "rf_pipe.fit(X_train, y_train)"
   ]
  },
  {
   "cell_type": "code",
   "execution_count": 16,
   "id": "0N9-kQthLgq4",
   "metadata": {
    "colab": {
     "base_uri": "https://localhost:8080/"
    },
    "id": "0N9-kQthLgq4",
    "outputId": "913e0382-e9ab-4400-fbb4-8a07b676160e"
   },
   "outputs": [
    {
     "data": {
      "text/plain": [
       "{'name': 'lr', 'train': 352315.0487310766, 'dev': 359538.5058582858}"
      ]
     },
     "execution_count": 16,
     "metadata": {},
     "output_type": "execute_result"
    }
   ],
   "source": [
    "evaluator.eval_pipe('lr', lr_pipe)"
   ]
  },
  {
   "cell_type": "code",
   "execution_count": 17,
   "id": "nVSQC5VOLjnS",
   "metadata": {
    "colab": {
     "base_uri": "https://localhost:8080/"
    },
    "id": "nVSQC5VOLjnS",
    "outputId": "f8edfb0b-4e03-4873-b40e-1e0ce1317438"
   },
   "outputs": [
    {
     "data": {
      "text/plain": [
       "{'name': 'rf', 'train': 89276.66817025465, 'dev': 249825.53522332892}"
      ]
     },
     "execution_count": 17,
     "metadata": {},
     "output_type": "execute_result"
    }
   ],
   "source": [
    "evaluator.eval_pipe('rf', rf_pipe)"
   ]
  },
  {
   "cell_type": "code",
   "execution_count": 18,
   "id": "5f1b1151",
   "metadata": {
    "colab": {
     "base_uri": "https://localhost:8080/",
     "height": 175
    },
    "id": "5f1b1151",
    "outputId": "021f7ff9-78a0-4a9d-9a17-72b245acaf58"
   },
   "outputs": [
    {
     "data": {
      "text/html": [
       "\n",
       "  <div id=\"df-e0d027f8-df55-4793-8151-f85f68af7036\">\n",
       "    <div class=\"colab-df-container\">\n",
       "      <div>\n",
       "<style scoped>\n",
       "    .dataframe tbody tr th:only-of-type {\n",
       "        vertical-align: middle;\n",
       "    }\n",
       "\n",
       "    .dataframe tbody tr th {\n",
       "        vertical-align: top;\n",
       "    }\n",
       "\n",
       "    .dataframe thead th {\n",
       "        text-align: right;\n",
       "    }\n",
       "</style>\n",
       "<table border=\"1\" class=\"dataframe\">\n",
       "  <thead>\n",
       "    <tr style=\"text-align: right;\">\n",
       "      <th></th>\n",
       "      <th>name</th>\n",
       "      <th>train</th>\n",
       "      <th>dev</th>\n",
       "    </tr>\n",
       "  </thead>\n",
       "  <tbody>\n",
       "    <tr>\n",
       "      <th>0</th>\n",
       "      <td>mean_price</td>\n",
       "      <td>448215.696255</td>\n",
       "      <td>457302.602387</td>\n",
       "    </tr>\n",
       "    <tr>\n",
       "      <th>1</th>\n",
       "      <td>median_price</td>\n",
       "      <td>463830.092172</td>\n",
       "      <td>472424.571170</td>\n",
       "    </tr>\n",
       "    <tr>\n",
       "      <th>2</th>\n",
       "      <td>lr</td>\n",
       "      <td>352315.048731</td>\n",
       "      <td>359538.505858</td>\n",
       "    </tr>\n",
       "    <tr>\n",
       "      <th>3</th>\n",
       "      <td>rf</td>\n",
       "      <td>89276.668170</td>\n",
       "      <td>249825.535223</td>\n",
       "    </tr>\n",
       "  </tbody>\n",
       "</table>\n",
       "</div>\n",
       "      <button class=\"colab-df-convert\" onclick=\"convertToInteractive('df-e0d027f8-df55-4793-8151-f85f68af7036')\"\n",
       "              title=\"Convert this dataframe to an interactive table.\"\n",
       "              style=\"display:none;\">\n",
       "        \n",
       "  <svg xmlns=\"http://www.w3.org/2000/svg\" height=\"24px\"viewBox=\"0 0 24 24\"\n",
       "       width=\"24px\">\n",
       "    <path d=\"M0 0h24v24H0V0z\" fill=\"none\"/>\n",
       "    <path d=\"M18.56 5.44l.94 2.06.94-2.06 2.06-.94-2.06-.94-.94-2.06-.94 2.06-2.06.94zm-11 1L8.5 8.5l.94-2.06 2.06-.94-2.06-.94L8.5 2.5l-.94 2.06-2.06.94zm10 10l.94 2.06.94-2.06 2.06-.94-2.06-.94-.94-2.06-.94 2.06-2.06.94z\"/><path d=\"M17.41 7.96l-1.37-1.37c-.4-.4-.92-.59-1.43-.59-.52 0-1.04.2-1.43.59L10.3 9.45l-7.72 7.72c-.78.78-.78 2.05 0 2.83L4 21.41c.39.39.9.59 1.41.59.51 0 1.02-.2 1.41-.59l7.78-7.78 2.81-2.81c.8-.78.8-2.07 0-2.86zM5.41 20L4 18.59l7.72-7.72 1.47 1.35L5.41 20z\"/>\n",
       "  </svg>\n",
       "      </button>\n",
       "      \n",
       "  <style>\n",
       "    .colab-df-container {\n",
       "      display:flex;\n",
       "      flex-wrap:wrap;\n",
       "      gap: 12px;\n",
       "    }\n",
       "\n",
       "    .colab-df-convert {\n",
       "      background-color: #E8F0FE;\n",
       "      border: none;\n",
       "      border-radius: 50%;\n",
       "      cursor: pointer;\n",
       "      display: none;\n",
       "      fill: #1967D2;\n",
       "      height: 32px;\n",
       "      padding: 0 0 0 0;\n",
       "      width: 32px;\n",
       "    }\n",
       "\n",
       "    .colab-df-convert:hover {\n",
       "      background-color: #E2EBFA;\n",
       "      box-shadow: 0px 1px 2px rgba(60, 64, 67, 0.3), 0px 1px 3px 1px rgba(60, 64, 67, 0.15);\n",
       "      fill: #174EA6;\n",
       "    }\n",
       "\n",
       "    [theme=dark] .colab-df-convert {\n",
       "      background-color: #3B4455;\n",
       "      fill: #D2E3FC;\n",
       "    }\n",
       "\n",
       "    [theme=dark] .colab-df-convert:hover {\n",
       "      background-color: #434B5C;\n",
       "      box-shadow: 0px 1px 3px 1px rgba(0, 0, 0, 0.15);\n",
       "      filter: drop-shadow(0px 1px 2px rgba(0, 0, 0, 0.3));\n",
       "      fill: #FFFFFF;\n",
       "    }\n",
       "  </style>\n",
       "\n",
       "      <script>\n",
       "        const buttonEl =\n",
       "          document.querySelector('#df-e0d027f8-df55-4793-8151-f85f68af7036 button.colab-df-convert');\n",
       "        buttonEl.style.display =\n",
       "          google.colab.kernel.accessAllowed ? 'block' : 'none';\n",
       "\n",
       "        async function convertToInteractive(key) {\n",
       "          const element = document.querySelector('#df-e0d027f8-df55-4793-8151-f85f68af7036');\n",
       "          const dataTable =\n",
       "            await google.colab.kernel.invokeFunction('convertToInteractive',\n",
       "                                                     [key], {});\n",
       "          if (!dataTable) return;\n",
       "\n",
       "          const docLinkHtml = 'Like what you see? Visit the ' +\n",
       "            '<a target=\"_blank\" href=https://colab.research.google.com/notebooks/data_table.ipynb>data table notebook</a>'\n",
       "            + ' to learn more about interactive tables.';\n",
       "          element.innerHTML = '';\n",
       "          dataTable['output_type'] = 'display_data';\n",
       "          await google.colab.output.renderOutput(dataTable, element);\n",
       "          const docLink = document.createElement('div');\n",
       "          docLink.innerHTML = docLinkHtml;\n",
       "          element.appendChild(docLink);\n",
       "        }\n",
       "      </script>\n",
       "    </div>\n",
       "  </div>\n",
       "  "
      ],
      "text/plain": [
       "           name          train            dev\n",
       "0    mean_price  448215.696255  457302.602387\n",
       "1  median_price  463830.092172  472424.571170\n",
       "2            lr  352315.048731  359538.505858\n",
       "3            rf   89276.668170  249825.535223"
      ]
     },
     "execution_count": 18,
     "metadata": {},
     "output_type": "execute_result"
    }
   ],
   "source": [
    "df = pd.DataFrame(evaluator.evaluations)\n",
    "df"
   ]
  },
  {
   "cell_type": "code",
   "execution_count": 19,
   "id": "7c75a54b",
   "metadata": {
    "colab": {
     "base_uri": "https://localhost:8080/",
     "height": 175
    },
    "id": "7c75a54b",
    "outputId": "f8e13815-32a6-4e12-c6a3-4ffd52417b4c"
   },
   "outputs": [
    {
     "data": {
      "text/html": [
       "\n",
       "  <div id=\"df-5d40728f-fce6-425a-a481-e41961b2707c\">\n",
       "    <div class=\"colab-df-container\">\n",
       "      <div>\n",
       "<style scoped>\n",
       "    .dataframe tbody tr th:only-of-type {\n",
       "        vertical-align: middle;\n",
       "    }\n",
       "\n",
       "    .dataframe tbody tr th {\n",
       "        vertical-align: top;\n",
       "    }\n",
       "\n",
       "    .dataframe thead th {\n",
       "        text-align: right;\n",
       "    }\n",
       "</style>\n",
       "<table border=\"1\" class=\"dataframe\">\n",
       "  <thead>\n",
       "    <tr style=\"text-align: right;\">\n",
       "      <th></th>\n",
       "      <th>name</th>\n",
       "      <th>train</th>\n",
       "      <th>dev</th>\n",
       "      <th>pct_lift</th>\n",
       "    </tr>\n",
       "  </thead>\n",
       "  <tbody>\n",
       "    <tr>\n",
       "      <th>3</th>\n",
       "      <td>rf</td>\n",
       "      <td>89276.668170</td>\n",
       "      <td>249825.535223</td>\n",
       "      <td>0.528816</td>\n",
       "    </tr>\n",
       "    <tr>\n",
       "      <th>2</th>\n",
       "      <td>lr</td>\n",
       "      <td>352315.048731</td>\n",
       "      <td>359538.505858</td>\n",
       "      <td>0.761050</td>\n",
       "    </tr>\n",
       "    <tr>\n",
       "      <th>0</th>\n",
       "      <td>mean_price</td>\n",
       "      <td>448215.696255</td>\n",
       "      <td>457302.602387</td>\n",
       "      <td>0.967991</td>\n",
       "    </tr>\n",
       "    <tr>\n",
       "      <th>1</th>\n",
       "      <td>median_price</td>\n",
       "      <td>463830.092172</td>\n",
       "      <td>472424.571170</td>\n",
       "      <td>1.000000</td>\n",
       "    </tr>\n",
       "  </tbody>\n",
       "</table>\n",
       "</div>\n",
       "      <button class=\"colab-df-convert\" onclick=\"convertToInteractive('df-5d40728f-fce6-425a-a481-e41961b2707c')\"\n",
       "              title=\"Convert this dataframe to an interactive table.\"\n",
       "              style=\"display:none;\">\n",
       "        \n",
       "  <svg xmlns=\"http://www.w3.org/2000/svg\" height=\"24px\"viewBox=\"0 0 24 24\"\n",
       "       width=\"24px\">\n",
       "    <path d=\"M0 0h24v24H0V0z\" fill=\"none\"/>\n",
       "    <path d=\"M18.56 5.44l.94 2.06.94-2.06 2.06-.94-2.06-.94-.94-2.06-.94 2.06-2.06.94zm-11 1L8.5 8.5l.94-2.06 2.06-.94-2.06-.94L8.5 2.5l-.94 2.06-2.06.94zm10 10l.94 2.06.94-2.06 2.06-.94-2.06-.94-.94-2.06-.94 2.06-2.06.94z\"/><path d=\"M17.41 7.96l-1.37-1.37c-.4-.4-.92-.59-1.43-.59-.52 0-1.04.2-1.43.59L10.3 9.45l-7.72 7.72c-.78.78-.78 2.05 0 2.83L4 21.41c.39.39.9.59 1.41.59.51 0 1.02-.2 1.41-.59l7.78-7.78 2.81-2.81c.8-.78.8-2.07 0-2.86zM5.41 20L4 18.59l7.72-7.72 1.47 1.35L5.41 20z\"/>\n",
       "  </svg>\n",
       "      </button>\n",
       "      \n",
       "  <style>\n",
       "    .colab-df-container {\n",
       "      display:flex;\n",
       "      flex-wrap:wrap;\n",
       "      gap: 12px;\n",
       "    }\n",
       "\n",
       "    .colab-df-convert {\n",
       "      background-color: #E8F0FE;\n",
       "      border: none;\n",
       "      border-radius: 50%;\n",
       "      cursor: pointer;\n",
       "      display: none;\n",
       "      fill: #1967D2;\n",
       "      height: 32px;\n",
       "      padding: 0 0 0 0;\n",
       "      width: 32px;\n",
       "    }\n",
       "\n",
       "    .colab-df-convert:hover {\n",
       "      background-color: #E2EBFA;\n",
       "      box-shadow: 0px 1px 2px rgba(60, 64, 67, 0.3), 0px 1px 3px 1px rgba(60, 64, 67, 0.15);\n",
       "      fill: #174EA6;\n",
       "    }\n",
       "\n",
       "    [theme=dark] .colab-df-convert {\n",
       "      background-color: #3B4455;\n",
       "      fill: #D2E3FC;\n",
       "    }\n",
       "\n",
       "    [theme=dark] .colab-df-convert:hover {\n",
       "      background-color: #434B5C;\n",
       "      box-shadow: 0px 1px 3px 1px rgba(0, 0, 0, 0.15);\n",
       "      filter: drop-shadow(0px 1px 2px rgba(0, 0, 0, 0.3));\n",
       "      fill: #FFFFFF;\n",
       "    }\n",
       "  </style>\n",
       "\n",
       "      <script>\n",
       "        const buttonEl =\n",
       "          document.querySelector('#df-5d40728f-fce6-425a-a481-e41961b2707c button.colab-df-convert');\n",
       "        buttonEl.style.display =\n",
       "          google.colab.kernel.accessAllowed ? 'block' : 'none';\n",
       "\n",
       "        async function convertToInteractive(key) {\n",
       "          const element = document.querySelector('#df-5d40728f-fce6-425a-a481-e41961b2707c');\n",
       "          const dataTable =\n",
       "            await google.colab.kernel.invokeFunction('convertToInteractive',\n",
       "                                                     [key], {});\n",
       "          if (!dataTable) return;\n",
       "\n",
       "          const docLinkHtml = 'Like what you see? Visit the ' +\n",
       "            '<a target=\"_blank\" href=https://colab.research.google.com/notebooks/data_table.ipynb>data table notebook</a>'\n",
       "            + ' to learn more about interactive tables.';\n",
       "          element.innerHTML = '';\n",
       "          dataTable['output_type'] = 'display_data';\n",
       "          await google.colab.output.renderOutput(dataTable, element);\n",
       "          const docLink = document.createElement('div');\n",
       "          docLink.innerHTML = docLinkHtml;\n",
       "          element.appendChild(docLink);\n",
       "        }\n",
       "      </script>\n",
       "    </div>\n",
       "  </div>\n",
       "  "
      ],
      "text/plain": [
       "           name          train            dev  pct_lift\n",
       "3            rf   89276.668170  249825.535223  0.528816\n",
       "2            lr  352315.048731  359538.505858  0.761050\n",
       "0    mean_price  448215.696255  457302.602387  0.967991\n",
       "1  median_price  463830.092172  472424.571170  1.000000"
      ]
     },
     "execution_count": 19,
     "metadata": {},
     "output_type": "execute_result"
    }
   ],
   "source": [
    "df['pct_lift'] = df.dev / df.dev.max()\n",
    "df.sort_values('dev')"
   ]
  },
  {
   "cell_type": "code",
   "execution_count": 20,
   "id": "sIjVhQuRevJn",
   "metadata": {
    "id": "sIjVhQuRevJn"
   },
   "outputs": [],
   "source": [
    "X_test, y_test = test"
   ]
  },
  {
   "cell_type": "code",
   "execution_count": 21,
   "id": "Len4xqN-hrDI",
   "metadata": {
    "colab": {
     "base_uri": "https://localhost:8080/"
    },
    "id": "Len4xqN-hrDI",
    "outputId": "916eb953-8ff7-4008-96f1-f944e2a3af32"
   },
   "outputs": [
    {
     "data": {
      "text/plain": [
       "240129.78926577826"
      ]
     },
     "execution_count": 21,
     "metadata": {},
     "output_type": "execute_result"
    }
   ],
   "source": [
    "from taller_model_selection.evaluate import rmse\n",
    "\n",
    "rmse(y_test, rf_pipe.predict(X_test))\n"
   ]
  },
  {
   "cell_type": "code",
   "execution_count": null,
   "id": "siDyYs9sir7I",
   "metadata": {
    "id": "siDyYs9sir7I"
   },
   "outputs": [],
   "source": []
  }
 ],
 "metadata": {
  "colab": {
   "provenance": []
  },
  "kernelspec": {
   "display_name": "Python 3 (ipykernel)",
   "language": "python",
   "name": "python3"
  },
  "language_info": {
   "codemirror_mode": {
    "name": "ipython",
    "version": 3
   },
   "file_extension": ".py",
   "mimetype": "text/x-python",
   "name": "python",
   "nbconvert_exporter": "python",
   "pygments_lexer": "ipython3",
   "version": "3.9.12"
  }
 },
 "nbformat": 4,
 "nbformat_minor": 5
}
