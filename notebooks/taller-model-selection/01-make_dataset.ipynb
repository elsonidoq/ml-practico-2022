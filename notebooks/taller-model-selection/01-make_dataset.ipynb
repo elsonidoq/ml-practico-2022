{
 "cells": [
  {
   "cell_type": "code",
   "execution_count": 25,
   "id": "72f14ca1",
   "metadata": {},
   "outputs": [],
   "source": [
    "import sys\n",
    "sys.path.append('../../lib')"
   ]
  },
  {
   "cell_type": "code",
   "execution_count": null,
   "id": "b4c1c961",
   "metadata": {},
   "outputs": [
    {
     "name": "stdout",
     "output_type": "stream",
     "text": [
      "  % Total    % Received % Xferd  Average Speed   Time    Time     Time  Current\n",
      "                                 Dload  Upload   Total   Spent    Left  Speed\n",
      " 13  289M   13 39.8M    0     0  2588k      0  0:01:54  0:00:15  0:01:39 2709k"
     ]
    }
   ],
   "source": [
    "!curl -O https://storage.googleapis.com/properati-data-public/ar_properties.csv.gz\n",
    "!gunzip ar_properties.csv.gz"
   ]
  },
  {
   "cell_type": "code",
   "execution_count": 2,
   "id": "9140a9c9",
   "metadata": {},
   "outputs": [
    {
     "name": "stdout",
     "output_type": "stream",
     "text": [
      " 5688795 ar_properties.csv\r\n"
     ]
    }
   ],
   "source": [
    "!wc -l ar_properties.csv"
   ]
  },
  {
   "cell_type": "code",
   "execution_count": 4,
   "id": "19bf1b2d",
   "metadata": {},
   "outputs": [],
   "source": [
    "!head -n 100000 ar_properties.csv > ar_properties.sample.csv"
   ]
  },
  {
   "cell_type": "code",
   "execution_count": 1,
   "id": "47b007eb",
   "metadata": {},
   "outputs": [],
   "source": [
    "import pandas as pd\n",
    "pd.options.display.max_columns = 1000\n",
    "pd.options.display.max_colwidth = 1000"
   ]
  },
  {
   "cell_type": "code",
   "execution_count": 2,
   "id": "91d1cd11",
   "metadata": {},
   "outputs": [],
   "source": [
    "df = pd.read_csv('ar_properties.csv')"
   ]
  },
  {
   "cell_type": "code",
   "execution_count": 3,
   "id": "293a9ffa",
   "metadata": {},
   "outputs": [
    {
     "data": {
      "text/html": [
       "<div>\n",
       "<style scoped>\n",
       "    .dataframe tbody tr th:only-of-type {\n",
       "        vertical-align: middle;\n",
       "    }\n",
       "\n",
       "    .dataframe tbody tr th {\n",
       "        vertical-align: top;\n",
       "    }\n",
       "\n",
       "    .dataframe thead th {\n",
       "        text-align: right;\n",
       "    }\n",
       "</style>\n",
       "<table border=\"1\" class=\"dataframe\">\n",
       "  <thead>\n",
       "    <tr style=\"text-align: right;\">\n",
       "      <th></th>\n",
       "      <th>id</th>\n",
       "      <th>ad_type</th>\n",
       "      <th>start_date</th>\n",
       "      <th>end_date</th>\n",
       "      <th>created_on</th>\n",
       "      <th>lat</th>\n",
       "      <th>lon</th>\n",
       "      <th>l1</th>\n",
       "      <th>l2</th>\n",
       "      <th>l3</th>\n",
       "      <th>l4</th>\n",
       "      <th>l5</th>\n",
       "      <th>l6</th>\n",
       "      <th>rooms</th>\n",
       "      <th>bedrooms</th>\n",
       "      <th>bathrooms</th>\n",
       "      <th>surface_total</th>\n",
       "      <th>surface_covered</th>\n",
       "      <th>price</th>\n",
       "      <th>currency</th>\n",
       "      <th>price_period</th>\n",
       "      <th>title</th>\n",
       "      <th>description</th>\n",
       "      <th>property_type</th>\n",
       "      <th>operation_type</th>\n",
       "    </tr>\n",
       "  </thead>\n",
       "  <tbody>\n",
       "    <tr>\n",
       "      <th>0</th>\n",
       "      <td>DyVXfkpKygVBKuUk5olH+A==</td>\n",
       "      <td>Propiedad</td>\n",
       "      <td>2020-08-22</td>\n",
       "      <td>2020-09-03</td>\n",
       "      <td>2020-08-22</td>\n",
       "      <td>-34.407468</td>\n",
       "      <td>-58.957367</td>\n",
       "      <td>Argentina</td>\n",
       "      <td>Bs.As. G.B.A. Zona Norte</td>\n",
       "      <td>Pilar</td>\n",
       "      <td>NaN</td>\n",
       "      <td>NaN</td>\n",
       "      <td>NaN</td>\n",
       "      <td>NaN</td>\n",
       "      <td>NaN</td>\n",
       "      <td>NaN</td>\n",
       "      <td>133139.0</td>\n",
       "      <td>NaN</td>\n",
       "      <td>NaN</td>\n",
       "      <td>NaN</td>\n",
       "      <td>Mensual</td>\n",
       "      <td>VENTA - Lote Industrial 130.000m2 - Parque Industrial Pilar</td>\n",
       "      <td>Lote (Nro.50) mide 133.139 m2\\n&lt;br&gt;Valor: U$S (CONSULTAR)\\n&lt;br&gt;\\n&lt;br&gt;(Nuevo) PLAZA INDUSTRIAL PILAR (Anexo) del Parque Industrial Pilar.\\n&lt;br&gt;El predio cuenta con 200 HA ofreciendo LOTES que van desde los 5.000 hasta 300.000m2.\\n&lt;br&gt; FOS: 0.5 / FOT: 1\\n&lt;br&gt; Zonificación Industrial  (Categoría: 1, 2 y 3).\\n&lt;br&gt; Desagues Pluviales\\n&lt;br&gt; Tendido Red Eléctrica\\n&lt;br&gt; Alumbrado Led de calles\\n&lt;br&gt;Sobre Av. Arturo Frondizi entre (Calles 10 y 12), con acceso directo a la Au. Panamericana Ramal Pilar (Ruta 8, Km 61).\\n&lt;br&gt;\\n&lt;br&gt;CONSULTAR: Depósitos/Locales Llave en Mano (150 a los 1.000m2).\\n&lt;br&gt;CONSULTAR: Disponibilidad y Financiamiento.&lt;br&gt;&lt;br&gt;Martillero y Corredor Inmobiliario: &lt;br&gt;Walter Angel Tomé&lt;br&gt;CMCPSI 5200 &lt;br&gt;Todas las propiedades son tasadas y bajo normas establecidas en la ley publicamos las propiedades para su comercialización.&lt;br&gt;La intermediación y la conclusión de las operaciones son actividades exclusivas de este matriculado.</td>\n",
       "      <td>Lote</td>\n",
       "      <td>Venta</td>\n",
       "    </tr>\n",
       "    <tr>\n",
       "      <th>1</th>\n",
       "      <td>9naojilaMecJN4jlQiTkGg==</td>\n",
       "      <td>Propiedad</td>\n",
       "      <td>2020-08-22</td>\n",
       "      <td>2020-09-04</td>\n",
       "      <td>2020-08-22</td>\n",
       "      <td>-37.996039</td>\n",
       "      <td>-57.542509</td>\n",
       "      <td>Argentina</td>\n",
       "      <td>Buenos Aires Costa Atlántica</td>\n",
       "      <td>Mar del Plata</td>\n",
       "      <td>NaN</td>\n",
       "      <td>NaN</td>\n",
       "      <td>NaN</td>\n",
       "      <td>8.0</td>\n",
       "      <td>NaN</td>\n",
       "      <td>NaN</td>\n",
       "      <td>687.0</td>\n",
       "      <td>687.0</td>\n",
       "      <td>NaN</td>\n",
       "      <td>NaN</td>\n",
       "      <td>Mensual</td>\n",
       "      <td>Casa - Santa Cecilia</td>\n",
       "      <td>Conjunto edilicio de casa y departamentos en block.  Casona de 1930, restaurada, con vista al mar. A 30 mts de la costa, cerca de peatonal San Martín y otros puntos turísticos. &lt;br&gt;&lt;br&gt;Apto para:&lt;br&gt;1. Vivienda familiar + uso de oficinas dentro del mismo edificio.&lt;br&gt;2.  Uso profesional (consultorios, oficinas)&lt;br&gt;3.  Alquiler de habitaciones tipo hostel o apart.&lt;br&gt;4.  Apto para demoler y construir.&lt;br&gt;&lt;br&gt;DETALLES:&lt;br&gt;&lt;br&gt;P.B:  Espacios comunes, 100 m2. Ingreso, cochera p/3 autos, lavadero, depósito, baño, parque de 134 m2 con parrilla, doble quincho, piscina para niños.&lt;br&gt;&lt;br&gt;PRIMER PISO:  Dos deptos con vista al mar (opción unificable para armar un único piso) con detalles de calidad, pinotea, piedra, etc.&lt;br&gt;Al frente, dos grandes amb con dormitorios,  cocina com, gran living com/recepción, gran tarima de madera de primera, hogar y leñera, catarata decorativa, baño completo, balcón a la calle (89 m2)&lt;br&gt;Al parque, depto de living, cocina grande con balcón terraza (43 m2), dor...</td>\n",
       "      <td>Otro</td>\n",
       "      <td>Venta</td>\n",
       "    </tr>\n",
       "    <tr>\n",
       "      <th>2</th>\n",
       "      <td>tlCPRJPjoDEUzuuCelemAQ==</td>\n",
       "      <td>Propiedad</td>\n",
       "      <td>2020-08-22</td>\n",
       "      <td>2020-08-31</td>\n",
       "      <td>2020-08-22</td>\n",
       "      <td>-31.380187</td>\n",
       "      <td>-58.009182</td>\n",
       "      <td>Argentina</td>\n",
       "      <td>Entre Ríos</td>\n",
       "      <td>Concordia</td>\n",
       "      <td>NaN</td>\n",
       "      <td>NaN</td>\n",
       "      <td>NaN</td>\n",
       "      <td>2.0</td>\n",
       "      <td>1.0</td>\n",
       "      <td>1.0</td>\n",
       "      <td>80.0</td>\n",
       "      <td>80.0</td>\n",
       "      <td>NaN</td>\n",
       "      <td>NaN</td>\n",
       "      <td>Mensual</td>\n",
       "      <td>Casa - Concordia</td>\n",
       "      <td>Casa de un dormitorio, cocina, baño, living comedor, lavadero, patio y cochera para un auto bajo techo.  No posee Gas Natural y es apto para mascotas, disponible a partir de septiembre</td>\n",
       "      <td>Casa</td>\n",
       "      <td>Alquiler</td>\n",
       "    </tr>\n",
       "    <tr>\n",
       "      <th>3</th>\n",
       "      <td>Zw3b91glQUO3HNrM5fPYlQ==</td>\n",
       "      <td>Propiedad</td>\n",
       "      <td>2020-08-22</td>\n",
       "      <td>2020-09-04</td>\n",
       "      <td>2020-08-22</td>\n",
       "      <td>-27.494106</td>\n",
       "      <td>-55.123455</td>\n",
       "      <td>Argentina</td>\n",
       "      <td>Misiones</td>\n",
       "      <td>Oberá</td>\n",
       "      <td>NaN</td>\n",
       "      <td>NaN</td>\n",
       "      <td>NaN</td>\n",
       "      <td>2.0</td>\n",
       "      <td>1.0</td>\n",
       "      <td>1.0</td>\n",
       "      <td>NaN</td>\n",
       "      <td>NaN</td>\n",
       "      <td>NaN</td>\n",
       "      <td>NaN</td>\n",
       "      <td>Mensual</td>\n",
       "      <td>Terreno - Obera</td>\n",
       "      <td>IMPORTANTE PROPIEDAD EN VENTA EN OBERA MISIONES&lt;br&gt;Gran terreno de 20 m de frente por 50 m de fondo, con construcción a terminar, posee un depto en pb. de 1 dormitorio, coc-comedor y baño. y un tipo duplex de 1 dormitorio, cocina comedor, baño y balcón.&lt;br&gt;Ubicado sobre calle Paraguay casi Misiones de la ciudad de Obera. Se encuentra en una zona linda en crecimiento, a 7 cuadras aprox. del centro y a 4 cuadras de la terminal nueva.&lt;br&gt;CONSULTE PRECIO!!!&lt;br&gt;&lt;br&gt;Para Mayor información Comunicarse con SILARQ Arquitectura + Inmobiliaria. Sito en Av. Lopez Torres 5467 Pdas-Mnes,  al Cel/Wapp: 3764866218, mail:   o en nuestra web. site  [(código_referencia)]</td>\n",
       "      <td>Lote</td>\n",
       "      <td>Venta</td>\n",
       "    </tr>\n",
       "    <tr>\n",
       "      <th>4</th>\n",
       "      <td>bsU81gm9JEgtZCbTYgvykg==</td>\n",
       "      <td>Propiedad</td>\n",
       "      <td>2020-08-22</td>\n",
       "      <td>2020-09-04</td>\n",
       "      <td>2020-08-22</td>\n",
       "      <td>-32.948856</td>\n",
       "      <td>-60.630464</td>\n",
       "      <td>Argentina</td>\n",
       "      <td>Santa Fe</td>\n",
       "      <td>Rosario</td>\n",
       "      <td>NaN</td>\n",
       "      <td>NaN</td>\n",
       "      <td>NaN</td>\n",
       "      <td>3.0</td>\n",
       "      <td>1.0</td>\n",
       "      <td>1.0</td>\n",
       "      <td>76.0</td>\n",
       "      <td>66.0</td>\n",
       "      <td>NaN</td>\n",
       "      <td>NaN</td>\n",
       "      <td>Mensual</td>\n",
       "      <td>Departamento - Rosario</td>\n",
       "      <td>PORTAL DE LOS MARINOS&lt;br&gt;Es un complejo de viviendas de categoría, proyectado en cuatro torres independientes y ubicado en la zona más emblemática de Rosario: frente al hermoso río Paraná y el Parque Nacional a la Bandera.&lt;br&gt;&lt;br&gt;TORRE TARRICO NORTE - Piso 3 y 6&lt;br&gt;Unidad de un dormitorio con excelente nivel de terminaciones: living comedor con pisos de madera flotante, balcón. Cocina semi integrada dividida con una barra, amoblamientos de alacena y bajo mesada completos de primera calidad, cocina y campana DOMEC. Mesada de granito. Pileta de acero inoxidable Johnson Acero o similar.  Grifería cromada, de alta tecnología y diseño. Office o  1/2 dormitorio, dormitorio con placard  de puertas corredizas con interiores completos y balcón al contrafrente. Baño completo. Calefacción por calderas. Aberturas exteriores principales de aluminio con doble vidriado hermético de primera calidad. Herrajes de primera categoría.  Barandas de balcones de aluminio. Instalación completa de aire acon...</td>\n",
       "      <td>Departamento</td>\n",
       "      <td>Venta</td>\n",
       "    </tr>\n",
       "  </tbody>\n",
       "</table>\n",
       "</div>"
      ],
      "text/plain": [
       "                         id    ad_type  start_date    end_date  created_on  \\\n",
       "0  DyVXfkpKygVBKuUk5olH+A==  Propiedad  2020-08-22  2020-09-03  2020-08-22   \n",
       "1  9naojilaMecJN4jlQiTkGg==  Propiedad  2020-08-22  2020-09-04  2020-08-22   \n",
       "2  tlCPRJPjoDEUzuuCelemAQ==  Propiedad  2020-08-22  2020-08-31  2020-08-22   \n",
       "3  Zw3b91glQUO3HNrM5fPYlQ==  Propiedad  2020-08-22  2020-09-04  2020-08-22   \n",
       "4  bsU81gm9JEgtZCbTYgvykg==  Propiedad  2020-08-22  2020-09-04  2020-08-22   \n",
       "\n",
       "         lat        lon         l1                            l2  \\\n",
       "0 -34.407468 -58.957367  Argentina      Bs.As. G.B.A. Zona Norte   \n",
       "1 -37.996039 -57.542509  Argentina  Buenos Aires Costa Atlántica   \n",
       "2 -31.380187 -58.009182  Argentina                    Entre Ríos   \n",
       "3 -27.494106 -55.123455  Argentina                      Misiones   \n",
       "4 -32.948856 -60.630464  Argentina                      Santa Fe   \n",
       "\n",
       "              l3   l4   l5  l6  rooms  bedrooms  bathrooms  surface_total  \\\n",
       "0          Pilar  NaN  NaN NaN    NaN       NaN        NaN       133139.0   \n",
       "1  Mar del Plata  NaN  NaN NaN    8.0       NaN        NaN          687.0   \n",
       "2      Concordia  NaN  NaN NaN    2.0       1.0        1.0           80.0   \n",
       "3          Oberá  NaN  NaN NaN    2.0       1.0        1.0            NaN   \n",
       "4        Rosario  NaN  NaN NaN    3.0       1.0        1.0           76.0   \n",
       "\n",
       "   surface_covered  price currency price_period  \\\n",
       "0              NaN    NaN      NaN      Mensual   \n",
       "1            687.0    NaN      NaN      Mensual   \n",
       "2             80.0    NaN      NaN      Mensual   \n",
       "3              NaN    NaN      NaN      Mensual   \n",
       "4             66.0    NaN      NaN      Mensual   \n",
       "\n",
       "                                                         title  \\\n",
       "0  VENTA - Lote Industrial 130.000m2 - Parque Industrial Pilar   \n",
       "1                                         Casa - Santa Cecilia   \n",
       "2                                             Casa - Concordia   \n",
       "3                                              Terreno - Obera   \n",
       "4                                       Departamento - Rosario   \n",
       "\n",
       "                                                                                                                                                                                                                                                                                                                                                                                                                                                                                                                                                                                                                                                                                                                                                                                                                                                                                                                                                                                                                               description  \\\n",
       "0                                                    Lote (Nro.50) mide 133.139 m2\\n<br>Valor: U$S (CONSULTAR)\\n<br>\\n<br>(Nuevo) PLAZA INDUSTRIAL PILAR (Anexo) del Parque Industrial Pilar.\\n<br>El predio cuenta con 200 HA ofreciendo LOTES que van desde los 5.000 hasta 300.000m2.\\n<br> FOS: 0.5 / FOT: 1\\n<br> Zonificación Industrial  (Categoría: 1, 2 y 3).\\n<br> Desagues Pluviales\\n<br> Tendido Red Eléctrica\\n<br> Alumbrado Led de calles\\n<br>Sobre Av. Arturo Frondizi entre (Calles 10 y 12), con acceso directo a la Au. Panamericana Ramal Pilar (Ruta 8, Km 61).\\n<br>\\n<br>CONSULTAR: Depósitos/Locales Llave en Mano (150 a los 1.000m2).\\n<br>CONSULTAR: Disponibilidad y Financiamiento.<br><br>Martillero y Corredor Inmobiliario: <br>Walter Angel Tomé<br>CMCPSI 5200 <br>Todas las propiedades son tasadas y bajo normas establecidas en la ley publicamos las propiedades para su comercialización.<br>La intermediación y la conclusión de las operaciones son actividades exclusivas de este matriculado.   \n",
       "1  Conjunto edilicio de casa y departamentos en block.  Casona de 1930, restaurada, con vista al mar. A 30 mts de la costa, cerca de peatonal San Martín y otros puntos turísticos. <br><br>Apto para:<br>1. Vivienda familiar + uso de oficinas dentro del mismo edificio.<br>2.  Uso profesional (consultorios, oficinas)<br>3.  Alquiler de habitaciones tipo hostel o apart.<br>4.  Apto para demoler y construir.<br><br>DETALLES:<br><br>P.B:  Espacios comunes, 100 m2. Ingreso, cochera p/3 autos, lavadero, depósito, baño, parque de 134 m2 con parrilla, doble quincho, piscina para niños.<br><br>PRIMER PISO:  Dos deptos con vista al mar (opción unificable para armar un único piso) con detalles de calidad, pinotea, piedra, etc.<br>Al frente, dos grandes amb con dormitorios,  cocina com, gran living com/recepción, gran tarima de madera de primera, hogar y leñera, catarata decorativa, baño completo, balcón a la calle (89 m2)<br>Al parque, depto de living, cocina grande con balcón terraza (43 m2), dor...   \n",
       "2                                                                                                                                                                                                                                                                                                                                                                                                                                                                                                                                                                                                                                                                                                                                                                                                                                                 Casa de un dormitorio, cocina, baño, living comedor, lavadero, patio y cochera para un auto bajo techo.  No posee Gas Natural y es apto para mascotas, disponible a partir de septiembre   \n",
       "3                                                                                                                                                                                                                                                                                                                                                     IMPORTANTE PROPIEDAD EN VENTA EN OBERA MISIONES<br>Gran terreno de 20 m de frente por 50 m de fondo, con construcción a terminar, posee un depto en pb. de 1 dormitorio, coc-comedor y baño. y un tipo duplex de 1 dormitorio, cocina comedor, baño y balcón.<br>Ubicado sobre calle Paraguay casi Misiones de la ciudad de Obera. Se encuentra en una zona linda en crecimiento, a 7 cuadras aprox. del centro y a 4 cuadras de la terminal nueva.<br>CONSULTE PRECIO!!!<br><br>Para Mayor información Comunicarse con SILARQ Arquitectura + Inmobiliaria. Sito en Av. Lopez Torres 5467 Pdas-Mnes,  al Cel/Wapp: 3764866218, mail:   o en nuestra web. site  [(código_referencia)]   \n",
       "4  PORTAL DE LOS MARINOS<br>Es un complejo de viviendas de categoría, proyectado en cuatro torres independientes y ubicado en la zona más emblemática de Rosario: frente al hermoso río Paraná y el Parque Nacional a la Bandera.<br><br>TORRE TARRICO NORTE - Piso 3 y 6<br>Unidad de un dormitorio con excelente nivel de terminaciones: living comedor con pisos de madera flotante, balcón. Cocina semi integrada dividida con una barra, amoblamientos de alacena y bajo mesada completos de primera calidad, cocina y campana DOMEC. Mesada de granito. Pileta de acero inoxidable Johnson Acero o similar.  Grifería cromada, de alta tecnología y diseño. Office o  1/2 dormitorio, dormitorio con placard  de puertas corredizas con interiores completos y balcón al contrafrente. Baño completo. Calefacción por calderas. Aberturas exteriores principales de aluminio con doble vidriado hermético de primera calidad. Herrajes de primera categoría.  Barandas de balcones de aluminio. Instalación completa de aire acon...   \n",
       "\n",
       "  property_type operation_type  \n",
       "0          Lote          Venta  \n",
       "1          Otro          Venta  \n",
       "2          Casa       Alquiler  \n",
       "3          Lote          Venta  \n",
       "4  Departamento          Venta  "
      ]
     },
     "execution_count": 3,
     "metadata": {},
     "output_type": "execute_result"
    }
   ],
   "source": [
    "df.head()"
   ]
  },
  {
   "cell_type": "code",
   "execution_count": 4,
   "id": "2eaa0c6c",
   "metadata": {},
   "outputs": [
    {
     "data": {
      "text/plain": [
       "operation_type\n",
       "Venta                750831\n",
       "Alquiler             207490\n",
       "Alquiler temporal     41679\n",
       "dtype: int64"
      ]
     },
     "execution_count": 4,
     "metadata": {},
     "output_type": "execute_result"
    }
   ],
   "source": [
    "df.value_counts('operation_type')"
   ]
  },
  {
   "cell_type": "code",
   "execution_count": 5,
   "id": "0373a7a3",
   "metadata": {},
   "outputs": [
    {
     "data": {
      "text/plain": [
       "l2\n",
       "Capital Federal                 265125\n",
       "Bs.As. G.B.A. Zona Norte        184310\n",
       "Bs.As. G.B.A. Zona Sur          131431\n",
       "Santa Fe                         91565\n",
       "Bs.As. G.B.A. Zona Oeste         76786\n",
       "Buenos Aires Costa Atlántica     73759\n",
       "Córdoba                          66274\n",
       "Buenos Aires Interior            23975\n",
       "Neuquén                          15487\n",
       "Mendoza                           9172\n",
       "Río Negro                         7935\n",
       "Maldonado                         7784\n",
       "Entre Ríos                        6750\n",
       "Tucumán                           6531\n",
       "Salta                             6056\n",
       "Montevideo                        5909\n",
       "Misiones                          4516\n",
       "San Luis                          2654\n",
       "Chaco                             1716\n",
       "La Pampa                          1660\n",
       "Corrientes                        1573\n",
       "Chubut                            1529\n",
       "San Juan                          1390\n",
       "Colonia                           1213\n",
       "Canelones                          720\n",
       "Jujuy                              715\n",
       "Florida                            518\n",
       "La Rioja                           487\n",
       "Catamarca                          466\n",
       "Santa Cruz                         453\n",
       "Tierra Del Fuego                   445\n",
       "Santiago Del Estero                325\n",
       "Michigan                           262\n",
       "São Paulo                          142\n",
       "Rocha                              123\n",
       "Miami                               70\n",
       "Rio Grande do Norte                 47\n",
       "Santa Catarina                      40\n",
       "Formosa                             30\n",
       "Maryland                            27\n",
       "Rio de Janeiro                      15\n",
       "Pennsylvania                        11\n",
       "California                           4\n",
       "dtype: int64"
      ]
     },
     "execution_count": 5,
     "metadata": {},
     "output_type": "execute_result"
    }
   ],
   "source": [
    "df.value_counts('l2')"
   ]
  },
  {
   "cell_type": "code",
   "execution_count": 6,
   "id": "9d57c929",
   "metadata": {},
   "outputs": [],
   "source": [
    "df = df[df.l2 == \"Capital Federal\"]"
   ]
  },
  {
   "cell_type": "code",
   "execution_count": 7,
   "id": "4cb2b313",
   "metadata": {},
   "outputs": [
    {
     "data": {
      "text/plain": [
       "operation_type\n",
       "Venta                183810\n",
       "Alquiler              67177\n",
       "Alquiler temporal     14138\n",
       "dtype: int64"
      ]
     },
     "execution_count": 7,
     "metadata": {},
     "output_type": "execute_result"
    }
   ],
   "source": [
    "df.value_counts('operation_type')"
   ]
  },
  {
   "cell_type": "code",
   "execution_count": 8,
   "id": "c0a2104c",
   "metadata": {},
   "outputs": [],
   "source": [
    "df = df[df.operation_type == 'Venta']"
   ]
  },
  {
   "cell_type": "code",
   "execution_count": 10,
   "id": "3fdbce34",
   "metadata": {},
   "outputs": [
    {
     "data": {
      "text/plain": [
       "165       Palermo Hollywood\n",
       "201       Palermo Hollywood\n",
       "203            Palermo Soho\n",
       "254            Palermo Soho\n",
       "307           Palermo Chico\n",
       "                ...        \n",
       "999271        Palermo Chico\n",
       "999272        Palermo Chico\n",
       "999701        Palermo Chico\n",
       "999703        Palermo Chico\n",
       "999917        Palermo Chico\n",
       "Name: l4, Length: 7263, dtype: object"
      ]
     },
     "execution_count": 10,
     "metadata": {},
     "output_type": "execute_result"
    }
   ],
   "source": [
    "df['l4'].dropna()"
   ]
  },
  {
   "cell_type": "code",
   "execution_count": 11,
   "id": "8df7e4bd",
   "metadata": {},
   "outputs": [],
   "source": [
    "df = df.dropna(subset=['price'])"
   ]
  },
  {
   "cell_type": "code",
   "execution_count": 12,
   "id": "8675aa5f",
   "metadata": {},
   "outputs": [],
   "source": [
    "df = df[df.price > 0]"
   ]
  },
  {
   "cell_type": "code",
   "execution_count": 14,
   "id": "13dc5b2a",
   "metadata": {},
   "outputs": [
    {
     "name": "stderr",
     "output_type": "stream",
     "text": [
      "/Users/przivic/miniconda3/envs/mlp2022/lib/python3.9/site-packages/seaborn/distributions.py:2619: FutureWarning: `distplot` is a deprecated function and will be removed in a future version. Please adapt your code to use either `displot` (a figure-level function with similar flexibility) or `histplot` (an axes-level function for histograms).\n",
      "  warnings.warn(msg, FutureWarning)\n"
     ]
    },
    {
     "data": {
      "text/plain": [
       "<AxesSubplot:xlabel='price', ylabel='Density'>"
      ]
     },
     "execution_count": 14,
     "metadata": {},
     "output_type": "execute_result"
    },
    {
     "data": {
      "image/png": "[encoded data removed]",
      "text/plain": [
       "<Figure size 432x288 with 1 Axes>"
      ]
     },
     "metadata": {
      "needs_background": "light"
     },
     "output_type": "display_data"
    }
   ],
   "source": [
    "import numpy as np\n",
    "import seaborn as sns\n",
    "\n",
    "sns.distplot(np.log10(df.price))"
   ]
  },
  {
   "cell_type": "code",
   "execution_count": 15,
   "id": "abb00a7d",
   "metadata": {},
   "outputs": [],
   "source": [
    "df = df[df.price > 1e4]\n",
    "df = df[df.price < 1e7]"
   ]
  },
  {
   "cell_type": "code",
   "execution_count": 16,
   "id": "1f8ba259",
   "metadata": {},
   "outputs": [
    {
     "name": "stderr",
     "output_type": "stream",
     "text": [
      "/Users/przivic/miniconda3/envs/mlp2022/lib/python3.9/site-packages/seaborn/distributions.py:2619: FutureWarning: `distplot` is a deprecated function and will be removed in a future version. Please adapt your code to use either `displot` (a figure-level function with similar flexibility) or `histplot` (an axes-level function for histograms).\n",
      "  warnings.warn(msg, FutureWarning)\n"
     ]
    },
    {
     "data": {
      "text/plain": [
       "<AxesSubplot:xlabel='price', ylabel='Density'>"
      ]
     },
     "execution_count": 16,
     "metadata": {},
     "output_type": "execute_result"
    },
    {
     "data": {
      "image/png": "[encoded data removed]",
      "text/plain": [
       "<Figure size 432x288 with 1 Axes>"
      ]
     },
     "metadata": {
      "needs_background": "light"
     },
     "output_type": "display_data"
    }
   ],
   "source": [
    "sns.distplot(np.log10(df.price))"
   ]
  },
  {
   "cell_type": "code",
   "execution_count": 60,
   "id": "13a3f6d3",
   "metadata": {},
   "outputs": [
    {
     "data": {
      "text/plain": [
       "<AxesSubplot:>"
      ]
     },
     "execution_count": 60,
     "metadata": {},
     "output_type": "execute_result"
    },
    {
     "data": {
      "image/png": "[encoded data removed]",
      "text/plain": [
       "<Figure size 432x288 with 1 Axes>"
      ]
     },
     "metadata": {
      "needs_background": "light"
     },
     "output_type": "display_data"
    }
   ],
   "source": [
    "import matplotlib.pyplot as plt\n",
    "from datetime import datetime\n",
    "from collections import Counter\n",
    "\n",
    "created_on = df.created_on.apply(lambda e: datetime.strptime(e, '%Y-%m-%d'))\n",
    "created_on.value_counts().sort_index().plot()"
   ]
  },
  {
   "cell_type": "code",
   "execution_count": 61,
   "id": "9cfd6df5",
   "metadata": {},
   "outputs": [
    {
     "data": {
      "text/plain": [
       "0.10265387227126493"
      ]
     },
     "execution_count": 61,
     "metadata": {},
     "output_type": "execute_result"
    }
   ],
   "source": [
    "cut = '2021-05-01'\n",
    "len(df[df.created_on > cut]) / len(df)"
   ]
  },
  {
   "cell_type": "code",
   "execution_count": 62,
   "id": "53645c6a",
   "metadata": {},
   "outputs": [],
   "source": [
    "docs = df.to_dict(orient='records')\n",
    "\n",
    "train_docs, test_docs = [], []\n",
    "for doc in docs:\n",
    "    l = train_docs if doc['created_on'] <= cut else test_docs\n",
    "    l.append(doc)"
   ]
  },
  {
   "cell_type": "code",
   "execution_count": 63,
   "id": "004c6485",
   "metadata": {},
   "outputs": [
    {
     "data": {
      "text/plain": [
       "(161219, 18443)"
      ]
     },
     "execution_count": 63,
     "metadata": {},
     "output_type": "execute_result"
    }
   ],
   "source": [
    "len(train_docs), len(test_docs)"
   ]
  },
  {
   "cell_type": "code",
   "execution_count": 64,
   "id": "2ce12c43",
   "metadata": {},
   "outputs": [],
   "source": [
    "from taller_model_selection.serialize import write_jl"
   ]
  },
  {
   "cell_type": "code",
   "execution_count": 65,
   "id": "cdfdc525",
   "metadata": {},
   "outputs": [],
   "source": [
    "def make_Xy(docs):\n",
    "    y = [e.pop('price') for e in docs]\n",
    "    return docs, y"
   ]
  },
  {
   "cell_type": "code",
   "execution_count": 66,
   "id": "93b674cf",
   "metadata": {},
   "outputs": [],
   "source": [
    "X_train, y_train = make_Xy(train_docs)"
   ]
  },
  {
   "cell_type": "code",
   "execution_count": 67,
   "id": "42cc98c3",
   "metadata": {},
   "outputs": [],
   "source": [
    "X_test, y_test = make_Xy(test_docs)"
   ]
  },
  {
   "cell_type": "code",
   "execution_count": 68,
   "id": "ca61096c",
   "metadata": {},
   "outputs": [],
   "source": [
    "write_jl(X_train, 'X_train.jl')\n",
    "write_jl(y_train, 'y_train.jl')\n",
    "write_jl(X_test, 'X_test.jl')\n",
    "write_jl(y_test, 'y_test.jl')"
   ]
  },
  {
   "cell_type": "code",
   "execution_count": null,
   "id": "c54f9857",
   "metadata": {},
   "outputs": [],
   "source": []
  }
 ],
 "metadata": {
  "kernelspec": {
   "display_name": "Python 3 (ipykernel)",
   "language": "python",
   "name": "python3"
  },
  "language_info": {
   "codemirror_mode": {
    "name": "ipython",
    "version": 3
   },
   "file_extension": ".py",
   "mimetype": "text/x-python",
   "name": "python",
   "nbconvert_exporter": "python",
   "pygments_lexer": "ipython3",
   "version": "3.9.12"
  }
 },
 "nbformat": 4,
 "nbformat_minor": 5
}
