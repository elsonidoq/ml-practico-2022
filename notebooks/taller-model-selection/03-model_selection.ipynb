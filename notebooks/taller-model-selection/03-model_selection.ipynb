{
  "cells": [
    {
      "cell_type": "code",
      "execution_count": 1,
      "id": "cdeac8bf",
      "metadata": {
        "id": "cdeac8bf",
        "outputId": "a7fb008e-6116-403c-c7c9-932d5c63e4d1",
        "colab": {
          "base_uri": "https://localhost:8080/"
        }
      },
      "outputs": [
        {
          "output_type": "stream",
          "name": "stdout",
          "text": [
            "Looking in indexes: https://pypi.org/simple, https://us-python.pkg.dev/colab-wheels/public/simple/\n",
            "Requirement already satisfied: hyperopt in /usr/local/lib/python3.7/dist-packages (0.1.2)\n",
            "Requirement already satisfied: tqdm in /usr/local/lib/python3.7/dist-packages (from hyperopt) (4.64.1)\n",
            "Requirement already satisfied: numpy in /usr/local/lib/python3.7/dist-packages (from hyperopt) (1.21.6)\n",
            "Requirement already satisfied: future in /usr/local/lib/python3.7/dist-packages (from hyperopt) (0.16.0)\n",
            "Requirement already satisfied: networkx in /usr/local/lib/python3.7/dist-packages (from hyperopt) (2.6.3)\n",
            "Requirement already satisfied: six in /usr/local/lib/python3.7/dist-packages (from hyperopt) (1.15.0)\n",
            "Requirement already satisfied: pymongo in /usr/local/lib/python3.7/dist-packages (from hyperopt) (4.2.0)\n",
            "Requirement already satisfied: scipy in /usr/local/lib/python3.7/dist-packages (from hyperopt) (1.7.3)\n",
            "Looking in indexes: https://pypi.org/simple, https://us-python.pkg.dev/colab-wheels/public/simple/\n",
            "Collecting fasttext\n",
            "  Downloading fasttext-0.9.2.tar.gz (68 kB)\n",
            "\u001b[K     |████████████████████████████████| 68 kB 5.0 MB/s \n",
            "\u001b[?25hCollecting pybind11>=2.2\n",
            "  Using cached pybind11-2.10.0-py3-none-any.whl (213 kB)\n",
            "Requirement already satisfied: setuptools>=0.7.0 in /usr/local/lib/python3.7/dist-packages (from fasttext) (57.4.0)\n",
            "Requirement already satisfied: numpy in /usr/local/lib/python3.7/dist-packages (from fasttext) (1.21.6)\n",
            "Building wheels for collected packages: fasttext\n",
            "  Building wheel for fasttext (setup.py) ... \u001b[?25l\u001b[?25hdone\n",
            "  Created wheel for fasttext: filename=fasttext-0.9.2-cp37-cp37m-linux_x86_64.whl size=3163431 sha256=e57a8f3b2d1980ddb363fc0dc4a382ee7d98c56c27a3d772113ea66cf6f18d69\n",
            "  Stored in directory: /root/.cache/pip/wheels/4e/ca/bf/b020d2be95f7641801a6597a29c8f4f19e38f9c02a345bab9b\n",
            "Successfully built fasttext\n",
            "Installing collected packages: pybind11, fasttext\n",
            "Successfully installed fasttext-0.9.2 pybind11-2.10.0\n"
          ]
        }
      ],
      "source": [
        "!pip install hyperopt\n",
        "!pip install fasttext # necesario para importar los modulos"
      ]
    },
    {
      "cell_type": "code",
      "execution_count": 2,
      "id": "69e5be63",
      "metadata": {
        "id": "69e5be63",
        "outputId": "e4aec50b-91d6-4539-cddf-f02f83716ce4",
        "colab": {
          "base_uri": "https://localhost:8080/",
          "height": 998
        }
      },
      "outputs": [
        {
          "output_type": "stream",
          "name": "stdout",
          "text": [
            "Looking in indexes: https://pypi.org/simple, https://us-python.pkg.dev/colab-wheels/public/simple/\n",
            "Collecting lightgbm\n",
            "  Downloading lightgbm-3.3.2-py3-none-manylinux1_x86_64.whl (2.0 MB)\n",
            "\u001b[K     |████████████████████████████████| 2.0 MB 33.7 MB/s \n",
            "\u001b[?25hCollecting scipy\n",
            "  Downloading scipy-1.7.3-cp37-cp37m-manylinux_2_12_x86_64.manylinux2010_x86_64.whl (38.1 MB)\n",
            "\u001b[K     |████████████████████████████████| 38.1 MB 1.2 MB/s \n",
            "\u001b[?25hCollecting scikit-learn!=0.22.0\n",
            "  Downloading scikit_learn-1.0.2-cp37-cp37m-manylinux_2_17_x86_64.manylinux2014_x86_64.whl (24.8 MB)\n",
            "\u001b[K     |████████████████████████████████| 24.8 MB 11.5 MB/s \n",
            "\u001b[?25hCollecting wheel\n",
            "  Downloading wheel-0.37.1-py2.py3-none-any.whl (35 kB)\n",
            "Collecting numpy\n",
            "  Downloading numpy-1.21.6-cp37-cp37m-manylinux_2_12_x86_64.manylinux2010_x86_64.whl (15.7 MB)\n",
            "\u001b[K     |████████████████████████████████| 15.7 MB 11.8 MB/s \n",
            "\u001b[?25hCollecting threadpoolctl>=2.0.0\n",
            "  Downloading threadpoolctl-3.1.0-py3-none-any.whl (14 kB)\n",
            "Collecting joblib>=0.11\n",
            "  Downloading joblib-1.2.0-py3-none-any.whl (297 kB)\n",
            "\u001b[K     |████████████████████████████████| 297 kB 56.0 MB/s \n",
            "\u001b[?25hInstalling collected packages: numpy, threadpoolctl, scipy, joblib, wheel, scikit-learn, lightgbm\n",
            "  Attempting uninstall: numpy\n",
            "    Found existing installation: numpy 1.21.6\n",
            "    Uninstalling numpy-1.21.6:\n",
            "      Successfully uninstalled numpy-1.21.6\n",
            "  Attempting uninstall: threadpoolctl\n",
            "    Found existing installation: threadpoolctl 3.1.0\n",
            "    Uninstalling threadpoolctl-3.1.0:\n",
            "      Successfully uninstalled threadpoolctl-3.1.0\n",
            "  Attempting uninstall: scipy\n",
            "    Found existing installation: scipy 1.7.3\n",
            "    Uninstalling scipy-1.7.3:\n",
            "      Successfully uninstalled scipy-1.7.3\n",
            "  Attempting uninstall: joblib\n",
            "    Found existing installation: joblib 1.1.0\n",
            "    Uninstalling joblib-1.1.0:\n",
            "      Successfully uninstalled joblib-1.1.0\n",
            "  Attempting uninstall: wheel\n",
            "    Found existing installation: wheel 0.37.1\n",
            "    Uninstalling wheel-0.37.1:\n",
            "      Successfully uninstalled wheel-0.37.1\n",
            "  Attempting uninstall: scikit-learn\n",
            "    Found existing installation: scikit-learn 1.0.2\n",
            "    Uninstalling scikit-learn-1.0.2:\n",
            "      Successfully uninstalled scikit-learn-1.0.2\n",
            "  Attempting uninstall: lightgbm\n",
            "    Found existing installation: lightgbm 2.2.3\n",
            "    Uninstalling lightgbm-2.2.3:\n",
            "      Successfully uninstalled lightgbm-2.2.3\n",
            "Successfully installed joblib-1.2.0 lightgbm-3.3.2 numpy-1.21.6 scikit-learn-1.0.2 scipy-1.7.3 threadpoolctl-3.1.0 wheel-0.37.1\n"
          ]
        },
        {
          "output_type": "display_data",
          "data": {
            "application/vnd.colab-display-data+json": {
              "pip_warning": {
                "packages": [
                  "numpy"
                ]
              }
            }
          },
          "metadata": {}
        }
      ],
      "source": [
        "!pip install --upgrade --force lightgbm"
      ]
    },
    {
      "cell_type": "markdown",
      "source": [
        "**Si te dice de reiniciar el runtime, hacelo**"
      ],
      "metadata": {
        "id": "Vi8miLIBNiRQ"
      },
      "id": "Vi8miLIBNiRQ"
    },
    {
      "cell_type": "code",
      "source": [
        "# Clonamos el repo para usar el codigo de la lib\n",
        "!git clone https://github.com/elsonidoq/ml-practico-2022.git "
      ],
      "metadata": {
        "id": "P7YF6tFRM_H5",
        "outputId": "3e92c14e-da5c-4f62-e0cf-b04e1410f5e6",
        "colab": {
          "base_uri": "https://localhost:8080/"
        }
      },
      "id": "P7YF6tFRM_H5",
      "execution_count": 3,
      "outputs": [
        {
          "output_type": "stream",
          "name": "stdout",
          "text": [
            "Cloning into 'ml-practico-2022'...\n",
            "remote: Enumerating objects: 154, done.\u001b[K\n",
            "remote: Counting objects: 100% (154/154), done.\u001b[K\n",
            "remote: Compressing objects: 100% (110/110), done.\u001b[K\n",
            "remote: Total 154 (delta 72), reused 119 (delta 41), pack-reused 0\u001b[K\n",
            "Receiving objects: 100% (154/154), 2.78 MiB | 28.72 MiB/s, done.\n",
            "Resolving deltas: 100% (72/72), done.\n"
          ]
        }
      ]
    },
    {
      "cell_type": "code",
      "source": [
        "import sys\n",
        "sys.path.append('ml-practico-2022/lib')"
      ],
      "metadata": {
        "id": "3P_H7w-GNA61"
      },
      "id": "3P_H7w-GNA61",
      "execution_count": 4,
      "outputs": []
    },
    {
      "cell_type": "code",
      "source": [
        "from google.colab import drive\n",
        "\n",
        "drive.mount('/content/gdrive')"
      ],
      "metadata": {
        "id": "46xD-qLANGLR",
        "outputId": "85a7ff8f-6cdd-44b2-ea08-85aa6ed6cf0f",
        "colab": {
          "base_uri": "https://localhost:8080/"
        }
      },
      "id": "46xD-qLANGLR",
      "execution_count": 5,
      "outputs": [
        {
          "output_type": "stream",
          "name": "stdout",
          "text": [
            "Drive already mounted at /content/gdrive; to attempt to forcibly remount, call drive.mount(\"/content/gdrive\", force_remount=True).\n"
          ]
        }
      ]
    },
    {
      "cell_type": "code",
      "execution_count": 6,
      "id": "16976a4e",
      "metadata": {
        "id": "16976a4e",
        "outputId": "bfa8e685-e2f7-4eba-c553-58c5d739935a",
        "colab": {
          "base_uri": "https://localhost:8080/"
        }
      },
      "outputs": [
        {
          "output_type": "stream",
          "name": "stdout",
          "text": [
            "{'pct(train)': 0.7837289649483001, 'pct(dev)': 0.11952685477518159, 'pct(test)': 0.09674418027651828}\n"
          ]
        }
      ],
      "source": [
        "import pandas as pd\n",
        "from taller_model_selection.evaluate import load_train_dev_test\n",
        "\n",
        "(X_train, y_train), (X_dev, y_dev), test = load_train_dev_test('/content/gdrive/MyDrive/taller-model-selection-data')"
      ]
    },
    {
      "cell_type": "code",
      "execution_count": 7,
      "id": "13b98763",
      "metadata": {
        "id": "13b98763"
      },
      "outputs": [],
      "source": [
        "from taller_model_selection.transformers import FeatureProjection\n",
        "from sklearn.pipeline import make_pipeline, make_union\n",
        "from sklearn.preprocessing import OneHotEncoder\n",
        "from sklearn.impute import SimpleImputer\n",
        "from sklearn.ensemble import RandomForestRegressor\n",
        "\n",
        "features_pipe = make_union(\n",
        "    make_pipeline(\n",
        "        FeatureProjection(['rooms', 'bedrooms', 'bathrooms', 'surface_total', 'surface_covered']),\n",
        "        SimpleImputer()\n",
        "    ),\n",
        "    make_pipeline(\n",
        "        FeatureProjection(['l3']), \n",
        "        SimpleImputer(strategy='most_frequent'),\n",
        "        OneHotEncoder(sparse=False)\n",
        "    ), \n",
        "    make_pipeline(\n",
        "        FeatureProjection(['l4']), \n",
        "        SimpleImputer(strategy='constant'),\n",
        "        OneHotEncoder(sparse=False)\n",
        "    ), \n",
        ")"
      ]
    },
    {
      "cell_type": "code",
      "execution_count": 12,
      "id": "ba580eb5",
      "metadata": {
        "id": "ba580eb5"
      },
      "outputs": [],
      "source": [
        "import lightgbm as lgb\n",
        "from pprint import pprint\n",
        "from hyperopt import fmin, tpe, hp, STATUS_OK, Trials\n",
        "from time import time\n",
        "\n",
        "from taller_model_selection.evaluate import rmse\n",
        "\n",
        "def objective(params):\n",
        "    params['n_estimators'] = int(params['n_estimators'])\n",
        "    print(params)\n",
        "    pipe = make_pipeline(\n",
        "        features_pipe,\n",
        "        lgb.LGBMRegressor(random_state=42, **params)\n",
        "    )\n",
        "    t0 = time()\n",
        "    pipe.fit(X_train, y_train)\n",
        "    train_time = time() - t0\n",
        "    loss=rmse(y_dev, pipe.predict(X_dev))\n",
        "    print(f'loss {loss:.02f}')\n",
        "    return dict(\n",
        "        loss=loss,\n",
        "        tr_loss=rmse(y_train, pipe.predict(X_train)), \n",
        "        params=params,\n",
        "        train_time=train_time,\n",
        "        status=STATUS_OK\n",
        "    )"
      ]
    },
    {
      "cell_type": "code",
      "execution_count": 17,
      "id": "2d9c804b",
      "metadata": {
        "id": "2d9c804b"
      },
      "outputs": [],
      "source": [
        "import numpy as np\n",
        "\n",
        "space = {\n",
        "    'n_estimators': hp.quniform('n_estimators', 10, 300, 10),\n",
        "    'subsample': hp.quniform('subsample', 0.5, 1.0, 0.1),\n",
        "    'objective': hp.choice('objective', [\"regression\", \"regression_l1\"]),\n",
        "    'learning_rate': hp.qloguniform('learning_rate', np.log(0.01), np.log(0.3), 0.01),\n",
        "    'reg_alpha': hp.choice('ra', [0, hp.quniform('reg_alpha', 0.01, 0.1, 0.01)]),\n",
        "}\n",
        "\n",
        "trials = Trials()"
      ]
    },
    {
      "cell_type": "code",
      "execution_count": 18,
      "id": "e1cd5709",
      "metadata": {
        "id": "e1cd5709",
        "outputId": "b0431859-c5d2-4fd7-8998-52fe26b317c4",
        "colab": {
          "base_uri": "https://localhost:8080/"
        }
      },
      "outputs": [
        {
          "output_type": "stream",
          "name": "stdout",
          "text": [
            "{'learning_rate': 0.28, 'n_estimators': 20, 'objective': 'regression', 'reg_alpha': 0.02, 'subsample': 0.5}\n",
            "loss 295388.95\n",
            "{'learning_rate': 0.23, 'n_estimators': 40, 'objective': 'regression_l1', 'reg_alpha': 0, 'subsample': 0.8}\n",
            "loss 335784.66\n",
            "{'learning_rate': 0.03, 'n_estimators': 230, 'objective': 'regression', 'reg_alpha': 0.1, 'subsample': 1.0}\n",
            "loss 287989.34\n",
            "{'learning_rate': 0.01, 'n_estimators': 110, 'objective': 'regression', 'reg_alpha': 0.01, 'subsample': 1.0}\n",
            "loss 331604.09\n",
            "{'learning_rate': 0.15, 'n_estimators': 40, 'objective': 'regression', 'reg_alpha': 0, 'subsample': 1.0}\n",
            "loss 292266.85\n",
            "{'learning_rate': 0.22, 'n_estimators': 190, 'objective': 'regression_l1', 'reg_alpha': 0.03, 'subsample': 1.0}\n",
            "loss 302850.04\n",
            "{'learning_rate': 0.09, 'n_estimators': 180, 'objective': 'regression_l1', 'reg_alpha': 0.08, 'subsample': 0.9}\n",
            "loss 312398.83\n",
            "{'learning_rate': 0.09, 'n_estimators': 10, 'objective': 'regression', 'reg_alpha': 0, 'subsample': 0.7000000000000001}\n",
            "loss 341894.47\n",
            "{'learning_rate': 0.03, 'n_estimators': 160, 'objective': 'regression', 'reg_alpha': 0, 'subsample': 0.8}\n",
            "loss 290134.87\n",
            "{'learning_rate': 0.01, 'n_estimators': 160, 'objective': 'regression', 'reg_alpha': 0.08, 'subsample': 0.6000000000000001}\n",
            "loss 313207.85\n",
            "{'learning_rate': 0.14, 'n_estimators': 190, 'objective': 'regression', 'reg_alpha': 0, 'subsample': 0.5}\n",
            "loss 284600.70\n",
            "{'learning_rate': 0.02, 'n_estimators': 30, 'objective': 'regression', 'reg_alpha': 0.05, 'subsample': 0.7000000000000001}\n",
            "loss 369818.09\n",
            "{'learning_rate': 0.16, 'n_estimators': 170, 'objective': 'regression', 'reg_alpha': 0, 'subsample': 0.8}\n",
            "loss 284865.51\n",
            "{'learning_rate': 0.16, 'n_estimators': 200, 'objective': 'regression', 'reg_alpha': 0.08, 'subsample': 0.8}\n",
            "loss 284975.70\n",
            "{'learning_rate': 0.23, 'n_estimators': 60, 'objective': 'regression_l1', 'reg_alpha': 0.05, 'subsample': 0.6000000000000001}\n",
            "loss 314537.55\n",
            "{'learning_rate': 0.02, 'n_estimators': 30, 'objective': 'regression', 'reg_alpha': 0, 'subsample': 0.7000000000000001}\n",
            "loss 369818.09\n",
            "{'learning_rate': 0.07, 'n_estimators': 70, 'objective': 'regression_l1', 'reg_alpha': 0.04, 'subsample': 0.9}\n",
            "loss 348528.73\n",
            "{'learning_rate': 0.14, 'n_estimators': 200, 'objective': 'regression_l1', 'reg_alpha': 0, 'subsample': 0.7000000000000001}\n",
            "loss 304075.28\n",
            "{'learning_rate': 0.18, 'n_estimators': 130, 'objective': 'regression', 'reg_alpha': 0, 'subsample': 0.7000000000000001}\n",
            "loss 285684.50\n",
            "{'learning_rate': 0.16, 'n_estimators': 140, 'objective': 'regression', 'reg_alpha': 0, 'subsample': 0.7000000000000001}\n",
            "loss 284957.24\n",
            "100%|██████████| 20/20 [01:33<00:00,  4.68s/it, best loss: 284600.69531774666]\n"
          ]
        }
      ],
      "source": [
        "best = fmin(objective, space, algo=tpe.suggest, max_evals=20, trials=trials)"
      ]
    },
    {
      "cell_type": "code",
      "execution_count": 19,
      "id": "18f3514b",
      "metadata": {
        "id": "18f3514b"
      },
      "outputs": [],
      "source": [
        "def flatten(doc, pref=''):\n",
        "    res = {}\n",
        "    for k, v in doc.items():\n",
        "        k = f'{pref}.{k}' if pref else k\n",
        "        if isinstance(v, dict):\n",
        "            res.update(flatten(v, k))\n",
        "        else:\n",
        "            res[k] = v\n",
        "    return res"
      ]
    },
    {
      "cell_type": "code",
      "execution_count": 20,
      "id": "819a28ce",
      "metadata": {
        "id": "819a28ce",
        "outputId": "4d2cba96-3291-48e7-da39-9cfb8561c041",
        "colab": {
          "base_uri": "https://localhost:8080/",
          "height": 270
        }
      },
      "outputs": [
        {
          "output_type": "execute_result",
          "data": {
            "text/plain": [
              "             loss        tr_loss  params.learning_rate  params.n_estimators  \\\n",
              "10  284600.695318  283454.058813                  0.14                  190   \n",
              "12  284865.508132  282882.536586                  0.16                  170   \n",
              "19  284957.236786  286156.356323                  0.16                  140   \n",
              "13  284975.699779  280018.947499                  0.16                  200   \n",
              "18  285684.497075  285171.861806                  0.18                  130   \n",
              "\n",
              "   params.objective  params.reg_alpha  params.subsample  train_time status  \n",
              "10       regression              0.00               0.5    2.664822     ok  \n",
              "12       regression              0.00               0.8    2.610185     ok  \n",
              "19       regression              0.00               0.7    2.592571     ok  \n",
              "13       regression              0.08               0.8    2.658899     ok  \n",
              "18       regression              0.00               0.7    2.277481     ok  "
            ],
            "text/html": [
              "\n",
              "  <div id=\"df-6b1af6b4-74a9-4176-9dc1-51a992ce3f4e\">\n",
              "    <div class=\"colab-df-container\">\n",
              "      <div>\n",
              "<style scoped>\n",
              "    .dataframe tbody tr th:only-of-type {\n",
              "        vertical-align: middle;\n",
              "    }\n",
              "\n",
              "    .dataframe tbody tr th {\n",
              "        vertical-align: top;\n",
              "    }\n",
              "\n",
              "    .dataframe thead th {\n",
              "        text-align: right;\n",
              "    }\n",
              "</style>\n",
              "<table border=\"1\" class=\"dataframe\">\n",
              "  <thead>\n",
              "    <tr style=\"text-align: right;\">\n",
              "      <th></th>\n",
              "      <th>loss</th>\n",
              "      <th>tr_loss</th>\n",
              "      <th>params.learning_rate</th>\n",
              "      <th>params.n_estimators</th>\n",
              "      <th>params.objective</th>\n",
              "      <th>params.reg_alpha</th>\n",
              "      <th>params.subsample</th>\n",
              "      <th>train_time</th>\n",
              "      <th>status</th>\n",
              "    </tr>\n",
              "  </thead>\n",
              "  <tbody>\n",
              "    <tr>\n",
              "      <th>10</th>\n",
              "      <td>284600.695318</td>\n",
              "      <td>283454.058813</td>\n",
              "      <td>0.14</td>\n",
              "      <td>190</td>\n",
              "      <td>regression</td>\n",
              "      <td>0.00</td>\n",
              "      <td>0.5</td>\n",
              "      <td>2.664822</td>\n",
              "      <td>ok</td>\n",
              "    </tr>\n",
              "    <tr>\n",
              "      <th>12</th>\n",
              "      <td>284865.508132</td>\n",
              "      <td>282882.536586</td>\n",
              "      <td>0.16</td>\n",
              "      <td>170</td>\n",
              "      <td>regression</td>\n",
              "      <td>0.00</td>\n",
              "      <td>0.8</td>\n",
              "      <td>2.610185</td>\n",
              "      <td>ok</td>\n",
              "    </tr>\n",
              "    <tr>\n",
              "      <th>19</th>\n",
              "      <td>284957.236786</td>\n",
              "      <td>286156.356323</td>\n",
              "      <td>0.16</td>\n",
              "      <td>140</td>\n",
              "      <td>regression</td>\n",
              "      <td>0.00</td>\n",
              "      <td>0.7</td>\n",
              "      <td>2.592571</td>\n",
              "      <td>ok</td>\n",
              "    </tr>\n",
              "    <tr>\n",
              "      <th>13</th>\n",
              "      <td>284975.699779</td>\n",
              "      <td>280018.947499</td>\n",
              "      <td>0.16</td>\n",
              "      <td>200</td>\n",
              "      <td>regression</td>\n",
              "      <td>0.08</td>\n",
              "      <td>0.8</td>\n",
              "      <td>2.658899</td>\n",
              "      <td>ok</td>\n",
              "    </tr>\n",
              "    <tr>\n",
              "      <th>18</th>\n",
              "      <td>285684.497075</td>\n",
              "      <td>285171.861806</td>\n",
              "      <td>0.18</td>\n",
              "      <td>130</td>\n",
              "      <td>regression</td>\n",
              "      <td>0.00</td>\n",
              "      <td>0.7</td>\n",
              "      <td>2.277481</td>\n",
              "      <td>ok</td>\n",
              "    </tr>\n",
              "  </tbody>\n",
              "</table>\n",
              "</div>\n",
              "      <button class=\"colab-df-convert\" onclick=\"convertToInteractive('df-6b1af6b4-74a9-4176-9dc1-51a992ce3f4e')\"\n",
              "              title=\"Convert this dataframe to an interactive table.\"\n",
              "              style=\"display:none;\">\n",
              "        \n",
              "  <svg xmlns=\"http://www.w3.org/2000/svg\" height=\"24px\"viewBox=\"0 0 24 24\"\n",
              "       width=\"24px\">\n",
              "    <path d=\"M0 0h24v24H0V0z\" fill=\"none\"/>\n",
              "    <path d=\"M18.56 5.44l.94 2.06.94-2.06 2.06-.94-2.06-.94-.94-2.06-.94 2.06-2.06.94zm-11 1L8.5 8.5l.94-2.06 2.06-.94-2.06-.94L8.5 2.5l-.94 2.06-2.06.94zm10 10l.94 2.06.94-2.06 2.06-.94-2.06-.94-.94-2.06-.94 2.06-2.06.94z\"/><path d=\"M17.41 7.96l-1.37-1.37c-.4-.4-.92-.59-1.43-.59-.52 0-1.04.2-1.43.59L10.3 9.45l-7.72 7.72c-.78.78-.78 2.05 0 2.83L4 21.41c.39.39.9.59 1.41.59.51 0 1.02-.2 1.41-.59l7.78-7.78 2.81-2.81c.8-.78.8-2.07 0-2.86zM5.41 20L4 18.59l7.72-7.72 1.47 1.35L5.41 20z\"/>\n",
              "  </svg>\n",
              "      </button>\n",
              "      \n",
              "  <style>\n",
              "    .colab-df-container {\n",
              "      display:flex;\n",
              "      flex-wrap:wrap;\n",
              "      gap: 12px;\n",
              "    }\n",
              "\n",
              "    .colab-df-convert {\n",
              "      background-color: #E8F0FE;\n",
              "      border: none;\n",
              "      border-radius: 50%;\n",
              "      cursor: pointer;\n",
              "      display: none;\n",
              "      fill: #1967D2;\n",
              "      height: 32px;\n",
              "      padding: 0 0 0 0;\n",
              "      width: 32px;\n",
              "    }\n",
              "\n",
              "    .colab-df-convert:hover {\n",
              "      background-color: #E2EBFA;\n",
              "      box-shadow: 0px 1px 2px rgba(60, 64, 67, 0.3), 0px 1px 3px 1px rgba(60, 64, 67, 0.15);\n",
              "      fill: #174EA6;\n",
              "    }\n",
              "\n",
              "    [theme=dark] .colab-df-convert {\n",
              "      background-color: #3B4455;\n",
              "      fill: #D2E3FC;\n",
              "    }\n",
              "\n",
              "    [theme=dark] .colab-df-convert:hover {\n",
              "      background-color: #434B5C;\n",
              "      box-shadow: 0px 1px 3px 1px rgba(0, 0, 0, 0.15);\n",
              "      filter: drop-shadow(0px 1px 2px rgba(0, 0, 0, 0.3));\n",
              "      fill: #FFFFFF;\n",
              "    }\n",
              "  </style>\n",
              "\n",
              "      <script>\n",
              "        const buttonEl =\n",
              "          document.querySelector('#df-6b1af6b4-74a9-4176-9dc1-51a992ce3f4e button.colab-df-convert');\n",
              "        buttonEl.style.display =\n",
              "          google.colab.kernel.accessAllowed ? 'block' : 'none';\n",
              "\n",
              "        async function convertToInteractive(key) {\n",
              "          const element = document.querySelector('#df-6b1af6b4-74a9-4176-9dc1-51a992ce3f4e');\n",
              "          const dataTable =\n",
              "            await google.colab.kernel.invokeFunction('convertToInteractive',\n",
              "                                                     [key], {});\n",
              "          if (!dataTable) return;\n",
              "\n",
              "          const docLinkHtml = 'Like what you see? Visit the ' +\n",
              "            '<a target=\"_blank\" href=https://colab.research.google.com/notebooks/data_table.ipynb>data table notebook</a>'\n",
              "            + ' to learn more about interactive tables.';\n",
              "          element.innerHTML = '';\n",
              "          dataTable['output_type'] = 'display_data';\n",
              "          await google.colab.output.renderOutput(dataTable, element);\n",
              "          const docLink = document.createElement('div');\n",
              "          docLink.innerHTML = docLinkHtml;\n",
              "          element.appendChild(docLink);\n",
              "        }\n",
              "      </script>\n",
              "    </div>\n",
              "  </div>\n",
              "  "
            ]
          },
          "metadata": {},
          "execution_count": 20
        }
      ],
      "source": [
        "import pandas as pd\n",
        "df = pd.DataFrame(list(map(flatten, [e['result'] for e in trials.trials])))\n",
        "df.sort_values('loss').head()"
      ]
    },
    {
      "cell_type": "code",
      "execution_count": 23,
      "id": "7eab8880",
      "metadata": {
        "id": "7eab8880",
        "outputId": "7650c210-63c5-495a-a93c-f8e6aa54b09e",
        "colab": {
          "base_uri": "https://localhost:8080/",
          "height": 265
        }
      },
      "outputs": [
        {
          "output_type": "display_data",
          "data": {
            "text/plain": [
              "<Figure size 432x288 with 1 Axes>"
            ],
            "image/png": "[encoded data removed]"
          },
          "metadata": {
            "needs_background": "light"
          }
        }
      ],
      "source": [
        "import matplotlib.pyplot as plt\n",
        "\n",
        "df.loss.plot(style='-o', alpha=0.5)\n",
        "plt.scatter([df.loss.argmin()], [df.loss.min()], c='r')\n",
        "# df.tr_loss.plot()\n",
        "plt.yscale('log')\n",
        "plt.grid()"
      ]
    },
    {
      "cell_type": "code",
      "execution_count": 25,
      "id": "b2a32093",
      "metadata": {
        "id": "b2a32093",
        "outputId": "e657534c-cfc0-41f7-fdf8-1f168db35183",
        "colab": {
          "base_uri": "https://localhost:8080/",
          "height": 419
        }
      },
      "outputs": [
        {
          "output_type": "display_data",
          "data": {
            "text/plain": [
              "<Figure size 576x432 with 2 Axes>"
            ],
            "image/png": "[encoded data removed]"
          },
          "metadata": {
            "needs_background": "light"
          }
        }
      ],
      "source": [
        "plt.figure(figsize=(8,6))\n",
        "plt.scatter(df.tr_loss, df.loss, c=(df.loss-df.tr_loss)/df.loss*100)\n",
        "plt.title('Comparison of training and dev losses.\\n Color corresponds to overfitting percentage')\n",
        "plt.colorbar()\n",
        "m = min(df.tr_loss.min(), df.loss.min())\n",
        "M = max(df.tr_loss.max(), df.loss.max())\n",
        "plt.plot([m, M], [m, M], 'k--')\n",
        "plt.xlabel('tr loss')\n",
        "plt.ylabel('dev loss')\n",
        "plt.grid()"
      ]
    },
    {
      "cell_type": "code",
      "source": [
        "cut_point = df.loss.median()\n",
        "best_models_df = df[df.loss <= cut_point]\n",
        "worst_models_df = df[df.loss > cut_point]\n",
        "\n",
        "\n",
        "def visualize_param(param_name):\n",
        "  s = df[f'params.{param_name}']\n",
        "  if s.dtype.name == 'object':\n",
        "    visualize_categorical_param(param_name)\n",
        "  else: # assume numerical\n",
        "    visualize_numerical_param(param_name)\n",
        "\n",
        "def visualize_categorical_param(param_name):\n",
        "    pd.concat([\n",
        "      best_models_df[f'params.{param_name}'].value_counts().rename('best'),\n",
        "      worst_models_df[f'params.{param_name}'].value_counts().rename('worst')\n",
        "  ], axis=1).plot.bar()\n",
        "\n",
        "def visualize_numerical_param(param_name):\n",
        "  plt.violinplot([\n",
        "      best_models_df[f'params.{param_name}'],\n",
        "      worst_models_df[f'params.{param_name}']\n",
        "  ])\n",
        "  plt.xticks([1, 2], ['best', 'worst'])"
      ],
      "metadata": {
        "id": "NFSqS3eqRzFG"
      },
      "id": "NFSqS3eqRzFG",
      "execution_count": 65,
      "outputs": []
    },
    {
      "cell_type": "code",
      "source": [
        "param_names = list(trials.trials[0]['result']['params'].keys())\n",
        "for param_name in param_names:\n",
        "  plt.figure()\n",
        "  visualize_param(param_name)\n",
        "  plt.title(param_name)\n",
        "  plt.tight_layout()"
      ],
      "metadata": {
        "id": "ZdON8-JpP6gJ",
        "outputId": "61506fb2-ff76-4ab7-8b9b-d4e2aa4ab63d",
        "colab": {
          "base_uri": "https://localhost:8080/",
          "height": 1000
        }
      },
      "id": "ZdON8-JpP6gJ",
      "execution_count": 66,
      "outputs": [
        {
          "output_type": "display_data",
          "data": {
            "text/plain": [
              "<Figure size 432x288 with 1 Axes>"
            ],
            "image/png": "[encoded data removed]"
          },
          "metadata": {
            "needs_background": "light"
          }
        },
        {
          "output_type": "display_data",
          "data": {
            "text/plain": [
              "<Figure size 432x288 with 1 Axes>"
            ],
            "image/png": "[encoded data removed]"
          },
          "metadata": {
            "needs_background": "light"
          }
        },
        {
          "output_type": "display_data",
          "data": {
            "text/plain": [
              "<Figure size 432x288 with 0 Axes>"
            ]
          },
          "metadata": {}
        },
        {
          "output_type": "display_data",
          "data": {
            "text/plain": [
              "<Figure size 432x288 with 1 Axes>"
            ],
            "image/png": "[encoded data removed]"
          },
          "metadata": {
            "needs_background": "light"
          }
        },
        {
          "output_type": "display_data",
          "data": {
            "text/plain": [
              "<Figure size 432x288 with 1 Axes>"
            ],
            "image/png": "[encoded data removed]"
          },
          "metadata": {
            "needs_background": "light"
          }
        },
        {
          "output_type": "display_data",
          "data": {
            "text/plain": [
              "<Figure size 432x288 with 1 Axes>"
            ],
            "image/png": "[encoded data removed]"
          },
          "metadata": {
            "needs_background": "light"
          }
        }
      ]
    },
    {
      "cell_type": "markdown",
      "source": [
        "# Elegimos el champion y hacemos error analysis"
      ],
      "metadata": {
        "id": "LAitwejiTMWA"
      },
      "id": "LAitwejiTMWA"
    },
    {
      "cell_type": "code",
      "execution_count": 67,
      "id": "5d908644",
      "metadata": {
        "id": "5d908644",
        "outputId": "845b9a7a-235a-4bf0-9716-b11a2215fbad",
        "colab": {
          "base_uri": "https://localhost:8080/",
          "height": 176
        }
      },
      "outputs": [
        {
          "output_type": "execute_result",
          "data": {
            "text/plain": [
              "             loss        tr_loss  params.learning_rate  params.n_estimators  \\\n",
              "10  284600.695318  283454.058813                  0.14                  190   \n",
              "12  284865.508132  282882.536586                  0.16                  170   \n",
              "\n",
              "   params.objective  params.reg_alpha  params.subsample  train_time status  \n",
              "10       regression               0.0               0.5    2.664822     ok  \n",
              "12       regression               0.0               0.8    2.610185     ok  "
            ],
            "text/html": [
              "\n",
              "  <div id=\"df-27ea09e1-164a-4ddf-a98f-44eb214f3b17\">\n",
              "    <div class=\"colab-df-container\">\n",
              "      <div>\n",
              "<style scoped>\n",
              "    .dataframe tbody tr th:only-of-type {\n",
              "        vertical-align: middle;\n",
              "    }\n",
              "\n",
              "    .dataframe tbody tr th {\n",
              "        vertical-align: top;\n",
              "    }\n",
              "\n",
              "    .dataframe thead th {\n",
              "        text-align: right;\n",
              "    }\n",
              "</style>\n",
              "<table border=\"1\" class=\"dataframe\">\n",
              "  <thead>\n",
              "    <tr style=\"text-align: right;\">\n",
              "      <th></th>\n",
              "      <th>loss</th>\n",
              "      <th>tr_loss</th>\n",
              "      <th>params.learning_rate</th>\n",
              "      <th>params.n_estimators</th>\n",
              "      <th>params.objective</th>\n",
              "      <th>params.reg_alpha</th>\n",
              "      <th>params.subsample</th>\n",
              "      <th>train_time</th>\n",
              "      <th>status</th>\n",
              "    </tr>\n",
              "  </thead>\n",
              "  <tbody>\n",
              "    <tr>\n",
              "      <th>10</th>\n",
              "      <td>284600.695318</td>\n",
              "      <td>283454.058813</td>\n",
              "      <td>0.14</td>\n",
              "      <td>190</td>\n",
              "      <td>regression</td>\n",
              "      <td>0.0</td>\n",
              "      <td>0.5</td>\n",
              "      <td>2.664822</td>\n",
              "      <td>ok</td>\n",
              "    </tr>\n",
              "    <tr>\n",
              "      <th>12</th>\n",
              "      <td>284865.508132</td>\n",
              "      <td>282882.536586</td>\n",
              "      <td>0.16</td>\n",
              "      <td>170</td>\n",
              "      <td>regression</td>\n",
              "      <td>0.0</td>\n",
              "      <td>0.8</td>\n",
              "      <td>2.610185</td>\n",
              "      <td>ok</td>\n",
              "    </tr>\n",
              "  </tbody>\n",
              "</table>\n",
              "</div>\n",
              "      <button class=\"colab-df-convert\" onclick=\"convertToInteractive('df-27ea09e1-164a-4ddf-a98f-44eb214f3b17')\"\n",
              "              title=\"Convert this dataframe to an interactive table.\"\n",
              "              style=\"display:none;\">\n",
              "        \n",
              "  <svg xmlns=\"http://www.w3.org/2000/svg\" height=\"24px\"viewBox=\"0 0 24 24\"\n",
              "       width=\"24px\">\n",
              "    <path d=\"M0 0h24v24H0V0z\" fill=\"none\"/>\n",
              "    <path d=\"M18.56 5.44l.94 2.06.94-2.06 2.06-.94-2.06-.94-.94-2.06-.94 2.06-2.06.94zm-11 1L8.5 8.5l.94-2.06 2.06-.94-2.06-.94L8.5 2.5l-.94 2.06-2.06.94zm10 10l.94 2.06.94-2.06 2.06-.94-2.06-.94-.94-2.06-.94 2.06-2.06.94z\"/><path d=\"M17.41 7.96l-1.37-1.37c-.4-.4-.92-.59-1.43-.59-.52 0-1.04.2-1.43.59L10.3 9.45l-7.72 7.72c-.78.78-.78 2.05 0 2.83L4 21.41c.39.39.9.59 1.41.59.51 0 1.02-.2 1.41-.59l7.78-7.78 2.81-2.81c.8-.78.8-2.07 0-2.86zM5.41 20L4 18.59l7.72-7.72 1.47 1.35L5.41 20z\"/>\n",
              "  </svg>\n",
              "      </button>\n",
              "      \n",
              "  <style>\n",
              "    .colab-df-container {\n",
              "      display:flex;\n",
              "      flex-wrap:wrap;\n",
              "      gap: 12px;\n",
              "    }\n",
              "\n",
              "    .colab-df-convert {\n",
              "      background-color: #E8F0FE;\n",
              "      border: none;\n",
              "      border-radius: 50%;\n",
              "      cursor: pointer;\n",
              "      display: none;\n",
              "      fill: #1967D2;\n",
              "      height: 32px;\n",
              "      padding: 0 0 0 0;\n",
              "      width: 32px;\n",
              "    }\n",
              "\n",
              "    .colab-df-convert:hover {\n",
              "      background-color: #E2EBFA;\n",
              "      box-shadow: 0px 1px 2px rgba(60, 64, 67, 0.3), 0px 1px 3px 1px rgba(60, 64, 67, 0.15);\n",
              "      fill: #174EA6;\n",
              "    }\n",
              "\n",
              "    [theme=dark] .colab-df-convert {\n",
              "      background-color: #3B4455;\n",
              "      fill: #D2E3FC;\n",
              "    }\n",
              "\n",
              "    [theme=dark] .colab-df-convert:hover {\n",
              "      background-color: #434B5C;\n",
              "      box-shadow: 0px 1px 3px 1px rgba(0, 0, 0, 0.15);\n",
              "      filter: drop-shadow(0px 1px 2px rgba(0, 0, 0, 0.3));\n",
              "      fill: #FFFFFF;\n",
              "    }\n",
              "  </style>\n",
              "\n",
              "      <script>\n",
              "        const buttonEl =\n",
              "          document.querySelector('#df-27ea09e1-164a-4ddf-a98f-44eb214f3b17 button.colab-df-convert');\n",
              "        buttonEl.style.display =\n",
              "          google.colab.kernel.accessAllowed ? 'block' : 'none';\n",
              "\n",
              "        async function convertToInteractive(key) {\n",
              "          const element = document.querySelector('#df-27ea09e1-164a-4ddf-a98f-44eb214f3b17');\n",
              "          const dataTable =\n",
              "            await google.colab.kernel.invokeFunction('convertToInteractive',\n",
              "                                                     [key], {});\n",
              "          if (!dataTable) return;\n",
              "\n",
              "          const docLinkHtml = 'Like what you see? Visit the ' +\n",
              "            '<a target=\"_blank\" href=https://colab.research.google.com/notebooks/data_table.ipynb>data table notebook</a>'\n",
              "            + ' to learn more about interactive tables.';\n",
              "          element.innerHTML = '';\n",
              "          dataTable['output_type'] = 'display_data';\n",
              "          await google.colab.output.renderOutput(dataTable, element);\n",
              "          const docLink = document.createElement('div');\n",
              "          docLink.innerHTML = docLinkHtml;\n",
              "          element.appendChild(docLink);\n",
              "        }\n",
              "      </script>\n",
              "    </div>\n",
              "  </div>\n",
              "  "
            ]
          },
          "metadata": {},
          "execution_count": 67
        }
      ],
      "source": [
        "# El que menos overfittea de los mejors\n",
        "best = df[df.loss < df.loss.min() * 1.001].sort_values('tr_loss', ascending=False).head(30)\n",
        "best"
      ]
    },
    {
      "cell_type": "code",
      "source": [
        "params = {k.replace('params.', ''):v for k, v in best.iloc[0].to_dict().items() if 'params.' in k}\n",
        "rf_pipe = make_pipeline(\n",
        "    features_pipe,\n",
        "    lgb.LGBMRegressor(random_state=42, **params)\n",
        ")\n",
        "rf_pipe.fit(X_train, y_train)"
      ],
      "metadata": {
        "id": "x34sIqsPTKRp",
        "outputId": "29f5c347-fdd8-4242-8c4f-f1436c06ee24",
        "colab": {
          "base_uri": "https://localhost:8080/"
        }
      },
      "id": "x34sIqsPTKRp",
      "execution_count": 68,
      "outputs": [
        {
          "output_type": "execute_result",
          "data": {
            "text/plain": [
              "Pipeline(steps=[('featureunion',\n",
              "                 FeatureUnion(transformer_list=[('pipeline-1',\n",
              "                                                 Pipeline(steps=[('featureprojection',\n",
              "                                                                  FeatureProjection(fields=['rooms',\n",
              "                                                                                            'bedrooms',\n",
              "                                                                                            'bathrooms',\n",
              "                                                                                            'surface_total',\n",
              "                                                                                            'surface_covered'])),\n",
              "                                                                 ('simpleimputer',\n",
              "                                                                  SimpleImputer())])),\n",
              "                                                ('pipeline-2',\n",
              "                                                 Pipeline(steps=[('featureprojection',\n",
              "                                                                  FeatureProjection(fields=['l3'])),\n",
              "                                                                 ('simpleimputer',\n",
              "                                                                  Sim...\n",
              "                                                                 ('onehotencoder',\n",
              "                                                                  OneHotEncoder(sparse=False))])),\n",
              "                                                ('pipeline-3',\n",
              "                                                 Pipeline(steps=[('featureprojection',\n",
              "                                                                  FeatureProjection(fields=['l4'])),\n",
              "                                                                 ('simpleimputer',\n",
              "                                                                  SimpleImputer(strategy='constant')),\n",
              "                                                                 ('onehotencoder',\n",
              "                                                                  OneHotEncoder(sparse=False))]))])),\n",
              "                ('lgbmregressor',\n",
              "                 LGBMRegressor(learning_rate=0.14, n_estimators=190,\n",
              "                               objective='regression', random_state=42,\n",
              "                               subsample=0.5))])"
            ]
          },
          "metadata": {},
          "execution_count": 68
        }
      ]
    },
    {
      "cell_type": "code",
      "source": [],
      "metadata": {
        "id": "Av-mg9gETSmq"
      },
      "id": "Av-mg9gETSmq",
      "execution_count": 69,
      "outputs": []
    },
    {
      "cell_type": "code",
      "source": [
        "# Con el modelo entrenado, generamos predicciones \n",
        "# y calculamos el error por cada ejemplo\n",
        "\n",
        "y_hat_dev = rf_pipe.predict(X_dev)\n",
        "y_dev = np.asarray(y_dev)\n",
        "err_dev = y_dev - y_hat_dev\n",
        "rmse(y_dev, y_hat_dev)"
      ],
      "metadata": {
        "id": "2e89QK5BTZ7Q",
        "outputId": "15d0ac6f-0606-4ed4-b76a-034e7604c844",
        "colab": {
          "base_uri": "https://localhost:8080/"
        }
      },
      "id": "2e89QK5BTZ7Q",
      "execution_count": 137,
      "outputs": [
        {
          "output_type": "execute_result",
          "data": {
            "text/plain": [
              "284600.69531774666"
            ]
          },
          "metadata": {},
          "execution_count": 137
        }
      ]
    },
    {
      "cell_type": "code",
      "source": [
        "best.loss.iloc[0] # validamos que da el mismo error que lo que tuvimos en el model selection"
      ],
      "metadata": {
        "id": "wr5P9FcwTwt7",
        "outputId": "8c877e29-464c-449f-9e89-f71e7a227500",
        "colab": {
          "base_uri": "https://localhost:8080/"
        }
      },
      "id": "wr5P9FcwTwt7",
      "execution_count": 136,
      "outputs": [
        {
          "output_type": "execute_result",
          "data": {
            "text/plain": [
              "284600.69531774666"
            ]
          },
          "metadata": {},
          "execution_count": 136
        }
      ]
    },
    {
      "cell_type": "code",
      "source": [],
      "metadata": {
        "id": "PeBwLutAThcO",
        "outputId": "29c3eabd-a36d-4839-b66e-6d500b853f9a",
        "colab": {
          "base_uri": "https://localhost:8080/"
        }
      },
      "id": "PeBwLutAThcO",
      "execution_count": 92,
      "outputs": [
        {
          "output_type": "execute_result",
          "data": {
            "text/plain": [
              "(-252673.50437186606, 964)"
            ]
          },
          "metadata": {},
          "execution_count": 92
        }
      ]
    },
    {
      "cell_type": "code",
      "source": [
        "# Ahora vamos a elegir los ejemplos donde mas le pifiamos por arriba\n",
        "# O sea, donde el error (true - predicted) es negativo y muy bajo\n",
        "\n",
        "worst_over_price = np.percentile(err_dev, 5)\n",
        "over_price_examples = [dict(x=e, y=y_dev[i], y_hat=y_hat_dev[i]) for i, e in enumerate(X_dev) if err_dev[i] < worst_over_price]\n",
        "worst_over_price, len(over_price_examples)\n",
        "\n",
        "# Ahora vamos a elegir los ejemplos donde mas le pifiamos por abajo\n",
        "# O sea, donde el error (true - predicted) es positivo y muy alto\n",
        "worst_under_price = np.percentile(err_dev, 95)\n",
        "under_price_examples = [dict(x=e, y=y_dev[i], y_hat=y_hat_dev[i]) for i, e in enumerate(X_dev) if err_dev[i] > worst_under_price]\n",
        "worst_under_price, len(under_price_examples)"
      ],
      "metadata": {
        "id": "S0GfldLIUDG_",
        "outputId": "472db688-a761-423a-b051-466dc17246e9",
        "colab": {
          "base_uri": "https://localhost:8080/"
        }
      },
      "id": "S0GfldLIUDG_",
      "execution_count": 138,
      "outputs": [
        {
          "output_type": "execute_result",
          "data": {
            "text/plain": [
              "(171503.24813016455, 964)"
            ]
          },
          "metadata": {},
          "execution_count": 138
        }
      ]
    },
    {
      "cell_type": "code",
      "source": [
        "\n"
      ],
      "metadata": {
        "id": "AMwiPqnyXmGs"
      },
      "id": "AMwiPqnyXmGs",
      "execution_count": 126,
      "outputs": []
    },
    {
      "cell_type": "markdown",
      "source": [
        "# Visualizamos los ejemplos con mas error en cada punta"
      ],
      "metadata": {
        "id": "uHtN5ODFZUE0"
      },
      "id": "uHtN5ODFZUE0"
    },
    {
      "cell_type": "code",
      "source": [
        "from random import sample\n",
        "from IPython.display import display_markdown, display\n",
        "pd.set_option('display.float_format', lambda x: '%.3f' % x)\n",
        "\n",
        "def display_examples(examples, n=3):\n",
        "  for ex in sample(examples, n):\n",
        "    display_markdown(f'###{ex[\"x\"][\"title\"]}', raw=True)\n",
        "    display(pd.Series(dict(\n",
        "        true_price=ex['y'], predicted_price=ex['y_hat'],\n",
        "        absolute_error=abs(ex['y'] - ex['y_hat']), relative_error=abs(ex['y'] - ex['y_hat'])/ex['y'], \n",
        "    )))\n",
        "    display_markdown('###Description', raw=True)\n",
        "    display_markdown(ex['x']['description'][:300] + ' ...', raw=True)\n",
        "    display(pd.Series(ex['x']).drop(index=['description', 'title']))\n",
        "\n",
        "\n",
        "display_markdown(\"#Under price examples\", raw=True)\n",
        "display_examples(under_price_examples)\n",
        "\n",
        "display_markdown(\"#Over price examples\", raw=True)\n",
        "display_examples(over_price_examples)"
      ],
      "metadata": {
        "id": "Eypjgcg6ULgJ",
        "outputId": "510d969f-e4d7-4afa-ffc8-fa9a8416bcdf",
        "colab": {
          "base_uri": "https://localhost:8080/",
          "height": 1000
        }
      },
      "id": "Eypjgcg6ULgJ",
      "execution_count": 131,
      "outputs": [
        {
          "output_type": "display_data",
          "data": {
            "text/markdown": "#Under price examples"
          },
          "metadata": {}
        },
        {
          "output_type": "display_data",
          "data": {
            "text/markdown": "###Oficina Boutique en imponente Edificio Corporativo Inteligente"
          },
          "metadata": {}
        },
        {
          "output_type": "display_data",
          "data": {
            "text/plain": [
              "true_price        1200000.000\n",
              "predicted_price    877960.776\n",
              "absolute_error     322039.224\n",
              "relative_error          0.268\n",
              "dtype: float64"
            ]
          },
          "metadata": {}
        },
        {
          "output_type": "display_data",
          "data": {
            "text/markdown": "###Description"
          },
          "metadata": {}
        },
        {
          "output_type": "display_data",
          "data": {
            "text/markdown": "GRAN OFICINA EN EMBLEMATICO EDIFICIO DE GRAN CATEGORIA E IMAGEN CORPORATIVA EN 9 DE JULIO Y BELGRANO<br><br><br>OFICINA<br>-Oficina en PB  con disposición  cruzada al frente y contrafrente <br>- Son  590 m2 totales  distribuidos en: recepción y hall de espera, cómoda área de trabajo sectorizada,  2  ..."
          },
          "metadata": {}
        },
        {
          "output_type": "display_data",
          "data": {
            "text/plain": [
              "id                 wNkfwUaKLU3WmwOm4P+oLg==\n",
              "ad_type                           Propiedad\n",
              "start_date                       2021-03-22\n",
              "end_date                         2021-06-05\n",
              "created_on                       2021-03-22\n",
              "lat                                 -34.613\n",
              "lon                                 -58.382\n",
              "l1                                Argentina\n",
              "l2                          Capital Federal\n",
              "l3                                Monserrat\n",
              "l4                                      NaN\n",
              "l5                                      NaN\n",
              "l6                                      NaN\n",
              "rooms                                 4.000\n",
              "bedrooms                              4.000\n",
              "bathrooms                             2.000\n",
              "surface_total                       596.000\n",
              "surface_covered                     550.000\n",
              "currency                                USD\n",
              "price_period                        Mensual\n",
              "property_type                       Oficina\n",
              "operation_type                        Venta\n",
              "dtype: object"
            ]
          },
          "metadata": {}
        },
        {
          "output_type": "display_data",
          "data": {
            "text/markdown": "###Espectacular vista! Planta renovada"
          },
          "metadata": {}
        },
        {
          "output_type": "display_data",
          "data": {
            "text/plain": [
              "true_price        675000.000\n",
              "predicted_price   502665.834\n",
              "absolute_error    172334.166\n",
              "relative_error         0.255\n",
              "dtype: float64"
            ]
          },
          "metadata": {}
        },
        {
          "output_type": "display_data",
          "data": {
            "text/markdown": "###Description"
          },
          "metadata": {}
        },
        {
          "output_type": "display_data",
          "data": {
            "text/markdown": "SEMIPISO AL FRENTE EN TORRE AUSTRIA Y LAS HERAS, REFACCIONADO A NUEVO! 4 ambientes 3 suites<br>Espectacular vista al Plaza  y a la biblioteca Nacional. Ubicado a pasos de Av.  Las Heras, exclusiva zona de Recoleta frente a la Biblioteca Nacional. A una cuadra de Av. del Libertador. <br><br>Planta to ..."
          },
          "metadata": {}
        },
        {
          "output_type": "display_data",
          "data": {
            "text/plain": [
              "id                 30aROENDvGQBEygqPUbeYw==\n",
              "ad_type                           Propiedad\n",
              "start_date                       2021-03-11\n",
              "end_date                         2021-06-05\n",
              "created_on                       2021-03-11\n",
              "lat                                 -34.584\n",
              "lon                                 -58.399\n",
              "l1                                Argentina\n",
              "l2                          Capital Federal\n",
              "l3                                 Recoleta\n",
              "l4                                      NaN\n",
              "l5                                      NaN\n",
              "l6                                      NaN\n",
              "rooms                                 4.000\n",
              "bedrooms                              3.000\n",
              "bathrooms                             3.000\n",
              "surface_total                       162.000\n",
              "surface_covered                     146.000\n",
              "currency                                USD\n",
              "price_period                        Mensual\n",
              "property_type                  Departamento\n",
              "operation_type                        Venta\n",
              "dtype: object"
            ]
          },
          "metadata": {}
        },
        {
          "output_type": "display_data",
          "data": {
            "text/markdown": "###Lote V. Urquiza excelente 8,66x35,45 const 1.920m "
          },
          "metadata": {}
        },
        {
          "output_type": "display_data",
          "data": {
            "text/plain": [
              "true_price        840000.000\n",
              "predicted_price   419587.344\n",
              "absolute_error    420412.656\n",
              "relative_error         0.500\n",
              "dtype: float64"
            ]
          },
          "metadata": {}
        },
        {
          "output_type": "display_data",
          "data": {
            "text/markdown": "###Description"
          },
          "metadata": {}
        },
        {
          "output_type": "display_data",
          "data": {
            "text/markdown": "Corredor Responsable: Mónica Silvia Martinuzzi - CUCICBA 5172Contacto: Diego Fernan Vazquez - MLS ID # 420621063-98Lote V. Urquiza excelente 8,66x35,45 const 1.775mAceptan metros construídos o a construir. Muy buena zona, en expanción. Prefactibilidad adjunta: Altura: 22.80mts  \\n\\n Comprá la casa q ..."
          },
          "metadata": {}
        },
        {
          "output_type": "display_data",
          "data": {
            "text/plain": [
              "id                 eJSB9NCNzrJqVIAZeuY3Kw==\n",
              "ad_type                           Propiedad\n",
              "start_date                       2021-03-05\n",
              "end_date                         2021-03-07\n",
              "created_on                       2021-03-05\n",
              "lat                                 -34.582\n",
              "lon                                 -58.491\n",
              "l1                                Argentina\n",
              "l2                          Capital Federal\n",
              "l3                            Villa Urquiza\n",
              "l4                                      NaN\n",
              "l5                                      NaN\n",
              "l6                                      NaN\n",
              "rooms                                   NaN\n",
              "bedrooms                                NaN\n",
              "bathrooms                               NaN\n",
              "surface_total                       307.000\n",
              "surface_covered                     307.000\n",
              "currency                                USD\n",
              "price_period                            NaN\n",
              "property_type                          Lote\n",
              "operation_type                        Venta\n",
              "dtype: object"
            ]
          },
          "metadata": {}
        },
        {
          "output_type": "display_data",
          "data": {
            "text/markdown": "#Over price examples"
          },
          "metadata": {}
        },
        {
          "output_type": "display_data",
          "data": {
            "text/markdown": "###Excelente Piso de Categoría - Recoleta"
          },
          "metadata": {}
        },
        {
          "output_type": "display_data",
          "data": {
            "text/plain": [
              "true_price         980000.000\n",
              "predicted_price   1652996.221\n",
              "absolute_error     672996.221\n",
              "relative_error          0.687\n",
              "dtype: float64"
            ]
          },
          "metadata": {}
        },
        {
          "output_type": "display_data",
          "data": {
            "text/markdown": "###Description"
          },
          "metadata": {}
        },
        {
          "output_type": "display_data",
          "data": {
            "text/markdown": "Edificio clàsico de 65 años y excelente categorìa en Pza San Martìn ,  zona Cancillerìa, planta de 370 m2,  en plano invertido, donde ambas vistas,  frente y  contrafrente son espectaculares. Al frente, los 3 dormitorios de muy buenos tamaños, el principal una master suite con vestidor , miran al \"P ..."
          },
          "metadata": {}
        },
        {
          "output_type": "display_data",
          "data": {
            "text/plain": [
              "id                 CTqF6cGhnPKsVDPAoVKZyw==\n",
              "ad_type                           Propiedad\n",
              "start_date                       2021-03-29\n",
              "end_date                         2021-04-15\n",
              "created_on                       2021-03-29\n",
              "lat                                 -34.593\n",
              "lon                                 -58.378\n",
              "l1                                Argentina\n",
              "l2                          Capital Federal\n",
              "l3                                 Recoleta\n",
              "l4                                      NaN\n",
              "l5                                      NaN\n",
              "l6                                      NaN\n",
              "rooms                                 6.000\n",
              "bedrooms                              3.000\n",
              "bathrooms                             3.000\n",
              "surface_total                       372.000\n",
              "surface_covered                     372.000\n",
              "currency                                USD\n",
              "price_period                        Mensual\n",
              "property_type                  Departamento\n",
              "operation_type                        Venta\n",
              "dtype: object"
            ]
          },
          "metadata": {}
        },
        {
          "output_type": "display_data",
          "data": {
            "text/markdown": "###Cochera en Venta en Belgrano, Capital federal U$S 27000"
          },
          "metadata": {}
        },
        {
          "output_type": "display_data",
          "data": {
            "text/plain": [
              "true_price         27000.000\n",
              "predicted_price   297658.248\n",
              "absolute_error    270658.248\n",
              "relative_error        10.024\n",
              "dtype: float64"
            ]
          },
          "metadata": {}
        },
        {
          "output_type": "display_data",
          "data": {
            "text/markdown": "###Description"
          },
          "metadata": {}
        },
        {
          "output_type": "display_data",
          "data": {
            "text/markdown": "Venta de Cochera  en Belgrano\n XINTEL(LUI-LUI-10770) ..."
          },
          "metadata": {}
        },
        {
          "output_type": "display_data",
          "data": {
            "text/plain": [
              "id                 uPWbFf5rd+I+y4dhaWoROA==\n",
              "ad_type                           Propiedad\n",
              "start_date                       2021-04-15\n",
              "end_date                         2021-04-15\n",
              "created_on                       2021-04-15\n",
              "lat                                 -34.566\n",
              "lon                                 -58.451\n",
              "l1                                Argentina\n",
              "l2                          Capital Federal\n",
              "l3                                 Belgrano\n",
              "l4                                      NaN\n",
              "l5                                      NaN\n",
              "l6                                      NaN\n",
              "rooms                                 1.000\n",
              "bedrooms                                NaN\n",
              "bathrooms                               NaN\n",
              "surface_total                           NaN\n",
              "surface_covered                         NaN\n",
              "currency                                USD\n",
              "price_period                        Mensual\n",
              "property_type                       Cochera\n",
              "operation_type                        Venta\n",
              "dtype: object"
            ]
          },
          "metadata": {}
        },
        {
          "output_type": "display_data",
          "data": {
            "text/markdown": "###Cochera en Venta en Belgrano, Capital federal U$S 21500"
          },
          "metadata": {}
        },
        {
          "output_type": "display_data",
          "data": {
            "text/plain": [
              "true_price         21500.000\n",
              "predicted_price   297658.248\n",
              "absolute_error    276158.248\n",
              "relative_error        12.845\n",
              "dtype: float64"
            ]
          },
          "metadata": {}
        },
        {
          "output_type": "display_data",
          "data": {
            "text/markdown": "###Description"
          },
          "metadata": {}
        },
        {
          "output_type": "display_data",
          "data": {
            "text/markdown": " Excelente cochera fija muy amplia y comoda ubicada en 1º piso en edificio de cocheras en inmejorable ubicacion.\n XINTEL(LUI-LUI-10482) ..."
          },
          "metadata": {}
        },
        {
          "output_type": "display_data",
          "data": {
            "text/plain": [
              "id                 f6mJGfwnpiJSGgO7rHw+Iw==\n",
              "ad_type                           Propiedad\n",
              "start_date                       2021-04-14\n",
              "end_date                         2021-04-14\n",
              "created_on                       2021-04-14\n",
              "lat                                 -34.560\n",
              "lon                                 -58.453\n",
              "l1                                Argentina\n",
              "l2                          Capital Federal\n",
              "l3                                 Belgrano\n",
              "l4                                      NaN\n",
              "l5                                      NaN\n",
              "l6                                      NaN\n",
              "rooms                                 1.000\n",
              "bedrooms                                NaN\n",
              "bathrooms                               NaN\n",
              "surface_total                           NaN\n",
              "surface_covered                         NaN\n",
              "currency                                USD\n",
              "price_period                        Mensual\n",
              "property_type                       Cochera\n",
              "operation_type                        Venta\n",
              "dtype: object"
            ]
          },
          "metadata": {}
        }
      ]
    },
    {
      "cell_type": "code",
      "execution_count": 132,
      "id": "68d2a4dd",
      "metadata": {
        "id": "68d2a4dd"
      },
      "outputs": [],
      "source": [
        "X_test, y_test = test"
      ]
    },
    {
      "cell_type": "code",
      "execution_count": 133,
      "id": "42921e1e",
      "metadata": {
        "id": "42921e1e",
        "outputId": "4280dc2c-218c-400e-816b-cbf680665770",
        "colab": {
          "base_uri": "https://localhost:8080/"
        }
      },
      "outputs": [
        {
          "output_type": "execute_result",
          "data": {
            "text/plain": [
              "{'tr_loss': 283454.05881349073,\n",
              " 'dev_loss': 284600.69531774666,\n",
              " 'test_loss': 236769.44746213703}"
            ]
          },
          "metadata": {},
          "execution_count": 133
        }
      ],
      "source": [
        "best_model_performance = dict(\n",
        "    tr_loss=rmse(y_train, rf_pipe.predict(X_train)), \n",
        "    dev_loss=rmse(y_dev, rf_pipe.predict(X_dev)),\n",
        "    test_loss=rmse(y_test, rf_pipe.predict(X_test)), \n",
        ")\n",
        "best_model_performance"
      ]
    },
    {
      "cell_type": "code",
      "source": [],
      "metadata": {
        "id": "TMI91lXUYmZF"
      },
      "id": "TMI91lXUYmZF",
      "execution_count": null,
      "outputs": []
    }
  ],
  "metadata": {
    "kernelspec": {
      "display_name": "Python 3 (ipykernel)",
      "language": "python",
      "name": "python3"
    },
    "language_info": {
      "codemirror_mode": {
        "name": "ipython",
        "version": 3
      },
      "file_extension": ".py",
      "mimetype": "text/x-python",
      "name": "python",
      "nbconvert_exporter": "python",
      "pygments_lexer": "ipython3",
      "version": "3.9.12"
    },
    "colab": {
      "provenance": []
    }
  },
  "nbformat": 4,
  "nbformat_minor": 5
}