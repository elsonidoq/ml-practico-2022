{
  "cells": [
    {
      "cell_type": "code",
      "execution_count": 1,
      "id": "cdeac8bf",
      "metadata": {
        "colab": {
          "base_uri": "https://localhost:8080/"
        },
        "id": "cdeac8bf",
        "outputId": "521c2274-cba4-4c23-d364-482e3fd5371c"
      },
      "outputs": [
        {
          "output_type": "stream",
          "name": "stdout",
          "text": [
            "Looking in indexes: https://pypi.org/simple, https://us-python.pkg.dev/colab-wheels/public/simple/\n",
            "Requirement already satisfied: hyperopt in /usr/local/lib/python3.7/dist-packages (0.1.2)\n",
            "Requirement already satisfied: scipy in /usr/local/lib/python3.7/dist-packages (from hyperopt) (1.7.3)\n",
            "Requirement already satisfied: numpy in /usr/local/lib/python3.7/dist-packages (from hyperopt) (1.21.6)\n",
            "Requirement already satisfied: pymongo in /usr/local/lib/python3.7/dist-packages (from hyperopt) (4.2.0)\n",
            "Requirement already satisfied: future in /usr/local/lib/python3.7/dist-packages (from hyperopt) (0.16.0)\n",
            "Requirement already satisfied: networkx in /usr/local/lib/python3.7/dist-packages (from hyperopt) (2.6.3)\n",
            "Requirement already satisfied: six in /usr/local/lib/python3.7/dist-packages (from hyperopt) (1.15.0)\n",
            "Requirement already satisfied: tqdm in /usr/local/lib/python3.7/dist-packages (from hyperopt) (4.64.1)\n",
            "Looking in indexes: https://pypi.org/simple, https://us-python.pkg.dev/colab-wheels/public/simple/\n",
            "Collecting fasttext\n",
            "  Downloading fasttext-0.9.2.tar.gz (68 kB)\n",
            "\u001b[K     |████████████████████████████████| 68 kB 3.1 MB/s \n",
            "\u001b[?25hCollecting pybind11>=2.2\n",
            "  Using cached pybind11-2.10.0-py3-none-any.whl (213 kB)\n",
            "Requirement already satisfied: setuptools>=0.7.0 in /usr/local/lib/python3.7/dist-packages (from fasttext) (57.4.0)\n",
            "Requirement already satisfied: numpy in /usr/local/lib/python3.7/dist-packages (from fasttext) (1.21.6)\n",
            "Building wheels for collected packages: fasttext\n",
            "  Building wheel for fasttext (setup.py) ... \u001b[?25l\u001b[?25hdone\n",
            "  Created wheel for fasttext: filename=fasttext-0.9.2-cp37-cp37m-linux_x86_64.whl size=3163558 sha256=ff74669b1ccd46588a5e8d7df1023e41481790881070139ccbc1b5f100da91b5\n",
            "  Stored in directory: /root/.cache/pip/wheels/4e/ca/bf/b020d2be95f7641801a6597a29c8f4f19e38f9c02a345bab9b\n",
            "Successfully built fasttext\n",
            "Installing collected packages: pybind11, fasttext\n",
            "Successfully installed fasttext-0.9.2 pybind11-2.10.0\n"
          ]
        }
      ],
      "source": [
        "!pip install hyperopt\n",
        "!pip install fasttext # necesario para importar los modulos"
      ]
    },
    {
      "cell_type": "code",
      "source": [
        "# Clonamos el repo para usar el codigo de la lib\n",
        "!git clone https://github.com/elsonidoq/ml-practico-2022.git "
      ],
      "metadata": {
        "colab": {
          "base_uri": "https://localhost:8080/"
        },
        "id": "P7YF6tFRM_H5",
        "outputId": "1818f8e4-71cd-4830-fb5e-840b1dc63dfb"
      },
      "id": "P7YF6tFRM_H5",
      "execution_count": 2,
      "outputs": [
        {
          "output_type": "stream",
          "name": "stdout",
          "text": [
            "Cloning into 'ml-practico-2022'...\n",
            "remote: Enumerating objects: 193, done.\u001b[K\n",
            "remote: Counting objects: 100% (193/193), done.\u001b[K\n",
            "remote: Compressing objects: 100% (135/135), done.\u001b[K\n",
            "remote: Total 193 (delta 102), reused 142 (delta 55), pack-reused 0\u001b[K\n",
            "Receiving objects: 100% (193/193), 2.89 MiB | 24.08 MiB/s, done.\n",
            "Resolving deltas: 100% (102/102), done.\n"
          ]
        }
      ]
    },
    {
      "cell_type": "code",
      "source": [
        "import sys\n",
        "sys.path.append('ml-practico-2022/lib')"
      ],
      "metadata": {
        "id": "3P_H7w-GNA61"
      },
      "id": "3P_H7w-GNA61",
      "execution_count": 3,
      "outputs": []
    },
    {
      "cell_type": "code",
      "source": [
        "from google.colab import drive\n",
        "\n",
        "drive.mount('/content/gdrive')"
      ],
      "metadata": {
        "colab": {
          "base_uri": "https://localhost:8080/"
        },
        "id": "46xD-qLANGLR",
        "outputId": "2959032d-d408-451c-bded-c8da5c852446"
      },
      "id": "46xD-qLANGLR",
      "execution_count": 4,
      "outputs": [
        {
          "output_type": "stream",
          "name": "stdout",
          "text": [
            "Mounted at /content/gdrive\n"
          ]
        }
      ]
    },
    {
      "cell_type": "code",
      "execution_count": 5,
      "id": "16976a4e",
      "metadata": {
        "colab": {
          "base_uri": "https://localhost:8080/"
        },
        "id": "16976a4e",
        "outputId": "6c9032c7-ae76-4a2f-b8d7-86376924b5d8"
      },
      "outputs": [
        {
          "output_type": "stream",
          "name": "stdout",
          "text": [
            "{'pct(train)': 0.7837289649483001, 'pct(dev)': 0.11952685477518159, 'pct(test)': 0.09674418027651828}\n"
          ]
        }
      ],
      "source": [
        "import pandas as pd\n",
        "from taller_model_selection.evaluate import load_train_dev_test\n",
        "\n",
        "(X_train, y_train), (X_dev, y_dev), test = load_train_dev_test('/content/gdrive/MyDrive/taller-model-selection-data')"
      ]
    },
    {
      "cell_type": "code",
      "execution_count": 6,
      "id": "13b98763",
      "metadata": {
        "id": "13b98763"
      },
      "outputs": [],
      "source": [
        "from taller_model_selection.transformers import FeatureProjection\n",
        "from sklearn.pipeline import make_pipeline, make_union\n",
        "from sklearn.preprocessing import OneHotEncoder\n",
        "from sklearn.impute import SimpleImputer\n",
        "from sklearn.ensemble import RandomForestRegressor\n",
        "\n",
        "features_pipe = make_union(\n",
        "    make_pipeline(\n",
        "        FeatureProjection(['rooms', 'bedrooms', 'bathrooms', 'surface_total', 'surface_covered']),\n",
        "        SimpleImputer()\n",
        "    ),\n",
        "    make_pipeline(\n",
        "        FeatureProjection(['l3']), \n",
        "        SimpleImputer(strategy='most_frequent'),\n",
        "        OneHotEncoder(sparse=False)\n",
        "    ), \n",
        "    make_pipeline(\n",
        "        FeatureProjection(['l4']), \n",
        "        SimpleImputer(strategy='constant'),\n",
        "        OneHotEncoder(sparse=False)\n",
        "    ), \n",
        ")"
      ]
    },
    {
      "cell_type": "code",
      "execution_count": 7,
      "id": "ba580eb5",
      "metadata": {
        "id": "ba580eb5"
      },
      "outputs": [],
      "source": [
        "import lightgbm as lgb\n",
        "from pprint import pprint\n",
        "from hyperopt import fmin, tpe, hp, STATUS_OK, Trials\n",
        "from time import time\n",
        "\n",
        "from taller_model_selection.evaluate import rmse\n",
        "\n",
        "def objective(params):\n",
        "    params['n_estimators'] = int(params['n_estimators'])\n",
        "    print(params)\n",
        "    pipe = make_pipeline(\n",
        "        features_pipe,\n",
        "        lgb.LGBMRegressor(random_state=42, **params)\n",
        "    )\n",
        "    t0 = time()\n",
        "    pipe.fit(X_train, y_train)\n",
        "    train_time = time() - t0\n",
        "    loss=rmse(y_dev, pipe.predict(X_dev))\n",
        "    print(f'loss {loss:.02f}')\n",
        "    return dict(\n",
        "        loss=loss,\n",
        "        tr_loss=rmse(y_train, pipe.predict(X_train)), \n",
        "        params=params,\n",
        "        train_time=train_time,\n",
        "        status=STATUS_OK\n",
        "    )"
      ]
    },
    {
      "cell_type": "code",
      "execution_count": 8,
      "id": "2d9c804b",
      "metadata": {
        "id": "2d9c804b"
      },
      "outputs": [],
      "source": [
        "import numpy as np\n",
        "\n",
        "space = {\n",
        "    'n_estimators': hp.quniform('n_estimators', 10, 300, 10),\n",
        "    'subsample': hp.quniform('subsample', 0.5, 1.0, 0.1),\n",
        "    'objective': hp.choice('objective', [\"regression\", \"regression_l1\"]),\n",
        "    'learning_rate': hp.qloguniform('learning_rate', np.log(0.01), np.log(0.3), 0.01),\n",
        "    'reg_alpha': hp.choice('ra', [0, hp.quniform('reg_alpha', 0.01, 0.1, 0.01)]),\n",
        "}\n",
        "\n",
        "trials = Trials()"
      ]
    },
    {
      "cell_type": "code",
      "execution_count": 9,
      "id": "e1cd5709",
      "metadata": {
        "colab": {
          "base_uri": "https://localhost:8080/"
        },
        "id": "e1cd5709",
        "outputId": "9e9afc94-36c7-4e30-b03e-64e6de31d1ed"
      },
      "outputs": [
        {
          "output_type": "stream",
          "name": "stdout",
          "text": [
            "{'learning_rate': 0.01, 'n_estimators': 120, 'objective': 'regression', 'reg_alpha': 0.05, 'subsample': 0.7000000000000001}\n",
            "loss 326678.52\n",
            "{'learning_rate': 0.03, 'n_estimators': 210, 'objective': 'regression_l1', 'reg_alpha': 0, 'subsample': 0.9}\n",
            "loss 338883.88\n",
            "{'learning_rate': 0.28, 'n_estimators': 190, 'objective': 'regression_l1', 'reg_alpha': 0.03, 'subsample': 0.9}\n",
            "loss 302535.26\n",
            "{'learning_rate': 0.2, 'n_estimators': 250, 'objective': 'regression_l1', 'reg_alpha': 0, 'subsample': 0.9}\n",
            "loss 298998.82\n",
            "{'learning_rate': 0.05, 'n_estimators': 150, 'objective': 'regression_l1', 'reg_alpha': 0.02, 'subsample': 0.5}\n",
            "loss 326321.34\n",
            "{'learning_rate': 0.14, 'n_estimators': 230, 'objective': 'regression_l1', 'reg_alpha': 0.03, 'subsample': 0.8}\n",
            "loss 305481.13\n",
            "{'learning_rate': 0.05, 'n_estimators': 60, 'objective': 'regression', 'reg_alpha': 0, 'subsample': 0.8}\n",
            "loss 297630.20\n",
            "{'learning_rate': 0.08, 'n_estimators': 280, 'objective': 'regression_l1', 'reg_alpha': 0, 'subsample': 0.9}\n",
            "loss 308495.12\n",
            "{'learning_rate': 0.08, 'n_estimators': 230, 'objective': 'regression', 'reg_alpha': 0.06, 'subsample': 0.8}\n",
            "loss 284797.51\n",
            "{'learning_rate': 0.04, 'n_estimators': 90, 'objective': 'regression_l1', 'reg_alpha': 0.05, 'subsample': 0.8}\n",
            "loss 366411.45\n",
            "{'learning_rate': 0.28, 'n_estimators': 90, 'objective': 'regression_l1', 'reg_alpha': 0, 'subsample': 0.6000000000000001}\n",
            "loss 306445.41\n",
            "{'learning_rate': 0.03, 'n_estimators': 20, 'objective': 'regression_l1', 'reg_alpha': 0, 'subsample': 0.6000000000000001}\n",
            "loss 443410.27\n",
            "{'learning_rate': 0.11, 'n_estimators': 90, 'objective': 'regression_l1', 'reg_alpha': 0, 'subsample': 0.5}\n",
            "loss 323971.02\n",
            "{'learning_rate': 0.04, 'n_estimators': 20, 'objective': 'regression_l1', 'reg_alpha': 0, 'subsample': 0.6000000000000001}\n",
            "loss 434593.31\n",
            "{'learning_rate': 0.05, 'n_estimators': 230, 'objective': 'regression_l1', 'reg_alpha': 0, 'subsample': 0.9}\n",
            "loss 322037.03\n",
            "{'learning_rate': 0.02, 'n_estimators': 260, 'objective': 'regression_l1', 'reg_alpha': 0.09, 'subsample': 1.0}\n",
            "loss 345758.97\n",
            "{'learning_rate': 0.07, 'n_estimators': 230, 'objective': 'regression', 'reg_alpha': 0, 'subsample': 0.5}\n",
            "loss 284310.92\n",
            "{'learning_rate': 0.06, 'n_estimators': 60, 'objective': 'regression_l1', 'reg_alpha': 0.1, 'subsample': 0.7000000000000001}\n",
            "loss 366613.94\n",
            "{'learning_rate': 0.14, 'n_estimators': 30, 'objective': 'regression', 'reg_alpha': 0, 'subsample': 0.8}\n",
            "loss 292932.68\n",
            "{'learning_rate': 0.02, 'n_estimators': 80, 'objective': 'regression_l1', 'reg_alpha': 0.03, 'subsample': 0.7000000000000001}\n",
            "loss 403477.83\n",
            "100%|██████████| 20/20 [02:09<00:00,  6.46s/it, best loss: 284310.91788532597]\n"
          ]
        }
      ],
      "source": [
        "best = fmin(objective, space, algo=tpe.suggest, max_evals=20, trials=trials)"
      ]
    },
    {
      "cell_type": "code",
      "execution_count": 10,
      "id": "18f3514b",
      "metadata": {
        "id": "18f3514b"
      },
      "outputs": [],
      "source": [
        "def flatten(doc, pref=''):\n",
        "    res = {}\n",
        "    for k, v in doc.items():\n",
        "        k = f'{pref}.{k}' if pref else k\n",
        "        if isinstance(v, dict):\n",
        "            res.update(flatten(v, k))\n",
        "        else:\n",
        "            res[k] = v\n",
        "    return res"
      ]
    },
    {
      "cell_type": "code",
      "execution_count": 11,
      "id": "819a28ce",
      "metadata": {
        "colab": {
          "base_uri": "https://localhost:8080/",
          "height": 270
        },
        "id": "819a28ce",
        "outputId": "7476a6cd-7c3d-4b8c-9ae0-7dbf5b20bff3"
      },
      "outputs": [
        {
          "output_type": "execute_result",
          "data": {
            "text/plain": [
              "             loss        tr_loss  params.learning_rate  params.n_estimators  \\\n",
              "16  284310.917885  291552.414873                  0.07                  230   \n",
              "8   284797.505669  289834.566501                  0.08                  230   \n",
              "18  292932.677451  312131.428062                  0.14                   30   \n",
              "6   297630.201665  319230.782055                  0.05                   60   \n",
              "3   298998.822524  322398.190423                  0.20                  250   \n",
              "\n",
              "   params.objective  params.reg_alpha  params.subsample  train_time status  \n",
              "16       regression              0.00               0.5    3.811816     ok  \n",
              "8        regression              0.06               0.8    3.800815     ok  \n",
              "18       regression              0.00               0.8    2.547862     ok  \n",
              "6        regression              0.00               0.8    2.759688     ok  \n",
              "3     regression_l1              0.00               0.9    4.331656     ok  "
            ],
            "text/html": [
              "\n",
              "  <div id=\"df-3a6226d5-b7a8-47e4-b89d-53f6c887a7ab\">\n",
              "    <div class=\"colab-df-container\">\n",
              "      <div>\n",
              "<style scoped>\n",
              "    .dataframe tbody tr th:only-of-type {\n",
              "        vertical-align: middle;\n",
              "    }\n",
              "\n",
              "    .dataframe tbody tr th {\n",
              "        vertical-align: top;\n",
              "    }\n",
              "\n",
              "    .dataframe thead th {\n",
              "        text-align: right;\n",
              "    }\n",
              "</style>\n",
              "<table border=\"1\" class=\"dataframe\">\n",
              "  <thead>\n",
              "    <tr style=\"text-align: right;\">\n",
              "      <th></th>\n",
              "      <th>loss</th>\n",
              "      <th>tr_loss</th>\n",
              "      <th>params.learning_rate</th>\n",
              "      <th>params.n_estimators</th>\n",
              "      <th>params.objective</th>\n",
              "      <th>params.reg_alpha</th>\n",
              "      <th>params.subsample</th>\n",
              "      <th>train_time</th>\n",
              "      <th>status</th>\n",
              "    </tr>\n",
              "  </thead>\n",
              "  <tbody>\n",
              "    <tr>\n",
              "      <th>16</th>\n",
              "      <td>284310.917885</td>\n",
              "      <td>291552.414873</td>\n",
              "      <td>0.07</td>\n",
              "      <td>230</td>\n",
              "      <td>regression</td>\n",
              "      <td>0.00</td>\n",
              "      <td>0.5</td>\n",
              "      <td>3.811816</td>\n",
              "      <td>ok</td>\n",
              "    </tr>\n",
              "    <tr>\n",
              "      <th>8</th>\n",
              "      <td>284797.505669</td>\n",
              "      <td>289834.566501</td>\n",
              "      <td>0.08</td>\n",
              "      <td>230</td>\n",
              "      <td>regression</td>\n",
              "      <td>0.06</td>\n",
              "      <td>0.8</td>\n",
              "      <td>3.800815</td>\n",
              "      <td>ok</td>\n",
              "    </tr>\n",
              "    <tr>\n",
              "      <th>18</th>\n",
              "      <td>292932.677451</td>\n",
              "      <td>312131.428062</td>\n",
              "      <td>0.14</td>\n",
              "      <td>30</td>\n",
              "      <td>regression</td>\n",
              "      <td>0.00</td>\n",
              "      <td>0.8</td>\n",
              "      <td>2.547862</td>\n",
              "      <td>ok</td>\n",
              "    </tr>\n",
              "    <tr>\n",
              "      <th>6</th>\n",
              "      <td>297630.201665</td>\n",
              "      <td>319230.782055</td>\n",
              "      <td>0.05</td>\n",
              "      <td>60</td>\n",
              "      <td>regression</td>\n",
              "      <td>0.00</td>\n",
              "      <td>0.8</td>\n",
              "      <td>2.759688</td>\n",
              "      <td>ok</td>\n",
              "    </tr>\n",
              "    <tr>\n",
              "      <th>3</th>\n",
              "      <td>298998.822524</td>\n",
              "      <td>322398.190423</td>\n",
              "      <td>0.20</td>\n",
              "      <td>250</td>\n",
              "      <td>regression_l1</td>\n",
              "      <td>0.00</td>\n",
              "      <td>0.9</td>\n",
              "      <td>4.331656</td>\n",
              "      <td>ok</td>\n",
              "    </tr>\n",
              "  </tbody>\n",
              "</table>\n",
              "</div>\n",
              "      <button class=\"colab-df-convert\" onclick=\"convertToInteractive('df-3a6226d5-b7a8-47e4-b89d-53f6c887a7ab')\"\n",
              "              title=\"Convert this dataframe to an interactive table.\"\n",
              "              style=\"display:none;\">\n",
              "        \n",
              "  <svg xmlns=\"http://www.w3.org/2000/svg\" height=\"24px\"viewBox=\"0 0 24 24\"\n",
              "       width=\"24px\">\n",
              "    <path d=\"M0 0h24v24H0V0z\" fill=\"none\"/>\n",
              "    <path d=\"M18.56 5.44l.94 2.06.94-2.06 2.06-.94-2.06-.94-.94-2.06-.94 2.06-2.06.94zm-11 1L8.5 8.5l.94-2.06 2.06-.94-2.06-.94L8.5 2.5l-.94 2.06-2.06.94zm10 10l.94 2.06.94-2.06 2.06-.94-2.06-.94-.94-2.06-.94 2.06-2.06.94z\"/><path d=\"M17.41 7.96l-1.37-1.37c-.4-.4-.92-.59-1.43-.59-.52 0-1.04.2-1.43.59L10.3 9.45l-7.72 7.72c-.78.78-.78 2.05 0 2.83L4 21.41c.39.39.9.59 1.41.59.51 0 1.02-.2 1.41-.59l7.78-7.78 2.81-2.81c.8-.78.8-2.07 0-2.86zM5.41 20L4 18.59l7.72-7.72 1.47 1.35L5.41 20z\"/>\n",
              "  </svg>\n",
              "      </button>\n",
              "      \n",
              "  <style>\n",
              "    .colab-df-container {\n",
              "      display:flex;\n",
              "      flex-wrap:wrap;\n",
              "      gap: 12px;\n",
              "    }\n",
              "\n",
              "    .colab-df-convert {\n",
              "      background-color: #E8F0FE;\n",
              "      border: none;\n",
              "      border-radius: 50%;\n",
              "      cursor: pointer;\n",
              "      display: none;\n",
              "      fill: #1967D2;\n",
              "      height: 32px;\n",
              "      padding: 0 0 0 0;\n",
              "      width: 32px;\n",
              "    }\n",
              "\n",
              "    .colab-df-convert:hover {\n",
              "      background-color: #E2EBFA;\n",
              "      box-shadow: 0px 1px 2px rgba(60, 64, 67, 0.3), 0px 1px 3px 1px rgba(60, 64, 67, 0.15);\n",
              "      fill: #174EA6;\n",
              "    }\n",
              "\n",
              "    [theme=dark] .colab-df-convert {\n",
              "      background-color: #3B4455;\n",
              "      fill: #D2E3FC;\n",
              "    }\n",
              "\n",
              "    [theme=dark] .colab-df-convert:hover {\n",
              "      background-color: #434B5C;\n",
              "      box-shadow: 0px 1px 3px 1px rgba(0, 0, 0, 0.15);\n",
              "      filter: drop-shadow(0px 1px 2px rgba(0, 0, 0, 0.3));\n",
              "      fill: #FFFFFF;\n",
              "    }\n",
              "  </style>\n",
              "\n",
              "      <script>\n",
              "        const buttonEl =\n",
              "          document.querySelector('#df-3a6226d5-b7a8-47e4-b89d-53f6c887a7ab button.colab-df-convert');\n",
              "        buttonEl.style.display =\n",
              "          google.colab.kernel.accessAllowed ? 'block' : 'none';\n",
              "\n",
              "        async function convertToInteractive(key) {\n",
              "          const element = document.querySelector('#df-3a6226d5-b7a8-47e4-b89d-53f6c887a7ab');\n",
              "          const dataTable =\n",
              "            await google.colab.kernel.invokeFunction('convertToInteractive',\n",
              "                                                     [key], {});\n",
              "          if (!dataTable) return;\n",
              "\n",
              "          const docLinkHtml = 'Like what you see? Visit the ' +\n",
              "            '<a target=\"_blank\" href=https://colab.research.google.com/notebooks/data_table.ipynb>data table notebook</a>'\n",
              "            + ' to learn more about interactive tables.';\n",
              "          element.innerHTML = '';\n",
              "          dataTable['output_type'] = 'display_data';\n",
              "          await google.colab.output.renderOutput(dataTable, element);\n",
              "          const docLink = document.createElement('div');\n",
              "          docLink.innerHTML = docLinkHtml;\n",
              "          element.appendChild(docLink);\n",
              "        }\n",
              "      </script>\n",
              "    </div>\n",
              "  </div>\n",
              "  "
            ]
          },
          "metadata": {},
          "execution_count": 11
        }
      ],
      "source": [
        "import pandas as pd\n",
        "df = pd.DataFrame(list(map(flatten, [e['result'] for e in trials.trials])))\n",
        "df.sort_values('loss').head()"
      ]
    },
    {
      "cell_type": "code",
      "execution_count": 12,
      "id": "7eab8880",
      "metadata": {
        "colab": {
          "base_uri": "https://localhost:8080/",
          "height": 265
        },
        "id": "7eab8880",
        "outputId": "e6e27f53-a7b4-4832-aa46-ad4634546276"
      },
      "outputs": [
        {
          "output_type": "display_data",
          "data": {
            "text/plain": [
              "<Figure size 432x288 with 1 Axes>"
            ],
            "image/png": "[encoded data removed]"
          },
          "metadata": {
            "needs_background": "light"
          }
        }
      ],
      "source": [
        "import matplotlib.pyplot as plt\n",
        "\n",
        "df.loss.plot(style='-o', alpha=0.5)\n",
        "plt.scatter([df.loss.argmin()], [df.loss.min()], c='r')\n",
        "# df.tr_loss.plot()\n",
        "plt.yscale('log')\n",
        "plt.grid()"
      ]
    },
    {
      "cell_type": "code",
      "execution_count": 13,
      "id": "b2a32093",
      "metadata": {
        "colab": {
          "base_uri": "https://localhost:8080/",
          "height": 419
        },
        "id": "b2a32093",
        "outputId": "6f5b073f-7c62-4b01-fa1d-6a9a6169611f"
      },
      "outputs": [
        {
          "output_type": "display_data",
          "data": {
            "text/plain": [
              "<Figure size 576x432 with 2 Axes>"
            ],
            "image/png": "[encoded data removed]"
          },
          "metadata": {
            "needs_background": "light"
          }
        }
      ],
      "source": [
        "plt.figure(figsize=(8,6))\n",
        "plt.scatter(df.tr_loss, df.loss, c=(df.loss-df.tr_loss)/df.loss*100)\n",
        "plt.title('Comparison of training and dev losses.\\n Color corresponds to overfitting percentage')\n",
        "plt.colorbar()\n",
        "m = min(df.tr_loss.min(), df.loss.min())\n",
        "M = max(df.tr_loss.max(), df.loss.max())\n",
        "plt.plot([m, M], [m, M], 'k--')\n",
        "plt.xlabel('tr loss')\n",
        "plt.ylabel('dev loss')\n",
        "plt.grid()"
      ]
    },
    {
      "cell_type": "code",
      "source": [
        "cut_point = df.loss.median()\n",
        "best_models_df = df[df.loss <= cut_point]\n",
        "worst_models_df = df[df.loss > cut_point]\n",
        "\n",
        "\n",
        "def visualize_param(param_name):\n",
        "  s = df[f'params.{param_name}']\n",
        "  if s.dtype.name == 'object':\n",
        "    visualize_categorical_param(param_name)\n",
        "  else: # assume numerical\n",
        "    visualize_numerical_param(param_name)\n",
        "\n",
        "def visualize_categorical_param(param_name):\n",
        "    pd.concat([\n",
        "      best_models_df[f'params.{param_name}'].value_counts().rename('best'),\n",
        "      worst_models_df[f'params.{param_name}'].value_counts().rename('worst')\n",
        "  ], axis=1).plot.bar()\n",
        "\n",
        "def visualize_numerical_param(param_name):\n",
        "  plt.violinplot([\n",
        "      best_models_df[f'params.{param_name}'],\n",
        "      worst_models_df[f'params.{param_name}']\n",
        "  ])\n",
        "  plt.xticks([1, 2], ['best', 'worst'])"
      ],
      "metadata": {
        "id": "NFSqS3eqRzFG"
      },
      "id": "NFSqS3eqRzFG",
      "execution_count": 14,
      "outputs": []
    },
    {
      "cell_type": "code",
      "source": [
        "param_names = list(trials.trials[0]['result']['params'].keys())\n",
        "for param_name in param_names:\n",
        "  plt.figure()\n",
        "  visualize_param(param_name)\n",
        "  plt.title(param_name)\n",
        "  plt.tight_layout()"
      ],
      "metadata": {
        "colab": {
          "base_uri": "https://localhost:8080/",
          "height": 1000
        },
        "id": "ZdON8-JpP6gJ",
        "outputId": "cbd0cc6e-85fc-48b5-c0d5-d2532e3fae3e"
      },
      "id": "ZdON8-JpP6gJ",
      "execution_count": 15,
      "outputs": [
        {
          "output_type": "display_data",
          "data": {
            "text/plain": [
              "<Figure size 432x288 with 1 Axes>"
            ],
            "image/png": "[encoded data removed]"
          },
          "metadata": {
            "needs_background": "light"
          }
        },
        {
          "output_type": "display_data",
          "data": {
            "text/plain": [
              "<Figure size 432x288 with 1 Axes>"
            ],
            "image/png": "[encoded data removed]"
          },
          "metadata": {
            "needs_background": "light"
          }
        },
        {
          "output_type": "display_data",
          "data": {
            "text/plain": [
              "<Figure size 432x288 with 0 Axes>"
            ]
          },
          "metadata": {}
        },
        {
          "output_type": "display_data",
          "data": {
            "text/plain": [
              "<Figure size 432x288 with 1 Axes>"
            ],
            "image/png": "[encoded data removed]"
          },
          "metadata": {
            "needs_background": "light"
          }
        },
        {
          "output_type": "display_data",
          "data": {
            "text/plain": [
              "<Figure size 432x288 with 1 Axes>"
            ],
            "image/png": "[encoded data removed]"
          },
          "metadata": {
            "needs_background": "light"
          }
        },
        {
          "output_type": "display_data",
          "data": {
            "text/plain": [
              "<Figure size 432x288 with 1 Axes>"
            ],
            "image/png": "[encoded data removed]"
          },
          "metadata": {
            "needs_background": "light"
          }
        }
      ]
    },
    {
      "cell_type": "markdown",
      "source": [
        "# Elegimos el champion y hacemos error analysis"
      ],
      "metadata": {
        "id": "LAitwejiTMWA"
      },
      "id": "LAitwejiTMWA"
    },
    {
      "cell_type": "code",
      "execution_count": 16,
      "id": "5d908644",
      "metadata": {
        "colab": {
          "base_uri": "https://localhost:8080/",
          "height": 145
        },
        "id": "5d908644",
        "outputId": "a500d3ff-d530-4a93-df91-885ae57234b8"
      },
      "outputs": [
        {
          "output_type": "execute_result",
          "data": {
            "text/plain": [
              "             loss        tr_loss  params.learning_rate  params.n_estimators  \\\n",
              "16  284310.917885  291552.414873                  0.07                  230   \n",
              "\n",
              "   params.objective  params.reg_alpha  params.subsample  train_time status  \n",
              "16       regression               0.0               0.5    3.811816     ok  "
            ],
            "text/html": [
              "\n",
              "  <div id=\"df-792a112d-e9ec-4e0c-87da-e7a2987087dd\">\n",
              "    <div class=\"colab-df-container\">\n",
              "      <div>\n",
              "<style scoped>\n",
              "    .dataframe tbody tr th:only-of-type {\n",
              "        vertical-align: middle;\n",
              "    }\n",
              "\n",
              "    .dataframe tbody tr th {\n",
              "        vertical-align: top;\n",
              "    }\n",
              "\n",
              "    .dataframe thead th {\n",
              "        text-align: right;\n",
              "    }\n",
              "</style>\n",
              "<table border=\"1\" class=\"dataframe\">\n",
              "  <thead>\n",
              "    <tr style=\"text-align: right;\">\n",
              "      <th></th>\n",
              "      <th>loss</th>\n",
              "      <th>tr_loss</th>\n",
              "      <th>params.learning_rate</th>\n",
              "      <th>params.n_estimators</th>\n",
              "      <th>params.objective</th>\n",
              "      <th>params.reg_alpha</th>\n",
              "      <th>params.subsample</th>\n",
              "      <th>train_time</th>\n",
              "      <th>status</th>\n",
              "    </tr>\n",
              "  </thead>\n",
              "  <tbody>\n",
              "    <tr>\n",
              "      <th>16</th>\n",
              "      <td>284310.917885</td>\n",
              "      <td>291552.414873</td>\n",
              "      <td>0.07</td>\n",
              "      <td>230</td>\n",
              "      <td>regression</td>\n",
              "      <td>0.0</td>\n",
              "      <td>0.5</td>\n",
              "      <td>3.811816</td>\n",
              "      <td>ok</td>\n",
              "    </tr>\n",
              "  </tbody>\n",
              "</table>\n",
              "</div>\n",
              "      <button class=\"colab-df-convert\" onclick=\"convertToInteractive('df-792a112d-e9ec-4e0c-87da-e7a2987087dd')\"\n",
              "              title=\"Convert this dataframe to an interactive table.\"\n",
              "              style=\"display:none;\">\n",
              "        \n",
              "  <svg xmlns=\"http://www.w3.org/2000/svg\" height=\"24px\"viewBox=\"0 0 24 24\"\n",
              "       width=\"24px\">\n",
              "    <path d=\"M0 0h24v24H0V0z\" fill=\"none\"/>\n",
              "    <path d=\"M18.56 5.44l.94 2.06.94-2.06 2.06-.94-2.06-.94-.94-2.06-.94 2.06-2.06.94zm-11 1L8.5 8.5l.94-2.06 2.06-.94-2.06-.94L8.5 2.5l-.94 2.06-2.06.94zm10 10l.94 2.06.94-2.06 2.06-.94-2.06-.94-.94-2.06-.94 2.06-2.06.94z\"/><path d=\"M17.41 7.96l-1.37-1.37c-.4-.4-.92-.59-1.43-.59-.52 0-1.04.2-1.43.59L10.3 9.45l-7.72 7.72c-.78.78-.78 2.05 0 2.83L4 21.41c.39.39.9.59 1.41.59.51 0 1.02-.2 1.41-.59l7.78-7.78 2.81-2.81c.8-.78.8-2.07 0-2.86zM5.41 20L4 18.59l7.72-7.72 1.47 1.35L5.41 20z\"/>\n",
              "  </svg>\n",
              "      </button>\n",
              "      \n",
              "  <style>\n",
              "    .colab-df-container {\n",
              "      display:flex;\n",
              "      flex-wrap:wrap;\n",
              "      gap: 12px;\n",
              "    }\n",
              "\n",
              "    .colab-df-convert {\n",
              "      background-color: #E8F0FE;\n",
              "      border: none;\n",
              "      border-radius: 50%;\n",
              "      cursor: pointer;\n",
              "      display: none;\n",
              "      fill: #1967D2;\n",
              "      height: 32px;\n",
              "      padding: 0 0 0 0;\n",
              "      width: 32px;\n",
              "    }\n",
              "\n",
              "    .colab-df-convert:hover {\n",
              "      background-color: #E2EBFA;\n",
              "      box-shadow: 0px 1px 2px rgba(60, 64, 67, 0.3), 0px 1px 3px 1px rgba(60, 64, 67, 0.15);\n",
              "      fill: #174EA6;\n",
              "    }\n",
              "\n",
              "    [theme=dark] .colab-df-convert {\n",
              "      background-color: #3B4455;\n",
              "      fill: #D2E3FC;\n",
              "    }\n",
              "\n",
              "    [theme=dark] .colab-df-convert:hover {\n",
              "      background-color: #434B5C;\n",
              "      box-shadow: 0px 1px 3px 1px rgba(0, 0, 0, 0.15);\n",
              "      filter: drop-shadow(0px 1px 2px rgba(0, 0, 0, 0.3));\n",
              "      fill: #FFFFFF;\n",
              "    }\n",
              "  </style>\n",
              "\n",
              "      <script>\n",
              "        const buttonEl =\n",
              "          document.querySelector('#df-792a112d-e9ec-4e0c-87da-e7a2987087dd button.colab-df-convert');\n",
              "        buttonEl.style.display =\n",
              "          google.colab.kernel.accessAllowed ? 'block' : 'none';\n",
              "\n",
              "        async function convertToInteractive(key) {\n",
              "          const element = document.querySelector('#df-792a112d-e9ec-4e0c-87da-e7a2987087dd');\n",
              "          const dataTable =\n",
              "            await google.colab.kernel.invokeFunction('convertToInteractive',\n",
              "                                                     [key], {});\n",
              "          if (!dataTable) return;\n",
              "\n",
              "          const docLinkHtml = 'Like what you see? Visit the ' +\n",
              "            '<a target=\"_blank\" href=https://colab.research.google.com/notebooks/data_table.ipynb>data table notebook</a>'\n",
              "            + ' to learn more about interactive tables.';\n",
              "          element.innerHTML = '';\n",
              "          dataTable['output_type'] = 'display_data';\n",
              "          await google.colab.output.renderOutput(dataTable, element);\n",
              "          const docLink = document.createElement('div');\n",
              "          docLink.innerHTML = docLinkHtml;\n",
              "          element.appendChild(docLink);\n",
              "        }\n",
              "      </script>\n",
              "    </div>\n",
              "  </div>\n",
              "  "
            ]
          },
          "metadata": {},
          "execution_count": 16
        }
      ],
      "source": [
        "# El que menos overfittea de los mejors\n",
        "best = df[df.loss < df.loss.min() * 1.001].sort_values('tr_loss', ascending=False).head(30)\n",
        "best"
      ]
    },
    {
      "cell_type": "code",
      "source": [
        "params = {k.replace('params.', ''):v for k, v in best.iloc[0].to_dict().items() if 'params.' in k}\n",
        "rf_pipe = make_pipeline(\n",
        "    features_pipe,\n",
        "    lgb.LGBMRegressor(random_state=42, **params)\n",
        ")\n",
        "rf_pipe.fit(X_train, y_train)"
      ],
      "metadata": {
        "colab": {
          "base_uri": "https://localhost:8080/"
        },
        "id": "x34sIqsPTKRp",
        "outputId": "165bdbd8-3f66-47ea-a02b-42d848952de6"
      },
      "id": "x34sIqsPTKRp",
      "execution_count": 17,
      "outputs": [
        {
          "output_type": "execute_result",
          "data": {
            "text/plain": [
              "Pipeline(steps=[('featureunion',\n",
              "                 FeatureUnion(transformer_list=[('pipeline-1',\n",
              "                                                 Pipeline(steps=[('featureprojection',\n",
              "                                                                  FeatureProjection(fields=['rooms',\n",
              "                                                                                            'bedrooms',\n",
              "                                                                                            'bathrooms',\n",
              "                                                                                            'surface_total',\n",
              "                                                                                            'surface_covered'])),\n",
              "                                                                 ('simpleimputer',\n",
              "                                                                  SimpleImputer())])),\n",
              "                                                ('pipeline-2',\n",
              "                                                 Pipeline(steps=[('featureprojection',\n",
              "                                                                  FeatureProjection(fields=['l3'])),\n",
              "                                                                 ('simpleimputer',\n",
              "                                                                  Sim...\n",
              "                                                                 ('onehotencoder',\n",
              "                                                                  OneHotEncoder(sparse=False))])),\n",
              "                                                ('pipeline-3',\n",
              "                                                 Pipeline(steps=[('featureprojection',\n",
              "                                                                  FeatureProjection(fields=['l4'])),\n",
              "                                                                 ('simpleimputer',\n",
              "                                                                  SimpleImputer(strategy='constant')),\n",
              "                                                                 ('onehotencoder',\n",
              "                                                                  OneHotEncoder(sparse=False))]))])),\n",
              "                ('lgbmregressor',\n",
              "                 LGBMRegressor(learning_rate=0.07, n_estimators=230,\n",
              "                               objective='regression', random_state=42,\n",
              "                               subsample=0.5))])"
            ]
          },
          "metadata": {},
          "execution_count": 17
        }
      ]
    },
    {
      "cell_type": "code",
      "source": [
        "# Con el modelo entrenado, generamos predicciones \n",
        "# y calculamos el error por cada ejemplo\n",
        "\n",
        "y_hat_dev = rf_pipe.predict(X_dev)\n",
        "y_dev = np.asarray(y_dev)\n",
        "err_dev = y_dev - y_hat_dev\n",
        "rmse(y_dev, y_hat_dev)"
      ],
      "metadata": {
        "colab": {
          "base_uri": "https://localhost:8080/"
        },
        "id": "2e89QK5BTZ7Q",
        "outputId": "a220227a-4c35-447b-e99e-36304bcad159"
      },
      "id": "2e89QK5BTZ7Q",
      "execution_count": 18,
      "outputs": [
        {
          "output_type": "execute_result",
          "data": {
            "text/plain": [
              "284310.91788532597"
            ]
          },
          "metadata": {},
          "execution_count": 18
        }
      ]
    },
    {
      "cell_type": "code",
      "source": [
        "best.loss.iloc[0] # validamos que da el mismo error que lo que tuvimos en el model selection"
      ],
      "metadata": {
        "colab": {
          "base_uri": "https://localhost:8080/"
        },
        "id": "wr5P9FcwTwt7",
        "outputId": "34235c7e-0b13-4b27-809d-1014e35c60c2"
      },
      "id": "wr5P9FcwTwt7",
      "execution_count": 19,
      "outputs": [
        {
          "output_type": "execute_result",
          "data": {
            "text/plain": [
              "284310.91788532597"
            ]
          },
          "metadata": {},
          "execution_count": 19
        }
      ]
    },
    {
      "cell_type": "code",
      "source": [
        "# Ahora vamos a elegir los ejemplos donde mas le pifiamos por arriba\n",
        "# O sea, donde el error (true - predicted) es negativo y muy bajo\n",
        "\n",
        "worst_over_price = np.percentile(err_dev, 5)\n",
        "over_price_examples = [dict(x=e, y=y_dev[i], y_hat=y_hat_dev[i]) for i, e in enumerate(X_dev) if err_dev[i] < worst_over_price]\n",
        "worst_over_price, len(over_price_examples)\n",
        "\n",
        "# Ahora vamos a elegir los ejemplos donde mas le pifiamos por abajo\n",
        "# O sea, donde el error (true - predicted) es positivo y muy alto\n",
        "worst_under_price = np.percentile(err_dev, 95)\n",
        "under_price_examples = [dict(x=e, y=y_dev[i], y_hat=y_hat_dev[i]) for i, e in enumerate(X_dev) if err_dev[i] > worst_under_price]\n",
        "worst_under_price, len(under_price_examples)"
      ],
      "metadata": {
        "colab": {
          "base_uri": "https://localhost:8080/"
        },
        "id": "S0GfldLIUDG_",
        "outputId": "e1ff70a4-1e3b-4d2a-f258-34674246a34f"
      },
      "id": "S0GfldLIUDG_",
      "execution_count": 20,
      "outputs": [
        {
          "output_type": "execute_result",
          "data": {
            "text/plain": [
              "(177280.67680540305, 964)"
            ]
          },
          "metadata": {},
          "execution_count": 20
        }
      ]
    },
    {
      "cell_type": "markdown",
      "source": [
        "# Visualizamos los ejemplos con mas error en cada punta"
      ],
      "metadata": {
        "id": "uHtN5ODFZUE0"
      },
      "id": "uHtN5ODFZUE0"
    },
    {
      "cell_type": "code",
      "source": [
        "from random import sample\n",
        "from IPython.display import display_markdown, display\n",
        "pd.set_option('display.float_format', lambda x: '%.3f' % x)\n",
        "\n",
        "def display_examples(examples, n=3):\n",
        "  for ex in sample(examples, n):\n",
        "    display_markdown(f'###{ex[\"x\"][\"title\"]}', raw=True)\n",
        "    display(pd.Series(dict(\n",
        "        true_price=ex['y'], predicted_price=ex['y_hat'],\n",
        "        absolute_error=abs(ex['y'] - ex['y_hat']), relative_error=abs(ex['y'] - ex['y_hat'])/ex['y'], \n",
        "    )))\n",
        "    display_markdown('###Description', raw=True)\n",
        "    display_markdown(ex['x']['description'][:300] + ' ...', raw=True)\n",
        "    display(pd.Series(ex['x']).drop(index=['description', 'title']))\n",
        "\n",
        "\n",
        "display_markdown(\"#Under price examples\", raw=True)\n",
        "display_examples(under_price_examples)\n",
        "\n",
        "display_markdown(\"#Over price examples\", raw=True)\n",
        "display_examples(over_price_examples)"
      ],
      "metadata": {
        "colab": {
          "base_uri": "https://localhost:8080/",
          "height": 1000
        },
        "id": "Eypjgcg6ULgJ",
        "outputId": "080a743c-d82d-4d67-9387-8b7e2eac8b96"
      },
      "id": "Eypjgcg6ULgJ",
      "execution_count": 21,
      "outputs": [
        {
          "output_type": "display_data",
          "data": {
            "text/markdown": "#Under price examples"
          },
          "metadata": {}
        },
        {
          "output_type": "display_data",
          "data": {
            "text/markdown": "###Terreno - Villa del Parque"
          },
          "metadata": {}
        },
        {
          "output_type": "display_data",
          "data": {
            "text/plain": [
              "true_price        650000.000\n",
              "predicted_price   394689.403\n",
              "absolute_error    255310.597\n",
              "relative_error         0.393\n",
              "dtype: float64"
            ]
          },
          "metadata": {}
        },
        {
          "output_type": "display_data",
          "data": {
            "text/markdown": "###Description"
          },
          "metadata": {}
        },
        {
          "output_type": "display_data",
          "data": {
            "text/markdown": "LOTE PARA CONSTRUIR  en Excelente Ubicacion- Villa del Parque<br><br>Unidad de sustentabilidad: ALTURA ALTA<br><br>SUPERFICIE VENDIBLE 1561 M² y  9  COCHERAS en PB. Prefactibilidad a Disposicion.<br><br>EXCELENTE LOTE   9.63 x 41.21  <br><br> EN INMEJORABLE UBICACION - ALTURA MAXIMA 22.80 -Cantidad  ..."
          },
          "metadata": {}
        },
        {
          "output_type": "display_data",
          "data": {
            "text/plain": [
              "id                 BzFcfGJCPGDFeE0PQ8fayA==\n",
              "ad_type                           Propiedad\n",
              "start_date                       2021-03-04\n",
              "end_date                         2021-05-18\n",
              "created_on                       2021-03-04\n",
              "lat                                 -34.607\n",
              "lon                                 -58.498\n",
              "l1                                Argentina\n",
              "l2                          Capital Federal\n",
              "l3                         Villa del Parque\n",
              "l4                                      NaN\n",
              "l5                                      NaN\n",
              "l6                                      NaN\n",
              "rooms                                   NaN\n",
              "bedrooms                                NaN\n",
              "bathrooms                               NaN\n",
              "surface_total                           NaN\n",
              "surface_covered                         NaN\n",
              "currency                                USD\n",
              "price_period                        Mensual\n",
              "property_type                          Lote\n",
              "operation_type                        Venta\n",
              "dtype: object"
            ]
          },
          "metadata": {}
        },
        {
          "output_type": "display_data",
          "data": {
            "text/markdown": "###RETASADO CHATEAU LIBERTADOR Único depto ALTO con gran  terraza propia USD 2.100.000  Excelente!"
          },
          "metadata": {}
        },
        {
          "output_type": "display_data",
          "data": {
            "text/plain": [
              "true_price        2100000.000\n",
              "predicted_price   1723798.257\n",
              "absolute_error     376201.743\n",
              "relative_error          0.179\n",
              "dtype: float64"
            ]
          },
          "metadata": {}
        },
        {
          "output_type": "display_data",
          "data": {
            "text/markdown": "###Description"
          },
          "metadata": {}
        },
        {
          "output_type": "display_data",
          "data": {
            "text/markdown": "LIVING / COMEDOR, TOILETTE, BALCóN ATERRAZADO, 3 SUITES, 2 FAMILY ROOMS, COMEDOR DIARIO, 1 DEPENDENCIA, 2 COCHERAS FIJAS, BAULERA, IMPORTANTES AMENITIES, MáXIMA SEGURIDAD, LAUNDRY\n<br>\n<br>Increible vista al río y ciudad - \n<br>Antiguedad: 8 años - \n<br>Orientación: sureste - \n<br>Superficie cubiert ..."
          },
          "metadata": {}
        },
        {
          "output_type": "display_data",
          "data": {
            "text/plain": [
              "id                 UkA6YnAqZVBl6Iz00Z+2LQ==\n",
              "ad_type                           Propiedad\n",
              "start_date                       2021-03-17\n",
              "end_date                         2021-04-14\n",
              "created_on                       2021-03-17\n",
              "lat                                 -34.548\n",
              "lon                                 -58.456\n",
              "l1                                Argentina\n",
              "l2                          Capital Federal\n",
              "l3                                    Nuñez\n",
              "l4                                      NaN\n",
              "l5                                      NaN\n",
              "l6                                      NaN\n",
              "rooms                                 5.000\n",
              "bedrooms                              3.000\n",
              "bathrooms                             3.000\n",
              "surface_total                       431.000\n",
              "surface_covered                     291.000\n",
              "currency                                USD\n",
              "price_period                        Mensual\n",
              "property_type                  Departamento\n",
              "operation_type                        Venta\n",
              "dtype: object"
            ]
          },
          "metadata": {}
        },
        {
          "output_type": "display_data",
          "data": {
            "text/markdown": "###Galpón - Floresta Norte"
          },
          "metadata": {}
        },
        {
          "output_type": "display_data",
          "data": {
            "text/plain": [
              "true_price        2100000.000\n",
              "predicted_price    855767.204\n",
              "absolute_error    1244232.796\n",
              "relative_error          0.592\n",
              "dtype: float64"
            ]
          },
          "metadata": {}
        },
        {
          "output_type": "display_data",
          "data": {
            "text/markdown": "###Description"
          },
          "metadata": {}
        },
        {
          "output_type": "display_data",
          "data": {
            "text/markdown": "Magnifico y único galpón sobre av Gaona con salida a Sanabria<br>17,32 mts sobre la avenida con entrada de camiones, galpón con techo de losa a 4 mts de altura y sobre la calle Sanabria entrada de camión con techo de chapa a 5 mts de altura. Posee baños y vestuarios para ambos sexos. Sector de ofici ..."
          },
          "metadata": {}
        },
        {
          "output_type": "display_data",
          "data": {
            "text/plain": [
              "id                 e8HsGSJamzijbmR+Rm0afg==\n",
              "ad_type                           Propiedad\n",
              "start_date                       2021-03-15\n",
              "end_date                         2021-06-05\n",
              "created_on                       2021-03-15\n",
              "lat                                 -34.627\n",
              "lon                                 -58.489\n",
              "l1                                Argentina\n",
              "l2                          Capital Federal\n",
              "l3                                 Floresta\n",
              "l4                                      NaN\n",
              "l5                                      NaN\n",
              "l6                                      NaN\n",
              "rooms                                   NaN\n",
              "bedrooms                                NaN\n",
              "bathrooms                             5.000\n",
              "surface_total                       800.000\n",
              "surface_covered                     800.000\n",
              "currency                                USD\n",
              "price_period                        Mensual\n",
              "property_type                          Otro\n",
              "operation_type                        Venta\n",
              "dtype: object"
            ]
          },
          "metadata": {}
        },
        {
          "output_type": "display_data",
          "data": {
            "text/markdown": "#Over price examples"
          },
          "metadata": {}
        },
        {
          "output_type": "display_data",
          "data": {
            "text/markdown": "###Cochera en Venta en Belgrano, Capital federal U$S 19000"
          },
          "metadata": {}
        },
        {
          "output_type": "display_data",
          "data": {
            "text/plain": [
              "true_price         19000.000\n",
              "predicted_price   296990.534\n",
              "absolute_error    277990.534\n",
              "relative_error        14.631\n",
              "dtype: float64"
            ]
          },
          "metadata": {}
        },
        {
          "output_type": "display_data",
          "data": {
            "text/markdown": "###Description"
          },
          "metadata": {}
        },
        {
          "output_type": "display_data",
          "data": {
            "text/markdown": "Tiene ascensor y Vigilancia las 24hs Las medidas, superficies y montos de expensas consignadas en la presente descripción son aproximadas, a solo título orientativo y no son vinculantes. Las medidas y superficies reales surgen del Título respectivo, y el monto de expensas real, del recibo emitido po ..."
          },
          "metadata": {}
        },
        {
          "output_type": "display_data",
          "data": {
            "text/plain": [
              "id                 yf93q0sTA23ROiQLQ6ZnNw==\n",
              "ad_type                           Propiedad\n",
              "start_date                       2021-04-15\n",
              "end_date                         2021-04-15\n",
              "created_on                       2021-04-15\n",
              "lat                                 -34.571\n",
              "lon                                 -58.448\n",
              "l1                                Argentina\n",
              "l2                          Capital Federal\n",
              "l3                                 Belgrano\n",
              "l4                                      NaN\n",
              "l5                                      NaN\n",
              "l6                                      NaN\n",
              "rooms                                 1.000\n",
              "bedrooms                                NaN\n",
              "bathrooms                               NaN\n",
              "surface_total                           NaN\n",
              "surface_covered                         NaN\n",
              "currency                                USD\n",
              "price_period                        Mensual\n",
              "property_type                       Cochera\n",
              "operation_type                        Venta\n",
              "dtype: object"
            ]
          },
          "metadata": {}
        },
        {
          "output_type": "display_data",
          "data": {
            "text/markdown": "###Cochera - Villa Urquiza"
          },
          "metadata": {}
        },
        {
          "output_type": "display_data",
          "data": {
            "text/plain": [
              "true_price         25000.000\n",
              "predicted_price   420783.716\n",
              "absolute_error    395783.716\n",
              "relative_error        15.831\n",
              "dtype: float64"
            ]
          },
          "metadata": {}
        },
        {
          "output_type": "display_data",
          "data": {
            "text/markdown": "###Description"
          },
          "metadata": {}
        },
        {
          "output_type": "display_data",
          "data": {
            "text/markdown": "Cochera en venta<br>a 1 cuadra y 1/2 de Av. los Incas y a dos cuadras de subte línea B de Av de los Incas<br><br><br>Listo para tomar posesión<br><br> ..."
          },
          "metadata": {}
        },
        {
          "output_type": "display_data",
          "data": {
            "text/plain": [
              "id                 UeN1RDY6HCinH5wVOnUNTg==\n",
              "ad_type                           Propiedad\n",
              "start_date                       2021-03-17\n",
              "end_date                         2021-06-05\n",
              "created_on                       2021-03-17\n",
              "lat                                 -34.584\n",
              "lon                                 -58.476\n",
              "l1                                Argentina\n",
              "l2                          Capital Federal\n",
              "l3                            Villa Urquiza\n",
              "l4                                      NaN\n",
              "l5                                      NaN\n",
              "l6                                      NaN\n",
              "rooms                                   NaN\n",
              "bedrooms                                NaN\n",
              "bathrooms                               NaN\n",
              "surface_total                           NaN\n",
              "surface_covered                         NaN\n",
              "currency                                USD\n",
              "price_period                        Mensual\n",
              "property_type                       Cochera\n",
              "operation_type                        Venta\n",
              "dtype: object"
            ]
          },
          "metadata": {}
        },
        {
          "output_type": "display_data",
          "data": {
            "text/markdown": "###Cochera en Venta en Belgrano, Capital federal U$S 26000"
          },
          "metadata": {}
        },
        {
          "output_type": "display_data",
          "data": {
            "text/plain": [
              "true_price         26000.000\n",
              "predicted_price   296990.534\n",
              "absolute_error    270990.534\n",
              "relative_error        10.423\n",
              "dtype: float64"
            ]
          },
          "metadata": {}
        },
        {
          "output_type": "display_data",
          "data": {
            "text/markdown": "###Description"
          },
          "metadata": {}
        },
        {
          "output_type": "display_data",
          "data": {
            "text/markdown": "EXCELENTE UBICACION A 1/2 CUADRA DE AV. CABILDO. Las medidas, superficies y montos de expensas consignadas en la presente descripción son aproximadas, a solo título orientativo y no son vinculantes. Las medidas y superficies reales surgen del Título respectivo, y el monto de expensas real, del recib ..."
          },
          "metadata": {}
        },
        {
          "output_type": "display_data",
          "data": {
            "text/plain": [
              "id                 jjk0ObieX9E5A+x7hkOU9g==\n",
              "ad_type                           Propiedad\n",
              "start_date                       2021-04-14\n",
              "end_date                         2021-04-14\n",
              "created_on                       2021-04-14\n",
              "lat                                 -34.566\n",
              "lon                                 -58.451\n",
              "l1                                Argentina\n",
              "l2                          Capital Federal\n",
              "l3                                 Belgrano\n",
              "l4                                      NaN\n",
              "l5                                      NaN\n",
              "l6                                      NaN\n",
              "rooms                                 1.000\n",
              "bedrooms                                NaN\n",
              "bathrooms                               NaN\n",
              "surface_total                           NaN\n",
              "surface_covered                         NaN\n",
              "currency                                USD\n",
              "price_period                        Mensual\n",
              "property_type                       Cochera\n",
              "operation_type                        Venta\n",
              "dtype: object"
            ]
          },
          "metadata": {}
        }
      ]
    },
    {
      "cell_type": "markdown",
      "source": [
        "Pareciera haber algo con el property type.\n",
        "Veamos la distribucion"
      ],
      "metadata": {
        "id": "ootsnRvIaeVt"
      },
      "id": "ootsnRvIaeVt"
    },
    {
      "cell_type": "code",
      "source": [
        "under_distr = (\n",
        "    pd.DataFrame([e['x'] for e in under_price_examples])\n",
        "    .property_type.value_counts(normalize=True).rename('under')\n",
        ")\n",
        "over_distr = (\n",
        "    pd.DataFrame([e['x'] for e in over_price_examples])\n",
        "    .property_type.value_counts(normalize=True).rename('over')\n",
        ")\n",
        "ref_distr = (\n",
        "    pd.DataFrame([e for e in X_dev])\n",
        "    .property_type.value_counts(normalize=True).rename('ref')\n",
        ")\n",
        "\n",
        "(\n",
        "  pd.concat([under_distr, over_distr, ref_distr], axis=1)\n",
        "  .sort_values('ref', ascending=False).dropna().plot.bar()\n",
        ")"
      ],
      "metadata": {
        "colab": {
          "base_uri": "https://localhost:8080/",
          "height": 351
        },
        "id": "AMwiPqnyXmGs",
        "outputId": "d84ea15f-3ecd-4809-cc3c-9e3ee4d70164"
      },
      "id": "AMwiPqnyXmGs",
      "execution_count": 22,
      "outputs": [
        {
          "output_type": "execute_result",
          "data": {
            "text/plain": [
              "<matplotlib.axes._subplots.AxesSubplot at 0x7fb2164e0bd0>"
            ]
          },
          "metadata": {},
          "execution_count": 22
        },
        {
          "output_type": "display_data",
          "data": {
            "text/plain": [
              "<Figure size 432x288 with 1 Axes>"
            ],
            "image/png": "[encoded data removed]"
          },
          "metadata": {
            "needs_background": "light"
          }
        }
      ]
    },
    {
      "cell_type": "markdown",
      "source": [
        "# Evaluamos el modelo en el test set"
      ],
      "metadata": {
        "id": "x-BipPN1boLx"
      },
      "id": "x-BipPN1boLx"
    },
    {
      "cell_type": "code",
      "execution_count": 23,
      "id": "68d2a4dd",
      "metadata": {
        "id": "68d2a4dd"
      },
      "outputs": [],
      "source": [
        "X_test, y_test = test"
      ]
    },
    {
      "cell_type": "code",
      "execution_count": 24,
      "id": "42921e1e",
      "metadata": {
        "colab": {
          "base_uri": "https://localhost:8080/"
        },
        "id": "42921e1e",
        "outputId": "3c630876-dbfc-4f27-cf75-3acbe5ee06cb"
      },
      "outputs": [
        {
          "output_type": "execute_result",
          "data": {
            "text/plain": [
              "{'tr_loss': 291552.41487266193,\n",
              " 'dev_loss': 284310.91788532597,\n",
              " 'test_loss': 235704.0023660517}"
            ]
          },
          "metadata": {},
          "execution_count": 24
        }
      ],
      "source": [
        "best_model_performance = dict(\n",
        "    tr_loss=rmse(y_train, rf_pipe.predict(X_train)), \n",
        "    dev_loss=rmse(y_dev, rf_pipe.predict(X_dev)),\n",
        "    test_loss=rmse(y_test, rf_pipe.predict(X_test)), \n",
        ")\n",
        "best_model_performance"
      ]
    },
    {
      "cell_type": "code",
      "source": [],
      "metadata": {
        "id": "TMI91lXUYmZF"
      },
      "id": "TMI91lXUYmZF",
      "execution_count": null,
      "outputs": []
    }
  ],
  "metadata": {
    "kernelspec": {
      "display_name": "Python 3 (ipykernel)",
      "language": "python",
      "name": "python3"
    },
    "language_info": {
      "codemirror_mode": {
        "name": "ipython",
        "version": 3
      },
      "file_extension": ".py",
      "mimetype": "text/x-python",
      "name": "python",
      "nbconvert_exporter": "python",
      "pygments_lexer": "ipython3",
      "version": "3.9.12"
    },
    "colab": {
      "provenance": []
    }
  },
  "nbformat": 4,
  "nbformat_minor": 5
}