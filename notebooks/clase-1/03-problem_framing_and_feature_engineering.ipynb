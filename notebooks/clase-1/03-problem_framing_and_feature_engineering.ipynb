{
  "nbformat": 4,
  "nbformat_minor": 0,
  "metadata": {
    "kernelspec": {
      "display_name": "Python 3",
      "language": "python",
      "name": "python3"
    },
    "language_info": {
      "codemirror_mode": {
        "name": "ipython",
        "version": 3
      },
      "file_extension": ".py",
      "mimetype": "text/x-python",
      "name": "python",
      "nbconvert_exporter": "python",
      "pygments_lexer": "ipython3",
      "version": "3.8.3"
    },
    "colab": {
      "name": "03_problem_framing_and_feature_engineering.ipynb",
      "provenance": []
    }
  },
  "cells": [
    {
      "cell_type": "code",
      "metadata": {
        "id": "vW7W6iv5oIrV",
        "outputId": "7caa0f1d-d7f4-4312-ec47-bda35609acba",
        "colab": {
          "base_uri": "https://localhost:8080/"
        }
      },
      "source": [
        "from google.colab import drive\n",
        "\n",
        "drive.mount('/content/gdrive')"
      ],
      "execution_count": 1,
      "outputs": [
        {
          "output_type": "stream",
          "name": "stdout",
          "text": [
            "Mounted at /content/gdrive\n"
          ]
        }
      ]
    },
    {
      "cell_type": "code",
      "metadata": {
        "id": "lPBdW1lWoIrZ"
      },
      "source": [
        "from pathlib import Path\n",
        "import matplotlib.pyplot as plt\n",
        "import numpy as np\n",
        "\n",
        "PATH = Path(r\"/content/gdrive/My Drive/ml-practico-data\")\n"
      ],
      "execution_count": 3,
      "outputs": []
    },
    {
      "cell_type": "markdown",
      "metadata": {
        "id": "_XbdNTgmoIrc"
      },
      "source": [
        "# Load the data\n",
        "\n",
        "Con lo que aprendimos del notebook anterior"
      ]
    },
    {
      "cell_type": "code",
      "metadata": {
        "id": "LIIaqqfkoIrd"
      },
      "source": [
        "import pandas as pd\n",
        "\n",
        "title_basics = pd.read_csv(PATH / 'title.basics.tsv.gz', sep='\\t', \n",
        "                           compression='gzip')\n",
        "\n",
        "movie_gross = pd.read_csv(PATH / 'movie_gross.csv')\n",
        "# Calculamos el id de pelicula\n",
        "movie_gross['tconst'] = movie_gross.movie_imdb_link.apply(lambda x: x.split('/')[4])\n",
        "# Deduplicamos los registros\n",
        "movie_gross = movie_gross.groupby('tconst').gross.max().reset_index()\n",
        "\n",
        "title_ratings = pd.read_csv(PATH / 'title.ratings.tsv.gz', sep='\\t', \n",
        "                            compression='gzip')"
      ],
      "execution_count": 5,
      "outputs": []
    },
    {
      "cell_type": "code",
      "metadata": {
        "id": "4GH4zcKaoIrh"
      },
      "source": [
        "from itertools import chain\n",
        "from collections import Counter\n",
        "\n",
        "def parse_genres(genres):\n",
        "    if isinstance(genres, float) or genres == r'\\N': return ['no-genre']\n",
        "    else: return genres.split(',')\n",
        "    \n",
        "\n",
        "# Convertimos runtimeMinutes a float. No se puede tener una columna de tipo int con NaN\n",
        "title_basics.runtimeMinutes = (\n",
        "    title_basics.runtimeMinutes.apply(lambda x: np.nan if not x.isdigit() else x).astype(float)\n",
        ")\n",
        "\n",
        "title_basics['genres'] = title_basics.genres.apply(parse_genres)"
      ],
      "execution_count": 6,
      "outputs": []
    },
    {
      "cell_type": "code",
      "metadata": {
        "id": "1sUUUHPYoIrj"
      },
      "source": [
        "# Basado en el notebook anterior\n",
        "\n",
        "title_basics = title_basics[\n",
        "    # Dejamos tvSpecial, video y tvMovie por ahora, vamos a ver de que se tratan\n",
        "    ~title_basics.titleType.isin(['tvEpisode', 'tvSeries', 'tvMiniSeries', 'videoGame', 'tvShort', 'short'])\n",
        "    # Que tengan valor de runtimeMinutes\n",
        "    & ~title_basics.runtimeMinutes.isna()\n",
        "    # Menos de 3 horas y media para no descartar a titanic\n",
        "    & (title_basics.runtimeMinutes <= 3.5 * 60)\n",
        "    # Descartamos los shorts\n",
        "    & title_basics.genres.apply(lambda x: 'Short' not in x)\n",
        "    \n",
        "]"
      ],
      "execution_count": 7,
      "outputs": []
    },
    {
      "cell_type": "code",
      "metadata": {
        "id": "V3Y1KGSwoIrm",
        "outputId": "27deed93-5591-46f8-c304-156bf190e3eb",
        "colab": {
          "base_uri": "https://localhost:8080/"
        }
      },
      "source": [
        "# Juntamos todo\n",
        "\n",
        "movies = (\n",
        "    title_basics.merge(movie_gross, on='tconst', how='left')\n",
        "                .merge(title_ratings, on='tconst', how='left')\n",
        ")\n",
        "\n",
        "len(movies)"
      ],
      "execution_count": 8,
      "outputs": [
        {
          "output_type": "execute_result",
          "data": {
            "text/plain": [
              "597910"
            ]
          },
          "metadata": {},
          "execution_count": 8
        }
      ]
    },
    {
      "cell_type": "markdown",
      "metadata": {
        "id": "ci_l3DgCoIro"
      },
      "source": [
        "### Sanity check\n",
        "\n",
        "Se ve igual que en el notebook anterior?"
      ]
    },
    {
      "cell_type": "code",
      "metadata": {
        "id": "-LxliepkoIro",
        "outputId": "6b2d2051-899e-4b49-a502-863536bf962a",
        "colab": {
          "base_uri": "https://localhost:8080/",
          "height": 265
        }
      },
      "source": [
        "movies.runtimeMinutes.hist(bins=40);"
      ],
      "execution_count": 9,
      "outputs": [
        {
          "output_type": "display_data",
          "data": {
            "text/plain": [
              "<Figure size 432x288 with 1 Axes>"
            ],
            "image/png": "[encoded data removed]"
          },
          "metadata": {
            "needs_background": "light"
          }
        }
      ]
    },
    {
      "cell_type": "markdown",
      "metadata": {
        "id": "T3M-MST3oIrs"
      },
      "source": [
        "No se ve igual. Se te ocurre que faltó?\n",
        "\n",
        "Miremos un caso individual (titanic)"
      ]
    },
    {
      "cell_type": "code",
      "metadata": {
        "id": "vPjSzZA_oIrs",
        "outputId": "71a2baf9-82ab-45f3-acc2-9a0e919febcc",
        "colab": {
          "base_uri": "https://localhost:8080/",
          "height": 81
        }
      },
      "source": [
        "movies[movies.tconst == 'tt0120338']"
      ],
      "execution_count": 10,
      "outputs": [
        {
          "output_type": "execute_result",
          "data": {
            "text/plain": [
              "          tconst titleType primaryTitle originalTitle isAdult startYear  \\\n",
              "80670  tt0120338     movie      Titanic       Titanic       0      1997   \n",
              "\n",
              "      endYear  runtimeMinutes            genres        gross  averageRating  \\\n",
              "80670      \\N           194.0  [Drama, Romance]  658672302.0            7.9   \n",
              "\n",
              "        numVotes  \n",
              "80670  1139002.0  "
            ],
            "text/html": [
              "\n",
              "  <div id=\"df-7ab943ec-20ae-4e07-99a0-fc0582c66fcf\">\n",
              "    <div class=\"colab-df-container\">\n",
              "      <div>\n",
              "<style scoped>\n",
              "    .dataframe tbody tr th:only-of-type {\n",
              "        vertical-align: middle;\n",
              "    }\n",
              "\n",
              "    .dataframe tbody tr th {\n",
              "        vertical-align: top;\n",
              "    }\n",
              "\n",
              "    .dataframe thead th {\n",
              "        text-align: right;\n",
              "    }\n",
              "</style>\n",
              "<table border=\"1\" class=\"dataframe\">\n",
              "  <thead>\n",
              "    <tr style=\"text-align: right;\">\n",
              "      <th></th>\n",
              "      <th>tconst</th>\n",
              "      <th>titleType</th>\n",
              "      <th>primaryTitle</th>\n",
              "      <th>originalTitle</th>\n",
              "      <th>isAdult</th>\n",
              "      <th>startYear</th>\n",
              "      <th>endYear</th>\n",
              "      <th>runtimeMinutes</th>\n",
              "      <th>genres</th>\n",
              "      <th>gross</th>\n",
              "      <th>averageRating</th>\n",
              "      <th>numVotes</th>\n",
              "    </tr>\n",
              "  </thead>\n",
              "  <tbody>\n",
              "    <tr>\n",
              "      <th>80670</th>\n",
              "      <td>tt0120338</td>\n",
              "      <td>movie</td>\n",
              "      <td>Titanic</td>\n",
              "      <td>Titanic</td>\n",
              "      <td>0</td>\n",
              "      <td>1997</td>\n",
              "      <td>\\N</td>\n",
              "      <td>194.0</td>\n",
              "      <td>[Drama, Romance]</td>\n",
              "      <td>658672302.0</td>\n",
              "      <td>7.9</td>\n",
              "      <td>1139002.0</td>\n",
              "    </tr>\n",
              "  </tbody>\n",
              "</table>\n",
              "</div>\n",
              "      <button class=\"colab-df-convert\" onclick=\"convertToInteractive('df-7ab943ec-20ae-4e07-99a0-fc0582c66fcf')\"\n",
              "              title=\"Convert this dataframe to an interactive table.\"\n",
              "              style=\"display:none;\">\n",
              "        \n",
              "  <svg xmlns=\"http://www.w3.org/2000/svg\" height=\"24px\"viewBox=\"0 0 24 24\"\n",
              "       width=\"24px\">\n",
              "    <path d=\"M0 0h24v24H0V0z\" fill=\"none\"/>\n",
              "    <path d=\"M18.56 5.44l.94 2.06.94-2.06 2.06-.94-2.06-.94-.94-2.06-.94 2.06-2.06.94zm-11 1L8.5 8.5l.94-2.06 2.06-.94-2.06-.94L8.5 2.5l-.94 2.06-2.06.94zm10 10l.94 2.06.94-2.06 2.06-.94-2.06-.94-.94-2.06-.94 2.06-2.06.94z\"/><path d=\"M17.41 7.96l-1.37-1.37c-.4-.4-.92-.59-1.43-.59-.52 0-1.04.2-1.43.59L10.3 9.45l-7.72 7.72c-.78.78-.78 2.05 0 2.83L4 21.41c.39.39.9.59 1.41.59.51 0 1.02-.2 1.41-.59l7.78-7.78 2.81-2.81c.8-.78.8-2.07 0-2.86zM5.41 20L4 18.59l7.72-7.72 1.47 1.35L5.41 20z\"/>\n",
              "  </svg>\n",
              "      </button>\n",
              "      \n",
              "  <style>\n",
              "    .colab-df-container {\n",
              "      display:flex;\n",
              "      flex-wrap:wrap;\n",
              "      gap: 12px;\n",
              "    }\n",
              "\n",
              "    .colab-df-convert {\n",
              "      background-color: #E8F0FE;\n",
              "      border: none;\n",
              "      border-radius: 50%;\n",
              "      cursor: pointer;\n",
              "      display: none;\n",
              "      fill: #1967D2;\n",
              "      height: 32px;\n",
              "      padding: 0 0 0 0;\n",
              "      width: 32px;\n",
              "    }\n",
              "\n",
              "    .colab-df-convert:hover {\n",
              "      background-color: #E2EBFA;\n",
              "      box-shadow: 0px 1px 2px rgba(60, 64, 67, 0.3), 0px 1px 3px 1px rgba(60, 64, 67, 0.15);\n",
              "      fill: #174EA6;\n",
              "    }\n",
              "\n",
              "    [theme=dark] .colab-df-convert {\n",
              "      background-color: #3B4455;\n",
              "      fill: #D2E3FC;\n",
              "    }\n",
              "\n",
              "    [theme=dark] .colab-df-convert:hover {\n",
              "      background-color: #434B5C;\n",
              "      box-shadow: 0px 1px 3px 1px rgba(0, 0, 0, 0.15);\n",
              "      filter: drop-shadow(0px 1px 2px rgba(0, 0, 0, 0.3));\n",
              "      fill: #FFFFFF;\n",
              "    }\n",
              "  </style>\n",
              "\n",
              "      <script>\n",
              "        const buttonEl =\n",
              "          document.querySelector('#df-7ab943ec-20ae-4e07-99a0-fc0582c66fcf button.colab-df-convert');\n",
              "        buttonEl.style.display =\n",
              "          google.colab.kernel.accessAllowed ? 'block' : 'none';\n",
              "\n",
              "        async function convertToInteractive(key) {\n",
              "          const element = document.querySelector('#df-7ab943ec-20ae-4e07-99a0-fc0582c66fcf');\n",
              "          const dataTable =\n",
              "            await google.colab.kernel.invokeFunction('convertToInteractive',\n",
              "                                                     [key], {});\n",
              "          if (!dataTable) return;\n",
              "\n",
              "          const docLinkHtml = 'Like what you see? Visit the ' +\n",
              "            '<a target=\"_blank\" href=https://colab.research.google.com/notebooks/data_table.ipynb>data table notebook</a>'\n",
              "            + ' to learn more about interactive tables.';\n",
              "          element.innerHTML = '';\n",
              "          dataTable['output_type'] = 'display_data';\n",
              "          await google.colab.output.renderOutput(dataTable, element);\n",
              "          const docLink = document.createElement('div');\n",
              "          docLink.innerHTML = docLinkHtml;\n",
              "          element.appendChild(docLink);\n",
              "        }\n",
              "      </script>\n",
              "    </div>\n",
              "  </div>\n",
              "  "
            ]
          },
          "metadata": {},
          "execution_count": 10
        }
      ]
    },
    {
      "cell_type": "markdown",
      "metadata": {
        "id": "Uy_xO1IooIrv"
      },
      "source": [
        "# Hipótesis: el rating es buen predictor del gross"
      ]
    },
    {
      "cell_type": "code",
      "metadata": {
        "id": "ucImhe_ToIrw",
        "outputId": "deff36d4-4e89-44c1-9191-2c787a0777c4",
        "colab": {
          "base_uri": "https://localhost:8080/"
        }
      },
      "source": [
        "len(movies)"
      ],
      "execution_count": 11,
      "outputs": [
        {
          "output_type": "execute_result",
          "data": {
            "text/plain": [
              "597910"
            ]
          },
          "metadata": {},
          "execution_count": 11
        }
      ]
    },
    {
      "cell_type": "code",
      "metadata": {
        "id": "HQ9K_LCXoIr1"
      },
      "source": [
        "# Only gross and rating data frame\n",
        "ogr_df = movies.dropna(subset=['averageRating', 'numVotes', 'gross']).dropna()"
      ],
      "execution_count": 12,
      "outputs": []
    },
    {
      "cell_type": "code",
      "metadata": {
        "id": "ygH1ouODoIr3",
        "outputId": "945ae42d-6561-4efb-ef04-361c910061d9",
        "colab": {
          "base_uri": "https://localhost:8080/",
          "height": 283
        }
      },
      "source": [
        "ogr_df.plot.scatter('numVotes', 'averageRating', alpha=0.25)\n",
        "plt.xscale('log')"
      ],
      "execution_count": 13,
      "outputs": [
        {
          "output_type": "display_data",
          "data": {
            "text/plain": [
              "<Figure size 432x288 with 1 Axes>"
            ],
            "image/png": "[encoded data removed]"
          },
          "metadata": {
            "needs_background": "light"
          }
        }
      ]
    },
    {
      "cell_type": "code",
      "metadata": {
        "id": "AEBn2x1toIr5"
      },
      "source": [
        "ogr_df['log(numVotes)'] = np.log10(ogr_df.numVotes)"
      ],
      "execution_count": 14,
      "outputs": []
    },
    {
      "cell_type": "code",
      "metadata": {
        "id": "NoiqeEyioIr7",
        "outputId": "6df8fd49-4877-4ebc-c8a9-ce72f42249d6",
        "colab": {
          "base_uri": "https://localhost:8080/",
          "height": 306
        }
      },
      "source": [
        "ogr_df.plot.scatter('averageRating', 'gross', c='log(numVotes)', cmap='Reds', alpha=0.25, figsize=(7,5))\n",
        "plt.yscale('log');"
      ],
      "execution_count": 15,
      "outputs": [
        {
          "output_type": "display_data",
          "data": {
            "text/plain": [
              "<Figure size 504x360 with 2 Axes>"
            ],
            "image/png": "[encoded data removed]"
          },
          "metadata": {
            "needs_background": "light"
          }
        }
      ]
    },
    {
      "cell_type": "markdown",
      "metadata": {
        "id": "w3CVauG7oIr-"
      },
      "source": [
        "No parece haber una correlacion directa, pero parece haber dos clusters diferenciados. Podrán explicarse con algun genero, u otra columna de los datos?"
      ]
    },
    {
      "cell_type": "code",
      "metadata": {
        "id": "mm_nDaj-oIsA",
        "outputId": "e82dfbe8-0540-40af-fc73-e0f9b8d31107",
        "colab": {
          "base_uri": "https://localhost:8080/",
          "height": 595
        }
      },
      "source": [
        "(\n",
        "    ogr_df[ogr_df.genres.apply(lambda x: 'Comedy'  in x)]\n",
        "    .plot.scatter('averageRating', 'gross', c='log(numVotes)', cmap='Reds', alpha=0.25, figsize=(7,5))\n",
        ")\n",
        "plt.yscale('log');\n",
        "(\n",
        "    ogr_df[ogr_df.genres.apply(lambda x: 'Thriller'  in x)]\n",
        "    .plot.scatter('averageRating', 'gross', c='log(numVotes)', cmap='Reds', alpha=0.25, figsize=(7,5))\n",
        ")\n",
        "\n",
        "plt.yscale('log');"
      ],
      "execution_count": 16,
      "outputs": [
        {
          "output_type": "display_data",
          "data": {
            "text/plain": [
              "<Figure size 504x360 with 2 Axes>"
            ],
            "image/png": "[encoded data removed]"
          },
          "metadata": {
            "needs_background": "light"
          }
        },
        {
          "output_type": "display_data",
          "data": {
            "text/plain": [
              "<Figure size 504x360 with 2 Axes>"
            ],
            "image/png": "[encoded data removed]"
          },
          "metadata": {
            "needs_background": "light"
          }
        }
      ]
    },
    {
      "cell_type": "markdown",
      "metadata": {
        "id": "XgZy5NOaoIsG"
      },
      "source": [
        "Habrá mas como estos?"
      ]
    },
    {
      "cell_type": "markdown",
      "metadata": {
        "id": "bAdumFC7oIsK"
      },
      "source": [
        "Habrá bias en la data que tiene gross?"
      ]
    },
    {
      "cell_type": "code",
      "metadata": {
        "id": "IXfzTRkuoIsK",
        "outputId": "c4389709-3559-48d0-b46e-984cef616616",
        "colab": {
          "base_uri": "https://localhost:8080/",
          "height": 283
        }
      },
      "source": [
        "ogr_df.averageRating.plot.density(bw_method=0.5)\n",
        "movies[~movies.averageRating.isna()].averageRating.plot.density(bw_method=0.5)"
      ],
      "execution_count": 17,
      "outputs": [
        {
          "output_type": "execute_result",
          "data": {
            "text/plain": [
              "<matplotlib.axes._subplots.AxesSubplot at 0x7fbfa7d57510>"
            ]
          },
          "metadata": {},
          "execution_count": 17
        },
        {
          "output_type": "display_data",
          "data": {
            "text/plain": [
              "<Figure size 432x288 with 1 Axes>"
            ],
            "image/png": "[encoded data removed]"
          },
          "metadata": {
            "needs_background": "light"
          }
        }
      ]
    },
    {
      "cell_type": "code",
      "metadata": {
        "id": "4BdQIeojoIsR",
        "outputId": "2b0ffc2f-9d53-4f55-b6d4-8a48e3d89f0f",
        "colab": {
          "base_uri": "https://localhost:8080/",
          "height": 321
        }
      },
      "source": [
        "plt.boxplot([ogr_df.averageRating, movies[~movies.averageRating.isna()].averageRating]);\n",
        "plt.xticks([1, 2], ['ogr', 'all movies'])\n",
        "plt.grid()"
      ],
      "execution_count": 18,
      "outputs": [
        {
          "output_type": "stream",
          "name": "stderr",
          "text": [
            "/usr/local/lib/python3.7/dist-packages/matplotlib/cbook/__init__.py:1376: VisibleDeprecationWarning: Creating an ndarray from ragged nested sequences (which is a list-or-tuple of lists-or-tuples-or ndarrays with different lengths or shapes) is deprecated. If you meant to do this, you must specify 'dtype=object' when creating the ndarray.\n",
            "  X = np.atleast_1d(X.T if isinstance(X, np.ndarray) else np.asarray(X))\n"
          ]
        },
        {
          "output_type": "display_data",
          "data": {
            "text/plain": [
              "<Figure size 432x288 with 1 Axes>"
            ],
            "image/png": "[encoded data removed]"
          },
          "metadata": {
            "needs_background": "light"
          }
        }
      ]
    },
    {
      "cell_type": "markdown",
      "metadata": {
        "id": "I_BxZjhsoIsX"
      },
      "source": [
        "Si miramos numVotes, si hay una diferencia grande"
      ]
    },
    {
      "cell_type": "code",
      "metadata": {
        "id": "6ghxmd3-oIsY",
        "outputId": "cb2cbabb-c0ad-4efc-dba6-13105dd74d44",
        "colab": {
          "base_uri": "https://localhost:8080/",
          "height": 321
        }
      },
      "source": [
        "plt.boxplot([np.log10(ogr_df.numVotes), np.log10(movies[~movies.averageRating.isna()].numVotes)]);\n",
        "plt.xticks([1, 2], ['ogr', 'all movies'])\n",
        "plt.grid()"
      ],
      "execution_count": 19,
      "outputs": [
        {
          "output_type": "stream",
          "name": "stderr",
          "text": [
            "/usr/local/lib/python3.7/dist-packages/matplotlib/cbook/__init__.py:1376: VisibleDeprecationWarning: Creating an ndarray from ragged nested sequences (which is a list-or-tuple of lists-or-tuples-or ndarrays with different lengths or shapes) is deprecated. If you meant to do this, you must specify 'dtype=object' when creating the ndarray.\n",
            "  X = np.atleast_1d(X.T if isinstance(X, np.ndarray) else np.asarray(X))\n"
          ]
        },
        {
          "output_type": "display_data",
          "data": {
            "text/plain": [
              "<Figure size 432x288 with 1 Axes>"
            ],
            "image/png": "[encoded data removed]"
          },
          "metadata": {
            "needs_background": "light"
          }
        }
      ]
    },
    {
      "cell_type": "markdown",
      "metadata": {
        "id": "gr30Y5_boIsb"
      },
      "source": [
        "Pareciera que las colas de la distribucion no estan bien representadas"
      ]
    },
    {
      "cell_type": "markdown",
      "metadata": {
        "id": "wiXRzBXkoIsd"
      },
      "source": [
        "## Tiene sentido plantarlo como clasificacion: P(gross > X dollars)?"
      ]
    },
    {
      "cell_type": "code",
      "metadata": {
        "id": "ND650_XuoIse",
        "outputId": "223ccfcf-c5e1-473a-80ff-5427eedc7aac",
        "colab": {
          "base_uri": "https://localhost:8080/",
          "height": 283
        }
      },
      "source": [
        "np.log10(ogr_df.gross).plot.density(bw_method=0.05)"
      ],
      "execution_count": 20,
      "outputs": [
        {
          "output_type": "execute_result",
          "data": {
            "text/plain": [
              "<matplotlib.axes._subplots.AxesSubplot at 0x7fbfa90d1110>"
            ]
          },
          "metadata": {},
          "execution_count": 20
        },
        {
          "output_type": "display_data",
          "data": {
            "text/plain": [
              "<Figure size 432x288 with 1 Axes>"
            ],
            "image/png": "[encoded data removed]"
          },
          "metadata": {
            "needs_background": "light"
          }
        }
      ]
    },
    {
      "cell_type": "markdown",
      "metadata": {
        "id": "K9as3WHyoIsi"
      },
      "source": [
        "Parece haber un **sesgo grande** en la eleccion de las peliculas de movies_gross como para utilizarla para este proposito\n",
        "\n",
        "Volvemos con el equipo de negocio y les proponemos predecir el rating como proxy. Se sienten comodes"
      ]
    },
    {
      "cell_type": "markdown",
      "metadata": {
        "id": "vxySjwv8oIsi"
      },
      "source": [
        "# Si utilizamos la probabilidad de que reciba al menos un rating de X?"
      ]
    },
    {
      "cell_type": "code",
      "metadata": {
        "id": "uMV3rMHKoIsj",
        "outputId": "9cc228b4-c5a0-450c-9c3e-403c263e9dd9",
        "colab": {
          "base_uri": "https://localhost:8080/",
          "height": 283
        }
      },
      "source": [
        "movies.averageRating.dropna().plot.density(bw_method=0.05)"
      ],
      "execution_count": 22,
      "outputs": [
        {
          "output_type": "execute_result",
          "data": {
            "text/plain": [
              "<matplotlib.axes._subplots.AxesSubplot at 0x7fbfa93b12d0>"
            ]
          },
          "metadata": {},
          "execution_count": 22
        },
        {
          "output_type": "display_data",
          "data": {
            "text/plain": [
              "<Figure size 432x288 with 1 Axes>"
            ],
            "image/png": "[encoded data removed]"
          },
          "metadata": {
            "needs_background": "light"
          }
        }
      ]
    },
    {
      "cell_type": "code",
      "metadata": {
        "id": "Os6EDSa6oIsm",
        "outputId": "d46f3c6a-fade-49b1-9f33-d59e35fc0ba0",
        "colab": {
          "base_uri": "https://localhost:8080/"
        }
      },
      "source": [
        "# La distribucion es amplia, parece ser interesante\n",
        "np.percentile(movies.averageRating.dropna(), [25, 50, 75, 85, 95])"
      ],
      "execution_count": 23,
      "outputs": [
        {
          "output_type": "execute_result",
          "data": {
            "text/plain": [
              "array([5.4, 6.3, 7.1, 7.6, 8.3])"
            ]
          },
          "metadata": {},
          "execution_count": 23
        }
      ]
    },
    {
      "cell_type": "code",
      "metadata": {
        "id": "UAV7yP52oIsp",
        "outputId": "481bbe86-76f6-4471-b05b-dceaead54cc3",
        "colab": {
          "base_uri": "https://localhost:8080/",
          "height": 285
        }
      },
      "source": [
        "movies.head()"
      ],
      "execution_count": 24,
      "outputs": [
        {
          "output_type": "execute_result",
          "data": {
            "text/plain": [
              "      tconst titleType                    primaryTitle  \\\n",
              "0  tt0000502     movie                        Bohemios   \n",
              "1  tt0000574     movie     The Story of the Kelly Gang   \n",
              "2  tt0000591     movie                The Prodigal Son   \n",
              "3  tt0000679     movie  The Fairylogue and Radio-Plays   \n",
              "4  tt0001184     movie         Don Juan de Serrallonga   \n",
              "\n",
              "                    originalTitle isAdult startYear endYear  runtimeMinutes  \\\n",
              "0                        Bohemios       0      1905      \\N           100.0   \n",
              "1     The Story of the Kelly Gang       0      1906      \\N            70.0   \n",
              "2               L'enfant prodigue       0      1907      \\N            90.0   \n",
              "3  The Fairylogue and Radio-Plays       0      1908      \\N           120.0   \n",
              "4         Don Juan de Serrallonga       0      1910      \\N            58.0   \n",
              "\n",
              "                           genres  gross  averageRating  numVotes  \n",
              "0                      [no-genre]    NaN            4.5      14.0  \n",
              "1  [Action, Adventure, Biography]    NaN            6.0     772.0  \n",
              "2                         [Drama]    NaN            4.5      18.0  \n",
              "3            [Adventure, Fantasy]    NaN            5.3      66.0  \n",
              "4              [Adventure, Drama]    NaN            3.9      20.0  "
            ],
            "text/html": [
              "\n",
              "  <div id=\"df-47b63be6-29db-41ce-8207-6d9a4059ce6c\">\n",
              "    <div class=\"colab-df-container\">\n",
              "      <div>\n",
              "<style scoped>\n",
              "    .dataframe tbody tr th:only-of-type {\n",
              "        vertical-align: middle;\n",
              "    }\n",
              "\n",
              "    .dataframe tbody tr th {\n",
              "        vertical-align: top;\n",
              "    }\n",
              "\n",
              "    .dataframe thead th {\n",
              "        text-align: right;\n",
              "    }\n",
              "</style>\n",
              "<table border=\"1\" class=\"dataframe\">\n",
              "  <thead>\n",
              "    <tr style=\"text-align: right;\">\n",
              "      <th></th>\n",
              "      <th>tconst</th>\n",
              "      <th>titleType</th>\n",
              "      <th>primaryTitle</th>\n",
              "      <th>originalTitle</th>\n",
              "      <th>isAdult</th>\n",
              "      <th>startYear</th>\n",
              "      <th>endYear</th>\n",
              "      <th>runtimeMinutes</th>\n",
              "      <th>genres</th>\n",
              "      <th>gross</th>\n",
              "      <th>averageRating</th>\n",
              "      <th>numVotes</th>\n",
              "    </tr>\n",
              "  </thead>\n",
              "  <tbody>\n",
              "    <tr>\n",
              "      <th>0</th>\n",
              "      <td>tt0000502</td>\n",
              "      <td>movie</td>\n",
              "      <td>Bohemios</td>\n",
              "      <td>Bohemios</td>\n",
              "      <td>0</td>\n",
              "      <td>1905</td>\n",
              "      <td>\\N</td>\n",
              "      <td>100.0</td>\n",
              "      <td>[no-genre]</td>\n",
              "      <td>NaN</td>\n",
              "      <td>4.5</td>\n",
              "      <td>14.0</td>\n",
              "    </tr>\n",
              "    <tr>\n",
              "      <th>1</th>\n",
              "      <td>tt0000574</td>\n",
              "      <td>movie</td>\n",
              "      <td>The Story of the Kelly Gang</td>\n",
              "      <td>The Story of the Kelly Gang</td>\n",
              "      <td>0</td>\n",
              "      <td>1906</td>\n",
              "      <td>\\N</td>\n",
              "      <td>70.0</td>\n",
              "      <td>[Action, Adventure, Biography]</td>\n",
              "      <td>NaN</td>\n",
              "      <td>6.0</td>\n",
              "      <td>772.0</td>\n",
              "    </tr>\n",
              "    <tr>\n",
              "      <th>2</th>\n",
              "      <td>tt0000591</td>\n",
              "      <td>movie</td>\n",
              "      <td>The Prodigal Son</td>\n",
              "      <td>L'enfant prodigue</td>\n",
              "      <td>0</td>\n",
              "      <td>1907</td>\n",
              "      <td>\\N</td>\n",
              "      <td>90.0</td>\n",
              "      <td>[Drama]</td>\n",
              "      <td>NaN</td>\n",
              "      <td>4.5</td>\n",
              "      <td>18.0</td>\n",
              "    </tr>\n",
              "    <tr>\n",
              "      <th>3</th>\n",
              "      <td>tt0000679</td>\n",
              "      <td>movie</td>\n",
              "      <td>The Fairylogue and Radio-Plays</td>\n",
              "      <td>The Fairylogue and Radio-Plays</td>\n",
              "      <td>0</td>\n",
              "      <td>1908</td>\n",
              "      <td>\\N</td>\n",
              "      <td>120.0</td>\n",
              "      <td>[Adventure, Fantasy]</td>\n",
              "      <td>NaN</td>\n",
              "      <td>5.3</td>\n",
              "      <td>66.0</td>\n",
              "    </tr>\n",
              "    <tr>\n",
              "      <th>4</th>\n",
              "      <td>tt0001184</td>\n",
              "      <td>movie</td>\n",
              "      <td>Don Juan de Serrallonga</td>\n",
              "      <td>Don Juan de Serrallonga</td>\n",
              "      <td>0</td>\n",
              "      <td>1910</td>\n",
              "      <td>\\N</td>\n",
              "      <td>58.0</td>\n",
              "      <td>[Adventure, Drama]</td>\n",
              "      <td>NaN</td>\n",
              "      <td>3.9</td>\n",
              "      <td>20.0</td>\n",
              "    </tr>\n",
              "  </tbody>\n",
              "</table>\n",
              "</div>\n",
              "      <button class=\"colab-df-convert\" onclick=\"convertToInteractive('df-47b63be6-29db-41ce-8207-6d9a4059ce6c')\"\n",
              "              title=\"Convert this dataframe to an interactive table.\"\n",
              "              style=\"display:none;\">\n",
              "        \n",
              "  <svg xmlns=\"http://www.w3.org/2000/svg\" height=\"24px\"viewBox=\"0 0 24 24\"\n",
              "       width=\"24px\">\n",
              "    <path d=\"M0 0h24v24H0V0z\" fill=\"none\"/>\n",
              "    <path d=\"M18.56 5.44l.94 2.06.94-2.06 2.06-.94-2.06-.94-.94-2.06-.94 2.06-2.06.94zm-11 1L8.5 8.5l.94-2.06 2.06-.94-2.06-.94L8.5 2.5l-.94 2.06-2.06.94zm10 10l.94 2.06.94-2.06 2.06-.94-2.06-.94-.94-2.06-.94 2.06-2.06.94z\"/><path d=\"M17.41 7.96l-1.37-1.37c-.4-.4-.92-.59-1.43-.59-.52 0-1.04.2-1.43.59L10.3 9.45l-7.72 7.72c-.78.78-.78 2.05 0 2.83L4 21.41c.39.39.9.59 1.41.59.51 0 1.02-.2 1.41-.59l7.78-7.78 2.81-2.81c.8-.78.8-2.07 0-2.86zM5.41 20L4 18.59l7.72-7.72 1.47 1.35L5.41 20z\"/>\n",
              "  </svg>\n",
              "      </button>\n",
              "      \n",
              "  <style>\n",
              "    .colab-df-container {\n",
              "      display:flex;\n",
              "      flex-wrap:wrap;\n",
              "      gap: 12px;\n",
              "    }\n",
              "\n",
              "    .colab-df-convert {\n",
              "      background-color: #E8F0FE;\n",
              "      border: none;\n",
              "      border-radius: 50%;\n",
              "      cursor: pointer;\n",
              "      display: none;\n",
              "      fill: #1967D2;\n",
              "      height: 32px;\n",
              "      padding: 0 0 0 0;\n",
              "      width: 32px;\n",
              "    }\n",
              "\n",
              "    .colab-df-convert:hover {\n",
              "      background-color: #E2EBFA;\n",
              "      box-shadow: 0px 1px 2px rgba(60, 64, 67, 0.3), 0px 1px 3px 1px rgba(60, 64, 67, 0.15);\n",
              "      fill: #174EA6;\n",
              "    }\n",
              "\n",
              "    [theme=dark] .colab-df-convert {\n",
              "      background-color: #3B4455;\n",
              "      fill: #D2E3FC;\n",
              "    }\n",
              "\n",
              "    [theme=dark] .colab-df-convert:hover {\n",
              "      background-color: #434B5C;\n",
              "      box-shadow: 0px 1px 3px 1px rgba(0, 0, 0, 0.15);\n",
              "      filter: drop-shadow(0px 1px 2px rgba(0, 0, 0, 0.3));\n",
              "      fill: #FFFFFF;\n",
              "    }\n",
              "  </style>\n",
              "\n",
              "      <script>\n",
              "        const buttonEl =\n",
              "          document.querySelector('#df-47b63be6-29db-41ce-8207-6d9a4059ce6c button.colab-df-convert');\n",
              "        buttonEl.style.display =\n",
              "          google.colab.kernel.accessAllowed ? 'block' : 'none';\n",
              "\n",
              "        async function convertToInteractive(key) {\n",
              "          const element = document.querySelector('#df-47b63be6-29db-41ce-8207-6d9a4059ce6c');\n",
              "          const dataTable =\n",
              "            await google.colab.kernel.invokeFunction('convertToInteractive',\n",
              "                                                     [key], {});\n",
              "          if (!dataTable) return;\n",
              "\n",
              "          const docLinkHtml = 'Like what you see? Visit the ' +\n",
              "            '<a target=\"_blank\" href=https://colab.research.google.com/notebooks/data_table.ipynb>data table notebook</a>'\n",
              "            + ' to learn more about interactive tables.';\n",
              "          element.innerHTML = '';\n",
              "          dataTable['output_type'] = 'display_data';\n",
              "          await google.colab.output.renderOutput(dataTable, element);\n",
              "          const docLink = document.createElement('div');\n",
              "          docLink.innerHTML = docLinkHtml;\n",
              "          element.appendChild(docLink);\n",
              "        }\n",
              "      </script>\n",
              "    </div>\n",
              "  </div>\n",
              "  "
            ]
          },
          "metadata": {},
          "execution_count": 24
        }
      ]
    },
    {
      "cell_type": "markdown",
      "metadata": {
        "id": "ziRYoHuioIst"
      },
      "source": [
        "## 🤔 Para pensar \n",
        "\n",
        "Cuantos votos tiene que tener una pelicula para usarla en training / testing?\n",
        "\n",
        "Qué metrica usamos? \n",
        "* Accuracy? \n",
        "* ROC AUC?\n",
        "* f1?\n",
        "* Otra?"
      ]
    },
    {
      "cell_type": "markdown",
      "metadata": {
        "id": "vj1G24AcoIsu"
      },
      "source": [
        "## Train test set split"
      ]
    },
    {
      "cell_type": "code",
      "metadata": {
        "id": "UWh5o1eEoIsw"
      },
      "source": [
        "movies['startYear'] = movies['startYear'].apply(lambda x: np.nan if x == r'\\N' else int(x))"
      ],
      "execution_count": 25,
      "outputs": []
    },
    {
      "cell_type": "code",
      "metadata": {
        "id": "DlJzaJknoIs1",
        "outputId": "f568e98a-61bb-4ffc-c246-d5ce370e75ea",
        "colab": {
          "base_uri": "https://localhost:8080/",
          "height": 297
        }
      },
      "source": [
        "movies.groupby('startYear').tconst.agg('count').plot()"
      ],
      "execution_count": 26,
      "outputs": [
        {
          "output_type": "execute_result",
          "data": {
            "text/plain": [
              "<matplotlib.axes._subplots.AxesSubplot at 0x7fbfa94bf9d0>"
            ]
          },
          "metadata": {},
          "execution_count": 26
        },
        {
          "output_type": "display_data",
          "data": {
            "text/plain": [
              "<Figure size 432x288 with 1 Axes>"
            ],
            "image/png": "[encoded data removed]"
          },
          "metadata": {
            "needs_background": "light"
          }
        }
      ]
    },
    {
      "cell_type": "code",
      "metadata": {
        "id": "FZyouUyOoIs7"
      },
      "source": [
        "movies = movies[movies.startYear > 1970].dropna(subset=['averageRating'])"
      ],
      "execution_count": 27,
      "outputs": []
    },
    {
      "cell_type": "code",
      "metadata": {
        "id": "UOeaItY-oIs-",
        "outputId": "b840da7a-c814-4277-a6e7-31e7e3fafdf4",
        "colab": {
          "base_uri": "https://localhost:8080/"
        }
      },
      "source": [
        "train_df = movies[movies.startYear <= 2017]\n",
        "test_df = movies[movies.startYear > 2017]\n",
        "\n",
        "len(train_df), len(test_df), len(test_df) / len(train_df)"
      ],
      "execution_count": 28,
      "outputs": [
        {
          "output_type": "execute_result",
          "data": {
            "text/plain": [
              "(233463, 39839, 0.170643742263228)"
            ]
          },
          "metadata": {},
          "execution_count": 28
        }
      ]
    },
    {
      "cell_type": "code",
      "metadata": {
        "id": "SE0oFR52oItB"
      },
      "source": [
        "y_train = (train_df.averageRating >= 7.4).values\n",
        "y_test = (test_df.averageRating >= 7.4).values"
      ],
      "execution_count": 29,
      "outputs": []
    },
    {
      "cell_type": "code",
      "metadata": {
        "id": "exUzH5zIoItE",
        "outputId": "0d301f8c-34b7-47fa-e920-bf309e87034e",
        "colab": {
          "base_uri": "https://localhost:8080/"
        }
      },
      "source": [
        "y_train.sum() / len(y_train), y_test.sum() / len(y_test)"
      ],
      "execution_count": 30,
      "outputs": [
        {
          "output_type": "execute_result",
          "data": {
            "text/plain": [
              "(0.20588701421638547, 0.22103968473104244)"
            ]
          },
          "metadata": {},
          "execution_count": 30
        }
      ]
    },
    {
      "cell_type": "markdown",
      "metadata": {
        "id": "oEWLnRqWoItG"
      },
      "source": [
        "# Feature engineering 101"
      ]
    },
    {
      "cell_type": "markdown",
      "metadata": {
        "id": "LArXwNafoItG"
      },
      "source": [
        "## Hay relacion entre el genero y la pelicula?"
      ]
    },
    {
      "cell_type": "code",
      "metadata": {
        "id": "Rq9sH-C4oItG"
      },
      "source": [
        "# Vamos a usar todo como listas de diccionarios para poder usar el ecosistema de sklearn de forma sencilla\n",
        "\n",
        "train_docs = train_df.to_dict(orient='records')\n",
        "test_docs = test_df.to_dict(orient='records')"
      ],
      "execution_count": 31,
      "outputs": []
    },
    {
      "cell_type": "code",
      "metadata": {
        "id": "Ll5dfezzoItJ"
      },
      "source": [
        "from sklearn.base import BaseEstimator, TransformerMixin\n",
        "\n",
        "class GenreDummies(BaseEstimator, TransformerMixin):\n",
        "    def fit(self, X, y): return self\n",
        "\n",
        "    def transform(self, X):\n",
        "        res = []\n",
        "        for e in X:\n",
        "            res.append({g: 1 for g in e['genres']})\n",
        "        return res        "
      ],
      "execution_count": 32,
      "outputs": []
    },
    {
      "cell_type": "code",
      "metadata": {
        "id": "rKTZEG6NoItL"
      },
      "source": [
        "from sklearn.pipeline import make_pipeline\n",
        "from sklearn.preprocessing import StandardScaler\n",
        "from sklearn.feature_extraction import DictVectorizer\n",
        "from sklearn.linear_model import LogisticRegression"
      ],
      "execution_count": 33,
      "outputs": []
    },
    {
      "cell_type": "code",
      "metadata": {
        "id": "Yln_0NbfoItN"
      },
      "source": [
        "from sklearn.metrics import roc_auc_score\n",
        "\n",
        "def test_pipe(pipe):\n",
        "    return {\n",
        "        'train_auc': roc_auc_score(y_train, pipe.predict_proba(train_docs)[:, 1]),\n",
        "        'test_auc': roc_auc_score(y_test, pipe.predict_proba(test_docs)[:, 1])\n",
        "    }"
      ],
      "execution_count": 34,
      "outputs": []
    },
    {
      "cell_type": "code",
      "metadata": {
        "id": "yIxAMXSNoItO"
      },
      "source": [
        "pipe = make_pipeline(\n",
        "    GenreDummies(), DictVectorizer(sparse=False), \n",
        "    StandardScaler(), \n",
        "    LogisticRegression()\n",
        ")\n",
        "\n",
        "pipe.fit(train_docs, y_train);"
      ],
      "execution_count": 35,
      "outputs": []
    },
    {
      "cell_type": "code",
      "metadata": {
        "id": "O72oFog2oItQ",
        "outputId": "ef684b4d-84a6-4164-95fa-df1724064d8f",
        "colab": {
          "base_uri": "https://localhost:8080/"
        }
      },
      "source": [
        "test_pipe(pipe)"
      ],
      "execution_count": 36,
      "outputs": [
        {
          "output_type": "execute_result",
          "data": {
            "text/plain": [
              "{'test_auc': 0.7038621086025083, 'train_auc': 0.7385490634657919}"
            ]
          },
          "metadata": {},
          "execution_count": 36
        }
      ]
    },
    {
      "cell_type": "markdown",
      "metadata": {
        "id": "Tgtfn6JMoItR"
      },
      "source": [
        "## Cómo controlamos por el año?\n",
        "\n",
        "Tiene sentido?"
      ]
    },
    {
      "cell_type": "code",
      "metadata": {
        "id": "EarDPcYWoItS"
      },
      "source": [
        "from datetime import datetime\n",
        "from sklearn.base import BaseEstimator, TransformerMixin\n",
        "\n",
        "class YearsAgo(BaseEstimator, TransformerMixin):\n",
        "    def __init__(self):\n",
        "        self.now = datetime.now().year\n",
        "        \n",
        "    def fit(self, X, y): return self\n",
        "\n",
        "    def transform(self, X):\n",
        "        res = []\n",
        "        for e in X:\n",
        "            res.append({'years_ago': self.now - int(e['startYear'])})\n",
        "        return res"
      ],
      "execution_count": 37,
      "outputs": []
    },
    {
      "cell_type": "code",
      "metadata": {
        "id": "XgD9oOSmoItT"
      },
      "source": [
        "from sklearn.pipeline import make_union\n",
        "\n",
        "pipe = make_pipeline(\n",
        "    make_union(\n",
        "        make_pipeline(YearsAgo(), DictVectorizer(sparse=False)),\n",
        "        make_pipeline(GenreDummies(), DictVectorizer(sparse=False))\n",
        "    ),\n",
        "    StandardScaler(),\n",
        "    LogisticRegression()\n",
        ")\n",
        "\n",
        "pipe.fit(train_docs, y_train);"
      ],
      "execution_count": 38,
      "outputs": []
    },
    {
      "cell_type": "code",
      "metadata": {
        "id": "JQDFW8NpoItV",
        "outputId": "2f6bdac1-ddd1-496e-a6b0-58409d642ede",
        "colab": {
          "base_uri": "https://localhost:8080/"
        }
      },
      "source": [
        "test_pipe(pipe)"
      ],
      "execution_count": 39,
      "outputs": [
        {
          "output_type": "execute_result",
          "data": {
            "text/plain": [
              "{'test_auc': 0.7067700743991259, 'train_auc': 0.7402069162768306}"
            ]
          },
          "metadata": {},
          "execution_count": 39
        }
      ]
    },
    {
      "cell_type": "markdown",
      "metadata": {
        "id": "-DAd-xCgoItX"
      },
      "source": [
        "No afecta mucho la metrica.\n",
        "\n",
        "**Challenge**: esto realmente controla algo? sirve para algo?"
      ]
    },
    {
      "cell_type": "markdown",
      "metadata": {
        "id": "BMokeleeoItX"
      },
      "source": [
        "## Cómo podemos incorporar información de la crew?"
      ]
    },
    {
      "cell_type": "markdown",
      "metadata": {
        "id": "X4eRB5gdoItY"
      },
      "source": [
        "### ETL"
      ]
    },
    {
      "cell_type": "code",
      "metadata": {
        "id": "25e-w8BBoItZ"
      },
      "source": [
        "principals_df = pd.read_csv(PATH / 'title.principals.tsv.gz', sep='\\t', \n",
        "                            compression='gzip')"
      ],
      "execution_count": 41,
      "outputs": []
    },
    {
      "cell_type": "code",
      "metadata": {
        "id": "IAnFnR2ZoItg",
        "outputId": "e7411fa9-3340-4a45-827e-657f1f0a16e1",
        "colab": {
          "base_uri": "https://localhost:8080/",
          "height": 206
        }
      },
      "source": [
        "principals_df.head()"
      ],
      "execution_count": 42,
      "outputs": [
        {
          "output_type": "execute_result",
          "data": {
            "text/plain": [
              "      tconst  ordering     nconst         category                      job  \\\n",
              "0  tt0000001         1  nm1588970             self                       \\N   \n",
              "1  tt0000001         2  nm0005690         director                       \\N   \n",
              "2  tt0000001         3  nm0374658  cinematographer  director of photography   \n",
              "3  tt0000002         1  nm0721526         director                       \\N   \n",
              "4  tt0000002         2  nm1335271         composer                       \\N   \n",
              "\n",
              "  characters  \n",
              "0   [\"Self\"]  \n",
              "1         \\N  \n",
              "2         \\N  \n",
              "3         \\N  \n",
              "4         \\N  "
            ],
            "text/html": [
              "\n",
              "  <div id=\"df-d5405fc2-9633-4aff-8840-ef9723094277\">\n",
              "    <div class=\"colab-df-container\">\n",
              "      <div>\n",
              "<style scoped>\n",
              "    .dataframe tbody tr th:only-of-type {\n",
              "        vertical-align: middle;\n",
              "    }\n",
              "\n",
              "    .dataframe tbody tr th {\n",
              "        vertical-align: top;\n",
              "    }\n",
              "\n",
              "    .dataframe thead th {\n",
              "        text-align: right;\n",
              "    }\n",
              "</style>\n",
              "<table border=\"1\" class=\"dataframe\">\n",
              "  <thead>\n",
              "    <tr style=\"text-align: right;\">\n",
              "      <th></th>\n",
              "      <th>tconst</th>\n",
              "      <th>ordering</th>\n",
              "      <th>nconst</th>\n",
              "      <th>category</th>\n",
              "      <th>job</th>\n",
              "      <th>characters</th>\n",
              "    </tr>\n",
              "  </thead>\n",
              "  <tbody>\n",
              "    <tr>\n",
              "      <th>0</th>\n",
              "      <td>tt0000001</td>\n",
              "      <td>1</td>\n",
              "      <td>nm1588970</td>\n",
              "      <td>self</td>\n",
              "      <td>\\N</td>\n",
              "      <td>[\"Self\"]</td>\n",
              "    </tr>\n",
              "    <tr>\n",
              "      <th>1</th>\n",
              "      <td>tt0000001</td>\n",
              "      <td>2</td>\n",
              "      <td>nm0005690</td>\n",
              "      <td>director</td>\n",
              "      <td>\\N</td>\n",
              "      <td>\\N</td>\n",
              "    </tr>\n",
              "    <tr>\n",
              "      <th>2</th>\n",
              "      <td>tt0000001</td>\n",
              "      <td>3</td>\n",
              "      <td>nm0374658</td>\n",
              "      <td>cinematographer</td>\n",
              "      <td>director of photography</td>\n",
              "      <td>\\N</td>\n",
              "    </tr>\n",
              "    <tr>\n",
              "      <th>3</th>\n",
              "      <td>tt0000002</td>\n",
              "      <td>1</td>\n",
              "      <td>nm0721526</td>\n",
              "      <td>director</td>\n",
              "      <td>\\N</td>\n",
              "      <td>\\N</td>\n",
              "    </tr>\n",
              "    <tr>\n",
              "      <th>4</th>\n",
              "      <td>tt0000002</td>\n",
              "      <td>2</td>\n",
              "      <td>nm1335271</td>\n",
              "      <td>composer</td>\n",
              "      <td>\\N</td>\n",
              "      <td>\\N</td>\n",
              "    </tr>\n",
              "  </tbody>\n",
              "</table>\n",
              "</div>\n",
              "      <button class=\"colab-df-convert\" onclick=\"convertToInteractive('df-d5405fc2-9633-4aff-8840-ef9723094277')\"\n",
              "              title=\"Convert this dataframe to an interactive table.\"\n",
              "              style=\"display:none;\">\n",
              "        \n",
              "  <svg xmlns=\"http://www.w3.org/2000/svg\" height=\"24px\"viewBox=\"0 0 24 24\"\n",
              "       width=\"24px\">\n",
              "    <path d=\"M0 0h24v24H0V0z\" fill=\"none\"/>\n",
              "    <path d=\"M18.56 5.44l.94 2.06.94-2.06 2.06-.94-2.06-.94-.94-2.06-.94 2.06-2.06.94zm-11 1L8.5 8.5l.94-2.06 2.06-.94-2.06-.94L8.5 2.5l-.94 2.06-2.06.94zm10 10l.94 2.06.94-2.06 2.06-.94-2.06-.94-.94-2.06-.94 2.06-2.06.94z\"/><path d=\"M17.41 7.96l-1.37-1.37c-.4-.4-.92-.59-1.43-.59-.52 0-1.04.2-1.43.59L10.3 9.45l-7.72 7.72c-.78.78-.78 2.05 0 2.83L4 21.41c.39.39.9.59 1.41.59.51 0 1.02-.2 1.41-.59l7.78-7.78 2.81-2.81c.8-.78.8-2.07 0-2.86zM5.41 20L4 18.59l7.72-7.72 1.47 1.35L5.41 20z\"/>\n",
              "  </svg>\n",
              "      </button>\n",
              "      \n",
              "  <style>\n",
              "    .colab-df-container {\n",
              "      display:flex;\n",
              "      flex-wrap:wrap;\n",
              "      gap: 12px;\n",
              "    }\n",
              "\n",
              "    .colab-df-convert {\n",
              "      background-color: #E8F0FE;\n",
              "      border: none;\n",
              "      border-radius: 50%;\n",
              "      cursor: pointer;\n",
              "      display: none;\n",
              "      fill: #1967D2;\n",
              "      height: 32px;\n",
              "      padding: 0 0 0 0;\n",
              "      width: 32px;\n",
              "    }\n",
              "\n",
              "    .colab-df-convert:hover {\n",
              "      background-color: #E2EBFA;\n",
              "      box-shadow: 0px 1px 2px rgba(60, 64, 67, 0.3), 0px 1px 3px 1px rgba(60, 64, 67, 0.15);\n",
              "      fill: #174EA6;\n",
              "    }\n",
              "\n",
              "    [theme=dark] .colab-df-convert {\n",
              "      background-color: #3B4455;\n",
              "      fill: #D2E3FC;\n",
              "    }\n",
              "\n",
              "    [theme=dark] .colab-df-convert:hover {\n",
              "      background-color: #434B5C;\n",
              "      box-shadow: 0px 1px 3px 1px rgba(0, 0, 0, 0.15);\n",
              "      filter: drop-shadow(0px 1px 2px rgba(0, 0, 0, 0.3));\n",
              "      fill: #FFFFFF;\n",
              "    }\n",
              "  </style>\n",
              "\n",
              "      <script>\n",
              "        const buttonEl =\n",
              "          document.querySelector('#df-d5405fc2-9633-4aff-8840-ef9723094277 button.colab-df-convert');\n",
              "        buttonEl.style.display =\n",
              "          google.colab.kernel.accessAllowed ? 'block' : 'none';\n",
              "\n",
              "        async function convertToInteractive(key) {\n",
              "          const element = document.querySelector('#df-d5405fc2-9633-4aff-8840-ef9723094277');\n",
              "          const dataTable =\n",
              "            await google.colab.kernel.invokeFunction('convertToInteractive',\n",
              "                                                     [key], {});\n",
              "          if (!dataTable) return;\n",
              "\n",
              "          const docLinkHtml = 'Like what you see? Visit the ' +\n",
              "            '<a target=\"_blank\" href=https://colab.research.google.com/notebooks/data_table.ipynb>data table notebook</a>'\n",
              "            + ' to learn more about interactive tables.';\n",
              "          element.innerHTML = '';\n",
              "          dataTable['output_type'] = 'display_data';\n",
              "          await google.colab.output.renderOutput(dataTable, element);\n",
              "          const docLink = document.createElement('div');\n",
              "          docLink.innerHTML = docLinkHtml;\n",
              "          element.appendChild(docLink);\n",
              "        }\n",
              "      </script>\n",
              "    </div>\n",
              "  </div>\n",
              "  "
            ]
          },
          "metadata": {},
          "execution_count": 42
        }
      ]
    },
    {
      "cell_type": "code",
      "metadata": {
        "id": "CL3RHK_DoItk",
        "outputId": "0d5d87c3-f9b1-43bc-e63c-07756c72e1fd",
        "colab": {
          "base_uri": "https://localhost:8080/"
        }
      },
      "source": [
        "principals_df.category.value_counts()"
      ],
      "execution_count": 43,
      "outputs": [
        {
          "output_type": "execute_result",
          "data": {
            "text/plain": [
              "actor                  11279111\n",
              "self                    8849657\n",
              "actress                 8658481\n",
              "writer                  7029439\n",
              "director                5860057\n",
              "producer                3274623\n",
              "cinematographer         1766674\n",
              "composer                1745098\n",
              "editor                  1689718\n",
              "production_designer      344620\n",
              "archive_footage          324176\n",
              "archive_sound              3253\n",
              "Name: category, dtype: int64"
            ]
          },
          "metadata": {},
          "execution_count": 43
        }
      ]
    },
    {
      "cell_type": "markdown",
      "metadata": {
        "id": "2B33iQbhoItn"
      },
      "source": [
        "En las peliculas hay mas de un director\n",
        "\n",
        "El director puede estar en ordering random \n",
        "\n",
        "ejemplos tt4898864 (10 directores)\n",
        "\n",
        "titanic tt0120338 director en ordering 5 "
      ]
    },
    {
      "cell_type": "code",
      "metadata": {
        "id": "cV-CqP7boIto"
      },
      "source": [
        "# Me quedo solo con los que fueron directores\n",
        "movies_directors = principals_df[principals_df.category == 'director'].copy()\n",
        "# Calculo un ranking por pelicula segun el ordering\n",
        "movies_directors['director_rank'] = (\n",
        "    movies_directors.sort_values('ordering')\n",
        "                    .groupby('tconst')\n",
        "                    .cumcount()\n",
        ")"
      ],
      "execution_count": 44,
      "outputs": []
    },
    {
      "cell_type": "code",
      "metadata": {
        "id": "EyfEU4dnoIts"
      },
      "source": [
        "# Me quedo con el \"director principal\" por pelicula\n",
        "movies_directors = movies_directors[movies_directors.director_rank == 0]"
      ],
      "execution_count": 45,
      "outputs": []
    },
    {
      "cell_type": "code",
      "metadata": {
        "id": "i5m_mKm4oItu",
        "outputId": "d201503f-e35f-47c9-fbbb-37ba04cfae67",
        "colab": {
          "base_uri": "https://localhost:8080/"
        }
      },
      "source": [
        "# Sanity check, no debería haber repetidos\n",
        "movies_directors.tconst.value_counts().max()"
      ],
      "execution_count": 46,
      "outputs": [
        {
          "output_type": "execute_result",
          "data": {
            "text/plain": [
              "1"
            ]
          },
          "metadata": {},
          "execution_count": 46
        }
      ]
    },
    {
      "cell_type": "code",
      "metadata": {
        "id": "t-zAsbKKoItw"
      },
      "source": [
        "# me quedo solo con la columna del director\n",
        "movies_directors = (\n",
        "    movies_directors.rename(columns={'nconst': 'director'})\n",
        "    [['tconst', 'director']]\n",
        ")"
      ],
      "execution_count": 47,
      "outputs": []
    },
    {
      "cell_type": "code",
      "metadata": {
        "id": "hRtmPG81oIty",
        "outputId": "4114042e-37c2-4d5a-f9d9-949ace56d6b4",
        "colab": {
          "base_uri": "https://localhost:8080/",
          "height": 206
        }
      },
      "source": [
        "# Tenemos un mapping pelicula -> director\n",
        "movies_directors.head()"
      ],
      "execution_count": 48,
      "outputs": [
        {
          "output_type": "execute_result",
          "data": {
            "text/plain": [
              "       tconst   director\n",
              "1   tt0000001  nm0005690\n",
              "3   tt0000002  nm0721526\n",
              "5   tt0000003  nm0721526\n",
              "9   tt0000004  nm0721526\n",
              "13  tt0000005  nm0005690"
            ],
            "text/html": [
              "\n",
              "  <div id=\"df-8ed341f8-6a23-4b81-951b-8fdab8843a0e\">\n",
              "    <div class=\"colab-df-container\">\n",
              "      <div>\n",
              "<style scoped>\n",
              "    .dataframe tbody tr th:only-of-type {\n",
              "        vertical-align: middle;\n",
              "    }\n",
              "\n",
              "    .dataframe tbody tr th {\n",
              "        vertical-align: top;\n",
              "    }\n",
              "\n",
              "    .dataframe thead th {\n",
              "        text-align: right;\n",
              "    }\n",
              "</style>\n",
              "<table border=\"1\" class=\"dataframe\">\n",
              "  <thead>\n",
              "    <tr style=\"text-align: right;\">\n",
              "      <th></th>\n",
              "      <th>tconst</th>\n",
              "      <th>director</th>\n",
              "    </tr>\n",
              "  </thead>\n",
              "  <tbody>\n",
              "    <tr>\n",
              "      <th>1</th>\n",
              "      <td>tt0000001</td>\n",
              "      <td>nm0005690</td>\n",
              "    </tr>\n",
              "    <tr>\n",
              "      <th>3</th>\n",
              "      <td>tt0000002</td>\n",
              "      <td>nm0721526</td>\n",
              "    </tr>\n",
              "    <tr>\n",
              "      <th>5</th>\n",
              "      <td>tt0000003</td>\n",
              "      <td>nm0721526</td>\n",
              "    </tr>\n",
              "    <tr>\n",
              "      <th>9</th>\n",
              "      <td>tt0000004</td>\n",
              "      <td>nm0721526</td>\n",
              "    </tr>\n",
              "    <tr>\n",
              "      <th>13</th>\n",
              "      <td>tt0000005</td>\n",
              "      <td>nm0005690</td>\n",
              "    </tr>\n",
              "  </tbody>\n",
              "</table>\n",
              "</div>\n",
              "      <button class=\"colab-df-convert\" onclick=\"convertToInteractive('df-8ed341f8-6a23-4b81-951b-8fdab8843a0e')\"\n",
              "              title=\"Convert this dataframe to an interactive table.\"\n",
              "              style=\"display:none;\">\n",
              "        \n",
              "  <svg xmlns=\"http://www.w3.org/2000/svg\" height=\"24px\"viewBox=\"0 0 24 24\"\n",
              "       width=\"24px\">\n",
              "    <path d=\"M0 0h24v24H0V0z\" fill=\"none\"/>\n",
              "    <path d=\"M18.56 5.44l.94 2.06.94-2.06 2.06-.94-2.06-.94-.94-2.06-.94 2.06-2.06.94zm-11 1L8.5 8.5l.94-2.06 2.06-.94-2.06-.94L8.5 2.5l-.94 2.06-2.06.94zm10 10l.94 2.06.94-2.06 2.06-.94-2.06-.94-.94-2.06-.94 2.06-2.06.94z\"/><path d=\"M17.41 7.96l-1.37-1.37c-.4-.4-.92-.59-1.43-.59-.52 0-1.04.2-1.43.59L10.3 9.45l-7.72 7.72c-.78.78-.78 2.05 0 2.83L4 21.41c.39.39.9.59 1.41.59.51 0 1.02-.2 1.41-.59l7.78-7.78 2.81-2.81c.8-.78.8-2.07 0-2.86zM5.41 20L4 18.59l7.72-7.72 1.47 1.35L5.41 20z\"/>\n",
              "  </svg>\n",
              "      </button>\n",
              "      \n",
              "  <style>\n",
              "    .colab-df-container {\n",
              "      display:flex;\n",
              "      flex-wrap:wrap;\n",
              "      gap: 12px;\n",
              "    }\n",
              "\n",
              "    .colab-df-convert {\n",
              "      background-color: #E8F0FE;\n",
              "      border: none;\n",
              "      border-radius: 50%;\n",
              "      cursor: pointer;\n",
              "      display: none;\n",
              "      fill: #1967D2;\n",
              "      height: 32px;\n",
              "      padding: 0 0 0 0;\n",
              "      width: 32px;\n",
              "    }\n",
              "\n",
              "    .colab-df-convert:hover {\n",
              "      background-color: #E2EBFA;\n",
              "      box-shadow: 0px 1px 2px rgba(60, 64, 67, 0.3), 0px 1px 3px 1px rgba(60, 64, 67, 0.15);\n",
              "      fill: #174EA6;\n",
              "    }\n",
              "\n",
              "    [theme=dark] .colab-df-convert {\n",
              "      background-color: #3B4455;\n",
              "      fill: #D2E3FC;\n",
              "    }\n",
              "\n",
              "    [theme=dark] .colab-df-convert:hover {\n",
              "      background-color: #434B5C;\n",
              "      box-shadow: 0px 1px 3px 1px rgba(0, 0, 0, 0.15);\n",
              "      filter: drop-shadow(0px 1px 2px rgba(0, 0, 0, 0.3));\n",
              "      fill: #FFFFFF;\n",
              "    }\n",
              "  </style>\n",
              "\n",
              "      <script>\n",
              "        const buttonEl =\n",
              "          document.querySelector('#df-8ed341f8-6a23-4b81-951b-8fdab8843a0e button.colab-df-convert');\n",
              "        buttonEl.style.display =\n",
              "          google.colab.kernel.accessAllowed ? 'block' : 'none';\n",
              "\n",
              "        async function convertToInteractive(key) {\n",
              "          const element = document.querySelector('#df-8ed341f8-6a23-4b81-951b-8fdab8843a0e');\n",
              "          const dataTable =\n",
              "            await google.colab.kernel.invokeFunction('convertToInteractive',\n",
              "                                                     [key], {});\n",
              "          if (!dataTable) return;\n",
              "\n",
              "          const docLinkHtml = 'Like what you see? Visit the ' +\n",
              "            '<a target=\"_blank\" href=https://colab.research.google.com/notebooks/data_table.ipynb>data table notebook</a>'\n",
              "            + ' to learn more about interactive tables.';\n",
              "          element.innerHTML = '';\n",
              "          dataTable['output_type'] = 'display_data';\n",
              "          await google.colab.output.renderOutput(dataTable, element);\n",
              "          const docLink = document.createElement('div');\n",
              "          docLink.innerHTML = docLinkHtml;\n",
              "          element.appendChild(docLink);\n",
              "        }\n",
              "      </script>\n",
              "    </div>\n",
              "  </div>\n",
              "  "
            ]
          },
          "metadata": {},
          "execution_count": 48
        }
      ]
    },
    {
      "cell_type": "code",
      "metadata": {
        "id": "PGzdOVqqoIt3"
      },
      "source": [
        "train_df = train_df.merge(movies_directors, on='tconst', how='left').fillna('-')\n",
        "test_df = test_df.merge(movies_directors, on='tconst', how='left').fillna('-')"
      ],
      "execution_count": 49,
      "outputs": []
    },
    {
      "cell_type": "code",
      "metadata": {
        "id": "EmXwdIzMoIt6",
        "outputId": "1c3fe375-99e0-4127-c849-1a83602d88eb",
        "colab": {
          "base_uri": "https://localhost:8080/",
          "height": 287
        }
      },
      "source": [
        "# Distribución de cantidad de peliculas por director\n",
        "\n",
        "director_movies_distr = (\n",
        "    train_df[train_df.director != '-']\n",
        "            .director\n",
        "            .value_counts()\n",
        "            .value_counts()\n",
        "            .sort_index()\n",
        ")\n",
        "\n",
        "director_movies_distr.plot(style='-o', logx=True, logy=True)"
      ],
      "execution_count": 50,
      "outputs": [
        {
          "output_type": "execute_result",
          "data": {
            "text/plain": [
              "<matplotlib.axes._subplots.AxesSubplot at 0x7fc051249b50>"
            ]
          },
          "metadata": {},
          "execution_count": 50
        },
        {
          "output_type": "display_data",
          "data": {
            "text/plain": [
              "<Figure size 432x288 with 1 Axes>"
            ],
            "image/png": "[encoded data removed]"
          },
          "metadata": {
            "needs_background": "light"
          }
        }
      ]
    },
    {
      "cell_type": "code",
      "metadata": {
        "id": "_rSRJbjPoIt8",
        "outputId": "df1b1059-6a94-42b8-9246-feb9eabf73a0",
        "colab": {
          "base_uri": "https://localhost:8080/"
        }
      },
      "source": [
        "(director_movies_distr.cumsum() / director_movies_distr.sum()).head(10)"
      ],
      "execution_count": 51,
      "outputs": [
        {
          "output_type": "execute_result",
          "data": {
            "text/plain": [
              "1     0.615048\n",
              "2     0.772737\n",
              "3     0.845109\n",
              "4     0.886351\n",
              "5     0.912003\n",
              "6     0.930484\n",
              "7     0.943534\n",
              "8     0.953503\n",
              "9     0.960980\n",
              "10    0.966929\n",
              "Name: director, dtype: float64"
            ]
          },
          "metadata": {},
          "execution_count": 51
        }
      ]
    },
    {
      "cell_type": "code",
      "metadata": {
        "id": "uK_HZKOeoIuB",
        "outputId": "6f33a8de-2942-4235-ea55-30acb36789c0",
        "colab": {
          "base_uri": "https://localhost:8080/"
        }
      },
      "source": [
        "(train_df.director == '-').sum() / len(train_df)"
      ],
      "execution_count": 52,
      "outputs": [
        {
          "output_type": "execute_result",
          "data": {
            "text/plain": [
              "0.08602647957063861"
            ]
          },
          "metadata": {},
          "execution_count": 52
        }
      ]
    },
    {
      "cell_type": "markdown",
      "metadata": {
        "id": "sVGL-LKIoIuD"
      },
      "source": [
        "El 9% de los casos no tenemos info del director.\n",
        "\n",
        "La mayoria (64%) de los directores hicieron una peli nada mas"
      ]
    },
    {
      "cell_type": "code",
      "metadata": {
        "id": "gq6HVDN7oIuD",
        "outputId": "55e5530a-2ea1-4668-8d46-7bbce031945a",
        "colab": {
          "base_uri": "https://localhost:8080/",
          "height": 142
        }
      },
      "source": [
        "# Sanity check: como se ve titanic?\n",
        "train_df[train_df.tconst == 'tt0120338']"
      ],
      "execution_count": 53,
      "outputs": [
        {
          "output_type": "execute_result",
          "data": {
            "text/plain": [
              "          tconst titleType primaryTitle originalTitle isAdult  startYear  \\\n",
              "36021  tt0120338     movie      Titanic       Titanic       0     1997.0   \n",
              "\n",
              "      endYear  runtimeMinutes            genres        gross  averageRating  \\\n",
              "36021      \\N           194.0  [Drama, Romance]  658672302.0            7.9   \n",
              "\n",
              "        numVotes   director  \n",
              "36021  1139002.0  nm0000116  "
            ],
            "text/html": [
              "\n",
              "  <div id=\"df-1dd6ca79-ccb6-4207-a52b-b5992d07d396\">\n",
              "    <div class=\"colab-df-container\">\n",
              "      <div>\n",
              "<style scoped>\n",
              "    .dataframe tbody tr th:only-of-type {\n",
              "        vertical-align: middle;\n",
              "    }\n",
              "\n",
              "    .dataframe tbody tr th {\n",
              "        vertical-align: top;\n",
              "    }\n",
              "\n",
              "    .dataframe thead th {\n",
              "        text-align: right;\n",
              "    }\n",
              "</style>\n",
              "<table border=\"1\" class=\"dataframe\">\n",
              "  <thead>\n",
              "    <tr style=\"text-align: right;\">\n",
              "      <th></th>\n",
              "      <th>tconst</th>\n",
              "      <th>titleType</th>\n",
              "      <th>primaryTitle</th>\n",
              "      <th>originalTitle</th>\n",
              "      <th>isAdult</th>\n",
              "      <th>startYear</th>\n",
              "      <th>endYear</th>\n",
              "      <th>runtimeMinutes</th>\n",
              "      <th>genres</th>\n",
              "      <th>gross</th>\n",
              "      <th>averageRating</th>\n",
              "      <th>numVotes</th>\n",
              "      <th>director</th>\n",
              "    </tr>\n",
              "  </thead>\n",
              "  <tbody>\n",
              "    <tr>\n",
              "      <th>36021</th>\n",
              "      <td>tt0120338</td>\n",
              "      <td>movie</td>\n",
              "      <td>Titanic</td>\n",
              "      <td>Titanic</td>\n",
              "      <td>0</td>\n",
              "      <td>1997.0</td>\n",
              "      <td>\\N</td>\n",
              "      <td>194.0</td>\n",
              "      <td>[Drama, Romance]</td>\n",
              "      <td>658672302.0</td>\n",
              "      <td>7.9</td>\n",
              "      <td>1139002.0</td>\n",
              "      <td>nm0000116</td>\n",
              "    </tr>\n",
              "  </tbody>\n",
              "</table>\n",
              "</div>\n",
              "      <button class=\"colab-df-convert\" onclick=\"convertToInteractive('df-1dd6ca79-ccb6-4207-a52b-b5992d07d396')\"\n",
              "              title=\"Convert this dataframe to an interactive table.\"\n",
              "              style=\"display:none;\">\n",
              "        \n",
              "  <svg xmlns=\"http://www.w3.org/2000/svg\" height=\"24px\"viewBox=\"0 0 24 24\"\n",
              "       width=\"24px\">\n",
              "    <path d=\"M0 0h24v24H0V0z\" fill=\"none\"/>\n",
              "    <path d=\"M18.56 5.44l.94 2.06.94-2.06 2.06-.94-2.06-.94-.94-2.06-.94 2.06-2.06.94zm-11 1L8.5 8.5l.94-2.06 2.06-.94-2.06-.94L8.5 2.5l-.94 2.06-2.06.94zm10 10l.94 2.06.94-2.06 2.06-.94-2.06-.94-.94-2.06-.94 2.06-2.06.94z\"/><path d=\"M17.41 7.96l-1.37-1.37c-.4-.4-.92-.59-1.43-.59-.52 0-1.04.2-1.43.59L10.3 9.45l-7.72 7.72c-.78.78-.78 2.05 0 2.83L4 21.41c.39.39.9.59 1.41.59.51 0 1.02-.2 1.41-.59l7.78-7.78 2.81-2.81c.8-.78.8-2.07 0-2.86zM5.41 20L4 18.59l7.72-7.72 1.47 1.35L5.41 20z\"/>\n",
              "  </svg>\n",
              "      </button>\n",
              "      \n",
              "  <style>\n",
              "    .colab-df-container {\n",
              "      display:flex;\n",
              "      flex-wrap:wrap;\n",
              "      gap: 12px;\n",
              "    }\n",
              "\n",
              "    .colab-df-convert {\n",
              "      background-color: #E8F0FE;\n",
              "      border: none;\n",
              "      border-radius: 50%;\n",
              "      cursor: pointer;\n",
              "      display: none;\n",
              "      fill: #1967D2;\n",
              "      height: 32px;\n",
              "      padding: 0 0 0 0;\n",
              "      width: 32px;\n",
              "    }\n",
              "\n",
              "    .colab-df-convert:hover {\n",
              "      background-color: #E2EBFA;\n",
              "      box-shadow: 0px 1px 2px rgba(60, 64, 67, 0.3), 0px 1px 3px 1px rgba(60, 64, 67, 0.15);\n",
              "      fill: #174EA6;\n",
              "    }\n",
              "\n",
              "    [theme=dark] .colab-df-convert {\n",
              "      background-color: #3B4455;\n",
              "      fill: #D2E3FC;\n",
              "    }\n",
              "\n",
              "    [theme=dark] .colab-df-convert:hover {\n",
              "      background-color: #434B5C;\n",
              "      box-shadow: 0px 1px 3px 1px rgba(0, 0, 0, 0.15);\n",
              "      filter: drop-shadow(0px 1px 2px rgba(0, 0, 0, 0.3));\n",
              "      fill: #FFFFFF;\n",
              "    }\n",
              "  </style>\n",
              "\n",
              "      <script>\n",
              "        const buttonEl =\n",
              "          document.querySelector('#df-1dd6ca79-ccb6-4207-a52b-b5992d07d396 button.colab-df-convert');\n",
              "        buttonEl.style.display =\n",
              "          google.colab.kernel.accessAllowed ? 'block' : 'none';\n",
              "\n",
              "        async function convertToInteractive(key) {\n",
              "          const element = document.querySelector('#df-1dd6ca79-ccb6-4207-a52b-b5992d07d396');\n",
              "          const dataTable =\n",
              "            await google.colab.kernel.invokeFunction('convertToInteractive',\n",
              "                                                     [key], {});\n",
              "          if (!dataTable) return;\n",
              "\n",
              "          const docLinkHtml = 'Like what you see? Visit the ' +\n",
              "            '<a target=\"_blank\" href=https://colab.research.google.com/notebooks/data_table.ipynb>data table notebook</a>'\n",
              "            + ' to learn more about interactive tables.';\n",
              "          element.innerHTML = '';\n",
              "          dataTable['output_type'] = 'display_data';\n",
              "          await google.colab.output.renderOutput(dataTable, element);\n",
              "          const docLink = document.createElement('div');\n",
              "          docLink.innerHTML = docLinkHtml;\n",
              "          element.appendChild(docLink);\n",
              "        }\n",
              "      </script>\n",
              "    </div>\n",
              "  </div>\n",
              "  "
            ]
          },
          "metadata": {},
          "execution_count": 53
        }
      ]
    },
    {
      "cell_type": "code",
      "metadata": {
        "id": "yfRMjxopoIuG",
        "outputId": "a2fb1002-3f68-4e18-d4ac-32c5b338d67d",
        "colab": {
          "base_uri": "https://localhost:8080/"
        }
      },
      "source": [
        "(train_df.director.value_counts() >= 2).sum()"
      ],
      "execution_count": 54,
      "outputs": [
        {
          "output_type": "execute_result",
          "data": {
            "text/plain": [
              "32745"
            ]
          },
          "metadata": {},
          "execution_count": 54
        }
      ]
    },
    {
      "cell_type": "markdown",
      "metadata": {
        "id": "Bdf_FCI8oIuI"
      },
      "source": [
        "### Transformer & experiments"
      ]
    },
    {
      "cell_type": "code",
      "metadata": {
        "id": "Ic979R6foIuJ"
      },
      "source": [
        "from collections import Counter\n",
        "\n",
        "class DirectorFeatures(BaseEstimator, TransformerMixin):\n",
        "    def __init__(self, min_cnt_movies = 2):\n",
        "        self.min_cnt_movies = min_cnt_movies\n",
        "        \n",
        "    def fit(self, X, y): \n",
        "        # Llevamos las cosas de nuevo a un DataFrame y calculamos features por director\n",
        "        directors_stats = (\n",
        "            pd.DataFrame(X)\n",
        "                .groupby('director')\n",
        "                .agg(\n",
        "                    n_films=('tconst', 'count'),\n",
        "                    min_rating=('averageRating', 'min'),\n",
        "                    avg_rating=('averageRating', 'mean'),\n",
        "                    max_rating=('averageRating', 'max'),\n",
        "                    min_votes=('numVotes', 'min'),\n",
        "                    avg_votes=('numVotes', 'mean'),\n",
        "                    max_votes=('numVotes', 'max'),\n",
        "            )\n",
        "        )\n",
        "\n",
        "        # Guardamos las estadisticas\n",
        "        self.directors_stats_ = directors_stats\n",
        "\n",
        "        # Diccionario con los datos para los directores comunes\n",
        "        self.directors_stats_lk_ = (\n",
        "            directors_stats[directors_stats.n_films >= self.min_cnt_movies].to_dict(orient='index')\n",
        "        )\n",
        "\n",
        "        # Valor default para los que consideramos que tenemos demasiado poca data\n",
        "        self.default_ = directors_stats[directors_stats.n_films < self.min_cnt_movies].mean(0).to_dict()\n",
        "        if self.min_cnt_movies > 1:\n",
        "            self.default_ = directors_stats[directors_stats.n_films < self.min_cnt_movies].mean(0).to_dict()\n",
        "        else:\n",
        "            self.default_ = directors_stats.mean(0).to_dict()\n",
        "        return self\n",
        "\n",
        "    def transform(self, X):\n",
        "        res = []\n",
        "        for e in X:\n",
        "            if e['director'] in self.directors_stats_lk_:\n",
        "                res.append(self.directors_stats_lk_[e['director']])\n",
        "            else:\n",
        "                res.append(self.default_)\n",
        "        return res            "
      ],
      "execution_count": 55,
      "outputs": []
    },
    {
      "cell_type": "code",
      "metadata": {
        "id": "_1b6_fbioIuL"
      },
      "source": [
        "train_docs = train_df.to_dict(orient='records')\n",
        "test_docs = test_df.to_dict(orient='records')"
      ],
      "execution_count": 56,
      "outputs": []
    },
    {
      "cell_type": "code",
      "metadata": {
        "id": "RXiy3W78tF0x",
        "outputId": "f10f074d-e6fe-4205-efda-104bcbb45829",
        "colab": {
          "base_uri": "https://localhost:8080/"
        }
      },
      "source": [
        "# Lo importante de estandarizar las variables con una regresion logistica!\n",
        "pipe = make_pipeline(\n",
        "    DirectorFeatures(), DictVectorizer(sparse=False), LogisticRegression()\n",
        ")\n",
        "\n",
        "pipe.fit(train_docs, y_train);\n",
        "test_pipe(pipe)"
      ],
      "execution_count": 57,
      "outputs": [
        {
          "output_type": "execute_result",
          "data": {
            "text/plain": [
              "{'test_auc': 0.44471192882750976, 'train_auc': 0.29460959513538126}"
            ]
          },
          "metadata": {},
          "execution_count": 57
        }
      ]
    },
    {
      "cell_type": "code",
      "metadata": {
        "id": "LsIjO-m2oIuM",
        "outputId": "14eac0c0-5d71-4016-bd65-f0132f961634",
        "colab": {
          "base_uri": "https://localhost:8080/"
        }
      },
      "source": [
        "# Lo mismo, standarizando\n",
        "pipe = make_pipeline(\n",
        "    DirectorFeatures(), DictVectorizer(sparse=False), StandardScaler(), LogisticRegression()\n",
        ")\n",
        "\n",
        "pipe.fit(train_docs, y_train)\n",
        "test_pipe(pipe)"
      ],
      "execution_count": 58,
      "outputs": [
        {
          "output_type": "execute_result",
          "data": {
            "text/plain": [
              "{'test_auc': 0.5944648286349058, 'train_auc': 0.77298639547835}"
            ]
          },
          "metadata": {},
          "execution_count": 58
        }
      ]
    },
    {
      "cell_type": "code",
      "metadata": {
        "id": "761nGlWHoIuS",
        "outputId": "717d4614-d205-44d5-862e-21a282bcde56",
        "colab": {
          "base_uri": "https://localhost:8080/"
        }
      },
      "source": [
        "# Juntamos todas las features\n",
        "\n",
        "from sklearn.pipeline import make_union\n",
        "\n",
        "pipe = make_pipeline(\n",
        "    make_union(\n",
        "        make_pipeline(YearsAgo(), DictVectorizer(sparse=False)),\n",
        "        make_pipeline(GenreDummies(), DictVectorizer(sparse=False)),\n",
        "        make_pipeline(DirectorFeatures(min_cnt_movies=4), DictVectorizer(sparse=False))\n",
        "    ),\n",
        "    StandardScaler(),\n",
        "    LogisticRegression()\n",
        ")\n",
        "pipe.fit(train_docs, y_train)\n",
        "test_pipe(pipe)"
      ],
      "execution_count": 59,
      "outputs": [
        {
          "output_type": "execute_result",
          "data": {
            "text/plain": [
              "{'test_auc': 0.7162545784472918, 'train_auc': 0.7955423099675137}"
            ]
          },
          "metadata": {},
          "execution_count": 59
        }
      ]
    },
    {
      "cell_type": "markdown",
      "metadata": {
        "id": "Vn4Z7ZvjoIuX"
      },
      "source": [
        "# Para seguir\n",
        "\n",
        "* Como podes explotar aún mas el cast and crew?\n",
        "* Como podes manejar el caso donde no sabemos mucho sobre el director? Esta bien min_count=2? debería ser mayor? menor?\n",
        "* Qué otras familias de modelos no-lineales podemos probar?"
      ]
    }
  ]
}