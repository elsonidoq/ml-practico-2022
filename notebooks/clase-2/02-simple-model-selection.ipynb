{
 "cells": [
  {
   "cell_type": "markdown",
   "metadata": {},
   "source": [
    "# Levantamos la data"
   ]
  },
  {
   "cell_type": "code",
   "execution_count": 3,
   "metadata": {},
   "outputs": [],
   "source": [
    "from sklearn.datasets import load_diabetes\n",
    "from sklearn.model_selection import train_test_split\n",
    "from sklearn.tree import DecisionTreeRegressor\n",
    "from sklearn.metrics import accuracy_score, mean_squared_error"
   ]
  },
  {
   "cell_type": "code",
   "execution_count": 4,
   "metadata": {},
   "outputs": [
    {
     "data": {
      "text/plain": [
       "(442, 10)"
      ]
     },
     "execution_count": 4,
     "metadata": {},
     "output_type": "execute_result"
    }
   ],
   "source": [
    "X, y = load_diabetes(return_X_y=True)\n",
    "X_train, X_test, y_train, y_test = train_test_split(X, y)\n",
    "\n",
    "X.shape"
   ]
  },
  {
   "cell_type": "markdown",
   "metadata": {},
   "source": [
    "# Grid search sencillo"
   ]
  },
  {
   "cell_type": "code",
   "execution_count": 93,
   "metadata": {},
   "outputs": [],
   "source": [
    "import math\n",
    "\n",
    "experiment_results = []\n",
    "\n",
    "# Exploramos el espacio de búsqueda con estos 2 for\n",
    "for max_depth in [3, 5, 10, None]:\n",
    "    for min_samples_split in [2, 10, 30, 100]:\n",
    "        # Instanciamos el modelo\n",
    "        model = DecisionTreeRegressor(max_depth=max_depth, min_samples_split=min_samples_split)\n",
    "        \n",
    "        # Lo ajustamos\n",
    "        model.fit(X_train, y_train)\n",
    "        \n",
    "        # Registramos el resultado del experimento\n",
    "        experiment_results.append(\n",
    "            {\n",
    "                'max_depth': max_depth, 'min_samples_split': min_samples_split,\n",
    "                'model_complexity': model.get_n_leaves(), \n",
    "                'tr_err': math.sqrt(mean_squared_error(y_train, model.predict(X_train))),\n",
    "                'te_err': math.sqrt(mean_squared_error(y_test, model.predict(X_test)))\n",
    "            }\n",
    "        )"
   ]
  },
  {
   "cell_type": "code",
   "execution_count": 94,
   "metadata": {},
   "outputs": [
    {
     "data": {
      "text/html": [
       "<div>\n",
       "<style scoped>\n",
       "    .dataframe tbody tr th:only-of-type {\n",
       "        vertical-align: middle;\n",
       "    }\n",
       "\n",
       "    .dataframe tbody tr th {\n",
       "        vertical-align: top;\n",
       "    }\n",
       "\n",
       "    .dataframe thead th {\n",
       "        text-align: right;\n",
       "    }\n",
       "</style>\n",
       "<table border=\"1\" class=\"dataframe\">\n",
       "  <thead>\n",
       "    <tr style=\"text-align: right;\">\n",
       "      <th></th>\n",
       "      <th>max_depth</th>\n",
       "      <th>min_samples_split</th>\n",
       "      <th>model_complexity</th>\n",
       "      <th>tr_err</th>\n",
       "      <th>te_err</th>\n",
       "    </tr>\n",
       "  </thead>\n",
       "  <tbody>\n",
       "    <tr>\n",
       "      <th>0</th>\n",
       "      <td>3.0</td>\n",
       "      <td>2</td>\n",
       "      <td>8</td>\n",
       "      <td>52.453562</td>\n",
       "      <td>69.259536</td>\n",
       "    </tr>\n",
       "    <tr>\n",
       "      <th>1</th>\n",
       "      <td>3.0</td>\n",
       "      <td>10</td>\n",
       "      <td>8</td>\n",
       "      <td>52.453562</td>\n",
       "      <td>69.259536</td>\n",
       "    </tr>\n",
       "    <tr>\n",
       "      <th>2</th>\n",
       "      <td>3.0</td>\n",
       "      <td>30</td>\n",
       "      <td>8</td>\n",
       "      <td>52.453562</td>\n",
       "      <td>69.259536</td>\n",
       "    </tr>\n",
       "    <tr>\n",
       "      <th>3</th>\n",
       "      <td>3.0</td>\n",
       "      <td>100</td>\n",
       "      <td>5</td>\n",
       "      <td>56.326919</td>\n",
       "      <td>63.078953</td>\n",
       "    </tr>\n",
       "    <tr>\n",
       "      <th>4</th>\n",
       "      <td>5.0</td>\n",
       "      <td>2</td>\n",
       "      <td>30</td>\n",
       "      <td>42.487744</td>\n",
       "      <td>75.944493</td>\n",
       "    </tr>\n",
       "    <tr>\n",
       "      <th>5</th>\n",
       "      <td>5.0</td>\n",
       "      <td>10</td>\n",
       "      <td>22</td>\n",
       "      <td>43.575495</td>\n",
       "      <td>75.426305</td>\n",
       "    </tr>\n",
       "    <tr>\n",
       "      <th>6</th>\n",
       "      <td>5.0</td>\n",
       "      <td>30</td>\n",
       "      <td>19</td>\n",
       "      <td>45.475606</td>\n",
       "      <td>73.277466</td>\n",
       "    </tr>\n",
       "    <tr>\n",
       "      <th>7</th>\n",
       "      <td>5.0</td>\n",
       "      <td>100</td>\n",
       "      <td>5</td>\n",
       "      <td>56.326919</td>\n",
       "      <td>63.078953</td>\n",
       "    </tr>\n",
       "    <tr>\n",
       "      <th>8</th>\n",
       "      <td>10.0</td>\n",
       "      <td>2</td>\n",
       "      <td>207</td>\n",
       "      <td>11.730348</td>\n",
       "      <td>85.191033</td>\n",
       "    </tr>\n",
       "    <tr>\n",
       "      <th>9</th>\n",
       "      <td>10.0</td>\n",
       "      <td>10</td>\n",
       "      <td>64</td>\n",
       "      <td>27.864713</td>\n",
       "      <td>85.828300</td>\n",
       "    </tr>\n",
       "    <tr>\n",
       "      <th>10</th>\n",
       "      <td>10.0</td>\n",
       "      <td>30</td>\n",
       "      <td>27</td>\n",
       "      <td>42.719364</td>\n",
       "      <td>75.762593</td>\n",
       "    </tr>\n",
       "    <tr>\n",
       "      <th>11</th>\n",
       "      <td>10.0</td>\n",
       "      <td>100</td>\n",
       "      <td>5</td>\n",
       "      <td>56.326919</td>\n",
       "      <td>63.078953</td>\n",
       "    </tr>\n",
       "    <tr>\n",
       "      <th>12</th>\n",
       "      <td>NaN</td>\n",
       "      <td>2</td>\n",
       "      <td>322</td>\n",
       "      <td>0.000000</td>\n",
       "      <td>86.550407</td>\n",
       "    </tr>\n",
       "    <tr>\n",
       "      <th>13</th>\n",
       "      <td>NaN</td>\n",
       "      <td>10</td>\n",
       "      <td>70</td>\n",
       "      <td>27.341636</td>\n",
       "      <td>86.153315</td>\n",
       "    </tr>\n",
       "    <tr>\n",
       "      <th>14</th>\n",
       "      <td>NaN</td>\n",
       "      <td>30</td>\n",
       "      <td>27</td>\n",
       "      <td>42.719364</td>\n",
       "      <td>76.878441</td>\n",
       "    </tr>\n",
       "    <tr>\n",
       "      <th>15</th>\n",
       "      <td>NaN</td>\n",
       "      <td>100</td>\n",
       "      <td>5</td>\n",
       "      <td>56.326919</td>\n",
       "      <td>63.078953</td>\n",
       "    </tr>\n",
       "  </tbody>\n",
       "</table>\n",
       "</div>"
      ],
      "text/plain": [
       "    max_depth  min_samples_split  model_complexity     tr_err     te_err\n",
       "0         3.0                  2                 8  52.453562  69.259536\n",
       "1         3.0                 10                 8  52.453562  69.259536\n",
       "2         3.0                 30                 8  52.453562  69.259536\n",
       "3         3.0                100                 5  56.326919  63.078953\n",
       "4         5.0                  2                30  42.487744  75.944493\n",
       "5         5.0                 10                22  43.575495  75.426305\n",
       "6         5.0                 30                19  45.475606  73.277466\n",
       "7         5.0                100                 5  56.326919  63.078953\n",
       "8        10.0                  2               207  11.730348  85.191033\n",
       "9        10.0                 10                64  27.864713  85.828300\n",
       "10       10.0                 30                27  42.719364  75.762593\n",
       "11       10.0                100                 5  56.326919  63.078953\n",
       "12        NaN                  2               322   0.000000  86.550407\n",
       "13        NaN                 10                70  27.341636  86.153315\n",
       "14        NaN                 30                27  42.719364  76.878441\n",
       "15        NaN                100                 5  56.326919  63.078953"
      ]
     },
     "execution_count": 94,
     "metadata": {},
     "output_type": "execute_result"
    }
   ],
   "source": [
    "import pandas as pd\n",
    "\n",
    "# Convertimos los resultados en un dataframe\n",
    "experiment_results = pd.DataFrame(experiment_results)\n",
    "\n",
    "experiment_results"
   ]
  },
  {
   "cell_type": "markdown",
   "metadata": {},
   "source": [
    "## Visualizamos un scatter plot de los modelos que probamos\n",
    "\n",
    "Cada bolita es un modelo\n",
    "\n",
    "* Eje x: training error\n",
    "* Eje y: test error\n",
    "* Color: model complexity\n",
    "* A la izquierda estan los modelos que ajustaron perfecto el trainingset, de complejidad alta\n",
    "* A la derecha los de complejidad mas baja que no ajustaron perfecto al trainingset"
   ]
  },
  {
   "cell_type": "code",
   "execution_count": 95,
   "metadata": {},
   "outputs": [
    {
     "data": {
      "text/plain": [
       "Text(0.5, 1.0, 'training vs test error, color = model complexity')"
      ]
     },
     "execution_count": 95,
     "metadata": {},
     "output_type": "execute_result"
    },
    {
     "data": {
      "image/png": "[encoded data removed]",
      "text/plain": [
       "<Figure size 432x288 with 2 Axes>"
      ]
     },
     "metadata": {
      "needs_background": "light"
     },
     "output_type": "display_data"
    }
   ],
   "source": [
    "import matplotlib.pyplot as plt\n",
    "\n",
    "plt.set_cmap('RdBu')\n",
    "ax = plt.scatter(experiment_results.tr_err, experiment_results.te_err, c=experiment_results.model_complexity)\n",
    "plt.colorbar(ax)\n",
    "plt.xlabel('training error')\n",
    "plt.ylabel('test error')\n",
    "plt.title('training vs test error, color = model complexity')"
   ]
  },
  {
   "cell_type": "markdown",
   "metadata": {},
   "source": [
    "# Grid search usando scikit learn\n",
    "\n",
    "Cuando tenemos mas hyperparametros, ese for anidado se puede tornar incómodo.\n",
    "\n",
    "En lugar de escribirlo, podemos utilizar ParameterGrid de scikit-learn"
   ]
  },
  {
   "cell_type": "code",
   "execution_count": 20,
   "metadata": {},
   "outputs": [
    {
     "data": {
      "text/plain": [
       "[{'max_depth': 3, 'min_samples_split': 2},\n",
       " {'max_depth': 3, 'min_samples_split': 10},\n",
       " {'max_depth': 3, 'min_samples_split': 30},\n",
       " {'max_depth': 3, 'min_samples_split': 100},\n",
       " {'max_depth': 5, 'min_samples_split': 2},\n",
       " {'max_depth': 5, 'min_samples_split': 10},\n",
       " {'max_depth': 5, 'min_samples_split': 30},\n",
       " {'max_depth': 5, 'min_samples_split': 100},\n",
       " {'max_depth': 10, 'min_samples_split': 2},\n",
       " {'max_depth': 10, 'min_samples_split': 10},\n",
       " {'max_depth': 10, 'min_samples_split': 30},\n",
       " {'max_depth': 10, 'min_samples_split': 100},\n",
       " {'max_depth': None, 'min_samples_split': 2},\n",
       " {'max_depth': None, 'min_samples_split': 10},\n",
       " {'max_depth': None, 'min_samples_split': 30},\n",
       " {'max_depth': None, 'min_samples_split': 100}]"
      ]
     },
     "execution_count": 20,
     "metadata": {},
     "output_type": "execute_result"
    }
   ],
   "source": [
    "from sklearn.model_selection import ParameterGrid\n",
    "\n",
    "grid = ParameterGrid(\n",
    "    {\n",
    "        'max_depth': [3, 5, 10, None],\n",
    "        'min_samples_split': [2, 10, 30, 100]\n",
    "    }\n",
    ")\n",
    "list(grid)"
   ]
  },
  {
   "cell_type": "code",
   "execution_count": 96,
   "metadata": {},
   "outputs": [],
   "source": [
    "def evaluate_model(params):\n",
    "    # Notar que esta funcion es escencialmente el cuerpo del for anidado de antes\n",
    "    model = DecisionTreeRegressor(max_depth=params['max_depth'], min_samples_split=params['min_samples_split'])\n",
    "    model.fit(X_train, y_train)\n",
    "    return {\n",
    "        'max_depth': params['max_depth'], 'min_samples_split': params['min_samples_split'],\n",
    "        'model_complexity': model.get_n_leaves(), \n",
    "        'tr_err': math.sqrt(mean_squared_error(y_train, model.predict(X_train))),\n",
    "        'te_err': math.sqrt(mean_squared_error(y_test, model.predict(X_test)))\n",
    "    }\n",
    "\n",
    "experiment_results = []\n",
    "for params in grid:\n",
    "    experiment_results.append(evaluate_model(params))\n",
    "    "
   ]
  },
  {
   "cell_type": "code",
   "execution_count": 98,
   "metadata": {},
   "outputs": [
    {
     "data": {
      "text/html": [
       "<div>\n",
       "<style scoped>\n",
       "    .dataframe tbody tr th:only-of-type {\n",
       "        vertical-align: middle;\n",
       "    }\n",
       "\n",
       "    .dataframe tbody tr th {\n",
       "        vertical-align: top;\n",
       "    }\n",
       "\n",
       "    .dataframe thead th {\n",
       "        text-align: right;\n",
       "    }\n",
       "</style>\n",
       "<table border=\"1\" class=\"dataframe\">\n",
       "  <thead>\n",
       "    <tr style=\"text-align: right;\">\n",
       "      <th></th>\n",
       "      <th>max_depth</th>\n",
       "      <th>min_samples_split</th>\n",
       "      <th>model_complexity</th>\n",
       "      <th>tr_err</th>\n",
       "      <th>te_err</th>\n",
       "    </tr>\n",
       "  </thead>\n",
       "  <tbody>\n",
       "    <tr>\n",
       "      <th>0</th>\n",
       "      <td>3.0</td>\n",
       "      <td>2</td>\n",
       "      <td>8</td>\n",
       "      <td>52.453562</td>\n",
       "      <td>69.259536</td>\n",
       "    </tr>\n",
       "    <tr>\n",
       "      <th>1</th>\n",
       "      <td>3.0</td>\n",
       "      <td>10</td>\n",
       "      <td>8</td>\n",
       "      <td>52.453562</td>\n",
       "      <td>69.259536</td>\n",
       "    </tr>\n",
       "    <tr>\n",
       "      <th>2</th>\n",
       "      <td>3.0</td>\n",
       "      <td>30</td>\n",
       "      <td>8</td>\n",
       "      <td>52.453562</td>\n",
       "      <td>69.259536</td>\n",
       "    </tr>\n",
       "    <tr>\n",
       "      <th>3</th>\n",
       "      <td>3.0</td>\n",
       "      <td>100</td>\n",
       "      <td>5</td>\n",
       "      <td>56.326919</td>\n",
       "      <td>63.078953</td>\n",
       "    </tr>\n",
       "    <tr>\n",
       "      <th>4</th>\n",
       "      <td>5.0</td>\n",
       "      <td>2</td>\n",
       "      <td>30</td>\n",
       "      <td>42.487744</td>\n",
       "      <td>74.594758</td>\n",
       "    </tr>\n",
       "    <tr>\n",
       "      <th>5</th>\n",
       "      <td>5.0</td>\n",
       "      <td>10</td>\n",
       "      <td>22</td>\n",
       "      <td>43.575495</td>\n",
       "      <td>74.313807</td>\n",
       "    </tr>\n",
       "    <tr>\n",
       "      <th>6</th>\n",
       "      <td>5.0</td>\n",
       "      <td>30</td>\n",
       "      <td>19</td>\n",
       "      <td>45.475606</td>\n",
       "      <td>72.131834</td>\n",
       "    </tr>\n",
       "    <tr>\n",
       "      <th>7</th>\n",
       "      <td>5.0</td>\n",
       "      <td>100</td>\n",
       "      <td>5</td>\n",
       "      <td>56.326919</td>\n",
       "      <td>63.078953</td>\n",
       "    </tr>\n",
       "    <tr>\n",
       "      <th>8</th>\n",
       "      <td>10.0</td>\n",
       "      <td>2</td>\n",
       "      <td>207</td>\n",
       "      <td>11.730348</td>\n",
       "      <td>89.983094</td>\n",
       "    </tr>\n",
       "    <tr>\n",
       "      <th>9</th>\n",
       "      <td>10.0</td>\n",
       "      <td>10</td>\n",
       "      <td>64</td>\n",
       "      <td>27.864713</td>\n",
       "      <td>85.828300</td>\n",
       "    </tr>\n",
       "    <tr>\n",
       "      <th>10</th>\n",
       "      <td>10.0</td>\n",
       "      <td>30</td>\n",
       "      <td>27</td>\n",
       "      <td>42.719364</td>\n",
       "      <td>76.878441</td>\n",
       "    </tr>\n",
       "    <tr>\n",
       "      <th>11</th>\n",
       "      <td>10.0</td>\n",
       "      <td>100</td>\n",
       "      <td>5</td>\n",
       "      <td>56.326919</td>\n",
       "      <td>63.078953</td>\n",
       "    </tr>\n",
       "    <tr>\n",
       "      <th>12</th>\n",
       "      <td>NaN</td>\n",
       "      <td>2</td>\n",
       "      <td>322</td>\n",
       "      <td>0.000000</td>\n",
       "      <td>92.668352</td>\n",
       "    </tr>\n",
       "    <tr>\n",
       "      <th>13</th>\n",
       "      <td>NaN</td>\n",
       "      <td>10</td>\n",
       "      <td>70</td>\n",
       "      <td>27.341636</td>\n",
       "      <td>86.153315</td>\n",
       "    </tr>\n",
       "    <tr>\n",
       "      <th>14</th>\n",
       "      <td>NaN</td>\n",
       "      <td>30</td>\n",
       "      <td>27</td>\n",
       "      <td>42.719364</td>\n",
       "      <td>76.878441</td>\n",
       "    </tr>\n",
       "    <tr>\n",
       "      <th>15</th>\n",
       "      <td>NaN</td>\n",
       "      <td>100</td>\n",
       "      <td>5</td>\n",
       "      <td>56.326919</td>\n",
       "      <td>63.078953</td>\n",
       "    </tr>\n",
       "  </tbody>\n",
       "</table>\n",
       "</div>"
      ],
      "text/plain": [
       "    max_depth  min_samples_split  model_complexity     tr_err     te_err\n",
       "0         3.0                  2                 8  52.453562  69.259536\n",
       "1         3.0                 10                 8  52.453562  69.259536\n",
       "2         3.0                 30                 8  52.453562  69.259536\n",
       "3         3.0                100                 5  56.326919  63.078953\n",
       "4         5.0                  2                30  42.487744  74.594758\n",
       "5         5.0                 10                22  43.575495  74.313807\n",
       "6         5.0                 30                19  45.475606  72.131834\n",
       "7         5.0                100                 5  56.326919  63.078953\n",
       "8        10.0                  2               207  11.730348  89.983094\n",
       "9        10.0                 10                64  27.864713  85.828300\n",
       "10       10.0                 30                27  42.719364  76.878441\n",
       "11       10.0                100                 5  56.326919  63.078953\n",
       "12        NaN                  2               322   0.000000  92.668352\n",
       "13        NaN                 10                70  27.341636  86.153315\n",
       "14        NaN                 30                27  42.719364  76.878441\n",
       "15        NaN                100                 5  56.326919  63.078953"
      ]
     },
     "execution_count": 98,
     "metadata": {},
     "output_type": "execute_result"
    }
   ],
   "source": [
    "pd.DataFrame(experiment_results)"
   ]
  },
  {
   "cell_type": "markdown",
   "metadata": {},
   "source": [
    "# Hyperopt\n",
    "\n",
    "Ahora vamos a ver como podemos utilizar hyperopt"
   ]
  },
  {
   "cell_type": "code",
   "execution_count": 101,
   "metadata": {},
   "outputs": [
    {
     "name": "stdout",
     "output_type": "stream",
     "text": [
      "100%|██████████| 16/16 [00:00<00:00, 130.72trial/s, best loss: 63.07895344878453]\n"
     ]
    }
   ],
   "source": [
    "from hyperopt import fmin, tpe, hp, STATUS_OK, Trials\n",
    "\n",
    "def objective(params):\n",
    "    # Tenemos que hacer una adaptacion a nuestra funcion evaluate_model para que funcione con hyperopt\n",
    "    if params['min_samples_split'] is not None:\n",
    "        params['min_samples_split'] = int(params['min_samples_split'])\n",
    "        \n",
    "    res = evaluate_model(params)\n",
    "    \n",
    "    res['loss'] = res['te_err'] # Esta loss es la que hyperopt intenta minimizar\n",
    "    res['status'] = STATUS_OK # Asi le decimos a hyperopt que el experimento salio bien\n",
    "    return res \n",
    "\n",
    "# Este espacio es una copia del grid search, no estamos dando mucha información en este prior\n",
    "hyperparameter_space = {\n",
    "    'max_depth': hp.choice('max_depth', [3, 5, 10, None]),\n",
    "    'min_samples_split': hp.choice('min_samples_split', [2, 10, 30, 100]),\n",
    "}\n",
    "\n",
    "trials = Trials()\n",
    "fmin(\n",
    "    objective,\n",
    "    space=hyperparameter_space,\n",
    "    algo=tpe.suggest,\n",
    "    max_evals=16,\n",
    "    trials=trials\n",
    ");"
   ]
  },
  {
   "cell_type": "code",
   "execution_count": 102,
   "metadata": {},
   "outputs": [
    {
     "data": {
      "text/plain": [
       "[<matplotlib.lines.Line2D at 0x129c99f40>]"
      ]
     },
     "execution_count": 102,
     "metadata": {},
     "output_type": "execute_result"
    },
    {
     "data": {
      "image/png": "[encoded data removed]",
      "text/plain": [
       "<Figure size 432x288 with 1 Axes>"
      ]
     },
     "metadata": {
      "needs_background": "light"
     },
     "output_type": "display_data"
    }
   ],
   "source": [
    "# El espacio de búsqueda es muy pequeño, no vamos a ver una tendencia aqui\n",
    "plt.plot(trials.losses())"
   ]
  },
  {
   "cell_type": "code",
   "execution_count": 103,
   "metadata": {},
   "outputs": [
    {
     "data": {
      "text/html": [
       "<div>\n",
       "<style scoped>\n",
       "    .dataframe tbody tr th:only-of-type {\n",
       "        vertical-align: middle;\n",
       "    }\n",
       "\n",
       "    .dataframe tbody tr th {\n",
       "        vertical-align: top;\n",
       "    }\n",
       "\n",
       "    .dataframe thead th {\n",
       "        text-align: right;\n",
       "    }\n",
       "</style>\n",
       "<table border=\"1\" class=\"dataframe\">\n",
       "  <thead>\n",
       "    <tr style=\"text-align: right;\">\n",
       "      <th></th>\n",
       "      <th>max_depth</th>\n",
       "      <th>min_samples_split</th>\n",
       "      <th>model_complexity</th>\n",
       "      <th>tr_err</th>\n",
       "      <th>te_err</th>\n",
       "      <th>loss</th>\n",
       "      <th>status</th>\n",
       "    </tr>\n",
       "  </thead>\n",
       "  <tbody>\n",
       "    <tr>\n",
       "      <th>0</th>\n",
       "      <td>3.0</td>\n",
       "      <td>100</td>\n",
       "      <td>5</td>\n",
       "      <td>56.326919</td>\n",
       "      <td>63.078953</td>\n",
       "      <td>63.078953</td>\n",
       "      <td>ok</td>\n",
       "    </tr>\n",
       "    <tr>\n",
       "      <th>1</th>\n",
       "      <td>10.0</td>\n",
       "      <td>10</td>\n",
       "      <td>64</td>\n",
       "      <td>27.864713</td>\n",
       "      <td>85.828300</td>\n",
       "      <td>85.828300</td>\n",
       "      <td>ok</td>\n",
       "    </tr>\n",
       "    <tr>\n",
       "      <th>2</th>\n",
       "      <td>10.0</td>\n",
       "      <td>10</td>\n",
       "      <td>64</td>\n",
       "      <td>27.864713</td>\n",
       "      <td>85.828300</td>\n",
       "      <td>85.828300</td>\n",
       "      <td>ok</td>\n",
       "    </tr>\n",
       "    <tr>\n",
       "      <th>3</th>\n",
       "      <td>3.0</td>\n",
       "      <td>10</td>\n",
       "      <td>8</td>\n",
       "      <td>52.453562</td>\n",
       "      <td>69.259536</td>\n",
       "      <td>69.259536</td>\n",
       "      <td>ok</td>\n",
       "    </tr>\n",
       "    <tr>\n",
       "      <th>4</th>\n",
       "      <td>3.0</td>\n",
       "      <td>10</td>\n",
       "      <td>8</td>\n",
       "      <td>52.453562</td>\n",
       "      <td>69.259536</td>\n",
       "      <td>69.259536</td>\n",
       "      <td>ok</td>\n",
       "    </tr>\n",
       "    <tr>\n",
       "      <th>5</th>\n",
       "      <td>5.0</td>\n",
       "      <td>2</td>\n",
       "      <td>30</td>\n",
       "      <td>42.487744</td>\n",
       "      <td>74.781153</td>\n",
       "      <td>74.781153</td>\n",
       "      <td>ok</td>\n",
       "    </tr>\n",
       "    <tr>\n",
       "      <th>6</th>\n",
       "      <td>5.0</td>\n",
       "      <td>100</td>\n",
       "      <td>5</td>\n",
       "      <td>56.326919</td>\n",
       "      <td>63.078953</td>\n",
       "      <td>63.078953</td>\n",
       "      <td>ok</td>\n",
       "    </tr>\n",
       "    <tr>\n",
       "      <th>7</th>\n",
       "      <td>3.0</td>\n",
       "      <td>30</td>\n",
       "      <td>8</td>\n",
       "      <td>52.453562</td>\n",
       "      <td>69.259536</td>\n",
       "      <td>69.259536</td>\n",
       "      <td>ok</td>\n",
       "    </tr>\n",
       "    <tr>\n",
       "      <th>8</th>\n",
       "      <td>5.0</td>\n",
       "      <td>10</td>\n",
       "      <td>22</td>\n",
       "      <td>43.575495</td>\n",
       "      <td>75.426305</td>\n",
       "      <td>75.426305</td>\n",
       "      <td>ok</td>\n",
       "    </tr>\n",
       "    <tr>\n",
       "      <th>9</th>\n",
       "      <td>3.0</td>\n",
       "      <td>10</td>\n",
       "      <td>8</td>\n",
       "      <td>52.453562</td>\n",
       "      <td>69.259536</td>\n",
       "      <td>69.259536</td>\n",
       "      <td>ok</td>\n",
       "    </tr>\n",
       "    <tr>\n",
       "      <th>10</th>\n",
       "      <td>10.0</td>\n",
       "      <td>2</td>\n",
       "      <td>207</td>\n",
       "      <td>11.730348</td>\n",
       "      <td>87.748713</td>\n",
       "      <td>87.748713</td>\n",
       "      <td>ok</td>\n",
       "    </tr>\n",
       "    <tr>\n",
       "      <th>11</th>\n",
       "      <td>3.0</td>\n",
       "      <td>2</td>\n",
       "      <td>8</td>\n",
       "      <td>52.453562</td>\n",
       "      <td>69.259536</td>\n",
       "      <td>69.259536</td>\n",
       "      <td>ok</td>\n",
       "    </tr>\n",
       "    <tr>\n",
       "      <th>12</th>\n",
       "      <td>NaN</td>\n",
       "      <td>100</td>\n",
       "      <td>5</td>\n",
       "      <td>56.326919</td>\n",
       "      <td>63.078953</td>\n",
       "      <td>63.078953</td>\n",
       "      <td>ok</td>\n",
       "    </tr>\n",
       "    <tr>\n",
       "      <th>13</th>\n",
       "      <td>NaN</td>\n",
       "      <td>100</td>\n",
       "      <td>5</td>\n",
       "      <td>56.326919</td>\n",
       "      <td>63.078953</td>\n",
       "      <td>63.078953</td>\n",
       "      <td>ok</td>\n",
       "    </tr>\n",
       "    <tr>\n",
       "      <th>14</th>\n",
       "      <td>3.0</td>\n",
       "      <td>10</td>\n",
       "      <td>8</td>\n",
       "      <td>52.453562</td>\n",
       "      <td>69.259536</td>\n",
       "      <td>69.259536</td>\n",
       "      <td>ok</td>\n",
       "    </tr>\n",
       "    <tr>\n",
       "      <th>15</th>\n",
       "      <td>10.0</td>\n",
       "      <td>2</td>\n",
       "      <td>207</td>\n",
       "      <td>11.730348</td>\n",
       "      <td>88.592020</td>\n",
       "      <td>88.592020</td>\n",
       "      <td>ok</td>\n",
       "    </tr>\n",
       "  </tbody>\n",
       "</table>\n",
       "</div>"
      ],
      "text/plain": [
       "    max_depth  min_samples_split  model_complexity     tr_err     te_err  \\\n",
       "0         3.0                100                 5  56.326919  63.078953   \n",
       "1        10.0                 10                64  27.864713  85.828300   \n",
       "2        10.0                 10                64  27.864713  85.828300   \n",
       "3         3.0                 10                 8  52.453562  69.259536   \n",
       "4         3.0                 10                 8  52.453562  69.259536   \n",
       "5         5.0                  2                30  42.487744  74.781153   \n",
       "6         5.0                100                 5  56.326919  63.078953   \n",
       "7         3.0                 30                 8  52.453562  69.259536   \n",
       "8         5.0                 10                22  43.575495  75.426305   \n",
       "9         3.0                 10                 8  52.453562  69.259536   \n",
       "10       10.0                  2               207  11.730348  87.748713   \n",
       "11        3.0                  2                 8  52.453562  69.259536   \n",
       "12        NaN                100                 5  56.326919  63.078953   \n",
       "13        NaN                100                 5  56.326919  63.078953   \n",
       "14        3.0                 10                 8  52.453562  69.259536   \n",
       "15       10.0                  2               207  11.730348  88.592020   \n",
       "\n",
       "         loss status  \n",
       "0   63.078953     ok  \n",
       "1   85.828300     ok  \n",
       "2   85.828300     ok  \n",
       "3   69.259536     ok  \n",
       "4   69.259536     ok  \n",
       "5   74.781153     ok  \n",
       "6   63.078953     ok  \n",
       "7   69.259536     ok  \n",
       "8   75.426305     ok  \n",
       "9   69.259536     ok  \n",
       "10  87.748713     ok  \n",
       "11  69.259536     ok  \n",
       "12  63.078953     ok  \n",
       "13  63.078953     ok  \n",
       "14  69.259536     ok  \n",
       "15  88.592020     ok  "
      ]
     },
     "execution_count": 103,
     "metadata": {},
     "output_type": "execute_result"
    }
   ],
   "source": [
    "experiment_results = pd.DataFrame(trials.results)\n",
    "experiment_results"
   ]
  },
  {
   "cell_type": "markdown",
   "metadata": {},
   "source": [
    "### Apartado: distribuciones de hyperopt\n",
    "\n",
    "[Acá](https://github.com/hyperopt/hyperopt/wiki/FMin#21-parameter-expressions) podes ver todas las distribuciones que tenemos en hyperopt\n",
    "\n",
    "En este ejemplo vamos a utilizar qloguniform que es una uniforme cuantizada, que pone más densidad en los números bajos"
   ]
  },
  {
   "cell_type": "code",
   "execution_count": 112,
   "metadata": {},
   "outputs": [
    {
     "data": {
      "image/png": "[encoded data removed]",
      "text/plain": [
       "<Figure size 432x288 with 1 Axes>"
      ]
     },
     "metadata": {
      "needs_background": "light"
     },
     "output_type": "display_data"
    }
   ],
   "source": [
    "import numpy as np\n",
    "import hyperopt.pyll.stochastic\n",
    "\n",
    "variable = hp.qloguniform('test', low=np.log(1), high=np.log(1000), q=1)\n",
    "samples = [hyperopt.pyll.stochastic.sample(variable) for i in range(1000)]\n",
    "plt.hist(samples);"
   ]
  },
  {
   "cell_type": "code",
   "execution_count": 113,
   "metadata": {},
   "outputs": [
    {
     "name": "stdout",
     "output_type": "stream",
     "text": [
      "100%|██████████| 200/200 [00:03<00:00, 52.01trial/s, best loss: 62.08104849957013]\n"
     ]
    }
   ],
   "source": [
    "# Este espacio es mucho mas rico\n",
    "hyperparameter_space = {\n",
    "    'max_depth': hp.qloguniform('max_depth', low=np.log(1), high=np.log(100), q=1),\n",
    "    'min_samples_split': hp.qloguniform('min_samples_split', low=np.log(2), high=np.log(500), q=1),\n",
    "}\n",
    "\n",
    "trials = Trials()\n",
    "fmin(\n",
    "    objective,\n",
    "    space=hyperparameter_space,\n",
    "    algo=tpe.suggest,\n",
    "    max_evals=200,\n",
    "    trials=trials\n",
    ");"
   ]
  },
  {
   "cell_type": "markdown",
   "metadata": {},
   "source": [
    "Podemos graficar la loss (test error) de cada trial. \n",
    "\n",
    "De este grafico se puede ver que encuentra una configuración buena muy rapidamente y luego se queda probando otras cosas hasta cumplir los 200 experimentos"
   ]
  },
  {
   "cell_type": "code",
   "execution_count": 117,
   "metadata": {},
   "outputs": [
    {
     "data": {
      "text/plain": [
       "[<matplotlib.lines.Line2D at 0x12a220220>]"
      ]
     },
     "execution_count": 117,
     "metadata": {},
     "output_type": "execute_result"
    },
    {
     "data": {
      "image/png": "[encoded data removed]",
      "text/plain": [
       "<Figure size 432x288 with 1 Axes>"
      ]
     },
     "metadata": {
      "needs_background": "light"
     },
     "output_type": "display_data"
    }
   ],
   "source": [
    "plt.plot(trials.losses())"
   ]
  },
  {
   "cell_type": "code",
   "execution_count": 118,
   "metadata": {},
   "outputs": [
    {
     "data": {
      "text/html": [
       "<div>\n",
       "<style scoped>\n",
       "    .dataframe tbody tr th:only-of-type {\n",
       "        vertical-align: middle;\n",
       "    }\n",
       "\n",
       "    .dataframe tbody tr th {\n",
       "        vertical-align: top;\n",
       "    }\n",
       "\n",
       "    .dataframe thead th {\n",
       "        text-align: right;\n",
       "    }\n",
       "</style>\n",
       "<table border=\"1\" class=\"dataframe\">\n",
       "  <thead>\n",
       "    <tr style=\"text-align: right;\">\n",
       "      <th></th>\n",
       "      <th>max_depth</th>\n",
       "      <th>min_samples_split</th>\n",
       "      <th>model_complexity</th>\n",
       "      <th>tr_err</th>\n",
       "      <th>te_err</th>\n",
       "      <th>loss</th>\n",
       "      <th>status</th>\n",
       "    </tr>\n",
       "  </thead>\n",
       "  <tbody>\n",
       "    <tr>\n",
       "      <th>0</th>\n",
       "      <td>57.0</td>\n",
       "      <td>24</td>\n",
       "      <td>34</td>\n",
       "      <td>39.703689</td>\n",
       "      <td>77.548110</td>\n",
       "      <td>77.548110</td>\n",
       "      <td>ok</td>\n",
       "    </tr>\n",
       "    <tr>\n",
       "      <th>1</th>\n",
       "      <td>1.0</td>\n",
       "      <td>20</td>\n",
       "      <td>2</td>\n",
       "      <td>64.640306</td>\n",
       "      <td>67.780774</td>\n",
       "      <td>67.780774</td>\n",
       "      <td>ok</td>\n",
       "    </tr>\n",
       "    <tr>\n",
       "      <th>2</th>\n",
       "      <td>3.0</td>\n",
       "      <td>4</td>\n",
       "      <td>8</td>\n",
       "      <td>52.453562</td>\n",
       "      <td>69.259536</td>\n",
       "      <td>69.259536</td>\n",
       "      <td>ok</td>\n",
       "    </tr>\n",
       "    <tr>\n",
       "      <th>3</th>\n",
       "      <td>31.0</td>\n",
       "      <td>8</td>\n",
       "      <td>86</td>\n",
       "      <td>22.985497</td>\n",
       "      <td>85.202712</td>\n",
       "      <td>85.202712</td>\n",
       "      <td>ok</td>\n",
       "    </tr>\n",
       "    <tr>\n",
       "      <th>4</th>\n",
       "      <td>1.0</td>\n",
       "      <td>181</td>\n",
       "      <td>2</td>\n",
       "      <td>64.640306</td>\n",
       "      <td>67.780774</td>\n",
       "      <td>67.780774</td>\n",
       "      <td>ok</td>\n",
       "    </tr>\n",
       "    <tr>\n",
       "      <th>...</th>\n",
       "      <td>...</td>\n",
       "      <td>...</td>\n",
       "      <td>...</td>\n",
       "      <td>...</td>\n",
       "      <td>...</td>\n",
       "      <td>...</td>\n",
       "      <td>...</td>\n",
       "    </tr>\n",
       "    <tr>\n",
       "      <th>195</th>\n",
       "      <td>23.0</td>\n",
       "      <td>381</td>\n",
       "      <td>1</td>\n",
       "      <td>76.447799</td>\n",
       "      <td>78.701907</td>\n",
       "      <td>78.701907</td>\n",
       "      <td>ok</td>\n",
       "    </tr>\n",
       "    <tr>\n",
       "      <th>196</th>\n",
       "      <td>16.0</td>\n",
       "      <td>80</td>\n",
       "      <td>8</td>\n",
       "      <td>52.057470</td>\n",
       "      <td>70.753650</td>\n",
       "      <td>70.753650</td>\n",
       "      <td>ok</td>\n",
       "    </tr>\n",
       "    <tr>\n",
       "      <th>197</th>\n",
       "      <td>19.0</td>\n",
       "      <td>187</td>\n",
       "      <td>3</td>\n",
       "      <td>60.404786</td>\n",
       "      <td>62.081048</td>\n",
       "      <td>62.081048</td>\n",
       "      <td>ok</td>\n",
       "    </tr>\n",
       "    <tr>\n",
       "      <th>198</th>\n",
       "      <td>5.0</td>\n",
       "      <td>90</td>\n",
       "      <td>5</td>\n",
       "      <td>56.326919</td>\n",
       "      <td>63.078953</td>\n",
       "      <td>63.078953</td>\n",
       "      <td>ok</td>\n",
       "    </tr>\n",
       "    <tr>\n",
       "      <th>199</th>\n",
       "      <td>53.0</td>\n",
       "      <td>444</td>\n",
       "      <td>1</td>\n",
       "      <td>76.447799</td>\n",
       "      <td>78.701907</td>\n",
       "      <td>78.701907</td>\n",
       "      <td>ok</td>\n",
       "    </tr>\n",
       "  </tbody>\n",
       "</table>\n",
       "<p>200 rows × 7 columns</p>\n",
       "</div>"
      ],
      "text/plain": [
       "     max_depth  min_samples_split  model_complexity     tr_err     te_err  \\\n",
       "0         57.0                 24                34  39.703689  77.548110   \n",
       "1          1.0                 20                 2  64.640306  67.780774   \n",
       "2          3.0                  4                 8  52.453562  69.259536   \n",
       "3         31.0                  8                86  22.985497  85.202712   \n",
       "4          1.0                181                 2  64.640306  67.780774   \n",
       "..         ...                ...               ...        ...        ...   \n",
       "195       23.0                381                 1  76.447799  78.701907   \n",
       "196       16.0                 80                 8  52.057470  70.753650   \n",
       "197       19.0                187                 3  60.404786  62.081048   \n",
       "198        5.0                 90                 5  56.326919  63.078953   \n",
       "199       53.0                444                 1  76.447799  78.701907   \n",
       "\n",
       "          loss status  \n",
       "0    77.548110     ok  \n",
       "1    67.780774     ok  \n",
       "2    69.259536     ok  \n",
       "3    85.202712     ok  \n",
       "4    67.780774     ok  \n",
       "..         ...    ...  \n",
       "195  78.701907     ok  \n",
       "196  70.753650     ok  \n",
       "197  62.081048     ok  \n",
       "198  63.078953     ok  \n",
       "199  78.701907     ok  \n",
       "\n",
       "[200 rows x 7 columns]"
      ]
     },
     "execution_count": 118,
     "metadata": {},
     "output_type": "execute_result"
    }
   ],
   "source": [
    "experiment_results = pd.DataFrame(trials.results)\n",
    "experiment_results"
   ]
  },
  {
   "cell_type": "markdown",
   "metadata": {},
   "source": [
    "Si observamos el model complexity, podemos ver que no exploró muchos modelos complejos. Esto podemos atribuirlo a que los modelos complejos son muy suceptibles a overfitting y generan una loss mas alta"
   ]
  },
  {
   "cell_type": "code",
   "execution_count": 119,
   "metadata": {},
   "outputs": [
    {
     "data": {
      "text/plain": [
       "<matplotlib.axes._subplots.AxesSubplot at 0x128219310>"
      ]
     },
     "execution_count": 119,
     "metadata": {},
     "output_type": "execute_result"
    },
    {
     "data": {
      "image/png": "[encoded data removed]",
      "text/plain": [
       "<Figure size 720x288 with 2 Axes>"
      ]
     },
     "metadata": {
      "needs_background": "light"
     },
     "output_type": "display_data"
    }
   ],
   "source": [
    "plt.figure(figsize=(10,4))\n",
    "plt.subplot(121)\n",
    "experiment_results.model_complexity.plot()\n",
    "plt.subplot(122)\n",
    "experiment_results.model_complexity.plot.box()"
   ]
  },
  {
   "cell_type": "code",
   "execution_count": 120,
   "metadata": {},
   "outputs": [
    {
     "data": {
      "text/plain": [
       "Text(0, 0.5, 'test error')"
      ]
     },
     "execution_count": 120,
     "metadata": {},
     "output_type": "execute_result"
    },
    {
     "data": {
      "image/png": "[encoded data removed]",
      "text/plain": [
       "<Figure size 432x288 with 2 Axes>"
      ]
     },
     "metadata": {
      "needs_background": "light"
     },
     "output_type": "display_data"
    }
   ],
   "source": [
    "ax = plt.scatter(\n",
    "    experiment_results.tr_err, experiment_results.te_err, c=experiment_results.model_complexity, alpha=0.5\n",
    ")\n",
    "plt.colorbar(ax)\n",
    "plt.title('training vs test error. Color es model complexity')\n",
    "plt.xlabel('training error')\n",
    "plt.ylabel('test error')"
   ]
  }
 ],
 "metadata": {
  "kernelspec": {
   "display_name": "Python 3",
   "language": "python",
   "name": "python3"
  },
  "language_info": {
   "codemirror_mode": {
    "name": "ipython",
    "version": 3
   },
   "file_extension": ".py",
   "mimetype": "text/x-python",
   "name": "python",
   "nbconvert_exporter": "python",
   "pygments_lexer": "ipython3",
   "version": "3.8.3"
  }
 },
 "nbformat": 4,
 "nbformat_minor": 4
}
