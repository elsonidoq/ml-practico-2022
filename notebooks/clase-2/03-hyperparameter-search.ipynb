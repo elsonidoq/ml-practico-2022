{
  "cells": [
    {
      "cell_type": "code",
      "source": [
        "# para poder usar autosklearn mas adelante\n",
        "!apt-get install swig -y\n",
        "!pip install Cython numpy\n",
        "\n",
        "!pip install dask >=2021.12\n",
        "!pip install auto-sklearn"
      ],
      "metadata": {
        "id": "KsKjzTIC5rC8",
        "outputId": "7ff6d0b4-965b-46a0-a6b3-1508ebef575e",
        "colab": {
          "base_uri": "https://localhost:8080/",
          "height": 1000
        }
      },
      "execution_count": 14,
      "outputs": [
        {
          "output_type": "stream",
          "name": "stdout",
          "text": [
            "Reading package lists... Done\n",
            "Building dependency tree       \n",
            "Reading state information... Done\n",
            "The following package was automatically installed and is no longer required:\n",
            "  libnvidia-common-460\n",
            "Use 'apt autoremove' to remove it.\n",
            "The following additional packages will be installed:\n",
            "  swig3.0\n",
            "Suggested packages:\n",
            "  swig-doc swig-examples swig3.0-examples swig3.0-doc\n",
            "The following NEW packages will be installed:\n",
            "  swig swig3.0\n",
            "0 upgraded, 2 newly installed, 0 to remove and 49 not upgraded.\n",
            "Need to get 1,100 kB of archives.\n",
            "After this operation, 5,822 kB of additional disk space will be used.\n",
            "Get:1 http://archive.ubuntu.com/ubuntu bionic/universe amd64 swig3.0 amd64 3.0.12-1 [1,094 kB]\n",
            "Get:2 http://archive.ubuntu.com/ubuntu bionic/universe amd64 swig amd64 3.0.12-1 [6,460 B]\n",
            "Fetched 1,100 kB in 1s (1,066 kB/s)\n",
            "Selecting previously unselected package swig3.0.\n",
            "(Reading database ... 155653 files and directories currently installed.)\n",
            "Preparing to unpack .../swig3.0_3.0.12-1_amd64.deb ...\n",
            "Unpacking swig3.0 (3.0.12-1) ...\n",
            "Selecting previously unselected package swig.\n",
            "Preparing to unpack .../swig_3.0.12-1_amd64.deb ...\n",
            "Unpacking swig (3.0.12-1) ...\n",
            "Setting up swig3.0 (3.0.12-1) ...\n",
            "Setting up swig (3.0.12-1) ...\n",
            "Processing triggers for man-db (2.8.3-2ubuntu0.1) ...\n",
            "Looking in indexes: https://pypi.org/simple, https://us-python.pkg.dev/colab-wheels/public/simple/\n",
            "Requirement already satisfied: Cython in /usr/local/lib/python3.7/dist-packages (0.29.30)\n",
            "Requirement already satisfied: numpy in /usr/local/lib/python3.7/dist-packages (1.21.6)\n",
            "Looking in indexes: https://pypi.org/simple, https://us-python.pkg.dev/colab-wheels/public/simple/\n",
            "Collecting auto-sklearn\n",
            "  Downloading auto-sklearn-0.14.7.tar.gz (6.4 MB)\n",
            "\u001b[K     |████████████████████████████████| 6.4 MB 5.4 MB/s \n",
            "\u001b[?25hRequirement already satisfied: setuptools in /usr/local/lib/python3.7/dist-packages (from auto-sklearn) (57.4.0)\n",
            "Requirement already satisfied: typing_extensions in /usr/local/lib/python3.7/dist-packages (from auto-sklearn) (4.1.1)\n",
            "Collecting distro\n",
            "  Downloading distro-1.7.0-py3-none-any.whl (20 kB)\n",
            "Requirement already satisfied: numpy>=1.9.0 in /usr/local/lib/python3.7/dist-packages (from auto-sklearn) (1.21.6)\n",
            "Requirement already satisfied: scipy>=1.7.0 in /usr/local/lib/python3.7/dist-packages (from auto-sklearn) (1.7.3)\n",
            "Requirement already satisfied: joblib in /usr/local/lib/python3.7/dist-packages (from auto-sklearn) (1.1.0)\n",
            "Collecting scikit-learn<0.25.0,>=0.24.0\n",
            "  Downloading scikit_learn-0.24.2-cp37-cp37m-manylinux2010_x86_64.whl (22.3 MB)\n",
            "\u001b[K     |████████████████████████████████| 22.3 MB 208 kB/s \n",
            "\u001b[?25hCollecting dask>=2021.12\n",
            "  Downloading dask-2022.2.0-py3-none-any.whl (1.1 MB)\n",
            "\u001b[K     |████████████████████████████████| 1.1 MB 44.9 MB/s \n",
            "\u001b[?25hCollecting distributed>=2012.12\n",
            "  Downloading distributed-2022.2.0-py3-none-any.whl (837 kB)\n",
            "\u001b[K     |████████████████████████████████| 837 kB 54.9 MB/s \n",
            "\u001b[?25hRequirement already satisfied: pyyaml in /usr/local/lib/python3.7/dist-packages (from auto-sklearn) (3.13)\n",
            "Requirement already satisfied: pandas>=1.0 in /usr/local/lib/python3.7/dist-packages (from auto-sklearn) (1.3.5)\n",
            "Collecting liac-arff\n",
            "  Downloading liac-arff-2.5.0.tar.gz (13 kB)\n",
            "Requirement already satisfied: threadpoolctl in /usr/local/lib/python3.7/dist-packages (from auto-sklearn) (3.1.0)\n",
            "Collecting ConfigSpace<0.5,>=0.4.21\n",
            "  Downloading ConfigSpace-0.4.21-cp37-cp37m-manylinux_2_17_x86_64.manylinux2014_x86_64.whl (4.3 MB)\n",
            "\u001b[K     |████████████████████████████████| 4.3 MB 33.3 MB/s \n",
            "\u001b[?25hCollecting pynisher<0.7,>=0.6.3\n",
            "  Downloading pynisher-0.6.4.tar.gz (11 kB)\n",
            "Collecting pyrfr<0.9,>=0.8.1\n",
            "  Downloading pyrfr-0.8.3-cp37-cp37m-manylinux_2_17_x86_64.manylinux2014_x86_64.whl (4.4 MB)\n",
            "\u001b[K     |████████████████████████████████| 4.4 MB 31.9 MB/s \n",
            "\u001b[?25hCollecting smac<1.3,>=1.2\n",
            "  Downloading smac-1.2.tar.gz (260 kB)\n",
            "\u001b[K     |████████████████████████████████| 260 kB 56.3 MB/s \n",
            "\u001b[?25hRequirement already satisfied: pyparsing in /usr/local/lib/python3.7/dist-packages (from ConfigSpace<0.5,>=0.4.21->auto-sklearn) (3.0.9)\n",
            "Requirement already satisfied: cython in /usr/local/lib/python3.7/dist-packages (from ConfigSpace<0.5,>=0.4.21->auto-sklearn) (0.29.30)\n",
            "Collecting pyyaml\n",
            "  Downloading PyYAML-6.0-cp37-cp37m-manylinux_2_5_x86_64.manylinux1_x86_64.manylinux_2_12_x86_64.manylinux2010_x86_64.whl (596 kB)\n",
            "\u001b[K     |████████████████████████████████| 596 kB 52.9 MB/s \n",
            "\u001b[?25hRequirement already satisfied: cloudpickle>=1.1.1 in /usr/local/lib/python3.7/dist-packages (from dask>=2021.12->auto-sklearn) (1.3.0)\n",
            "Collecting partd>=0.3.10\n",
            "  Downloading partd-1.2.0-py3-none-any.whl (19 kB)\n",
            "Collecting fsspec>=0.6.0\n",
            "  Downloading fsspec-2022.5.0-py3-none-any.whl (140 kB)\n",
            "\u001b[K     |████████████████████████████████| 140 kB 45.7 MB/s \n",
            "\u001b[?25hRequirement already satisfied: toolz>=0.8.2 in /usr/local/lib/python3.7/dist-packages (from dask>=2021.12->auto-sklearn) (0.12.0)\n",
            "Requirement already satisfied: packaging>=20.0 in /usr/local/lib/python3.7/dist-packages (from dask>=2021.12->auto-sklearn) (21.3)\n",
            "Requirement already satisfied: sortedcontainers!=2.0.0,!=2.0.1 in /usr/local/lib/python3.7/dist-packages (from distributed>=2012.12->auto-sklearn) (2.4.0)\n",
            "Requirement already satisfied: tornado>=5 in /usr/local/lib/python3.7/dist-packages (from distributed>=2012.12->auto-sklearn) (5.1.1)\n",
            "Requirement already satisfied: psutil>=5.0 in /usr/local/lib/python3.7/dist-packages (from distributed>=2012.12->auto-sklearn) (5.4.8)\n",
            "Requirement already satisfied: click>=6.6 in /usr/local/lib/python3.7/dist-packages (from distributed>=2012.12->auto-sklearn) (7.1.2)\n",
            "Requirement already satisfied: jinja2 in /usr/local/lib/python3.7/dist-packages (from distributed>=2012.12->auto-sklearn) (2.11.3)\n",
            "Requirement already satisfied: tblib>=1.6.0 in /usr/local/lib/python3.7/dist-packages (from distributed>=2012.12->auto-sklearn) (1.7.0)\n",
            "Requirement already satisfied: zict>=0.1.3 in /usr/local/lib/python3.7/dist-packages (from distributed>=2012.12->auto-sklearn) (2.2.0)\n",
            "Requirement already satisfied: msgpack>=0.6.0 in /usr/local/lib/python3.7/dist-packages (from distributed>=2012.12->auto-sklearn) (1.0.4)\n",
            "Collecting cloudpickle>=1.1.1\n",
            "  Downloading cloudpickle-2.1.0-py3-none-any.whl (25 kB)\n",
            "Requirement already satisfied: pytz>=2017.3 in /usr/local/lib/python3.7/dist-packages (from pandas>=1.0->auto-sklearn) (2022.1)\n",
            "Requirement already satisfied: python-dateutil>=2.7.3 in /usr/local/lib/python3.7/dist-packages (from pandas>=1.0->auto-sklearn) (2.8.2)\n",
            "Collecting locket\n",
            "  Downloading locket-1.0.0-py2.py3-none-any.whl (4.4 kB)\n",
            "Requirement already satisfied: six>=1.5 in /usr/local/lib/python3.7/dist-packages (from python-dateutil>=2.7.3->pandas>=1.0->auto-sklearn) (1.15.0)\n",
            "Collecting emcee>=3.0.0\n",
            "  Downloading emcee-3.1.2-py2.py3-none-any.whl (46 kB)\n",
            "\u001b[K     |████████████████████████████████| 46 kB 3.8 MB/s \n",
            "\u001b[?25hRequirement already satisfied: heapdict in /usr/local/lib/python3.7/dist-packages (from zict>=0.1.3->distributed>=2012.12->auto-sklearn) (1.0.1)\n",
            "Requirement already satisfied: MarkupSafe>=0.23 in /usr/local/lib/python3.7/dist-packages (from jinja2->distributed>=2012.12->auto-sklearn) (2.0.1)\n",
            "Building wheels for collected packages: auto-sklearn, pynisher, smac, liac-arff\n",
            "  Building wheel for auto-sklearn (setup.py) ... \u001b[?25l\u001b[?25hdone\n",
            "  Created wheel for auto-sklearn: filename=auto_sklearn-0.14.7-py3-none-any.whl size=6602873 sha256=819edd907015498a3b36b3c07667bf7e40dcce34ad4667fd1c8854352c357241\n",
            "  Stored in directory: /root/.cache/pip/wheels/ba/43/5c/2fbe6fd19e3af314cbc4aa808378068d8ddd6792064f4a2448\n",
            "  Building wheel for pynisher (setup.py) ... \u001b[?25l\u001b[?25hdone\n",
            "  Created wheel for pynisher: filename=pynisher-0.6.4-py3-none-any.whl size=7043 sha256=3312f1f4a293d1c42cab15cb484a1641ddea74d65db22f45320f72b0c766e53b\n",
            "  Stored in directory: /root/.cache/pip/wheels/42/71/95/7555ec3253e1ba8add72ae5febf1b015d297f3b73ba296d6f6\n",
            "  Building wheel for smac (setup.py) ... \u001b[?25l\u001b[?25hdone\n",
            "  Created wheel for smac: filename=smac-1.2-py3-none-any.whl size=215930 sha256=cba8c0665ac388f019042f961edf7d85e3fe755689329212f11c52a41bc69cd0\n",
            "  Stored in directory: /root/.cache/pip/wheels/ad/95/67/6afc6b04d3715070c853d0a9d7c7b1fb822def38671dfbbb9f\n",
            "  Building wheel for liac-arff (setup.py) ... \u001b[?25l\u001b[?25hdone\n",
            "  Created wheel for liac-arff: filename=liac_arff-2.5.0-py3-none-any.whl size=11732 sha256=bb6b4bc095260d7fd28fd04237f67dd0cc734e324d4fa4e593dbdb127993e07f\n",
            "  Stored in directory: /root/.cache/pip/wheels/1f/0f/15/332ca86cbebf25ddf98518caaf887945fbe1712b97a0f2493b\n",
            "Successfully built auto-sklearn pynisher smac liac-arff\n",
            "Installing collected packages: locket, pyyaml, partd, fsspec, cloudpickle, dask, scikit-learn, pyrfr, pynisher, emcee, distributed, ConfigSpace, smac, liac-arff, distro, auto-sklearn\n",
            "  Attempting uninstall: pyyaml\n",
            "    Found existing installation: PyYAML 3.13\n",
            "    Uninstalling PyYAML-3.13:\n",
            "      Successfully uninstalled PyYAML-3.13\n",
            "  Attempting uninstall: cloudpickle\n",
            "    Found existing installation: cloudpickle 1.3.0\n",
            "    Uninstalling cloudpickle-1.3.0:\n",
            "      Successfully uninstalled cloudpickle-1.3.0\n",
            "  Attempting uninstall: dask\n",
            "    Found existing installation: dask 2.12.0\n",
            "    Uninstalling dask-2.12.0:\n",
            "      Successfully uninstalled dask-2.12.0\n",
            "  Attempting uninstall: scikit-learn\n",
            "    Found existing installation: scikit-learn 1.0.2\n",
            "    Uninstalling scikit-learn-1.0.2:\n",
            "      Successfully uninstalled scikit-learn-1.0.2\n",
            "  Attempting uninstall: distributed\n",
            "    Found existing installation: distributed 1.25.3\n",
            "    Uninstalling distributed-1.25.3:\n",
            "      Successfully uninstalled distributed-1.25.3\n",
            "\u001b[31mERROR: pip's dependency resolver does not currently take into account all the packages that are installed. This behaviour is the source of the following dependency conflicts.\n",
            "yellowbrick 1.4 requires scikit-learn>=1.0.0, but you have scikit-learn 0.24.2 which is incompatible.\n",
            "gym 0.17.3 requires cloudpickle<1.7.0,>=1.2.0, but you have cloudpickle 2.1.0 which is incompatible.\u001b[0m\n",
            "Successfully installed ConfigSpace-0.4.21 auto-sklearn-0.14.7 cloudpickle-2.1.0 dask-2022.2.0 distributed-2022.2.0 distro-1.7.0 emcee-3.1.2 fsspec-2022.5.0 liac-arff-2.5.0 locket-1.0.0 partd-1.2.0 pynisher-0.6.4 pyrfr-0.8.3 pyyaml-6.0 scikit-learn-0.24.2 smac-1.2\n"
          ]
        },
        {
          "output_type": "display_data",
          "data": {
            "application/vnd.colab-display-data+json": {
              "pip_warning": {
                "packages": [
                  "cloudpickle",
                  "sklearn"
                ]
              }
            }
          },
          "metadata": {}
        }
      ]
    },
    {
      "cell_type": "code",
      "execution_count": 1,
      "metadata": {
        "colab": {
          "base_uri": "https://localhost:8080/"
        },
        "id": "u0fstBFpYhHD",
        "outputId": "3f5f6769-c75f-4fcd-9420-5ebe9fae1897"
      },
      "outputs": [
        {
          "output_type": "stream",
          "name": "stdout",
          "text": [
            "Drive already mounted at /content/gdrive; to attempt to forcibly remount, call drive.mount(\"/content/gdrive\", force_remount=True).\n"
          ]
        }
      ],
      "source": [
        "from google.colab import drive\n",
        "\n",
        "drive.mount('/content/gdrive')"
      ]
    },
    {
      "cell_type": "markdown",
      "metadata": {
        "id": "1tg7QYDaYhHH"
      },
      "source": [
        "# Llevamos el repositorio a nuestro drive"
      ]
    },
    {
      "cell_type": "code",
      "execution_count": 4,
      "metadata": {
        "colab": {
          "base_uri": "https://localhost:8080/"
        },
        "id": "40uqYSebYhHI",
        "outputId": "d7d0e150-8173-40f4-95ce-073c4ba19578"
      },
      "outputs": [
        {
          "output_type": "stream",
          "name": "stdout",
          "text": [
            "mkdir: cannot create directory ‘/content/gdrive/My Drive/ml-practico-code’: File exists\n",
            "fatal: destination path '/content/gdrive/My Drive/ml-practico-code' already exists and is not an empty directory.\n"
          ]
        }
      ],
      "source": [
        "# Esto solo debemos ejecutarlo una vez. Si lo ejecutamos mas de una vez va a fallar (pero no pasa nada!)\n",
        "!mkdir /content/gdrive/My\\ Drive/ml-practico-code\n",
        "# Acá podes usar tu propio repo si queres hacer modificaciones (highly recommended)\n",
        "!git clone https://github.com/elsonidoq/ml-practico-2022 /content/gdrive/My\\ Drive/ml-practico-code"
      ]
    },
    {
      "cell_type": "code",
      "execution_count": 2,
      "metadata": {
        "colab": {
          "base_uri": "https://localhost:8080/"
        },
        "id": "KsSjlti0YhHJ",
        "outputId": "65d1923b-88d0-4974-fd2e-61b4e2f81ac9"
      },
      "outputs": [
        {
          "output_type": "stream",
          "name": "stdout",
          "text": [
            "Already up to date.\n"
          ]
        }
      ],
      "source": [
        "# Si hay cambios en el repositorio, con esta linea actualizas tu drive\n",
        "!cd /content/gdrive/My\\ Drive/ml-practico-code; git pull"
      ]
    },
    {
      "cell_type": "code",
      "execution_count": 2,
      "metadata": {
        "id": "vPpoTAI7YhHJ"
      },
      "outputs": [],
      "source": [
        "import sys\n",
        "sys.path.append('/content/gdrive/My Drive/ml-practico-code')"
      ]
    },
    {
      "cell_type": "markdown",
      "metadata": {
        "id": "9kGUwnmVYhHK"
      },
      "source": [
        "# Loading the data"
      ]
    },
    {
      "cell_type": "code",
      "execution_count": 3,
      "metadata": {
        "id": "4eAbZUxzYhHL"
      },
      "outputs": [],
      "source": [
        "SAMPLE = False # sirve para probar el codigo"
      ]
    },
    {
      "cell_type": "code",
      "execution_count": 4,
      "metadata": {
        "id": "4ViIwIEWYhHL"
      },
      "outputs": [],
      "source": [
        "from lib import transformers, data"
      ]
    },
    {
      "cell_type": "code",
      "execution_count": 5,
      "metadata": {
        "colab": {
          "base_uri": "https://localhost:8080/"
        },
        "id": "OvAu9QiPYhHM",
        "outputId": "ef2843bc-0b54-4886-e270-97e9261d30de"
      },
      "outputs": [
        {
          "output_type": "stream",
          "name": "stdout",
          "text": [
            "Loading title basics...\n"
          ]
        },
        {
          "output_type": "stream",
          "name": "stderr",
          "text": [
            "/content/gdrive/My Drive/ml-practico-code/lib/data.py:70: DtypeWarning: Columns (4,5) have mixed types.Specify dtype option on import or set low_memory=False.\n",
            "  title_basics = load_title_basics(path)\n"
          ]
        },
        {
          "output_type": "stream",
          "name": "stdout",
          "text": [
            "Loading title ratings...\n",
            "Loading movie directors...\n",
            "Merging everything...\n"
          ]
        }
      ],
      "source": [
        "from random import sample\n",
        "from pathlib import Path\n",
        "\n",
        "PATH = Path('/content/gdrive/My Drive/ml-practico-data')\n",
        "movies = data.load_data(PATH)\n",
        "\n",
        "if SAMPLE:\n",
        "    movies = movies.sample(50000)"
      ]
    },
    {
      "cell_type": "markdown",
      "metadata": {
        "id": "T5hGnqeMYhHN"
      },
      "source": [
        "# Model helpers"
      ]
    },
    {
      "cell_type": "code",
      "execution_count": 6,
      "metadata": {
        "id": "qRuiq1FhYhHN"
      },
      "outputs": [],
      "source": [
        "from sklearn.pipeline import make_union, make_pipeline\n",
        "from sklearn.feature_extraction import DictVectorizer\n",
        "\n",
        "def get_features_pipe(\n",
        "        use_years: bool, use_genre: bool, \n",
        "        use_director: bool, director_kws: dict=None, post_processing=None):\n",
        "    \"\"\"\n",
        "    Construye el pipeline de features de forma parametrizada\n",
        "    \"\"\"\n",
        "    # director_kws solo tiene sentido cuando use_director=True. \n",
        "    # Esto nos va a traer dolores de cabeza a la hora de explorar el espacio de hyper parametros\n",
        "    # TODO: esto debería permitir cachear los datasets transformados\n",
        "    \n",
        "    steps = []\n",
        "    if use_years:\n",
        "        steps.append(make_pipeline(transformers.YearsAgo(), DictVectorizer(sparse=False)))\n",
        "    \n",
        "    if use_genre:\n",
        "        steps.append(make_pipeline(transformers.GenreDummies(), DictVectorizer(sparse=False)))\n",
        "        \n",
        "    if use_director:\n",
        "        director_kws = director_kws or {}\n",
        "        # cuando hacemos **director_kws usamos ese diccionario para pasar parametros\n",
        "        steps.append(make_pipeline(transformers.DirectorFeatures(**director_kws), DictVectorizer(sparse=False)))\n",
        "    \n",
        "    res = make_union(*steps)\n",
        "    if post_processing:\n",
        "        res = make_pipeline(res, post_processing)\n",
        "    return res\n",
        "\n",
        "def get_model_pipe(features_pipe, estimator):\n",
        "    return make_pipeline(features_pipe, estimator)"
      ]
    },
    {
      "cell_type": "code",
      "execution_count": 9,
      "metadata": {
        "id": "1S0YLI3qYhHQ"
      },
      "outputs": [],
      "source": [
        "from sklearn.metrics import fbeta_score, roc_auc_score\n",
        "\n",
        "def get_metrics(model, X, y, threshold=0.5):\n",
        "    scores = model.predict_proba(X)[:, 1]\n",
        "    return {\n",
        "        'f_0.5': fbeta_score(y, scores > threshold, beta=0.5),\n",
        "        'roc_auc': roc_auc_score(y, scores)\n",
        "    }"
      ]
    },
    {
      "cell_type": "markdown",
      "metadata": {
        "id": "QgnvBDX4YhHO"
      },
      "source": [
        "# Modelado sencillo\n",
        "\n",
        "Para ejemplificar el model selection. La proxima clase iteramos sobre esto\n",
        "\n",
        "1. Modelamos el problema como clasificacion P(rating > 7.5)\n",
        "2. Evaluamos con f_beta score, con beta = 0.5\n",
        "\n",
        "![image.png](attachment:image.png)"
      ]
    },
    {
      "cell_type": "code",
      "execution_count": 7,
      "metadata": {
        "colab": {
          "base_uri": "https://localhost:8080/"
        },
        "id": "mnSy6HOzYhHP",
        "outputId": "5ed0e735-6a7b-454f-e6eb-fd972e36c2a4"
      },
      "outputs": [
        {
          "output_type": "execute_result",
          "data": {
            "text/plain": [
              "(264315, 21687, 39839, 0.15072546015171293, 0.08204982691107202)"
            ]
          },
          "metadata": {},
          "execution_count": 7
        }
      ],
      "source": [
        "train_df = movies[movies.startYear <= 2015]\n",
        "dev_df = movies[(movies.startYear > 2015) & (movies.startYear <= 2017)]\n",
        "test_df = movies[movies.startYear > 2017]\n",
        "\n",
        "# Esto es lentisimo, hay que evitar en proyectos grandes levantar cosas en pandas\n",
        "# Si luego vamos a hacer algun pipeline de Machine Learning\n",
        "X_train = train_df.to_dict(orient='records')\n",
        "X_dev = dev_df.to_dict(orient='records')\n",
        "X_test = test_df.to_dict(orient='records')\n",
        "\n",
        "len(train_df), len(dev_df), len(test_df), len(test_df) / len(train_df), len(dev_df) / len(train_df)"
      ]
    },
    {
      "cell_type": "code",
      "execution_count": 8,
      "metadata": {
        "colab": {
          "base_uri": "https://localhost:8080/"
        },
        "id": "pCBSsNuuYhHP",
        "outputId": "86e47a86-cfde-4be5-8350-d0a032a3925a"
      },
      "outputs": [
        {
          "output_type": "execute_result",
          "data": {
            "text/plain": [
              "(0.14616272250912737, 0.17761792779084243, 0.17753959687743165)"
            ]
          },
          "metadata": {},
          "execution_count": 8
        }
      ],
      "source": [
        "y_train = (train_df.averageRating > 7.5).values\n",
        "y_dev = (dev_df.averageRating > 7.5).values\n",
        "y_test = (test_df.averageRating > 7.5).values\n",
        "\n",
        "y_train.sum() / len(y_train), y_dev.sum() / len(y_dev), y_test.sum() / len(y_test)"
      ]
    },
    {
      "cell_type": "markdown",
      "metadata": {
        "id": "SUVnJdRFYhHP"
      },
      "source": [
        "## Ejemplo de uso"
      ]
    },
    {
      "cell_type": "code",
      "execution_count": 13,
      "metadata": {
        "colab": {
          "base_uri": "https://localhost:8080/"
        },
        "id": "d9JIgVOYYhHP",
        "outputId": "23d0ce75-3482-4185-d8bf-d00338ec2919"
      },
      "outputs": [
        {
          "output_type": "execute_result",
          "data": {
            "text/plain": [
              "Pipeline(steps=[('pipeline',\n",
              "                 Pipeline(steps=[('featureunion',\n",
              "                                  FeatureUnion(transformer_list=[('pipeline-1',\n",
              "                                                                  Pipeline(steps=[('genredummies',\n",
              "                                                                                   GenreDummies()),\n",
              "                                                                                  ('dictvectorizer',\n",
              "                                                                                   DictVectorizer(sparse=False))])),\n",
              "                                                                 ('pipeline-2',\n",
              "                                                                  Pipeline(steps=[('directorfeatures',\n",
              "                                                                                   DirectorFeatures()),\n",
              "                                                                                  ('dictvectorizer',\n",
              "                                                                                   DictVectorizer(sparse=False))]))])),\n",
              "                                 ('standardscaler', StandardScaler())])),\n",
              "                ('logisticregression', LogisticRegression())])"
            ]
          },
          "metadata": {},
          "execution_count": 13
        }
      ],
      "source": [
        "from sklearn.preprocessing import StandardScaler\n",
        "from sklearn.linear_model import LogisticRegression\n",
        "\n",
        "model = get_model_pipe(\n",
        "    features_pipe=get_features_pipe(\n",
        "        use_years=False, use_director=True, use_genre=True, post_processing=StandardScaler()\n",
        "    ),\n",
        "    estimator=LogisticRegression()   \n",
        ")\n",
        "\n",
        "model"
      ]
    },
    {
      "cell_type": "code",
      "execution_count": 15,
      "metadata": {
        "id": "BJHn_4xHYhHQ"
      },
      "outputs": [],
      "source": [
        "model.fit(X_train, y_train);"
      ]
    },
    {
      "cell_type": "code",
      "execution_count": 16,
      "metadata": {
        "colab": {
          "base_uri": "https://localhost:8080/"
        },
        "id": "b4ZiGfQKYhHQ",
        "outputId": "d49d69e1-0d78-4437-ee4e-cfe71f29be5f"
      },
      "outputs": [
        {
          "output_type": "execute_result",
          "data": {
            "text/plain": [
              "array([0.0358808 , 0.08644033, 0.11116386, 0.0850014 , 0.01697863,\n",
              "       0.07380756, 0.27186813, 0.03479678, 0.07781627, 0.14517975])"
            ]
          },
          "metadata": {},
          "execution_count": 16
        }
      ],
      "source": [
        "y_pred_train = model.predict_proba(X_train)[: , 1]\n",
        "y_pred_train[:10]"
      ]
    },
    {
      "cell_type": "code",
      "execution_count": 17,
      "metadata": {
        "colab": {
          "base_uri": "https://localhost:8080/"
        },
        "id": "sQhjn69CYhHQ",
        "outputId": "e1ee32e9-6f13-4b1a-c498-e7976d4a88c1"
      },
      "outputs": [
        {
          "output_type": "execute_result",
          "data": {
            "text/plain": [
              "0.4892500172670673"
            ]
          },
          "metadata": {},
          "execution_count": 17
        }
      ],
      "source": [
        "# Para jugar: como cambia la metrica cuando tocamos el threshold y beta?\n",
        "# Se mueve como esperamos que se mueva?\n",
        "\n",
        "fbeta_score(y_train, y_pred_train > 0.5, beta=0.5)"
      ]
    },
    {
      "cell_type": "code",
      "execution_count": 18,
      "metadata": {
        "colab": {
          "base_uri": "https://localhost:8080/"
        },
        "id": "re1VskfdYhHR",
        "outputId": "68178866-58b9-4bb4-c59e-647cae717efe"
      },
      "outputs": [
        {
          "output_type": "execute_result",
          "data": {
            "text/plain": [
              "{'f_0.5': 0.4892500172670673, 'roc_auc': 0.8332075894122982}"
            ]
          },
          "metadata": {},
          "execution_count": 18
        }
      ],
      "source": [
        "get_metrics(model, X_train, y_train)"
      ]
    },
    {
      "cell_type": "code",
      "execution_count": 19,
      "metadata": {
        "colab": {
          "base_uri": "https://localhost:8080/"
        },
        "id": "W6GqSKTnYhHR",
        "outputId": "41a75728-25ad-4338-bcc1-955959621695"
      },
      "outputs": [
        {
          "output_type": "execute_result",
          "data": {
            "text/plain": [
              "{'f_0.5': 0.21033314511575382, 'roc_auc': 0.7306690628674468}"
            ]
          },
          "metadata": {},
          "execution_count": 19
        }
      ],
      "source": [
        "get_metrics(model, X_dev, y_dev)"
      ]
    },
    {
      "cell_type": "markdown",
      "metadata": {
        "id": "m_aBeEsyYhHR"
      },
      "source": [
        "Parece haber un roc auc relativamente bueno, sin embargo el f_0.5 da super bajo.\n",
        "\n",
        "### Para pensar 🤔\n",
        "Cómo podríamos optimizar el f_0.5 cambiando el threshold?"
      ]
    },
    {
      "cell_type": "markdown",
      "metadata": {
        "id": "FbxetO3UYhHR"
      },
      "source": [
        "# Grid search"
      ]
    },
    {
      "cell_type": "code",
      "execution_count": 20,
      "metadata": {
        "id": "kK4Btd9VYhHR"
      },
      "outputs": [],
      "source": [
        "from time import time\n",
        "from sklearn.metrics import fbeta_score\n",
        "from sklearn.preprocessing import StandardScaler\n",
        "from sklearn.linear_model import LogisticRegression\n",
        "\n",
        "def experiment_lr(model_params, feature_params, X_train, y_train, X_dev, y_dev):\n",
        "    # Resolvemos el tema del director\n",
        "    feature_params['use_director'] = feature_params['director_kws'] is not None\n",
        "    \n",
        "    model = get_model_pipe(\n",
        "        features_pipe=get_features_pipe(**feature_params),\n",
        "        estimator=LogisticRegression(**model_params)\n",
        "    )\n",
        "    \n",
        "    t0 = time()\n",
        "    model.fit(X_train, y_train)\n",
        "    elapsed = time() - t0\n",
        "    \n",
        "    return {\n",
        "        'model': model,\n",
        "        'train_metrics': get_metrics(model, X_train, y_train),\n",
        "        'dev_metrics': get_metrics(model, X_dev, y_dev),\n",
        "        'params': {\n",
        "            'model': model_params, 'feature': feature_params\n",
        "        }\n",
        "    }"
      ]
    },
    {
      "cell_type": "code",
      "execution_count": 21,
      "metadata": {
        "id": "7J86ftDTYhHS"
      },
      "outputs": [],
      "source": [
        "from sklearn.model_selection import ParameterGrid\n",
        "\n",
        "lr_grid = ParameterGrid(\n",
        "    {\n",
        "        'penalty': ['l1', 'l2'],\n",
        "#         'tol': [1e-4, 1e-5, 1e-3],\n",
        "        'C': [10.0, 1.0, 0.1],\n",
        "        'class_weight': ['balanced', None],\n",
        "        'solver': ['saga'],\n",
        "    }\n",
        ")\n",
        "\n",
        "feature_grid = ParameterGrid(\n",
        "    {\n",
        "        'use_years': [True], \n",
        "        'use_genre': [True],  \n",
        "        # Tenemos 2 hyper parametros interdependientes, solo seteamos director_kws\n",
        "        'director_kws': [None, dict(min_cnt_movies=0), dict(min_cnt_movies=3)],\n",
        "        'post_processing': [StandardScaler()] # siempre hacemos esto porque es regresion logistica\n",
        "    }\n",
        ")"
      ]
    },
    {
      "cell_type": "code",
      "execution_count": 22,
      "metadata": {
        "id": "WZOjp3DIYhHS"
      },
      "outputs": [],
      "source": [
        "from tqdm.notebook import tqdm\n",
        "\n",
        "def run_lr_experiments(): \n",
        "    # No toma parametros porque usa las variables globales que definimos durante el notebook\n",
        "    \n",
        "    results = []\n",
        "    for model_params in tqdm(list(lr_grid)):\n",
        "        for feature_params in feature_grid:\n",
        "            empty_features = (\n",
        "                not feature_params['use_years'] and \n",
        "                not feature_params['use_genre'] and \n",
        "                feature_params['director_kws'] is None\n",
        "            )\n",
        "            if empty_features: continue  # esta combinacion no tiene sentido probarla porque no usa ningun feature\n",
        "\n",
        "            results.append(experiment_lr(model_params, feature_params, X_train, y_train, X_test, y_test))\n",
        "    \n",
        "    return results"
      ]
    },
    {
      "cell_type": "code",
      "execution_count": 23,
      "metadata": {
        "colab": {
          "base_uri": "https://localhost:8080/",
          "height": 49,
          "referenced_widgets": [
            "191970d69dae4d8c80a8625c87848a1e",
            "a67ce1809403437fae62e89d744de98c",
            "e5bf74704ed0426b8222aa50ab622eb0",
            "5449a19f7b544eaabfc4bce57028a63c",
            "ceab8571686145d890db688039aee444",
            "1ab470377d5f4f60a4bc4cffcf25ae97",
            "9bf81a73b57b40c9938be0e8f75e191c",
            "a17d934136764a9f8c7d02d8bb505b3c",
            "5fedf9e9ddec445f9c6bfee24c20bbec",
            "0201655e352a4993a0508dd8976a0979",
            "4ddf45f996034ab6ac98b992d7edb900"
          ]
        },
        "id": "D2g4rOdMYhHS",
        "outputId": "2cffef2b-7cab-4074-b3a5-6466015b1b2a"
      },
      "outputs": [
        {
          "output_type": "display_data",
          "data": {
            "text/plain": [
              "  0%|          | 0/12 [00:00<?, ?it/s]"
            ],
            "application/vnd.jupyter.widget-view+json": {
              "version_major": 2,
              "version_minor": 0,
              "model_id": "191970d69dae4d8c80a8625c87848a1e"
            }
          },
          "metadata": {}
        }
      ],
      "source": [
        "experiment_outputs = run_lr_experiments()"
      ]
    },
    {
      "cell_type": "code",
      "execution_count": 24,
      "metadata": {
        "id": "fCVSBhdMYhHS"
      },
      "outputs": [],
      "source": [
        "import pandas as pd\n",
        "\n",
        "experiment_outputs_flat = []\n",
        "for e_nested in experiment_outputs:\n",
        "    e_flat = {\n",
        "        'train_auc': e_nested['train_metrics']['roc_auc'],\n",
        "        'dev_auc': e_nested['dev_metrics']['roc_auc'],\n",
        "    }\n",
        "    e_flat.update(e_nested['params']['model'])\n",
        "    e_flat.update(e_nested['params']['feature'])\n",
        "    experiment_outputs_flat.append(e_flat)\n",
        "    \n",
        "experiments_df = pd.DataFrame(experiment_outputs_flat).drop('post_processing', axis=1)"
      ]
    },
    {
      "cell_type": "code",
      "execution_count": 25,
      "metadata": {
        "colab": {
          "base_uri": "https://localhost:8080/",
          "height": 298
        },
        "id": "HsD_aReMYhHS",
        "outputId": "f9eca74b-c648-48f1-d31e-513091d5be46"
      },
      "outputs": [
        {
          "output_type": "execute_result",
          "data": {
            "text/plain": [
              "<matplotlib.axes._subplots.AxesSubplot at 0x7f1ae24b0c10>"
            ]
          },
          "metadata": {},
          "execution_count": 25
        },
        {
          "output_type": "display_data",
          "data": {
            "text/plain": [
              "<Figure size 432x288 with 1 Axes>"
            ],
            "image/png": "[encoded data removed]"
          },
          "metadata": {
            "needs_background": "light"
          }
        }
      ],
      "source": [
        "experiments_df.plot.scatter('train_auc', 'dev_auc')"
      ]
    },
    {
      "cell_type": "code",
      "execution_count": 26,
      "metadata": {
        "colab": {
          "base_uri": "https://localhost:8080/",
          "height": 1000
        },
        "id": "v47V5HIuYhHS",
        "outputId": "d7b349ac-99aa-41a6-8d84-33056e40485a"
      },
      "outputs": [
        {
          "output_type": "execute_result",
          "data": {
            "text/plain": [
              "    train_auc   dev_auc     C class_weight penalty solver  \\\n",
              "16   0.898226  0.663686   1.0     balanced      l2   saga   \n",
              "1    0.898226  0.663685  10.0     balanced      l1   saga   \n",
              "4    0.898226  0.663686  10.0     balanced      l2   saga   \n",
              "28   0.898226  0.663690   0.1     balanced      l2   saga   \n",
              "13   0.898226  0.663687   1.0     balanced      l1   saga   \n",
              "25   0.898222  0.663683   0.1     balanced      l1   saga   \n",
              "34   0.896112  0.658210   0.1         None      l2   saga   \n",
              "22   0.896100  0.658192   1.0         None      l2   saga   \n",
              "10   0.896099  0.658188  10.0         None      l2   saga   \n",
              "7    0.896098  0.658187  10.0         None      l1   saga   \n",
              "19   0.896097  0.658180   1.0         None      l1   saga   \n",
              "31   0.896077  0.658125   0.1         None      l1   saga   \n",
              "26   0.819949  0.699311   0.1     balanced      l1   saga   \n",
              "14   0.819945  0.699273   1.0     balanced      l1   saga   \n",
              "2    0.819944  0.699272  10.0     balanced      l1   saga   \n",
              "5    0.819944  0.699273  10.0     balanced      l2   saga   \n",
              "17   0.819944  0.699268   1.0     balanced      l2   saga   \n",
              "29   0.819944  0.699264   0.1     balanced      l2   saga   \n",
              "32   0.819217  0.700304   0.1         None      l1   saga   \n",
              "35   0.819202  0.700310   0.1         None      l2   saga   \n",
              "20   0.819192  0.700322   1.0         None      l1   saga   \n",
              "23   0.819190  0.700323   1.0         None      l2   saga   \n",
              "8    0.819189  0.700324  10.0         None      l1   saga   \n",
              "11   0.819188  0.700324  10.0         None      l2   saga   \n",
              "6    0.743084  0.697254  10.0         None      l1   saga   \n",
              "21   0.743083  0.697256   1.0         None      l2   saga   \n",
              "18   0.743083  0.697256   1.0         None      l1   saga   \n",
              "33   0.743082  0.697250   0.1         None      l2   saga   \n",
              "12   0.743076  0.696184   1.0     balanced      l1   saga   \n",
              "0    0.743076  0.696182  10.0     balanced      l1   saga   \n",
              "15   0.743076  0.696183   1.0     balanced      l2   saga   \n",
              "3    0.743075  0.696178  10.0     balanced      l2   saga   \n",
              "30   0.743075  0.697231   0.1         None      l1   saga   \n",
              "24   0.743075  0.696114   0.1     balanced      l1   saga   \n",
              "27   0.743071  0.696188   0.1     balanced      l2   saga   \n",
              "9    0.743062  0.697253  10.0         None      l2   saga   \n",
              "\n",
              "             director_kws  use_genre  use_years  use_director  \n",
              "16  {'min_cnt_movies': 0}       True       True          True  \n",
              "1   {'min_cnt_movies': 0}       True       True          True  \n",
              "4   {'min_cnt_movies': 0}       True       True          True  \n",
              "28  {'min_cnt_movies': 0}       True       True          True  \n",
              "13  {'min_cnt_movies': 0}       True       True          True  \n",
              "25  {'min_cnt_movies': 0}       True       True          True  \n",
              "34  {'min_cnt_movies': 0}       True       True          True  \n",
              "22  {'min_cnt_movies': 0}       True       True          True  \n",
              "10  {'min_cnt_movies': 0}       True       True          True  \n",
              "7   {'min_cnt_movies': 0}       True       True          True  \n",
              "19  {'min_cnt_movies': 0}       True       True          True  \n",
              "31  {'min_cnt_movies': 0}       True       True          True  \n",
              "26  {'min_cnt_movies': 3}       True       True          True  \n",
              "14  {'min_cnt_movies': 3}       True       True          True  \n",
              "2   {'min_cnt_movies': 3}       True       True          True  \n",
              "5   {'min_cnt_movies': 3}       True       True          True  \n",
              "17  {'min_cnt_movies': 3}       True       True          True  \n",
              "29  {'min_cnt_movies': 3}       True       True          True  \n",
              "32  {'min_cnt_movies': 3}       True       True          True  \n",
              "35  {'min_cnt_movies': 3}       True       True          True  \n",
              "20  {'min_cnt_movies': 3}       True       True          True  \n",
              "23  {'min_cnt_movies': 3}       True       True          True  \n",
              "8   {'min_cnt_movies': 3}       True       True          True  \n",
              "11  {'min_cnt_movies': 3}       True       True          True  \n",
              "6                    None       True       True         False  \n",
              "21                   None       True       True         False  \n",
              "18                   None       True       True         False  \n",
              "33                   None       True       True         False  \n",
              "12                   None       True       True         False  \n",
              "0                    None       True       True         False  \n",
              "15                   None       True       True         False  \n",
              "3                    None       True       True         False  \n",
              "30                   None       True       True         False  \n",
              "24                   None       True       True         False  \n",
              "27                   None       True       True         False  \n",
              "9                    None       True       True         False  "
            ],
            "text/html": [
              "\n",
              "  <div id=\"df-978b81cf-8e0a-4f4a-a511-651f87287100\">\n",
              "    <div class=\"colab-df-container\">\n",
              "      <div>\n",
              "<style scoped>\n",
              "    .dataframe tbody tr th:only-of-type {\n",
              "        vertical-align: middle;\n",
              "    }\n",
              "\n",
              "    .dataframe tbody tr th {\n",
              "        vertical-align: top;\n",
              "    }\n",
              "\n",
              "    .dataframe thead th {\n",
              "        text-align: right;\n",
              "    }\n",
              "</style>\n",
              "<table border=\"1\" class=\"dataframe\">\n",
              "  <thead>\n",
              "    <tr style=\"text-align: right;\">\n",
              "      <th></th>\n",
              "      <th>train_auc</th>\n",
              "      <th>dev_auc</th>\n",
              "      <th>C</th>\n",
              "      <th>class_weight</th>\n",
              "      <th>penalty</th>\n",
              "      <th>solver</th>\n",
              "      <th>director_kws</th>\n",
              "      <th>use_genre</th>\n",
              "      <th>use_years</th>\n",
              "      <th>use_director</th>\n",
              "    </tr>\n",
              "  </thead>\n",
              "  <tbody>\n",
              "    <tr>\n",
              "      <th>16</th>\n",
              "      <td>0.898226</td>\n",
              "      <td>0.663686</td>\n",
              "      <td>1.0</td>\n",
              "      <td>balanced</td>\n",
              "      <td>l2</td>\n",
              "      <td>saga</td>\n",
              "      <td>{'min_cnt_movies': 0}</td>\n",
              "      <td>True</td>\n",
              "      <td>True</td>\n",
              "      <td>True</td>\n",
              "    </tr>\n",
              "    <tr>\n",
              "      <th>1</th>\n",
              "      <td>0.898226</td>\n",
              "      <td>0.663685</td>\n",
              "      <td>10.0</td>\n",
              "      <td>balanced</td>\n",
              "      <td>l1</td>\n",
              "      <td>saga</td>\n",
              "      <td>{'min_cnt_movies': 0}</td>\n",
              "      <td>True</td>\n",
              "      <td>True</td>\n",
              "      <td>True</td>\n",
              "    </tr>\n",
              "    <tr>\n",
              "      <th>4</th>\n",
              "      <td>0.898226</td>\n",
              "      <td>0.663686</td>\n",
              "      <td>10.0</td>\n",
              "      <td>balanced</td>\n",
              "      <td>l2</td>\n",
              "      <td>saga</td>\n",
              "      <td>{'min_cnt_movies': 0}</td>\n",
              "      <td>True</td>\n",
              "      <td>True</td>\n",
              "      <td>True</td>\n",
              "    </tr>\n",
              "    <tr>\n",
              "      <th>28</th>\n",
              "      <td>0.898226</td>\n",
              "      <td>0.663690</td>\n",
              "      <td>0.1</td>\n",
              "      <td>balanced</td>\n",
              "      <td>l2</td>\n",
              "      <td>saga</td>\n",
              "      <td>{'min_cnt_movies': 0}</td>\n",
              "      <td>True</td>\n",
              "      <td>True</td>\n",
              "      <td>True</td>\n",
              "    </tr>\n",
              "    <tr>\n",
              "      <th>13</th>\n",
              "      <td>0.898226</td>\n",
              "      <td>0.663687</td>\n",
              "      <td>1.0</td>\n",
              "      <td>balanced</td>\n",
              "      <td>l1</td>\n",
              "      <td>saga</td>\n",
              "      <td>{'min_cnt_movies': 0}</td>\n",
              "      <td>True</td>\n",
              "      <td>True</td>\n",
              "      <td>True</td>\n",
              "    </tr>\n",
              "    <tr>\n",
              "      <th>25</th>\n",
              "      <td>0.898222</td>\n",
              "      <td>0.663683</td>\n",
              "      <td>0.1</td>\n",
              "      <td>balanced</td>\n",
              "      <td>l1</td>\n",
              "      <td>saga</td>\n",
              "      <td>{'min_cnt_movies': 0}</td>\n",
              "      <td>True</td>\n",
              "      <td>True</td>\n",
              "      <td>True</td>\n",
              "    </tr>\n",
              "    <tr>\n",
              "      <th>34</th>\n",
              "      <td>0.896112</td>\n",
              "      <td>0.658210</td>\n",
              "      <td>0.1</td>\n",
              "      <td>None</td>\n",
              "      <td>l2</td>\n",
              "      <td>saga</td>\n",
              "      <td>{'min_cnt_movies': 0}</td>\n",
              "      <td>True</td>\n",
              "      <td>True</td>\n",
              "      <td>True</td>\n",
              "    </tr>\n",
              "    <tr>\n",
              "      <th>22</th>\n",
              "      <td>0.896100</td>\n",
              "      <td>0.658192</td>\n",
              "      <td>1.0</td>\n",
              "      <td>None</td>\n",
              "      <td>l2</td>\n",
              "      <td>saga</td>\n",
              "      <td>{'min_cnt_movies': 0}</td>\n",
              "      <td>True</td>\n",
              "      <td>True</td>\n",
              "      <td>True</td>\n",
              "    </tr>\n",
              "    <tr>\n",
              "      <th>10</th>\n",
              "      <td>0.896099</td>\n",
              "      <td>0.658188</td>\n",
              "      <td>10.0</td>\n",
              "      <td>None</td>\n",
              "      <td>l2</td>\n",
              "      <td>saga</td>\n",
              "      <td>{'min_cnt_movies': 0}</td>\n",
              "      <td>True</td>\n",
              "      <td>True</td>\n",
              "      <td>True</td>\n",
              "    </tr>\n",
              "    <tr>\n",
              "      <th>7</th>\n",
              "      <td>0.896098</td>\n",
              "      <td>0.658187</td>\n",
              "      <td>10.0</td>\n",
              "      <td>None</td>\n",
              "      <td>l1</td>\n",
              "      <td>saga</td>\n",
              "      <td>{'min_cnt_movies': 0}</td>\n",
              "      <td>True</td>\n",
              "      <td>True</td>\n",
              "      <td>True</td>\n",
              "    </tr>\n",
              "    <tr>\n",
              "      <th>19</th>\n",
              "      <td>0.896097</td>\n",
              "      <td>0.658180</td>\n",
              "      <td>1.0</td>\n",
              "      <td>None</td>\n",
              "      <td>l1</td>\n",
              "      <td>saga</td>\n",
              "      <td>{'min_cnt_movies': 0}</td>\n",
              "      <td>True</td>\n",
              "      <td>True</td>\n",
              "      <td>True</td>\n",
              "    </tr>\n",
              "    <tr>\n",
              "      <th>31</th>\n",
              "      <td>0.896077</td>\n",
              "      <td>0.658125</td>\n",
              "      <td>0.1</td>\n",
              "      <td>None</td>\n",
              "      <td>l1</td>\n",
              "      <td>saga</td>\n",
              "      <td>{'min_cnt_movies': 0}</td>\n",
              "      <td>True</td>\n",
              "      <td>True</td>\n",
              "      <td>True</td>\n",
              "    </tr>\n",
              "    <tr>\n",
              "      <th>26</th>\n",
              "      <td>0.819949</td>\n",
              "      <td>0.699311</td>\n",
              "      <td>0.1</td>\n",
              "      <td>balanced</td>\n",
              "      <td>l1</td>\n",
              "      <td>saga</td>\n",
              "      <td>{'min_cnt_movies': 3}</td>\n",
              "      <td>True</td>\n",
              "      <td>True</td>\n",
              "      <td>True</td>\n",
              "    </tr>\n",
              "    <tr>\n",
              "      <th>14</th>\n",
              "      <td>0.819945</td>\n",
              "      <td>0.699273</td>\n",
              "      <td>1.0</td>\n",
              "      <td>balanced</td>\n",
              "      <td>l1</td>\n",
              "      <td>saga</td>\n",
              "      <td>{'min_cnt_movies': 3}</td>\n",
              "      <td>True</td>\n",
              "      <td>True</td>\n",
              "      <td>True</td>\n",
              "    </tr>\n",
              "    <tr>\n",
              "      <th>2</th>\n",
              "      <td>0.819944</td>\n",
              "      <td>0.699272</td>\n",
              "      <td>10.0</td>\n",
              "      <td>balanced</td>\n",
              "      <td>l1</td>\n",
              "      <td>saga</td>\n",
              "      <td>{'min_cnt_movies': 3}</td>\n",
              "      <td>True</td>\n",
              "      <td>True</td>\n",
              "      <td>True</td>\n",
              "    </tr>\n",
              "    <tr>\n",
              "      <th>5</th>\n",
              "      <td>0.819944</td>\n",
              "      <td>0.699273</td>\n",
              "      <td>10.0</td>\n",
              "      <td>balanced</td>\n",
              "      <td>l2</td>\n",
              "      <td>saga</td>\n",
              "      <td>{'min_cnt_movies': 3}</td>\n",
              "      <td>True</td>\n",
              "      <td>True</td>\n",
              "      <td>True</td>\n",
              "    </tr>\n",
              "    <tr>\n",
              "      <th>17</th>\n",
              "      <td>0.819944</td>\n",
              "      <td>0.699268</td>\n",
              "      <td>1.0</td>\n",
              "      <td>balanced</td>\n",
              "      <td>l2</td>\n",
              "      <td>saga</td>\n",
              "      <td>{'min_cnt_movies': 3}</td>\n",
              "      <td>True</td>\n",
              "      <td>True</td>\n",
              "      <td>True</td>\n",
              "    </tr>\n",
              "    <tr>\n",
              "      <th>29</th>\n",
              "      <td>0.819944</td>\n",
              "      <td>0.699264</td>\n",
              "      <td>0.1</td>\n",
              "      <td>balanced</td>\n",
              "      <td>l2</td>\n",
              "      <td>saga</td>\n",
              "      <td>{'min_cnt_movies': 3}</td>\n",
              "      <td>True</td>\n",
              "      <td>True</td>\n",
              "      <td>True</td>\n",
              "    </tr>\n",
              "    <tr>\n",
              "      <th>32</th>\n",
              "      <td>0.819217</td>\n",
              "      <td>0.700304</td>\n",
              "      <td>0.1</td>\n",
              "      <td>None</td>\n",
              "      <td>l1</td>\n",
              "      <td>saga</td>\n",
              "      <td>{'min_cnt_movies': 3}</td>\n",
              "      <td>True</td>\n",
              "      <td>True</td>\n",
              "      <td>True</td>\n",
              "    </tr>\n",
              "    <tr>\n",
              "      <th>35</th>\n",
              "      <td>0.819202</td>\n",
              "      <td>0.700310</td>\n",
              "      <td>0.1</td>\n",
              "      <td>None</td>\n",
              "      <td>l2</td>\n",
              "      <td>saga</td>\n",
              "      <td>{'min_cnt_movies': 3}</td>\n",
              "      <td>True</td>\n",
              "      <td>True</td>\n",
              "      <td>True</td>\n",
              "    </tr>\n",
              "    <tr>\n",
              "      <th>20</th>\n",
              "      <td>0.819192</td>\n",
              "      <td>0.700322</td>\n",
              "      <td>1.0</td>\n",
              "      <td>None</td>\n",
              "      <td>l1</td>\n",
              "      <td>saga</td>\n",
              "      <td>{'min_cnt_movies': 3}</td>\n",
              "      <td>True</td>\n",
              "      <td>True</td>\n",
              "      <td>True</td>\n",
              "    </tr>\n",
              "    <tr>\n",
              "      <th>23</th>\n",
              "      <td>0.819190</td>\n",
              "      <td>0.700323</td>\n",
              "      <td>1.0</td>\n",
              "      <td>None</td>\n",
              "      <td>l2</td>\n",
              "      <td>saga</td>\n",
              "      <td>{'min_cnt_movies': 3}</td>\n",
              "      <td>True</td>\n",
              "      <td>True</td>\n",
              "      <td>True</td>\n",
              "    </tr>\n",
              "    <tr>\n",
              "      <th>8</th>\n",
              "      <td>0.819189</td>\n",
              "      <td>0.700324</td>\n",
              "      <td>10.0</td>\n",
              "      <td>None</td>\n",
              "      <td>l1</td>\n",
              "      <td>saga</td>\n",
              "      <td>{'min_cnt_movies': 3}</td>\n",
              "      <td>True</td>\n",
              "      <td>True</td>\n",
              "      <td>True</td>\n",
              "    </tr>\n",
              "    <tr>\n",
              "      <th>11</th>\n",
              "      <td>0.819188</td>\n",
              "      <td>0.700324</td>\n",
              "      <td>10.0</td>\n",
              "      <td>None</td>\n",
              "      <td>l2</td>\n",
              "      <td>saga</td>\n",
              "      <td>{'min_cnt_movies': 3}</td>\n",
              "      <td>True</td>\n",
              "      <td>True</td>\n",
              "      <td>True</td>\n",
              "    </tr>\n",
              "    <tr>\n",
              "      <th>6</th>\n",
              "      <td>0.743084</td>\n",
              "      <td>0.697254</td>\n",
              "      <td>10.0</td>\n",
              "      <td>None</td>\n",
              "      <td>l1</td>\n",
              "      <td>saga</td>\n",
              "      <td>None</td>\n",
              "      <td>True</td>\n",
              "      <td>True</td>\n",
              "      <td>False</td>\n",
              "    </tr>\n",
              "    <tr>\n",
              "      <th>21</th>\n",
              "      <td>0.743083</td>\n",
              "      <td>0.697256</td>\n",
              "      <td>1.0</td>\n",
              "      <td>None</td>\n",
              "      <td>l2</td>\n",
              "      <td>saga</td>\n",
              "      <td>None</td>\n",
              "      <td>True</td>\n",
              "      <td>True</td>\n",
              "      <td>False</td>\n",
              "    </tr>\n",
              "    <tr>\n",
              "      <th>18</th>\n",
              "      <td>0.743083</td>\n",
              "      <td>0.697256</td>\n",
              "      <td>1.0</td>\n",
              "      <td>None</td>\n",
              "      <td>l1</td>\n",
              "      <td>saga</td>\n",
              "      <td>None</td>\n",
              "      <td>True</td>\n",
              "      <td>True</td>\n",
              "      <td>False</td>\n",
              "    </tr>\n",
              "    <tr>\n",
              "      <th>33</th>\n",
              "      <td>0.743082</td>\n",
              "      <td>0.697250</td>\n",
              "      <td>0.1</td>\n",
              "      <td>None</td>\n",
              "      <td>l2</td>\n",
              "      <td>saga</td>\n",
              "      <td>None</td>\n",
              "      <td>True</td>\n",
              "      <td>True</td>\n",
              "      <td>False</td>\n",
              "    </tr>\n",
              "    <tr>\n",
              "      <th>12</th>\n",
              "      <td>0.743076</td>\n",
              "      <td>0.696184</td>\n",
              "      <td>1.0</td>\n",
              "      <td>balanced</td>\n",
              "      <td>l1</td>\n",
              "      <td>saga</td>\n",
              "      <td>None</td>\n",
              "      <td>True</td>\n",
              "      <td>True</td>\n",
              "      <td>False</td>\n",
              "    </tr>\n",
              "    <tr>\n",
              "      <th>0</th>\n",
              "      <td>0.743076</td>\n",
              "      <td>0.696182</td>\n",
              "      <td>10.0</td>\n",
              "      <td>balanced</td>\n",
              "      <td>l1</td>\n",
              "      <td>saga</td>\n",
              "      <td>None</td>\n",
              "      <td>True</td>\n",
              "      <td>True</td>\n",
              "      <td>False</td>\n",
              "    </tr>\n",
              "    <tr>\n",
              "      <th>15</th>\n",
              "      <td>0.743076</td>\n",
              "      <td>0.696183</td>\n",
              "      <td>1.0</td>\n",
              "      <td>balanced</td>\n",
              "      <td>l2</td>\n",
              "      <td>saga</td>\n",
              "      <td>None</td>\n",
              "      <td>True</td>\n",
              "      <td>True</td>\n",
              "      <td>False</td>\n",
              "    </tr>\n",
              "    <tr>\n",
              "      <th>3</th>\n",
              "      <td>0.743075</td>\n",
              "      <td>0.696178</td>\n",
              "      <td>10.0</td>\n",
              "      <td>balanced</td>\n",
              "      <td>l2</td>\n",
              "      <td>saga</td>\n",
              "      <td>None</td>\n",
              "      <td>True</td>\n",
              "      <td>True</td>\n",
              "      <td>False</td>\n",
              "    </tr>\n",
              "    <tr>\n",
              "      <th>30</th>\n",
              "      <td>0.743075</td>\n",
              "      <td>0.697231</td>\n",
              "      <td>0.1</td>\n",
              "      <td>None</td>\n",
              "      <td>l1</td>\n",
              "      <td>saga</td>\n",
              "      <td>None</td>\n",
              "      <td>True</td>\n",
              "      <td>True</td>\n",
              "      <td>False</td>\n",
              "    </tr>\n",
              "    <tr>\n",
              "      <th>24</th>\n",
              "      <td>0.743075</td>\n",
              "      <td>0.696114</td>\n",
              "      <td>0.1</td>\n",
              "      <td>balanced</td>\n",
              "      <td>l1</td>\n",
              "      <td>saga</td>\n",
              "      <td>None</td>\n",
              "      <td>True</td>\n",
              "      <td>True</td>\n",
              "      <td>False</td>\n",
              "    </tr>\n",
              "    <tr>\n",
              "      <th>27</th>\n",
              "      <td>0.743071</td>\n",
              "      <td>0.696188</td>\n",
              "      <td>0.1</td>\n",
              "      <td>balanced</td>\n",
              "      <td>l2</td>\n",
              "      <td>saga</td>\n",
              "      <td>None</td>\n",
              "      <td>True</td>\n",
              "      <td>True</td>\n",
              "      <td>False</td>\n",
              "    </tr>\n",
              "    <tr>\n",
              "      <th>9</th>\n",
              "      <td>0.743062</td>\n",
              "      <td>0.697253</td>\n",
              "      <td>10.0</td>\n",
              "      <td>None</td>\n",
              "      <td>l2</td>\n",
              "      <td>saga</td>\n",
              "      <td>None</td>\n",
              "      <td>True</td>\n",
              "      <td>True</td>\n",
              "      <td>False</td>\n",
              "    </tr>\n",
              "  </tbody>\n",
              "</table>\n",
              "</div>\n",
              "      <button class=\"colab-df-convert\" onclick=\"convertToInteractive('df-978b81cf-8e0a-4f4a-a511-651f87287100')\"\n",
              "              title=\"Convert this dataframe to an interactive table.\"\n",
              "              style=\"display:none;\">\n",
              "        \n",
              "  <svg xmlns=\"http://www.w3.org/2000/svg\" height=\"24px\"viewBox=\"0 0 24 24\"\n",
              "       width=\"24px\">\n",
              "    <path d=\"M0 0h24v24H0V0z\" fill=\"none\"/>\n",
              "    <path d=\"M18.56 5.44l.94 2.06.94-2.06 2.06-.94-2.06-.94-.94-2.06-.94 2.06-2.06.94zm-11 1L8.5 8.5l.94-2.06 2.06-.94-2.06-.94L8.5 2.5l-.94 2.06-2.06.94zm10 10l.94 2.06.94-2.06 2.06-.94-2.06-.94-.94-2.06-.94 2.06-2.06.94z\"/><path d=\"M17.41 7.96l-1.37-1.37c-.4-.4-.92-.59-1.43-.59-.52 0-1.04.2-1.43.59L10.3 9.45l-7.72 7.72c-.78.78-.78 2.05 0 2.83L4 21.41c.39.39.9.59 1.41.59.51 0 1.02-.2 1.41-.59l7.78-7.78 2.81-2.81c.8-.78.8-2.07 0-2.86zM5.41 20L4 18.59l7.72-7.72 1.47 1.35L5.41 20z\"/>\n",
              "  </svg>\n",
              "      </button>\n",
              "      \n",
              "  <style>\n",
              "    .colab-df-container {\n",
              "      display:flex;\n",
              "      flex-wrap:wrap;\n",
              "      gap: 12px;\n",
              "    }\n",
              "\n",
              "    .colab-df-convert {\n",
              "      background-color: #E8F0FE;\n",
              "      border: none;\n",
              "      border-radius: 50%;\n",
              "      cursor: pointer;\n",
              "      display: none;\n",
              "      fill: #1967D2;\n",
              "      height: 32px;\n",
              "      padding: 0 0 0 0;\n",
              "      width: 32px;\n",
              "    }\n",
              "\n",
              "    .colab-df-convert:hover {\n",
              "      background-color: #E2EBFA;\n",
              "      box-shadow: 0px 1px 2px rgba(60, 64, 67, 0.3), 0px 1px 3px 1px rgba(60, 64, 67, 0.15);\n",
              "      fill: #174EA6;\n",
              "    }\n",
              "\n",
              "    [theme=dark] .colab-df-convert {\n",
              "      background-color: #3B4455;\n",
              "      fill: #D2E3FC;\n",
              "    }\n",
              "\n",
              "    [theme=dark] .colab-df-convert:hover {\n",
              "      background-color: #434B5C;\n",
              "      box-shadow: 0px 1px 3px 1px rgba(0, 0, 0, 0.15);\n",
              "      filter: drop-shadow(0px 1px 2px rgba(0, 0, 0, 0.3));\n",
              "      fill: #FFFFFF;\n",
              "    }\n",
              "  </style>\n",
              "\n",
              "      <script>\n",
              "        const buttonEl =\n",
              "          document.querySelector('#df-978b81cf-8e0a-4f4a-a511-651f87287100 button.colab-df-convert');\n",
              "        buttonEl.style.display =\n",
              "          google.colab.kernel.accessAllowed ? 'block' : 'none';\n",
              "\n",
              "        async function convertToInteractive(key) {\n",
              "          const element = document.querySelector('#df-978b81cf-8e0a-4f4a-a511-651f87287100');\n",
              "          const dataTable =\n",
              "            await google.colab.kernel.invokeFunction('convertToInteractive',\n",
              "                                                     [key], {});\n",
              "          if (!dataTable) return;\n",
              "\n",
              "          const docLinkHtml = 'Like what you see? Visit the ' +\n",
              "            '<a target=\"_blank\" href=https://colab.research.google.com/notebooks/data_table.ipynb>data table notebook</a>'\n",
              "            + ' to learn more about interactive tables.';\n",
              "          element.innerHTML = '';\n",
              "          dataTable['output_type'] = 'display_data';\n",
              "          await google.colab.output.renderOutput(dataTable, element);\n",
              "          const docLink = document.createElement('div');\n",
              "          docLink.innerHTML = docLinkHtml;\n",
              "          element.appendChild(docLink);\n",
              "        }\n",
              "      </script>\n",
              "    </div>\n",
              "  </div>\n",
              "  "
            ]
          },
          "metadata": {},
          "execution_count": 26
        }
      ],
      "source": [
        "experiments_df.sort_values('train_auc', ascending=False)"
      ]
    },
    {
      "cell_type": "code",
      "execution_count": 27,
      "metadata": {
        "id": "JmOl6JWOYhHT"
      },
      "outputs": [],
      "source": [
        "best = max(experiment_outputs, key=lambda x: x['dev_metrics']['roc_auc'])"
      ]
    },
    {
      "cell_type": "code",
      "execution_count": 28,
      "metadata": {
        "colab": {
          "base_uri": "https://localhost:8080/"
        },
        "id": "gAxYixPeYhHT",
        "outputId": "a33096b2-b049-4f09-ac91-2b44df8cc96c"
      },
      "outputs": [
        {
          "output_type": "execute_result",
          "data": {
            "text/plain": [
              "{'dev_metrics': {'f_0.5': 0.18490109002826, 'roc_auc': 0.7003236057480591},\n",
              " 'model': Pipeline(steps=[('pipeline',\n",
              "                  Pipeline(steps=[('featureunion',\n",
              "                                   FeatureUnion(transformer_list=[('pipeline-1',\n",
              "                                                                   Pipeline(steps=[('yearsago',\n",
              "                                                                                    YearsAgo()),\n",
              "                                                                                   ('dictvectorizer',\n",
              "                                                                                    DictVectorizer(sparse=False))])),\n",
              "                                                                  ('pipeline-2',\n",
              "                                                                   Pipeline(steps=[('genredummies',\n",
              "                                                                                    GenreDummies()),\n",
              "                                                                                   ('dictvectorizer',\n",
              "                                                                                    DictVectorizer(sparse=False))])),\n",
              "                                                                  ('pipeline-3',\n",
              "                                                                   Pipeline(steps=[('directorfeatures',\n",
              "                                                                                    DirectorFeatures(min_cnt_movies=3)),\n",
              "                                                                                   ('dictvectorizer',\n",
              "                                                                                    DictVectorizer(sparse=False))]))])),\n",
              "                                  ('standardscaler', StandardScaler())])),\n",
              "                 ('logisticregression',\n",
              "                  LogisticRegression(C=10.0, solver='saga'))]),\n",
              " 'params': {'feature': {'director_kws': {'min_cnt_movies': 3},\n",
              "   'post_processing': StandardScaler(),\n",
              "   'use_director': True,\n",
              "   'use_genre': True,\n",
              "   'use_years': True},\n",
              "  'model': {'C': 10.0,\n",
              "   'class_weight': None,\n",
              "   'penalty': 'l2',\n",
              "   'solver': 'saga'}},\n",
              " 'train_metrics': {'f_0.5': 0.43078266305929525,\n",
              "  'roc_auc': 0.8191884894630719}}"
            ]
          },
          "metadata": {},
          "execution_count": 28
        }
      ],
      "source": [
        "best"
      ]
    },
    {
      "cell_type": "markdown",
      "metadata": {
        "id": "n4xxvXo-YhHT"
      },
      "source": [
        "### Para pensar 🤔\n",
        "\n",
        "Usando este código de base, como implementarías random search?"
      ]
    },
    {
      "cell_type": "markdown",
      "metadata": {
        "id": "bNHFUY3eYhHT"
      },
      "source": [
        "# Hyperopt: Sequential Model Based Optimization\n",
        "\n",
        "https://districtdatalabs.silvrback.com/parameter-tuning-with-hyperopt"
      ]
    },
    {
      "cell_type": "code",
      "execution_count": 29,
      "metadata": {
        "colab": {
          "base_uri": "https://localhost:8080/"
        },
        "id": "736FvQJSYhHT",
        "outputId": "2fcf9af1-033b-433c-dc3a-274805291e9f"
      },
      "outputs": [
        {
          "output_type": "stream",
          "name": "stdout",
          "text": [
            "Looking in indexes: https://pypi.org/simple, https://us-python.pkg.dev/colab-wheels/public/simple/\n",
            "Requirement already satisfied: hyperopt in /usr/local/lib/python3.7/dist-packages (0.1.2)\n",
            "Requirement already satisfied: tqdm in /usr/local/lib/python3.7/dist-packages (from hyperopt) (4.64.0)\n",
            "Requirement already satisfied: numpy in /usr/local/lib/python3.7/dist-packages (from hyperopt) (1.21.6)\n",
            "Requirement already satisfied: six in /usr/local/lib/python3.7/dist-packages (from hyperopt) (1.15.0)\n",
            "Requirement already satisfied: networkx in /usr/local/lib/python3.7/dist-packages (from hyperopt) (2.6.3)\n",
            "Requirement already satisfied: scipy in /usr/local/lib/python3.7/dist-packages (from hyperopt) (1.7.3)\n",
            "Requirement already satisfied: future in /usr/local/lib/python3.7/dist-packages (from hyperopt) (0.16.0)\n",
            "Requirement already satisfied: pymongo in /usr/local/lib/python3.7/dist-packages (from hyperopt) (4.1.1)\n"
          ]
        }
      ],
      "source": [
        "!pip install hyperopt"
      ]
    },
    {
      "cell_type": "code",
      "execution_count": 30,
      "metadata": {
        "id": "G1MXeWxtYhHT"
      },
      "outputs": [],
      "source": [
        "import numpy as np\n",
        "from hyperopt import hp\n",
        "\n",
        "lr_space = {\n",
        "    'model_params': {\n",
        "            'penalty': hp.choice('penalty', ['l1', 'l2']),\n",
        "            'C': hp.loguniform('C', np.log(0.001), np.log(100)),\n",
        "            'class_weight': hp.choice('class_weight', ['balanced', None]),\n",
        "            'solver': 'saga',\n",
        "        },\n",
        "    \n",
        "    'feature_params': {\n",
        "        'use_years': hp.choice('use_years', [True, False]),\n",
        "        'use_genre': hp.choice('use_genre', [True, False]), \n",
        "        # Tenemos 2 hyper parametros interdependientes, solo seteamos director_kws\n",
        "        'director_kws': hp.choice('director_kws', \n",
        "                    [None, dict(min_cnt_movies=0), \n",
        "                     dict(min_cnt_movies=1), dict(min_cnt_movies=2), dict(min_cnt_movies=3),\n",
        "                     dict(min_cnt_movies=6), dict(min_cnt_movies=8), dict(min_cnt_movies=10)\n",
        "                    ]\n",
        "        ),\n",
        "        'post_processing': StandardScaler() # siempre hacemos esto porque es regresion logistica\n",
        "    }\n",
        "}"
      ]
    },
    {
      "cell_type": "code",
      "execution_count": 31,
      "metadata": {
        "colab": {
          "base_uri": "https://localhost:8080/"
        },
        "id": "1CkxwpNRYhHT",
        "outputId": "210e1e25-9dfc-4ef6-a555-c9d902fa3a44"
      },
      "outputs": [
        {
          "output_type": "stream",
          "name": "stdout",
          "text": [
            "100%|██████████| 100/100 [29:27<00:00, 17.68s/it, best loss: -0.7018982759980783]\n"
          ]
        }
      ],
      "source": [
        "import pickle\n",
        "from hyperopt import fmin, tpe, hp, STATUS_OK, Trials, STATUS_FAIL\n",
        "\n",
        "def objective(x):\n",
        "    feature_params = x['feature_params']\n",
        "    model_params = x['model_params']\n",
        "    \n",
        "    empty_features = (\n",
        "        not feature_params['use_years'] and \n",
        "        not feature_params['use_genre'] and \n",
        "        feature_params['director_kws'] is None\n",
        "    )\n",
        "    if empty_features:   \n",
        "        # esta combinacion no tiene sentido probarla porque no usa ningun feature\n",
        "        # misma cosa que en el grid search\n",
        "        return {'loss': 1000, 'status': STATUS_FAIL}\n",
        "\n",
        "    exp_output = experiment_lr(model_params, feature_params, X_train, y_train, X_test, y_test)\n",
        "    exp_output['loss'] = -exp_output['dev_metrics']['roc_auc']\n",
        "    exp_output['status'] = STATUS_OK\n",
        "    return exp_output\n",
        "\n",
        "trials = Trials()\n",
        "fmin(\n",
        "    objective,\n",
        "    space=lr_space,\n",
        "    algo=tpe.suggest,\n",
        "    max_evals=100,\n",
        "    trials=trials\n",
        ");"
      ]
    },
    {
      "cell_type": "code",
      "execution_count": 32,
      "metadata": {
        "colab": {
          "base_uri": "https://localhost:8080/"
        },
        "id": "uAExHgbYYhHT",
        "outputId": "2120f6c5-3099-4efd-8225-5ebdf267583d"
      },
      "outputs": [
        {
          "output_type": "execute_result",
          "data": {
            "text/plain": [
              "{'book_time': datetime.datetime(2022, 7, 14, 17, 10, 8, 681000),\n",
              " 'exp_key': None,\n",
              " 'misc': {'cmd': ('domain_attachment', 'FMinIter_Domain'),\n",
              "  'idxs': {'C': [88],\n",
              "   'class_weight': [88],\n",
              "   'director_kws': [88],\n",
              "   'penalty': [88],\n",
              "   'use_genre': [88],\n",
              "   'use_years': [88]},\n",
              "  'tid': 88,\n",
              "  'vals': {'C': [0.3423006078037341],\n",
              "   'class_weight': [1],\n",
              "   'director_kws': [5],\n",
              "   'penalty': [0],\n",
              "   'use_genre': [0],\n",
              "   'use_years': [0]},\n",
              "  'workdir': None},\n",
              " 'owner': None,\n",
              " 'refresh_time': datetime.datetime(2022, 7, 14, 17, 10, 31, 463000),\n",
              " 'result': {'dev_metrics': {'f_0.5': 0.15090448964289063,\n",
              "   'roc_auc': 0.7018982759980783},\n",
              "  'loss': -0.7018982759980783,\n",
              "  'model': Pipeline(steps=[('pipeline',\n",
              "                   Pipeline(steps=[('featureunion',\n",
              "                                    FeatureUnion(transformer_list=[('pipeline-1',\n",
              "                                                                    Pipeline(steps=[('yearsago',\n",
              "                                                                                     YearsAgo()),\n",
              "                                                                                    ('dictvectorizer',\n",
              "                                                                                     DictVectorizer(sparse=False))])),\n",
              "                                                                   ('pipeline-2',\n",
              "                                                                    Pipeline(steps=[('genredummies',\n",
              "                                                                                     GenreDummies()),\n",
              "                                                                                    ('dictvectorizer',\n",
              "                                                                                     DictVectorizer(sparse=False))])),\n",
              "                                                                   ('pipeline-3',\n",
              "                                                                    Pipeline(steps=[('directorfeatures',\n",
              "                                                                                     DirectorFeatures(min_cnt_movies=6)),\n",
              "                                                                                    ('dictvectorizer',\n",
              "                                                                                     DictVectorizer(sparse=False))]))])),\n",
              "                                   ('standardscaler', StandardScaler())])),\n",
              "                  ('logisticregression',\n",
              "                   LogisticRegression(C=0.3423006078037341, penalty='l1',\n",
              "                                      solver='saga'))]),\n",
              "  'params': {'feature': {'director_kws': {'min_cnt_movies': 6},\n",
              "    'post_processing': StandardScaler(),\n",
              "    'use_director': True,\n",
              "    'use_genre': True,\n",
              "    'use_years': True},\n",
              "   'model': {'C': 0.3423006078037341,\n",
              "    'class_weight': None,\n",
              "    'penalty': 'l1',\n",
              "    'solver': 'saga'}},\n",
              "  'status': 'ok',\n",
              "  'train_metrics': {'f_0.5': 0.36226773188340744,\n",
              "   'roc_auc': 0.8001242970469059}},\n",
              " 'spec': None,\n",
              " 'state': 2,\n",
              " 'tid': 88,\n",
              " 'version': 0}"
            ]
          },
          "metadata": {},
          "execution_count": 32
        }
      ],
      "source": [
        "trials.best_trial"
      ]
    },
    {
      "cell_type": "markdown",
      "metadata": {
        "id": "R-XVpNLwYhHU"
      },
      "source": [
        "## Para pensar 🤔\n",
        "\n",
        "* Cómo se adaptaría todo esto para usar GradientBoostingClassifier, o lightgbm?\n",
        "* Qué pasa promediáramos la mejor regresion logística con el mejor arbol? Mejoraría?\n",
        "* Valdría la pena esa ganancia en performance para el problema que queremos resolver? Al principio del proyecto? 1 año despues de que arranco? Nunca?\n",
        "\n",
        "* Si hiciste algun feature transformer extra? Cómo evaluarías si ese transformer mejora?"
      ]
    },
    {
      "cell_type": "markdown",
      "metadata": {
        "id": "5BngyG3-YhHU"
      },
      "source": [
        "# Auto sklearn"
      ]
    },
    {
      "cell_type": "code",
      "execution_count": 12,
      "metadata": {
        "colab": {
          "base_uri": "https://localhost:8080/"
        },
        "id": "8xCl8-4FYhHU",
        "outputId": "165f89f0-7751-4e35-d1df-a2234ad7bb82"
      },
      "outputs": [
        {
          "data": {
            "text/plain": [
              "Pipeline(steps=[('pipeline',\n",
              "                 Pipeline(steps=[('featureunion',\n",
              "                                  FeatureUnion(transformer_list=[('pipeline-1',\n",
              "                                                                  Pipeline(steps=[('genredummies',\n",
              "                                                                                   GenreDummies()),\n",
              "                                                                                  ('dictvectorizer',\n",
              "                                                                                   DictVectorizer(sparse=False))])),\n",
              "                                                                 ('pipeline-2',\n",
              "                                                                  Pipeline(steps=[('directorfeatures',\n",
              "                                                                                   DirectorFeatures()),\n",
              "                                                                                  ('dictvectorizer',\n",
              "                                                                                   DictVectorizer(sparse=False))]))])),\n",
              "                                 ('standardscaler', StandardScaler())])),\n",
              "                ('autosklearnclassifier',\n",
              "                 AutoSklearnClassifier(metric=roc_auc,\n",
              "                                       per_run_time_limit=360))])"
            ]
          },
          "execution_count": null,
          "metadata": {},
          "output_type": "execute_result"
        }
      ],
      "source": [
        "import autosklearn.classification\n",
        "from autosklearn.metrics import roc_auc\n",
        "from sklearn.preprocessing import StandardScaler\n",
        "\n",
        "model = get_model_pipe(\n",
        "    features_pipe=get_features_pipe(\n",
        "        use_years=False, use_director=True, use_genre=True, post_processing=StandardScaler()\n",
        "    ),\n",
        "    estimator=autosklearn.classification.AutoSklearnClassifier(metric=roc_auc)\n",
        ")\n",
        "\n",
        "\n",
        "model.fit(X_train, y_train)"
      ]
    },
    {
      "cell_type": "code",
      "execution_count": 13,
      "metadata": {
        "colab": {
          "base_uri": "https://localhost:8080/"
        },
        "id": "UjhnDBAmYhHU",
        "outputId": "dc05d6e5-326c-4eb3-c073-641379d53f59"
      },
      "outputs": [
        {
          "data": {
            "text/plain": [
              "{'f_0.5': 0.5375594491177519, 'roc_auc': 0.8898933645397866}"
            ]
          },
          "execution_count": null,
          "metadata": {},
          "output_type": "execute_result"
        }
      ],
      "source": [
        "get_metrics(model, X_train, y_train)"
      ]
    },
    {
      "cell_type": "code",
      "execution_count": 14,
      "metadata": {
        "colab": {
          "base_uri": "https://localhost:8080/"
        },
        "id": "av8nCQ6YYhHU",
        "outputId": "93768585-7eed-444d-9ed4-a45837a38bb1"
      },
      "outputs": [
        {
          "data": {
            "text/plain": [
              "{'f_0.5': 0.40397239521966, 'roc_auc': 0.7359210322149413}"
            ]
          },
          "execution_count": null,
          "metadata": {},
          "output_type": "execute_result"
        }
      ],
      "source": [
        "get_metrics(model, X_dev, y_dev)"
      ]
    },
    {
      "cell_type": "markdown",
      "metadata": {
        "id": "sWVvACv8YhHU"
      },
      "source": [
        "## Ojo! 👀\n",
        "\n",
        "AutoSklearnClassifier usa modelos no lineales y lo de arriba esta todo hecho con una regresion logística!"
      ]
    }
  ],
  "metadata": {
    "kernelspec": {
      "display_name": "Python 3",
      "language": "python",
      "name": "python3"
    },
    "language_info": {
      "codemirror_mode": {
        "name": "ipython",
        "version": 3
      },
      "file_extension": ".py",
      "mimetype": "text/x-python",
      "name": "python",
      "nbconvert_exporter": "python",
      "pygments_lexer": "ipython3",
      "version": "3.8.3"
    },
    "colab": {
      "name": "03-hyperparameter-search.ipynb",
      "provenance": []
    },
    "widgets": {
      "application/vnd.jupyter.widget-state+json": {
        "191970d69dae4d8c80a8625c87848a1e": {
          "model_module": "@jupyter-widgets/controls",
          "model_name": "HBoxModel",
          "model_module_version": "1.5.0",
          "state": {
            "_dom_classes": [],
            "_model_module": "@jupyter-widgets/controls",
            "_model_module_version": "1.5.0",
            "_model_name": "HBoxModel",
            "_view_count": null,
            "_view_module": "@jupyter-widgets/controls",
            "_view_module_version": "1.5.0",
            "_view_name": "HBoxView",
            "box_style": "",
            "children": [
              "IPY_MODEL_a67ce1809403437fae62e89d744de98c",
              "IPY_MODEL_e5bf74704ed0426b8222aa50ab622eb0",
              "IPY_MODEL_5449a19f7b544eaabfc4bce57028a63c"
            ],
            "layout": "IPY_MODEL_ceab8571686145d890db688039aee444"
          }
        },
        "a67ce1809403437fae62e89d744de98c": {
          "model_module": "@jupyter-widgets/controls",
          "model_name": "HTMLModel",
          "model_module_version": "1.5.0",
          "state": {
            "_dom_classes": [],
            "_model_module": "@jupyter-widgets/controls",
            "_model_module_version": "1.5.0",
            "_model_name": "HTMLModel",
            "_view_count": null,
            "_view_module": "@jupyter-widgets/controls",
            "_view_module_version": "1.5.0",
            "_view_name": "HTMLView",
            "description": "",
            "description_tooltip": null,
            "layout": "IPY_MODEL_1ab470377d5f4f60a4bc4cffcf25ae97",
            "placeholder": "​",
            "style": "IPY_MODEL_9bf81a73b57b40c9938be0e8f75e191c",
            "value": "100%"
          }
        },
        "e5bf74704ed0426b8222aa50ab622eb0": {
          "model_module": "@jupyter-widgets/controls",
          "model_name": "FloatProgressModel",
          "model_module_version": "1.5.0",
          "state": {
            "_dom_classes": [],
            "_model_module": "@jupyter-widgets/controls",
            "_model_module_version": "1.5.0",
            "_model_name": "FloatProgressModel",
            "_view_count": null,
            "_view_module": "@jupyter-widgets/controls",
            "_view_module_version": "1.5.0",
            "_view_name": "ProgressView",
            "bar_style": "success",
            "description": "",
            "description_tooltip": null,
            "layout": "IPY_MODEL_a17d934136764a9f8c7d02d8bb505b3c",
            "max": 12,
            "min": 0,
            "orientation": "horizontal",
            "style": "IPY_MODEL_5fedf9e9ddec445f9c6bfee24c20bbec",
            "value": 12
          }
        },
        "5449a19f7b544eaabfc4bce57028a63c": {
          "model_module": "@jupyter-widgets/controls",
          "model_name": "HTMLModel",
          "model_module_version": "1.5.0",
          "state": {
            "_dom_classes": [],
            "_model_module": "@jupyter-widgets/controls",
            "_model_module_version": "1.5.0",
            "_model_name": "HTMLModel",
            "_view_count": null,
            "_view_module": "@jupyter-widgets/controls",
            "_view_module_version": "1.5.0",
            "_view_name": "HTMLView",
            "description": "",
            "description_tooltip": null,
            "layout": "IPY_MODEL_0201655e352a4993a0508dd8976a0979",
            "placeholder": "​",
            "style": "IPY_MODEL_4ddf45f996034ab6ac98b992d7edb900",
            "value": " 12/12 [09:56&lt;00:00, 50.79s/it]"
          }
        },
        "ceab8571686145d890db688039aee444": {
          "model_module": "@jupyter-widgets/base",
          "model_name": "LayoutModel",
          "model_module_version": "1.2.0",
          "state": {
            "_model_module": "@jupyter-widgets/base",
            "_model_module_version": "1.2.0",
            "_model_name": "LayoutModel",
            "_view_count": null,
            "_view_module": "@jupyter-widgets/base",
            "_view_module_version": "1.2.0",
            "_view_name": "LayoutView",
            "align_content": null,
            "align_items": null,
            "align_self": null,
            "border": null,
            "bottom": null,
            "display": null,
            "flex": null,
            "flex_flow": null,
            "grid_area": null,
            "grid_auto_columns": null,
            "grid_auto_flow": null,
            "grid_auto_rows": null,
            "grid_column": null,
            "grid_gap": null,
            "grid_row": null,
            "grid_template_areas": null,
            "grid_template_columns": null,
            "grid_template_rows": null,
            "height": null,
            "justify_content": null,
            "justify_items": null,
            "left": null,
            "margin": null,
            "max_height": null,
            "max_width": null,
            "min_height": null,
            "min_width": null,
            "object_fit": null,
            "object_position": null,
            "order": null,
            "overflow": null,
            "overflow_x": null,
            "overflow_y": null,
            "padding": null,
            "right": null,
            "top": null,
            "visibility": null,
            "width": null
          }
        },
        "1ab470377d5f4f60a4bc4cffcf25ae97": {
          "model_module": "@jupyter-widgets/base",
          "model_name": "LayoutModel",
          "model_module_version": "1.2.0",
          "state": {
            "_model_module": "@jupyter-widgets/base",
            "_model_module_version": "1.2.0",
            "_model_name": "LayoutModel",
            "_view_count": null,
            "_view_module": "@jupyter-widgets/base",
            "_view_module_version": "1.2.0",
            "_view_name": "LayoutView",
            "align_content": null,
            "align_items": null,
            "align_self": null,
            "border": null,
            "bottom": null,
            "display": null,
            "flex": null,
            "flex_flow": null,
            "grid_area": null,
            "grid_auto_columns": null,
            "grid_auto_flow": null,
            "grid_auto_rows": null,
            "grid_column": null,
            "grid_gap": null,
            "grid_row": null,
            "grid_template_areas": null,
            "grid_template_columns": null,
            "grid_template_rows": null,
            "height": null,
            "justify_content": null,
            "justify_items": null,
            "left": null,
            "margin": null,
            "max_height": null,
            "max_width": null,
            "min_height": null,
            "min_width": null,
            "object_fit": null,
            "object_position": null,
            "order": null,
            "overflow": null,
            "overflow_x": null,
            "overflow_y": null,
            "padding": null,
            "right": null,
            "top": null,
            "visibility": null,
            "width": null
          }
        },
        "9bf81a73b57b40c9938be0e8f75e191c": {
          "model_module": "@jupyter-widgets/controls",
          "model_name": "DescriptionStyleModel",
          "model_module_version": "1.5.0",
          "state": {
            "_model_module": "@jupyter-widgets/controls",
            "_model_module_version": "1.5.0",
            "_model_name": "DescriptionStyleModel",
            "_view_count": null,
            "_view_module": "@jupyter-widgets/base",
            "_view_module_version": "1.2.0",
            "_view_name": "StyleView",
            "description_width": ""
          }
        },
        "a17d934136764a9f8c7d02d8bb505b3c": {
          "model_module": "@jupyter-widgets/base",
          "model_name": "LayoutModel",
          "model_module_version": "1.2.0",
          "state": {
            "_model_module": "@jupyter-widgets/base",
            "_model_module_version": "1.2.0",
            "_model_name": "LayoutModel",
            "_view_count": null,
            "_view_module": "@jupyter-widgets/base",
            "_view_module_version": "1.2.0",
            "_view_name": "LayoutView",
            "align_content": null,
            "align_items": null,
            "align_self": null,
            "border": null,
            "bottom": null,
            "display": null,
            "flex": null,
            "flex_flow": null,
            "grid_area": null,
            "grid_auto_columns": null,
            "grid_auto_flow": null,
            "grid_auto_rows": null,
            "grid_column": null,
            "grid_gap": null,
            "grid_row": null,
            "grid_template_areas": null,
            "grid_template_columns": null,
            "grid_template_rows": null,
            "height": null,
            "justify_content": null,
            "justify_items": null,
            "left": null,
            "margin": null,
            "max_height": null,
            "max_width": null,
            "min_height": null,
            "min_width": null,
            "object_fit": null,
            "object_position": null,
            "order": null,
            "overflow": null,
            "overflow_x": null,
            "overflow_y": null,
            "padding": null,
            "right": null,
            "top": null,
            "visibility": null,
            "width": null
          }
        },
        "5fedf9e9ddec445f9c6bfee24c20bbec": {
          "model_module": "@jupyter-widgets/controls",
          "model_name": "ProgressStyleModel",
          "model_module_version": "1.5.0",
          "state": {
            "_model_module": "@jupyter-widgets/controls",
            "_model_module_version": "1.5.0",
            "_model_name": "ProgressStyleModel",
            "_view_count": null,
            "_view_module": "@jupyter-widgets/base",
            "_view_module_version": "1.2.0",
            "_view_name": "StyleView",
            "bar_color": null,
            "description_width": ""
          }
        },
        "0201655e352a4993a0508dd8976a0979": {
          "model_module": "@jupyter-widgets/base",
          "model_name": "LayoutModel",
          "model_module_version": "1.2.0",
          "state": {
            "_model_module": "@jupyter-widgets/base",
            "_model_module_version": "1.2.0",
            "_model_name": "LayoutModel",
            "_view_count": null,
            "_view_module": "@jupyter-widgets/base",
            "_view_module_version": "1.2.0",
            "_view_name": "LayoutView",
            "align_content": null,
            "align_items": null,
            "align_self": null,
            "border": null,
            "bottom": null,
            "display": null,
            "flex": null,
            "flex_flow": null,
            "grid_area": null,
            "grid_auto_columns": null,
            "grid_auto_flow": null,
            "grid_auto_rows": null,
            "grid_column": null,
            "grid_gap": null,
            "grid_row": null,
            "grid_template_areas": null,
            "grid_template_columns": null,
            "grid_template_rows": null,
            "height": null,
            "justify_content": null,
            "justify_items": null,
            "left": null,
            "margin": null,
            "max_height": null,
            "max_width": null,
            "min_height": null,
            "min_width": null,
            "object_fit": null,
            "object_position": null,
            "order": null,
            "overflow": null,
            "overflow_x": null,
            "overflow_y": null,
            "padding": null,
            "right": null,
            "top": null,
            "visibility": null,
            "width": null
          }
        },
        "4ddf45f996034ab6ac98b992d7edb900": {
          "model_module": "@jupyter-widgets/controls",
          "model_name": "DescriptionStyleModel",
          "model_module_version": "1.5.0",
          "state": {
            "_model_module": "@jupyter-widgets/controls",
            "_model_module_version": "1.5.0",
            "_model_name": "DescriptionStyleModel",
            "_view_count": null,
            "_view_module": "@jupyter-widgets/base",
            "_view_module_version": "1.2.0",
            "_view_name": "StyleView",
            "description_width": ""
          }
        }
      }
    }
  },
  "nbformat": 4,
  "nbformat_minor": 0
}