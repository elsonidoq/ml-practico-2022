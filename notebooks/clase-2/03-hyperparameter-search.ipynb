{
 "cells": [
  {
   "cell_type": "code",
   "execution_count": null,
   "metadata": {},
   "outputs": [],
   "source": [
    "from google.colab import drive\n",
    "\n",
    "drive.mount('/content/gdrive')"
   ]
  },
  {
   "cell_type": "markdown",
   "metadata": {},
   "source": [
    "# Llevamos el repositorio a nuestro drive"
   ]
  },
  {
   "cell_type": "code",
   "execution_count": null,
   "metadata": {},
   "outputs": [],
   "source": [
    "# Esto solo debemos ejecutarlo una vez. Si lo ejecutamos mas de una vez va a fallar (pero no pasa nada!)\n",
    "!mkdir /content/gdrive/My\\ Drive/ml-practico/code\n",
    "# Acá podes usar tu propio repo si queres hacer modificaciones (highly recommended)\n",
    "!git clone https://github.com/elsonidoq/machine_learning_practico /content/gdrive/My\\ Drive/ml-practico/code"
   ]
  },
  {
   "cell_type": "code",
   "execution_count": null,
   "metadata": {},
   "outputs": [],
   "source": [
    "# Si hay cambios en el repositorio, con esta linea actualizas tu drive\n",
    "!cd /content/gdrive/My\\ Drive/ml-practico/code; git pull"
   ]
  },
  {
   "cell_type": "code",
   "execution_count": null,
   "metadata": {},
   "outputs": [],
   "source": [
    "import sys\n",
    "sys.path.append('/content/gdrive/My Drive/ml-practico/code')"
   ]
  },
  {
   "cell_type": "code",
   "execution_count": 4,
   "metadata": {},
   "outputs": [],
   "source": [
    "import sys\n",
    "sys.path.append('/Users/przivic/prog/machine_learning_practico')"
   ]
  },
  {
   "cell_type": "markdown",
   "metadata": {},
   "source": [
    "# Loading the data"
   ]
  },
  {
   "cell_type": "code",
   "execution_count": null,
   "metadata": {},
   "outputs": [],
   "source": [
    "SAMPLE = False"
   ]
  },
  {
   "cell_type": "code",
   "execution_count": 5,
   "metadata": {},
   "outputs": [],
   "source": [
    "from lib import transformers, data"
   ]
  },
  {
   "cell_type": "code",
   "execution_count": 6,
   "metadata": {},
   "outputs": [
    {
     "name": "stdout",
     "output_type": "stream",
     "text": [
      "Loading title basics...\n"
     ]
    },
    {
     "name": "stderr",
     "output_type": "stream",
     "text": [
      "/Users/przivic/anaconda3/lib/python3.8/site-packages/IPython/core/interactiveshell.py:3343: DtypeWarning: Columns (5) have mixed types. Specify dtype option on import or set low_memory=False.\n",
      "  exec(code_obj, self.user_global_ns, self.user_ns)\n"
     ]
    },
    {
     "name": "stdout",
     "output_type": "stream",
     "text": [
      "Loading title ratings...\n",
      "Loading movie directors...\n",
      "Merging everything...\n"
     ]
    }
   ],
   "source": [
    "from random import sample\n",
    "from pathlib import Path\n",
    "\n",
    "movies = data.load_data(Path('../../data/'))\n",
    "\n",
    "if SAMPLE:\n",
    "    # TODO: check wither 50k is ok\n",
    "    movies = movies.sample(50000)"
   ]
  },
  {
   "cell_type": "markdown",
   "metadata": {},
   "source": [
    "# Model helpers"
   ]
  },
  {
   "cell_type": "code",
   "execution_count": 7,
   "metadata": {},
   "outputs": [],
   "source": [
    "from sklearn.pipeline import make_union, make_pipeline\n",
    "from sklearn.feature_extraction import DictVectorizer\n",
    "\n",
    "def get_features_pipe(\n",
    "        use_years: bool, use_genre: bool, \n",
    "        use_director: bool, director_kws: dict=None, post_processing=None):\n",
    "    \"\"\"\n",
    "    Construye el pipeline de features de forma parametrizada\n",
    "    \"\"\"\n",
    "    # director_kws solo tiene sentido cuando use_director=True. \n",
    "    # Esto nos va a traer dolores de cabeza a la hora de explorar el espacio de hyper parametros\n",
    "    # TODO: esto debería permitir cachear los datasets transformados\n",
    "    \n",
    "    steps = []\n",
    "    if use_years:\n",
    "        steps.append(make_pipeline(transformers.YearsAgo(), DictVectorizer(sparse=False)))\n",
    "    \n",
    "    if use_genre:\n",
    "        steps.append(make_pipeline(transformers.GenreDummies(), DictVectorizer(sparse=False)))\n",
    "        \n",
    "    if use_director:\n",
    "        director_kws = director_kws or {}\n",
    "        # cuando hacemos **director_kws usamos ese diccionario para pasar parametros\n",
    "        steps.append(make_pipeline(transformers.DirectorFeatures(**director_kws), DictVectorizer(sparse=False)))\n",
    "    \n",
    "    res = make_union(*steps)\n",
    "    if post_processing:\n",
    "        res = make_pipeline(res, post_processing)\n",
    "    return res\n",
    "\n",
    "def get_model_pipe(features_pipe, estimator):\n",
    "    return make_pipeline(features_pipe, estimator)"
   ]
  },
  {
   "attachments": {
    "image.png": {
     "image/png": "[encoded data removed]"
    }
   },
   "cell_type": "markdown",
   "metadata": {},
   "source": [
    "# Modelado sencillo\n",
    "\n",
    "Para ejemplificar el model selection. La proxima clase iteramos sobre esto\n",
    "\n",
    "1. Modelamos el problema como clasificacion P(rating > 7.5)\n",
    "2. Evaluamos con f_beta score, con beta = 0.5\n",
    "\n",
    "![image.png](attachment:image.png)"
   ]
  },
  {
   "cell_type": "code",
   "execution_count": 8,
   "metadata": {},
   "outputs": [
    {
     "data": {
      "text/plain": [
       "(251521, 20324, 21170, 0.08416792236035957, 0.08080438611487709)"
      ]
     },
     "execution_count": 8,
     "metadata": {},
     "output_type": "execute_result"
    }
   ],
   "source": [
    "train_df = movies[movies.startYear <= 2015]\n",
    "dev_df = movies[(movies.startYear > 2015) & (movies.startYear <= 2017)]\n",
    "test_df = movies[movies.startYear > 2017]\n",
    "\n",
    "X_train = train_df.to_dict(orient='records')\n",
    "X_dev = dev_df.to_dict(orient='records')\n",
    "X_test = test_df.to_dict(orient='records')\n",
    "\n",
    "len(train_df), len(dev_df), len(test_df), len(test_df) / len(train_df), len(dev_df) / len(train_df)"
   ]
  },
  {
   "cell_type": "code",
   "execution_count": 9,
   "metadata": {},
   "outputs": [
    {
     "data": {
      "text/plain": [
       "(0.14882256352352288, 0.18219838614445974, 0.17198866320264525)"
      ]
     },
     "execution_count": 9,
     "metadata": {},
     "output_type": "execute_result"
    }
   ],
   "source": [
    "y_train = (train_df.averageRating > 7.5).values\n",
    "y_dev = (dev_df.averageRating > 7.5).values\n",
    "y_test = (test_df.averageRating > 7.5).values\n",
    "\n",
    "y_train.sum() / len(y_train), y_dev.sum() / len(y_dev), y_test.sum() / len(y_test)"
   ]
  },
  {
   "cell_type": "markdown",
   "metadata": {},
   "source": [
    "## Ejemplo de uso"
   ]
  },
  {
   "cell_type": "code",
   "execution_count": 18,
   "metadata": {},
   "outputs": [
    {
     "data": {
      "text/plain": [
       "Pipeline(steps=[('pipeline',\n",
       "                 Pipeline(steps=[('featureunion',\n",
       "                                  FeatureUnion(transformer_list=[('pipeline-1',\n",
       "                                                                  Pipeline(steps=[('genredummies',\n",
       "                                                                                   GenreDummies()),\n",
       "                                                                                  ('dictvectorizer',\n",
       "                                                                                   DictVectorizer(sparse=False))])),\n",
       "                                                                 ('pipeline-2',\n",
       "                                                                  Pipeline(steps=[('directorfeatures',\n",
       "                                                                                   DirectorFeatures()),\n",
       "                                                                                  ('dictvectorizer',\n",
       "                                                                                   DictVectorizer(sparse=False))]))])),\n",
       "                                 ('standardscaler', StandardScaler())])),\n",
       "                ('logisticregression', LogisticRegression())])"
      ]
     },
     "execution_count": 18,
     "metadata": {},
     "output_type": "execute_result"
    }
   ],
   "source": [
    "from sklearn.preprocessing import StandardScaler\n",
    "from sklearn.linear_model import LogisticRegression\n",
    "\n",
    "model = get_model_pipe(\n",
    "    features_pipe=get_features_pipe(\n",
    "        use_years=False, use_director=True, use_genre=True, post_processing=StandardScaler()\n",
    "    ),\n",
    "    estimator=LogisticRegression()   \n",
    ")\n",
    "\n",
    "model"
   ]
  },
  {
   "cell_type": "code",
   "execution_count": 10,
   "metadata": {},
   "outputs": [],
   "source": [
    "from sklearn.metrics import fbeta_score, roc_auc_score\n",
    "\n",
    "def get_metrics(model, X, y, threshold=0.5):\n",
    "    scores = model.predict_proba(X)[:, 1]\n",
    "    return {\n",
    "        'f_0.5': fbeta_score(y, scores > threshold, beta=0.5),\n",
    "        'roc_auc': roc_auc_score(y, scores)\n",
    "    }"
   ]
  },
  {
   "cell_type": "code",
   "execution_count": 20,
   "metadata": {},
   "outputs": [],
   "source": [
    "model.fit(X_train, y_train);"
   ]
  },
  {
   "cell_type": "code",
   "execution_count": 21,
   "metadata": {},
   "outputs": [
    {
     "data": {
      "text/plain": [
       "array([0.08653449, 0.39716409, 0.01291727, 0.09266566, 0.08935667,\n",
       "       0.00626794, 0.03328152, 0.05521897, 0.07921332, 0.16316353])"
      ]
     },
     "execution_count": 21,
     "metadata": {},
     "output_type": "execute_result"
    }
   ],
   "source": [
    "y_pred_train = model.predict_proba(X_train)[: , 1]\n",
    "y_pred_train[:10]"
   ]
  },
  {
   "cell_type": "code",
   "execution_count": 22,
   "metadata": {},
   "outputs": [
    {
     "data": {
      "text/plain": [
       "0.4916281988986071"
      ]
     },
     "execution_count": 22,
     "metadata": {},
     "output_type": "execute_result"
    }
   ],
   "source": [
    "# Para jugar: como cambia la metrica cuando tocamos el threshold y beta?\n",
    "# Se mueve como esperamos que se mueva?\n",
    "\n",
    "fbeta_score(y_train, y_pred_train > 0.5, beta=0.5)"
   ]
  },
  {
   "cell_type": "code",
   "execution_count": 23,
   "metadata": {},
   "outputs": [
    {
     "data": {
      "text/plain": [
       "{'f_0.5': 0.4916281988986071, 'roc_auc': 0.8325748470236662}"
      ]
     },
     "execution_count": 23,
     "metadata": {},
     "output_type": "execute_result"
    }
   ],
   "source": [
    "get_metrics(model, X_train, y_train)"
   ]
  },
  {
   "cell_type": "code",
   "execution_count": 24,
   "metadata": {},
   "outputs": [
    {
     "data": {
      "text/plain": [
       "{'f_0.5': 0.22235311441613903, 'roc_auc': 0.7318091294695129}"
      ]
     },
     "execution_count": 24,
     "metadata": {},
     "output_type": "execute_result"
    }
   ],
   "source": [
    "get_metrics(model, X_dev, y_dev)"
   ]
  },
  {
   "cell_type": "markdown",
   "metadata": {},
   "source": [
    "Parece haber un roc auc relativamente bueno, sin embargo el f_0.5 da super bajo.\n",
    "\n",
    "### Para pensar 🤔\n",
    "Cómo podríamos optimizar el f_0.5 cambiando el threshold?"
   ]
  },
  {
   "cell_type": "markdown",
   "metadata": {},
   "source": [
    "# Grid search"
   ]
  },
  {
   "cell_type": "code",
   "execution_count": 11,
   "metadata": {},
   "outputs": [],
   "source": [
    "from time import time\n",
    "from sklearn.metrics import fbeta_score\n",
    "from sklearn.preprocessing import StandardScaler\n",
    "from sklearn.linear_model import LogisticRegression\n",
    "\n",
    "def experiment_lr(model_params, feature_params, X_train, y_train, X_dev, y_dev):\n",
    "    # Resolvemos el tema del director\n",
    "    feature_params['use_director'] = feature_params['director_kws'] is not None\n",
    "    \n",
    "    model = get_model_pipe(\n",
    "        features_pipe=get_features_pipe(**feature_params),\n",
    "        estimator=LogisticRegression(**model_params)\n",
    "    )\n",
    "    \n",
    "    t0 = time()\n",
    "    model.fit(X_train, y_train)\n",
    "    elapsed = time() - t0\n",
    "    \n",
    "    return {\n",
    "        'model': model,\n",
    "        'train_metrics': get_metrics(model, X_train, y_train),\n",
    "        'dev_metrics': get_metrics(model, X_dev, y_dev),\n",
    "        'params': {\n",
    "            'model': model_params, 'feature': feature_params\n",
    "        }\n",
    "    }"
   ]
  },
  {
   "cell_type": "code",
   "execution_count": 14,
   "metadata": {},
   "outputs": [],
   "source": [
    "from sklearn.model_selection import ParameterGrid\n",
    "\n",
    "lr_grid = ParameterGrid(\n",
    "    {\n",
    "        'penalty': ['l1', 'l2'],\n",
    "#         'tol': [1e-4, 1e-5, 1e-3],\n",
    "        'C': [10.0, 1.0, 0.1],\n",
    "        'class_weight': ['balanced', None],\n",
    "        'solver': ['saga'],\n",
    "    }\n",
    ")\n",
    "\n",
    "feature_grid = ParameterGrid(\n",
    "    {\n",
    "        'use_years': [True], \n",
    "        'use_genre': [True],  \n",
    "        # Tenemos 2 hyper parametros interdependientes, solo seteamos director_kws\n",
    "        'director_kws': [None, dict(min_cnt_movies=0), dict(min_cnt_movies=3)],\n",
    "        'post_processing': [StandardScaler()] # siempre hacemos esto porque es regresion logistica\n",
    "    }\n",
    ")"
   ]
  },
  {
   "cell_type": "code",
   "execution_count": 15,
   "metadata": {},
   "outputs": [],
   "source": [
    "from tqdm.notebook import tqdm\n",
    "\n",
    "def run_lr_experiments(): \n",
    "    # No toma parametros porque usa las variables globales que definimos durante el notebook\n",
    "    \n",
    "    results = []\n",
    "    for model_params in tqdm(list(lr_grid)):\n",
    "        for feature_params in feature_grid:\n",
    "            empty_features = (\n",
    "                not feature_params['use_years'] and \n",
    "                not feature_params['use_genre'] and \n",
    "                feature_params['director_kws'] is None\n",
    "            )\n",
    "            if empty_features: continue  # esta combinacion no tiene sentido probarla porque no usa ningun feature\n",
    "\n",
    "            results.append(experiment_lr(model_params, feature_params, X_train, y_train, X_test, y_test))\n",
    "    \n",
    "    return results"
   ]
  },
  {
   "cell_type": "code",
   "execution_count": 16,
   "metadata": {},
   "outputs": [
    {
     "data": {
      "application/vnd.jupyter.widget-view+json": {
       "model_id": "7c9cdc5baac04de7a1812db18d54f71a",
       "version_major": 2,
       "version_minor": 0
      },
      "text/plain": [
       "HBox(children=(FloatProgress(value=0.0, max=12.0), HTML(value='')))"
      ]
     },
     "metadata": {},
     "output_type": "display_data"
    },
    {
     "name": "stdout",
     "output_type": "stream",
     "text": [
      "\n"
     ]
    }
   ],
   "source": [
    "experiment_outputs = run_lr_experiments()"
   ]
  },
  {
   "cell_type": "code",
   "execution_count": 28,
   "metadata": {},
   "outputs": [],
   "source": [
    "import pandas as pd\n",
    "\n",
    "experiment_outputs_flat = []\n",
    "for e_nested in experiment_outputs:\n",
    "    e_flat = {\n",
    "        'train_auc': e_nested['train_metrics']['roc_auc'],\n",
    "        'dev_auc': e_nested['dev_metrics']['roc_auc'],\n",
    "    }\n",
    "    e_flat.update(e_nested['params']['model'])\n",
    "    e_flat.update(e_nested['params']['feature'])\n",
    "    experiment_outputs_flat.append(e_flat)\n",
    "    \n",
    "experiments_df = pd.DataFrame(experiment_outputs_flat).drop('post_processing', axis=1)"
   ]
  },
  {
   "cell_type": "code",
   "execution_count": 31,
   "metadata": {},
   "outputs": [
    {
     "data": {
      "text/plain": [
       "<matplotlib.axes._subplots.AxesSubplot at 0x203ee7610>"
      ]
     },
     "execution_count": 31,
     "metadata": {},
     "output_type": "execute_result"
    },
    {
     "data": {
      "image/png": "[encoded data removed]",
      "text/plain": [
       "<Figure size 432x288 with 1 Axes>"
      ]
     },
     "metadata": {
      "needs_background": "light"
     },
     "output_type": "display_data"
    }
   ],
   "source": [
    "experiments_df.plot.scatter('train_auc', 'dev_auc')"
   ]
  },
  {
   "cell_type": "code",
   "execution_count": 32,
   "metadata": {},
   "outputs": [
    {
     "data": {
      "text/html": [
       "<div>\n",
       "<style scoped>\n",
       "    .dataframe tbody tr th:only-of-type {\n",
       "        vertical-align: middle;\n",
       "    }\n",
       "\n",
       "    .dataframe tbody tr th {\n",
       "        vertical-align: top;\n",
       "    }\n",
       "\n",
       "    .dataframe thead th {\n",
       "        text-align: right;\n",
       "    }\n",
       "</style>\n",
       "<table border=\"1\" class=\"dataframe\">\n",
       "  <thead>\n",
       "    <tr style=\"text-align: right;\">\n",
       "      <th></th>\n",
       "      <th>train_auc</th>\n",
       "      <th>dev_auc</th>\n",
       "      <th>C</th>\n",
       "      <th>class_weight</th>\n",
       "      <th>penalty</th>\n",
       "      <th>solver</th>\n",
       "      <th>director_kws</th>\n",
       "      <th>use_genre</th>\n",
       "      <th>use_years</th>\n",
       "      <th>use_director</th>\n",
       "    </tr>\n",
       "  </thead>\n",
       "  <tbody>\n",
       "    <tr>\n",
       "      <th>28</th>\n",
       "      <td>0.897083</td>\n",
       "      <td>0.678134</td>\n",
       "      <td>0.1</td>\n",
       "      <td>balanced</td>\n",
       "      <td>l2</td>\n",
       "      <td>saga</td>\n",
       "      <td>{'min_cnt_movies': 0}</td>\n",
       "      <td>True</td>\n",
       "      <td>True</td>\n",
       "      <td>True</td>\n",
       "    </tr>\n",
       "    <tr>\n",
       "      <th>16</th>\n",
       "      <td>0.897082</td>\n",
       "      <td>0.678119</td>\n",
       "      <td>1.0</td>\n",
       "      <td>balanced</td>\n",
       "      <td>l2</td>\n",
       "      <td>saga</td>\n",
       "      <td>{'min_cnt_movies': 0}</td>\n",
       "      <td>True</td>\n",
       "      <td>True</td>\n",
       "      <td>True</td>\n",
       "    </tr>\n",
       "    <tr>\n",
       "      <th>4</th>\n",
       "      <td>0.897082</td>\n",
       "      <td>0.678117</td>\n",
       "      <td>10.0</td>\n",
       "      <td>balanced</td>\n",
       "      <td>l2</td>\n",
       "      <td>saga</td>\n",
       "      <td>{'min_cnt_movies': 0}</td>\n",
       "      <td>True</td>\n",
       "      <td>True</td>\n",
       "      <td>True</td>\n",
       "    </tr>\n",
       "    <tr>\n",
       "      <th>1</th>\n",
       "      <td>0.897081</td>\n",
       "      <td>0.678117</td>\n",
       "      <td>10.0</td>\n",
       "      <td>balanced</td>\n",
       "      <td>l1</td>\n",
       "      <td>saga</td>\n",
       "      <td>{'min_cnt_movies': 0}</td>\n",
       "      <td>True</td>\n",
       "      <td>True</td>\n",
       "      <td>True</td>\n",
       "    </tr>\n",
       "    <tr>\n",
       "      <th>13</th>\n",
       "      <td>0.897081</td>\n",
       "      <td>0.678109</td>\n",
       "      <td>1.0</td>\n",
       "      <td>balanced</td>\n",
       "      <td>l1</td>\n",
       "      <td>saga</td>\n",
       "      <td>{'min_cnt_movies': 0}</td>\n",
       "      <td>True</td>\n",
       "      <td>True</td>\n",
       "      <td>True</td>\n",
       "    </tr>\n",
       "    <tr>\n",
       "      <th>25</th>\n",
       "      <td>0.897078</td>\n",
       "      <td>0.678065</td>\n",
       "      <td>0.1</td>\n",
       "      <td>balanced</td>\n",
       "      <td>l1</td>\n",
       "      <td>saga</td>\n",
       "      <td>{'min_cnt_movies': 0}</td>\n",
       "      <td>True</td>\n",
       "      <td>True</td>\n",
       "      <td>True</td>\n",
       "    </tr>\n",
       "    <tr>\n",
       "      <th>34</th>\n",
       "      <td>0.894868</td>\n",
       "      <td>0.670786</td>\n",
       "      <td>0.1</td>\n",
       "      <td>None</td>\n",
       "      <td>l2</td>\n",
       "      <td>saga</td>\n",
       "      <td>{'min_cnt_movies': 0}</td>\n",
       "      <td>True</td>\n",
       "      <td>True</td>\n",
       "      <td>True</td>\n",
       "    </tr>\n",
       "    <tr>\n",
       "      <th>22</th>\n",
       "      <td>0.894850</td>\n",
       "      <td>0.670776</td>\n",
       "      <td>1.0</td>\n",
       "      <td>None</td>\n",
       "      <td>l2</td>\n",
       "      <td>saga</td>\n",
       "      <td>{'min_cnt_movies': 0}</td>\n",
       "      <td>True</td>\n",
       "      <td>True</td>\n",
       "      <td>True</td>\n",
       "    </tr>\n",
       "    <tr>\n",
       "      <th>10</th>\n",
       "      <td>0.894848</td>\n",
       "      <td>0.670783</td>\n",
       "      <td>10.0</td>\n",
       "      <td>None</td>\n",
       "      <td>l2</td>\n",
       "      <td>saga</td>\n",
       "      <td>{'min_cnt_movies': 0}</td>\n",
       "      <td>True</td>\n",
       "      <td>True</td>\n",
       "      <td>True</td>\n",
       "    </tr>\n",
       "    <tr>\n",
       "      <th>7</th>\n",
       "      <td>0.894848</td>\n",
       "      <td>0.670780</td>\n",
       "      <td>10.0</td>\n",
       "      <td>None</td>\n",
       "      <td>l1</td>\n",
       "      <td>saga</td>\n",
       "      <td>{'min_cnt_movies': 0}</td>\n",
       "      <td>True</td>\n",
       "      <td>True</td>\n",
       "      <td>True</td>\n",
       "    </tr>\n",
       "    <tr>\n",
       "      <th>19</th>\n",
       "      <td>0.894846</td>\n",
       "      <td>0.670773</td>\n",
       "      <td>1.0</td>\n",
       "      <td>None</td>\n",
       "      <td>l1</td>\n",
       "      <td>saga</td>\n",
       "      <td>{'min_cnt_movies': 0}</td>\n",
       "      <td>True</td>\n",
       "      <td>True</td>\n",
       "      <td>True</td>\n",
       "    </tr>\n",
       "    <tr>\n",
       "      <th>31</th>\n",
       "      <td>0.894827</td>\n",
       "      <td>0.670724</td>\n",
       "      <td>0.1</td>\n",
       "      <td>None</td>\n",
       "      <td>l1</td>\n",
       "      <td>saga</td>\n",
       "      <td>{'min_cnt_movies': 0}</td>\n",
       "      <td>True</td>\n",
       "      <td>True</td>\n",
       "      <td>True</td>\n",
       "    </tr>\n",
       "    <tr>\n",
       "      <th>26</th>\n",
       "      <td>0.819492</td>\n",
       "      <td>0.711486</td>\n",
       "      <td>0.1</td>\n",
       "      <td>balanced</td>\n",
       "      <td>l1</td>\n",
       "      <td>saga</td>\n",
       "      <td>{'min_cnt_movies': 3}</td>\n",
       "      <td>True</td>\n",
       "      <td>True</td>\n",
       "      <td>True</td>\n",
       "    </tr>\n",
       "    <tr>\n",
       "      <th>14</th>\n",
       "      <td>0.819487</td>\n",
       "      <td>0.711459</td>\n",
       "      <td>1.0</td>\n",
       "      <td>balanced</td>\n",
       "      <td>l1</td>\n",
       "      <td>saga</td>\n",
       "      <td>{'min_cnt_movies': 3}</td>\n",
       "      <td>True</td>\n",
       "      <td>True</td>\n",
       "      <td>True</td>\n",
       "    </tr>\n",
       "    <tr>\n",
       "      <th>29</th>\n",
       "      <td>0.819487</td>\n",
       "      <td>0.711454</td>\n",
       "      <td>0.1</td>\n",
       "      <td>balanced</td>\n",
       "      <td>l2</td>\n",
       "      <td>saga</td>\n",
       "      <td>{'min_cnt_movies': 3}</td>\n",
       "      <td>True</td>\n",
       "      <td>True</td>\n",
       "      <td>True</td>\n",
       "    </tr>\n",
       "    <tr>\n",
       "      <th>2</th>\n",
       "      <td>0.819487</td>\n",
       "      <td>0.711458</td>\n",
       "      <td>10.0</td>\n",
       "      <td>balanced</td>\n",
       "      <td>l1</td>\n",
       "      <td>saga</td>\n",
       "      <td>{'min_cnt_movies': 3}</td>\n",
       "      <td>True</td>\n",
       "      <td>True</td>\n",
       "      <td>True</td>\n",
       "    </tr>\n",
       "    <tr>\n",
       "      <th>17</th>\n",
       "      <td>0.819487</td>\n",
       "      <td>0.711463</td>\n",
       "      <td>1.0</td>\n",
       "      <td>balanced</td>\n",
       "      <td>l2</td>\n",
       "      <td>saga</td>\n",
       "      <td>{'min_cnt_movies': 3}</td>\n",
       "      <td>True</td>\n",
       "      <td>True</td>\n",
       "      <td>True</td>\n",
       "    </tr>\n",
       "    <tr>\n",
       "      <th>5</th>\n",
       "      <td>0.819486</td>\n",
       "      <td>0.711458</td>\n",
       "      <td>10.0</td>\n",
       "      <td>balanced</td>\n",
       "      <td>l2</td>\n",
       "      <td>saga</td>\n",
       "      <td>{'min_cnt_movies': 3}</td>\n",
       "      <td>True</td>\n",
       "      <td>True</td>\n",
       "      <td>True</td>\n",
       "    </tr>\n",
       "    <tr>\n",
       "      <th>32</th>\n",
       "      <td>0.818952</td>\n",
       "      <td>0.713267</td>\n",
       "      <td>0.1</td>\n",
       "      <td>None</td>\n",
       "      <td>l1</td>\n",
       "      <td>saga</td>\n",
       "      <td>{'min_cnt_movies': 3}</td>\n",
       "      <td>True</td>\n",
       "      <td>True</td>\n",
       "      <td>True</td>\n",
       "    </tr>\n",
       "    <tr>\n",
       "      <th>35</th>\n",
       "      <td>0.818951</td>\n",
       "      <td>0.713290</td>\n",
       "      <td>0.1</td>\n",
       "      <td>None</td>\n",
       "      <td>l2</td>\n",
       "      <td>saga</td>\n",
       "      <td>{'min_cnt_movies': 3}</td>\n",
       "      <td>True</td>\n",
       "      <td>True</td>\n",
       "      <td>True</td>\n",
       "    </tr>\n",
       "    <tr>\n",
       "      <th>23</th>\n",
       "      <td>0.818940</td>\n",
       "      <td>0.713303</td>\n",
       "      <td>1.0</td>\n",
       "      <td>None</td>\n",
       "      <td>l2</td>\n",
       "      <td>saga</td>\n",
       "      <td>{'min_cnt_movies': 3}</td>\n",
       "      <td>True</td>\n",
       "      <td>True</td>\n",
       "      <td>True</td>\n",
       "    </tr>\n",
       "    <tr>\n",
       "      <th>11</th>\n",
       "      <td>0.818938</td>\n",
       "      <td>0.713301</td>\n",
       "      <td>10.0</td>\n",
       "      <td>None</td>\n",
       "      <td>l2</td>\n",
       "      <td>saga</td>\n",
       "      <td>{'min_cnt_movies': 3}</td>\n",
       "      <td>True</td>\n",
       "      <td>True</td>\n",
       "      <td>True</td>\n",
       "    </tr>\n",
       "    <tr>\n",
       "      <th>8</th>\n",
       "      <td>0.818938</td>\n",
       "      <td>0.713297</td>\n",
       "      <td>10.0</td>\n",
       "      <td>None</td>\n",
       "      <td>l1</td>\n",
       "      <td>saga</td>\n",
       "      <td>{'min_cnt_movies': 3}</td>\n",
       "      <td>True</td>\n",
       "      <td>True</td>\n",
       "      <td>True</td>\n",
       "    </tr>\n",
       "    <tr>\n",
       "      <th>20</th>\n",
       "      <td>0.818933</td>\n",
       "      <td>0.713295</td>\n",
       "      <td>1.0</td>\n",
       "      <td>None</td>\n",
       "      <td>l1</td>\n",
       "      <td>saga</td>\n",
       "      <td>{'min_cnt_movies': 3}</td>\n",
       "      <td>True</td>\n",
       "      <td>True</td>\n",
       "      <td>True</td>\n",
       "    </tr>\n",
       "    <tr>\n",
       "      <th>6</th>\n",
       "      <td>0.741923</td>\n",
       "      <td>0.710274</td>\n",
       "      <td>10.0</td>\n",
       "      <td>None</td>\n",
       "      <td>l1</td>\n",
       "      <td>saga</td>\n",
       "      <td>None</td>\n",
       "      <td>True</td>\n",
       "      <td>True</td>\n",
       "      <td>False</td>\n",
       "    </tr>\n",
       "    <tr>\n",
       "      <th>21</th>\n",
       "      <td>0.741923</td>\n",
       "      <td>0.710265</td>\n",
       "      <td>1.0</td>\n",
       "      <td>None</td>\n",
       "      <td>l2</td>\n",
       "      <td>saga</td>\n",
       "      <td>None</td>\n",
       "      <td>True</td>\n",
       "      <td>True</td>\n",
       "      <td>False</td>\n",
       "    </tr>\n",
       "    <tr>\n",
       "      <th>9</th>\n",
       "      <td>0.741923</td>\n",
       "      <td>0.710274</td>\n",
       "      <td>10.0</td>\n",
       "      <td>None</td>\n",
       "      <td>l2</td>\n",
       "      <td>saga</td>\n",
       "      <td>None</td>\n",
       "      <td>True</td>\n",
       "      <td>True</td>\n",
       "      <td>False</td>\n",
       "    </tr>\n",
       "    <tr>\n",
       "      <th>33</th>\n",
       "      <td>0.741922</td>\n",
       "      <td>0.710282</td>\n",
       "      <td>0.1</td>\n",
       "      <td>None</td>\n",
       "      <td>l2</td>\n",
       "      <td>saga</td>\n",
       "      <td>None</td>\n",
       "      <td>True</td>\n",
       "      <td>True</td>\n",
       "      <td>False</td>\n",
       "    </tr>\n",
       "    <tr>\n",
       "      <th>18</th>\n",
       "      <td>0.741905</td>\n",
       "      <td>0.710271</td>\n",
       "      <td>1.0</td>\n",
       "      <td>None</td>\n",
       "      <td>l1</td>\n",
       "      <td>saga</td>\n",
       "      <td>None</td>\n",
       "      <td>True</td>\n",
       "      <td>True</td>\n",
       "      <td>False</td>\n",
       "    </tr>\n",
       "    <tr>\n",
       "      <th>27</th>\n",
       "      <td>0.741891</td>\n",
       "      <td>0.709547</td>\n",
       "      <td>0.1</td>\n",
       "      <td>balanced</td>\n",
       "      <td>l2</td>\n",
       "      <td>saga</td>\n",
       "      <td>None</td>\n",
       "      <td>True</td>\n",
       "      <td>True</td>\n",
       "      <td>False</td>\n",
       "    </tr>\n",
       "    <tr>\n",
       "      <th>12</th>\n",
       "      <td>0.741891</td>\n",
       "      <td>0.709547</td>\n",
       "      <td>1.0</td>\n",
       "      <td>balanced</td>\n",
       "      <td>l1</td>\n",
       "      <td>saga</td>\n",
       "      <td>None</td>\n",
       "      <td>True</td>\n",
       "      <td>True</td>\n",
       "      <td>False</td>\n",
       "    </tr>\n",
       "    <tr>\n",
       "      <th>0</th>\n",
       "      <td>0.741891</td>\n",
       "      <td>0.709546</td>\n",
       "      <td>10.0</td>\n",
       "      <td>balanced</td>\n",
       "      <td>l1</td>\n",
       "      <td>saga</td>\n",
       "      <td>None</td>\n",
       "      <td>True</td>\n",
       "      <td>True</td>\n",
       "      <td>False</td>\n",
       "    </tr>\n",
       "    <tr>\n",
       "      <th>3</th>\n",
       "      <td>0.741891</td>\n",
       "      <td>0.709547</td>\n",
       "      <td>10.0</td>\n",
       "      <td>balanced</td>\n",
       "      <td>l2</td>\n",
       "      <td>saga</td>\n",
       "      <td>None</td>\n",
       "      <td>True</td>\n",
       "      <td>True</td>\n",
       "      <td>False</td>\n",
       "    </tr>\n",
       "    <tr>\n",
       "      <th>15</th>\n",
       "      <td>0.741891</td>\n",
       "      <td>0.709546</td>\n",
       "      <td>1.0</td>\n",
       "      <td>balanced</td>\n",
       "      <td>l2</td>\n",
       "      <td>saga</td>\n",
       "      <td>None</td>\n",
       "      <td>True</td>\n",
       "      <td>True</td>\n",
       "      <td>False</td>\n",
       "    </tr>\n",
       "    <tr>\n",
       "      <th>24</th>\n",
       "      <td>0.741880</td>\n",
       "      <td>0.709540</td>\n",
       "      <td>0.1</td>\n",
       "      <td>balanced</td>\n",
       "      <td>l1</td>\n",
       "      <td>saga</td>\n",
       "      <td>None</td>\n",
       "      <td>True</td>\n",
       "      <td>True</td>\n",
       "      <td>False</td>\n",
       "    </tr>\n",
       "    <tr>\n",
       "      <th>30</th>\n",
       "      <td>0.741859</td>\n",
       "      <td>0.710376</td>\n",
       "      <td>0.1</td>\n",
       "      <td>None</td>\n",
       "      <td>l1</td>\n",
       "      <td>saga</td>\n",
       "      <td>None</td>\n",
       "      <td>True</td>\n",
       "      <td>True</td>\n",
       "      <td>False</td>\n",
       "    </tr>\n",
       "  </tbody>\n",
       "</table>\n",
       "</div>"
      ],
      "text/plain": [
       "    train_auc   dev_auc     C class_weight penalty solver  \\\n",
       "28   0.897083  0.678134   0.1     balanced      l2   saga   \n",
       "16   0.897082  0.678119   1.0     balanced      l2   saga   \n",
       "4    0.897082  0.678117  10.0     balanced      l2   saga   \n",
       "1    0.897081  0.678117  10.0     balanced      l1   saga   \n",
       "13   0.897081  0.678109   1.0     balanced      l1   saga   \n",
       "25   0.897078  0.678065   0.1     balanced      l1   saga   \n",
       "34   0.894868  0.670786   0.1         None      l2   saga   \n",
       "22   0.894850  0.670776   1.0         None      l2   saga   \n",
       "10   0.894848  0.670783  10.0         None      l2   saga   \n",
       "7    0.894848  0.670780  10.0         None      l1   saga   \n",
       "19   0.894846  0.670773   1.0         None      l1   saga   \n",
       "31   0.894827  0.670724   0.1         None      l1   saga   \n",
       "26   0.819492  0.711486   0.1     balanced      l1   saga   \n",
       "14   0.819487  0.711459   1.0     balanced      l1   saga   \n",
       "29   0.819487  0.711454   0.1     balanced      l2   saga   \n",
       "2    0.819487  0.711458  10.0     balanced      l1   saga   \n",
       "17   0.819487  0.711463   1.0     balanced      l2   saga   \n",
       "5    0.819486  0.711458  10.0     balanced      l2   saga   \n",
       "32   0.818952  0.713267   0.1         None      l1   saga   \n",
       "35   0.818951  0.713290   0.1         None      l2   saga   \n",
       "23   0.818940  0.713303   1.0         None      l2   saga   \n",
       "11   0.818938  0.713301  10.0         None      l2   saga   \n",
       "8    0.818938  0.713297  10.0         None      l1   saga   \n",
       "20   0.818933  0.713295   1.0         None      l1   saga   \n",
       "6    0.741923  0.710274  10.0         None      l1   saga   \n",
       "21   0.741923  0.710265   1.0         None      l2   saga   \n",
       "9    0.741923  0.710274  10.0         None      l2   saga   \n",
       "33   0.741922  0.710282   0.1         None      l2   saga   \n",
       "18   0.741905  0.710271   1.0         None      l1   saga   \n",
       "27   0.741891  0.709547   0.1     balanced      l2   saga   \n",
       "12   0.741891  0.709547   1.0     balanced      l1   saga   \n",
       "0    0.741891  0.709546  10.0     balanced      l1   saga   \n",
       "3    0.741891  0.709547  10.0     balanced      l2   saga   \n",
       "15   0.741891  0.709546   1.0     balanced      l2   saga   \n",
       "24   0.741880  0.709540   0.1     balanced      l1   saga   \n",
       "30   0.741859  0.710376   0.1         None      l1   saga   \n",
       "\n",
       "             director_kws  use_genre  use_years  use_director  \n",
       "28  {'min_cnt_movies': 0}       True       True          True  \n",
       "16  {'min_cnt_movies': 0}       True       True          True  \n",
       "4   {'min_cnt_movies': 0}       True       True          True  \n",
       "1   {'min_cnt_movies': 0}       True       True          True  \n",
       "13  {'min_cnt_movies': 0}       True       True          True  \n",
       "25  {'min_cnt_movies': 0}       True       True          True  \n",
       "34  {'min_cnt_movies': 0}       True       True          True  \n",
       "22  {'min_cnt_movies': 0}       True       True          True  \n",
       "10  {'min_cnt_movies': 0}       True       True          True  \n",
       "7   {'min_cnt_movies': 0}       True       True          True  \n",
       "19  {'min_cnt_movies': 0}       True       True          True  \n",
       "31  {'min_cnt_movies': 0}       True       True          True  \n",
       "26  {'min_cnt_movies': 3}       True       True          True  \n",
       "14  {'min_cnt_movies': 3}       True       True          True  \n",
       "29  {'min_cnt_movies': 3}       True       True          True  \n",
       "2   {'min_cnt_movies': 3}       True       True          True  \n",
       "17  {'min_cnt_movies': 3}       True       True          True  \n",
       "5   {'min_cnt_movies': 3}       True       True          True  \n",
       "32  {'min_cnt_movies': 3}       True       True          True  \n",
       "35  {'min_cnt_movies': 3}       True       True          True  \n",
       "23  {'min_cnt_movies': 3}       True       True          True  \n",
       "11  {'min_cnt_movies': 3}       True       True          True  \n",
       "8   {'min_cnt_movies': 3}       True       True          True  \n",
       "20  {'min_cnt_movies': 3}       True       True          True  \n",
       "6                    None       True       True         False  \n",
       "21                   None       True       True         False  \n",
       "9                    None       True       True         False  \n",
       "33                   None       True       True         False  \n",
       "18                   None       True       True         False  \n",
       "27                   None       True       True         False  \n",
       "12                   None       True       True         False  \n",
       "0                    None       True       True         False  \n",
       "3                    None       True       True         False  \n",
       "15                   None       True       True         False  \n",
       "24                   None       True       True         False  \n",
       "30                   None       True       True         False  "
      ]
     },
     "execution_count": 32,
     "metadata": {},
     "output_type": "execute_result"
    }
   ],
   "source": [
    "experiments_df.sort_values('train_auc', ascending=False)"
   ]
  },
  {
   "cell_type": "code",
   "execution_count": 33,
   "metadata": {},
   "outputs": [],
   "source": [
    "best = max(experiment_outputs, key=lambda x: x['dev_metrics']['roc_auc'])"
   ]
  },
  {
   "cell_type": "code",
   "execution_count": 34,
   "metadata": {},
   "outputs": [
    {
     "data": {
      "text/plain": [
       "{'model': Pipeline(memory=None,\n",
       "          steps=[('pipeline',\n",
       "                  Pipeline(memory=None,\n",
       "                           steps=[('featureunion',\n",
       "                                   FeatureUnion(n_jobs=None,\n",
       "                                                transformer_list=[('pipeline-1',\n",
       "                                                                   Pipeline(memory=None,\n",
       "                                                                            steps=[('yearsago',\n",
       "                                                                                    YearsAgo()),\n",
       "                                                                                   ('dictvectorizer',\n",
       "                                                                                    DictVectorizer(dtype=<class 'numpy.float64'>,\n",
       "                                                                                                   separator='=',\n",
       "                                                                                                   sort=True,\n",
       "                                                                                                   sparse=False))],\n",
       "                                                                            verbose=False)),\n",
       "                                                                  ('pipeline-2',\n",
       "                                                                   Pipeline(memory=None,\n",
       "                                                                            step...\n",
       "                                  ('standardscaler',\n",
       "                                   StandardScaler(copy=True, with_mean=True,\n",
       "                                                  with_std=True))],\n",
       "                           verbose=False)),\n",
       "                 ('logisticregression',\n",
       "                  LogisticRegression(C=1.0, class_weight=None, dual=False,\n",
       "                                     fit_intercept=True, intercept_scaling=1,\n",
       "                                     l1_ratio=None, max_iter=100,\n",
       "                                     multi_class='auto', n_jobs=None,\n",
       "                                     penalty='l2', random_state=None,\n",
       "                                     solver='saga', tol=0.0001, verbose=0,\n",
       "                                     warm_start=False))],\n",
       "          verbose=False),\n",
       " 'train_metrics': {'f_0.5': 0.43367234865126086,\n",
       "  'roc_auc': 0.8189396270617204},\n",
       " 'dev_metrics': {'f_0.5': 0.20448649473523578, 'roc_auc': 0.7133033156699764},\n",
       " 'params': {'model': {'C': 1.0,\n",
       "   'class_weight': None,\n",
       "   'penalty': 'l2',\n",
       "   'solver': 'saga'},\n",
       "  'feature': {'director_kws': {'min_cnt_movies': 3},\n",
       "   'post_processing': StandardScaler(copy=True, with_mean=True, with_std=True),\n",
       "   'use_genre': True,\n",
       "   'use_years': True,\n",
       "   'use_director': True}}}"
      ]
     },
     "execution_count": 34,
     "metadata": {},
     "output_type": "execute_result"
    }
   ],
   "source": [
    "best"
   ]
  },
  {
   "cell_type": "markdown",
   "metadata": {},
   "source": [
    "### Para pensar 🤔\n",
    "\n",
    "Usando este código de base, como implementarías random search?"
   ]
  },
  {
   "cell_type": "markdown",
   "metadata": {},
   "source": [
    "# Hyperopt: Sequential Model Based Optimization\n",
    "\n",
    "https://districtdatalabs.silvrback.com/parameter-tuning-with-hyperopt"
   ]
  },
  {
   "cell_type": "code",
   "execution_count": null,
   "metadata": {},
   "outputs": [],
   "source": [
    "!pip install hyperopt"
   ]
  },
  {
   "cell_type": "code",
   "execution_count": 49,
   "metadata": {},
   "outputs": [],
   "source": [
    "import numpy as np\n",
    "from hyperopt import hp\n",
    "\n",
    "lr_space = {\n",
    "    'model_params': {\n",
    "            'penalty': hp.choice('penalty', ['l1', 'l2']),\n",
    "            'C': hp.loguniform('C', np.log(0.001), np.log(100)),\n",
    "            'class_weight': hp.choice('class_weight', ['balanced', None]),\n",
    "            'solver': 'saga',\n",
    "        },\n",
    "    \n",
    "    'feature_params': {\n",
    "        'use_years': hp.choice('use_years', [True, False]),\n",
    "        'use_genre': hp.choice('use_genre', [True, False]), \n",
    "        # Tenemos 2 hyper parametros interdependientes, solo seteamos director_kws\n",
    "        'director_kws': hp.choice('director_kws', \n",
    "                    [None, dict(min_cnt_movies=0), \n",
    "                     dict(min_cnt_movies=1), dict(min_cnt_movies=2), dict(min_cnt_movies=3),\n",
    "                     dict(min_cnt_movies=6), dict(min_cnt_movies=8), dict(min_cnt_movies=10)\n",
    "                    ]\n",
    "        ),\n",
    "        'post_processing': StandardScaler() # siempre hacemos esto porque es regresion logistica\n",
    "    }\n",
    "}"
   ]
  },
  {
   "cell_type": "code",
   "execution_count": 50,
   "metadata": {},
   "outputs": [
    {
     "name": "stdout",
     "output_type": "stream",
     "text": [
      "100%|██████████| 100/100 [17:44<00:00, 10.65s/trial, best loss: -0.7141907217934876]\n"
     ]
    }
   ],
   "source": [
    "import pickle\n",
    "from hyperopt import fmin, tpe, hp, STATUS_OK, Trials, STATUS_FAIL\n",
    "\n",
    "def objective(x):\n",
    "    feature_params = x['feature_params']\n",
    "    model_params = x['model_params']\n",
    "    \n",
    "    empty_features = (\n",
    "        not feature_params['use_years'] and \n",
    "        not feature_params['use_genre'] and \n",
    "        feature_params['director_kws'] is None\n",
    "    )\n",
    "    if empty_features:   \n",
    "        # esta combinacion no tiene sentido probarla porque no usa ningun feature\n",
    "        # misma cosa que en el grid search\n",
    "        return {'loss': 1000, 'status': STATUS_FAIL}\n",
    "\n",
    "    exp_output = experiment_lr(model_params, feature_params, X_train, y_train, X_test, y_test)\n",
    "    exp_output['loss'] = -exp_output['dev_metrics']['roc_auc']\n",
    "    exp_output['status'] = STATUS_OK\n",
    "    return exp_output\n",
    "\n",
    "trials = Trials()\n",
    "fmin(\n",
    "    objective,\n",
    "    space=lr_space,\n",
    "    algo=tpe.suggest,\n",
    "    max_evals=100,\n",
    "    trials=trials\n",
    ");"
   ]
  },
  {
   "cell_type": "code",
   "execution_count": 54,
   "metadata": {},
   "outputs": [
    {
     "data": {
      "text/plain": [
       "{'state': 2,\n",
       " 'tid': 62,\n",
       " 'spec': None,\n",
       " 'result': {'model': Pipeline(memory=None,\n",
       "           steps=[('pipeline',\n",
       "                   Pipeline(memory=None,\n",
       "                            steps=[('featureunion',\n",
       "                                    FeatureUnion(n_jobs=None,\n",
       "                                                 transformer_list=[('pipeline-1',\n",
       "                                                                    Pipeline(memory=None,\n",
       "                                                                             steps=[('yearsago',\n",
       "                                                                                     YearsAgo()),\n",
       "                                                                                    ('dictvectorizer',\n",
       "                                                                                     DictVectorizer(dtype=<class 'numpy.float64'>,\n",
       "                                                                                                    separator='=',\n",
       "                                                                                                    sort=True,\n",
       "                                                                                                    sparse=False))],\n",
       "                                                                             verbose=False)),\n",
       "                                                                   ('pipeline-2',\n",
       "                                                                    Pipeline(memory=None,\n",
       "                                                                             step...\n",
       "                                    StandardScaler(copy=True, with_mean=True,\n",
       "                                                   with_std=True))],\n",
       "                            verbose=False)),\n",
       "                  ('logisticregression',\n",
       "                   LogisticRegression(C=47.31299702493163, class_weight=None,\n",
       "                                      dual=False, fit_intercept=True,\n",
       "                                      intercept_scaling=1, l1_ratio=None,\n",
       "                                      max_iter=100, multi_class='auto',\n",
       "                                      n_jobs=None, penalty='l1',\n",
       "                                      random_state=None, solver='saga',\n",
       "                                      tol=0.0001, verbose=0, warm_start=False))],\n",
       "           verbose=False),\n",
       "  'train_metrics': {'f_0.5': 0.36376224968044313,\n",
       "   'roc_auc': 0.7992492417043618},\n",
       "  'dev_metrics': {'f_0.5': 0.15019115237575092, 'roc_auc': 0.7141907217934876},\n",
       "  'params': {'model': {'C': 47.31299702493163,\n",
       "    'class_weight': None,\n",
       "    'penalty': 'l1',\n",
       "    'solver': 'saga'},\n",
       "   'feature': {'director_kws': {'min_cnt_movies': 6},\n",
       "    'post_processing': StandardScaler(copy=True, with_mean=True, with_std=True),\n",
       "    'use_genre': True,\n",
       "    'use_years': True,\n",
       "    'use_director': True}},\n",
       "  'loss': -0.7141907217934876,\n",
       "  'status': 'ok'},\n",
       " 'misc': {'tid': 62,\n",
       "  'cmd': ('domain_attachment', 'FMinIter_Domain'),\n",
       "  'workdir': None,\n",
       "  'idxs': {'C': [62],\n",
       "   'class_weight': [62],\n",
       "   'director_kws': [62],\n",
       "   'penalty': [62],\n",
       "   'use_genre': [62],\n",
       "   'use_years': [62]},\n",
       "  'vals': {'C': [47.31299702493163],\n",
       "   'class_weight': [1],\n",
       "   'director_kws': [5],\n",
       "   'penalty': [0],\n",
       "   'use_genre': [0],\n",
       "   'use_years': [0]}},\n",
       " 'exp_key': None,\n",
       " 'owner': None,\n",
       " 'version': 0,\n",
       " 'book_time': datetime.datetime(2020, 10, 3, 4, 33, 10, 231000),\n",
       " 'refresh_time': datetime.datetime(2020, 10, 3, 4, 33, 22, 23000)}"
      ]
     },
     "execution_count": 54,
     "metadata": {},
     "output_type": "execute_result"
    }
   ],
   "source": [
    "trials.best_trial"
   ]
  },
  {
   "cell_type": "markdown",
   "metadata": {},
   "source": [
    "## Para pensar 🤔\n",
    "\n",
    "* Cómo se adaptaría todo esto para usar GradientBoostingClassifier, o lightgbm?\n",
    "* Qué pasa promediáramos la mejor regresion logística con el mejor arbol? Mejoraría?\n",
    "* Valdría la pena esa ganancia en performance para el problema que queremos resolver? Al principio del proyecto? 1 año despues de que arranco? Nunca?\n",
    "\n",
    "* Si hiciste algun feature transformer extra? Cómo evaluarías si ese transformer mejora?"
   ]
  },
  {
   "cell_type": "markdown",
   "metadata": {},
   "source": [
    "# Auto sklearn"
   ]
  },
  {
   "cell_type": "code",
   "execution_count": null,
   "metadata": {},
   "outputs": [],
   "source": [
    "# para instalar en colab\n",
    "!apt-get install swig -y\n",
    "!pip install Cython numpy\n",
    "\n",
    "!pip3 install auto-sklearn"
   ]
  },
  {
   "cell_type": "code",
   "execution_count": 15,
   "metadata": {},
   "outputs": [
    {
     "name": "stderr",
     "output_type": "stream",
     "text": [
      "/Users/przivic/anaconda3/lib/python3.8/site-packages/sklearn/base.py:193: FutureWarning: From version 0.24, get_params will raise an AttributeError if a parameter cannot be retrieved as an instance attribute. Previously it would return None.\n",
      "  warnings.warn('From version 0.24, get_params will raise an '\n"
     ]
    },
    {
     "data": {
      "text/plain": [
       "Pipeline(memory=None,\n",
       "         steps=[('pipeline',\n",
       "                 Pipeline(memory=None,\n",
       "                          steps=[('featureunion',\n",
       "                                  FeatureUnion(n_jobs=None,\n",
       "                                               transformer_list=[('pipeline-1',\n",
       "                                                                  Pipeline(memory=None,\n",
       "                                                                           steps=[('genredummies',\n",
       "                                                                                   GenreDummies()),\n",
       "                                                                                  ('dictvectorizer',\n",
       "                                                                                   DictVectorizer(dtype=<class 'numpy.float64'>,\n",
       "                                                                                                  separator='=',\n",
       "                                                                                                  sort=True,\n",
       "                                                                                                  sparse=False))],\n",
       "                                                                           verbose=False)),\n",
       "                                                                 ('pipeline-2',\n",
       "                                                                  Pipeline(memory=N...\n",
       "                                       initial_configurations_via_metalearning=25,\n",
       "                                       logging_config=None,\n",
       "                                       max_models_on_disc=50,\n",
       "                                       metadata_directory=None, metric=None,\n",
       "                                       ml_memory_limit=3072, n_jobs=None,\n",
       "                                       output_folder=None,\n",
       "                                       per_run_time_limit=360,\n",
       "                                       resampling_strategy='holdout',\n",
       "                                       resampling_strategy_arguments=None,\n",
       "                                       seed=1, smac_scenario_args=None,\n",
       "                                       time_left_for_this_task=3600,\n",
       "                                       tmp_folder=None))],\n",
       "         verbose=False)"
      ]
     },
     "execution_count": 15,
     "metadata": {},
     "output_type": "execute_result"
    }
   ],
   "source": [
    "import autosklearn.classification\n",
    "from autosklearn.metrics import roc_auc\n",
    "\n",
    "model = get_model_pipe(\n",
    "    features_pipe=get_features_pipe(\n",
    "        use_years=False, use_director=True, use_genre=True, post_processing=StandardScaler()\n",
    "    ),\n",
    "    estimator=autosklearn.classification.AutoSklearnClassifier(metric=roc_auc)\n",
    ")\n",
    "\n",
    "\n",
    "model.fit(X_train, y_train)"
   ]
  },
  {
   "cell_type": "code",
   "execution_count": 17,
   "metadata": {},
   "outputs": [
    {
     "data": {
      "text/plain": [
       "{'f_0.5': 0.508147053785543, 'roc_auc': 0.900888584449598}"
      ]
     },
     "execution_count": 17,
     "metadata": {},
     "output_type": "execute_result"
    }
   ],
   "source": [
    "get_metrics(model, X_train, y_train)"
   ]
  },
  {
   "cell_type": "code",
   "execution_count": 18,
   "metadata": {},
   "outputs": [
    {
     "data": {
      "text/plain": [
       "{'f_0.5': 0.40168726152553647, 'roc_auc': 0.7491232999753378}"
      ]
     },
     "execution_count": 18,
     "metadata": {},
     "output_type": "execute_result"
    }
   ],
   "source": [
    "get_metrics(model, X_dev, y_dev)"
   ]
  },
  {
   "cell_type": "markdown",
   "metadata": {},
   "source": [
    "## Ojo! 👀\n",
    "\n",
    "AutoSklearnClassifier usa modelos no lineales y lo de arriba esta todo hecho con una regresion logística!"
   ]
  },
  {
   "cell_type": "code",
   "execution_count": null,
   "metadata": {},
   "outputs": [],
   "source": []
  }
 ],
 "metadata": {
  "kernelspec": {
   "display_name": "Python 3",
   "language": "python",
   "name": "python3"
  },
  "language_info": {
   "codemirror_mode": {
    "name": "ipython",
    "version": 3
   },
   "file_extension": ".py",
   "mimetype": "text/x-python",
   "name": "python",
   "nbconvert_exporter": "python",
   "pygments_lexer": "ipython3",
   "version": "3.8.3"
  }
 },
 "nbformat": 4,
 "nbformat_minor": 4
}
